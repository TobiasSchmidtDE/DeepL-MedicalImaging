{
 "cells": [
  {
   "cell_type": "code",
   "execution_count": null,
   "metadata": {},
   "outputs": [],
   "source": [
    "import os \n",
    "import datetime\n",
    "from pathlib import Path\n",
    "from dotenv import load_dotenv, find_dotenv\n",
    "\n",
    "basepath = Path(os.getcwd())\n",
    "# make sure your working directory is the repository root.\n",
    "if basepath.name != \"idp-radio-1\":\n",
    "    os.chdir(basepath.parent.parent.parent)\n",
    "load_dotenv(find_dotenv())\n",
    "\n",
    "%load_ext autoreload\n",
    "%autoreload 2\n",
    "os.getcwd()"
   ]
  },
  {
   "cell_type": "code",
   "execution_count": null,
   "metadata": {},
   "outputs": [],
   "source": [
    "import tensorflow as tf\n",
    "import tensorflow.keras as keras\n",
    "import pandas as pd\n",
    "import numpy as np\n",
    "from skimage.transform import resize\n",
    "from sklearn.metrics import classification_report\n",
    "from sklearn.model_selection import train_test_split\n",
    "from keras_preprocessing.image import ImageDataGenerator\n",
    "from tensorflow.keras.models import Model, load_model\n",
    "from tensorflow.keras.layers import Dense, GlobalAveragePooling2D\n",
    "from tensorflow.keras.applications import resnet_v2\n",
    "from tensorflow.keras.callbacks import TensorBoard\n",
    "from src.utils.save_model import save_model, model_set"
   ]
  },
  {
   "cell_type": "code",
   "execution_count": null,
   "metadata": {},
   "outputs": [],
   "source": [
    "print(\"GPUs Available:\\n\", str(tf.config.experimental.list_physical_devices('GPU')).replace(\"),\", \"),\\n \"))\n",
    "print(\"CPU Available:\\n\", str(tf.config.experimental.list_physical_devices('CPU')).replace(\"),\", \"),\\n \"))"
   ]
  },
  {
   "cell_type": "code",
   "execution_count": null,
   "metadata": {},
   "outputs": [],
   "source": [
    "DATASET_FOLDER = Path(os.environ.get(\"CHEXPERT_DATASET_DIRECTORY\"))\n",
    "SEED = 17\n",
    "\n",
    "dataset = DATASET_FOLDER.parent.name\n",
    "dataset_version = DATASET_FOLDER.name\n",
    "model_name = \"Resnet151V2\"\n",
    "model_version = \"1\"\n",
    "model_filename = model_name + \"_\" + datetime.datetime.now().strftime(\"%Y%m%d-%H%M%S\") + \".h5\"\n",
    "model_description = model_name + \" trained on dataset \" + dataset + \"_\" + dataset_version + \".\"\n",
    "\n",
    "model_description"
   ]
  },
  {
   "cell_type": "code",
   "execution_count": null,
   "metadata": {},
   "outputs": [],
   "source": [
    "data = pd.read_csv(str(DATASET_FOLDER / 'train.csv'))\n",
    "\n",
    "# preprocess\n",
    "data = data.fillna(0)\n",
    "\n",
    "# drop lateral images\n",
    "data = data[~data['Frontal/Lateral'].str.contains(\"Lateral\")]\n",
    "\n",
    "# drop unrelevant columns\n",
    "data = data.drop([\"Sex\", \"Age\", \"Frontal/Lateral\", \"AP/PA\"], axis=1)\n",
    "\n",
    "# deal with uncertanty (-1) values\n",
    "data = data.replace(-1,1)\n",
    "#data = data[:64]\n",
    "\n",
    "np.random.seed(SEED)\n",
    "data_train, data_test = train_test_split(data, test_size=0.2)\n",
    "data_train, data_val = train_test_split(data_train, test_size=0.2)\n",
    "\n",
    "\n",
    "# The dev dataset and full dataset have the features in different columns\n",
    "# we define this variable here to quickly switch between the two\n",
    "FEATURES_SLICE = slice(1, 15)  # slice(2, 16)\n",
    "data_train.columns[FEATURES_SLICE]"
   ]
  },
  {
   "cell_type": "code",
   "execution_count": null,
   "metadata": {},
   "outputs": [],
   "source": [
    "data_train.columns"
   ]
  },
  {
   "cell_type": "code",
   "execution_count": null,
   "metadata": {},
   "outputs": [],
   "source": [
    "train_datagen=ImageDataGenerator(rescale=1./255)\n",
    "valid_datagen=ImageDataGenerator(rescale=1./255.)\n",
    "test_datagen=ImageDataGenerator(rescale=1./255.)"
   ]
  },
  {
   "cell_type": "code",
   "execution_count": null,
   "metadata": {},
   "outputs": [],
   "source": [
    "target_size = (224, 224)\n",
    "train_generator = train_datagen.flow_from_dataframe(\n",
    "    dataframe=data_train,\n",
    "    directory=DATASET_FOLDER,\n",
    "    x_col='Path',\n",
    "    y_col=list(data_train.columns[FEATURES_SLICE]),\n",
    "    class_mode='other',\n",
    "    target_size=target_size,\n",
    "    batch_size=32\n",
    ")\n",
    "valid_generator = valid_datagen.flow_from_dataframe(\n",
    "    dataframe=data_val,\n",
    "    directory=DATASET_FOLDER,\n",
    "    x_col='Path',\n",
    "    y_col=list(data_val.columns[FEATURES_SLICE]),\n",
    "    class_mode='other',\n",
    "    target_size=target_size,\n",
    "    batch_size=32\n",
    ")\n",
    "test_generator = test_datagen.flow_from_dataframe(\n",
    "    dataframe=data_test,\n",
    "    directory=DATASET_FOLDER,\n",
    "    x_col=\"Path\",\n",
    "    y_col=list(data_test.columns[FEATURES_SLICE]),\n",
    "    class_mode=\"other\",\n",
    "    target_size=target_size,\n",
    "    shuffle=False,\n",
    "    batch_size=1\n",
    ")"
   ]
  },
  {
   "cell_type": "code",
   "execution_count": null,
   "metadata": {},
   "outputs": [],
   "source": [
    "base_model = resnet_v2.ResNet152V2(include_top=False, weights='imagenet')\n",
    "\n",
    "# add global pooling and dense output layer \n",
    "x = base_model.output\n",
    "x = GlobalAveragePooling2D()(x)\n",
    "x = Dense(1024, activation='relu')(x)\n",
    "prediction_layer = Dense(14, activation='sigmoid')(x)\n",
    "\n",
    "model = Model(inputs=base_model.input, outputs=prediction_layer)"
   ]
  },
  {
   "cell_type": "code",
   "execution_count": null,
   "metadata": {},
   "outputs": [],
   "source": [
    "# freeze all convolutional layers\n",
    "for layer in base_model.layers:\n",
    "    layer.trainable = False"
   ]
  },
  {
   "cell_type": "code",
   "execution_count": null,
   "metadata": {},
   "outputs": [],
   "source": [
    "# compile model\n",
    "adam = keras.optimizers.Adam()\n",
    "model.compile(optimizer=adam, loss='binary_crossentropy', metrics=['accuracy'])"
   ]
  },
  {
   "cell_type": "code",
   "execution_count": null,
   "metadata": {},
   "outputs": [],
   "source": [
    "! /srv/idp-radio-1/remote_access/get_tunnels.sh"
   ]
  },
  {
   "cell_type": "code",
   "execution_count": null,
   "metadata": {},
   "outputs": [],
   "source": [
    "# fit model \n",
    "num_epochs = 3\n",
    "STEP_SIZE_TRAIN= train_generator.n // train_generator.batch_size\n",
    "STEP_SIZE_VALID= valid_generator.n // valid_generator.batch_size\n",
    "STEP_SIZE_TEST= test_generator.n // test_generator.batch_size\n",
    "\n",
    "models_dir = Path(\"models/\") / model_name\n",
    "log_dir =  models_dir / datetime.datetime.now().strftime(\"%Y%m%d-%H%M%S\")\n",
    "tensorboard_callback = TensorBoard(log_dir=str(log_dir))\n",
    "\n",
    "result = model.fit_generator(generator=train_generator,\n",
    "                    steps_per_epoch=STEP_SIZE_TRAIN,\n",
    "                    validation_data=valid_generator,\n",
    "                    validation_steps=STEP_SIZE_VALID,\n",
    "                    epochs=num_epochs, \n",
    "                    callbacks=[tensorboard_callback])"
   ]
  },
  {
   "cell_type": "code",
   "execution_count": null,
   "metadata": {},
   "outputs": [],
   "source": [
    "model_id = save_model(model, result.history, model_name, model_filename, model_description)"
   ]
  },
  {
   "cell_type": "code",
   "execution_count": null,
   "metadata": {},
   "outputs": [],
   "source": [
    "print(\"predicting...\")\n",
    "test_generator.reset()\n",
    "pred=model.predict_generator(test_generator, steps=STEP_SIZE_TEST, verbose=1)"
   ]
  },
  {
   "cell_type": "code",
   "execution_count": null,
   "metadata": {},
   "outputs": [],
   "source": [
    "pred_bool = (pred >= 0.5)\n",
    "y_pred = np.array(pred_bool, dtype=int)\n",
    "\n",
    "dtest = data_test.to_numpy()\n",
    "y_true = np.array(dtest[:,FEATURES_SLICE], dtype=int)\n",
    "report = classification_report(y_true, y_pred, target_names=list(data_test.columns[FEATURES_SLICE]))\n",
    "model_id = model_set(model_id, 'classification_report', report)"
   ]
  },
  {
   "cell_type": "code",
   "execution_count": null,
   "metadata": {},
   "outputs": [],
   "source": [
    "score, acc = model.evaluate_generator(test_generator, steps=STEP_SIZE_TEST, verbose=1)\n",
    "print('Test score:', score)\n",
    "print('Test accuracy:', acc)\n",
    "model_id = model_set(model_id, 'test', (score, acc))"
   ]
  },
  {
   "cell_type": "code",
   "execution_count": null,
   "metadata": {},
   "outputs": [],
   "source": []
  },
  {
   "cell_type": "code",
   "execution_count": null,
   "metadata": {},
   "outputs": [],
   "source": []
  },
  {
   "cell_type": "code",
   "execution_count": null,
   "metadata": {},
   "outputs": [],
   "source": []
  },
  {
   "cell_type": "code",
   "execution_count": null,
   "metadata": {},
   "outputs": [],
   "source": []
  },
  {
   "cell_type": "code",
   "execution_count": null,
   "metadata": {},
   "outputs": [],
   "source": []
  }
 ],
 "metadata": {
  "kernelspec": {
   "display_name": "Python 3",
   "language": "python",
   "name": "python3"
  },
  "language_info": {
   "codemirror_mode": {
    "name": "ipython",
    "version": 3
   },
   "file_extension": ".py",
   "mimetype": "text/x-python",
   "name": "python",
   "nbconvert_exporter": "python",
   "pygments_lexer": "ipython3",
   "version": "3.6.9"
  }
 },
 "nbformat": 4,
 "nbformat_minor": 4
}
