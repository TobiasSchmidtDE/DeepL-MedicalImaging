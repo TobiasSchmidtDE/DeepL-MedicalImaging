{
 "cells": [
  {
   "cell_type": "code",
   "execution_count": null,
   "metadata": {},
   "outputs": [],
   "source": [
    "import os\n",
    "os.chdir(\"../../../\")\n",
    "os.getcwd()"
   ]
  },
  {
   "cell_type": "code",
   "execution_count": null,
   "metadata": {},
   "outputs": [],
   "source": [
    "\n",
    "import keras\n",
    "import pandas as pd\n",
    "import numpy as np\n",
    "from src.utils.save_model import save_model, model_set\n",
    "from sklearn.metrics import classification_report\n",
    "from sklearn.model_selection import train_test_split\n",
    "from keras.models import Model\n",
    "from keras.layers import Dense, GlobalAveragePooling2D\n",
    "from keras.applications import resnet_v2\n",
    "from keras_preprocessing.image import ImageDataGenerator"
   ]
  },
  {
   "cell_type": "code",
   "execution_count": null,
   "metadata": {},
   "outputs": [],
   "source": []
  },
  {
   "cell_type": "code",
   "execution_count": null,
   "metadata": {},
   "outputs": [],
   "source": [
    "#DATASET_FOLDER = '../../../data/dataset/'\n",
    "DATASET_FOLDER = 'data/dev_dataset/'\n",
    "SEED = 17"
   ]
  },
  {
   "cell_type": "code",
   "execution_count": null,
   "metadata": {},
   "outputs": [],
   "source": [
    "data = pd.read_csv(os.path.join(DATASET_FOLDER + 'train.csv'))\n",
    "\n",
    "# preprocess\n",
    "data = data.fillna(0)\n",
    "\n",
    "# drop lateral images\n",
    "data = data[~data['Frontal/Lateral'].str.contains(\"Lateral\")]\n",
    "\n",
    "# drop unrelevant columns\n",
    "data = data.drop([\"Sex\", \"Age\", \"Frontal/Lateral\", \"AP/PA\"], axis=1)\n",
    "\n",
    "# deal with uncertanty (-1) values\n",
    "data = data.replace(-1,1)\n",
    "data = data[:64]\n",
    "\n",
    "np.random.seed(SEED)\n",
    "data_train, data_test = train_test_split(data, test_size=0.2)\n",
    "data_train, data_val = train_test_split(data_train, test_size=0.2)"
   ]
  },
  {
   "cell_type": "code",
   "execution_count": null,
   "metadata": {},
   "outputs": [],
   "source": [
    "data_train.columns"
   ]
  },
  {
   "cell_type": "code",
   "execution_count": null,
   "metadata": {},
   "outputs": [],
   "source": [
    "train_datagen=ImageDataGenerator(rescale=1./255)\n",
    "valid_datagen=ImageDataGenerator(rescale=1./255.)\n",
    "test_datagen=ImageDataGenerator(rescale=1./255.)"
   ]
  },
  {
   "cell_type": "code",
   "execution_count": null,
   "metadata": {},
   "outputs": [],
   "source": [
    "target_size = (224, 224)\n",
    "train_generator = train_datagen.flow_from_dataframe(\n",
    "    dataframe=data_train,\n",
    "    directory=DATASET_FOLDER,\n",
    "    x_col='Path',\n",
    "    y_col=list(data_train.columns[2:16]),\n",
    "    class_mode='other',\n",
    "    target_size=target_size,\n",
    "    batch_size=32\n",
    ")\n",
    "valid_generator = valid_datagen.flow_from_dataframe(\n",
    "    dataframe=data_val,\n",
    "    directory=DATASET_FOLDER,\n",
    "    x_col='Path',\n",
    "    y_col=list(data_val.columns[2:16]),\n",
    "    class_mode='other',\n",
    "    target_size=target_size,\n",
    "    batch_size=32\n",
    ")\n",
    "test_generator = test_datagen.flow_from_dataframe(\n",
    "    dataframe=data_test,\n",
    "    directory=DATASET_FOLDER,\n",
    "    x_col=\"Path\",\n",
    "    y_col=list(data_test.columns[2:16]),\n",
    "    class_mode=\"other\",\n",
    "    target_size=target_size,\n",
    "    shuffle=False,\n",
    "    batch_size=1\n",
    ")"
   ]
  },
  {
   "cell_type": "code",
   "execution_count": null,
   "metadata": {},
   "outputs": [],
   "source": [
    "base_model = resnet_v2.ResNet152V2(include_top=False, weights='imagenet')\n",
    "\n",
    "# add global pooling and dense output layer \n",
    "x = base_model.output\n",
    "x = GlobalAveragePooling2D()(x)\n",
    "x = Dense(1024, activation='relu')(x)\n",
    "prediction_layer = Dense(14, activation='sigmoid')(x)\n",
    "\n",
    "model = Model(inputs=base_model.input, outputs=prediction_layer)"
   ]
  },
  {
   "cell_type": "code",
   "execution_count": null,
   "metadata": {},
   "outputs": [],
   "source": [
    "# freeze all convolutional layers\n",
    "for layer in base_model.layers:\n",
    "    layer.trainable = False"
   ]
  },
  {
   "cell_type": "code",
   "execution_count": null,
   "metadata": {},
   "outputs": [],
   "source": [
    "# compile model\n",
    "adam = keras.optimizers.Adam()\n",
    "model.compile(optimizer=adam, loss='binary_crossentropy', metrics=['accuracy'])"
   ]
  },
  {
   "cell_type": "code",
   "execution_count": null,
   "metadata": {},
   "outputs": [],
   "source": [
    "# fit model \n",
    "num_epochs = 3\n",
    "STEP_SIZE_TRAIN= train_generator.n // train_generator.batch_size\n",
    "STEP_SIZE_VALID= valid_generator.n // valid_generator.batch_size\n",
    "STEP_SIZE_TEST= test_generator.n // test_generator.batch_size\n",
    "\n",
    "\n",
    "result = model.fit_generator(generator=train_generator,\n",
    "                    steps_per_epoch=STEP_SIZE_TRAIN,\n",
    "                    validation_data=valid_generator,\n",
    "                    validation_steps=STEP_SIZE_VALID,\n",
    "                    epochs=num_epochs)"
   ]
  },
  {
   "cell_type": "code",
   "execution_count": null,
   "metadata": {},
   "outputs": [],
   "source": [
    "model_id = save_model(model, result.history, 'resnetv2', 'resnet-devdataset.h5')"
   ]
  },
  {
   "cell_type": "code",
   "execution_count": null,
   "metadata": {},
   "outputs": [],
   "source": [
    "print(\"predicting...\")\n",
    "test_generator.reset()\n",
    "pred=model.predict_generator(test_generator, steps=STEP_SIZE_TEST, verbose=1)"
   ]
  },
  {
   "cell_type": "code",
   "execution_count": null,
   "metadata": {},
   "outputs": [],
   "source": [
    "pred_bool = (pred >= 0.5)\n",
    "y_pred = np.array(pred_bool, dtype=int)\n",
    "\n",
    "dtest = data_test.to_numpy()\n",
    "y_true = np.array(dtest[:,2:16], dtype=int)\n",
    "report = classification_report(y_true, y_pred, target_names=list(data_test.columns[1:15]))\n",
    "model_id = model_set(model_id, 'classification_report', report)"
   ]
  },
  {
   "cell_type": "code",
   "execution_count": null,
   "metadata": {},
   "outputs": [],
   "source": [
    "score, acc = model.evaluate_generator(test_generator, steps=STEP_SIZE_TEST, verbose=1)\n",
    "print('Test score:', score)\n",
    "print('Test accuracy:', acc)\n",
    "model_id = model_set(model_id, 'test', (score, acc))"
   ]
  },
  {
   "cell_type": "code",
   "execution_count": null,
   "metadata": {},
   "outputs": [],
   "source": []
  }
 ],
 "metadata": {
  "kernelspec": {
   "display_name": "Python 3",
   "language": "python",
   "name": "python3"
  },
  "language_info": {
   "codemirror_mode": {
    "name": "ipython",
    "version": 3
   },
   "file_extension": ".py",
   "mimetype": "text/x-python",
   "name": "python",
   "nbconvert_exporter": "python",
   "pygments_lexer": "ipython3",
   "version": "3.7.4"
  }
 },
 "nbformat": 4,
 "nbformat_minor": 4
}
