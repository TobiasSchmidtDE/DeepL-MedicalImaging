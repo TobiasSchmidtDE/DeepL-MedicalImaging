{
 "cells": [
  {
   "cell_type": "code",
   "execution_count": null,
   "metadata": {
    "pycharm": {
     "name": "#%%\n"
    }
   },
   "outputs": [],
   "source": [
    "import os \n",
    "import datetime\n",
    "from pathlib import Path\n",
    "from dotenv import load_dotenv, find_dotenv\n",
    "\n",
    "basepath = Path(os.getcwd())\n",
    "# make sure your working directory is the repository root.\n",
    "if basepath.name != \"idp-radio-1\":\n",
    "    os.chdir(basepath.parent.parent.parent)\n",
    "load_dotenv(find_dotenv())\n",
    "\n",
    "%load_ext autoreload\n",
    "%autoreload 2\n",
    "os.getcwd()"
   ]
  },
  {
   "cell_type": "code",
   "execution_count": null,
   "metadata": {
    "pycharm": {
     "is_executing": false
    }
   },
   "outputs": [],
   "source": [
    "import os \n",
    "import tensorflow as tf\n",
    "from pathlib import Path\n",
    "from tensorflow.keras.applications.inception_v3 import InceptionV3\n",
    "from tensorflow.keras.applications.densenet import DenseNet121\n",
    "from tensorflow.keras.applications.resnet_v2 import ResNet152V2\n",
    "from src.architectures.simple.simple_base import SimpleBase\n",
    "from src.architectures.benchmarks.benchmark import Benchmark, Experiment\n",
    "from src.architectures.adv.guendel19 import densenet\n",
    "from src.metrics.metrics import F2Score"
   ]
  },
  {
   "cell_type": "code",
   "execution_count": null,
   "metadata": {},
   "outputs": [],
   "source": []
  },
  {
   "cell_type": "code",
   "execution_count": null,
   "metadata": {},
   "outputs": [],
   "source": []
  },
  {
   "cell_type": "code",
   "execution_count": null,
   "metadata": {},
   "outputs": [],
   "source": [
    "# Specify which GPU(s) to use\n",
    "os.environ[\"CUDA_VISIBLE_DEVICES\"] = \"1\"  # Or 2, 3, etc. other than 0\n",
    "\n",
    "config = tf.compat.v1.ConfigProto(allow_soft_placement=True, log_device_placement=True)\n",
    "config.gpu_options.allow_growth = True\n",
    "tf.compat.v1.Session(config=config)\n"
   ]
  },
  {
   "cell_type": "code",
   "execution_count": null,
   "metadata": {},
   "outputs": [],
   "source": [
    "!remote_access/get_tunnels.sh"
   ]
  },
  {
   "cell_type": "code",
   "execution_count": null,
   "metadata": {},
   "outputs": [],
   "source": [
    "metrics = [tf.keras.metrics.AUC(multi_label=True),\n",
    "           tf.keras.metrics.Precision(),\n",
    "           tf.keras.metrics.Recall(),\n",
    "           F2Score(),\n",
    "           tf.keras.metrics.BinaryAccuracy()\n",
    "          ]"
   ]
  },
  {
   "cell_type": "code",
   "execution_count": null,
   "metadata": {},
   "outputs": [],
   "source": []
  },
  {
   "cell_type": "code",
   "execution_count": null,
   "metadata": {},
   "outputs": [],
   "source": [
    "\n",
    "chexpert_columns = ['No Finding', 'Enlarged Cardiomediastinum', 'Cardiomegaly', 'Lung Opacity', 'Lung Lesion',\n",
    "                       'Edema', 'Consolidation', 'Pneumonia', 'Atelectasis', 'Pneumothorax',\n",
    "                       'Pleural Effusion', 'Pleural Other', 'Fracture', 'Support Devices']\n",
    "\n",
    "chexpert_benchmark = Benchmark(Path(os.environ.get(\"CHEXPERT_DATASET_DIRECTORY\")),\n",
    "                                  chexpert_columns,\n",
    "                                  epochs=10,\n",
    "                                  train_labels=\"train.csv\",\n",
    "                                  path_column=\"Path\",\n",
    "                                  split_group='patient_id',\n",
    "                                  batch_size=8,\n",
    "                                  metrics = metrics)\n",
    "chexpert_benchmark.as_dict()"
   ]
  },
  {
   "cell_type": "code",
   "execution_count": null,
   "metadata": {},
   "outputs": [],
   "source": [
    "chestxray14_columns = ['Edema', 'Atelectasis', 'Pneumonia',\n",
    "                       'Pleural_Thickening', 'Cardiomegaly', 'Infiltration', 'Consolidation',\n",
    "                       'Fibrosis', 'No Finding', 'Effusion', 'Nodule', 'Mass', 'Hernia',\n",
    "                       'Emphysema', 'Pneumothorax']\n",
    "\n",
    "chestxray14_benchmark = Benchmark(Path(os.environ.get(\"CHESTXRAY14_DATASET_DIRECTORY\")),\n",
    "                                  chestxray14_columns,\n",
    "                                  epochs=10,\n",
    "                                  train_labels=\"meta/data/labels.csv\",\n",
    "                                  path_column=\"Image Index\",\n",
    "                                  path_column_prefix=\"images/\",\n",
    "                                  split_group='Patient ID',\n",
    "                                  batch_size=8,\n",
    "                                  metrics=metrics)\n",
    "chestxray14_benchmark.as_dict()"
   ]
  },
  {
   "cell_type": "code",
   "execution_count": null,
   "metadata": {},
   "outputs": [],
   "source": []
  },
  {
   "cell_type": "code",
   "execution_count": null,
   "metadata": {
    "pycharm": {
     "name": "#%%\n"
    }
   },
   "outputs": [],
   "source": [
    "model_resnet_chestxray14 = SimpleBaseArchitecture(ResNet152V2, len(chestxray14_columns))\n",
    "model_resnet_chexpert = SimpleBaseArchitecture(ResNet152V2, len(chexpert_columns))\n",
    "\n",
    "model_densenet_chestxray14 = SimpleBaseArchitecture(DenseNet121, len(chestxray14_columns))\n",
    "model_densenet_chexpert = SimpleBaseArchitecture(DenseNet121, len(chexpert_columns))\n",
    "\n",
    "model_inceptionnet_chestxray14 = SimpleBaseArchitecture(InceptionV3, len(chestxray14_columns))\n",
    "model_inceptionnet_chexpert = SimpleBaseArchitecture(InceptionV3, len(chexpert_columns))"
   ]
  },
  {
   "cell_type": "code",
   "execution_count": null,
   "metadata": {},
   "outputs": [],
   "source": [
    "experiment_resnet_chexpert = Experiment(chexpert_benchmark, model_resnet_chexpert, \"ResNet152V2_CheXpert_8\")\n",
    "experiment_densenet_chexpert = Experiment(chexpert_benchmark, model_densenet_chexpert, \"DenseNet121_CheXpert_32\")\n",
    "experiment_inceptionnet_chexpert = Experiment(chexpert_benchmark, model_inceptionnet_chexpert, \"InceptionV3_CheXpert_32\")"
   ]
  },
  {
   "cell_type": "code",
   "execution_count": null,
   "metadata": {},
   "outputs": [],
   "source": [
    "experiment_resnet_chestxray14 = Experiment(chestxray14_benchmark, model_resnet_chestxray14, \"ResNet152V2_ChestXray14_32\")\n",
    "experiment_densenet_chestxray14 = Experiment(chestxray14_benchmark, model_densenet_chestxray14, \"DenseNet121_ChestXray14_32\")\n",
    "experiment_inceptionnet_chestxray14 = Experiment(chestxray14_benchmark, model_inceptionnet_chestxray14, \"InceptionV3_ChestXray14_32\")"
   ]
  },
  {
   "cell_type": "code",
   "execution_count": null,
   "metadata": {},
   "outputs": [],
   "source": [
    "experiment_resnet_chexpert_result =  experiment_resnet_chexpert.run()"
   ]
  },
  {
   "cell_type": "code",
   "execution_count": null,
   "metadata": {},
   "outputs": [],
   "source": [
    "experiment_densenet_chexpert_result =  experiment_densenet_chexpert.run()"
   ]
  },
  {
   "cell_type": "code",
   "execution_count": null,
   "metadata": {},
   "outputs": [],
   "source": [
    "experiment_inceptionnet_chexpert_result =  experiment_inceptionnet_chexpert.run()"
   ]
  },
  {
   "cell_type": "code",
   "execution_count": null,
   "metadata": {},
   "outputs": [],
   "source": [
    "experiment_resnet_chestxray14_result =  experiment_resnet_chestxray14.run()"
   ]
  },
  {
   "cell_type": "code",
   "execution_count": null,
   "metadata": {},
   "outputs": [],
   "source": [
    "experiment_densenet_chestxray14_result =  experiment_densenet_chestxray14.run()"
   ]
  },
  {
   "cell_type": "code",
   "execution_count": null,
   "metadata": {},
   "outputs": [],
   "source": [
    "experiment_inceptionnet_chestxray14_result =  experiment_inceptionnet_chestxray14.run()"
   ]
  },
  {
   "cell_type": "code",
   "execution_count": null,
   "metadata": {},
   "outputs": [],
   "source": [
    "predictions = experiment_inceptionnet_chexpert.model.predict(\n",
    "            experiment_inceptionnet_chexpert.benchmark.testgen, steps=len(experiment_inceptionnet_chexpert.benchmark.testgen), verbose=1)"
   ]
  },
  {
   "cell_type": "code",
   "execution_count": null,
   "metadata": {},
   "outputs": [],
   "source": [
    "true_labels = experiment_inceptionnet_chexpert.benchmark.testgen.get_encoded_labels()"
   ]
  },
  {
   "cell_type": "code",
   "execution_count": null,
   "metadata": {},
   "outputs": [],
   "source": []
  },
  {
   "cell_type": "code",
   "execution_count": null,
   "metadata": {},
   "outputs": [],
   "source": [
    "model_guendel_chestxray14 = densenet(classes=len(chestxray14_columns))\n",
    "model_guendel_chexpert = densenet(classes=len(chexpert_columns))\n",
    "\n",
    "experiment_guendel_chestxray14 = Experiment(chestxray14_benchmark, model_guendel_chestxray14, \"Guendel19_ChestXray14\")\n",
    "experiment_guendel_chexpert = Experiment(chexpert_benchmark, model_guendel_chexpert, \"Guendel19_CheXpert\")\n",
    "\n"
   ]
  },
  {
   "cell_type": "code",
   "execution_count": null,
   "metadata": {},
   "outputs": [],
   "source": [
    "experiment_guendel_chestxray14_result =  experiment_guendel_chestxray14.run()"
   ]
  },
  {
   "cell_type": "code",
   "execution_count": null,
   "metadata": {},
   "outputs": [],
   "source": [
    "experiment_guendel_chexpert_result =  experiment_guendel_chexpert.run()"
   ]
  },
  {
   "cell_type": "code",
   "execution_count": null,
   "metadata": {},
   "outputs": [],
   "source": []
  },
  {
   "cell_type": "code",
   "execution_count": null,
   "metadata": {},
   "outputs": [],
   "source": []
  }
 ],
 "metadata": {
  "kernelspec": {
   "display_name": "Python 3",
   "language": "python",
   "name": "python3"
  },
  "language_info": {
   "codemirror_mode": {
    "name": "ipython",
    "version": 3
   },
   "file_extension": ".py",
   "mimetype": "text/x-python",
   "name": "python",
   "nbconvert_exporter": "python",
   "pygments_lexer": "ipython3",
   "version": "3.6.9"
  },
  "pycharm": {
   "stem_cell": {
    "cell_type": "raw",
    "metadata": {
     "collapsed": false
    },
    "source": []
   }
  }
 },
 "nbformat": 4,
 "nbformat_minor": 4
}