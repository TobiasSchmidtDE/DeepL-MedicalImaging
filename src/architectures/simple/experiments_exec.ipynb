{
 "cells": [
  {
   "cell_type": "code",
   "execution_count": 1,
   "metadata": {
    "pycharm": {
     "name": "#%%\n"
    }
   },
   "outputs": [
    {
     "data": {
      "text/plain": [
       "'/srv/idp-radio-1'"
      ]
     },
     "execution_count": 1,
     "metadata": {},
     "output_type": "execute_result"
    }
   ],
   "source": [
    "import os \n",
    "import datetime\n",
    "from pathlib import Path\n",
    "from dotenv import load_dotenv, find_dotenv\n",
    "\n",
    "basepath = Path(os.getcwd())\n",
    "# make sure your working directory is the repository root.\n",
    "if basepath.name != \"idp-radio-1\":\n",
    "    os.chdir(basepath.parent.parent.parent)\n",
    "load_dotenv(find_dotenv())\n",
    "\n",
    "%load_ext autoreload\n",
    "%autoreload 2\n",
    "os.getcwd()"
   ]
  },
  {
   "cell_type": "code",
   "execution_count": 2,
   "metadata": {
    "pycharm": {
     "is_executing": false
    }
   },
   "outputs": [
    {
     "name": "stderr",
     "output_type": "stream",
     "text": [
      "Using TensorFlow backend.\n"
     ]
    }
   ],
   "source": [
    "import os \n",
    "import tensorflow as tf\n",
    "from pathlib import Path\n",
    "from tensorflow.keras.applications.inception_v3 import InceptionV3\n",
    "from tensorflow.keras.applications.densenet import DenseNet121\n",
    "from tensorflow.keras.applications.resnet_v2 import ResNet152V2\n",
    "from src.architectures.simple.simple_base import SimpleBase\n",
    "from src.architectures.benchmarks.benchmark import Benchmark, Experiment\n",
    "from src.architectures.adv.guendel19 import densenet"
   ]
  },
  {
   "cell_type": "code",
   "execution_count": 3,
   "metadata": {},
   "outputs": [
    {
     "name": "stdout",
     "output_type": "stream",
     "text": [
      "Device mapping:\n",
      "/job:localhost/replica:0/task:0/device:XLA_CPU:0 -> device: XLA_CPU device\n",
      "/job:localhost/replica:0/task:0/device:XLA_GPU:0 -> device: XLA_GPU device\n",
      "/job:localhost/replica:0/task:0/device:GPU:0 -> device: 0, name: GeForce RTX 2080 Ti, pci bus id: 0000:42:00.0, compute capability: 7.5\n",
      "\n"
     ]
    },
    {
     "data": {
      "text/plain": [
       "<tensorflow.python.client.session.Session at 0x7f7dad4b7e48>"
      ]
     },
     "execution_count": 3,
     "metadata": {},
     "output_type": "execute_result"
    }
   ],
   "source": [
    "# Specify which GPU(s) to use\n",
    "os.environ[\"CUDA_VISIBLE_DEVICES\"] = \"1\"  # Or 2, 3, etc. other than 0\n",
    "\n",
    "config = tf.compat.v1.ConfigProto(allow_soft_placement=True, log_device_placement=True)\n",
    "config.gpu_options.allow_growth = True\n",
    "tf.compat.v1.Session(config=config)\n"
   ]
  },
  {
   "cell_type": "code",
   "execution_count": 4,
   "metadata": {},
   "outputs": [
    {
     "name": "stdout",
     "output_type": "stream",
     "text": [
      "URLs open for the following services:\n",
      "[('tensorboard', 'http://f5bb2970.ngrok.io'), ('jupyternotebook', 'http://686ce90c.ngrok.io'), ('jupyterlab', 'http://f5ae6329.ngrok.io')]\n"
     ]
    }
   ],
   "source": [
    "!remote_access/get_tunnels.sh"
   ]
  },
  {
   "cell_type": "code",
   "execution_count": null,
   "metadata": {},
   "outputs": [],
   "source": []
  },
  {
   "cell_type": "code",
   "execution_count": null,
   "metadata": {},
   "outputs": [],
   "source": []
  },
  {
   "cell_type": "code",
   "execution_count": 5,
   "metadata": {},
   "outputs": [
    {
     "data": {
      "text/plain": [
       "{'dataset_name': 'chexpert_full',\n",
       " 'dataset_folder': 'data/chexpert/full',\n",
       " 'models_dir': 'models',\n",
       " 'epochs': 5,\n",
       " 'optimizer': 'Adam',\n",
       " 'loss': 'categorical_crossentropy',\n",
       " 'metrics': ['categorical_crossentropy',\n",
       "  'categorical_accuracy',\n",
       "  'categorical_hinge'],\n",
       " 'label_columns': ['No Finding',\n",
       "  'Enlarged Cardiomediastinum',\n",
       "  'Cardiomegaly',\n",
       "  'Lung Opacity',\n",
       "  'Lung Lesion',\n",
       "  'Edema',\n",
       "  'Consolidation',\n",
       "  'Pneumonia',\n",
       "  'Atelectasis',\n",
       "  'Pneumothorax',\n",
       "  'Pleural Effusion',\n",
       "  'Pleural Other',\n",
       "  'Fracture',\n",
       "  'Support Devices'],\n",
       " 'path_column': 'Path',\n",
       " 'path_column_prefix': '',\n",
       " 'shuffle': True,\n",
       " 'batch_size': 256,\n",
       " 'dim': (256, 256),\n",
       " 'n_channels': 3,\n",
       " 'nan_replacement': 0,\n",
       " 'unc_value': -1,\n",
       " 'u_enc': 'uzeroes',\n",
       " 'drop_last': False,\n",
       " 'train_num_samples': 143379,\n",
       " 'valid_num_samples': 35747,\n",
       " 'test_num_samples': 44288}"
      ]
     },
     "execution_count": 5,
     "metadata": {},
     "output_type": "execute_result"
    }
   ],
   "source": [
    "chexpert_columns = ['No Finding', 'Enlarged Cardiomediastinum', 'Cardiomegaly', 'Lung Opacity', 'Lung Lesion',\n",
    "                       'Edema', 'Consolidation', 'Pneumonia', 'Atelectasis', 'Pneumothorax',\n",
    "                       'Pleural Effusion', 'Pleural Other', 'Fracture', 'Support Devices']\n",
    "\n",
    "chexpert_benchmark = Benchmark(Path(os.environ.get(\"CHEXPERT_DATASET_DIRECTORY\")),\n",
    "                                  chexpert_columns,\n",
    "                                  epochs=5,\n",
    "                                  train_labels=\"train.csv\",\n",
    "                                  path_column=\"Path\",\n",
    "                                  split_group='patient_id',\n",
    "                                  batch_size=256,\n",
    "                                  metrics=[\n",
    "                                      \"categorical_crossentropy\",\n",
    "                                      \"categorical_accuracy\",\n",
    "                                      \"categorical_hinge\"])\n",
    "chexpert_benchmark.as_dict()"
   ]
  },
  {
   "cell_type": "code",
   "execution_count": 6,
   "metadata": {},
   "outputs": [
    {
     "data": {
      "text/plain": [
       "{'dataset_name': 'chestxray14_scale_256',\n",
       " 'dataset_folder': 'data/chestxray14/scale_256',\n",
       " 'models_dir': 'models',\n",
       " 'epochs': 5,\n",
       " 'optimizer': 'Adam',\n",
       " 'loss': 'categorical_crossentropy',\n",
       " 'metrics': ['categorical_crossentropy',\n",
       "  'categorical_accuracy',\n",
       "  'categorical_hinge'],\n",
       " 'label_columns': ['Edema',\n",
       "  'Atelectasis',\n",
       "  'Pneumonia',\n",
       "  'Pleural_Thickening',\n",
       "  'Cardiomegaly',\n",
       "  'Infiltration',\n",
       "  'Consolidation',\n",
       "  'Fibrosis',\n",
       "  'No Finding',\n",
       "  'Effusion',\n",
       "  'Nodule',\n",
       "  'Mass',\n",
       "  'Hernia',\n",
       "  'Emphysema',\n",
       "  'Pneumothorax'],\n",
       " 'path_column': 'Image Index',\n",
       " 'path_column_prefix': 'images/',\n",
       " 'shuffle': True,\n",
       " 'batch_size': 256,\n",
       " 'dim': (256, 256),\n",
       " 'n_channels': 3,\n",
       " 'nan_replacement': 0,\n",
       " 'unc_value': -1,\n",
       " 'u_enc': 'uzeroes',\n",
       " 'drop_last': False,\n",
       " 'train_num_samples': 72432,\n",
       " 'valid_num_samples': 17948,\n",
       " 'test_num_samples': 21740}"
      ]
     },
     "execution_count": 6,
     "metadata": {},
     "output_type": "execute_result"
    }
   ],
   "source": [
    "chestxray14_columns = ['Edema', 'Atelectasis', 'Pneumonia',\n",
    "                       'Pleural_Thickening', 'Cardiomegaly', 'Infiltration', 'Consolidation',\n",
    "                       'Fibrosis', 'No Finding', 'Effusion', 'Nodule', 'Mass', 'Hernia',\n",
    "                       'Emphysema', 'Pneumothorax']\n",
    "chestxray14_benchmark = Benchmark(Path(os.environ.get(\"CHESTXRAY14_DATASET_DIRECTORY\")),\n",
    "                                  chestxray14_columns,\n",
    "                                  epochs=5,\n",
    "                                  train_labels=\"meta/data/labels.csv\",\n",
    "                                  path_column=\"Image Index\",\n",
    "                                  path_column_prefix=\"images/\",\n",
    "                                  split_group='Patient ID',\n",
    "                                  batch_size=256,\n",
    "                                  metrics=[\n",
    "                                      \"categorical_crossentropy\",\n",
    "                                      \"categorical_accuracy\",\n",
    "                                      \"categorical_hinge\"])\n",
    "chestxray14_benchmark.as_dict()"
   ]
  },
  {
   "cell_type": "code",
   "execution_count": null,
   "metadata": {},
   "outputs": [],
   "source": []
  },
  {
   "cell_type": "code",
   "execution_count": 7,
   "metadata": {
    "pycharm": {
     "name": "#%%\n"
    }
   },
   "outputs": [],
   "source": [
    "resnet_chestxray = SimpleBase(ResNet152V2, len(chestxray14_columns)).get_model()\n",
    "resnet_chexpert = SimpleBase(ResNet152V2, len(chexpert_columns)).get_model()\n",
    "#densenet = SimpleBase(DenseNet121, len(chestxray14_columns)).get_model()\n",
    "#inceptionnet = SimpleBase(InceptionV3, len(chestxray14_columns)).get_model()"
   ]
  },
  {
   "cell_type": "code",
   "execution_count": 9,
   "metadata": {},
   "outputs": [
    {
     "name": "stdout",
     "output_type": "stream",
     "text": [
      "Trained ResNet152V2_Test architecture using predefined benchmark.The benchmark was initialized for the chexpert_full dataset with batch size of 256, shuffel set to True and images rescaled to dimension (256, 256).\n",
      "The training was done for 5 epochs using the Adam optimizer and categorical_crossentropy loss.\n",
      "A total of 14 labels/pathologies were included in the training and encoded using the 'uzeroes' method.\n",
      "The traing set included 143379 number of sample, the validation set 35747, and the test set 44288. \n"
     ]
    }
   ],
   "source": [
    "experiment_resnet_chexpert = Experiment(chexpert_benchmark, resnet_chexpert, \"ResNet152V2_Test\")\n",
    "print(experiment_resnet_chexpert.model_description)"
   ]
  },
  {
   "cell_type": "code",
   "execution_count": 10,
   "metadata": {},
   "outputs": [
    {
     "name": "stdout",
     "output_type": "stream",
     "text": [
      "Trained ResNet152V2_Test architecture using predefined benchmark.The benchmark was initialized for the chestxray14_scale_256 dataset with batch size of 256, shuffel set to True and images rescaled to dimension (256, 256).\n",
      "The training was done for 5 epochs using the Adam optimizer and categorical_crossentropy loss.\n",
      "A total of 15 labels/pathologies were included in the training and encoded using the 'uzeroes' method.\n",
      "The traing set included 72432 number of sample, the validation set 17948, and the test set 21740. \n"
     ]
    }
   ],
   "source": [
    "experiment_resnet_chestxray = Experiment(chestxray14_benchmark, resnet_chestxray, \"ResNet152V2_Test\")\n",
    "print(experiment_resnet_chestxray.model_description)"
   ]
  },
  {
   "cell_type": "code",
   "execution_count": null,
   "metadata": {},
   "outputs": [
    {
     "name": "stdout",
     "output_type": "stream",
     "text": [
      "WARNING:tensorflow:sample_weight modes were coerced from\n",
      "  ...\n",
      "    to  \n",
      "  ['...']\n",
      "WARNING:tensorflow:sample_weight modes were coerced from\n",
      "  ...\n",
      "    to  \n",
      "  ['...']\n",
      "Train for 561 steps, validate for 140 steps\n",
      "Epoch 1/5\n",
      "244/561 [============>.................] - ETA: 7:47 - loss: 4.9427 - categorical_crossentropy: 4.9454 - categorical_accuracy: 0.0354 - categorical_hinge: 0.5684"
     ]
    }
   ],
   "source": [
    "exp_result_resnet_chexpert =  experiment_resnet_chexpert.run()"
   ]
  },
  {
   "cell_type": "code",
   "execution_count": null,
   "metadata": {},
   "outputs": [],
   "source": [
    "exp_result_resnet_chestxray =  experiment_resnet_chestxray.run()"
   ]
  },
  {
   "cell_type": "code",
   "execution_count": null,
   "metadata": {},
   "outputs": [],
   "source": []
  },
  {
   "cell_type": "code",
   "execution_count": null,
   "metadata": {},
   "outputs": [],
   "source": []
  },
  {
   "cell_type": "code",
   "execution_count": null,
   "metadata": {},
   "outputs": [],
   "source": []
  },
  {
   "cell_type": "code",
   "execution_count": 36,
   "metadata": {},
   "outputs": [
    {
     "name": "stdout",
     "output_type": "stream",
     "text": [
      "346/346 [==============================] - 91s 263ms/step\n"
     ]
    }
   ],
   "source": [
    "testgen = resnet_chestxray.benchmark.testgen\n",
    "\n",
    "testgen.on_epoch_end()\n",
    "\n",
    "predictions = resnet_chestxray.model.predict(testgen, steps=len(testgen), verbose=1)\n"
   ]
  },
  {
   "cell_type": "code",
   "execution_count": 37,
   "metadata": {},
   "outputs": [],
   "source": [
    "import numpy as np\n",
    "predictions_bool = (predictions >= 0.5)\n",
    "\n",
    "y_pred = np.array(predictions_bool, dtype=int)\n",
    "\n",
    "groundtruth_label = testgen.get_encoded_labels()\n"
   ]
  },
  {
   "cell_type": "code",
   "execution_count": 38,
   "metadata": {},
   "outputs": [
    {
     "name": "stdout",
     "output_type": "stream",
     "text": [
      "22137\n",
      "22137\n"
     ]
    }
   ],
   "source": [
    "print(len(y_pred))\n",
    "print(len(groundtruth_label))"
   ]
  },
  {
   "cell_type": "code",
   "execution_count": 39,
   "metadata": {},
   "outputs": [
    {
     "name": "stdout",
     "output_type": "stream",
     "text": [
      "              precision    recall  f1-score   support\n",
      "\n",
      "       Edema       0.03      0.55      0.06       432\n",
      " Atelectasis       0.11      0.82      0.19      2368\n",
      "   Pneumonia       0.02      0.41      0.03       277\n",
      "   Emphysema       0.02      0.00      0.01       456\n",
      "\n",
      "   micro avg       0.07      0.65      0.13      3533\n",
      "   macro avg       0.04      0.45      0.07      3533\n",
      "weighted avg       0.08      0.65      0.14      3533\n",
      " samples avg       0.08      0.10      0.09      3533\n",
      "\n"
     ]
    },
    {
     "name": "stderr",
     "output_type": "stream",
     "text": [
      "/usr/local/lib/python3.6/dist-packages/sklearn/metrics/_classification.py:1221: UndefinedMetricWarning: Precision and F-score are ill-defined and being set to 0.0 in samples with no predicted labels. Use `zero_division` parameter to control this behavior.\n",
      "  _warn_prf(average, modifier, msg_start, len(result))\n",
      "/usr/local/lib/python3.6/dist-packages/sklearn/metrics/_classification.py:1221: UndefinedMetricWarning: Recall and F-score are ill-defined and being set to 0.0 in samples with no true labels. Use `zero_division` parameter to control this behavior.\n",
      "  _warn_prf(average, modifier, msg_start, len(result))\n"
     ]
    }
   ],
   "source": [
    "\n",
    "from sklearn.metrics import classification_report\n",
    "report = classification_report(groundtruth_label, y_pred, target_names=list(resnet_chestxray.benchmark.label_columns))\n",
    "print(report)"
   ]
  },
  {
   "cell_type": "code",
   "execution_count": 12,
   "metadata": {},
   "outputs": [
    {
     "data": {
      "text/plain": [
       "27"
      ]
     },
     "execution_count": 12,
     "metadata": {},
     "output_type": "execute_result"
    }
   ],
   "source": [
    "valgen = resnet_chestxray.benchmark.valgen\n",
    "STEP_SIZE_EVAL = len(valgen.index) // valgen.batch_size\n",
    "print(len(valgen.index))\n",
    "STEP_SIZE_EVAL // 10"
   ]
  },
  {
   "cell_type": "code",
   "execution_count": 13,
   "metadata": {},
   "outputs": [
    {
     "name": "stdout",
     "output_type": "stream",
     "text": [
      "WARNING:tensorflow:sample_weight modes were coerced from\n",
      "  ...\n",
      "    to  \n",
      "  ['...']\n",
      "271/271 [==============================] - 75s 276ms/step - loss: 0.2603 - categorical_crossentropy: 0.2603 - categorical_accuracy: 0.2547 - categorical_hinge: 1.7244\n"
     ]
    }
   ],
   "source": [
    "\n",
    "eval_res = resnet_chestxray.model.evaluate(x=valgen, steps=STEP_SIZE_EVAL, verbose=1)\n"
   ]
  },
  {
   "cell_type": "code",
   "execution_count": 22,
   "metadata": {},
   "outputs": [
    {
     "data": {
      "text/plain": [
       "[0.26028381849938104,\n",
       " 0.26028382778167725,\n",
       " 0.25472787022590637,\n",
       " 1.7244476079940796]"
      ]
     },
     "execution_count": 22,
     "metadata": {},
     "output_type": "execute_result"
    }
   ],
   "source": [
    "[float (i) for i in eval_res]"
   ]
  },
  {
   "cell_type": "code",
   "execution_count": 19,
   "metadata": {},
   "outputs": [
    {
     "data": {
      "text/plain": [
       "{'loss': 0.26028381849938104,\n",
       " 'categorical_crossentropy': 0.26028383,\n",
       " 'categorical_accuracy': 0.25472787,\n",
       " 'categorical_hinge': 1.7244476}"
      ]
     },
     "execution_count": 19,
     "metadata": {},
     "output_type": "execute_result"
    }
   ],
   "source": [
    "metrics = [\"categorical_crossentropy\", \"categorical_accuracy\", \"categorical_hinge\"]\n",
    "dict(zip ([\"loss\"] + metrics, [float (i) for i in eval_res]))"
   ]
  },
  {
   "cell_type": "code",
   "execution_count": 12,
   "metadata": {},
   "outputs": [
    {
     "name": "stdout",
     "output_type": "stream",
     "text": [
      "                    precision    recall  f1-score   support\n",
      "\n",
      "             Edema       0.00      0.00      0.00       455\n",
      "       Atelectasis       0.07      0.00      0.00      2207\n",
      "         Pneumonia       0.00      0.00      0.00       276\n",
      "         Emphysema       0.00      0.00      0.00       466\n",
      "      Pneumothorax       0.00      0.00      0.00      1018\n",
      "Pleural_Thickening       0.00      0.00      0.00       654\n",
      "      Cardiomegaly       0.00      0.00      0.00       546\n",
      "      Infiltration       0.18      1.00      0.30      3981\n",
      "     Consolidation       0.00      0.00      0.00       963\n",
      "          Fibrosis       0.00      0.00      0.00       333\n",
      "        No Finding       0.54      1.00      0.70     12130\n",
      "          Effusion       0.26      0.18      0.21      2626\n",
      "            Nodule       0.00      0.00      0.00      1351\n",
      "              Mass       0.00      0.00      0.00      1257\n",
      "            Hernia       0.00      0.00      0.00        52\n",
      "\n",
      "         micro avg       0.36      0.59      0.44     28315\n",
      "         macro avg       0.07      0.15      0.08     28315\n",
      "      weighted avg       0.29      0.59      0.36     28315\n",
      "       samples avg       0.36      0.68      0.46     28315\n",
      "\n"
     ]
    }
   ],
   "source": [
    "print(resnet_chestxray.evaluation_result[\"report\"])"
   ]
  },
  {
   "cell_type": "code",
   "execution_count": 13,
   "metadata": {},
   "outputs": [
    {
     "data": {
      "text/plain": [
       "<function sklearn.metrics._classification.classification_report(y_true, y_pred, *, labels=None, target_names=None, sample_weight=None, digits=2, output_dict=False, zero_division='warn')>"
      ]
     },
     "execution_count": 13,
     "metadata": {},
     "output_type": "execute_result"
    }
   ],
   "source": [
    "import numpy as np\n",
    "from sklearn.metrics import classification_report\n",
    "classification_report"
   ]
  },
  {
   "cell_type": "code",
   "execution_count": 33,
   "metadata": {},
   "outputs": [
    {
     "name": "stdout",
     "output_type": "stream",
     "text": [
      "              precision    recall  f1-score   support\n",
      "\n",
      "           0       0.50      1.00      0.67         1\n",
      "           1       0.50      1.00      0.67         1\n",
      "           2       0.00      0.00      0.00         2\n",
      "           3       0.50      0.50      0.50         2\n",
      "\n",
      "   micro avg       0.50      0.50      0.50         6\n",
      "   macro avg       0.38      0.62      0.46         6\n",
      "weighted avg       0.33      0.50      0.39         6\n",
      " samples avg       0.39      0.50      0.43         6\n",
      "\n"
     ]
    }
   ],
   "source": [
    "y_pred = np.array([[1,0,0,0], [0,1,0,1], [1,1,0,1]])\n",
    "y_true = np.array([[0,0,1,1], [0,1,1,0], [1,0,0,1]])\n",
    "print(classification_report(y_true,y_pred))"
   ]
  },
  {
   "cell_type": "code",
   "execution_count": 35,
   "metadata": {
    "pycharm": {
     "name": "#%%\n"
    }
   },
   "outputs": [
    {
     "data": {
      "text/plain": [
       "False"
      ]
     },
     "execution_count": 35,
     "metadata": {},
     "output_type": "execute_result"
    }
   ],
   "source": []
  },
  {
   "cell_type": "code",
   "execution_count": null,
   "metadata": {
    "pycharm": {
     "name": "#%%\n"
    }
   },
   "outputs": [],
   "source": []
  },
  {
   "cell_type": "code",
   "execution_count": null,
   "metadata": {
    "pycharm": {
     "name": "#%%\n"
    }
   },
   "outputs": [],
   "source": [
    "model_name = 'güendel19'\n",
    "model = densenet()\n",
    "#benchmark = BenchmarkOne(model, model_name, **params)\n",
    "#benchmark.fit_model()\n",
    "#benchmark.save_model()\n",
    "\n"
   ]
  }
 ],
 "metadata": {
  "kernelspec": {
   "display_name": "Python 3",
   "language": "python",
   "name": "python3"
  },
  "language_info": {
   "codemirror_mode": {
    "name": "ipython",
    "version": 3
   },
   "file_extension": ".py",
   "mimetype": "text/x-python",
   "name": "python",
   "nbconvert_exporter": "python",
   "pygments_lexer": "ipython3",
   "version": "3.6.9"
  },
  "pycharm": {
   "stem_cell": {
    "cell_type": "raw",
    "metadata": {
     "collapsed": false
    },
    "source": []
   }
  }
 },
 "nbformat": 4,
 "nbformat_minor": 4
}
