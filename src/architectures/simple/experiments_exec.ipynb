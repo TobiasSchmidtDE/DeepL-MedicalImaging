{
 "cells": [
  {
   "cell_type": "code",
   "execution_count": 1,
   "metadata": {
    "pycharm": {
     "name": "#%%\n"
    }
   },
   "outputs": [
    {
     "data": {
      "text/plain": [
       "'/srv/idp-radio-1'"
      ]
     },
     "execution_count": 1,
     "metadata": {},
     "output_type": "execute_result"
    }
   ],
   "source": [
    "import os \n",
    "import datetime\n",
    "from pathlib import Path\n",
    "from dotenv import load_dotenv, find_dotenv\n",
    "\n",
    "basepath = Path(os.getcwd())\n",
    "# make sure your working directory is the repository root.\n",
    "if basepath.name != \"idp-radio-1\":\n",
    "    os.chdir(basepath.parent.parent.parent)\n",
    "load_dotenv(find_dotenv())\n",
    "\n",
    "%load_ext autoreload\n",
    "%autoreload 2\n",
    "os.getcwd()"
   ]
  },
  {
   "cell_type": "code",
   "execution_count": 2,
   "metadata": {
    "pycharm": {
     "is_executing": false
    }
   },
   "outputs": [],
   "source": [
    "import os \n",
    "import tensorflow as tf\n",
    "from pathlib import Path"
   ]
  },
  {
   "cell_type": "code",
   "execution_count": 3,
   "metadata": {},
   "outputs": [],
   "source": [
    "import cv2"
   ]
  },
  {
   "cell_type": "code",
   "execution_count": 4,
   "metadata": {},
   "outputs": [
    {
     "name": "stdout",
     "output_type": "stream",
     "text": [
      "Device mapping:\n",
      "/job:localhost/replica:0/task:0/device:GPU:0 -> device: 0, name: GeForce RTX 2080 Ti, pci bus id: 0000:04:00.0, compute capability: 7.5\n",
      "\n"
     ]
    },
    {
     "data": {
      "text/plain": [
       "<tensorflow.python.client.session.Session at 0x7f7c42355518>"
      ]
     },
     "execution_count": 4,
     "metadata": {},
     "output_type": "execute_result"
    }
   ],
   "source": [
    "# Run this before loading other dependencies, otherwise they might occupy memory on gpu 0 by default and it will stay that way\n",
    "\n",
    "# Specify which GPU(s) to use\n",
    "os.environ[\"CUDA_VISIBLE_DEVICES\"] = \"1\"  # Or 2, 3, etc. other than 0\n",
    "\n",
    "config = tf.compat.v1.ConfigProto(device_count={'GPU': 1}, allow_soft_placement=True, log_device_placement=True)\n",
    "config.gpu_options.allow_growth = True\n",
    "config.gpu_options.per_process_gpu_memory_fraction = 1.0\n",
    "tf.compat.v1.Session(config=config)\n"
   ]
  },
  {
   "cell_type": "code",
   "execution_count": 5,
   "metadata": {},
   "outputs": [],
   "source": [
    "from tensorflow.keras.applications.inception_v3 import InceptionV3\n",
    "from tensorflow.keras.applications.densenet import DenseNet121\n",
    "from tensorflow.keras.applications.resnet_v2 import ResNet101V2\n",
    "from src.architectures.simple.simple_base import SimpleBaseArchitecture\n",
    "from src.architectures.adv.guendel19 import densenet\n",
    "import numpy as np\n",
    "\n",
    "from src.architectures.benchmarks.benchmark import Benchmark, Experiment\n",
    "from tensorflow.keras.optimizers import Adam, SGD\n",
    "from src.architectures.benchmarks.benchmark_definitions import Chexpert_Benchmark, Chestxray14_Benchmark, simple_architecture_experiment, generate_benchmarks, METRICS, SINGLE_CLASS_METRICS, CHEXPERT_COLUMNS, CHESTXRAY14_COLUMNS\n",
    "from src.metrics.metrics import F2Score\n",
    "from src.metrics.losses import WeightedBinaryCrossentropy, BinaryCrossentropy, compute_class_weight"
   ]
  },
  {
   "cell_type": "code",
   "execution_count": 6,
   "metadata": {},
   "outputs": [],
   "source": [
    "#CHEXPERT_BENCHMARKS, CHESTXRAY14_BENCHMARKS = generate_benchmarks (batch_sizes={\"Medium\": 32}, epoch_sizes= {\"Dev\": 5,}, crop={\"C0\": False}, name_suffix=\"\",)\n",
    "\n"
   ]
  },
  {
   "cell_type": "code",
   "execution_count": 7,
   "metadata": {},
   "outputs": [],
   "source": [
    "#CHEXPERT_BENCHMARKS.keys() "
   ]
  },
  {
   "cell_type": "code",
   "execution_count": 8,
   "metadata": {},
   "outputs": [],
   "source": [
    "#CHESTXRAY14_BENCHMARKS.keys()"
   ]
  },
  {
   "cell_type": "code",
   "execution_count": 9,
   "metadata": {},
   "outputs": [],
   "source": [
    "#[m.name for m in METRICS]"
   ]
  },
  {
   "cell_type": "code",
   "execution_count": 10,
   "metadata": {},
   "outputs": [],
   "source": [
    "#CHEXPERT_COLUMNS"
   ]
  },
  {
   "cell_type": "code",
   "execution_count": 11,
   "metadata": {},
   "outputs": [
    {
     "name": "stdout",
     "output_type": "stream",
     "text": [
      "URLs open for the following services:\n",
      "[('tensorboard', 'http://2ed6ba3ba26a.ngrok.io'), ('jupyterlab', 'http://cf3e4fece84f.ngrok.io')]\n"
     ]
    }
   ],
   "source": [
    "!remote_access/get_tunnels.sh"
   ]
  },
  {
   "cell_type": "code",
   "execution_count": 12,
   "metadata": {},
   "outputs": [],
   "source": [
    "#CHEXPERT_BENCHMARKS[\"BCE_E5_B32_C0\"].as_dict()"
   ]
  },
  {
   "cell_type": "code",
   "execution_count": 13,
   "metadata": {},
   "outputs": [],
   "source": [
    "#chexpert_exp = simple_architecture_experiment(CHEXPERT_BENCHMARKS[\"BCE_E5_B32_C0\"], DenseNet121, CHEXPERT_COLUMNS)"
   ]
  },
  {
   "cell_type": "code",
   "execution_count": 14,
   "metadata": {},
   "outputs": [],
   "source": [
    "#chexpert_exp.benchmark.as_dict()"
   ]
  },
  {
   "cell_type": "code",
   "execution_count": 15,
   "metadata": {},
   "outputs": [],
   "source": [
    "#chexpert_exp.run()"
   ]
  },
  {
   "cell_type": "code",
   "execution_count": null,
   "metadata": {},
   "outputs": [],
   "source": []
  },
  {
   "cell_type": "code",
   "execution_count": 16,
   "metadata": {},
   "outputs": [],
   "source": [
    "columns_12 = ['Enlarged Cardiomediastinum',\n",
    "                    'Cardiomegaly',\n",
    "                    'Lung Opacity',\n",
    "                    'Lung Lesion',\n",
    "                    'Edema',\n",
    "                    'Consolidation',\n",
    "                    'Pneumonia',\n",
    "                    'Atelectasis',\n",
    "                    'Pneumothorax',\n",
    "                    'Pleural Effusion',\n",
    "                    'Pleural Other',\n",
    "                    'Fracture']\n",
    "columns_5 =  ['Cardiomegaly',\n",
    "                'Edema',\n",
    "                'Consolidation',\n",
    "                'Atelectasis',\n",
    "                'Pleural Effusion']\n",
    "\n",
    "uzeros = ['Cardiomegaly',\n",
    "        'Enlarged Cardiomediastinum',\n",
    "        'Lung Opacity',\n",
    "        'Lung Lesion',\n",
    "        'Consolidation',\n",
    "        'Pneumothorax',\n",
    "        'Pleural Effusion']\n",
    "\n",
    "uones = ['Edema',\n",
    "        'Atelectasis',\n",
    "        'Fracture',\n",
    "        'Pleural Other',\n",
    "        'Pneumonia',]\n",
    "\n",
    "upsample_factors = {\n",
    "    \"Enlarged Cardiomediastinum\": 1,\n",
    "    \"Lung Lesion\":1,\n",
    "    #\"Pneumothorax\":1,\n",
    "    #\"Pneumonia\":1,\n",
    "    \"Pleural Other\":2,\n",
    "    \"Fracture\":2,\n",
    "}"
   ]
  },
  {
   "cell_type": "code",
   "execution_count": 17,
   "metadata": {},
   "outputs": [],
   "source": [
    "bce_benchmark = Chexpert_Benchmark (path = Path(os.environ.get(\"CHEXPERT_DATASET_DIRECTORY\")),\n",
    "                                             name=\"Chexpert_CWBCE_L1Normed_E3_B32_C0_N12_AugAffine_U75_D256_DS9505_2LR4_LF5_Adam_Upsampled\",\n",
    "                                             classes=columns_12,\n",
    "                                             train_labels = \"train.csv\",\n",
    "                                             test_labels = \"test.csv\",\n",
    "                                             nan_replacement = 0, #float(\"NaN\"),\n",
    "                                             u_enc = [uzeros, uones],\n",
    "                                             epochs=3,\n",
    "                                             batch_size=32,\n",
    "                                             crop = False,\n",
    "                                             dim=(256, 256),\n",
    "                                             #loss = BinaryCrossentropy(),\n",
    "                                             use_class_weights = False,\n",
    "                                             upsample_factors = upsample_factors,\n",
    "                                             metrics=METRICS,\n",
    "                                             single_class_metrics=SINGLE_CLASS_METRICS,\n",
    "                                             optimizer = Adam(learning_rate=2e-4, clipnorm=1),\n",
    "                                             lr_factor = 0.5,\n",
    "                                             augmentation = \"affine\",\n",
    "                                             split_seed = 6122156,\n",
    "                                             split_valid_size = 0.05, \n",
    "                                             preprocess_input_fn = tf.keras.applications.densenet.preprocess_input)\n",
    "\n",
    "bce_benchmark.loss = WeightedBinaryCrossentropy(bce_benchmark.positive_weights,\n",
    "                                                bce_benchmark.negative_weights)"
   ]
  },
  {
   "cell_type": "code",
   "execution_count": null,
   "metadata": {},
   "outputs": [],
   "source": []
  },
  {
   "cell_type": "code",
   "execution_count": 18,
   "metadata": {},
   "outputs": [
    {
     "data": {
      "text/plain": [
       "{'benchmark_name': 'Chexpert_CWBCE_L1Normed_E3_B32_C0_N12_AugAffine_U75_D256_DS9505_2LR4_LF5_Adam_Upsampled',\n",
       " 'dataset_name': 'chexpert_full',\n",
       " 'dataset_folder': 'data/chexpert/full',\n",
       " 'models_dir': 'models',\n",
       " 'epochs': 3,\n",
       " 'optimizer': 'Adam',\n",
       " 'learning_rate': 0.0002,\n",
       " 'lr_factor': 0.5,\n",
       " 'loss': 'weighted_binary_crossentropy',\n",
       " 'use_class_weights': False,\n",
       " 'class_weights': [1.0471136569976807,\n",
       "  0.8615774512290955,\n",
       "  0.21405130624771118,\n",
       "  1.2290253639221191,\n",
       "  0.3829084038734436,\n",
       "  1.5654457807540894,\n",
       "  0.9355764389038086,\n",
       "  0.3477109670639038,\n",
       "  1.1680023670196533,\n",
       "  0.27839189767837524,\n",
       "  1.1709423065185547,\n",
       "  0.7992541790008545],\n",
       " 'positive_weights': [1.0471136569976807,\n",
       "  0.8615774512290955,\n",
       "  0.21405130624771118,\n",
       "  1.2290253639221191,\n",
       "  0.3829084038734436,\n",
       "  1.5654457807540894,\n",
       "  0.9355764389038086,\n",
       "  0.3477109670639038,\n",
       "  1.1680023670196533,\n",
       "  0.27839189767837524,\n",
       "  1.1709423065185547,\n",
       "  0.7992541790008545],\n",
       " 'negative_weights': [0.7336834073066711,\n",
       "  0.7509576678276062,\n",
       "  1.2557218074798584,\n",
       "  0.7222639918327332,\n",
       "  0.9005477428436279,\n",
       "  0.7086204290390015,\n",
       "  0.7431471943855286,\n",
       "  0.9344634413719177,\n",
       "  0.7256606221199036,\n",
       "  1.0406254529953003,\n",
       "  0.7254881262779236,\n",
       "  0.7588201761245728],\n",
       " 'metrics': ['auc',\n",
       "  'precision',\n",
       "  'recall',\n",
       "  'f2_score',\n",
       "  'binary_accuracy',\n",
       "  'accuracy_enlarged_cardiomediastinum',\n",
       "  'accuracy_cardiomegaly',\n",
       "  'accuracy_lung_opacity',\n",
       "  'accuracy_lung_lesion',\n",
       "  'accuracy_edema',\n",
       "  'accuracy_consolidation',\n",
       "  'accuracy_pneumonia',\n",
       "  'accuracy_atelectasis',\n",
       "  'accuracy_pneumothorax',\n",
       "  'accuracy_pleural_effusion',\n",
       "  'accuracy_pleural_other',\n",
       "  'accuracy_fracture',\n",
       "  'auc_enlarged_cardiomediastinum',\n",
       "  'auc_cardiomegaly',\n",
       "  'auc_lung_opacity',\n",
       "  'auc_lung_lesion',\n",
       "  'auc_edema',\n",
       "  'auc_consolidation',\n",
       "  'auc_pneumonia',\n",
       "  'auc_atelectasis',\n",
       "  'auc_pneumothorax',\n",
       "  'auc_pleural_effusion',\n",
       "  'auc_pleural_other',\n",
       "  'auc_fracture',\n",
       "  'precision_enlarged_cardiomediastinum',\n",
       "  'precision_cardiomegaly',\n",
       "  'precision_lung_opacity',\n",
       "  'precision_lung_lesion',\n",
       "  'precision_edema',\n",
       "  'precision_consolidation',\n",
       "  'precision_pneumonia',\n",
       "  'precision_atelectasis',\n",
       "  'precision_pneumothorax',\n",
       "  'precision_pleural_effusion',\n",
       "  'precision_pleural_other',\n",
       "  'precision_fracture',\n",
       "  'recall_enlarged_cardiomediastinum',\n",
       "  'recall_cardiomegaly',\n",
       "  'recall_lung_opacity',\n",
       "  'recall_lung_lesion',\n",
       "  'recall_edema',\n",
       "  'recall_consolidation',\n",
       "  'recall_pneumonia',\n",
       "  'recall_atelectasis',\n",
       "  'recall_pneumothorax',\n",
       "  'recall_pleural_effusion',\n",
       "  'recall_pleural_other',\n",
       "  'recall_fracture',\n",
       "  'f2_score_enlarged_cardiomediastinum',\n",
       "  'f2_score_cardiomegaly',\n",
       "  'f2_score_lung_opacity',\n",
       "  'f2_score_lung_lesion',\n",
       "  'f2_score_edema',\n",
       "  'f2_score_consolidation',\n",
       "  'f2_score_pneumonia',\n",
       "  'f2_score_atelectasis',\n",
       "  'f2_score_pneumothorax',\n",
       "  'f2_score_pleural_effusion',\n",
       "  'f2_score_pleural_other',\n",
       "  'f2_score_fracture'],\n",
       " 'label_columns': ['Enlarged Cardiomediastinum',\n",
       "  'Cardiomegaly',\n",
       "  'Lung Opacity',\n",
       "  'Lung Lesion',\n",
       "  'Edema',\n",
       "  'Consolidation',\n",
       "  'Pneumonia',\n",
       "  'Atelectasis',\n",
       "  'Pneumothorax',\n",
       "  'Pleural Effusion',\n",
       "  'Pleural Other',\n",
       "  'Fracture'],\n",
       " 'path_column': 'Path',\n",
       " 'path_column_prefix': '',\n",
       " 'upsample_factors': {'Enlarged Cardiomediastinum': 1,\n",
       "  'Lung Lesion': 1,\n",
       "  'Pleural Other': 2,\n",
       "  'Fracture': 2},\n",
       " 'shuffle': True,\n",
       " 'batch_size': 32,\n",
       " 'dim': (256, 256),\n",
       " 'crop': False,\n",
       " 'augmentation': 'affine',\n",
       " 'n_channels': 3,\n",
       " 'nan_replacement': 0,\n",
       " 'unc_value': -1,\n",
       " 'u_enc': [['Cardiomegaly',\n",
       "   'Enlarged Cardiomediastinum',\n",
       "   'Lung Opacity',\n",
       "   'Lung Lesion',\n",
       "   'Consolidation',\n",
       "   'Pneumothorax',\n",
       "   'Pleural Effusion'],\n",
       "  ['Edema', 'Atelectasis', 'Fracture', 'Pleural Other', 'Pneumonia']],\n",
       " 'drop_last': False,\n",
       " 'num_samples_train': 266998,\n",
       " 'num_samples_validation': 11596,\n",
       " 'num_samples_test': 234,\n",
       " 'split_seed': 6122156}"
      ]
     },
     "execution_count": 18,
     "metadata": {},
     "output_type": "execute_result"
    }
   ],
   "source": [
    "bce_benchmark.as_dict()"
   ]
  },
  {
   "cell_type": "code",
   "execution_count": 19,
   "metadata": {},
   "outputs": [],
   "source": [
    "bce_chexpert_exp = simple_architecture_experiment(bce_benchmark, DenseNet121, bce_benchmark.label_columns)"
   ]
  },
  {
   "cell_type": "code",
   "execution_count": 20,
   "metadata": {},
   "outputs": [
    {
     "name": "stdout",
     "output_type": "stream",
     "text": [
      "WARNING:tensorflow:Automatic model reloading for interrupted job was removed from the `ModelCheckpoint` callback in multi-worker mode, please use the `keras.callbacks.experimental.BackupAndRestore` callback instead. See this tutorial for details: https://www.tensorflow.org/tutorials/distribute/multi_worker_with_keras#backupandrestore_callback.\n",
      "Epoch 1/3\n",
      "8344/8344 [==============================] - ETA: 0s - loss: 0.2665 - auc: 0.7228 - precision: 0.6592 - recall: 0.0760 - f2_score: 0.0921 - binary_accuracy: 0.8268 - accuracy_enlarged_cardiomediastinum: 0.9038 - accuracy_cardiomegaly: 0.8867 - accuracy_lung_opacity: 0.5276 - accuracy_lung_lesion: 0.9160 - accuracy_edema: 0.7601 - accuracy_consolidation: 0.9332 - accuracy_pneumonia: 0.8904 - accuracy_atelectasis: 0.7092 - accuracy_pneumothorax: 0.9119 - accuracy_pleural_effusion: 0.6978 - accuracy_pleural_other: 0.9111 - accuracy_fracture: 0.8739 - auc_enlarged_cardiomediastinum: 0.6217 - auc_cardiomegaly: 0.7840 - auc_lung_opacity: 0.6890 - auc_lung_lesion: 0.7017 - auc_edema: 0.8083 - auc_consolidation: 0.6828 - auc_pneumonia: 0.6755 - auc_atelectasis: 0.6670 - auc_pneumothorax: 0.7578 - auc_pleural_effusion: 0.8290 - auc_pleural_other: 0.7591 - auc_fracture: 0.6974 - precision_enlarged_cardiomediastinum: 0.4496 - precision_cardiomegaly: 0.5416 - precision_lung_opacity: 0.5834 - precision_lung_lesion: 0.3223 - precision_edema: 0.7361 - precision_consolidation: 0.2099 - precision_pneumonia: 0.3849 - precision_atelectasis: 0.3595 - precision_pneumothorax: 0.4779 - precision_pleural_effusion: 0.8269 - precision_pleural_other: 0.3732 - precision_fracture: 0.5387 - recall_enlarged_cardiomediastinum: 0.0232 - recall_cardiomegaly: 0.1677 - recall_lung_opacity: 0.0023 - recall_lung_lesion: 0.0238 - recall_edema: 0.1413 - recall_consolidation: 0.0124 - recall_pneumonia: 0.0202 - recall_atelectasis: 0.0016 - recall_pneumothorax: 0.1421 - recall_pleural_effusion: 0.2084 - recall_pleural_other: 0.0569 - recall_fracture: 0.0416 - f2_score_enlarged_cardiomediastinum: 0.0284 - f2_score_cardiomegaly: 0.1937 - f2_score_lung_opacity: 0.0027 - f2_score_lung_lesion: 0.0287 - f2_score_edema: 0.1681 - f2_score_consolidation: 0.0148 - f2_score_pneumonia: 0.0246 - f2_score_atelectasis: 0.0019 - f2_score_pneumothorax: 0.1647 - f2_score_pleural_effusion: 0.2443 - f2_score_pleural_other: 0.0682 - f2_score_fracture: 0.0508 - learning rate: 2.0000e-04INFO:tensorflow:Summary name epoch_learning rate is illegal; using epoch_learning_rate instead.\n",
      "\n",
      "Epoch 00001: saving model to models/DenseNet121_Chexpert_CWBCE_L1Normed_E3_B32_C0_N12_AugAffine_U75_D256_DS9505_2LR4_LF5_Adam_Upsampled/weights.01-0.22.hdf5\n",
      "8344/8344 [==============================] - 2318s 278ms/step - loss: 0.2665 - auc: 0.7228 - precision: 0.6592 - recall: 0.0760 - f2_score: 0.0921 - binary_accuracy: 0.8268 - accuracy_enlarged_cardiomediastinum: 0.9038 - accuracy_cardiomegaly: 0.8867 - accuracy_lung_opacity: 0.5276 - accuracy_lung_lesion: 0.9160 - accuracy_edema: 0.7601 - accuracy_consolidation: 0.9332 - accuracy_pneumonia: 0.8904 - accuracy_atelectasis: 0.7092 - accuracy_pneumothorax: 0.9119 - accuracy_pleural_effusion: 0.6978 - accuracy_pleural_other: 0.9111 - accuracy_fracture: 0.8739 - auc_enlarged_cardiomediastinum: 0.6217 - auc_cardiomegaly: 0.7840 - auc_lung_opacity: 0.6890 - auc_lung_lesion: 0.7017 - auc_edema: 0.8083 - auc_consolidation: 0.6828 - auc_pneumonia: 0.6755 - auc_atelectasis: 0.6670 - auc_pneumothorax: 0.7578 - auc_pleural_effusion: 0.8290 - auc_pleural_other: 0.7591 - auc_fracture: 0.6974 - precision_enlarged_cardiomediastinum: 0.4496 - precision_cardiomegaly: 0.5416 - precision_lung_opacity: 0.5834 - precision_lung_lesion: 0.3223 - precision_edema: 0.7361 - precision_consolidation: 0.2099 - precision_pneumonia: 0.3849 - precision_atelectasis: 0.3595 - precision_pneumothorax: 0.4779 - precision_pleural_effusion: 0.8269 - precision_pleural_other: 0.3732 - precision_fracture: 0.5387 - recall_enlarged_cardiomediastinum: 0.0232 - recall_cardiomegaly: 0.1677 - recall_lung_opacity: 0.0023 - recall_lung_lesion: 0.0238 - recall_edema: 0.1413 - recall_consolidation: 0.0124 - recall_pneumonia: 0.0202 - recall_atelectasis: 0.0016 - recall_pneumothorax: 0.1421 - recall_pleural_effusion: 0.2084 - recall_pleural_other: 0.0569 - recall_fracture: 0.0416 - f2_score_enlarged_cardiomediastinum: 0.0284 - f2_score_cardiomegaly: 0.1937 - f2_score_lung_opacity: 0.0027 - f2_score_lung_lesion: 0.0287 - f2_score_edema: 0.1681 - f2_score_consolidation: 0.0148 - f2_score_pneumonia: 0.0246 - f2_score_atelectasis: 0.0019 - f2_score_pneumothorax: 0.1647 - f2_score_pleural_effusion: 0.2443 - f2_score_pleural_other: 0.0682 - f2_score_fracture: 0.0508 - learning rate: 2.0000e-04 - val_loss: 0.2154 - val_auc: 0.7751 - val_precision: 0.6764 - val_recall: 0.1717 - val_f2_score: 0.2018 - val_binary_accuracy: 0.8493 - val_accuracy_enlarged_cardiomediastinum: 0.9503 - val_accuracy_cardiomegaly: 0.8765 - val_accuracy_lung_opacity: 0.5335 - val_accuracy_lung_lesion: 0.9544 - val_accuracy_edema: 0.7594 - val_accuracy_consolidation: 0.9359 - val_accuracy_pneumonia: 0.8956 - val_accuracy_atelectasis: 0.7029 - val_accuracy_pneumothorax: 0.9189 - val_accuracy_pleural_effusion: 0.7404 - val_accuracy_pleural_other: 0.9701 - val_accuracy_fracture: 0.9534 - val_auc_enlarged_cardiomediastinum: 0.6671 - val_auc_cardiomegaly: 0.8669 - val_auc_lung_opacity: 0.7337 - val_auc_lung_lesion: 0.7604 - val_auc_edema: 0.8425 - val_auc_consolidation: 0.7439 - val_auc_pneumonia: 0.7224 - val_auc_atelectasis: 0.7041 - val_auc_pneumothorax: 0.8434 - val_auc_pleural_effusion: 0.8630 - val_auc_pleural_other: 0.7774 - val_auc_fracture: 0.7759 - val_precision_enlarged_cardiomediastinum: 0.3220 - val_precision_cardiomegaly: 0.5346 - val_precision_lung_opacity: 0.6250 - val_precision_lung_lesion: 0.3451 - val_precision_edema: 0.7565 - val_precision_consolidation: 0.3438 - val_precision_pneumonia: 0.5185 - val_precision_atelectasis: 0.0000e+00 - val_precision_pneumothorax: 0.5340 - val_precision_pleural_effusion: 0.8353 - val_precision_pleural_other: 0.2459 - val_precision_fracture: 0.4386 - val_recall_enlarged_cardiomediastinum: 0.0342 - val_recall_cardiomegaly: 0.4993 - val_recall_lung_opacity: 9.2370e-04 - val_recall_lung_lesion: 0.1012 - val_recall_edema: 0.2443 - val_recall_consolidation: 0.0463 - val_recall_pneumonia: 0.0461 - val_recall_atelectasis: 0.0000e+00 - val_recall_pneumothorax: 0.3119 - val_recall_pleural_effusion: 0.4139 - val_recall_pleural_other: 0.0476 - val_recall_fracture: 0.0468 - val_f2_score_enlarged_cardiomediastinum: 0.0417 - val_f2_score_cardiomegaly: 0.5060 - val_f2_score_lung_opacity: 0.0012 - val_f2_score_lung_lesion: 0.1179 - val_f2_score_edema: 0.2826 - val_f2_score_consolidation: 0.0560 - val_f2_score_pneumonia: 0.0564 - val_f2_score_atelectasis: 0.0000e+00 - val_f2_score_pneumothorax: 0.3402 - val_f2_score_pleural_effusion: 0.4604 - val_f2_score_pleural_other: 0.0568 - val_f2_score_fracture: 0.0570\n",
      "Epoch 2/3\n",
      "8344/8344 [==============================] - ETA: 0s - loss: 0.2402 - auc: 0.7939 - precision: 0.7008 - recall: 0.1510 - f2_score: 0.1791 - binary_accuracy: 0.8360 - accuracy_enlarged_cardiomediastinum: 0.9060 - accuracy_cardiomegaly: 0.8973 - accuracy_lung_opacity: 0.5286 - accuracy_lung_lesion: 0.9212 - accuracy_edema: 0.7829 - accuracy_consolidation: 0.9339 - accuracy_pneumonia: 0.8926 - accuracy_atelectasis: 0.7096 - accuracy_pneumothorax: 0.9214 - accuracy_pleural_effusion: 0.7406 - accuracy_pleural_other: 0.9150 - accuracy_fracture: 0.8827 - auc_enlarged_cardiomediastinum: 0.7068 - auc_cardiomegaly: 0.8510 - auc_lung_opacity: 0.7269 - auc_lung_lesion: 0.8017 - auc_edema: 0.8509 - auc_consolidation: 0.7463 - auc_pneumonia: 0.7449 - auc_atelectasis: 0.7129 - auc_pneumothorax: 0.8574 - auc_pleural_effusion: 0.8758 - auc_pleural_other: 0.8531 - auc_fracture: 0.7990 - precision_enlarged_cardiomediastinum: 0.5673 - precision_cardiomegaly: 0.6192 - precision_lung_opacity: 0.8852 - precision_lung_lesion: 0.5537 - precision_edema: 0.7853 - precision_consolidation: 0.3919 - precision_pneumonia: 0.5102 - precision_atelectasis: 0.6951 - precision_pneumothorax: 0.5752 - precision_pleural_effusion: 0.8726 - precision_pleural_other: 0.5138 - precision_fracture: 0.6564 - recall_enlarged_cardiomediastinum: 0.0844 - recall_cardiomegaly: 0.3117 - recall_lung_opacity: 0.0014 - recall_lung_lesion: 0.1786 - recall_edema: 0.2426 - recall_consolidation: 0.0456 - recall_pneumonia: 0.0501 - recall_atelectasis: 0.0012 - recall_pneumothorax: 0.3440 - recall_pleural_effusion: 0.3318 - recall_pleural_other: 0.2518 - recall_fracture: 0.1691 - f2_score_enlarged_cardiomediastinum: 0.1017 - f2_score_cardiomegaly: 0.3461 - f2_score_lung_opacity: 0.0017 - f2_score_lung_lesion: 0.2065 - f2_score_edema: 0.2815 - f2_score_consolidation: 0.0554 - f2_score_pneumonia: 0.0611 - f2_score_atelectasis: 0.0014 - f2_score_pneumothorax: 0.3739 - f2_score_pleural_effusion: 0.3787 - f2_score_pleural_other: 0.2800 - f2_score_fracture: 0.1984 - learning rate: 1.0000e-04INFO:tensorflow:Summary name epoch_learning rate is illegal; using epoch_learning_rate instead.\n",
      "\n",
      "Epoch 00002: saving model to models/DenseNet121_Chexpert_CWBCE_L1Normed_E3_B32_C0_N12_AugAffine_U75_D256_DS9505_2LR4_LF5_Adam_Upsampled/weights.02-0.22.hdf5\n",
      "8344/8344 [==============================] - 2281s 273ms/step - loss: 0.2402 - auc: 0.7939 - precision: 0.7008 - recall: 0.1510 - f2_score: 0.1791 - binary_accuracy: 0.8360 - accuracy_enlarged_cardiomediastinum: 0.9060 - accuracy_cardiomegaly: 0.8973 - accuracy_lung_opacity: 0.5286 - accuracy_lung_lesion: 0.9212 - accuracy_edema: 0.7829 - accuracy_consolidation: 0.9339 - accuracy_pneumonia: 0.8926 - accuracy_atelectasis: 0.7096 - accuracy_pneumothorax: 0.9214 - accuracy_pleural_effusion: 0.7406 - accuracy_pleural_other: 0.9150 - accuracy_fracture: 0.8827 - auc_enlarged_cardiomediastinum: 0.7068 - auc_cardiomegaly: 0.8510 - auc_lung_opacity: 0.7269 - auc_lung_lesion: 0.8017 - auc_edema: 0.8509 - auc_consolidation: 0.7463 - auc_pneumonia: 0.7449 - auc_atelectasis: 0.7129 - auc_pneumothorax: 0.8574 - auc_pleural_effusion: 0.8758 - auc_pleural_other: 0.8531 - auc_fracture: 0.7991 - precision_enlarged_cardiomediastinum: 0.5673 - precision_cardiomegaly: 0.6192 - precision_lung_opacity: 0.8852 - precision_lung_lesion: 0.5537 - precision_edema: 0.7853 - precision_consolidation: 0.3919 - precision_pneumonia: 0.5102 - precision_atelectasis: 0.6951 - precision_pneumothorax: 0.5753 - precision_pleural_effusion: 0.8726 - precision_pleural_other: 0.5138 - precision_fracture: 0.6564 - recall_enlarged_cardiomediastinum: 0.0844 - recall_cardiomegaly: 0.3117 - recall_lung_opacity: 0.0014 - recall_lung_lesion: 0.1786 - recall_edema: 0.2426 - recall_consolidation: 0.0456 - recall_pneumonia: 0.0501 - recall_atelectasis: 0.0012 - recall_pneumothorax: 0.3440 - recall_pleural_effusion: 0.3318 - recall_pleural_other: 0.2518 - recall_fracture: 0.1691 - f2_score_enlarged_cardiomediastinum: 0.1017 - f2_score_cardiomegaly: 0.3461 - f2_score_lung_opacity: 0.0017 - f2_score_lung_lesion: 0.2065 - f2_score_edema: 0.2815 - f2_score_consolidation: 0.0554 - f2_score_pneumonia: 0.0611 - f2_score_atelectasis: 0.0014 - f2_score_pneumothorax: 0.3739 - f2_score_pleural_effusion: 0.3787 - f2_score_pleural_other: 0.2800 - f2_score_fracture: 0.1984 - learning rate: 1.0000e-04 - val_loss: 0.2180 - val_auc: 0.7838 - val_precision: 0.6502 - val_recall: 0.1729 - val_f2_score: 0.2026 - val_binary_accuracy: 0.8477 - val_accuracy_enlarged_cardiomediastinum: 0.9481 - val_accuracy_cardiomegaly: 0.8875 - val_accuracy_lung_opacity: 0.5361 - val_accuracy_lung_lesion: 0.9550 - val_accuracy_edema: 0.7875 - val_accuracy_consolidation: 0.9349 - val_accuracy_pneumonia: 0.8943 - val_accuracy_atelectasis: 0.7031 - val_accuracy_pneumothorax: 0.9259 - val_accuracy_pleural_effusion: 0.7231 - val_accuracy_pleural_other: 0.9322 - val_accuracy_fracture: 0.9442 - val_auc_enlarged_cardiomediastinum: 0.6636 - val_auc_cardiomegaly: 0.8673 - val_auc_lung_opacity: 0.7363 - val_auc_lung_lesion: 0.7850 - val_auc_edema: 0.8521 - val_auc_consolidation: 0.7571 - val_auc_pneumonia: 0.7329 - val_auc_atelectasis: 0.7213 - val_auc_pneumothorax: 0.8516 - val_auc_pleural_effusion: 0.8697 - val_auc_pleural_other: 0.7876 - val_auc_fracture: 0.7816 - val_precision_enlarged_cardiomediastinum: 0.3310 - val_precision_cardiomegaly: 0.7005 - val_precision_lung_opacity: 0.7797 - val_precision_lung_lesion: 0.3851 - val_precision_edema: 0.7397 - val_precision_consolidation: 0.3413 - val_precision_pneumonia: 0.4861 - val_precision_atelectasis: 0.6667 - val_precision_pneumothorax: 0.7311 - val_precision_pleural_effusion: 0.8660 - val_precision_pleural_other: 0.1287 - val_precision_fracture: 0.2889 - val_recall_enlarged_cardiomediastinum: 0.0847 - val_recall_cardiomegaly: 0.2569 - val_recall_lung_opacity: 0.0085 - val_recall_lung_lesion: 0.1281 - val_recall_edema: 0.4079 - val_recall_consolidation: 0.0603 - val_recall_pneumonia: 0.1152 - val_recall_atelectasis: 5.8055e-04 - val_recall_pneumothorax: 0.1967 - val_recall_pleural_effusion: 0.3398 - val_recall_pleural_other: 0.2603 - val_recall_fracture: 0.1461 - val_f2_score_enlarged_cardiomediastinum: 0.0995 - val_f2_score_cardiomegaly: 0.2941 - val_f2_score_lung_opacity: 0.0106 - val_f2_score_lung_lesion: 0.1478 - val_f2_score_edema: 0.4481 - val_f2_score_consolidation: 0.0722 - val_f2_score_pneumonia: 0.1360 - val_f2_score_atelectasis: 7.2553e-04 - val_f2_score_pneumothorax: 0.2304 - val_f2_score_pleural_effusion: 0.3868 - val_f2_score_pleural_other: 0.2161 - val_f2_score_fracture: 0.1621\n",
      "Epoch 3/3\n",
      "8344/8344 [==============================] - ETA: 0s - loss: 0.2243 - auc: 0.8256 - precision: 0.7220 - recall: 0.2008 - f2_score: 0.2346 - binary_accuracy: 0.8424 - accuracy_enlarged_cardiomediastinum: 0.9084 - accuracy_cardiomegaly: 0.9015 - accuracy_lung_opacity: 0.5310 - accuracy_lung_lesion: 0.9282 - accuracy_edema: 0.7925 - accuracy_consolidation: 0.9337 - accuracy_pneumonia: 0.8934 - accuracy_atelectasis: 0.7105 - accuracy_pneumothorax: 0.9282 - accuracy_pleural_effusion: 0.7542 - accuracy_pleural_other: 0.9293 - accuracy_fracture: 0.8980 - auc_enlarged_cardiomediastinum: 0.7558 - auc_cardiomegaly: 0.8695 - auc_lung_opacity: 0.7399 - auc_lung_lesion: 0.8548 - auc_edema: 0.8632 - auc_consolidation: 0.7774 - auc_pneumonia: 0.7710 - auc_atelectasis: 0.7290 - auc_pneumothorax: 0.8921 - auc_pleural_effusion: 0.8860 - auc_pleural_other: 0.9113 - auc_fracture: 0.8574 - precision_enlarged_cardiomediastinum: 0.6210 - precision_cardiomegaly: 0.6404 - precision_lung_opacity: 0.8605 - precision_lung_lesion: 0.6285 - precision_edema: 0.8017 - precision_consolidation: 0.4435 - precision_pneumonia: 0.5302 - precision_atelectasis: 0.7839 - precision_pneumothorax: 0.6148 - precision_pleural_effusion: 0.8860 - precision_pleural_other: 0.6211 - precision_fracture: 0.7127 - recall_enlarged_cardiomediastinum: 0.1509 - recall_cardiomegaly: 0.3681 - recall_lung_opacity: 0.0038 - recall_lung_lesion: 0.3157 - recall_edema: 0.2873 - recall_consolidation: 0.0941 - recall_pneumonia: 0.0973 - recall_atelectasis: 0.0070 - recall_pneumothorax: 0.4408 - recall_pleural_effusion: 0.3708 - recall_pleural_other: 0.4584 - recall_fracture: 0.3228 - f2_score_enlarged_cardiomediastinum: 0.1778 - f2_score_cardiomegaly: 0.4023 - f2_score_lung_opacity: 0.0047 - f2_score_lung_lesion: 0.3504 - f2_score_edema: 0.3296 - f2_score_consolidation: 0.1117 - f2_score_pneumonia: 0.1163 - f2_score_atelectasis: 0.0087 - f2_score_pneumothorax: 0.4671 - f2_score_pleural_effusion: 0.4195 - f2_score_pleural_other: 0.4836 - f2_score_fracture: 0.3624 - learning rate: 5.0000e-05INFO:tensorflow:Summary name epoch_learning rate is illegal; using epoch_learning_rate instead.\n",
      "\n",
      "Epoch 00003: saving model to models/DenseNet121_Chexpert_CWBCE_L1Normed_E3_B32_C0_N12_AugAffine_U75_D256_DS9505_2LR4_LF5_Adam_Upsampled/weights.03-0.21.hdf5\n",
      "8344/8344 [==============================] - 2260s 271ms/step - loss: 0.2243 - auc: 0.8256 - precision: 0.7220 - recall: 0.2008 - f2_score: 0.2346 - binary_accuracy: 0.8424 - accuracy_enlarged_cardiomediastinum: 0.9084 - accuracy_cardiomegaly: 0.9015 - accuracy_lung_opacity: 0.5310 - accuracy_lung_lesion: 0.9282 - accuracy_edema: 0.7925 - accuracy_consolidation: 0.9337 - accuracy_pneumonia: 0.8934 - accuracy_atelectasis: 0.7105 - accuracy_pneumothorax: 0.9282 - accuracy_pleural_effusion: 0.7542 - accuracy_pleural_other: 0.9293 - accuracy_fracture: 0.8980 - auc_enlarged_cardiomediastinum: 0.7558 - auc_cardiomegaly: 0.8695 - auc_lung_opacity: 0.7399 - auc_lung_lesion: 0.8548 - auc_edema: 0.8632 - auc_consolidation: 0.7774 - auc_pneumonia: 0.7710 - auc_atelectasis: 0.7290 - auc_pneumothorax: 0.8921 - auc_pleural_effusion: 0.8860 - auc_pleural_other: 0.9113 - auc_fracture: 0.8574 - precision_enlarged_cardiomediastinum: 0.6210 - precision_cardiomegaly: 0.6404 - precision_lung_opacity: 0.8605 - precision_lung_lesion: 0.6285 - precision_edema: 0.8017 - precision_consolidation: 0.4435 - precision_pneumonia: 0.5302 - precision_atelectasis: 0.7839 - precision_pneumothorax: 0.6148 - precision_pleural_effusion: 0.8860 - precision_pleural_other: 0.6211 - precision_fracture: 0.7127 - recall_enlarged_cardiomediastinum: 0.1509 - recall_cardiomegaly: 0.3681 - recall_lung_opacity: 0.0038 - recall_lung_lesion: 0.3157 - recall_edema: 0.2873 - recall_consolidation: 0.0941 - recall_pneumonia: 0.0973 - recall_atelectasis: 0.0070 - recall_pneumothorax: 0.4408 - recall_pleural_effusion: 0.3708 - recall_pleural_other: 0.4584 - recall_fracture: 0.3228 - f2_score_enlarged_cardiomediastinum: 0.1778 - f2_score_cardiomegaly: 0.4023 - f2_score_lung_opacity: 0.0047 - f2_score_lung_lesion: 0.3504 - f2_score_edema: 0.3296 - f2_score_consolidation: 0.1117 - f2_score_pneumonia: 0.1163 - f2_score_atelectasis: 0.0087 - f2_score_pneumothorax: 0.4671 - f2_score_pleural_effusion: 0.4195 - f2_score_pleural_other: 0.4836 - f2_score_fracture: 0.3624 - learning rate: 5.0000e-05 - val_loss: 0.2132 - val_auc: 0.7880 - val_precision: 0.6324 - val_recall: 0.2046 - val_f2_score: 0.2366 - val_binary_accuracy: 0.8486 - val_accuracy_enlarged_cardiomediastinum: 0.9467 - val_accuracy_cardiomegaly: 0.8885 - val_accuracy_lung_opacity: 0.5344 - val_accuracy_lung_lesion: 0.9374 - val_accuracy_edema: 0.7969 - val_accuracy_consolidation: 0.9307 - val_accuracy_pneumonia: 0.8899 - val_accuracy_atelectasis: 0.7043 - val_accuracy_pneumothorax: 0.9241 - val_accuracy_pleural_effusion: 0.7257 - val_accuracy_pleural_other: 0.9622 - val_accuracy_fracture: 0.9424 - val_auc_enlarged_cardiomediastinum: 0.6591 - val_auc_cardiomegaly: 0.8715 - val_auc_lung_opacity: 0.7441 - val_auc_lung_lesion: 0.7893 - val_auc_edema: 0.8586 - val_auc_consolidation: 0.7602 - val_auc_pneumonia: 0.7380 - val_auc_atelectasis: 0.7214 - val_auc_pneumothorax: 0.8679 - val_auc_pleural_effusion: 0.8753 - val_auc_pleural_other: 0.7838 - val_auc_fracture: 0.7869 - val_precision_enlarged_cardiomediastinum: 0.2975 - val_precision_cardiomegaly: 0.6404 - val_precision_lung_opacity: 0.7273 - val_precision_lung_lesion: 0.2545 - val_precision_edema: 0.7118 - val_precision_consolidation: 0.2472 - val_precision_pneumonia: 0.4299 - val_precision_atelectasis: 0.6889 - val_precision_pneumothorax: 0.5781 - val_precision_pleural_effusion: 0.8820 - val_precision_pleural_other: 0.2123 - val_precision_fracture: 0.2973 - val_recall_enlarged_cardiomediastinum: 0.0847 - val_recall_cardiomegaly: 0.3503 - val_recall_lung_opacity: 0.0044 - val_recall_lung_lesion: 0.2603 - val_recall_edema: 0.4985 - val_recall_consolidation: 0.0617 - val_recall_pneumonia: 0.1539 - val_recall_atelectasis: 0.0090 - val_recall_pneumothorax: 0.3812 - val_recall_pleural_effusion: 0.3401 - val_recall_pleural_other: 0.1429 - val_recall_fracture: 0.1854 - val_f2_score_enlarged_cardiomediastinum: 0.0988 - val_f2_score_cardiomegaly: 0.3852 - val_f2_score_lung_opacity: 0.0055 - val_f2_score_lung_lesion: 0.2592 - val_f2_score_edema: 0.5303 - val_f2_score_consolidation: 0.0726 - val_f2_score_pneumonia: 0.1766 - val_f2_score_atelectasis: 0.0112 - val_f2_score_pneumothorax: 0.4091 - val_f2_score_pleural_effusion: 0.3877 - val_f2_score_pleural_other: 0.1529 - val_f2_score_fracture: 0.2005\n"
     ]
    },
    {
     "data": {
      "text/plain": [
       "<tensorflow.python.keras.callbacks.History at 0x7f7c8cebb2b0>"
      ]
     },
     "execution_count": 20,
     "metadata": {},
     "output_type": "execute_result"
    }
   ],
   "source": [
    "bce_chexpert_exp.train()"
   ]
  },
  {
   "cell_type": "code",
   "execution_count": 21,
   "metadata": {},
   "outputs": [
    {
     "name": "stdout",
     "output_type": "stream",
     "text": [
      "234/234 [==============================] - 6s 27ms/step\n",
      "  1/234 [..............................] - ETA: 34s - loss: 0.2233 - auc: 0.0000e+00 - precision: 0.0000e+00 - recall: 0.0000e+00 - f2_score: 0.0000e+00 - binary_accuracy: 0.7500 - accuracy_enlarged_cardiomediastinum: 1.0000 - accuracy_cardiomegaly: 1.0000 - accuracy_lung_opacity: 0.0000e+00 - accuracy_lung_lesion: 1.0000 - accuracy_edema: 1.0000 - accuracy_consolidation: 1.0000 - accuracy_pneumonia: 0.0000e+00 - accuracy_atelectasis: 1.0000 - accuracy_pneumothorax: 1.0000 - accuracy_pleural_effusion: 1.0000 - accuracy_pleural_other: 0.0000e+00 - accuracy_fracture: 1.0000 - auc_enlarged_cardiomediastinum: 0.0000e+00 - auc_cardiomegaly: 0.0000e+00 - auc_lung_opacity: 0.0000e+00 - auc_lung_lesion: 0.0000e+00 - auc_edema: 0.0000e+00 - auc_consolidation: 0.0000e+00 - auc_pneumonia: 0.0000e+00 - auc_atelectasis: 0.0000e+00 - auc_pneumothorax: 0.0000e+00 - auc_pleural_effusion: 0.0000e+00 - auc_pleural_other: 0.0000e+00 - auc_fracture: 0.0000e+00 - precision_enlarged_cardiomediastinum: 0.0000e+00 - precision_cardiomegaly: 0.0000e+00 - precision_lung_opacity: 0.0000e+00 - precision_lung_lesion: 0.0000e+00 - precision_edema: 0.0000e+00 - precision_consolidation: 0.0000e+00 - precision_pneumonia: 0.0000e+00 - precision_atelectasis: 0.0000e+00 - precision_pneumothorax: 0.0000e+00 - precision_pleural_effusion: 0.0000e+00 - precision_pleural_other: 0.0000e+00 - precision_fracture: 0.0000e+00 - recall_enlarged_cardiomediastinum: 0.0000e+00 - recall_cardiomegaly: 0.0000e+00 - recall_lung_opacity: 0.0000e+00 - recall_lung_lesion: 0.0000e+00 - recall_edema: 0.0000e+00 - recall_consolidation: 0.0000e+00 - recall_pneumonia: 0.0000e+00 - recall_atelectasis: 0.0000e+00 - recall_pneumothorax: 0.0000e+00 - recall_pleural_effusion: 0.0000e+00 - recall_pleural_other: 0.0000e+00 - recall_fracture: 0.0000e+00 - f2_score_enlarged_cardiomediastinum: 0.0000e+00 - f2_score_cardiomegaly: 0.0000e+00 - f2_score_lung_opacity: 0.0000e+00 - f2_score_lung_lesion: 0.0000e+00 - f2_score_edema: 0.0000e+00 - f2_score_consolidation: 0.0000e+00 - f2_score_pneumonia: 0.0000e+00 - f2_score_atelectasis: 0.0000e+00 - f2_score_pneumothorax: 0.0000e+00 - f2_score_pleural_effusion: 0.0000e+00 - f2_score_pleural_other: 0.0000e+00 - f2_score_fracture: 0.0000e+00"
     ]
    },
    {
     "name": "stderr",
     "output_type": "stream",
     "text": [
      "/usr/local/lib/python3.6/dist-packages/sklearn/metrics/_classification.py:1221: UndefinedMetricWarning: Precision and F-score are ill-defined and being set to 0.0 in labels with no predicted samples. Use `zero_division` parameter to control this behavior.\n",
      "  _warn_prf(average, modifier, msg_start, len(result))\n",
      "/usr/local/lib/python3.6/dist-packages/sklearn/metrics/_classification.py:1221: UndefinedMetricWarning: Recall and F-score are ill-defined and being set to 0.0 in labels with no true samples. Use `zero_division` parameter to control this behavior.\n",
      "  _warn_prf(average, modifier, msg_start, len(result))\n",
      "/usr/local/lib/python3.6/dist-packages/sklearn/metrics/_classification.py:1221: UndefinedMetricWarning: Precision and F-score are ill-defined and being set to 0.0 in samples with no predicted labels. Use `zero_division` parameter to control this behavior.\n",
      "  _warn_prf(average, modifier, msg_start, len(result))\n",
      "/usr/local/lib/python3.6/dist-packages/sklearn/metrics/_classification.py:1221: UndefinedMetricWarning: Recall and F-score are ill-defined and being set to 0.0 in samples with no true labels. Use `zero_division` parameter to control this behavior.\n",
      "  _warn_prf(average, modifier, msg_start, len(result))\n"
     ]
    },
    {
     "name": "stdout",
     "output_type": "stream",
     "text": [
      "234/234 [==============================] - 14s 60ms/step - loss: 0.3080 - auc: 0.7576 - precision: 0.6000 - recall: 0.1044 - f2_score: 0.1251 - binary_accuracy: 0.8123 - accuracy_enlarged_cardiomediastinum: 0.5385 - accuracy_cardiomegaly: 0.7393 - accuracy_lung_opacity: 0.4615 - accuracy_lung_lesion: 0.9701 - accuracy_edema: 0.8803 - accuracy_consolidation: 0.8675 - accuracy_pneumonia: 0.9402 - accuracy_atelectasis: 0.6624 - accuracy_pneumothorax: 0.9530 - accuracy_pleural_effusion: 0.7735 - accuracy_pleural_other: 0.9786 - accuracy_fracture: 0.9829 - auc_enlarged_cardiomediastinum: 0.6232 - auc_cardiomegaly: 0.7873 - auc_lung_opacity: 0.8933 - auc_lung_lesion: 0.8047 - auc_edema: 0.9260 - auc_consolidation: 0.8645 - auc_pneumonia: 0.7494 - auc_atelectasis: 0.8278 - auc_pneumothorax: 0.7937 - auc_pleural_effusion: 0.9132 - auc_pleural_other: 0.9077 - auc_fracture: 0.0000e+00 - precision_enlarged_cardiomediastinum: 1.0000 - precision_cardiomegaly: 0.8889 - precision_lung_opacity: 0.0000e+00 - precision_lung_lesion: 0.0000e+00 - precision_edema: 0.7742 - precision_consolidation: 1.0000 - precision_pneumonia: 0.2000 - precision_atelectasis: 1.0000 - precision_pneumothorax: 0.3333 - precision_pleural_effusion: 0.8889 - precision_pleural_other: 0.0000e+00 - precision_fracture: 0.0000e+00 - recall_enlarged_cardiomediastinum: 0.0092 - recall_cardiomegaly: 0.1176 - recall_lung_opacity: 0.0000e+00 - recall_lung_lesion: 0.0000e+00 - recall_edema: 0.5333 - recall_consolidation: 0.0606 - recall_pneumonia: 0.2500 - recall_atelectasis: 0.0125 - recall_pneumothorax: 0.3750 - recall_pleural_effusion: 0.2388 - recall_pleural_other: 0.0000e+00 - recall_fracture: 0.0000e+00 - f2_score_enlarged_cardiomediastinum: 0.0114 - f2_score_cardiomegaly: 0.1423 - f2_score_lung_opacity: 0.0000e+00 - f2_score_lung_lesion: 0.0000e+00 - f2_score_edema: 0.5687 - f2_score_consolidation: 0.0746 - f2_score_pneumonia: 0.2381 - f2_score_atelectasis: 0.0156 - f2_score_pneumothorax: 0.3659 - f2_score_pleural_effusion: 0.2797 - f2_score_pleural_other: 0.0000e+00 - f2_score_fracture: 0.0000e+00\n"
     ]
    },
    {
     "data": {
      "text/plain": [
       "{'report': '                            precision    recall  f1-score   support\\n\\nEnlarged Cardiomediastinum       1.00      0.01      0.02       109\\n              Cardiomegaly       0.00      0.00      0.00        68\\n              Lung Opacity       0.00      0.00      0.00       126\\n               Lung Lesion       0.00      0.00      0.00         1\\n                     Edema       0.10      0.07      0.08        45\\n             Consolidation       0.00      0.00      0.00        33\\n                 Pneumonia       0.00      0.00      0.00         8\\n               Atelectasis       0.00      0.00      0.00        80\\n              Pneumothorax       0.00      0.00      0.00         8\\n          Pleural Effusion       0.06      0.01      0.02        67\\n             Pleural Other       0.00      0.00      0.00         1\\n                  Fracture       0.00      0.00      0.00         0\\n\\n                 micro avg       0.05      0.01      0.02       546\\n                 macro avg       0.10      0.01      0.01       546\\n              weighted avg       0.21      0.01      0.01       546\\n               samples avg       0.02      0.00      0.01       546\\n',\n",
       " 'metrics': {'loss': 0.30803051590919495,\n",
       "  'auc': 0.757584810256958,\n",
       "  'precision': 0.6000000238418579,\n",
       "  'recall': 0.10439560562372208,\n",
       "  'f2_score': 0.12505485117435455,\n",
       "  'binary_accuracy': 0.8123220205307007,\n",
       "  'accuracy_enlarged_cardiomediastinum': 0.5384615659713745,\n",
       "  'accuracy_cardiomegaly': 0.7393162250518799,\n",
       "  'accuracy_lung_opacity': 0.4615384638309479,\n",
       "  'accuracy_lung_lesion': 0.9700854420661926,\n",
       "  'accuracy_edema': 0.8803418874740601,\n",
       "  'accuracy_consolidation': 0.867521345615387,\n",
       "  'accuracy_pneumonia': 0.94017094373703,\n",
       "  'accuracy_atelectasis': 0.6623931527137756,\n",
       "  'accuracy_pneumothorax': 0.9529914259910583,\n",
       "  'accuracy_pleural_effusion': 0.7735042572021484,\n",
       "  'accuracy_pleural_other': 0.9786324501037598,\n",
       "  'accuracy_fracture': 0.9829059839248657,\n",
       "  'auc_enlarged_cardiomediastinum': 0.623155951499939,\n",
       "  'auc_cardiomegaly': 0.7873405814170837,\n",
       "  'auc_lung_opacity': 0.8933348059654236,\n",
       "  'auc_lung_lesion': 0.8047210574150085,\n",
       "  'auc_edema': 0.9260435104370117,\n",
       "  'auc_consolidation': 0.8645408749580383,\n",
       "  'auc_pneumonia': 0.7494469285011292,\n",
       "  'auc_atelectasis': 0.8278408646583557,\n",
       "  'auc_pneumothorax': 0.7936946153640747,\n",
       "  'auc_pleural_effusion': 0.9131736755371094,\n",
       "  'auc_pleural_other': 0.9077253937721252,\n",
       "  'auc_fracture': 0.0,\n",
       "  'precision_enlarged_cardiomediastinum': 1.0,\n",
       "  'precision_cardiomegaly': 0.8888888955116272,\n",
       "  'precision_lung_opacity': 0.0,\n",
       "  'precision_lung_lesion': 0.0,\n",
       "  'precision_edema': 0.774193525314331,\n",
       "  'precision_consolidation': 1.0,\n",
       "  'precision_pneumonia': 0.20000000298023224,\n",
       "  'precision_atelectasis': 1.0,\n",
       "  'precision_pneumothorax': 0.3333333432674408,\n",
       "  'precision_pleural_effusion': 0.8888888955116272,\n",
       "  'precision_pleural_other': 0.0,\n",
       "  'precision_fracture': 0.0,\n",
       "  'recall_enlarged_cardiomediastinum': 0.00917431153357029,\n",
       "  'recall_cardiomegaly': 0.11764705926179886,\n",
       "  'recall_lung_opacity': 0.0,\n",
       "  'recall_lung_lesion': 0.0,\n",
       "  'recall_edema': 0.5333333611488342,\n",
       "  'recall_consolidation': 0.06060606241226196,\n",
       "  'recall_pneumonia': 0.25,\n",
       "  'recall_atelectasis': 0.012500000186264515,\n",
       "  'recall_pneumothorax': 0.375,\n",
       "  'recall_pleural_effusion': 0.23880596458911896,\n",
       "  'recall_pleural_other': 0.0,\n",
       "  'recall_fracture': 0.0,\n",
       "  'f2_score_enlarged_cardiomediastinum': 0.011441647075116634,\n",
       "  'f2_score_cardiomegaly': 0.1423487514257431,\n",
       "  'f2_score_lung_opacity': 0.0,\n",
       "  'f2_score_lung_lesion': 0.0,\n",
       "  'f2_score_edema': 0.5687204599380493,\n",
       "  'f2_score_consolidation': 0.0746268704533577,\n",
       "  'f2_score_pneumonia': 0.2380952537059784,\n",
       "  'f2_score_atelectasis': 0.015576324425637722,\n",
       "  'f2_score_pneumothorax': 0.3658536374568939,\n",
       "  'f2_score_pleural_effusion': 0.279720276594162,\n",
       "  'f2_score_pleural_other': 0.0,\n",
       "  'f2_score_fracture': 0.0},\n",
       " 'predictions': array([[8.6336501e-02, 1.0183598e-01, 1.7019494e-01, ..., 5.7352450e-02,\n",
       "         4.2663530e-01, 4.1467744e-01],\n",
       "        [3.0154184e-01, 1.6373681e-01, 2.2971253e-01, ..., 1.3555884e-01,\n",
       "         1.1430042e-03, 2.1022739e-02],\n",
       "        [9.4917424e-02, 4.2161174e-02, 4.4705503e-02, ..., 4.8138010e-03,\n",
       "         7.8037754e-02, 5.5172447e-02],\n",
       "        ...,\n",
       "        [1.0681228e-01, 1.1391082e-02, 1.8520883e-01, ..., 3.6892857e-02,\n",
       "         2.2029291e-01, 3.2946137e-03],\n",
       "        [1.7373233e-01, 6.7831087e-03, 1.7430156e-01, ..., 2.6181886e-01,\n",
       "         8.7587172e-03, 7.7452004e-02],\n",
       "        [5.3279255e-02, 3.5568211e-02, 2.5153211e-01, ..., 7.4955618e-01,\n",
       "         4.2610566e-04, 1.1283738e-02]], dtype=float32),\n",
       " 'groundtruth_label': array([[0., 0., 1., ..., 0., 0., 0.],\n",
       "        [1., 0., 1., ..., 0., 0., 0.],\n",
       "        [0., 0., 0., ..., 0., 0., 0.],\n",
       "        ...,\n",
       "        [1., 1., 0., ..., 0., 0., 0.],\n",
       "        [0., 0., 0., ..., 1., 0., 0.],\n",
       "        [1., 0., 1., ..., 0., 0., 0.]], dtype=float32)}"
      ]
     },
     "execution_count": 21,
     "metadata": {},
     "output_type": "execute_result"
    }
   ],
   "source": [
    "bce_chexpert_exp.evaluate()"
   ]
  },
  {
   "cell_type": "code",
   "execution_count": 22,
   "metadata": {},
   "outputs": [
    {
     "name": "stdout",
     "output_type": "stream",
     "text": [
      "WARNING:tensorflow:From /usr/local/lib/python3.6/dist-packages/tensorflow/python/training/tracking/tracking.py:109: Model.state_updates (from tensorflow.python.keras.engine.training) is deprecated and will be removed in a future version.\n",
      "Instructions for updating:\n",
      "This property should not be used in TensorFlow 2.0, as updates are applied automatically.\n",
      "WARNING:tensorflow:From /usr/local/lib/python3.6/dist-packages/tensorflow/python/training/tracking/tracking.py:109: Layer.updates (from tensorflow.python.keras.engine.base_layer) is deprecated and will be removed in a future version.\n",
      "Instructions for updating:\n",
      "This property should not be used in TensorFlow 2.0, as updates are applied automatically.\n",
      "INFO:tensorflow:Assets written to: /srv/idp-radio-1/models/DenseNet121_Chexpert_CWBCE_L1Normed_E3_B32_C0_N12_AugAffine_U75_D256_DS9505_2LR4_LF5_Adam_Upsampled/DenseNet121_Chexpert_CWBCE_L1Normed_E3_B32_C0_N12_AugAffine_U75_D256_DS9505_2LR4_LF5_Adam_Upsampled_20200823-123406/assets\n"
     ]
    },
    {
     "data": {
      "text/plain": [
       "'ef363064-e53c-11ea-8173-0242ac110005'"
      ]
     },
     "execution_count": 22,
     "metadata": {},
     "output_type": "execute_result"
    }
   ],
   "source": [
    "bce_chexpert_exp.save()"
   ]
  },
  {
   "cell_type": "code",
   "execution_count": null,
   "metadata": {},
   "outputs": [],
   "source": []
  },
  {
   "cell_type": "code",
   "execution_count": 23,
   "metadata": {},
   "outputs": [
    {
     "data": {
      "text/plain": [
       "(<tf.Tensor: shape=(12,), dtype=float32, numpy=\n",
       " array([1.0471137 , 0.86157745, 0.2140513 , 1.2290254 , 0.3829084 ,\n",
       "        1.5654458 , 0.93557644, 0.34771097, 1.1680024 , 0.2783919 ,\n",
       "        1.1709423 , 0.7992542 ], dtype=float32)>,\n",
       " <tf.Tensor: shape=(12,), dtype=float32, numpy=\n",
       " array([1.0471137 , 0.86157745, 0.2140513 , 1.2290254 , 0.3829084 ,\n",
       "        1.5654458 , 0.93557644, 0.34771097, 1.1680024 , 0.2783919 ,\n",
       "        1.1709423 , 0.7992542 ], dtype=float32)>,\n",
       " <tf.Tensor: shape=(12,), dtype=float32, numpy=\n",
       " array([0.7336834 , 0.75095767, 1.2557218 , 0.722264  , 0.90054774,\n",
       "        0.7086204 , 0.7431472 , 0.93446344, 0.7256606 , 1.0406255 ,\n",
       "        0.7254881 , 0.7588202 ], dtype=float32)>)"
      ]
     },
     "execution_count": 23,
     "metadata": {},
     "output_type": "execute_result"
    }
   ],
   "source": [
    "compute_class_weight(bce_chexpert_exp.benchmark.traingen)"
   ]
  },
  {
   "cell_type": "code",
   "execution_count": null,
   "metadata": {},
   "outputs": [],
   "source": [
    "trained_weights = bce_chexpert_exp.model.get_weights()"
   ]
  },
  {
   "cell_type": "code",
   "execution_count": null,
   "metadata": {},
   "outputs": [],
   "source": [
    "images, labels = bce_chexpert_exp.benchmark.traingen[0]\n",
    "len(images)"
   ]
  },
  {
   "cell_type": "code",
   "execution_count": null,
   "metadata": {},
   "outputs": [],
   "source": [
    "preds = bce_chexpert_exp.model(images, training=True)\n",
    "preds.op"
   ]
  },
  {
   "cell_type": "code",
   "execution_count": null,
   "metadata": {},
   "outputs": [],
   "source": [
    "bce_chexpert_exp.model.summary(line_length=150)"
   ]
  },
  {
   "cell_type": "code",
   "execution_count": null,
   "metadata": {},
   "outputs": [],
   "source": [
    "index = -1\n",
    "trained_weights[index].shape, trained_weights[index], np.isnan(trained_weights[index]).any()"
   ]
  },
  {
   "cell_type": "code",
   "execution_count": null,
   "metadata": {},
   "outputs": [],
   "source": [
    "nan_layers = [i for i in range(len(trained_weights)) if np.isnan(trained_weights[i]).any()] \n",
    "#nan_layers   "
   ]
  },
  {
   "cell_type": "code",
   "execution_count": null,
   "metadata": {},
   "outputs": [],
   "source": [
    "mean_weights = {i:np.abs(trained_weights[i]).mean() for i in range(len(trained_weights))}\n",
    "#mean_weights"
   ]
  },
  {
   "cell_type": "code",
   "execution_count": null,
   "metadata": {},
   "outputs": [],
   "source": [
    "{i:trained_weights[i].shape for i in range(len(trained_weights))}"
   ]
  },
  {
   "cell_type": "code",
   "execution_count": null,
   "metadata": {},
   "outputs": [],
   "source": [
    "for i in range(191, 195):\n",
    "    print(i, trained_weights[i].shape, trained_weights[i])"
   ]
  },
  {
   "cell_type": "code",
   "execution_count": null,
   "metadata": {},
   "outputs": [],
   "source": [
    "#chexpert_exp.save()"
   ]
  },
  {
   "cell_type": "code",
   "execution_count": null,
   "metadata": {},
   "outputs": [],
   "source": [
    "from datetime import datetime\n",
    "model_filename = chexpert_exp.model_name + \"_\" + datetime.now().strftime(\"%Y%m%d-%H%M%S\")\n",
    "model_filename_tf = model_filename + \".tf\"\n",
    "model_filename_h5 = model_filename + \".h5\"\n",
    "model_filename"
   ]
  },
  {
   "cell_type": "code",
   "execution_count": null,
   "metadata": {},
   "outputs": [],
   "source": [
    "folderpath = Path(os.getcwd()) / 'models' / chexpert_exp.model_name\n",
    "path = folderpath / model_filename\n",
    "path"
   ]
  },
  {
   "cell_type": "code",
   "execution_count": null,
   "metadata": {},
   "outputs": [],
   "source": [
    "# make sure path exists, ceate one if necessary\n",
    "Path(folderpath).mkdir(parents=True, exist_ok=True)\n",
    "chexpert_exp.model.save(path, save_format=\"tf\")"
   ]
  },
  {
   "cell_type": "code",
   "execution_count": null,
   "metadata": {},
   "outputs": [],
   "source": [
    "# make sure path exists, ceate one if necessary\n",
    "Path(folderpath).mkdir(parents=True, exist_ok=True)\n",
    "chexpert_exp.model.save(folderpath / model_filename_h5, save_format=\"h5\")"
   ]
  },
  {
   "cell_type": "code",
   "execution_count": null,
   "metadata": {},
   "outputs": [],
   "source": [
    "!pwd"
   ]
  },
  {
   "cell_type": "code",
   "execution_count": null,
   "metadata": {},
   "outputs": [],
   "source": [
    "folderpath / model_filename_h5"
   ]
  },
  {
   "cell_type": "code",
   "execution_count": null,
   "metadata": {},
   "outputs": [],
   "source": [
    "chexpert_exp.save()"
   ]
  },
  {
   "cell_type": "code",
   "execution_count": null,
   "metadata": {},
   "outputs": [],
   "source": [
    "chexpert_exp.evaluate()"
   ]
  },
  {
   "cell_type": "code",
   "execution_count": null,
   "metadata": {},
   "outputs": [],
   "source": [
    "testgen = chexpert_benchmarks[\"BCE_E1_B32_C0_N5_D256_DS0595_savetest7\"].testgen"
   ]
  },
  {
   "cell_type": "code",
   "execution_count": null,
   "metadata": {},
   "outputs": [],
   "source": [
    "preds = chexpert_exp.model.predict(testgen, steps=len(testgen), verbose=1)"
   ]
  },
  {
   "cell_type": "code",
   "execution_count": null,
   "metadata": {},
   "outputs": [],
   "source": [
    "import numpy as np\n",
    "from sklearn.metrics import classification_report\n",
    "from tensorflow.keras.metrics import Precision, Recall\n",
    "from tensorflow.keras import models\n",
    "import json\n",
    "from src.architectures.benchmarks.benchmark import Benchmark, Experiment\n",
    "from pathlib import Path\n",
    "from keras.utils.generic_utils import get_custom_objects\n",
    "from src.metrics.losses import WeightedBinaryCrossentropy, compute_class_weight\n",
    "\n",
    "\n",
    "groundtruth_label = testgen.get_labels_nonan()\n",
    "thresholds = [0.5]\n",
    "for t in thresholds:\n",
    "    print('current threshold: ', t)\n",
    "    predictions_bool = (preds >= t)\n",
    "    y_pred = np.array(predictions_bool, dtype=int)\n",
    "\n",
    "    # report = classification_report(groundtruth_label, y_pred, target_names=list(CHEXPERT_BENCHMARKS['WBCE_E5_B32_C0'].label_columns))\n",
    "    # print('sklearn report: ', report)\n",
    "    \n",
    "    pre = Precision(thresholds=t)\n",
    "    pre.update_state(groundtruth_label, predictions_bool)\n",
    "    print('TF Precision: ', pre.result())\n",
    "    pre.reset_states()\n",
    "    \n",
    "    rec = Recall(thresholds=t)\n",
    "    rec.update_state(groundtruth_label, predictions_bool)\n",
    "    print('TF Recall: ', rec.result())\n",
    "    rec.reset_states()"
   ]
  },
  {
   "cell_type": "code",
   "execution_count": null,
   "metadata": {
    "pycharm": {
     "name": "#%%\n"
    }
   },
   "outputs": [],
   "source": [
    "report = classification_report(groundtruth_label, y_pred, target_names=chexpert_benchmarks[\"BCE_E1_B32_C0_N5_D256_DS0595_savetest7\"].label_columns)\n",
    "print('sklearn report: ', report)"
   ]
  },
  {
   "cell_type": "code",
   "execution_count": null,
   "metadata": {},
   "outputs": [],
   "source": []
  },
  {
   "cell_type": "code",
   "execution_count": null,
   "metadata": {},
   "outputs": [],
   "source": [
    "model = tf.keras.models.load_model('models/DenseNet121_Chexpert_BCE_E1_B32_C0_N5_D256_DS0595_savetest7/DenseNet121_Chexpert_BCE_E1_B32_C0_N5_D256_DS0595_savetest7_20200819-125620.h5', compile=False)"
   ]
  },
  {
   "cell_type": "code",
   "execution_count": null,
   "metadata": {},
   "outputs": [],
   "source": [
    "predstwo = model.predict(testgen, steps=len(testgen), verbose=1)"
   ]
  },
  {
   "cell_type": "code",
   "execution_count": null,
   "metadata": {},
   "outputs": [],
   "source": [
    "groundtruth_label = testgen.get_labels_nonan()\n",
    "predictions_bool = (predstwo >= t)\n",
    "y_pred = np.array(predictions_bool, dtype=int)\n",
    "report = classification_report(groundtruth_label, y_pred, target_names=chexpert_benchmarks[\"BCE_E1_B32_C0_N5_D256_DS0595_savetest7\"].label_columns)\n",
    "print('sklearn report: ', report)"
   ]
  },
  {
   "cell_type": "code",
   "execution_count": null,
   "metadata": {},
   "outputs": [],
   "source": []
  },
  {
   "cell_type": "code",
   "execution_count": null,
   "metadata": {},
   "outputs": [],
   "source": [
    "\"test.h5\".replace(\".h5\", \"\")"
   ]
  },
  {
   "cell_type": "code",
   "execution_count": null,
   "metadata": {},
   "outputs": [],
   "source": []
  },
  {
   "cell_type": "code",
   "execution_count": null,
   "metadata": {},
   "outputs": [],
   "source": []
  },
  {
   "cell_type": "code",
   "execution_count": null,
   "metadata": {},
   "outputs": [],
   "source": []
  },
  {
   "cell_type": "code",
   "execution_count": null,
   "metadata": {},
   "outputs": [],
   "source": []
  },
  {
   "cell_type": "code",
   "execution_count": null,
   "metadata": {},
   "outputs": [],
   "source": []
  },
  {
   "cell_type": "code",
   "execution_count": null,
   "metadata": {},
   "outputs": [],
   "source": []
  },
  {
   "cell_type": "code",
   "execution_count": null,
   "metadata": {},
   "outputs": [],
   "source": []
  },
  {
   "cell_type": "code",
   "execution_count": null,
   "metadata": {},
   "outputs": [],
   "source": []
  },
  {
   "cell_type": "code",
   "execution_count": null,
   "metadata": {},
   "outputs": [],
   "source": []
  },
  {
   "cell_type": "code",
   "execution_count": null,
   "metadata": {},
   "outputs": [],
   "source": []
  },
  {
   "cell_type": "code",
   "execution_count": null,
   "metadata": {},
   "outputs": [],
   "source": [
    "# model_guendel_chestxray14 = densenet(classes=len(CHESTXRAY14_COLUMNS))\n",
    "model_guendel_chexpert = densenet(classes=len(CHEXPERT_COLUMNS))\n",
    "\n",
    "#experiment_guendel_chestxray14 = Experiment(chestxray14_benchmark, model_guendel_chestxray14)\n",
    "experiment_guendel_chexpert = Experiment(CHEXPERT_BENCHMARKS[\"WBCE_E10_B32\"], model_guendel_chexpert, model_name=\"test_WBCE_32\")\n",
    "\n"
   ]
  },
  {
   "cell_type": "code",
   "execution_count": null,
   "metadata": {},
   "outputs": [],
   "source": [
    "#experiment_guendel_chestxray14_result =  experiment_guendel_chestxray14.run()"
   ]
  },
  {
   "cell_type": "code",
   "execution_count": null,
   "metadata": {},
   "outputs": [],
   "source": [
    "experiment_guendel_chexpert_result =  experiment_guendel_chexpert.run()"
   ]
  },
  {
   "cell_type": "code",
   "execution_count": null,
   "metadata": {},
   "outputs": [],
   "source": [
    "experiment_guendel_chexpert.evaluate()"
   ]
  },
  {
   "cell_type": "code",
   "execution_count": null,
   "metadata": {},
   "outputs": [],
   "source": [
    "experiment_guendel_chexpert.save(upload=False)"
   ]
  },
  {
   "cell_type": "code",
   "execution_count": null,
   "metadata": {},
   "outputs": [],
   "source": [
    "print(\"done\")"
   ]
  },
  {
   "cell_type": "code",
   "execution_count": null,
   "metadata": {},
   "outputs": [],
   "source": [
    "CHEXPERT_BENCHMARKS[\"WBCE_E10_B32\"].as_dict()"
   ]
  },
  {
   "cell_type": "code",
   "execution_count": null,
   "metadata": {},
   "outputs": [],
   "source": []
  },
  {
   "cell_type": "code",
   "execution_count": null,
   "metadata": {},
   "outputs": [],
   "source": [
    "import numpy as np\n",
    "import tensorflow as tf\n",
    "from tensorflow.keras.losses import Loss\n",
    "from tensorflow.python.ops.losses import util as tf_losses_util\n",
    "from tensorflow.python.framework import tensor_util\n",
    "from tensorflow.python.framework import constant_op\n",
    "from tensorflow.python.ops import math_ops\n",
    "from tensorflow.python.ops import clip_ops\n",
    "from tensorflow.python.keras import backend_config"
   ]
  },
  {
   "cell_type": "code",
   "execution_count": null,
   "metadata": {},
   "outputs": [],
   "source": [
    "weights_pos = tf.ones((4)) * 20.0\n",
    "weights_neg = tf.ones((4)) * 0.5\n",
    "y_true = tf.constant([[0, -1, -1, 1], [-1, 0, -1, -1]], dtype=tf.float32)\n",
    "y_pred = tf.constant([[0.1, 0.2, 0.3, 0.4], [0.5, 0.6, 0.7, 0.8]])\n",
    "loss = tf.keras.losses.binary_crossentropy(y_true, y_pred)\n",
    "loss"
   ]
  },
  {
   "cell_type": "code",
   "execution_count": null,
   "metadata": {},
   "outputs": [],
   "source": [
    "y_true = tf.constant(y_true, dtype=tf.float32)\n",
    "y_true"
   ]
  },
  {
   "cell_type": "code",
   "execution_count": null,
   "metadata": {},
   "outputs": [],
   "source": [
    "y_pred = tf.constant(y_pred)\n",
    "y_pred"
   ]
  },
  {
   "cell_type": "code",
   "execution_count": null,
   "metadata": {},
   "outputs": [],
   "source": [
    "if tensor_util.is_tensor(y_pred) and tensor_util.is_tensor(y_true):\n",
    "    y_pred, y_true = tf_losses_util.squeeze_or_expand_dimensions(\n",
    "        y_pred, y_true)\n",
    "\n",
    "epsilon_ = constant_op.constant(\n",
    "     backend_config.epsilon(), dtype=y_pred.dtype.base_dtype)\n",
    "y_pred = clip_ops.clip_by_value(y_pred, epsilon_, 1. - epsilon_)"
   ]
  },
  {
   "cell_type": "code",
   "execution_count": null,
   "metadata": {},
   "outputs": [],
   "source": [
    "mask = tf.cast(tf.math.greater_equal(y_true, 0), tf.float32)\n",
    "\n",
    "# Compute cross entropy from probabilities.\n",
    "bce_pos = y_true * math_ops.log(y_pred + epsilon_)\n",
    "bce_neg = (1 - y_true) * math_ops.log(1 - y_pred + epsilon_)\n",
    "\n",
    "bce_pos = tf.math.multiply_no_nan(bce_pos, mask)\n",
    "bce_neg = tf.math.multiply_no_nan(bce_neg, mask)\n",
    "\n",
    "bce = bce_pos * weights_pos + \\\n",
    "    bce_neg * weights_neg\n",
    "\n",
    "loss = tf.reduce_sum(-bce) / tf.reduce_sum(mask)\n",
    "loss"
   ]
  },
  {
   "cell_type": "code",
   "execution_count": null,
   "metadata": {},
   "outputs": [],
   "source": [
    "tf.reduce_sum(mask)"
   ]
  },
  {
   "cell_type": "code",
   "execution_count": null,
   "metadata": {},
   "outputs": [],
   "source": []
  },
  {
   "cell_type": "code",
   "execution_count": null,
   "metadata": {},
   "outputs": [],
   "source": [
    "bce_neg"
   ]
  },
  {
   "cell_type": "code",
   "execution_count": null,
   "metadata": {},
   "outputs": [],
   "source": [
    "bce"
   ]
  },
  {
   "cell_type": "code",
   "execution_count": null,
   "metadata": {},
   "outputs": [],
   "source": [
    "\n",
    "from tensorflow.keras import backend as K\n"
   ]
  },
  {
   "cell_type": "code",
   "execution_count": null,
   "metadata": {},
   "outputs": [],
   "source": []
  },
  {
   "cell_type": "code",
   "execution_count": null,
   "metadata": {},
   "outputs": [],
   "source": []
  },
  {
   "cell_type": "code",
   "execution_count": null,
   "metadata": {},
   "outputs": [],
   "source": []
  },
  {
   "cell_type": "code",
   "execution_count": null,
   "metadata": {},
   "outputs": [],
   "source": []
  },
  {
   "cell_type": "code",
   "execution_count": null,
   "metadata": {},
   "outputs": [],
   "source": []
  },
  {
   "cell_type": "code",
   "execution_count": null,
   "metadata": {},
   "outputs": [],
   "source": []
  },
  {
   "cell_type": "code",
   "execution_count": null,
   "metadata": {},
   "outputs": [],
   "source": []
  },
  {
   "cell_type": "code",
   "execution_count": null,
   "metadata": {},
   "outputs": [],
   "source": []
  },
  {
   "cell_type": "code",
   "execution_count": null,
   "metadata": {},
   "outputs": [],
   "source": []
  },
  {
   "cell_type": "code",
   "execution_count": null,
   "metadata": {},
   "outputs": [],
   "source": []
  },
  {
   "cell_type": "code",
   "execution_count": null,
   "metadata": {},
   "outputs": [],
   "source": []
  },
  {
   "cell_type": "code",
   "execution_count": null,
   "metadata": {},
   "outputs": [],
   "source": []
  },
  {
   "cell_type": "code",
   "execution_count": null,
   "metadata": {},
   "outputs": [],
   "source": []
  },
  {
   "cell_type": "code",
   "execution_count": null,
   "metadata": {},
   "outputs": [],
   "source": []
  }
 ],
 "metadata": {
  "kernelspec": {
   "display_name": "Python 3",
   "language": "python",
   "name": "python3"
  },
  "language_info": {
   "codemirror_mode": {
    "name": "ipython",
    "version": 3
   },
   "file_extension": ".py",
   "mimetype": "text/x-python",
   "name": "python",
   "nbconvert_exporter": "python",
   "pygments_lexer": "ipython3",
   "version": "3.6.9"
  },
  "pycharm": {
   "stem_cell": {
    "cell_type": "raw",
    "metadata": {
     "collapsed": false
    },
    "source": []
   }
  }
 },
 "nbformat": 4,
 "nbformat_minor": 4
}
