{
 "cells": [
  {
   "cell_type": "code",
   "execution_count": 1,
   "metadata": {
    "pycharm": {
     "name": "#%%\n"
    }
   },
   "outputs": [
    {
     "data": {
      "text/plain": [
       "'/srv/idp-radio-1'"
      ]
     },
     "execution_count": 1,
     "metadata": {},
     "output_type": "execute_result"
    }
   ],
   "source": [
    "import os \n",
    "import datetime\n",
    "from pathlib import Path\n",
    "from dotenv import load_dotenv, find_dotenv\n",
    "\n",
    "basepath = Path(os.getcwd())\n",
    "# make sure your working directory is the repository root.\n",
    "if basepath.name != \"idp-radio-1\":\n",
    "    os.chdir(basepath.parent.parent.parent)\n",
    "load_dotenv(find_dotenv())\n",
    "\n",
    "%load_ext autoreload\n",
    "%autoreload 2\n",
    "os.getcwd()"
   ]
  },
  {
   "cell_type": "code",
   "execution_count": 2,
   "metadata": {
    "pycharm": {
     "is_executing": false
    }
   },
   "outputs": [],
   "source": [
    "import os \n",
    "import tensorflow as tf\n",
    "from pathlib import Path"
   ]
  },
  {
   "cell_type": "code",
   "execution_count": 3,
   "metadata": {},
   "outputs": [],
   "source": [
    "import cv2"
   ]
  },
  {
   "cell_type": "code",
   "execution_count": 4,
   "metadata": {},
   "outputs": [
    {
     "name": "stdout",
     "output_type": "stream",
     "text": [
      "Device mapping:\n",
      "/job:localhost/replica:0/task:0/device:GPU:0 -> device: 0, name: GeForce RTX 2080 Ti, pci bus id: 0000:04:00.0, compute capability: 7.5\n",
      "\n"
     ]
    },
    {
     "data": {
      "text/plain": [
       "<tensorflow.python.client.session.Session at 0x7fa00ea2f5f8>"
      ]
     },
     "execution_count": 4,
     "metadata": {},
     "output_type": "execute_result"
    }
   ],
   "source": [
    "# Run this before loading other dependencies, otherwise they might occupy memory on gpu 0 by default and it will stay that way\n",
    "\n",
    "# Specify which GPU(s) to use\n",
    "os.environ[\"CUDA_VISIBLE_DEVICES\"] = \"1\"  # Or 2, 3, etc. other than 0\n",
    "\n",
    "config = tf.compat.v1.ConfigProto(device_count={'GPU': 1}, allow_soft_placement=True, log_device_placement=True)\n",
    "config.gpu_options.allow_growth = True\n",
    "config.gpu_options.per_process_gpu_memory_fraction = 1.0\n",
    "tf.compat.v1.Session(config=config)\n"
   ]
  },
  {
   "cell_type": "code",
   "execution_count": 5,
   "metadata": {},
   "outputs": [],
   "source": [
    "from tensorflow.keras.applications.inception_v3 import InceptionV3\n",
    "from tensorflow.keras.applications.densenet import DenseNet121\n",
    "from tensorflow.keras.applications.resnet_v2 import ResNet101V2\n",
    "from src.architectures.simple.simple_base import SimpleBaseArchitecture\n",
    "from src.architectures.adv.guendel19 import densenet\n",
    "import numpy as np\n",
    "\n",
    "from src.architectures.benchmarks.benchmark import Benchmark, Experiment\n",
    "from tensorflow.keras.optimizers import Adam, SGD\n",
    "from src.architectures.benchmarks.benchmark_definitions import Chexpert_Benchmark, Chestxray14_Benchmark, simple_architecture_experiment, generate_benchmarks, METRICS, SINGLE_CLASS_METRICS, CHEXPERT_COLUMNS, CHESTXRAY14_COLUMNS\n",
    "from src.metrics.metrics import F2Score\n",
    "from src.metrics.losses import WeightedBinaryCrossentropy, BinaryCrossentropy, compute_class_weight"
   ]
  },
  {
   "cell_type": "code",
   "execution_count": 6,
   "metadata": {},
   "outputs": [],
   "source": [
    "#CHEXPERT_BENCHMARKS, CHESTXRAY14_BENCHMARKS = generate_benchmarks (batch_sizes={\"Medium\": 32}, epoch_sizes= {\"Dev\": 5,}, crop={\"C0\": False}, name_suffix=\"\",)\n",
    "\n"
   ]
  },
  {
   "cell_type": "code",
   "execution_count": 7,
   "metadata": {},
   "outputs": [],
   "source": [
    "#CHEXPERT_BENCHMARKS.keys() "
   ]
  },
  {
   "cell_type": "code",
   "execution_count": 8,
   "metadata": {},
   "outputs": [],
   "source": [
    "#CHESTXRAY14_BENCHMARKS.keys()"
   ]
  },
  {
   "cell_type": "code",
   "execution_count": 9,
   "metadata": {},
   "outputs": [],
   "source": [
    "#[m.name for m in METRICS]"
   ]
  },
  {
   "cell_type": "code",
   "execution_count": 10,
   "metadata": {},
   "outputs": [],
   "source": [
    "#CHEXPERT_COLUMNS"
   ]
  },
  {
   "cell_type": "code",
   "execution_count": 11,
   "metadata": {},
   "outputs": [
    {
     "name": "stdout",
     "output_type": "stream",
     "text": [
      "URLs open for the following services:\n",
      "[('tensorboard', 'http://2ed6ba3ba26a.ngrok.io'), ('jupyterlab', 'http://cf3e4fece84f.ngrok.io')]\n"
     ]
    }
   ],
   "source": [
    "!remote_access/get_tunnels.sh"
   ]
  },
  {
   "cell_type": "code",
   "execution_count": 12,
   "metadata": {},
   "outputs": [],
   "source": [
    "#CHEXPERT_BENCHMARKS[\"BCE_E5_B32_C0\"].as_dict()"
   ]
  },
  {
   "cell_type": "code",
   "execution_count": 13,
   "metadata": {},
   "outputs": [],
   "source": [
    "#chexpert_exp = simple_architecture_experiment(CHEXPERT_BENCHMARKS[\"BCE_E5_B32_C0\"], DenseNet121, CHEXPERT_COLUMNS)"
   ]
  },
  {
   "cell_type": "code",
   "execution_count": 14,
   "metadata": {},
   "outputs": [],
   "source": [
    "#chexpert_exp.benchmark.as_dict()"
   ]
  },
  {
   "cell_type": "code",
   "execution_count": 15,
   "metadata": {},
   "outputs": [],
   "source": [
    "#chexpert_exp.run()"
   ]
  },
  {
   "cell_type": "code",
   "execution_count": null,
   "metadata": {},
   "outputs": [],
   "source": []
  },
  {
   "cell_type": "code",
   "execution_count": 16,
   "metadata": {},
   "outputs": [],
   "source": [
    "columns_12 = ['Enlarged Cardiomediastinum',\n",
    "                    'Cardiomegaly',\n",
    "                    'Lung Opacity',\n",
    "                    'Lung Lesion',\n",
    "                    'Edema',\n",
    "                    'Consolidation',\n",
    "                    'Pneumonia',\n",
    "                    'Atelectasis',\n",
    "                    'Pneumothorax',\n",
    "                    'Pleural Effusion',\n",
    "                    'Pleural Other',\n",
    "                    'Fracture']\n",
    "columns_5 =  ['Cardiomegaly',\n",
    "                'Edema',\n",
    "                'Consolidation',\n",
    "                'Atelectasis',\n",
    "                'Pleural Effusion']\n",
    "\n",
    "uzeros = ['Cardiomegaly',\n",
    "        'Enlarged Cardiomediastinum',\n",
    "        'Lung Opacity',\n",
    "        'Lung Lesion',\n",
    "        'Consolidation',\n",
    "        'Pneumothorax',\n",
    "        'Pleural Effusion']\n",
    "\n",
    "uones = ['Edema',\n",
    "        'Atelectasis',\n",
    "        'Fracture',\n",
    "        'Pleural Other',\n",
    "        'Pneumonia',]\n",
    "\n",
    "upsample_factors = {\n",
    "    \"Enlarged Cardiomediastinum\": 1,\n",
    "    \"Lung Lesion\":1,\n",
    "    #\"Pneumothorax\":1,\n",
    "    #\"Pneumonia\":1,\n",
    "    \"Pleural Other\":2,\n",
    "    \"Fracture\":2,\n",
    "}\n",
    "transformations_0 = {\"hist_equalization\":{}}\n",
    "transformations_1 = { \"gaussian_blur\":{\"kernal_size\":3}, \"hist_equalization\":{}}\n",
    "transformations_2 = {\"unsharp_mask\":{\"radius\":2, \"amount\":1}}\n",
    "transformations_3 = {\"windowing\"}"
   ]
  },
  {
   "cell_type": "code",
   "execution_count": 18,
   "metadata": {},
   "outputs": [],
   "source": [
    "bce_benchmark = Chexpert_Benchmark (path = Path(os.environ.get(\"CHEXPERT_DATASET_DIRECTORY\")),\n",
    "                                             name=\"Chexpert_CWBCE_L1Normed_E3_B32_C0_N12_AugAffine_sharp21_U75_D256_DS9505_5LR1_LF1_SGD_Upsampled\",\n",
    "                                             classes=columns_12,\n",
    "                                             train_labels = \"train.csv\",\n",
    "                                             test_labels = \"test.csv\",\n",
    "                                             nan_replacement = 0, #float(\"NaN\"),\n",
    "                                             u_enc = [uzeros, uones],\n",
    "                                             epochs=3,\n",
    "                                             batch_size=32,\n",
    "                                             crop = False,\n",
    "                                             dim=(256, 256),\n",
    "                                             #loss = BinaryCrossentropy(),\n",
    "                                             use_class_weights = False,\n",
    "                                             upsample_factors = upsample_factors,\n",
    "                                             metrics=METRICS,\n",
    "                                             single_class_metrics=SINGLE_CLASS_METRICS,\n",
    "                                             optimizer = SGD(learning_rate=5e-1, clipnorm=1),\n",
    "                                             lr_factor = 0.1,\n",
    "                                             augmentation = \"affine\",\n",
    "                                             transformations = transformations_2,\n",
    "                                             split_seed = 6122156,\n",
    "                                             split_valid_size = 0.05, \n",
    "                                             preprocess_input_fn = tf.keras.applications.inception_v3.preprocess_input)\n",
    "\n",
    "bce_benchmark.loss = WeightedBinaryCrossentropy(bce_benchmark.positive_weights,\n",
    "                                                bce_benchmark.negative_weights)"
   ]
  },
  {
   "cell_type": "code",
   "execution_count": null,
   "metadata": {},
   "outputs": [],
   "source": []
  },
  {
   "cell_type": "code",
   "execution_count": 19,
   "metadata": {},
   "outputs": [
    {
     "data": {
      "text/plain": [
       "{'benchmark_name': 'Chexpert_CWBCE_L1Normed_E3_B32_C0_N12_AugAffine_sharp21_U75_D256_DS9505_5LR1_LF1_SGD_Upsampled',\n",
       " 'dataset_name': 'chexpert_full',\n",
       " 'dataset_folder': 'data/chexpert/full',\n",
       " 'models_dir': 'models',\n",
       " 'epochs': 3,\n",
       " 'optimizer': 'SGD',\n",
       " 'learning_rate': 0.5,\n",
       " 'lr_factor': 0.1,\n",
       " 'loss': 'weighted_binary_crossentropy',\n",
       " 'use_class_weights': False,\n",
       " 'class_weights': [1.0471136569976807,\n",
       "  0.8615774512290955,\n",
       "  0.21405130624771118,\n",
       "  1.2290253639221191,\n",
       "  0.3829084038734436,\n",
       "  1.5654457807540894,\n",
       "  0.9355764389038086,\n",
       "  0.3477109670639038,\n",
       "  1.1680023670196533,\n",
       "  0.27839189767837524,\n",
       "  1.1709423065185547,\n",
       "  0.7992541790008545],\n",
       " 'positive_weights': [1.0471136569976807,\n",
       "  0.8615774512290955,\n",
       "  0.21405130624771118,\n",
       "  1.2290253639221191,\n",
       "  0.3829084038734436,\n",
       "  1.5654457807540894,\n",
       "  0.9355764389038086,\n",
       "  0.3477109670639038,\n",
       "  1.1680023670196533,\n",
       "  0.27839189767837524,\n",
       "  1.1709423065185547,\n",
       "  0.7992541790008545],\n",
       " 'negative_weights': [0.7336834073066711,\n",
       "  0.7509576678276062,\n",
       "  1.2557218074798584,\n",
       "  0.7222639918327332,\n",
       "  0.9005477428436279,\n",
       "  0.7086204290390015,\n",
       "  0.7431471943855286,\n",
       "  0.9344634413719177,\n",
       "  0.7256606221199036,\n",
       "  1.0406254529953003,\n",
       "  0.7254881262779236,\n",
       "  0.7588201761245728],\n",
       " 'metrics': ['auc',\n",
       "  'precision',\n",
       "  'recall',\n",
       "  'f2_score',\n",
       "  'binary_accuracy',\n",
       "  'accuracy_enlarged_cardiomediastinum',\n",
       "  'accuracy_cardiomegaly',\n",
       "  'accuracy_lung_opacity',\n",
       "  'accuracy_lung_lesion',\n",
       "  'accuracy_edema',\n",
       "  'accuracy_consolidation',\n",
       "  'accuracy_pneumonia',\n",
       "  'accuracy_atelectasis',\n",
       "  'accuracy_pneumothorax',\n",
       "  'accuracy_pleural_effusion',\n",
       "  'accuracy_pleural_other',\n",
       "  'accuracy_fracture',\n",
       "  'auc_enlarged_cardiomediastinum',\n",
       "  'auc_cardiomegaly',\n",
       "  'auc_lung_opacity',\n",
       "  'auc_lung_lesion',\n",
       "  'auc_edema',\n",
       "  'auc_consolidation',\n",
       "  'auc_pneumonia',\n",
       "  'auc_atelectasis',\n",
       "  'auc_pneumothorax',\n",
       "  'auc_pleural_effusion',\n",
       "  'auc_pleural_other',\n",
       "  'auc_fracture',\n",
       "  'precision_enlarged_cardiomediastinum',\n",
       "  'precision_cardiomegaly',\n",
       "  'precision_lung_opacity',\n",
       "  'precision_lung_lesion',\n",
       "  'precision_edema',\n",
       "  'precision_consolidation',\n",
       "  'precision_pneumonia',\n",
       "  'precision_atelectasis',\n",
       "  'precision_pneumothorax',\n",
       "  'precision_pleural_effusion',\n",
       "  'precision_pleural_other',\n",
       "  'precision_fracture',\n",
       "  'recall_enlarged_cardiomediastinum',\n",
       "  'recall_cardiomegaly',\n",
       "  'recall_lung_opacity',\n",
       "  'recall_lung_lesion',\n",
       "  'recall_edema',\n",
       "  'recall_consolidation',\n",
       "  'recall_pneumonia',\n",
       "  'recall_atelectasis',\n",
       "  'recall_pneumothorax',\n",
       "  'recall_pleural_effusion',\n",
       "  'recall_pleural_other',\n",
       "  'recall_fracture',\n",
       "  'f2_score_enlarged_cardiomediastinum',\n",
       "  'f2_score_cardiomegaly',\n",
       "  'f2_score_lung_opacity',\n",
       "  'f2_score_lung_lesion',\n",
       "  'f2_score_edema',\n",
       "  'f2_score_consolidation',\n",
       "  'f2_score_pneumonia',\n",
       "  'f2_score_atelectasis',\n",
       "  'f2_score_pneumothorax',\n",
       "  'f2_score_pleural_effusion',\n",
       "  'f2_score_pleural_other',\n",
       "  'f2_score_fracture'],\n",
       " 'label_columns': ['Enlarged Cardiomediastinum',\n",
       "  'Cardiomegaly',\n",
       "  'Lung Opacity',\n",
       "  'Lung Lesion',\n",
       "  'Edema',\n",
       "  'Consolidation',\n",
       "  'Pneumonia',\n",
       "  'Atelectasis',\n",
       "  'Pneumothorax',\n",
       "  'Pleural Effusion',\n",
       "  'Pleural Other',\n",
       "  'Fracture'],\n",
       " 'path_column': 'Path',\n",
       " 'path_column_prefix': '',\n",
       " 'upsample_factors': {'Enlarged Cardiomediastinum': 1,\n",
       "  'Lung Lesion': 1,\n",
       "  'Pleural Other': 2,\n",
       "  'Fracture': 2},\n",
       " 'shuffle': True,\n",
       " 'batch_size': 32,\n",
       " 'dim': (256, 256),\n",
       " 'crop': False,\n",
       " 'transformations': {'unsharp_mask': {'radius': 2, 'amount': 1}},\n",
       " 'augmentation': 'affine',\n",
       " 'n_channels': 3,\n",
       " 'nan_replacement': 0,\n",
       " 'unc_value': -1,\n",
       " 'u_enc': [['Cardiomegaly',\n",
       "   'Enlarged Cardiomediastinum',\n",
       "   'Lung Opacity',\n",
       "   'Lung Lesion',\n",
       "   'Consolidation',\n",
       "   'Pneumothorax',\n",
       "   'Pleural Effusion'],\n",
       "  ['Edema', 'Atelectasis', 'Fracture', 'Pleural Other', 'Pneumonia']],\n",
       " 'drop_last': False,\n",
       " 'num_samples_train': 266998,\n",
       " 'num_samples_validation': 11596,\n",
       " 'num_samples_test': 234,\n",
       " 'split_seed': 6122156}"
      ]
     },
     "execution_count": 19,
     "metadata": {},
     "output_type": "execute_result"
    }
   ],
   "source": [
    "bce_benchmark.as_dict()"
   ]
  },
  {
   "cell_type": "code",
   "execution_count": 20,
   "metadata": {},
   "outputs": [
    {
     "name": "stdout",
     "output_type": "stream",
     "text": [
      "Downloading data from https://storage.googleapis.com/tensorflow/keras-applications/inception_v3/inception_v3_weights_tf_dim_ordering_tf_kernels_notop.h5\n",
      "87916544/87910968 [==============================] - 3s 0us/step\n"
     ]
    }
   ],
   "source": [
    "bce_chexpert_exp = simple_architecture_experiment(bce_benchmark, InceptionV3, bce_benchmark.label_columns)"
   ]
  },
  {
   "cell_type": "code",
   "execution_count": 21,
   "metadata": {},
   "outputs": [
    {
     "name": "stdout",
     "output_type": "stream",
     "text": [
      "WARNING:tensorflow:Automatic model reloading for interrupted job was removed from the `ModelCheckpoint` callback in multi-worker mode, please use the `keras.callbacks.experimental.BackupAndRestore` callback instead. See this tutorial for details: https://www.tensorflow.org/tutorials/distribute/multi_worker_with_keras#backupandrestore_callback.\n",
      "Epoch 1/3\n",
      "3718/8344 [============>.................] - ETA: 19:50 - loss: 0.2745 - auc: 0.6938 - precision: 0.6507 - recall: 0.0502 - f2_score: 0.0613 - binary_accuracy: 0.8243 - accuracy_enlarged_cardiomediastinum: 0.9046 - accuracy_cardiomegaly: 0.8847 - accuracy_lung_opacity: 0.5267 - accuracy_lung_lesion: 0.9162 - accuracy_edema: 0.7526 - accuracy_consolidation: 0.9320 - accuracy_pneumonia: 0.8903 - accuracy_atelectasis: 0.7093 - accuracy_pneumothorax: 0.9120 - accuracy_pleural_effusion: 0.6772 - accuracy_pleural_other: 0.9114 - accuracy_fracture: 0.8748 - auc_enlarged_cardiomediastinum: 0.5862 - auc_cardiomegaly: 0.7407 - auc_lung_opacity: 0.6733 - auc_lung_lesion: 0.6675 - auc_edema: 0.7892 - auc_consolidation: 0.6659 - auc_pneumonia: 0.6511 - auc_atelectasis: 0.6480 - auc_pneumothorax: 0.7183 - auc_pleural_effusion: 0.7961 - auc_pleural_other: 0.7322 - auc_fracture: 0.6571 - precision_enlarged_cardiomediastinum: 0.3617 - precision_cardiomegaly: 0.5402 - precision_lung_opacity: 0.5938 - precision_lung_lesion: 0.1920 - precision_edema: 0.7218 - precision_consolidation: 0.1443 - precision_pneumonia: 0.3866 - precision_atelectasis: 0.4143 - precision_pneumothorax: 0.3963 - precision_pleural_effusion: 0.8106 - precision_pleural_other: 0.3301 - precision_fracture: 0.4423 - recall_enlarged_cardiomediastinum: 0.0115 - recall_cardiomegaly: 0.1183 - recall_lung_opacity: 0.0029 - recall_lung_lesion: 0.0029 - recall_edema: 0.0982 - recall_consolidation: 0.0047 - recall_pneumonia: 0.0070 - recall_atelectasis: 0.0027 - recall_pneumothorax: 0.0782 - recall_pleural_effusion: 0.1429 - recall_pleural_other: 0.0277 - recall_fracture: 0.0224 - f2_score_enlarged_cardiomediastinum: 0.0142 - f2_score_cardiomegaly: 0.1392 - f2_score_lung_opacity: 0.0034 - f2_score_lung_lesion: 0.0036 - f2_score_edema: 0.1183 - f2_score_consolidation: 0.0056 - f2_score_pneumonia: 0.0088 - f2_score_atelectasis: 0.0032 - f2_score_pneumothorax: 0.0920 - f2_score_pleural_effusion: 0.1700 - f2_score_pleural_other: 0.0338 - f2_score_fracture: 0.0271 - learning rate: 0.5000"
     ]
    },
    {
     "name": "stderr",
     "output_type": "stream",
     "text": [
      "IOPub message rate exceeded.\n",
      "The notebook server will temporarily stop sending output\n",
      "to the client in order to avoid crashing it.\n",
      "To change this limit, set the config variable\n",
      "`--NotebookApp.iopub_msg_rate_limit`.\n",
      "\n",
      "Current values:\n",
      "NotebookApp.iopub_msg_rate_limit=1000.0 (msgs/sec)\n",
      "NotebookApp.rate_limit_window=3.0 (secs)\n",
      "\n"
     ]
    },
    {
     "name": "stdout",
     "output_type": "stream",
     "text": [
      "8344/8344 [==============================] - ETA: 0s - loss: 0.2667 - auc: 0.7200 - precision: 0.6752 - recall: 0.0724 - f2_score: 0.0879 - binary_accuracy: 0.8271 - accuracy_enlarged_cardiomediastinum: 0.9044 - accuracy_cardiomegaly: 0.8877 - accuracy_lung_opacity: 0.5275 - accuracy_lung_lesion: 0.9169 - accuracy_edema: 0.7600 - accuracy_consolidation: 0.9333 - accuracy_pneumonia: 0.8907 - accuracy_atelectasis: 0.7093 - accuracy_pneumothorax: 0.9130 - accuracy_pleural_effusion: 0.6953 - accuracy_pleural_other: 0.9115 - accuracy_fracture: 0.8758 - auc_enlarged_cardiomediastinum: 0.6149 - auc_cardiomegaly: 0.7773 - auc_lung_opacity: 0.6877 - auc_lung_lesion: 0.6973 - auc_edema: 0.8074 - auc_consolidation: 0.6858 - auc_pneumonia: 0.6749 - auc_atelectasis: 0.6665 - auc_pneumothorax: 0.7561 - auc_pleural_effusion: 0.8224 - auc_pleural_other: 0.7588 - auc_fracture: 0.6904 - precision_enlarged_cardiomediastinum: 0.4475 - precision_cardiomegaly: 0.5658 - precision_lung_opacity: 0.5896 - precision_lung_lesion: 0.3332 - precision_edema: 0.7432 - precision_consolidation: 0.2271 - precision_pneumonia: 0.4119 - precision_atelectasis: 0.4815 - precision_pneumothorax: 0.4593 - precision_pleural_effusion: 0.8368 - precision_pleural_other: 0.3901 - precision_fracture: 0.5289 - recall_enlarged_cardiomediastinum: 0.0269 - recall_cardiomegaly: 0.1671 - recall_lung_opacity: 0.0014 - recall_lung_lesion: 0.0210 - recall_edema: 0.1347 - recall_consolidation: 0.0086 - recall_pneumonia: 0.0123 - recall_atelectasis: 0.0014 - recall_pneumothorax: 0.1317 - recall_pleural_effusion: 0.1971 - recall_pleural_other: 0.0590 - recall_fracture: 0.0450 - f2_score_enlarged_cardiomediastinum: 0.0331 - f2_score_cardiomegaly: 0.1934 - f2_score_lung_opacity: 0.0017 - f2_score_lung_lesion: 0.0257 - f2_score_edema: 0.1605 - f2_score_consolidation: 0.0106 - f2_score_pneumonia: 0.0152 - f2_score_atelectasis: 0.0017 - f2_score_pneumothorax: 0.1525 - f2_score_pleural_effusion: 0.2316 - f2_score_pleural_other: 0.0706 - f2_score_fracture: 0.0548 - learning rate: 0.5000INFO:tensorflow:Summary name epoch_learning rate is illegal; using epoch_learning_rate instead.\n",
      "\n",
      "Epoch 00001: saving model to models/InceptionV3_Chexpert_CWBCE_L1Normed_E3_B32_C0_N12_AugAffine_sharp21_U75_D256_DS9505_5LR1_LF1_SGD_Upsampled/weights.01-0.23.hdf5\n",
      "8344/8344 [==============================] - 2196s 263ms/step - loss: 0.2667 - auc: 0.7200 - precision: 0.6752 - recall: 0.0724 - f2_score: 0.0879 - binary_accuracy: 0.8271 - accuracy_enlarged_cardiomediastinum: 0.9044 - accuracy_cardiomegaly: 0.8877 - accuracy_lung_opacity: 0.5275 - accuracy_lung_lesion: 0.9169 - accuracy_edema: 0.7600 - accuracy_consolidation: 0.9333 - accuracy_pneumonia: 0.8907 - accuracy_atelectasis: 0.7093 - accuracy_pneumothorax: 0.9130 - accuracy_pleural_effusion: 0.6953 - accuracy_pleural_other: 0.9115 - accuracy_fracture: 0.8758 - auc_enlarged_cardiomediastinum: 0.6149 - auc_cardiomegaly: 0.7773 - auc_lung_opacity: 0.6877 - auc_lung_lesion: 0.6974 - auc_edema: 0.8074 - auc_consolidation: 0.6858 - auc_pneumonia: 0.6749 - auc_atelectasis: 0.6665 - auc_pneumothorax: 0.7561 - auc_pleural_effusion: 0.8224 - auc_pleural_other: 0.7588 - auc_fracture: 0.6904 - precision_enlarged_cardiomediastinum: 0.4475 - precision_cardiomegaly: 0.5658 - precision_lung_opacity: 0.5896 - precision_lung_lesion: 0.3332 - precision_edema: 0.7432 - precision_consolidation: 0.2271 - precision_pneumonia: 0.4119 - precision_atelectasis: 0.4816 - precision_pneumothorax: 0.4593 - precision_pleural_effusion: 0.8368 - precision_pleural_other: 0.3901 - precision_fracture: 0.5289 - recall_enlarged_cardiomediastinum: 0.0269 - recall_cardiomegaly: 0.1671 - recall_lung_opacity: 0.0014 - recall_lung_lesion: 0.0210 - recall_edema: 0.1347 - recall_consolidation: 0.0086 - recall_pneumonia: 0.0123 - recall_atelectasis: 0.0014 - recall_pneumothorax: 0.1317 - recall_pleural_effusion: 0.1971 - recall_pleural_other: 0.0590 - recall_fracture: 0.0450 - f2_score_enlarged_cardiomediastinum: 0.0331 - f2_score_cardiomegaly: 0.1934 - f2_score_lung_opacity: 0.0017 - f2_score_lung_lesion: 0.0257 - f2_score_edema: 0.1605 - f2_score_consolidation: 0.0106 - f2_score_pneumonia: 0.0152 - f2_score_atelectasis: 0.0017 - f2_score_pneumothorax: 0.1525 - f2_score_pleural_effusion: 0.2316 - f2_score_pleural_other: 0.0707 - f2_score_fracture: 0.0548 - learning rate: 0.5000 - val_loss: 0.2306 - val_auc: 0.7670 - val_precision: 0.6442 - val_recall: 0.1861 - val_f2_score: 0.2169 - val_binary_accuracy: 0.8482 - val_accuracy_enlarged_cardiomediastinum: 0.9412 - val_accuracy_cardiomegaly: 0.8817 - val_accuracy_lung_opacity: 0.5334 - val_accuracy_lung_lesion: 0.9458 - val_accuracy_edema: 0.7779 - val_accuracy_consolidation: 0.9338 - val_accuracy_pneumonia: 0.8931 - val_accuracy_atelectasis: 0.7031 - val_accuracy_pneumothorax: 0.9201 - val_accuracy_pleural_effusion: 0.7482 - val_accuracy_pleural_other: 0.9631 - val_accuracy_fracture: 0.9372 - val_auc_enlarged_cardiomediastinum: 0.6627 - val_auc_cardiomegaly: 0.8557 - val_auc_lung_opacity: 0.7223 - val_auc_lung_lesion: 0.7586 - val_auc_edema: 0.8320 - val_auc_consolidation: 0.7380 - val_auc_pneumonia: 0.7218 - val_auc_atelectasis: 0.7019 - val_auc_pneumothorax: 0.8181 - val_auc_pleural_effusion: 0.8610 - val_auc_pleural_other: 0.7767 - val_auc_fracture: 0.7549 - val_precision_enlarged_cardiomediastinum: 0.2419 - val_precision_cardiomegaly: 0.6577 - val_precision_lung_opacity: 0.5556 - val_precision_lung_lesion: 0.2551 - val_precision_edema: 0.6908 - val_precision_consolidation: 0.2946 - val_precision_pneumonia: 0.4465 - val_precision_atelectasis: 1.0000 - val_precision_pneumothorax: 0.7935 - val_precision_pleural_effusion: 0.8125 - val_precision_pleural_other: 0.1410 - val_precision_fracture: 0.2763 - val_recall_enlarged_cardiomediastinum: 0.1081 - val_recall_cardiomegaly: 0.2235 - val_recall_lung_opacity: 9.2370e-04 - val_recall_lung_lesion: 0.1550 - val_recall_edema: 0.4163 - val_recall_consolidation: 0.0533 - val_recall_pneumonia: 0.0790 - val_recall_atelectasis: 2.9028e-04 - val_recall_pneumothorax: 0.0744 - val_recall_pleural_effusion: 0.4574 - val_recall_pleural_other: 0.0698 - val_recall_fracture: 0.2266 - val_f2_score_enlarged_cardiomediastinum: 0.1216 - val_f2_score_cardiomegaly: 0.2575 - val_f2_score_lung_opacity: 0.0012 - val_f2_score_lung_lesion: 0.1682 - val_f2_score_edema: 0.4522 - val_f2_score_consolidation: 0.0637 - val_f2_score_pneumonia: 0.0946 - val_f2_score_atelectasis: 3.6282e-04 - val_f2_score_pneumothorax: 0.0909 - val_f2_score_pleural_effusion: 0.5012 - val_f2_score_pleural_other: 0.0777 - val_f2_score_fracture: 0.2350\n",
      "Epoch 2/3\n",
      " 884/8344 [==>...........................] - ETA: 30:32 - loss: 0.2412 - auc: 0.7926 - precision: 0.7151 - recall: 0.1433 - f2_score: 0.1706 - binary_accuracy: 0.8348 - accuracy_enlarged_cardiomediastinum: 0.9055 - accuracy_cardiomegaly: 0.8977 - accuracy_lung_opacity: 0.5248 - accuracy_lung_lesion: 0.9236 - accuracy_edema: 0.7831 - accuracy_consolidation: 0.9348 - accuracy_pneumonia: 0.8923 - accuracy_atelectasis: 0.6984 - accuracy_pneumothorax: 0.9242 - accuracy_pleural_effusion: 0.7369 - accuracy_pleural_other: 0.9169 - accuracy_fracture: 0.8793 - auc_enlarged_cardiomediastinum: 0.7125 - auc_cardiomegaly: 0.8529 - auc_lung_opacity: 0.7263 - auc_lung_lesion: 0.8039 - auc_edema: 0.8489 - auc_consolidation: 0.7426 - auc_pneumonia: 0.7449 - auc_atelectasis: 0.7050 - auc_pneumothorax: 0.8535 - auc_pleural_effusion: 0.8732 - auc_pleural_other: 0.8507 - auc_fracture: 0.7966 - precision_enlarged_cardiomediastinum: 0.5839 - precision_cardiomegaly: 0.6199 - precision_lung_opacity: 0.5396 - precision_lung_lesion: 0.5708 - precision_edema: 0.7886 - precision_consolidation: 0.4131 - precision_pneumonia: 0.5436 - precision_atelectasis: 0.0147 - precision_pneumothorax: 0.5941 - precision_pleural_effusion: 0.8763 - precision_pleural_other: 0.5489 - precision_fracture: 0.6715 - recall_enlarged_cardiomediastinum: 0.1017 - recall_cardiomegaly: 0.2971 - recall_lung_opacity: 3.3992e-04 - recall_lung_lesion: 0.1747 - recall_edema: 0.2178 - recall_consolidation: 0.0507 - recall_pneumonia: 0.0544 - recall_atelectasis: 3.5701e-06 - recall_pneumothorax: 0.3318 - recall_pleural_effusion: 0.3282 - recall_pleural_other: 0.2019 - recall_fracture: 0.1625 - f2_score_enlarged_cardiomediastinum: 0.1218 - f2_score_cardiomegaly: 0.3316 - f2_score_lung_opacity: 4.2483e-04 - f2_score_lung_lesion: 0.2025 - f2_score_edema: 0.2546 - f2_score_consolidation: 0.0615 - f2_score_pneumonia: 0.0663 - f2_score_atelectasis: 4.4624e-06 - f2_score_pneumothorax: 0.3634 - f2_score_pleural_effusion: 0.3750 - f2_score_pleural_other: 0.2306 - f2_score_fracture: 0.1915 - learning rate: 0.0500"
     ]
    },
    {
     "name": "stderr",
     "output_type": "stream",
     "text": [
      "IOPub message rate exceeded.\n",
      "The notebook server will temporarily stop sending output\n",
      "to the client in order to avoid crashing it.\n",
      "To change this limit, set the config variable\n",
      "`--NotebookApp.iopub_msg_rate_limit`.\n",
      "\n",
      "Current values:\n",
      "NotebookApp.iopub_msg_rate_limit=1000.0 (msgs/sec)\n",
      "NotebookApp.rate_limit_window=3.0 (secs)\n",
      "\n"
     ]
    },
    {
     "name": "stdout",
     "output_type": "stream",
     "text": [
      "5780/8344 [===================>..........] - ETA: 10:24 - loss: 0.2384 - auc: 0.7987 - precision: 0.7092 - recall: 0.1552 - f2_score: 0.1840 - binary_accuracy: 0.8363 - accuracy_enlarged_cardiomediastinum: 0.9066 - accuracy_cardiomegaly: 0.8982 - accuracy_lung_opacity: 0.5262 - accuracy_lung_lesion: 0.9213 - accuracy_edema: 0.7851 - accuracy_consolidation: 0.9339 - accuracy_pneumonia: 0.8931 - accuracy_atelectasis: 0.7070 - accuracy_pneumothorax: 0.9222 - accuracy_pleural_effusion: 0.7410 - accuracy_pleural_other: 0.9171 - accuracy_fracture: 0.8841 - auc_enlarged_cardiomediastinum: 0.7156 - auc_cardiomegaly: 0.8564 - auc_lung_opacity: 0.7294 - auc_lung_lesion: 0.8124 - auc_edema: 0.8531 - auc_consolidation: 0.7536 - auc_pneumonia: 0.7483 - auc_atelectasis: 0.7131 - auc_pneumothorax: 0.8605 - auc_pleural_effusion: 0.8746 - auc_pleural_other: 0.8599 - auc_fracture: 0.8079 - precision_enlarged_cardiomediastinum: 0.5872 - precision_cardiomegaly: 0.6324 - precision_lung_opacity: 0.7617 - precision_lung_lesion: 0.5587 - precision_edema: 0.7942 - precision_consolidation: 0.3989 - precision_pneumonia: 0.5236 - precision_atelectasis: 0.4976 - precision_pneumothorax: 0.5861 - precision_pleural_effusion: 0.8764 - precision_pleural_other: 0.5445 - precision_fracture: 0.6734 - recall_enlarged_cardiomediastinum: 0.1004 - recall_cardiomegaly: 0.3186 - recall_lung_opacity: 3.8564e-04 - recall_lung_lesion: 0.1875 - recall_edema: 0.2453 - recall_consolidation: 0.0585 - recall_pneumonia: 0.0568 - recall_atelectasis: 2.6894e-04 - recall_pneumothorax: 0.3466 - recall_pleural_effusion: 0.3356 - recall_pleural_other: 0.2655 - recall_fracture: 0.1831 - f2_score_enlarged_cardiomediastinum: 0.1204 - f2_score_cardiomegaly: 0.3537 - f2_score_lung_opacity: 4.8198e-04 - f2_score_lung_lesion: 0.2162 - f2_score_edema: 0.2846 - f2_score_consolidation: 0.0705 - f2_score_pneumonia: 0.0691 - f2_score_atelectasis: 3.3612e-04 - f2_score_pneumothorax: 0.3774 - f2_score_pleural_effusion: 0.3828 - f2_score_pleural_other: 0.2954 - f2_score_fracture: 0.2143 - learning rate: 0.0500"
     ]
    },
    {
     "name": "stderr",
     "output_type": "stream",
     "text": [
      "IOPub message rate exceeded.\n",
      "The notebook server will temporarily stop sending output\n",
      "to the client in order to avoid crashing it.\n",
      "To change this limit, set the config variable\n",
      "`--NotebookApp.iopub_msg_rate_limit`.\n",
      "\n",
      "Current values:\n",
      "NotebookApp.iopub_msg_rate_limit=1000.0 (msgs/sec)\n",
      "NotebookApp.rate_limit_window=3.0 (secs)\n",
      "\n"
     ]
    },
    {
     "name": "stdout",
     "output_type": "stream",
     "text": [
      "8344/8344 [==============================] - ETA: 0s - loss: 0.2376 - auc: 0.8003 - precision: 0.7090 - recall: 0.1580 - f2_score: 0.1871 - binary_accuracy: 0.8367 - accuracy_enlarged_cardiomediastinum: 0.9067 - accuracy_cardiomegaly: 0.8985 - accuracy_lung_opacity: 0.5266 - accuracy_lung_lesion: 0.9213 - accuracy_edema: 0.7856 - accuracy_consolidation: 0.9338 - accuracy_pneumonia: 0.8930 - accuracy_atelectasis: 0.7078 - accuracy_pneumothorax: 0.9225 - accuracy_pleural_effusion: 0.7421 - accuracy_pleural_other: 0.9176 - accuracy_fracture: 0.8850 - auc_enlarged_cardiomediastinum: 0.7173 - auc_cardiomegaly: 0.8574 - auc_lung_opacity: 0.7298 - auc_lung_lesion: 0.8140 - auc_edema: 0.8542 - auc_consolidation: 0.7553 - auc_pneumonia: 0.7502 - auc_atelectasis: 0.7147 - auc_pneumothorax: 0.8626 - auc_pleural_effusion: 0.8755 - auc_pleural_other: 0.8623 - auc_fracture: 0.8108 - precision_enlarged_cardiomediastinum: 0.5895 - precision_cardiomegaly: 0.6330 - precision_lung_opacity: 0.7753 - precision_lung_lesion: 0.5598 - precision_edema: 0.7942 - precision_consolidation: 0.3993 - precision_pneumonia: 0.5222 - precision_atelectasis: 0.5634 - precision_pneumothorax: 0.5878 - precision_pleural_effusion: 0.8768 - precision_pleural_other: 0.5473 - precision_fracture: 0.6740 - recall_enlarged_cardiomediastinum: 0.1014 - recall_cardiomegaly: 0.3230 - recall_lung_opacity: 3.7222e-04 - recall_lung_lesion: 0.1926 - recall_edema: 0.2496 - recall_consolidation: 0.0596 - recall_pneumonia: 0.0592 - recall_atelectasis: 4.4753e-04 - recall_pneumothorax: 0.3524 - recall_pleural_effusion: 0.3383 - recall_pleural_other: 0.2770 - recall_fracture: 0.1901 - f2_score_enlarged_cardiomediastinum: 0.1216 - f2_score_cardiomegaly: 0.3581 - f2_score_lung_opacity: 4.6521e-04 - f2_score_lung_lesion: 0.2216 - f2_score_edema: 0.2892 - f2_score_consolidation: 0.0718 - f2_score_pneumonia: 0.0720 - f2_score_atelectasis: 5.5928e-04 - f2_score_pneumothorax: 0.3830 - f2_score_pleural_effusion: 0.3856 - f2_score_pleural_other: 0.3070 - f2_score_fracture: 0.2219 - learning rate: 0.0500INFO:tensorflow:Summary name epoch_learning rate is illegal; using epoch_learning_rate instead.\n",
      "\n",
      "Epoch 00002: saving model to models/InceptionV3_Chexpert_CWBCE_L1Normed_E3_B32_C0_N12_AugAffine_sharp21_U75_D256_DS9505_5LR1_LF1_SGD_Upsampled/weights.02-0.21.hdf5\n",
      "8344/8344 [==============================] - 2118s 254ms/step - loss: 0.2376 - auc: 0.8003 - precision: 0.7090 - recall: 0.1580 - f2_score: 0.1871 - binary_accuracy: 0.8367 - accuracy_enlarged_cardiomediastinum: 0.9067 - accuracy_cardiomegaly: 0.8985 - accuracy_lung_opacity: 0.5266 - accuracy_lung_lesion: 0.9213 - accuracy_edema: 0.7856 - accuracy_consolidation: 0.9338 - accuracy_pneumonia: 0.8930 - accuracy_atelectasis: 0.7078 - accuracy_pneumothorax: 0.9225 - accuracy_pleural_effusion: 0.7421 - accuracy_pleural_other: 0.9176 - accuracy_fracture: 0.8850 - auc_enlarged_cardiomediastinum: 0.7173 - auc_cardiomegaly: 0.8574 - auc_lung_opacity: 0.7298 - auc_lung_lesion: 0.8140 - auc_edema: 0.8542 - auc_consolidation: 0.7553 - auc_pneumonia: 0.7502 - auc_atelectasis: 0.7147 - auc_pneumothorax: 0.8626 - auc_pleural_effusion: 0.8755 - auc_pleural_other: 0.8623 - auc_fracture: 0.8108 - precision_enlarged_cardiomediastinum: 0.5895 - precision_cardiomegaly: 0.6330 - precision_lung_opacity: 0.7753 - precision_lung_lesion: 0.5598 - precision_edema: 0.7942 - precision_consolidation: 0.3993 - precision_pneumonia: 0.5222 - precision_atelectasis: 0.5634 - precision_pneumothorax: 0.5878 - precision_pleural_effusion: 0.8768 - precision_pleural_other: 0.5473 - precision_fracture: 0.6740 - recall_enlarged_cardiomediastinum: 0.1014 - recall_cardiomegaly: 0.3230 - recall_lung_opacity: 3.7222e-04 - recall_lung_lesion: 0.1926 - recall_edema: 0.2496 - recall_consolidation: 0.0596 - recall_pneumonia: 0.0592 - recall_atelectasis: 4.4760e-04 - recall_pneumothorax: 0.3524 - recall_pleural_effusion: 0.3383 - recall_pleural_other: 0.2770 - recall_fracture: 0.1901 - f2_score_enlarged_cardiomediastinum: 0.1216 - f2_score_cardiomegaly: 0.3581 - f2_score_lung_opacity: 4.6521e-04 - f2_score_lung_lesion: 0.2216 - f2_score_edema: 0.2892 - f2_score_consolidation: 0.0718 - f2_score_pneumonia: 0.0720 - f2_score_atelectasis: 5.5936e-04 - f2_score_pneumothorax: 0.3830 - f2_score_pleural_effusion: 0.3856 - f2_score_pleural_other: 0.3070 - f2_score_fracture: 0.2219 - learning rate: 0.0500 - val_loss: 0.2125 - val_auc: 0.7879 - val_precision: 0.6604 - val_recall: 0.1741 - val_f2_score: 0.2042 - val_binary_accuracy: 0.8484 - val_accuracy_enlarged_cardiomediastinum: 0.9454 - val_accuracy_cardiomegaly: 0.8879 - val_accuracy_lung_opacity: 0.5331 - val_accuracy_lung_lesion: 0.9491 - val_accuracy_edema: 0.7720 - val_accuracy_consolidation: 0.9312 - val_accuracy_pneumonia: 0.8939 - val_accuracy_atelectasis: 0.7042 - val_accuracy_pneumothorax: 0.9277 - val_accuracy_pleural_effusion: 0.7357 - val_accuracy_pleural_other: 0.9555 - val_accuracy_fracture: 0.9462 - val_auc_enlarged_cardiomediastinum: 0.6783 - val_auc_cardiomegaly: 0.8677 - val_auc_lung_opacity: 0.7427 - val_auc_lung_lesion: 0.7809 - val_auc_edema: 0.8524 - val_auc_consolidation: 0.7591 - val_auc_pneumonia: 0.7468 - val_auc_atelectasis: 0.7164 - val_auc_pneumothorax: 0.8582 - val_auc_pleural_effusion: 0.8690 - val_auc_pleural_other: 0.8007 - val_auc_fracture: 0.7831 - val_precision_enlarged_cardiomediastinum: 0.2562 - val_precision_cardiomegaly: 0.6310 - val_precision_lung_opacity: 0.6000 - val_precision_lung_lesion: 0.3037 - val_precision_edema: 0.7618 - val_precision_consolidation: 0.2933 - val_precision_pneumonia: 0.4663 - val_precision_atelectasis: 0.8182 - val_precision_pneumothorax: 0.6499 - val_precision_pleural_effusion: 0.8670 - val_precision_pleural_other: 0.1418 - val_precision_fracture: 0.3405 - val_recall_enlarged_cardiomediastinum: 0.0739 - val_recall_cardiomegaly: 0.3588 - val_recall_lung_opacity: 5.5422e-04 - val_recall_lung_lesion: 0.1694 - val_recall_edema: 0.3032 - val_recall_consolidation: 0.0856 - val_recall_pneumonia: 0.0798 - val_recall_atelectasis: 0.0052 - val_recall_pneumothorax: 0.3160 - val_recall_pleural_effusion: 0.3773 - val_recall_pleural_other: 0.1270 - val_recall_fracture: 0.1779 - val_f2_score_enlarged_cardiomediastinum: 0.0861 - val_f2_score_cardiomegaly: 0.3927 - val_f2_score_lung_opacity: 6.9262e-04 - val_f2_score_lung_lesion: 0.1859 - val_f2_score_edema: 0.3447 - val_f2_score_consolidation: 0.0997 - val_f2_score_pneumonia: 0.0957 - val_f2_score_atelectasis: 0.0065 - val_f2_score_pneumothorax: 0.3522 - val_f2_score_pleural_effusion: 0.4254 - val_f2_score_pleural_other: 0.1297 - val_f2_score_fracture: 0.1967\n",
      "Epoch 3/3\n",
      "2845/8344 [=========>....................] - ETA: 21:54 - loss: 0.2302 - auc: 0.8154 - precision: 0.7203 - recall: 0.1787 - f2_score: 0.2103 - binary_accuracy: 0.8399 - accuracy_enlarged_cardiomediastinum: 0.9071 - accuracy_cardiomegaly: 0.9019 - accuracy_lung_opacity: 0.5301 - accuracy_lung_lesion: 0.9255 - accuracy_edema: 0.7928 - accuracy_consolidation: 0.9343 - accuracy_pneumonia: 0.8913 - accuracy_atelectasis: 0.7098 - accuracy_pneumothorax: 0.9249 - accuracy_pleural_effusion: 0.7443 - accuracy_pleural_other: 0.9235 - accuracy_fracture: 0.8929 - auc_enlarged_cardiomediastinum: 0.7426 - auc_cardiomegaly: 0.8670 - auc_lung_opacity: 0.7333 - auc_lung_lesion: 0.8286 - auc_edema: 0.8624 - auc_consolidation: 0.7704 - auc_pneumonia: 0.7651 - auc_atelectasis: 0.7261 - auc_pneumothorax: 0.8808 - auc_pleural_effusion: 0.8804 - auc_pleural_other: 0.8900 - auc_fracture: 0.8386 - precision_enlarged_cardiomediastinum: 0.5953 - precision_cardiomegaly: 0.6432 - precision_lung_opacity: 0.8135 - precision_lung_lesion: 0.6052 - precision_edema: 0.7933 - precision_consolidation: 0.4190 - precision_pneumonia: 0.5002 - precision_atelectasis: 0.7837 - precision_pneumothorax: 0.6164 - precision_pleural_effusion: 0.8867 - precision_pleural_other: 0.6049 - precision_fracture: 0.7053 - recall_enlarged_cardiomediastinum: 0.1235 - recall_cardiomegaly: 0.3514 - recall_lung_opacity: 6.9456e-04 - recall_lung_lesion: 0.2420 - recall_edema: 0.2857 - recall_consolidation: 0.0824 - recall_pneumonia: 0.0672 - recall_atelectasis: 0.0025 - recall_pneumothorax: 0.3811 - recall_pleural_effusion: 0.3438 - recall_pleural_other: 0.3692 - recall_fracture: 0.2605 - f2_score_enlarged_cardiomediastinum: 0.1467 - f2_score_cardiomegaly: 0.3864 - f2_score_lung_opacity: 8.6802e-04 - f2_score_lung_lesion: 0.2750 - f2_score_edema: 0.3276 - f2_score_consolidation: 0.0981 - f2_score_pneumonia: 0.0812 - f2_score_atelectasis: 0.0032 - f2_score_pneumothorax: 0.4124 - f2_score_pleural_effusion: 0.3917 - f2_score_pleural_other: 0.4004 - f2_score_fracture: 0.2980 - learning rate: 0.0050"
     ]
    },
    {
     "name": "stderr",
     "output_type": "stream",
     "text": [
      "IOPub message rate exceeded.\n",
      "The notebook server will temporarily stop sending output\n",
      "to the client in order to avoid crashing it.\n",
      "To change this limit, set the config variable\n",
      "`--NotebookApp.iopub_msg_rate_limit`.\n",
      "\n",
      "Current values:\n",
      "NotebookApp.iopub_msg_rate_limit=1000.0 (msgs/sec)\n",
      "NotebookApp.rate_limit_window=3.0 (secs)\n",
      "\n"
     ]
    },
    {
     "name": "stdout",
     "output_type": "stream",
     "text": [
      "7756/8344 [==========================>...] - ETA: 2:20 - loss: 0.2301 - auc: 0.8156 - precision: 0.7180 - recall: 0.1792 - f2_score: 0.2108 - binary_accuracy: 0.8398 - accuracy_enlarged_cardiomediastinum: 0.9075 - accuracy_cardiomegaly: 0.9016 - accuracy_lung_opacity: 0.5292 - accuracy_lung_lesion: 0.9246 - accuracy_edema: 0.7915 - accuracy_consolidation: 0.9335 - accuracy_pneumonia: 0.8922 - accuracy_atelectasis: 0.7102 - accuracy_pneumothorax: 0.9254 - accuracy_pleural_effusion: 0.7465 - accuracy_pleural_other: 0.9235 - accuracy_fracture: 0.8923 - auc_enlarged_cardiomediastinum: 0.7398 - auc_cardiomegaly: 0.8662 - auc_lung_opacity: 0.7342 - auc_lung_lesion: 0.8320 - auc_edema: 0.8623 - auc_consolidation: 0.7709 - auc_pneumonia: 0.7653 - auc_atelectasis: 0.7254 - auc_pneumothorax: 0.8818 - auc_pleural_effusion: 0.8806 - auc_pleural_other: 0.8897 - auc_fracture: 0.8387 - precision_enlarged_cardiomediastinum: 0.6023 - precision_cardiomegaly: 0.6431 - precision_lung_opacity: 0.8591 - precision_lung_lesion: 0.5984 - precision_edema: 0.7935 - precision_consolidation: 0.4072 - precision_pneumonia: 0.5182 - precision_atelectasis: 0.7917 - precision_pneumothorax: 0.6108 - precision_pleural_effusion: 0.8836 - precision_pleural_other: 0.6015 - precision_fracture: 0.6988 - recall_enlarged_cardiomediastinum: 0.1204 - recall_cardiomegaly: 0.3500 - recall_lung_opacity: 7.9253e-04 - recall_lung_lesion: 0.2406 - recall_edema: 0.2817 - recall_consolidation: 0.0779 - recall_pneumonia: 0.0719 - recall_atelectasis: 0.0025 - recall_pneumothorax: 0.3942 - recall_pleural_effusion: 0.3483 - recall_pleural_other: 0.3692 - recall_fracture: 0.2618 - f2_score_enlarged_cardiomediastinum: 0.1433 - f2_score_cardiomegaly: 0.3850 - f2_score_lung_opacity: 9.9044e-04 - f2_score_lung_lesion: 0.2733 - f2_score_edema: 0.3234 - f2_score_consolidation: 0.0929 - f2_score_pneumonia: 0.0868 - f2_score_atelectasis: 0.0031 - f2_score_pneumothorax: 0.4242 - f2_score_pleural_effusion: 0.3963 - f2_score_pleural_other: 0.4001 - f2_score_fracture: 0.2993 - learning rate: 0.0050"
     ]
    },
    {
     "name": "stderr",
     "output_type": "stream",
     "text": [
      "IOPub message rate exceeded.\n",
      "The notebook server will temporarily stop sending output\n",
      "to the client in order to avoid crashing it.\n",
      "To change this limit, set the config variable\n",
      "`--NotebookApp.iopub_msg_rate_limit`.\n",
      "\n",
      "Current values:\n",
      "NotebookApp.iopub_msg_rate_limit=1000.0 (msgs/sec)\n",
      "NotebookApp.rate_limit_window=3.0 (secs)\n",
      "\n"
     ]
    }
   ],
   "source": [
    "bce_chexpert_exp.train()"
   ]
  },
  {
   "cell_type": "code",
   "execution_count": 22,
   "metadata": {},
   "outputs": [
    {
     "name": "stdout",
     "output_type": "stream",
     "text": [
      "234/234 [==============================] - 5s 22ms/step\n",
      "  1/234 [..............................] - ETA: 32s - loss: 0.1203 - auc: 0.0000e+00 - precision: 0.0000e+00 - recall: 0.0000e+00 - f2_score: 0.0000e+00 - binary_accuracy: 0.9167 - accuracy_enlarged_cardiomediastinum: 1.0000 - accuracy_cardiomegaly: 1.0000 - accuracy_lung_opacity: 1.0000 - accuracy_lung_lesion: 1.0000 - accuracy_edema: 1.0000 - accuracy_consolidation: 1.0000 - accuracy_pneumonia: 1.0000 - accuracy_atelectasis: 1.0000 - accuracy_pneumothorax: 1.0000 - accuracy_pleural_effusion: 1.0000 - accuracy_pleural_other: 1.0000 - accuracy_fracture: 0.0000e+00 - auc_enlarged_cardiomediastinum: 0.0000e+00 - auc_cardiomegaly: 0.0000e+00 - auc_lung_opacity: 0.0000e+00 - auc_lung_lesion: 0.0000e+00 - auc_edema: 0.0000e+00 - auc_consolidation: 0.0000e+00 - auc_pneumonia: 0.0000e+00 - auc_atelectasis: 0.0000e+00 - auc_pneumothorax: 0.0000e+00 - auc_pleural_effusion: 0.0000e+00 - auc_pleural_other: 0.0000e+00 - auc_fracture: 0.0000e+00 - precision_enlarged_cardiomediastinum: 0.0000e+00 - precision_cardiomegaly: 0.0000e+00 - precision_lung_opacity: 0.0000e+00 - precision_lung_lesion: 0.0000e+00 - precision_edema: 0.0000e+00 - precision_consolidation: 0.0000e+00 - precision_pneumonia: 0.0000e+00 - precision_atelectasis: 0.0000e+00 - precision_pneumothorax: 0.0000e+00 - precision_pleural_effusion: 0.0000e+00 - precision_pleural_other: 0.0000e+00 - precision_fracture: 0.0000e+00 - recall_enlarged_cardiomediastinum: 0.0000e+00 - recall_cardiomegaly: 0.0000e+00 - recall_lung_opacity: 0.0000e+00 - recall_lung_lesion: 0.0000e+00 - recall_edema: 0.0000e+00 - recall_consolidation: 0.0000e+00 - recall_pneumonia: 0.0000e+00 - recall_atelectasis: 0.0000e+00 - recall_pneumothorax: 0.0000e+00 - recall_pleural_effusion: 0.0000e+00 - recall_pleural_other: 0.0000e+00 - recall_fracture: 0.0000e+00 - f2_score_enlarged_cardiomediastinum: 0.0000e+00 - f2_score_cardiomegaly: 0.0000e+00 - f2_score_lung_opacity: 0.0000e+00 - f2_score_lung_lesion: 0.0000e+00 - f2_score_edema: 0.0000e+00 - f2_score_consolidation: 0.0000e+00 - f2_score_pneumonia: 0.0000e+00 - f2_score_atelectasis: 0.0000e+00 - f2_score_pneumothorax: 0.0000e+00 - f2_score_pleural_effusion: 0.0000e+00 - f2_score_pleural_other: 0.0000e+00 - f2_score_fracture: 0.0000e+00"
     ]
    },
    {
     "name": "stderr",
     "output_type": "stream",
     "text": [
      "/usr/local/lib/python3.6/dist-packages/sklearn/metrics/_classification.py:1221: UndefinedMetricWarning: Precision and F-score are ill-defined and being set to 0.0 in labels with no predicted samples. Use `zero_division` parameter to control this behavior.\n",
      "  _warn_prf(average, modifier, msg_start, len(result))\n",
      "/usr/local/lib/python3.6/dist-packages/sklearn/metrics/_classification.py:1221: UndefinedMetricWarning: Recall and F-score are ill-defined and being set to 0.0 in labels with no true samples. Use `zero_division` parameter to control this behavior.\n",
      "  _warn_prf(average, modifier, msg_start, len(result))\n",
      "/usr/local/lib/python3.6/dist-packages/sklearn/metrics/_classification.py:1221: UndefinedMetricWarning: Precision and F-score are ill-defined and being set to 0.0 in samples with no predicted labels. Use `zero_division` parameter to control this behavior.\n",
      "  _warn_prf(average, modifier, msg_start, len(result))\n",
      "/usr/local/lib/python3.6/dist-packages/sklearn/metrics/_classification.py:1221: UndefinedMetricWarning: Recall and F-score are ill-defined and being set to 0.0 in samples with no true labels. Use `zero_division` parameter to control this behavior.\n",
      "  _warn_prf(average, modifier, msg_start, len(result))\n"
     ]
    },
    {
     "name": "stdout",
     "output_type": "stream",
     "text": [
      "234/234 [==============================] - 13s 55ms/step - loss: 0.3028 - auc: 0.7704 - precision: 0.6180 - recall: 0.1007 - f2_score: 0.1210 - binary_accuracy: 0.8130 - accuracy_enlarged_cardiomediastinum: 0.5385 - accuracy_cardiomegaly: 0.7436 - accuracy_lung_opacity: 0.4615 - accuracy_lung_lesion: 0.9744 - accuracy_edema: 0.8718 - accuracy_consolidation: 0.8632 - accuracy_pneumonia: 0.9573 - accuracy_atelectasis: 0.6667 - accuracy_pneumothorax: 0.9573 - accuracy_pleural_effusion: 0.7906 - accuracy_pleural_other: 0.9658 - accuracy_fracture: 0.9658 - auc_enlarged_cardiomediastinum: 0.5603 - auc_cardiomegaly: 0.7771 - auc_lung_opacity: 0.9031 - auc_lung_lesion: 0.9657 - auc_edema: 0.9208 - auc_consolidation: 0.9023 - auc_pneumonia: 0.7705 - auc_atelectasis: 0.8030 - auc_pneumothorax: 0.7873 - auc_pleural_effusion: 0.9280 - auc_pleural_other: 0.9270 - auc_fracture: 0.0000e+00 - precision_enlarged_cardiomediastinum: 0.6667 - precision_cardiomegaly: 0.9000 - precision_lung_opacity: 0.0000e+00 - precision_lung_lesion: 0.0000e+00 - precision_edema: 0.8571 - precision_consolidation: 1.0000 - precision_pneumonia: 0.2500 - precision_atelectasis: 1.0000 - precision_pneumothorax: 0.3333 - precision_pleural_effusion: 0.9091 - precision_pleural_other: 0.0000e+00 - precision_fracture: 0.0000e+00 - recall_enlarged_cardiomediastinum: 0.0183 - recall_cardiomegaly: 0.1324 - recall_lung_opacity: 0.0000e+00 - recall_lung_lesion: 0.0000e+00 - recall_edema: 0.4000 - recall_consolidation: 0.0303 - recall_pneumonia: 0.1250 - recall_atelectasis: 0.0250 - recall_pneumothorax: 0.2500 - recall_pleural_effusion: 0.2985 - recall_pleural_other: 0.0000e+00 - recall_fracture: 0.0000e+00 - f2_score_enlarged_cardiomediastinum: 0.0228 - f2_score_cardiomegaly: 0.1596 - f2_score_lung_opacity: 0.0000e+00 - f2_score_lung_lesion: 0.0000e+00 - f2_score_edema: 0.4478 - f2_score_consolidation: 0.0376 - f2_score_pneumonia: 0.1389 - f2_score_atelectasis: 0.0311 - f2_score_pneumothorax: 0.2632 - f2_score_pleural_effusion: 0.3448 - f2_score_pleural_other: 0.0000e+00 - f2_score_fracture: 0.0000e+00    \n"
     ]
    },
    {
     "data": {
      "text/plain": [
       "{'report': '                            precision    recall  f1-score   support\\n\\nEnlarged Cardiomediastinum       0.67      0.02      0.04       109\\n              Cardiomegaly       0.40      0.06      0.10        68\\n              Lung Opacity       0.00      0.00      0.00       126\\n               Lung Lesion       0.00      0.00      0.00         1\\n                     Edema       0.38      0.18      0.24        45\\n             Consolidation       0.00      0.00      0.00        33\\n                 Pneumonia       0.00      0.00      0.00         8\\n               Atelectasis       0.00      0.00      0.00        80\\n              Pneumothorax       0.00      0.00      0.00         8\\n          Pleural Effusion       0.32      0.10      0.16        67\\n             Pleural Other       0.00      0.00      0.00         1\\n                  Fracture       0.00      0.00      0.00         0\\n\\n                 micro avg       0.24      0.04      0.07       546\\n                 macro avg       0.15      0.03      0.04       546\\n              weighted avg       0.25      0.04      0.06       546\\n               samples avg       0.08      0.02      0.03       546\\n',\n",
       " 'metrics': {'loss': 0.30277904868125916,\n",
       "  'auc': 0.7704172730445862,\n",
       "  'precision': 0.617977499961853,\n",
       "  'recall': 0.10073260217905045,\n",
       "  'f2_score': 0.1209854781627655,\n",
       "  'binary_accuracy': 0.8130340576171875,\n",
       "  'accuracy_enlarged_cardiomediastinum': 0.5384615659713745,\n",
       "  'accuracy_cardiomegaly': 0.7435897588729858,\n",
       "  'accuracy_lung_opacity': 0.4615384638309479,\n",
       "  'accuracy_lung_lesion': 0.9743589758872986,\n",
       "  'accuracy_edema': 0.8717948794364929,\n",
       "  'accuracy_consolidation': 0.8632478713989258,\n",
       "  'accuracy_pneumonia': 0.9572649598121643,\n",
       "  'accuracy_atelectasis': 0.6666666865348816,\n",
       "  'accuracy_pneumothorax': 0.9572649598121643,\n",
       "  'accuracy_pleural_effusion': 0.7905982732772827,\n",
       "  'accuracy_pleural_other': 0.9658119678497314,\n",
       "  'accuracy_fracture': 0.9658119678497314,\n",
       "  'auc_enlarged_cardiomediastinum': 0.5602568984031677,\n",
       "  'auc_cardiomegaly': 0.7771084308624268,\n",
       "  'auc_lung_opacity': 0.9030717611312866,\n",
       "  'auc_lung_lesion': 0.9656652212142944,\n",
       "  'auc_edema': 0.9207525253295898,\n",
       "  'auc_consolidation': 0.9023065567016602,\n",
       "  'auc_pneumonia': 0.7704645991325378,\n",
       "  'auc_atelectasis': 0.8030438423156738,\n",
       "  'auc_pneumothorax': 0.7873340845108032,\n",
       "  'auc_pleural_effusion': 0.9279649257659912,\n",
       "  'auc_pleural_other': 0.9270386099815369,\n",
       "  'auc_fracture': 0.0,\n",
       "  'precision_enlarged_cardiomediastinum': 0.6666666865348816,\n",
       "  'precision_cardiomegaly': 0.8999999761581421,\n",
       "  'precision_lung_opacity': 0.0,\n",
       "  'precision_lung_lesion': 0.0,\n",
       "  'precision_edema': 0.8571428656578064,\n",
       "  'precision_consolidation': 1.0,\n",
       "  'precision_pneumonia': 0.25,\n",
       "  'precision_atelectasis': 1.0,\n",
       "  'precision_pneumothorax': 0.3333333432674408,\n",
       "  'precision_pleural_effusion': 0.9090909361839294,\n",
       "  'precision_pleural_other': 0.0,\n",
       "  'precision_fracture': 0.0,\n",
       "  'recall_enlarged_cardiomediastinum': 0.01834862306714058,\n",
       "  'recall_cardiomegaly': 0.13235294818878174,\n",
       "  'recall_lung_opacity': 0.0,\n",
       "  'recall_lung_lesion': 0.0,\n",
       "  'recall_edema': 0.4000000059604645,\n",
       "  'recall_consolidation': 0.03030303120613098,\n",
       "  'recall_pneumonia': 0.125,\n",
       "  'recall_atelectasis': 0.02500000037252903,\n",
       "  'recall_pneumothorax': 0.25,\n",
       "  'recall_pleural_effusion': 0.2985074520111084,\n",
       "  'recall_pleural_other': 0.0,\n",
       "  'recall_fracture': 0.0,\n",
       "  'f2_score_enlarged_cardiomediastinum': 0.022779041901230812,\n",
       "  'f2_score_cardiomegaly': 0.1595744788646698,\n",
       "  'f2_score_lung_opacity': 0.0,\n",
       "  'f2_score_lung_lesion': 0.0,\n",
       "  'f2_score_edema': 0.4477611780166626,\n",
       "  'f2_score_consolidation': 0.037593986839056015,\n",
       "  'f2_score_pneumonia': 0.1388888955116272,\n",
       "  'f2_score_atelectasis': 0.03105590119957924,\n",
       "  'f2_score_pneumothorax': 0.2631579041481018,\n",
       "  'f2_score_pleural_effusion': 0.3448275327682495,\n",
       "  'f2_score_pleural_other': 0.0,\n",
       "  'f2_score_fracture': 0.0},\n",
       " 'predictions': array([[0.10899266, 0.11747016, 0.0603767 , ..., 0.0614791 , 0.44771153,\n",
       "         0.16297393],\n",
       "        [0.14776309, 0.02796751, 0.24997202, ..., 0.08529866, 0.01807302,\n",
       "         0.03651794],\n",
       "        [0.2547279 , 0.05626709, 0.363528  , ..., 0.51009214, 0.01262754,\n",
       "         0.15770611],\n",
       "        ...,\n",
       "        [0.0927052 , 0.03218358, 0.07399358, ..., 0.00880849, 0.19795159,\n",
       "         0.33332685],\n",
       "        [0.01433013, 0.00364807, 0.24072145, ..., 0.364094  , 0.01658743,\n",
       "         0.05582383],\n",
       "        [0.09889656, 0.09082329, 0.01789814, ..., 0.0053154 , 0.07569721,\n",
       "         0.10883303]], dtype=float32),\n",
       " 'groundtruth_label': array([[0., 0., 0., ..., 0., 0., 0.],\n",
       "        [0., 0., 1., ..., 0., 0., 0.],\n",
       "        [0., 0., 1., ..., 0., 0., 0.],\n",
       "        ...,\n",
       "        [0., 0., 1., ..., 0., 0., 0.],\n",
       "        [1., 1., 1., ..., 0., 0., 0.],\n",
       "        [0., 0., 0., ..., 1., 0., 0.]], dtype=float32)}"
      ]
     },
     "execution_count": 22,
     "metadata": {},
     "output_type": "execute_result"
    }
   ],
   "source": [
    "bce_chexpert_exp.evaluate()"
   ]
  },
  {
   "cell_type": "code",
   "execution_count": 23,
   "metadata": {},
   "outputs": [
    {
     "name": "stdout",
     "output_type": "stream",
     "text": [
      "WARNING:tensorflow:From /usr/local/lib/python3.6/dist-packages/tensorflow/python/training/tracking/tracking.py:109: Model.state_updates (from tensorflow.python.keras.engine.training) is deprecated and will be removed in a future version.\n",
      "Instructions for updating:\n",
      "This property should not be used in TensorFlow 2.0, as updates are applied automatically.\n",
      "WARNING:tensorflow:From /usr/local/lib/python3.6/dist-packages/tensorflow/python/training/tracking/tracking.py:109: Layer.updates (from tensorflow.python.keras.engine.base_layer) is deprecated and will be removed in a future version.\n",
      "Instructions for updating:\n",
      "This property should not be used in TensorFlow 2.0, as updates are applied automatically.\n",
      "INFO:tensorflow:Assets written to: /srv/idp-radio-1/models/InceptionV3_Chexpert_CWBCE_L1Normed_E3_B32_C0_N12_AugAffine_sharp21_U75_D256_DS9505_5LR1_LF1_SGD_Upsampled/InceptionV3_Chexpert_CWBCE_L1Normed_E3_B32_C0_N12_AugAffine_sharp21_U75_D256_DS9505_5LR1_LF1_SGD_Upsampled_20200825-003417/assets\n"
     ]
    },
    {
     "data": {
      "text/plain": [
       "'b57e5750-e66a-11ea-bb5e-0242ac110005'"
      ]
     },
     "execution_count": 23,
     "metadata": {},
     "output_type": "execute_result"
    }
   ],
   "source": [
    "bce_chexpert_exp.save()"
   ]
  },
  {
   "cell_type": "code",
   "execution_count": null,
   "metadata": {},
   "outputs": [],
   "source": []
  },
  {
   "cell_type": "code",
   "execution_count": 23,
   "metadata": {},
   "outputs": [
    {
     "data": {
      "text/plain": [
       "(<tf.Tensor: shape=(12,), dtype=float32, numpy=\n",
       " array([1.0471137 , 0.86157745, 0.2140513 , 1.2290254 , 0.3829084 ,\n",
       "        1.5654458 , 0.93557644, 0.34771097, 1.1680024 , 0.2783919 ,\n",
       "        1.1709423 , 0.7992542 ], dtype=float32)>,\n",
       " <tf.Tensor: shape=(12,), dtype=float32, numpy=\n",
       " array([1.0471137 , 0.86157745, 0.2140513 , 1.2290254 , 0.3829084 ,\n",
       "        1.5654458 , 0.93557644, 0.34771097, 1.1680024 , 0.2783919 ,\n",
       "        1.1709423 , 0.7992542 ], dtype=float32)>,\n",
       " <tf.Tensor: shape=(12,), dtype=float32, numpy=\n",
       " array([0.7336834 , 0.75095767, 1.2557218 , 0.722264  , 0.90054774,\n",
       "        0.7086204 , 0.7431472 , 0.93446344, 0.7256606 , 1.0406255 ,\n",
       "        0.7254881 , 0.7588202 ], dtype=float32)>)"
      ]
     },
     "execution_count": 23,
     "metadata": {},
     "output_type": "execute_result"
    }
   ],
   "source": [
    "compute_class_weight(bce_chexpert_exp.benchmark.traingen)"
   ]
  },
  {
   "cell_type": "code",
   "execution_count": null,
   "metadata": {},
   "outputs": [],
   "source": [
    "trained_weights = bce_chexpert_exp.model.get_weights()"
   ]
  },
  {
   "cell_type": "code",
   "execution_count": null,
   "metadata": {},
   "outputs": [],
   "source": [
    "images, labels = bce_chexpert_exp.benchmark.traingen[0]\n",
    "len(images)"
   ]
  },
  {
   "cell_type": "code",
   "execution_count": null,
   "metadata": {},
   "outputs": [],
   "source": [
    "preds = bce_chexpert_exp.model(images, training=True)\n",
    "preds.op"
   ]
  },
  {
   "cell_type": "code",
   "execution_count": null,
   "metadata": {},
   "outputs": [],
   "source": [
    "bce_chexpert_exp.model.summary(line_length=150)"
   ]
  },
  {
   "cell_type": "code",
   "execution_count": null,
   "metadata": {},
   "outputs": [],
   "source": [
    "index = -1\n",
    "trained_weights[index].shape, trained_weights[index], np.isnan(trained_weights[index]).any()"
   ]
  },
  {
   "cell_type": "code",
   "execution_count": null,
   "metadata": {},
   "outputs": [],
   "source": [
    "nan_layers = [i for i in range(len(trained_weights)) if np.isnan(trained_weights[i]).any()] \n",
    "#nan_layers   "
   ]
  },
  {
   "cell_type": "code",
   "execution_count": null,
   "metadata": {},
   "outputs": [],
   "source": [
    "mean_weights = {i:np.abs(trained_weights[i]).mean() for i in range(len(trained_weights))}\n",
    "#mean_weights"
   ]
  },
  {
   "cell_type": "code",
   "execution_count": null,
   "metadata": {},
   "outputs": [],
   "source": [
    "{i:trained_weights[i].shape for i in range(len(trained_weights))}"
   ]
  },
  {
   "cell_type": "code",
   "execution_count": null,
   "metadata": {},
   "outputs": [],
   "source": [
    "for i in range(191, 195):\n",
    "    print(i, trained_weights[i].shape, trained_weights[i])"
   ]
  },
  {
   "cell_type": "code",
   "execution_count": null,
   "metadata": {},
   "outputs": [],
   "source": [
    "#chexpert_exp.save()"
   ]
  },
  {
   "cell_type": "code",
   "execution_count": null,
   "metadata": {},
   "outputs": [],
   "source": [
    "from datetime import datetime\n",
    "model_filename = chexpert_exp.model_name + \"_\" + datetime.now().strftime(\"%Y%m%d-%H%M%S\")\n",
    "model_filename_tf = model_filename + \".tf\"\n",
    "model_filename_h5 = model_filename + \".h5\"\n",
    "model_filename"
   ]
  },
  {
   "cell_type": "code",
   "execution_count": null,
   "metadata": {},
   "outputs": [],
   "source": [
    "folderpath = Path(os.getcwd()) / 'models' / chexpert_exp.model_name\n",
    "path = folderpath / model_filename\n",
    "path"
   ]
  },
  {
   "cell_type": "code",
   "execution_count": null,
   "metadata": {},
   "outputs": [],
   "source": [
    "# make sure path exists, ceate one if necessary\n",
    "Path(folderpath).mkdir(parents=True, exist_ok=True)\n",
    "chexpert_exp.model.save(path, save_format=\"tf\")"
   ]
  },
  {
   "cell_type": "code",
   "execution_count": null,
   "metadata": {},
   "outputs": [],
   "source": [
    "# make sure path exists, ceate one if necessary\n",
    "Path(folderpath).mkdir(parents=True, exist_ok=True)\n",
    "chexpert_exp.model.save(folderpath / model_filename_h5, save_format=\"h5\")"
   ]
  },
  {
   "cell_type": "code",
   "execution_count": null,
   "metadata": {},
   "outputs": [],
   "source": [
    "!pwd"
   ]
  },
  {
   "cell_type": "code",
   "execution_count": null,
   "metadata": {},
   "outputs": [],
   "source": [
    "folderpath / model_filename_h5"
   ]
  },
  {
   "cell_type": "code",
   "execution_count": null,
   "metadata": {},
   "outputs": [],
   "source": [
    "chexpert_exp.save()"
   ]
  },
  {
   "cell_type": "code",
   "execution_count": null,
   "metadata": {},
   "outputs": [],
   "source": [
    "chexpert_exp.evaluate()"
   ]
  },
  {
   "cell_type": "code",
   "execution_count": null,
   "metadata": {},
   "outputs": [],
   "source": [
    "testgen = chexpert_benchmarks[\"BCE_E1_B32_C0_N5_D256_DS0595_savetest7\"].testgen"
   ]
  },
  {
   "cell_type": "code",
   "execution_count": null,
   "metadata": {},
   "outputs": [],
   "source": [
    "preds = chexpert_exp.model.predict(testgen, steps=len(testgen), verbose=1)"
   ]
  },
  {
   "cell_type": "code",
   "execution_count": null,
   "metadata": {},
   "outputs": [],
   "source": [
    "import numpy as np\n",
    "from sklearn.metrics import classification_report\n",
    "from tensorflow.keras.metrics import Precision, Recall\n",
    "from tensorflow.keras import models\n",
    "import json\n",
    "from src.architectures.benchmarks.benchmark import Benchmark, Experiment\n",
    "from pathlib import Path\n",
    "from keras.utils.generic_utils import get_custom_objects\n",
    "from src.metrics.losses import WeightedBinaryCrossentropy, compute_class_weight\n",
    "\n",
    "\n",
    "groundtruth_label = testgen.get_labels_nonan()\n",
    "thresholds = [0.5]\n",
    "for t in thresholds:\n",
    "    print('current threshold: ', t)\n",
    "    predictions_bool = (preds >= t)\n",
    "    y_pred = np.array(predictions_bool, dtype=int)\n",
    "\n",
    "    # report = classification_report(groundtruth_label, y_pred, target_names=list(CHEXPERT_BENCHMARKS['WBCE_E5_B32_C0'].label_columns))\n",
    "    # print('sklearn report: ', report)\n",
    "    \n",
    "    pre = Precision(thresholds=t)\n",
    "    pre.update_state(groundtruth_label, predictions_bool)\n",
    "    print('TF Precision: ', pre.result())\n",
    "    pre.reset_states()\n",
    "    \n",
    "    rec = Recall(thresholds=t)\n",
    "    rec.update_state(groundtruth_label, predictions_bool)\n",
    "    print('TF Recall: ', rec.result())\n",
    "    rec.reset_states()"
   ]
  },
  {
   "cell_type": "code",
   "execution_count": null,
   "metadata": {
    "pycharm": {
     "name": "#%%\n"
    }
   },
   "outputs": [],
   "source": [
    "report = classification_report(groundtruth_label, y_pred, target_names=chexpert_benchmarks[\"BCE_E1_B32_C0_N5_D256_DS0595_savetest7\"].label_columns)\n",
    "print('sklearn report: ', report)"
   ]
  },
  {
   "cell_type": "code",
   "execution_count": null,
   "metadata": {},
   "outputs": [],
   "source": []
  },
  {
   "cell_type": "code",
   "execution_count": null,
   "metadata": {},
   "outputs": [],
   "source": [
    "model = tf.keras.models.load_model('models/DenseNet121_Chexpert_BCE_E1_B32_C0_N5_D256_DS0595_savetest7/DenseNet121_Chexpert_BCE_E1_B32_C0_N5_D256_DS0595_savetest7_20200819-125620.h5', compile=False)"
   ]
  },
  {
   "cell_type": "code",
   "execution_count": null,
   "metadata": {},
   "outputs": [],
   "source": [
    "predstwo = model.predict(testgen, steps=len(testgen), verbose=1)"
   ]
  },
  {
   "cell_type": "code",
   "execution_count": null,
   "metadata": {},
   "outputs": [],
   "source": [
    "groundtruth_label = testgen.get_labels_nonan()\n",
    "predictions_bool = (predstwo >= t)\n",
    "y_pred = np.array(predictions_bool, dtype=int)\n",
    "report = classification_report(groundtruth_label, y_pred, target_names=chexpert_benchmarks[\"BCE_E1_B32_C0_N5_D256_DS0595_savetest7\"].label_columns)\n",
    "print('sklearn report: ', report)"
   ]
  },
  {
   "cell_type": "code",
   "execution_count": null,
   "metadata": {},
   "outputs": [],
   "source": []
  },
  {
   "cell_type": "code",
   "execution_count": null,
   "metadata": {},
   "outputs": [],
   "source": [
    "\"test.h5\".replace(\".h5\", \"\")"
   ]
  },
  {
   "cell_type": "code",
   "execution_count": null,
   "metadata": {},
   "outputs": [],
   "source": []
  },
  {
   "cell_type": "code",
   "execution_count": null,
   "metadata": {},
   "outputs": [],
   "source": []
  },
  {
   "cell_type": "code",
   "execution_count": null,
   "metadata": {},
   "outputs": [],
   "source": []
  },
  {
   "cell_type": "code",
   "execution_count": null,
   "metadata": {},
   "outputs": [],
   "source": []
  },
  {
   "cell_type": "code",
   "execution_count": null,
   "metadata": {},
   "outputs": [],
   "source": []
  },
  {
   "cell_type": "code",
   "execution_count": null,
   "metadata": {},
   "outputs": [],
   "source": []
  },
  {
   "cell_type": "code",
   "execution_count": null,
   "metadata": {},
   "outputs": [],
   "source": []
  },
  {
   "cell_type": "code",
   "execution_count": null,
   "metadata": {},
   "outputs": [],
   "source": []
  },
  {
   "cell_type": "code",
   "execution_count": null,
   "metadata": {},
   "outputs": [],
   "source": []
  },
  {
   "cell_type": "code",
   "execution_count": null,
   "metadata": {},
   "outputs": [],
   "source": []
  },
  {
   "cell_type": "code",
   "execution_count": null,
   "metadata": {},
   "outputs": [],
   "source": [
    "# model_guendel_chestxray14 = densenet(classes=len(CHESTXRAY14_COLUMNS))\n",
    "model_guendel_chexpert = densenet(classes=len(CHEXPERT_COLUMNS))\n",
    "\n",
    "#experiment_guendel_chestxray14 = Experiment(chestxray14_benchmark, model_guendel_chestxray14)\n",
    "experiment_guendel_chexpert = Experiment(CHEXPERT_BENCHMARKS[\"WBCE_E10_B32\"], model_guendel_chexpert, model_name=\"test_WBCE_32\")\n",
    "\n"
   ]
  },
  {
   "cell_type": "code",
   "execution_count": null,
   "metadata": {},
   "outputs": [],
   "source": [
    "#experiment_guendel_chestxray14_result =  experiment_guendel_chestxray14.run()"
   ]
  },
  {
   "cell_type": "code",
   "execution_count": null,
   "metadata": {},
   "outputs": [],
   "source": [
    "experiment_guendel_chexpert_result =  experiment_guendel_chexpert.run()"
   ]
  },
  {
   "cell_type": "code",
   "execution_count": null,
   "metadata": {},
   "outputs": [],
   "source": [
    "experiment_guendel_chexpert.evaluate()"
   ]
  },
  {
   "cell_type": "code",
   "execution_count": null,
   "metadata": {},
   "outputs": [],
   "source": [
    "experiment_guendel_chexpert.save(upload=False)"
   ]
  },
  {
   "cell_type": "code",
   "execution_count": null,
   "metadata": {},
   "outputs": [],
   "source": [
    "print(\"done\")"
   ]
  },
  {
   "cell_type": "code",
   "execution_count": null,
   "metadata": {},
   "outputs": [],
   "source": [
    "CHEXPERT_BENCHMARKS[\"WBCE_E10_B32\"].as_dict()"
   ]
  },
  {
   "cell_type": "code",
   "execution_count": null,
   "metadata": {},
   "outputs": [],
   "source": []
  },
  {
   "cell_type": "code",
   "execution_count": null,
   "metadata": {},
   "outputs": [],
   "source": [
    "import numpy as np\n",
    "import tensorflow as tf\n",
    "from tensorflow.keras.losses import Loss\n",
    "from tensorflow.python.ops.losses import util as tf_losses_util\n",
    "from tensorflow.python.framework import tensor_util\n",
    "from tensorflow.python.framework import constant_op\n",
    "from tensorflow.python.ops import math_ops\n",
    "from tensorflow.python.ops import clip_ops\n",
    "from tensorflow.python.keras import backend_config"
   ]
  },
  {
   "cell_type": "code",
   "execution_count": null,
   "metadata": {},
   "outputs": [],
   "source": [
    "weights_pos = tf.ones((4)) * 20.0\n",
    "weights_neg = tf.ones((4)) * 0.5\n",
    "y_true = tf.constant([[0, -1, -1, 1], [-1, 0, -1, -1]], dtype=tf.float32)\n",
    "y_pred = tf.constant([[0.1, 0.2, 0.3, 0.4], [0.5, 0.6, 0.7, 0.8]])\n",
    "loss = tf.keras.losses.binary_crossentropy(y_true, y_pred)\n",
    "loss"
   ]
  },
  {
   "cell_type": "code",
   "execution_count": null,
   "metadata": {},
   "outputs": [],
   "source": [
    "y_true = tf.constant(y_true, dtype=tf.float32)\n",
    "y_true"
   ]
  },
  {
   "cell_type": "code",
   "execution_count": null,
   "metadata": {},
   "outputs": [],
   "source": [
    "y_pred = tf.constant(y_pred)\n",
    "y_pred"
   ]
  },
  {
   "cell_type": "code",
   "execution_count": null,
   "metadata": {},
   "outputs": [],
   "source": [
    "if tensor_util.is_tensor(y_pred) and tensor_util.is_tensor(y_true):\n",
    "    y_pred, y_true = tf_losses_util.squeeze_or_expand_dimensions(\n",
    "        y_pred, y_true)\n",
    "\n",
    "epsilon_ = constant_op.constant(\n",
    "     backend_config.epsilon(), dtype=y_pred.dtype.base_dtype)\n",
    "y_pred = clip_ops.clip_by_value(y_pred, epsilon_, 1. - epsilon_)"
   ]
  },
  {
   "cell_type": "code",
   "execution_count": null,
   "metadata": {},
   "outputs": [],
   "source": [
    "mask = tf.cast(tf.math.greater_equal(y_true, 0), tf.float32)\n",
    "\n",
    "# Compute cross entropy from probabilities.\n",
    "bce_pos = y_true * math_ops.log(y_pred + epsilon_)\n",
    "bce_neg = (1 - y_true) * math_ops.log(1 - y_pred + epsilon_)\n",
    "\n",
    "bce_pos = tf.math.multiply_no_nan(bce_pos, mask)\n",
    "bce_neg = tf.math.multiply_no_nan(bce_neg, mask)\n",
    "\n",
    "bce = bce_pos * weights_pos + \\\n",
    "    bce_neg * weights_neg\n",
    "\n",
    "loss = tf.reduce_sum(-bce) / tf.reduce_sum(mask)\n",
    "loss"
   ]
  },
  {
   "cell_type": "code",
   "execution_count": null,
   "metadata": {},
   "outputs": [],
   "source": [
    "tf.reduce_sum(mask)"
   ]
  },
  {
   "cell_type": "code",
   "execution_count": null,
   "metadata": {},
   "outputs": [],
   "source": []
  },
  {
   "cell_type": "code",
   "execution_count": null,
   "metadata": {},
   "outputs": [],
   "source": [
    "bce_neg"
   ]
  },
  {
   "cell_type": "code",
   "execution_count": null,
   "metadata": {},
   "outputs": [],
   "source": [
    "bce"
   ]
  },
  {
   "cell_type": "code",
   "execution_count": null,
   "metadata": {},
   "outputs": [],
   "source": [
    "\n",
    "from tensorflow.keras import backend as K\n"
   ]
  },
  {
   "cell_type": "code",
   "execution_count": null,
   "metadata": {},
   "outputs": [],
   "source": []
  },
  {
   "cell_type": "code",
   "execution_count": null,
   "metadata": {},
   "outputs": [],
   "source": []
  },
  {
   "cell_type": "code",
   "execution_count": null,
   "metadata": {},
   "outputs": [],
   "source": []
  },
  {
   "cell_type": "code",
   "execution_count": null,
   "metadata": {},
   "outputs": [],
   "source": []
  },
  {
   "cell_type": "code",
   "execution_count": null,
   "metadata": {},
   "outputs": [],
   "source": []
  },
  {
   "cell_type": "code",
   "execution_count": null,
   "metadata": {},
   "outputs": [],
   "source": []
  },
  {
   "cell_type": "code",
   "execution_count": null,
   "metadata": {},
   "outputs": [],
   "source": []
  },
  {
   "cell_type": "code",
   "execution_count": null,
   "metadata": {},
   "outputs": [],
   "source": []
  },
  {
   "cell_type": "code",
   "execution_count": null,
   "metadata": {},
   "outputs": [],
   "source": []
  },
  {
   "cell_type": "code",
   "execution_count": null,
   "metadata": {},
   "outputs": [],
   "source": []
  },
  {
   "cell_type": "code",
   "execution_count": null,
   "metadata": {},
   "outputs": [],
   "source": []
  },
  {
   "cell_type": "code",
   "execution_count": null,
   "metadata": {},
   "outputs": [],
   "source": []
  },
  {
   "cell_type": "code",
   "execution_count": null,
   "metadata": {},
   "outputs": [],
   "source": []
  },
  {
   "cell_type": "code",
   "execution_count": null,
   "metadata": {},
   "outputs": [],
   "source": []
  }
 ],
 "metadata": {
  "kernelspec": {
   "display_name": "Python 3",
   "language": "python",
   "name": "python3"
  },
  "language_info": {
   "codemirror_mode": {
    "name": "ipython",
    "version": 3
   },
   "file_extension": ".py",
   "mimetype": "text/x-python",
   "name": "python",
   "nbconvert_exporter": "python",
   "pygments_lexer": "ipython3",
   "version": "3.6.9"
  },
  "pycharm": {
   "stem_cell": {
    "cell_type": "raw",
    "metadata": {
     "collapsed": false
    },
    "source": []
   }
  }
 },
 "nbformat": 4,
 "nbformat_minor": 4
}
