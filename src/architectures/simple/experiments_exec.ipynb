{
 "cells": [
  {
   "cell_type": "code",
   "execution_count": 1,
   "metadata": {
    "pycharm": {
     "name": "#%%\n"
    }
   },
   "outputs": [
    {
     "data": {
      "text/plain": [
       "'/srv/idp-radio-1'"
      ]
     },
     "execution_count": 1,
     "metadata": {},
     "output_type": "execute_result"
    }
   ],
   "source": [
    "import os \n",
    "import datetime\n",
    "from pathlib import Path\n",
    "from dotenv import load_dotenv, find_dotenv\n",
    "\n",
    "basepath = Path(os.getcwd())\n",
    "# make sure your working directory is the repository root.\n",
    "if basepath.name != \"idp-radio-1\":\n",
    "    os.chdir(basepath.parent.parent.parent)\n",
    "load_dotenv(find_dotenv())\n",
    "\n",
    "%load_ext autoreload\n",
    "%autoreload 2\n",
    "os.getcwd()"
   ]
  },
  {
   "cell_type": "code",
   "execution_count": 2,
   "metadata": {
    "pycharm": {
     "is_executing": false
    }
   },
   "outputs": [
    {
     "name": "stderr",
     "output_type": "stream",
     "text": [
      "Using TensorFlow backend.\n"
     ]
    }
   ],
   "source": [
    "import os \n",
    "import tensorflow as tf\n",
    "from pathlib import Path\n",
    "from tensorflow.keras.applications.inception_v3 import InceptionV3\n",
    "from tensorflow.keras.applications.densenet import DenseNet121\n",
    "from tensorflow.keras.applications.resnet_v2 import ResNet152V2\n",
    "from src.architectures.simple.simple_base import SimpleBaseArchitecture\n",
    "from src.architectures.benchmarks.benchmark import Benchmark, Experiment\n",
    "from src.architectures.adv.guendel19 import densenet\n",
    "from src.metrics.metrics import F2Score\n",
    "from src.metrics.losses import WeightedBinaryCrossentropy, compute_class_weight"
   ]
  },
  {
   "cell_type": "code",
   "execution_count": null,
   "metadata": {},
   "outputs": [],
   "source": []
  },
  {
   "cell_type": "code",
   "execution_count": null,
   "metadata": {},
   "outputs": [],
   "source": []
  },
  {
   "cell_type": "code",
   "execution_count": 3,
   "metadata": {},
   "outputs": [
    {
     "name": "stdout",
     "output_type": "stream",
     "text": [
      "Device mapping:\n",
      "/job:localhost/replica:0/task:0/device:XLA_CPU:0 -> device: XLA_CPU device\n",
      "/job:localhost/replica:0/task:0/device:XLA_GPU:0 -> device: XLA_GPU device\n",
      "/job:localhost/replica:0/task:0/device:GPU:0 -> device: 0, name: GeForce RTX 2080 Ti, pci bus id: 0000:42:00.0, compute capability: 7.5\n",
      "\n"
     ]
    },
    {
     "data": {
      "text/plain": [
       "<tensorflow.python.client.session.Session at 0x7fd120b65c18>"
      ]
     },
     "execution_count": 3,
     "metadata": {},
     "output_type": "execute_result"
    }
   ],
   "source": [
    "# Specify which GPU(s) to use\n",
    "os.environ[\"CUDA_VISIBLE_DEVICES\"] = \"1\"  # Or 2, 3, etc. other than 0\n",
    "\n",
    "config = tf.compat.v1.ConfigProto(allow_soft_placement=True, log_device_placement=True)\n",
    "config.gpu_options.allow_growth = True\n",
    "tf.compat.v1.Session(config=config)\n"
   ]
  },
  {
   "cell_type": "code",
   "execution_count": 4,
   "metadata": {},
   "outputs": [
    {
     "name": "stdout",
     "output_type": "stream",
     "text": [
      "URLs open for the following services:\n",
      "[('tensorboard', 'http://d39e353b12ea.ngrok.io'), ('jupyterlab', 'http://39fdc6865faa.ngrok.io'), ('jupyternotebook', 'http://16e70049dd92.ngrok.io')]\n"
     ]
    }
   ],
   "source": [
    "!remote_access/get_tunnels.sh"
   ]
  },
  {
   "cell_type": "code",
   "execution_count": 5,
   "metadata": {},
   "outputs": [],
   "source": [
    "metrics = [tf.keras.metrics.AUC(multi_label=True, name=\"auc\"),\n",
    "           tf.keras.metrics.Precision(name=\"precision\"),\n",
    "           tf.keras.metrics.Recall(name=\"recall\"),\n",
    "           F2Score(name=\"f2_score\"),\n",
    "           tf.keras.metrics.BinaryAccuracy(name=\"binary_accuracy\")\n",
    "          ]"
   ]
  },
  {
   "cell_type": "code",
   "execution_count": null,
   "metadata": {},
   "outputs": [],
   "source": []
  },
  {
   "cell_type": "code",
   "execution_count": 6,
   "metadata": {},
   "outputs": [
    {
     "data": {
      "text/plain": [
       "\"The benchmark was initialized for the chexpert_full dataset with batch size of 32, shuffel set to True and images rescaled to dimension (256, 256).\\nThe training was done for 10 epochs using the Adam optimizer and weighted_binary_crossentropy loss.\\nA total of 14 labels/pathologies were included in the training and encoded using the 'uzeroes' method.\\nThe traing set included 143328 number of sample, the validation set 34726, and the test set 45360. \""
      ]
     },
     "execution_count": 6,
     "metadata": {},
     "output_type": "execute_result"
    }
   ],
   "source": [
    "\n",
    "chexpert_columns = ['No Finding', 'Enlarged Cardiomediastinum', 'Cardiomegaly', 'Lung Opacity', 'Lung Lesion',\n",
    "                       'Edema', 'Consolidation', 'Pneumonia', 'Atelectasis', 'Pneumothorax',\n",
    "                       'Pleural Effusion', 'Pleural Other', 'Fracture', 'Support Devices']\n",
    "\n",
    "chexpert_benchmark = Benchmark(Path(os.environ.get(\"CHEXPERT_DATASET_DIRECTORY\")),\n",
    "                                  chexpert_columns,\n",
    "                                  \"Chexpert small batches\",\n",
    "                                  epochs=10,\n",
    "                                  train_labels=\"train.csv\",\n",
    "                                  path_column=\"Path\",\n",
    "                                  split_group='patient_id',\n",
    "                                  batch_size=32,\n",
    "                                  metrics = metrics)\n",
    "\n",
    "chexpert_benchmark.loss = WeightedBinaryCrossentropy(*compute_class_weight(chexpert_benchmark.traingen))  \n",
    "chexpert_benchmark.summary()"
   ]
  },
  {
   "cell_type": "code",
   "execution_count": 7,
   "metadata": {},
   "outputs": [
    {
     "data": {
      "text/plain": [
       "{'benchmark_name': 'Chestxray 14 NIH weighted',\n",
       " 'dataset_name': 'chestxray14_scale_256',\n",
       " 'dataset_folder': 'data/chestxray14/scale_256',\n",
       " 'models_dir': 'models',\n",
       " 'epochs': 10,\n",
       " 'optimizer': 'Adam',\n",
       " 'loss': <src.metrics.losses.WeightedBinaryCrossentropy at 0x7fcf2c0524e0>,\n",
       " 'metrics': ['AUC', 'Precision', 'Recall', 'F2Score', 'BinaryAccuracy'],\n",
       " 'label_columns': ['Edema',\n",
       "  'Atelectasis',\n",
       "  'Pneumonia',\n",
       "  'Pleural_Thickening',\n",
       "  'Cardiomegaly',\n",
       "  'Infiltration',\n",
       "  'Consolidation',\n",
       "  'Fibrosis',\n",
       "  'No Finding',\n",
       "  'Effusion',\n",
       "  'Nodule',\n",
       "  'Mass',\n",
       "  'Hernia',\n",
       "  'Emphysema',\n",
       "  'Pneumothorax'],\n",
       " 'path_column': 'Image Index',\n",
       " 'path_column_prefix': 'images/',\n",
       " 'shuffle': True,\n",
       " 'batch_size': 16,\n",
       " 'dim': (256, 256),\n",
       " 'n_channels': 3,\n",
       " 'nan_replacement': 0,\n",
       " 'unc_value': -1,\n",
       " 'u_enc': 'uzeroes',\n",
       " 'drop_last': True,\n",
       " 'train_num_samples': 71021,\n",
       " 'valid_num_samples': 18231,\n",
       " 'test_num_samples': 22868}"
      ]
     },
     "execution_count": 7,
     "metadata": {},
     "output_type": "execute_result"
    }
   ],
   "source": [
    "chestxray14_columns = ['Edema', 'Atelectasis', 'Pneumonia',\n",
    "                       'Pleural_Thickening', 'Cardiomegaly', 'Infiltration', 'Consolidation',\n",
    "                       'Fibrosis', 'No Finding', 'Effusion', 'Nodule', 'Mass', 'Hernia',\n",
    "                       'Emphysema', 'Pneumothorax']\n",
    "\n",
    "chestxray14_benchmark = Benchmark(Path(os.environ.get(\"CHESTXRAY14_DATASET_DIRECTORY\")),\n",
    "                                  chestxray14_columns,\n",
    "                                  \"Chestxray 14 NIH weighted\",\n",
    "                                  epochs=10,\n",
    "                                  train_labels=\"meta/data/labels.csv\",\n",
    "                                  path_column=\"Image Index\",\n",
    "                                  path_column_prefix=\"images/\",\n",
    "                                  split_group='Patient ID',\n",
    "                                  batch_size=16,\n",
    "                                  metrics=metrics)\n",
    "chestxray14_benchmark.loss = WeightedBinaryCrossentropy(*compute_class_weight(chestxray14_benchmark.traingen))  \n",
    "chestxray14_benchmark.as_dict()"
   ]
  },
  {
   "cell_type": "code",
   "execution_count": null,
   "metadata": {},
   "outputs": [],
   "source": []
  },
  {
   "cell_type": "code",
   "execution_count": 8,
   "metadata": {
    "pycharm": {
     "name": "#%%\n"
    }
   },
   "outputs": [],
   "source": [
    "model_resnet_chestxray14 = SimpleBaseArchitecture(ResNet152V2, len(chestxray14_columns))\n",
    "model_resnet_chexpert = SimpleBaseArchitecture(ResNet152V2, len(chexpert_columns))\n",
    "\n",
    "model_densenet_chestxray14 = SimpleBaseArchitecture(DenseNet121, len(chestxray14_columns))\n",
    "model_densenet_chexpert = SimpleBaseArchitecture(DenseNet121, len(chexpert_columns))\n",
    "\n",
    "model_inceptionnet_chestxray14 = SimpleBaseArchitecture(InceptionV3, len(chestxray14_columns))\n",
    "model_inceptionnet_chexpert = SimpleBaseArchitecture(InceptionV3, len(chexpert_columns))"
   ]
  },
  {
   "cell_type": "code",
   "execution_count": 9,
   "metadata": {},
   "outputs": [],
   "source": [
    "experiment_resnet_chexpert = Experiment(chexpert_benchmark, model_resnet_chexpert, \"ResNet152V2_CheXpert_weighted_32\")\n",
    "experiment_densenet_chexpert = Experiment(chexpert_benchmark, model_densenet_chexpert, \"DenseNet121_CheXpert_weighted_32\")\n",
    "experiment_inceptionnet_chexpert = Experiment(chexpert_benchmark, model_inceptionnet_chexpert, \"InceptionV3_CheXpert_weighted_32\")"
   ]
  },
  {
   "cell_type": "code",
   "execution_count": 10,
   "metadata": {},
   "outputs": [],
   "source": [
    "experiment_resnet_chestxray14 = Experiment(chestxray14_benchmark, model_resnet_chestxray14, \"ResNet152V2_ChestXray14_weighted_16\")\n",
    "experiment_densenet_chestxray14 = Experiment(chestxray14_benchmark, model_densenet_chestxray14, \"DenseNet121_ChestXray14_weighted_16\")\n",
    "experiment_inceptionnet_chestxray14 = Experiment(chestxray14_benchmark, model_inceptionnet_chestxray14, \"InceptionV3_ChestXray14_weighted_16\")"
   ]
  },
  {
   "cell_type": "code",
   "execution_count": 11,
   "metadata": {},
   "outputs": [
    {
     "name": "stdout",
     "output_type": "stream",
     "text": [
      "Trained ResNet152V2_CheXpert_weighted_32 architecture using the 'Chexpert small batches' benchmark. The benchmark was initialized for the chexpert_full dataset with batch size of 32, shuffel set to True and images rescaled to dimension (256, 256).\n",
      "The training was done for 10 epochs using the Adam optimizer and weighted_binary_crossentropy loss.\n",
      "A total of 14 labels/pathologies were included in the training and encoded using the 'uzeroes' method.\n",
      "The traing set included 143328 number of sample, the validation set 34726, and the test set 45360. \n"
     ]
    }
   ],
   "source": [
    "print(experiment_resnet_chexpert.model_description)"
   ]
  },
  {
   "cell_type": "code",
   "execution_count": null,
   "metadata": {},
   "outputs": [
    {
     "name": "stdout",
     "output_type": "stream",
     "text": [
      "Epoch 1/10\n",
      "   1/4479 [..............................] - ETA: 0s - loss: 1.6485 - auc: 0.4364 - precision: 0.1245 - recall: 0.4627 - f2_score: 0.2998 - binary_accuracy: 0.4330WARNING:tensorflow:From /usr/local/lib/python3.6/dist-packages/tensorflow/python/ops/summary_ops_v2.py:1277: stop (from tensorflow.python.eager.profiler) is deprecated and will be removed after 2020-07-01.\n",
      "Instructions for updating:\n",
      "use `tf.profiler.experimental.stop` instead.\n",
      " 828/4479 [====>.........................] - ETA: 10:47 - loss: 1.3036 - auc: 0.6569 - precision: 0.2475 - recall: 0.6763 - f2_score: 0.5023 - binary_accuracy: 0.6071"
     ]
    }
   ],
   "source": [
    "experiment_resnet_chexpert_result =  experiment_resnet_chexpert.run()"
   ]
  },
  {
   "cell_type": "code",
   "execution_count": null,
   "metadata": {},
   "outputs": [],
   "source": [
    "experiment_densenet_chexpert_result =  experiment_densenet_chexpert.run()"
   ]
  },
  {
   "cell_type": "code",
   "execution_count": null,
   "metadata": {},
   "outputs": [],
   "source": [
    "experiment_inceptionnet_chexpert_result =  experiment_inceptionnet_chexpert.run()"
   ]
  },
  {
   "cell_type": "code",
   "execution_count": null,
   "metadata": {},
   "outputs": [],
   "source": [
    "experiment_resnet_chestxray14_result =  experiment_resnet_chestxray14.run()"
   ]
  },
  {
   "cell_type": "code",
   "execution_count": null,
   "metadata": {},
   "outputs": [],
   "source": [
    "experiment_densenet_chestxray14_result =  experiment_densenet_chestxray14.run()"
   ]
  },
  {
   "cell_type": "code",
   "execution_count": null,
   "metadata": {},
   "outputs": [],
   "source": [
    "experiment_inceptionnet_chestxray14_result =  experiment_inceptionnet_chestxray14.run()"
   ]
  },
  {
   "cell_type": "code",
   "execution_count": null,
   "metadata": {},
   "outputs": [],
   "source": [
    "predictions = experiment_inceptionnet_chexpert.model.predict(\n",
    "            experiment_inceptionnet_chexpert.benchmark.testgen, steps=len(experiment_inceptionnet_chexpert.benchmark.testgen), verbose=1)"
   ]
  },
  {
   "cell_type": "code",
   "execution_count": null,
   "metadata": {},
   "outputs": [],
   "source": [
    "true_labels = experiment_inceptionnet_chexpert.benchmark.testgen.get_encoded_labels()"
   ]
  },
  {
   "cell_type": "code",
   "execution_count": null,
   "metadata": {},
   "outputs": [],
   "source": []
  },
  {
   "cell_type": "code",
   "execution_count": null,
   "metadata": {},
   "outputs": [],
   "source": [
    "model_guendel_chestxray14 = densenet(classes=len(chestxray14_columns))\n",
    "model_guendel_chexpert = densenet(classes=len(chexpert_columns))\n",
    "\n",
    "experiment_guendel_chestxray14 = Experiment(chestxray14_benchmark, model_guendel_chestxray14, \"Guendel19_ChestXray14\")\n",
    "experiment_guendel_chexpert = Experiment(chexpert_benchmark, model_guendel_chexpert, \"Guendel19_CheXpert\")\n",
    "\n"
   ]
  },
  {
   "cell_type": "code",
   "execution_count": null,
   "metadata": {},
   "outputs": [],
   "source": [
    "experiment_guendel_chestxray14_result =  experiment_guendel_chestxray14.run()"
   ]
  },
  {
   "cell_type": "code",
   "execution_count": null,
   "metadata": {},
   "outputs": [],
   "source": [
    "experiment_guendel_chexpert_result =  experiment_guendel_chexpert.run()"
   ]
  },
  {
   "cell_type": "code",
   "execution_count": null,
   "metadata": {},
   "outputs": [],
   "source": []
  },
  {
   "cell_type": "code",
   "execution_count": null,
   "metadata": {},
   "outputs": [],
   "source": []
  },
  {
   "cell_type": "code",
   "execution_count": null,
   "metadata": {},
   "outputs": [],
   "source": []
  },
  {
   "cell_type": "code",
   "execution_count": null,
   "metadata": {},
   "outputs": [],
   "source": []
  }
 ],
 "metadata": {
  "kernelspec": {
   "display_name": "Python 3",
   "language": "python",
   "name": "python3"
  },
  "language_info": {
   "codemirror_mode": {
    "name": "ipython",
    "version": 3
   },
   "file_extension": ".py",
   "mimetype": "text/x-python",
   "name": "python",
   "nbconvert_exporter": "python",
   "pygments_lexer": "ipython3",
   "version": "3.6.9"
  },
  "pycharm": {
   "stem_cell": {
    "cell_type": "raw",
    "metadata": {
     "collapsed": false
    },
    "source": []
   }
  }
 },
 "nbformat": 4,
 "nbformat_minor": 4
}
