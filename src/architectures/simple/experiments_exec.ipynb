{
 "cells": [
  {
   "cell_type": "code",
   "execution_count": 1,
   "metadata": {
    "pycharm": {
     "name": "#%%\n"
    }
   },
   "outputs": [
    {
     "data": {
      "text/plain": [
       "'/srv/idp-radio-1'"
      ]
     },
     "execution_count": 1,
     "metadata": {},
     "output_type": "execute_result"
    }
   ],
   "source": [
    "import os \n",
    "import datetime\n",
    "from pathlib import Path\n",
    "from dotenv import load_dotenv, find_dotenv\n",
    "\n",
    "basepath = Path(os.getcwd())\n",
    "# make sure your working directory is the repository root.\n",
    "if basepath.name != \"idp-radio-1\":\n",
    "    os.chdir(basepath.parent.parent.parent)\n",
    "load_dotenv(find_dotenv())\n",
    "\n",
    "%load_ext autoreload\n",
    "%autoreload 2\n",
    "os.getcwd()"
   ]
  },
  {
   "cell_type": "code",
   "execution_count": 2,
   "metadata": {
    "pycharm": {
     "is_executing": false
    }
   },
   "outputs": [],
   "source": [
    "import os \n",
    "import tensorflow as tf\n",
    "from pathlib import Path"
   ]
  },
  {
   "cell_type": "code",
   "execution_count": null,
   "metadata": {},
   "outputs": [],
   "source": [
    "config\n"
   ]
  },
  {
   "cell_type": "code",
   "execution_count": 3,
   "metadata": {},
   "outputs": [
    {
     "name": "stdout",
     "output_type": "stream",
     "text": [
      "Device mapping:\n",
      "/job:localhost/replica:0/task:0/device:XLA_CPU:0 -> device: XLA_CPU device\n",
      "/job:localhost/replica:0/task:0/device:XLA_GPU:0 -> device: XLA_GPU device\n",
      "/job:localhost/replica:0/task:0/device:XLA_GPU:1 -> device: XLA_GPU device\n",
      "/job:localhost/replica:0/task:0/device:GPU:0 -> device: 0, name: GeForce RTX 2080 Ti, pci bus id: 0000:42:00.0, compute capability: 7.5\n",
      "/job:localhost/replica:0/task:0/device:GPU:1 -> device: 1, name: GeForce RTX 2080 Ti, pci bus id: 0000:08:00.0, compute capability: 7.5\n",
      "\n"
     ]
    },
    {
     "data": {
      "text/plain": [
       "<tensorflow.python.client.session.Session at 0x7f4138141160>"
      ]
     },
     "execution_count": 3,
     "metadata": {},
     "output_type": "execute_result"
    }
   ],
   "source": [
    "# Run this before loading other dependencies, otherwise they might occupy memory on gpu 0 by default and it will stay that way\n",
    "\n",
    "# Specify which GPU(s) to use\n",
    "os.environ[\"CUDA_VISIBLE_DEVICES\"] = \"1,0\"  # Or 2, 3, etc. other than 0\n",
    "\n",
    "config = tf.compat.v1.ConfigProto(device_count={'GPU': 2}, allow_soft_placement=True, log_device_placement=True)\n",
    "#config.gpu_options.allow_growth = True\n",
    "config.gpu_options.per_process_gpu_memory_fraction = 2.0\n",
    "tf.compat.v1.Session(config=config)\n"
   ]
  },
  {
   "cell_type": "code",
   "execution_count": 4,
   "metadata": {},
   "outputs": [],
   "source": [
    "from tensorflow.keras.applications.inception_v3 import InceptionV3\n",
    "from tensorflow.keras.applications.densenet import DenseNet121\n",
    "from tensorflow.keras.applications.resnet_v2 import ResNet101V2\n",
    "from src.architectures.simple.simple_base import SimpleBaseArchitecture\n",
    "from src.architectures.adv.guendel19 import densenet\n",
    "\n",
    "from src.architectures.benchmarks.benchmark import Benchmark, Experiment\n",
    "from tensorflow.keras.optimizers import Adam\n",
    "from src.architectures.benchmarks.benchmark_definitions import Chexpert_Benchmark, Chestxray14_Benchmark, simple_architecture_experiment, generate_benchmarks, METRICS, CHEXPERT_COLUMNS, CHESTXRAY14_COLUMNS\n",
    "from src.metrics.metrics import F2Score\n",
    "from src.metrics.losses import WeightedBinaryCrossentropy, compute_class_weight"
   ]
  },
  {
   "cell_type": "code",
   "execution_count": null,
   "metadata": {},
   "outputs": [],
   "source": [
    "CHEXPERT_BENCHMARKS, CHESTXRAY14_BENCHMARKS = generate_benchmarks (batch_sizes={\"Medium\": 32}, epoch_sizes= {\"Dev\": 5,}, crop={\"C0\": False}, name_suffix=\"\",)\n",
    "\n"
   ]
  },
  {
   "cell_type": "code",
   "execution_count": 5,
   "metadata": {},
   "outputs": [
    {
     "ename": "NameError",
     "evalue": "name 'CHEXPERT_BENCHMARKS' is not defined",
     "output_type": "error",
     "traceback": [
      "\u001b[0;31m---------------------------------------------------------------------------\u001b[0m",
      "\u001b[0;31mNameError\u001b[0m                                 Traceback (most recent call last)",
      "\u001b[0;32m<ipython-input-5-1df40b813321>\u001b[0m in \u001b[0;36m<module>\u001b[0;34m\u001b[0m\n\u001b[0;32m----> 1\u001b[0;31m \u001b[0mCHEXPERT_BENCHMARKS\u001b[0m\u001b[0;34m.\u001b[0m\u001b[0mkeys\u001b[0m\u001b[0;34m(\u001b[0m\u001b[0;34m)\u001b[0m\u001b[0;34m\u001b[0m\u001b[0;34m\u001b[0m\u001b[0m\n\u001b[0m",
      "\u001b[0;31mNameError\u001b[0m: name 'CHEXPERT_BENCHMARKS' is not defined"
     ]
    }
   ],
   "source": [
    "CHEXPERT_BENCHMARKS.keys() "
   ]
  },
  {
   "cell_type": "code",
   "execution_count": null,
   "metadata": {},
   "outputs": [],
   "source": [
    "#CHESTXRAY14_BENCHMARKS.keys()"
   ]
  },
  {
   "cell_type": "code",
   "execution_count": null,
   "metadata": {},
   "outputs": [],
   "source": [
    "#[m.name for m in METRICS]"
   ]
  },
  {
   "cell_type": "code",
   "execution_count": null,
   "metadata": {},
   "outputs": [],
   "source": [
    "#CHEXPERT_COLUMNS"
   ]
  },
  {
   "cell_type": "code",
   "execution_count": 2,
   "metadata": {},
   "outputs": [
    {
     "name": "stdout",
     "output_type": "stream",
     "text": [
      "URLs open for the following services:\n",
      "[('tensorboard', 'http://16c3b9057210.ngrok.io'), ('jupyterlab', 'http://90a52a2649d5.ngrok.io')]\n"
     ]
    }
   ],
   "source": [
    "!remote_access/get_tunnels.sh"
   ]
  },
  {
   "cell_type": "code",
   "execution_count": null,
   "metadata": {},
   "outputs": [],
   "source": []
  },
  {
   "cell_type": "code",
   "execution_count": null,
   "metadata": {},
   "outputs": [],
   "source": [
    "chexpert_exp = simple_architecture_experiment(CHEXPERT_BENCHMARKS[\"BCE_E5_B32_C0\"], DenseNet121, CHEXPERT_COLUMNS)"
   ]
  },
  {
   "cell_type": "code",
   "execution_count": null,
   "metadata": {},
   "outputs": [],
   "source": [
    "#chexpert_exp.benchmark.as_dict()"
   ]
  },
  {
   "cell_type": "code",
   "execution_count": null,
   "metadata": {},
   "outputs": [],
   "source": [
    "#chexpert_exp.run()"
   ]
  },
  {
   "cell_type": "code",
   "execution_count": null,
   "metadata": {},
   "outputs": [],
   "source": []
  },
  {
   "cell_type": "code",
   "execution_count": 5,
   "metadata": {},
   "outputs": [
    {
     "data": {
      "text/plain": [
       "12"
      ]
     },
     "execution_count": 5,
     "metadata": {},
     "output_type": "execute_result"
    }
   ],
   "source": [
    "reduced_columns = ['Enlarged Cardiomediastinum',\n",
    "                    'Cardiomegaly',\n",
    "                    'Lung Opacity',\n",
    "                    'Lung Lesion',\n",
    "                    'Edema',\n",
    "                    'Consolidation',\n",
    "                    'Pneumonia',\n",
    "                    'Atelectasis',\n",
    "                    'Pneumothorax',\n",
    "                    'Pleural Effusion',\n",
    "                    'Pleural Other',\n",
    "                    'Fracture']\n",
    "len(reduced_columns)"
   ]
  },
  {
   "cell_type": "code",
   "execution_count": 6,
   "metadata": {},
   "outputs": [
    {
     "name": "stdout",
     "output_type": "stream",
     "text": [
      "Chestxray_BCE_E3_B32_C0_N12_investigate could not be created\n",
      "Chestxray_WBCE_E3_B32_C0_N12_investigate could not be created\n",
      "Chestxray_CWBCE_E3_B32_C0_N12_investigate could not be created\n"
     ]
    }
   ],
   "source": [
    "chexpert_benchmarks, _ = generate_benchmarks(path = Path(os.environ.get(\"CHEXPERT_DATASET_DIRECTORY\")),\n",
    "                                                     name_suffix=\"_investigate\",\n",
    "                                                     classes=reduced_columns,\n",
    "                                                     train_labels = \"nofinding_train.csv\",\n",
    "                                                     nan_replacement = -1, #float(\"NaN\"),\n",
    "                                                     batch_sizes = {\"b\": 32},\n",
    "                                                     epoch_sizes = {\"e\": 3},\n",
    "                                                     dim=(320, 320),\n",
    "                                                     crop = {\"C0\": False},\n",
    "                                                     split_seed = 6122156, )"
   ]
  },
  {
   "cell_type": "code",
   "execution_count": 7,
   "metadata": {},
   "outputs": [
    {
     "data": {
      "text/plain": [
       "dict_keys(['BCE_E3_B32_C0_N12_investigate', 'WBCE_E3_B32_C0_N12_investigate', 'CWBCE_E3_B32_C0_N12_investigate'])"
      ]
     },
     "execution_count": 7,
     "metadata": {},
     "output_type": "execute_result"
    }
   ],
   "source": [
    "chexpert_benchmarks.keys()"
   ]
  },
  {
   "cell_type": "code",
   "execution_count": 8,
   "metadata": {},
   "outputs": [
    {
     "name": "stdout",
     "output_type": "stream",
     "text": [
      "Downloading data from https://storage.googleapis.com/tensorflow/keras-applications/densenet/densenet121_weights_tf_dim_ordering_tf_kernels_notop.h5\n",
      "29089792/29084464 [==============================] - 12s 0us/step\n"
     ]
    }
   ],
   "source": [
    "chexpert_exp = simple_architecture_experiment(chexpert_benchmarks[\"CWBCE_E3_B32_C0_N12_investigate\"], DenseNet121, reduced_columns)"
   ]
  },
  {
   "cell_type": "code",
   "execution_count": 9,
   "metadata": {},
   "outputs": [
    {
     "data": {
      "text/plain": [
       "{'benchmark_name': 'Chexpert_CWBCE_E3_B32_C0_N12_investigate',\n",
       " 'dataset_name': 'chexpert_full',\n",
       " 'dataset_folder': 'data/chexpert/full',\n",
       " 'models_dir': 'models',\n",
       " 'epochs': 3,\n",
       " 'optimizer': 'Adam',\n",
       " 'loss': 'weighted_binary_crossentropy',\n",
       " 'use_class_weights': False,\n",
       " 'positive_weights': [5.492364406585693,\n",
       "  2.4167683124542236,\n",
       "  1.3062094449996948,\n",
       "  3.689021348953247,\n",
       "  1.9961391687393188,\n",
       "  5.711972713470459,\n",
       "  8.167060852050781,\n",
       "  2.7001078128814697,\n",
       "  4.474693775177002,\n",
       "  1.6808327436447144,\n",
       "  8.232630729675293,\n",
       "  3.7335445880889893],\n",
       " 'negative_weights': [1.222599983215332,\n",
       "  1.70583176612854,\n",
       "  4.2657389640808105,\n",
       "  1.3718825578689575,\n",
       "  2.003875732421875,\n",
       "  1.212225317955017,\n",
       "  1.1395272016525269,\n",
       "  1.588197946548462,\n",
       "  1.2877951860427856,\n",
       "  2.468789577484131,\n",
       "  1.1382622718811035,\n",
       "  1.3658254146575928],\n",
       " 'metrics': ['auc',\n",
       "  'precision',\n",
       "  'recall',\n",
       "  'f2_score',\n",
       "  'binary_accuracy',\n",
       "  'accuracy_enlarged_cardiomediastinum',\n",
       "  'accuracy_cardiomegaly',\n",
       "  'accuracy_lung_opacity',\n",
       "  'accuracy_lung_lesion',\n",
       "  'accuracy_edema',\n",
       "  'accuracy_consolidation',\n",
       "  'accuracy_pneumonia',\n",
       "  'accuracy_atelectasis',\n",
       "  'accuracy_pneumothorax',\n",
       "  'accuracy_pleural_effusion',\n",
       "  'accuracy_pleural_other',\n",
       "  'accuracy_fracture',\n",
       "  'auc_enlarged_cardiomediastinum',\n",
       "  'auc_cardiomegaly',\n",
       "  'auc_lung_opacity',\n",
       "  'auc_lung_lesion',\n",
       "  'auc_edema',\n",
       "  'auc_consolidation',\n",
       "  'auc_pneumonia',\n",
       "  'auc_atelectasis',\n",
       "  'auc_pneumothorax',\n",
       "  'auc_pleural_effusion',\n",
       "  'auc_pleural_other',\n",
       "  'auc_fracture',\n",
       "  'precision_enlarged_cardiomediastinum',\n",
       "  'precision_cardiomegaly',\n",
       "  'precision_lung_opacity',\n",
       "  'precision_lung_lesion',\n",
       "  'precision_edema',\n",
       "  'precision_consolidation',\n",
       "  'precision_pneumonia',\n",
       "  'precision_atelectasis',\n",
       "  'precision_pneumothorax',\n",
       "  'precision_pleural_effusion',\n",
       "  'precision_pleural_other',\n",
       "  'precision_fracture',\n",
       "  'recall_enlarged_cardiomediastinum',\n",
       "  'recall_cardiomegaly',\n",
       "  'recall_lung_opacity',\n",
       "  'recall_lung_lesion',\n",
       "  'recall_edema',\n",
       "  'recall_consolidation',\n",
       "  'recall_pneumonia',\n",
       "  'recall_atelectasis',\n",
       "  'recall_pneumothorax',\n",
       "  'recall_pleural_effusion',\n",
       "  'recall_pleural_other',\n",
       "  'recall_fracture',\n",
       "  'f2_score_enlarged_cardiomediastinum',\n",
       "  'f2_score_cardiomegaly',\n",
       "  'f2_score_lung_opacity',\n",
       "  'f2_score_lung_lesion',\n",
       "  'f2_score_edema',\n",
       "  'f2_score_consolidation',\n",
       "  'f2_score_pneumonia',\n",
       "  'f2_score_atelectasis',\n",
       "  'f2_score_pneumothorax',\n",
       "  'f2_score_pleural_effusion',\n",
       "  'f2_score_pleural_other',\n",
       "  'f2_score_fracture'],\n",
       " 'label_columns': ['Enlarged Cardiomediastinum',\n",
       "  'Cardiomegaly',\n",
       "  'Lung Opacity',\n",
       "  'Lung Lesion',\n",
       "  'Edema',\n",
       "  'Consolidation',\n",
       "  'Pneumonia',\n",
       "  'Atelectasis',\n",
       "  'Pneumothorax',\n",
       "  'Pleural Effusion',\n",
       "  'Pleural Other',\n",
       "  'Fracture'],\n",
       " 'path_column': 'Path',\n",
       " 'path_column_prefix': '',\n",
       " 'shuffle': True,\n",
       " 'batch_size': 32,\n",
       " 'dim': (320, 320),\n",
       " 'crop': False,\n",
       " 'n_channels': 3,\n",
       " 'nan_replacement': -1,\n",
       " 'unc_value': -1,\n",
       " 'u_enc': 'uzeroes',\n",
       " 'drop_last': True,\n",
       " 'train_num_samples': 142320,\n",
       " 'valid_num_samples': 36162,\n",
       " 'test_num_samples': 44932,\n",
       " 'split_seed': 6122156}"
      ]
     },
     "execution_count": 9,
     "metadata": {},
     "output_type": "execute_result"
    }
   ],
   "source": [
    "chexpert_exp.benchmark.as_dict()"
   ]
  },
  {
   "cell_type": "code",
   "execution_count": null,
   "metadata": {},
   "outputs": [],
   "source": [
    "#[(m, m.name) for m in chexpert_exp.benchmark.metrics]"
   ]
  },
  {
   "cell_type": "code",
   "execution_count": null,
   "metadata": {},
   "outputs": [
    {
     "name": "stdout",
     "output_type": "stream",
     "text": [
      "Epoch 1/3\n",
      "4447/4447 [==============================] - ETA: 0s - loss: 1.1463 - auc: 0.5811 - precision: 0.1692 - recall: 0.7923 - f2_score: 0.4562 - binary_accuracy: 0.4245 - accuracy_enlarged_cardiomediastinum: 0.3299 - accuracy_cardiomegaly: 0.4382 - accuracy_lung_opacity: 0.6224 - accuracy_lung_lesion: 0.2760 - accuracy_edema: 0.5887 - accuracy_consolidation: 0.4545 - accuracy_pneumonia: 0.3398 - accuracy_atelectasis: 0.3940 - accuracy_pneumothorax: 0.4426 - accuracy_pleural_effusion: 0.6767 - accuracy_pleural_other: 0.2839 - accuracy_fracture: 0.2473 - auc_enlarged_cardiomediastinum: 0.4885 - auc_cardiomegaly: 0.6247 - auc_lung_opacity: 0.6738 - auc_lung_lesion: 0.4460 - auc_edema: 0.7337 - auc_consolidation: 0.6507 - auc_pneumonia: 0.5271 - auc_atelectasis: 0.5688 - auc_pneumothorax: 0.6044 - auc_pleural_effusion: 0.7736 - auc_pleural_other: 0.4949 - auc_fracture: 0.3877 - precision_enlarged_cardiomediastinum: 0.0473 - precision_cardiomegaly: 0.1510 - precision_lung_opacity: 0.5722 - precision_lung_lesion: 0.0378 - precision_edema: 0.3414 - precision_consolidation: 0.0888 - precision_pneumonia: 0.0278 - precision_atelectasis: 0.1708 - precision_pneumothorax: 0.1073 - precision_pleural_effusion: 0.5511 - precision_pleural_other: 0.0149 - precision_fracture: 0.0340 - recall_enlarged_cardiomediastinum: 0.6794 - recall_cardiomegaly: 0.7868 - recall_lung_opacity: 0.7912 - recall_lung_lesion: 0.6753 - recall_edema: 0.8234 - recall_consolidation: 0.7851 - recall_pneumonia: 0.6973 - recall_atelectasis: 0.7893 - recall_pneumothorax: 0.7253 - recall_pleural_effusion: 0.8466 - recall_pleural_other: 0.6840 - recall_fracture: 0.6503 - f2_score_enlarged_cardiomediastinum: 0.1850 - f2_score_cardiomegaly: 0.4270 - f2_score_lung_opacity: 0.7350 - f2_score_lung_lesion: 0.1543 - f2_score_edema: 0.6421 - f2_score_consolidation: 0.3058 - f2_score_pneumonia: 0.1198 - f2_score_atelectasis: 0.4577 - f2_score_pneumothorax: 0.3370 - f2_score_pleural_effusion: 0.7646 - f2_score_pleural_other: 0.0683 - f2_score_fracture: 0.1404 - learning rate: 0.0010INFO:tensorflow:Summary name epoch_learning rate is illegal; using epoch_learning_rate instead.\n",
      "\n",
      "Epoch 00001: val_loss improved from inf to 1.11631, saving model to models/DenseNet121_Chexpert_CWBCE_E3_B32_C0_N12_investigate/weights.01-1.12.hdf5\n",
      "4447/4447 [==============================] - 1484s 334ms/step - loss: 1.1463 - auc: 0.5811 - precision: 0.1692 - recall: 0.7923 - f2_score: 0.4562 - binary_accuracy: 0.4245 - accuracy_enlarged_cardiomediastinum: 0.3299 - accuracy_cardiomegaly: 0.4382 - accuracy_lung_opacity: 0.6224 - accuracy_lung_lesion: 0.2760 - accuracy_edema: 0.5887 - accuracy_consolidation: 0.4545 - accuracy_pneumonia: 0.3398 - accuracy_atelectasis: 0.3940 - accuracy_pneumothorax: 0.4426 - accuracy_pleural_effusion: 0.6767 - accuracy_pleural_other: 0.2839 - accuracy_fracture: 0.2473 - auc_enlarged_cardiomediastinum: 0.4885 - auc_cardiomegaly: 0.6247 - auc_lung_opacity: 0.6738 - auc_lung_lesion: 0.4460 - auc_edema: 0.7337 - auc_consolidation: 0.6507 - auc_pneumonia: 0.5271 - auc_atelectasis: 0.5688 - auc_pneumothorax: 0.6044 - auc_pleural_effusion: 0.7736 - auc_pleural_other: 0.4949 - auc_fracture: 0.3877 - precision_enlarged_cardiomediastinum: 0.0473 - precision_cardiomegaly: 0.1510 - precision_lung_opacity: 0.5722 - precision_lung_lesion: 0.0378 - precision_edema: 0.3414 - precision_consolidation: 0.0888 - precision_pneumonia: 0.0278 - precision_atelectasis: 0.1708 - precision_pneumothorax: 0.1073 - precision_pleural_effusion: 0.5511 - precision_pleural_other: 0.0149 - precision_fracture: 0.0340 - recall_enlarged_cardiomediastinum: 0.6794 - recall_cardiomegaly: 0.7868 - recall_lung_opacity: 0.7912 - recall_lung_lesion: 0.6753 - recall_edema: 0.8234 - recall_consolidation: 0.7851 - recall_pneumonia: 0.6973 - recall_atelectasis: 0.7893 - recall_pneumothorax: 0.7253 - recall_pleural_effusion: 0.8466 - recall_pleural_other: 0.6840 - recall_fracture: 0.6503 - f2_score_enlarged_cardiomediastinum: 0.1850 - f2_score_cardiomegaly: 0.4270 - f2_score_lung_opacity: 0.7350 - f2_score_lung_lesion: 0.1543 - f2_score_edema: 0.6421 - f2_score_consolidation: 0.3058 - f2_score_pneumonia: 0.1198 - f2_score_atelectasis: 0.4577 - f2_score_pneumothorax: 0.3370 - f2_score_pleural_effusion: 0.7646 - f2_score_pleural_other: 0.0683 - f2_score_fracture: 0.1404 - learning rate: 0.0010 - val_loss: 1.1163 - val_auc: 0.5910 - val_precision: 0.1764 - val_recall: 0.8010 - val_f2_score: 0.4689 - val_binary_accuracy: 0.4474 - val_accuracy_enlarged_cardiomediastinum: 0.3311 - val_accuracy_cardiomegaly: 0.4110 - val_accuracy_lung_opacity: 0.6359 - val_accuracy_lung_lesion: 0.3011 - val_accuracy_edema: 0.5850 - val_accuracy_consolidation: 0.4483 - val_accuracy_pneumonia: 0.5165 - val_accuracy_atelectasis: 0.3907 - val_accuracy_pneumothorax: 0.4828 - val_accuracy_pleural_effusion: 0.6917 - val_accuracy_pleural_other: 0.3368 - val_accuracy_fracture: 0.2384 - val_auc_enlarged_cardiomediastinum: 0.5045 - val_auc_cardiomegaly: 0.6416 - val_auc_lung_opacity: 0.6852 - val_auc_lung_lesion: 0.4378 - val_auc_edema: 0.7376 - val_auc_consolidation: 0.6588 - val_auc_pneumonia: 0.5201 - val_auc_atelectasis: 0.5639 - val_auc_pneumothorax: 0.6196 - val_auc_pleural_effusion: 0.8050 - val_auc_pleural_other: 0.5253 - val_auc_fracture: 0.3930 - val_precision_enlarged_cardiomediastinum: 0.0494 - val_precision_cardiomegaly: 0.1527 - val_precision_lung_opacity: 0.5861 - val_precision_lung_lesion: 0.0339 - val_precision_edema: 0.3474 - val_precision_consolidation: 0.0889 - val_precision_pneumonia: 0.0282 - val_precision_atelectasis: 0.1611 - val_precision_pneumothorax: 0.1023 - val_precision_pleural_effusion: 0.5639 - val_precision_pleural_other: 0.0153 - val_precision_fracture: 0.0363 - val_recall_enlarged_cardiomediastinum: 0.6930 - val_recall_cardiomegaly: 0.8279 - val_recall_lung_opacity: 0.7869 - val_recall_lung_lesion: 0.6165 - val_recall_edema: 0.8419 - val_recall_consolidation: 0.8176 - val_recall_pneumonia: 0.4872 - val_recall_atelectasis: 0.7828 - val_recall_pneumothorax: 0.6768 - val_recall_pleural_effusion: 0.8876 - val_recall_pleural_other: 0.6789 - val_recall_fracture: 0.6827 - val_f2_score_enlarged_cardiomediastinum: 0.1921 - val_f2_score_cardiomegaly: 0.4394 - val_f2_score_lung_opacity: 0.7364 - val_f2_score_lung_lesion: 0.1390 - val_f2_score_edema: 0.6554 - val_f2_score_consolidation: 0.3098 - val_f2_score_pneumonia: 0.1146 - val_f2_score_atelectasis: 0.4419 - val_f2_score_pneumothorax: 0.3188 - val_f2_score_pleural_effusion: 0.7962 - val_f2_score_pleural_other: 0.0702 - val_f2_score_fracture: 0.1497\n",
      "Epoch 2/3\n",
      "4447/4447 [==============================] - ETA: 0s - loss: 1.0944 - auc: 0.6100 - precision: 0.1740 - recall: 0.8158 - f2_score: 0.4694 - binary_accuracy: 0.4302 - accuracy_enlarged_cardiomediastinum: 0.3148 - accuracy_cardiomegaly: 0.4751 - accuracy_lung_opacity: 0.6302 - accuracy_lung_lesion: 0.2726 - accuracy_edema: 0.5969 - accuracy_consolidation: 0.4502 - accuracy_pneumonia: 0.3135 - accuracy_atelectasis: 0.3667 - accuracy_pneumothorax: 0.5253 - accuracy_pleural_effusion: 0.7067 - accuracy_pleural_other: 0.2797 - accuracy_fracture: 0.2309 - auc_enlarged_cardiomediastinum: 0.5007 - auc_cardiomegaly: 0.6830 - auc_lung_opacity: 0.6848 - auc_lung_lesion: 0.4762 - auc_edema: 0.7525 - auc_consolidation: 0.6656 - auc_pneumonia: 0.5551 - auc_atelectasis: 0.5627 - auc_pneumothorax: 0.6875 - auc_pleural_effusion: 0.8056 - auc_pleural_other: 0.5587 - auc_fracture: 0.3870 - precision_enlarged_cardiomediastinum: 0.0479 - precision_cardiomegaly: 0.1649 - precision_lung_opacity: 0.5771 - precision_lung_lesion: 0.0389 - precision_edema: 0.3484 - precision_consolidation: 0.0913 - precision_pneumonia: 0.0287 - precision_atelectasis: 0.1700 - precision_pneumothorax: 0.1271 - precision_pleural_effusion: 0.5784 - precision_pleural_other: 0.0164 - precision_fracture: 0.0341 - recall_enlarged_cardiomediastinum: 0.7053 - recall_cardiomegaly: 0.8201 - recall_lung_opacity: 0.8086 - recall_lung_lesion: 0.7007 - recall_edema: 0.8391 - recall_consolidation: 0.8186 - recall_pneumonia: 0.7514 - recall_atelectasis: 0.8310 - recall_pneumothorax: 0.7454 - recall_pleural_effusion: 0.8672 - recall_pleural_other: 0.7602 - recall_fracture: 0.6676 - f2_score_enlarged_cardiomediastinum: 0.1883 - f2_score_cardiomegaly: 0.4569 - f2_score_lung_opacity: 0.7486 - f2_score_lung_lesion: 0.1591 - f2_score_edema: 0.6547 - f2_score_consolidation: 0.3156 - f2_score_pneumonia: 0.1244 - f2_score_atelectasis: 0.4675 - f2_score_pneumothorax: 0.3777 - f2_score_pleural_effusion: 0.7885 - f2_score_pleural_other: 0.0753 - f2_score_fracture: 0.1415 - learning rate: 0.0010INFO:tensorflow:Summary name epoch_learning rate is illegal; using epoch_learning_rate instead.\n",
      "\n",
      "Epoch 00002: val_loss did not improve from 1.11631\n",
      "4447/4447 [==============================] - 1473s 331ms/step - loss: 1.0944 - auc: 0.6100 - precision: 0.1740 - recall: 0.8158 - f2_score: 0.4694 - binary_accuracy: 0.4302 - accuracy_enlarged_cardiomediastinum: 0.3148 - accuracy_cardiomegaly: 0.4751 - accuracy_lung_opacity: 0.6302 - accuracy_lung_lesion: 0.2726 - accuracy_edema: 0.5969 - accuracy_consolidation: 0.4502 - accuracy_pneumonia: 0.3135 - accuracy_atelectasis: 0.3667 - accuracy_pneumothorax: 0.5253 - accuracy_pleural_effusion: 0.7067 - accuracy_pleural_other: 0.2797 - accuracy_fracture: 0.2309 - auc_enlarged_cardiomediastinum: 0.5007 - auc_cardiomegaly: 0.6830 - auc_lung_opacity: 0.6848 - auc_lung_lesion: 0.4762 - auc_edema: 0.7525 - auc_consolidation: 0.6656 - auc_pneumonia: 0.5551 - auc_atelectasis: 0.5627 - auc_pneumothorax: 0.6875 - auc_pleural_effusion: 0.8056 - auc_pleural_other: 0.5587 - auc_fracture: 0.3870 - precision_enlarged_cardiomediastinum: 0.0479 - precision_cardiomegaly: 0.1649 - precision_lung_opacity: 0.5771 - precision_lung_lesion: 0.0389 - precision_edema: 0.3484 - precision_consolidation: 0.0913 - precision_pneumonia: 0.0287 - precision_atelectasis: 0.1700 - precision_pneumothorax: 0.1271 - precision_pleural_effusion: 0.5784 - precision_pleural_other: 0.0164 - precision_fracture: 0.0341 - recall_enlarged_cardiomediastinum: 0.7053 - recall_cardiomegaly: 0.8201 - recall_lung_opacity: 0.8086 - recall_lung_lesion: 0.7007 - recall_edema: 0.8391 - recall_consolidation: 0.8186 - recall_pneumonia: 0.7514 - recall_atelectasis: 0.8310 - recall_pneumothorax: 0.7454 - recall_pleural_effusion: 0.8672 - recall_pleural_other: 0.7602 - recall_fracture: 0.6676 - f2_score_enlarged_cardiomediastinum: 0.1883 - f2_score_cardiomegaly: 0.4569 - f2_score_lung_opacity: 0.7486 - f2_score_lung_lesion: 0.1591 - f2_score_edema: 0.6547 - f2_score_consolidation: 0.3156 - f2_score_pneumonia: 0.1244 - f2_score_atelectasis: 0.4675 - f2_score_pneumothorax: 0.3777 - f2_score_pleural_effusion: 0.7885 - f2_score_pleural_other: 0.0753 - f2_score_fracture: 0.1415 - learning rate: 0.0010 - val_loss: 1.1684 - val_auc: 0.5913 - val_precision: 0.1675 - val_recall: 0.8907 - val_f2_score: 0.4780 - val_binary_accuracy: 0.3638 - val_accuracy_enlarged_cardiomediastinum: 0.2208 - val_accuracy_cardiomegaly: 0.3271 - val_accuracy_lung_opacity: 0.6037 - val_accuracy_lung_lesion: 0.2138 - val_accuracy_edema: 0.4928 - val_accuracy_consolidation: 0.3509 - val_accuracy_pneumonia: 0.2441 - val_accuracy_atelectasis: 0.3109 - val_accuracy_pneumothorax: 0.5355 - val_accuracy_pleural_effusion: 0.6185 - val_accuracy_pleural_other: 0.2617 - val_accuracy_fracture: 0.1857 - val_auc_enlarged_cardiomediastinum: 0.4966 - val_auc_cardiomegaly: 0.6857 - val_auc_lung_opacity: 0.6841 - val_auc_lung_lesion: 0.4327 - val_auc_edema: 0.7547 - val_auc_consolidation: 0.6619 - val_auc_pneumonia: 0.5160 - val_auc_atelectasis: 0.5565 - val_auc_pneumothorax: 0.6335 - val_auc_pleural_effusion: 0.8066 - val_auc_pleural_other: 0.4732 - val_auc_fracture: 0.3944 - val_precision_enlarged_cardiomediastinum: 0.0490 - val_precision_cardiomegaly: 0.1476 - val_precision_lung_opacity: 0.5508 - val_precision_lung_lesion: 0.0358 - val_precision_edema: 0.3128 - val_precision_consolidation: 0.0823 - val_precision_pneumonia: 0.0282 - val_precision_atelectasis: 0.1587 - val_precision_pneumothorax: 0.1114 - val_precision_pleural_effusion: 0.5031 - val_precision_pleural_other: 0.0153 - val_precision_fracture: 0.0380 - val_recall_enlarged_cardiomediastinum: 0.8093 - val_recall_cardiomegaly: 0.9304 - val_recall_lung_opacity: 0.8831 - val_recall_lung_lesion: 0.7408 - val_recall_edema: 0.9407 - val_recall_consolidation: 0.8936 - val_recall_pneumonia: 0.7767 - val_recall_atelectasis: 0.8962 - val_recall_pneumothorax: 0.6628 - val_recall_pleural_effusion: 0.9545 - val_recall_pleural_other: 0.7596 - val_recall_fracture: 0.7704 - val_f2_score_enlarged_cardiomediastinum: 0.1972 - val_f2_score_cardiomegaly: 0.4514 - val_f2_score_lung_opacity: 0.7880 - val_f2_score_lung_lesion: 0.1501 - val_f2_score_edema: 0.6712 - val_f2_score_consolidation: 0.3007 - val_f2_score_pneumonia: 0.1230 - val_f2_score_atelectasis: 0.4645 - val_f2_score_pneumothorax: 0.3330 - val_f2_score_pleural_effusion: 0.8093 - val_f2_score_pleural_other: 0.0710 - val_f2_score_fracture: 0.1589\n",
      "Epoch 3/3\n",
      "4447/4447 [==============================] - ETA: 0s - loss: 1.0679 - auc: 0.6318 - precision: 0.1793 - recall: 0.8228 - f2_score: 0.4790 - binary_accuracy: 0.4462 - accuracy_enlarged_cardiomediastinum: 0.3110 - accuracy_cardiomegaly: 0.5189 - accuracy_lung_opacity: 0.6339 - accuracy_lung_lesion: 0.2772 - accuracy_edema: 0.6124 - accuracy_consolidation: 0.4616 - accuracy_pneumonia: 0.3541 - accuracy_atelectasis: 0.3856 - accuracy_pneumothorax: 0.5581 - accuracy_pleural_effusion: 0.7219 - accuracy_pleural_other: 0.2939 - accuracy_fracture: 0.2260 - auc_enlarged_cardiomediastinum: 0.5114 - auc_cardiomegaly: 0.7353 - auc_lung_opacity: 0.6902 - auc_lung_lesion: 0.5055 - auc_edema: 0.7646 - auc_consolidation: 0.6728 - auc_pneumonia: 0.5972 - auc_atelectasis: 0.5921 - auc_pneumothorax: 0.7190 - auc_pleural_effusion: 0.8242 - auc_pleural_other: 0.5764 - auc_fracture: 0.3926 - precision_enlarged_cardiomediastinum: 0.0485 - precision_cardiomegaly: 0.1799 - precision_lung_opacity: 0.5797 - precision_lung_lesion: 0.0402 - precision_edema: 0.3585 - precision_consolidation: 0.0931 - precision_pneumonia: 0.0309 - precision_atelectasis: 0.1742 - precision_pneumothorax: 0.1379 - precision_pleural_effusion: 0.5932 - precision_pleural_other: 0.0168 - precision_fracture: 0.0352 - recall_enlarged_cardiomediastinum: 0.7201 - recall_cardiomegaly: 0.8349 - recall_lung_opacity: 0.8143 - recall_lung_lesion: 0.7213 - recall_edema: 0.8407 - recall_consolidation: 0.8191 - recall_pneumonia: 0.7628 - recall_atelectasis: 0.8289 - recall_pneumothorax: 0.7624 - recall_pleural_effusion: 0.8744 - recall_pleural_other: 0.7633 - recall_fracture: 0.6959 - f2_score_enlarged_cardiomediastinum: 0.1912 - f2_score_cardiomegaly: 0.4831 - f2_score_lung_opacity: 0.7533 - f2_score_lung_lesion: 0.1644 - f2_score_edema: 0.6625 - f2_score_consolidation: 0.3200 - f2_score_pneumonia: 0.1329 - f2_score_atelectasis: 0.4733 - f2_score_pneumothorax: 0.4001 - f2_score_pleural_effusion: 0.7987 - f2_score_pleural_other: 0.0770 - f2_score_fracture: 0.1464 - learning rate: 0.0010"
     ]
    }
   ],
   "source": [
    "chexpert_exp.run()"
   ]
  },
  {
   "cell_type": "code",
   "execution_count": 15,
   "metadata": {},
   "outputs": [
    {
     "name": "stdout",
     "output_type": "stream",
     "text": [
      "100/100 [==============================] - 1s 13ms/step\n",
      "100/100 [==============================] - 5s 46ms/step - loss: 1.4067 - auc: 0.5832 - precision: 0.1667 - recall: 0.6129 - f2_score: 0.3992 - binary_accuracy: 0.5542 - accuracy_enlarged_cardiomediastinum: 0.4500 - accuracy_cardiomegaly: 0.4600 - accuracy_lung_opacity: 0.6900 - accuracy_lung_lesion: 0.3900 - accuracy_edema: 0.8000 - accuracy_consolidation: 0.6800 - accuracy_pneumonia: 0.2600 - accuracy_atelectasis: 0.5400 - accuracy_pneumothorax: 0.9400 - accuracy_pleural_effusion: 0.8000 - accuracy_pleural_other: 0.2900 - accuracy_fracture: 0.3500 - auc_enlarged_cardiomediastinum: 0.1753 - auc_cardiomegaly: 0.6236 - auc_lung_opacity: 0.7053 - auc_lung_lesion: 0.3779 - auc_edema: 0.8494 - auc_consolidation: 0.7949 - auc_pneumonia: 0.3832 - auc_atelectasis: 0.5639 - auc_pneumothorax: 0.5891 - auc_pleural_effusion: 0.8543 - auc_pleural_other: 0.6097 - auc_fracture: 0.4719 - precision_enlarged_cardiomediastinum: 0.0000e+00 - precision_cardiomegaly: 0.1228 - precision_lung_opacity: 0.7727 - precision_lung_lesion: 0.0345 - precision_edema: 0.4074 - precision_consolidation: 0.1429 - precision_pneumonia: 0.0137 - precision_atelectasis: 0.0870 - precision_pneumothorax: 0.6667 - precision_pleural_effusion: 0.6923 - precision_pleural_other: 0.0141 - precision_fracture: 0.0154 - recall_enlarged_cardiomediastinum: 0.0000e+00 - recall_cardiomegaly: 0.6364 - recall_lung_opacity: 0.6182 - recall_lung_lesion: 0.2857 - recall_edema: 0.7333 - recall_consolidation: 0.7143 - recall_pneumonia: 0.3333 - recall_atelectasis: 0.5000 - recall_pneumothorax: 0.2857 - recall_pleural_effusion: 0.7714 - recall_pleural_other: 0.5000 - recall_fracture: 0.5000 - f2_score_enlarged_cardiomediastinum: 0.0000e+00 - f2_score_cardiomegaly: 0.3465 - f2_score_lung_opacity: 0.6439 - f2_score_lung_lesion: 0.1163 - f2_score_edema: 0.6322 - f2_score_consolidation: 0.3968 - f2_score_pneumonia: 0.0588 - f2_score_atelectasis: 0.2564 - f2_score_pneumothorax: 0.3226 - f2_score_pleural_effusion: 0.7542 - f2_score_pleural_other: 0.0633 - f2_score_fracture: 0.0685                                                                                                                          \n"
     ]
    },
    {
     "data": {
      "text/plain": [
       "{'report': '                            precision    recall  f1-score   support\\n\\nEnlarged Cardiomediastinum       0.04      1.00      0.08         3\\n              Cardiomegaly       0.15      0.82      0.25        11\\n              Lung Opacity       0.57      0.53      0.55        55\\n               Lung Lesion       0.07      0.71      0.12         7\\n                     Edema       0.26      0.47      0.33        15\\n             Consolidation       0.08      0.43      0.14         7\\n                 Pneumonia       0.02      0.67      0.04         3\\n               Atelectasis       0.09      0.75      0.16         8\\n              Pneumothorax       0.00      0.00      0.00         7\\n          Pleural Effusion       0.33      0.43      0.37        35\\n             Pleural Other       0.00      0.00      0.00         2\\n                  Fracture       0.02      1.00      0.05         2\\n\\n                 micro avg       0.12      0.52      0.19       155\\n                 macro avg       0.14      0.57      0.17       155\\n              weighted avg       0.32      0.52      0.35       155\\n               samples avg       0.08      0.41      0.13       155\\n',\n",
       " 'metrics': {'loss': 1.406687617301941,\n",
       "  'auc': 0.5831966996192932,\n",
       "  'precision': 0.1666666716337204,\n",
       "  'recall': 0.6129032373428345,\n",
       "  'f2_score': 0.3991597294807434,\n",
       "  'binary_accuracy': 0.5541666746139526,\n",
       "  'accuracy_enlarged_cardiomediastinum': 0.44999998807907104,\n",
       "  'accuracy_cardiomegaly': 0.46000000834465027,\n",
       "  'accuracy_lung_opacity': 0.6899999976158142,\n",
       "  'accuracy_lung_lesion': 0.38999998569488525,\n",
       "  'accuracy_edema': 0.800000011920929,\n",
       "  'accuracy_consolidation': 0.6800000071525574,\n",
       "  'accuracy_pneumonia': 0.25999999046325684,\n",
       "  'accuracy_atelectasis': 0.5400000214576721,\n",
       "  'accuracy_pneumothorax': 0.9399999976158142,\n",
       "  'accuracy_pleural_effusion': 0.800000011920929,\n",
       "  'accuracy_pleural_other': 0.28999999165534973,\n",
       "  'accuracy_fracture': 0.3499999940395355,\n",
       "  'auc_enlarged_cardiomediastinum': 0.17525772750377655,\n",
       "  'auc_cardiomegaly': 0.6235954761505127,\n",
       "  'auc_lung_opacity': 0.705252468585968,\n",
       "  'auc_lung_lesion': 0.37788018584251404,\n",
       "  'auc_edema': 0.8494117259979248,\n",
       "  'auc_consolidation': 0.7949308156967163,\n",
       "  'auc_pneumonia': 0.3831615447998047,\n",
       "  'auc_atelectasis': 0.5638587474822998,\n",
       "  'auc_pneumothorax': 0.5890936851501465,\n",
       "  'auc_pleural_effusion': 0.8542856574058533,\n",
       "  'auc_pleural_other': 0.6096938848495483,\n",
       "  'auc_fracture': 0.47193875908851624,\n",
       "  'precision_enlarged_cardiomediastinum': 0.0,\n",
       "  'precision_cardiomegaly': 0.12280701845884323,\n",
       "  'precision_lung_opacity': 0.7727272510528564,\n",
       "  'precision_lung_lesion': 0.03448275849223137,\n",
       "  'precision_edema': 0.40740740299224854,\n",
       "  'precision_consolidation': 0.1428571492433548,\n",
       "  'precision_pneumonia': 0.013698630034923553,\n",
       "  'precision_atelectasis': 0.08695652335882187,\n",
       "  'precision_pneumothorax': 0.6666666865348816,\n",
       "  'precision_pleural_effusion': 0.692307710647583,\n",
       "  'precision_pleural_other': 0.014084506779909134,\n",
       "  'precision_fracture': 0.015384615398943424,\n",
       "  'recall_enlarged_cardiomediastinum': 0.0,\n",
       "  'recall_cardiomegaly': 0.6363636255264282,\n",
       "  'recall_lung_opacity': 0.6181818246841431,\n",
       "  'recall_lung_lesion': 0.2857142984867096,\n",
       "  'recall_edema': 0.7333333492279053,\n",
       "  'recall_consolidation': 0.7142857313156128,\n",
       "  'recall_pneumonia': 0.3333333432674408,\n",
       "  'recall_atelectasis': 0.5,\n",
       "  'recall_pneumothorax': 0.2857142984867096,\n",
       "  'recall_pleural_effusion': 0.7714285850524902,\n",
       "  'recall_pleural_other': 0.5,\n",
       "  'recall_fracture': 0.5,\n",
       "  'f2_score_enlarged_cardiomediastinum': 0.0,\n",
       "  'f2_score_cardiomegaly': 0.3465346693992615,\n",
       "  'f2_score_lung_opacity': 0.6439393758773804,\n",
       "  'f2_score_lung_lesion': 0.11627908051013947,\n",
       "  'f2_score_edema': 0.632183849811554,\n",
       "  'f2_score_consolidation': 0.39682537317276,\n",
       "  'f2_score_pneumonia': 0.05882352963089943,\n",
       "  'f2_score_atelectasis': 0.25641024112701416,\n",
       "  'f2_score_pneumothorax': 0.3225806653499603,\n",
       "  'f2_score_pleural_effusion': 0.7541899681091309,\n",
       "  'f2_score_pleural_other': 0.06329113990068436,\n",
       "  'f2_score_fracture': 0.06849315017461777},\n",
       " 'predictions': array([[0.60290927, 0.69030815, 0.44862437, ..., 0.38335785, 0.59829634,\n",
       "         0.63112557],\n",
       "        [0.20405622, 0.184699  , 0.07637524, ..., 0.02251839, 0.32800204,\n",
       "         0.3005021 ],\n",
       "        [0.7665798 , 0.90462613, 0.7517366 , ..., 0.72036535, 0.81007516,\n",
       "         0.8180368 ],\n",
       "        ...,\n",
       "        [0.5398353 , 0.43236092, 0.54979324, ..., 0.51418525, 0.65677214,\n",
       "         0.65495723],\n",
       "        [0.70138854, 0.8422312 , 0.70936257, ..., 0.8347417 , 0.76230633,\n",
       "         0.78056365],\n",
       "        [0.49004284, 0.39471668, 0.34045967, ..., 0.19810893, 0.3754686 ,\n",
       "         0.50548786]], dtype=float32),\n",
       " 'groundtruth_label': array([[0., 0., 1., ..., 1., 0., 0.],\n",
       "        [0., 0., 1., ..., 0., 1., 0.],\n",
       "        [0., 0., 1., ..., 0., 0., 0.],\n",
       "        ...,\n",
       "        [0., 0., 1., ..., 0., 0., 0.],\n",
       "        [0., 0., 1., ..., 1., 0., 0.],\n",
       "        [0., 0., 0., ..., 1., 0., 0.]], dtype=float32)}"
      ]
     },
     "execution_count": 15,
     "metadata": {},
     "output_type": "execute_result"
    }
   ],
   "source": [
    "chexpert_exp.evaluate()"
   ]
  },
  {
   "cell_type": "code",
   "execution_count": null,
   "metadata": {},
   "outputs": [],
   "source": [
    "chexpert_exp.save()"
   ]
  },
  {
   "cell_type": "code",
   "execution_count": 11,
   "metadata": {},
   "outputs": [
    {
     "data": {
      "text/plain": [
       "{'loss': [1.146277666091919, 1.0943752527236938, 1.0679258108139038],\n",
       " 'auc': [0.5811475515365601, 0.6099526882171631, 0.6317869424819946],\n",
       " 'precision': [0.16917496919631958, 0.17395658791065216, 0.17927733063697815],\n",
       " 'recall': [0.7922576665878296, 0.8157932162284851, 0.8228245377540588],\n",
       " 'f2_score': [0.4562084376811981, 0.4694058299064636, 0.47896143794059753],\n",
       " 'binary_accuracy': [0.4245169758796692,\n",
       "  0.43020153045654297,\n",
       "  0.4462263882160187],\n",
       " 'accuracy_enlarged_cardiomediastinum': [0.3299134373664856,\n",
       "  0.31477680802345276,\n",
       "  0.311017245054245],\n",
       " 'accuracy_cardiomegaly': [0.43823084235191345,\n",
       "  0.47508853673934937,\n",
       "  0.5189313292503357],\n",
       " 'accuracy_lung_opacity': [0.6224210262298584,\n",
       "  0.6301579475402832,\n",
       "  0.6338824033737183],\n",
       " 'accuracy_lung_lesion': [0.2759936451911926,\n",
       "  0.2726065218448639,\n",
       "  0.2772374749183655],\n",
       " 'accuracy_edema': [0.5887326002120972, 0.5969333052635193, 0.612358033657074],\n",
       " 'accuracy_consolidation': [0.4545128643512726,\n",
       "  0.4501981735229492,\n",
       "  0.4616033136844635],\n",
       " 'accuracy_pneumonia': [0.33983585238456726,\n",
       "  0.3134978711605072,\n",
       "  0.3540799915790558],\n",
       " 'accuracy_atelectasis': [0.3940367102622986,\n",
       "  0.3666587173938751,\n",
       "  0.38561108708381653],\n",
       " 'accuracy_pneumothorax': [0.4426087737083435,\n",
       "  0.5252557992935181,\n",
       "  0.5581150054931641],\n",
       " 'accuracy_pleural_effusion': [0.6767061948776245,\n",
       "  0.7067123651504517,\n",
       "  0.7218981981277466],\n",
       " 'accuracy_pleural_other': [0.2839133143424988,\n",
       "  0.2796829342842102,\n",
       "  0.2939341068267822],\n",
       " 'accuracy_fracture': [0.24730154871940613,\n",
       "  0.23085086047649384,\n",
       "  0.22604423761367798],\n",
       " 'auc_enlarged_cardiomediastinum': [0.4884781539440155,\n",
       "  0.5006704330444336,\n",
       "  0.5114215016365051],\n",
       " 'auc_cardiomegaly': [0.6247279047966003,\n",
       "  0.6830323338508606,\n",
       "  0.7353378534317017],\n",
       " 'auc_lung_opacity': [0.6738461852073669,\n",
       "  0.6847892999649048,\n",
       "  0.6901935935020447],\n",
       " 'auc_lung_lesion': [0.4459695518016815,\n",
       "  0.47619274258613586,\n",
       "  0.5054977536201477],\n",
       " 'auc_edema': [0.7336524724960327, 0.7525081038475037, 0.7646487355232239],\n",
       " 'auc_consolidation': [0.6506780982017517,\n",
       "  0.6656256914138794,\n",
       "  0.6728454828262329],\n",
       " 'auc_pneumonia': [0.5270952582359314, 0.5551384091377258, 0.5971667766571045],\n",
       " 'auc_atelectasis': [0.5687923431396484,\n",
       "  0.5627389550209045,\n",
       "  0.5921225547790527],\n",
       " 'auc_pneumothorax': [0.6043562293052673,\n",
       "  0.6874659657478333,\n",
       "  0.7189688682556152],\n",
       " 'auc_pleural_effusion': [0.7735922932624817,\n",
       "  0.8055541515350342,\n",
       "  0.8242269158363342],\n",
       " 'auc_pleural_other': [0.49488556385040283,\n",
       "  0.5586788654327393,\n",
       "  0.5764332413673401],\n",
       " 'auc_fracture': [0.38769686222076416, 0.3870370388031006, 0.3925798833370209],\n",
       " 'precision_enlarged_cardiomediastinum': [0.04732106253504753,\n",
       "  0.047892969101667404,\n",
       "  0.04854368790984154],\n",
       " 'precision_cardiomegaly': [0.15095683932304382,\n",
       "  0.16486644744873047,\n",
       "  0.17987050116062164],\n",
       " 'precision_lung_opacity': [0.5721518397331238,\n",
       "  0.5770612955093384,\n",
       "  0.579666793346405],\n",
       " 'precision_lung_lesion': [0.037758469581604004,\n",
       "  0.03889676183462143,\n",
       "  0.04019800201058388],\n",
       " 'precision_edema': [0.3413572907447815,\n",
       "  0.3484376072883606,\n",
       "  0.3584592640399933],\n",
       " 'precision_consolidation': [0.08883077651262283,\n",
       "  0.09125881642103195,\n",
       "  0.09309025853872299],\n",
       " 'precision_pneumonia': [0.02777544967830181,\n",
       "  0.02867383509874344,\n",
       "  0.030878987163305283],\n",
       " 'precision_atelectasis': [0.1707821786403656,\n",
       "  0.17002888023853302,\n",
       "  0.17423786222934723],\n",
       " 'precision_pneumothorax': [0.10726851224899292,\n",
       "  0.12706507742404938,\n",
       "  0.13790175318717957],\n",
       " 'precision_pleural_effusion': [0.5510746836662292,\n",
       "  0.5784114599227905,\n",
       "  0.593204140663147],\n",
       " 'precision_pleural_other': [0.014855485409498215,\n",
       "  0.016360390931367874,\n",
       "  0.01675340160727501],\n",
       " 'precision_fracture': [0.033955156803131104,\n",
       "  0.034070294350385666,\n",
       "  0.03519810736179352],\n",
       " 'recall_enlarged_cardiomediastinum': [0.6793892979621887,\n",
       "  0.7053295969963074,\n",
       "  0.7200528383255005],\n",
       " 'recall_cardiomegaly': [0.7867711186408997,\n",
       "  0.8200754523277283,\n",
       "  0.8348804712295532],\n",
       " 'recall_lung_opacity': [0.7912464141845703,\n",
       "  0.8086491227149963,\n",
       "  0.8143314719200134],\n",
       " 'recall_lung_lesion': [0.6752893328666687,\n",
       "  0.700697660446167,\n",
       "  0.7212863564491272],\n",
       " 'recall_edema': [0.8234193921089172, 0.8391193151473999, 0.8407335877418518],\n",
       " 'recall_consolidation': [0.785067617893219,\n",
       "  0.8186175227165222,\n",
       "  0.8191307783126831],\n",
       " 'recall_pneumonia': [0.6972646117210388,\n",
       "  0.7513812184333801,\n",
       "  0.7627564668655396],\n",
       " 'recall_atelectasis': [0.7892540693283081,\n",
       "  0.8309892416000366,\n",
       "  0.8289023041725159],\n",
       " 'recall_pneumothorax': [0.7253341674804688,\n",
       "  0.7453851103782654,\n",
       "  0.762393593788147],\n",
       " 'recall_pleural_effusion': [0.8466373682022095,\n",
       "  0.8672249913215637,\n",
       "  0.874358594417572],\n",
       " 'recall_pleural_other': [0.6839982271194458,\n",
       "  0.7601972222328186,\n",
       "  0.7633348107337952],\n",
       " 'recall_fracture': [0.6502991914749146,\n",
       "  0.6676051616668701,\n",
       "  0.6959352493286133],\n",
       " 'f2_score_enlarged_cardiomediastinum': [0.1850489377975464,\n",
       "  0.18831683695316315,\n",
       "  0.1911669373512268],\n",
       " 'f2_score_cardiomegaly': [0.42704087495803833,\n",
       "  0.45690828561782837,\n",
       "  0.48306095600128174],\n",
       " 'f2_score_lung_opacity': [0.7349587082862854,\n",
       "  0.7485658526420593,\n",
       "  0.7533372044563293],\n",
       " 'f2_score_lung_lesion': [0.1542852222919464,\n",
       "  0.15914607048034668,\n",
       "  0.16435199975967407],\n",
       " 'f2_score_edema': [0.6420732140541077,\n",
       "  0.6547195911407471,\n",
       "  0.6624739170074463],\n",
       " 'f2_score_consolidation': [0.3057643473148346,\n",
       "  0.3155742287635803,\n",
       "  0.31998997926712036],\n",
       " 'f2_score_pneumonia': [0.1197899729013443,\n",
       "  0.12438265979290009,\n",
       "  0.13287758827209473],\n",
       " 'f2_score_atelectasis': [0.4577292203903198,\n",
       "  0.4675127863883972,\n",
       "  0.4732634425163269],\n",
       " 'f2_score_pneumothorax': [0.3369930684566498,\n",
       "  0.3777480125427246,\n",
       "  0.40005844831466675],\n",
       " 'f2_score_pleural_effusion': [0.764618456363678,\n",
       "  0.7884836196899414,\n",
       "  0.7986528277397156],\n",
       " 'f2_score_pleural_other': [0.06834039092063904,\n",
       "  0.07531818747520447,\n",
       "  0.07700655609369278],\n",
       " 'f2_score_fracture': [0.14044304192066193,\n",
       "  0.14147214591503143,\n",
       "  0.14637739956378937],\n",
       " 'learning rate': [0.001, 0.001, 0.001],\n",
       " 'val_loss': [1.1163082122802734, 1.168440818786621, 1.1646987199783325],\n",
       " 'val_auc': [0.5910202860832214, 0.5913190245628357, 0.6172342300415039],\n",
       " 'val_precision': [0.1763620525598526,\n",
       "  0.16749532520771027,\n",
       "  0.16370101273059845],\n",
       " 'val_recall': [0.8010483980178833, 0.8907220363616943, 0.6302832961082458],\n",
       " 'val_f2_score': [0.46888434886932373,\n",
       "  0.47796332836151123,\n",
       "  0.40144357085227966],\n",
       " 'val_binary_accuracy': [0.4474489390850067,\n",
       "  0.3637973964214325,\n",
       "  0.4965960681438446],\n",
       " 'val_accuracy_enlarged_cardiomediastinum': [0.33108407258987427,\n",
       "  0.22079646587371826,\n",
       "  0.37676990032196045],\n",
       " 'val_accuracy_cardiomegaly': [0.4110342860221863,\n",
       "  0.32710176706314087,\n",
       "  0.4534291923046112],\n",
       " 'val_accuracy_lung_opacity': [0.6359236836433411,\n",
       "  0.6037057638168335,\n",
       "  0.6480088233947754],\n",
       " 'val_accuracy_lung_lesion': [0.30110618472099304,\n",
       "  0.21379977464675903,\n",
       "  0.3102046549320221],\n",
       " 'val_accuracy_edema': [0.5850110650062561,\n",
       "  0.49283739924430847,\n",
       "  0.7378041744232178],\n",
       " 'val_accuracy_consolidation': [0.44828540086746216,\n",
       "  0.3509402573108673,\n",
       "  0.6473451256752014],\n",
       " 'val_accuracy_pneumonia': [0.516537606716156,\n",
       "  0.24410951137542725,\n",
       "  0.19557522237300873],\n",
       " 'val_accuracy_atelectasis': [0.3907356262207031,\n",
       "  0.31086835265159607,\n",
       "  0.4601770043373108],\n",
       " 'val_accuracy_pneumothorax': [0.4828263223171234,\n",
       "  0.5354535579681396,\n",
       "  0.8992809653282166],\n",
       " 'val_accuracy_pleural_effusion': [0.6917035579681396,\n",
       "  0.6185287833213806,\n",
       "  0.7406526803970337],\n",
       " 'val_accuracy_pleural_other': [0.33675330877304077,\n",
       "  0.26169800758361816,\n",
       "  0.23647676408290863],\n",
       " 'val_accuracy_fracture': [0.23838496208190918,\n",
       "  0.18573008477687836,\n",
       "  0.25342920422554016],\n",
       " 'val_auc_enlarged_cardiomediastinum': [0.5044906735420227,\n",
       "  0.4966372549533844,\n",
       "  0.5006526708602905],\n",
       " 'val_auc_cardiomegaly': [0.6416271924972534,\n",
       "  0.6857308745384216,\n",
       "  0.6895842552185059],\n",
       " 'val_auc_lung_opacity': [0.6852052807807922,\n",
       "  0.6840696334838867,\n",
       "  0.6984608769416809],\n",
       " 'val_auc_lung_lesion': [0.437799334526062,\n",
       "  0.43267086148262024,\n",
       "  0.4705066978931427],\n",
       " 'val_auc_edema': [0.7375581860542297, 0.7546782493591309, 0.7608761191368103],\n",
       " 'val_auc_consolidation': [0.6587613821029663,\n",
       "  0.661904513835907,\n",
       "  0.677544891834259],\n",
       " 'val_auc_pneumonia': [0.5200881361961365,\n",
       "  0.5159929394721985,\n",
       "  0.5745105147361755],\n",
       " 'val_auc_atelectasis': [0.5638579726219177,\n",
       "  0.5564804077148438,\n",
       "  0.5771011114120483],\n",
       " 'val_auc_pneumothorax': [0.6195799112319946,\n",
       "  0.6334784626960754,\n",
       "  0.6276610493659973],\n",
       " 'val_auc_pleural_effusion': [0.8050007820129395,\n",
       "  0.8065686225891113,\n",
       "  0.8111104369163513],\n",
       " 'val_auc_pleural_other': [0.525302529335022,\n",
       "  0.4732121229171753,\n",
       "  0.6070761680603027],\n",
       " 'val_auc_fracture': [0.392972856760025,\n",
       "  0.39440488815307617,\n",
       "  0.41172605752944946],\n",
       " 'val_precision_enlarged_cardiomediastinum': [0.04937278851866722,\n",
       "  0.048988793045282364,\n",
       "  0.048097848892211914],\n",
       " 'val_precision_cardiomegaly': [0.15271586179733276,\n",
       "  0.14755669236183167,\n",
       "  0.1637946218252182],\n",
       " 'val_precision_lung_opacity': [0.5860629081726074,\n",
       "  0.5508397221565247,\n",
       "  0.628179669380188],\n",
       " 'val_precision_lung_lesion': [0.033906251192092896,\n",
       "  0.03583330288529396,\n",
       "  0.03585374355316162],\n",
       " 'val_precision_edema': [0.3474288582801819,\n",
       "  0.31283968687057495,\n",
       "  0.4556581377983093],\n",
       " 'val_precision_consolidation': [0.0888940766453743,\n",
       "  0.08227948099374771,\n",
       "  0.10624150186777115],\n",
       " 'val_precision_pneumonia': [0.028242439031600952,\n",
       "  0.028179112821817398,\n",
       "  0.029526107013225555],\n",
       " 'val_precision_atelectasis': [0.16114541888237,\n",
       "  0.15869730710983276,\n",
       "  0.16339899599552155],\n",
       " 'val_precision_pneumothorax': [0.10229285806417465,\n",
       "  0.11136747151613235,\n",
       "  0.2350565493106842],\n",
       " 'val_precision_pleural_effusion': [0.5639111399650574,\n",
       "  0.503058910369873,\n",
       "  0.64986252784729],\n",
       " 'val_precision_pleural_other': [0.015303168445825577,\n",
       "  0.01534469984471798,\n",
       "  0.016092117875814438],\n",
       " 'val_precision_fracture': [0.03631702810525894,\n",
       "  0.03804707154631615,\n",
       "  0.03663057088851929],\n",
       " 'val_recall_enlarged_cardiomediastinum': [0.6930022835731506,\n",
       "  0.809255063533783,\n",
       "  0.6235891580581665],\n",
       " 'val_recall_cardiomegaly': [0.8279256820678711,\n",
       "  0.9304094910621643,\n",
       "  0.8339301943778992],\n",
       " 'val_recall_lung_opacity': [0.7868824005126953,\n",
       "  0.8831259608268738,\n",
       "  0.6288400888442993],\n",
       " 'val_recall_lung_lesion': [0.6164772510528564,\n",
       "  0.7407670617103577,\n",
       "  0.6455965638160706],\n",
       " 'val_recall_edema': [0.8418917059898376,\n",
       "  0.9406583309173584,\n",
       "  0.5092743039131165],\n",
       " 'val_recall_consolidation': [0.8175965547561646,\n",
       "  0.8935622572898865,\n",
       "  0.6034334897994995],\n",
       " 'val_recall_pneumonia': [0.48715415596961975,\n",
       "  0.7766798138618469,\n",
       "  0.8705533742904663],\n",
       " 'val_recall_atelectasis': [0.7827780842781067,\n",
       "  0.8961620926856995,\n",
       "  0.6803039312362671],\n",
       " 'val_recall_pneumothorax': [0.6768251657485962,\n",
       "  0.66275954246521,\n",
       "  0.09745478630065918],\n",
       " 'val_recall_pleural_effusion': [0.8876469135284424,\n",
       "  0.9544998407363892,\n",
       "  0.7112352848052979],\n",
       " 'val_recall_pleural_other': [0.6788991093635559,\n",
       "  0.7596330046653748,\n",
       "  0.8256880640983582],\n",
       " 'val_recall_fracture': [0.6827309131622314,\n",
       "  0.7704150080680847,\n",
       "  0.6746987700462341],\n",
       " 'val_f2_score_enlarged_cardiomediastinum': [0.19211514294147491,\n",
       "  0.19719469547271729,\n",
       "  0.18378683924674988],\n",
       " 'val_f2_score_cardiomegaly': [0.4393881559371948,\n",
       "  0.4514167904853821,\n",
       "  0.45864108204841614],\n",
       " 'val_f2_score_lung_opacity': [0.7364146709442139,\n",
       "  0.7880499958992004,\n",
       "  0.6287079453468323],\n",
       " 'val_f2_score_lung_lesion': [0.13896004855632782,\n",
       "  0.15011946856975555,\n",
       "  0.14668387174606323],\n",
       " 'val_f2_score_edema': [0.6553516387939453,\n",
       "  0.6712430715560913,\n",
       "  0.4975648522377014],\n",
       " 'val_f2_score_consolidation': [0.3097561001777649,\n",
       "  0.3006584942340851,\n",
       "  0.3116964101791382],\n",
       " 'val_f2_score_pneumonia': [0.1146298497915268,\n",
       "  0.1230393499135971,\n",
       "  0.1299946904182434],\n",
       " 'val_f2_score_atelectasis': [0.4418686032295227,\n",
       "  0.4644775986671448,\n",
       "  0.4166765809059143],\n",
       " 'val_f2_score_pneumothorax': [0.31875964999198914,\n",
       "  0.3330080211162567,\n",
       "  0.11037778109312057],\n",
       " 'val_f2_score_pleural_effusion': [0.7962257862091064,\n",
       "  0.8092559576034546,\n",
       "  0.6980505585670471],\n",
       " 'val_f2_score_pleural_other': [0.07018741965293884,\n",
       "  0.07098765671253204,\n",
       "  0.07464171200990677],\n",
       " 'val_f2_score_fracture': [0.1497269868850708,\n",
       "  0.15885502099990845,\n",
       "  0.15047471225261688],\n",
       " 'lr': [0.001, 0.001, 0.001]}"
      ]
     },
     "execution_count": 11,
     "metadata": {},
     "output_type": "execute_result"
    }
   ],
   "source": [
    "chexpert_exp.train_result.history"
   ]
  },
  {
   "cell_type": "code",
   "execution_count": 12,
   "metadata": {},
   "outputs": [],
   "source": [
    "chexpert_exp.evaluation_result"
   ]
  },
  {
   "cell_type": "code",
   "execution_count": null,
   "metadata": {},
   "outputs": [],
   "source": [
    "print(chexpert_exp.evaluation_result[\"report\"])"
   ]
  },
  {
   "cell_type": "code",
   "execution_count": null,
   "metadata": {},
   "outputs": [],
   "source": [
    "print(chexpert_exp.model_id)"
   ]
  },
  {
   "cell_type": "code",
   "execution_count": null,
   "metadata": {},
   "outputs": [],
   "source": [
    "chexpert_exp.benchmark.name"
   ]
  },
  {
   "cell_type": "code",
   "execution_count": null,
   "metadata": {},
   "outputs": [],
   "source": [
    "\"done\""
   ]
  },
  {
   "cell_type": "code",
   "execution_count": null,
   "metadata": {},
   "outputs": [],
   "source": [
    "chexpert_exp.benchmark.testgen.get_labels()"
   ]
  },
  {
   "cell_type": "code",
   "execution_count": null,
   "metadata": {},
   "outputs": [],
   "source": [
    "chexpert_exp.benchmark.testgen.get_labels_nonan()"
   ]
  },
  {
   "cell_type": "code",
   "execution_count": null,
   "metadata": {},
   "outputs": [],
   "source": []
  },
  {
   "cell_type": "code",
   "execution_count": null,
   "metadata": {
    "pycharm": {
     "name": "#%%\n"
    }
   },
   "outputs": [],
   "source": []
  },
  {
   "cell_type": "code",
   "execution_count": null,
   "metadata": {},
   "outputs": [],
   "source": []
  },
  {
   "cell_type": "code",
   "execution_count": null,
   "metadata": {},
   "outputs": [],
   "source": []
  },
  {
   "cell_type": "code",
   "execution_count": null,
   "metadata": {},
   "outputs": [],
   "source": []
  },
  {
   "cell_type": "code",
   "execution_count": null,
   "metadata": {},
   "outputs": [],
   "source": []
  },
  {
   "cell_type": "code",
   "execution_count": null,
   "metadata": {},
   "outputs": [],
   "source": []
  },
  {
   "cell_type": "code",
   "execution_count": null,
   "metadata": {},
   "outputs": [],
   "source": []
  },
  {
   "cell_type": "code",
   "execution_count": null,
   "metadata": {},
   "outputs": [],
   "source": []
  },
  {
   "cell_type": "code",
   "execution_count": null,
   "metadata": {},
   "outputs": [],
   "source": []
  },
  {
   "cell_type": "code",
   "execution_count": null,
   "metadata": {},
   "outputs": [],
   "source": []
  },
  {
   "cell_type": "code",
   "execution_count": null,
   "metadata": {},
   "outputs": [],
   "source": []
  },
  {
   "cell_type": "code",
   "execution_count": null,
   "metadata": {},
   "outputs": [],
   "source": []
  },
  {
   "cell_type": "code",
   "execution_count": null,
   "metadata": {},
   "outputs": [],
   "source": []
  },
  {
   "cell_type": "code",
   "execution_count": null,
   "metadata": {},
   "outputs": [],
   "source": []
  },
  {
   "cell_type": "code",
   "execution_count": null,
   "metadata": {},
   "outputs": [],
   "source": [
    "predictions = experiment_inceptionnet_chexpert.model.predict(\n",
    "            experiment_inceptionnet_chexpert.benchmark.testgen, steps=len(experiment_inceptionnet_chexpert.benchmark.testgen), verbose=1)"
   ]
  },
  {
   "cell_type": "code",
   "execution_count": null,
   "metadata": {},
   "outputs": [],
   "source": [
    "true_labels = experiment_inceptionnet_chexpert.benchmark.testgen.get_encoded_labels()"
   ]
  },
  {
   "cell_type": "code",
   "execution_count": null,
   "metadata": {},
   "outputs": [],
   "source": []
  },
  {
   "cell_type": "code",
   "execution_count": null,
   "metadata": {},
   "outputs": [],
   "source": [
    "# model_guendel_chestxray14 = densenet(classes=len(CHESTXRAY14_COLUMNS))\n",
    "model_guendel_chexpert = densenet(classes=len(CHEXPERT_COLUMNS))\n",
    "\n",
    "#experiment_guendel_chestxray14 = Experiment(chestxray14_benchmark, model_guendel_chestxray14)\n",
    "experiment_guendel_chexpert = Experiment(CHEXPERT_BENCHMARKS[\"WBCE_E10_B32\"], model_guendel_chexpert, model_name=\"test_WBCE_32\")\n",
    "\n"
   ]
  },
  {
   "cell_type": "code",
   "execution_count": null,
   "metadata": {},
   "outputs": [],
   "source": [
    "#experiment_guendel_chestxray14_result =  experiment_guendel_chestxray14.run()"
   ]
  },
  {
   "cell_type": "code",
   "execution_count": null,
   "metadata": {},
   "outputs": [],
   "source": [
    "experiment_guendel_chexpert_result =  experiment_guendel_chexpert.run()"
   ]
  },
  {
   "cell_type": "code",
   "execution_count": null,
   "metadata": {},
   "outputs": [],
   "source": [
    "experiment_guendel_chexpert.evaluate()"
   ]
  },
  {
   "cell_type": "code",
   "execution_count": null,
   "metadata": {},
   "outputs": [],
   "source": [
    "experiment_guendel_chexpert.save(upload=False)"
   ]
  },
  {
   "cell_type": "code",
   "execution_count": null,
   "metadata": {},
   "outputs": [],
   "source": [
    "print(\"done\")"
   ]
  },
  {
   "cell_type": "code",
   "execution_count": null,
   "metadata": {},
   "outputs": [],
   "source": [
    "CHEXPERT_BENCHMARKS[\"WBCE_E10_B32\"].as_dict()"
   ]
  },
  {
   "cell_type": "code",
   "execution_count": null,
   "metadata": {},
   "outputs": [],
   "source": []
  },
  {
   "cell_type": "code",
   "execution_count": null,
   "metadata": {},
   "outputs": [],
   "source": [
    "import numpy as np\n",
    "import tensorflow as tf\n",
    "from tensorflow.keras.losses import Loss\n",
    "from tensorflow.python.ops.losses import util as tf_losses_util\n",
    "from tensorflow.python.framework import tensor_util\n",
    "from tensorflow.python.framework import constant_op\n",
    "from tensorflow.python.ops import math_ops\n",
    "from tensorflow.python.ops import clip_ops\n",
    "from tensorflow.python.keras import backend_config"
   ]
  },
  {
   "cell_type": "code",
   "execution_count": null,
   "metadata": {},
   "outputs": [],
   "source": [
    "weights_pos = tf.ones((4)) * 20.0\n",
    "weights_neg = tf.ones((4)) * 0.5\n",
    "y_true = tf.constant([[0, -1, -1, 1], [-1, 0, -1, -1]], dtype=tf.float32)\n",
    "y_pred = tf.constant([[0.1, 0.2, 0.3, 0.4], [0.5, 0.6, 0.7, 0.8]])\n",
    "loss = tf.keras.losses.binary_crossentropy(y_true, y_pred)\n",
    "loss"
   ]
  },
  {
   "cell_type": "code",
   "execution_count": null,
   "metadata": {},
   "outputs": [],
   "source": [
    "y_true = tf.constant(y_true, dtype=tf.float32)\n",
    "y_true"
   ]
  },
  {
   "cell_type": "code",
   "execution_count": null,
   "metadata": {},
   "outputs": [],
   "source": [
    "y_pred = tf.constant(y_pred)\n",
    "y_pred"
   ]
  },
  {
   "cell_type": "code",
   "execution_count": null,
   "metadata": {},
   "outputs": [],
   "source": [
    "if tensor_util.is_tensor(y_pred) and tensor_util.is_tensor(y_true):\n",
    "    y_pred, y_true = tf_losses_util.squeeze_or_expand_dimensions(\n",
    "        y_pred, y_true)\n",
    "\n",
    "epsilon_ = constant_op.constant(\n",
    "     backend_config.epsilon(), dtype=y_pred.dtype.base_dtype)\n",
    "y_pred = clip_ops.clip_by_value(y_pred, epsilon_, 1. - epsilon_)"
   ]
  },
  {
   "cell_type": "code",
   "execution_count": null,
   "metadata": {},
   "outputs": [],
   "source": [
    "mask = tf.cast(tf.math.greater_equal(y_true, 0), tf.float32)\n",
    "\n",
    "# Compute cross entropy from probabilities.\n",
    "bce_pos = y_true * math_ops.log(y_pred + epsilon_)\n",
    "bce_neg = (1 - y_true) * math_ops.log(1 - y_pred + epsilon_)\n",
    "\n",
    "bce_pos = tf.math.multiply_no_nan(bce_pos, mask)\n",
    "bce_neg = tf.math.multiply_no_nan(bce_neg, mask)\n",
    "\n",
    "bce = bce_pos * weights_pos + \\\n",
    "    bce_neg * weights_neg\n",
    "\n",
    "loss = tf.reduce_sum(-bce) / tf.reduce_sum(mask)\n",
    "loss"
   ]
  },
  {
   "cell_type": "code",
   "execution_count": null,
   "metadata": {},
   "outputs": [],
   "source": [
    "tf.reduce_sum(mask)"
   ]
  },
  {
   "cell_type": "code",
   "execution_count": null,
   "metadata": {},
   "outputs": [],
   "source": []
  },
  {
   "cell_type": "code",
   "execution_count": null,
   "metadata": {},
   "outputs": [],
   "source": [
    "bce_neg"
   ]
  },
  {
   "cell_type": "code",
   "execution_count": null,
   "metadata": {},
   "outputs": [],
   "source": [
    "bce"
   ]
  },
  {
   "cell_type": "code",
   "execution_count": null,
   "metadata": {},
   "outputs": [],
   "source": [
    "\n",
    "from tensorflow.keras import backend as K\n"
   ]
  },
  {
   "cell_type": "code",
   "execution_count": null,
   "metadata": {},
   "outputs": [],
   "source": []
  },
  {
   "cell_type": "code",
   "execution_count": null,
   "metadata": {},
   "outputs": [],
   "source": []
  },
  {
   "cell_type": "code",
   "execution_count": null,
   "metadata": {},
   "outputs": [],
   "source": []
  },
  {
   "cell_type": "code",
   "execution_count": null,
   "metadata": {},
   "outputs": [],
   "source": []
  },
  {
   "cell_type": "code",
   "execution_count": null,
   "metadata": {},
   "outputs": [],
   "source": []
  },
  {
   "cell_type": "code",
   "execution_count": null,
   "metadata": {},
   "outputs": [],
   "source": []
  },
  {
   "cell_type": "code",
   "execution_count": null,
   "metadata": {},
   "outputs": [],
   "source": []
  },
  {
   "cell_type": "code",
   "execution_count": null,
   "metadata": {},
   "outputs": [],
   "source": []
  },
  {
   "cell_type": "code",
   "execution_count": null,
   "metadata": {},
   "outputs": [],
   "source": []
  },
  {
   "cell_type": "code",
   "execution_count": null,
   "metadata": {},
   "outputs": [],
   "source": []
  },
  {
   "cell_type": "code",
   "execution_count": null,
   "metadata": {},
   "outputs": [],
   "source": []
  },
  {
   "cell_type": "code",
   "execution_count": null,
   "metadata": {},
   "outputs": [],
   "source": []
  },
  {
   "cell_type": "code",
   "execution_count": null,
   "metadata": {},
   "outputs": [],
   "source": []
  },
  {
   "cell_type": "code",
   "execution_count": null,
   "metadata": {},
   "outputs": [],
   "source": []
  }
 ],
 "metadata": {
  "kernelspec": {
   "display_name": "Python 3",
   "language": "python",
   "name": "python3"
  },
  "language_info": {
   "codemirror_mode": {
    "name": "ipython",
    "version": 3
   },
   "file_extension": ".py",
   "mimetype": "text/x-python",
   "name": "python",
   "nbconvert_exporter": "python",
   "pygments_lexer": "ipython3",
   "version": "3.6.9"
  },
  "pycharm": {
   "stem_cell": {
    "cell_type": "raw",
    "metadata": {
     "collapsed": false
    },
    "source": []
   }
  }
 },
 "nbformat": 4,
 "nbformat_minor": 4
}
