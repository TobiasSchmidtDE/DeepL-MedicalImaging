{
 "cells": [
  {
   "cell_type": "code",
   "execution_count": 4,
   "metadata": {
    "pycharm": {
     "name": "#%%\n"
    }
   },
   "outputs": [
    {
     "data": {
      "text/plain": [
       "'/srv/idp-radio-1'"
      ]
     },
     "execution_count": 4,
     "metadata": {},
     "output_type": "execute_result"
    }
   ],
   "source": [
    "import os \n",
    "import datetime\n",
    "from pathlib import Path\n",
    "from dotenv import load_dotenv, find_dotenv\n",
    "\n",
    "basepath = Path(os.getcwd())\n",
    "# make sure your working directory is the repository root.\n",
    "if basepath.name != \"idp-radio-1\":\n",
    "    os.chdir(basepath.parent.parent.parent)\n",
    "load_dotenv(find_dotenv())\n",
    "\n",
    "%load_ext autoreload\n",
    "%autoreload 2\n",
    "os.getcwd()"
   ]
  },
  {
   "cell_type": "code",
   "execution_count": 5,
   "metadata": {
    "pycharm": {
     "is_executing": false
    }
   },
   "outputs": [],
   "source": [
    "import os \n",
    "import tensorflow as tf\n",
    "from pathlib import Path"
   ]
  },
  {
   "cell_type": "code",
   "execution_count": 6,
   "metadata": {},
   "outputs": [],
   "source": [
    "import cv2"
   ]
  },
  {
   "cell_type": "code",
   "execution_count": 7,
   "metadata": {},
   "outputs": [
    {
     "name": "stdout",
     "output_type": "stream",
     "text": [
      "Device mapping:\n",
      "/job:localhost/replica:0/task:0/device:XLA_CPU:0 -> device: XLA_CPU device\n",
      "/job:localhost/replica:0/task:0/device:XLA_GPU:0 -> device: XLA_GPU device\n",
      "/job:localhost/replica:0/task:0/device:GPU:0 -> device: 0, name: GeForce RTX 2080 Ti, pci bus id: 0000:03:00.0, compute capability: 7.5\n",
      "\n"
     ]
    },
    {
     "data": {
      "text/plain": [
       "<tensorflow.python.client.session.Session at 0x7f0af25ed4e0>"
      ]
     },
     "execution_count": 7,
     "metadata": {},
     "output_type": "execute_result"
    }
   ],
   "source": [
    "# Run this before loading other dependencies, otherwise they might occupy memory on gpu 0 by default and it will stay that way\n",
    "\n",
    "# Specify which GPU(s) to use\n",
    "os.environ[\"CUDA_VISIBLE_DEVICES\"] = \"0\"  # Or 2, 3, etc. other than 0\n",
    "\n",
    "config = tf.compat.v1.ConfigProto(device_count={'GPU': 1}, allow_soft_placement=True, log_device_placement=True)\n",
    "config.gpu_options.allow_growth = True\n",
    "config.gpu_options.per_process_gpu_memory_fraction = 1.0\n",
    "tf.compat.v1.Session(config=config)\n"
   ]
  },
  {
   "cell_type": "code",
   "execution_count": 8,
   "metadata": {},
   "outputs": [],
   "source": [
    "from tensorflow.keras.applications.inception_v3 import InceptionV3\n",
    "from tensorflow.keras.applications.densenet import DenseNet121\n",
    "from tensorflow.keras.applications.resnet_v2 import ResNet101V2\n",
    "from src.architectures.simple.simple_base import SimpleBaseArchitecture\n",
    "from src.architectures.adv.guendel19 import densenet\n",
    "import numpy as np\n",
    "\n",
    "from src.architectures.benchmarks.benchmark import Benchmark, Experiment\n",
    "from tensorflow.keras.optimizers import Adam, SGD\n",
    "from src.architectures.benchmarks.benchmark_definitions import Chexpert_Benchmark, Chestxray14_Benchmark, simple_architecture_experiment, generate_benchmarks, METRICS, SINGLE_CLASS_METRICS, CHEXPERT_COLUMNS, CHESTXRAY14_COLUMNS\n",
    "from src.metrics.metrics import F2Score\n",
    "from src.metrics.losses import WeightedBinaryCrossentropy, BinaryCrossentropy, compute_class_weight"
   ]
  },
  {
   "cell_type": "code",
   "execution_count": 9,
   "metadata": {},
   "outputs": [],
   "source": [
    "#CHEXPERT_BENCHMARKS, CHESTXRAY14_BENCHMARKS = generate_benchmarks (batch_sizes={\"Medium\": 32}, epoch_sizes= {\"Dev\": 5,}, crop={\"C0\": False}, name_suffix=\"\",)\n",
    "\n"
   ]
  },
  {
   "cell_type": "code",
   "execution_count": 10,
   "metadata": {},
   "outputs": [],
   "source": [
    "#CHEXPERT_BENCHMARKS.keys() "
   ]
  },
  {
   "cell_type": "code",
   "execution_count": 11,
   "metadata": {},
   "outputs": [],
   "source": [
    "#CHESTXRAY14_BENCHMARKS.keys()"
   ]
  },
  {
   "cell_type": "code",
   "execution_count": 12,
   "metadata": {},
   "outputs": [],
   "source": [
    "#[m.name for m in METRICS]"
   ]
  },
  {
   "cell_type": "code",
   "execution_count": 13,
   "metadata": {},
   "outputs": [],
   "source": [
    "#CHEXPERT_COLUMNS"
   ]
  },
  {
   "cell_type": "code",
   "execution_count": 14,
   "metadata": {},
   "outputs": [
    {
     "name": "stdout",
     "output_type": "stream",
     "text": [
      "URLs open for the following services:\n",
      "[('tensorboard', 'http://e557232b7b6b.ngrok.io'), ('jupyterlab', 'http://75243960621c.ngrok.io')]\n"
     ]
    }
   ],
   "source": [
    "!remote_access/get_tunnels.sh"
   ]
  },
  {
   "cell_type": "code",
   "execution_count": 15,
   "metadata": {},
   "outputs": [],
   "source": [
    "#CHEXPERT_BENCHMARKS[\"BCE_E5_B32_C0\"].as_dict()"
   ]
  },
  {
   "cell_type": "code",
   "execution_count": 16,
   "metadata": {},
   "outputs": [],
   "source": [
    "#chexpert_exp = simple_architecture_experiment(CHEXPERT_BENCHMARKS[\"BCE_E5_B32_C0\"], DenseNet121, CHEXPERT_COLUMNS)"
   ]
  },
  {
   "cell_type": "code",
   "execution_count": 17,
   "metadata": {},
   "outputs": [],
   "source": [
    "#chexpert_exp.benchmark.as_dict()"
   ]
  },
  {
   "cell_type": "code",
   "execution_count": 18,
   "metadata": {},
   "outputs": [],
   "source": [
    "#chexpert_exp.run()"
   ]
  },
  {
   "cell_type": "code",
   "execution_count": null,
   "metadata": {},
   "outputs": [],
   "source": []
  },
  {
   "cell_type": "code",
   "execution_count": 19,
   "metadata": {},
   "outputs": [],
   "source": [
    "columns_12 = ['Enlarged Cardiomediastinum',\n",
    "                    'Cardiomegaly',\n",
    "                    'Lung Opacity',\n",
    "                    'Lung Lesion',\n",
    "                    'Edema',\n",
    "                    'Consolidation',\n",
    "                    'Pneumonia',\n",
    "                    'Atelectasis',\n",
    "                    'Pneumothorax',\n",
    "                    'Pleural Effusion',\n",
    "                    'Pleural Other',\n",
    "                    'Fracture']\n",
    "\n",
    "uzeros = ['Cardiomegaly',\n",
    "        'Enlarged Cardiomediastinum',\n",
    "        'Lung Opacity',\n",
    "        'Lung Lesion',\n",
    "        'Consolidation',\n",
    "        'Pneumothorax',\n",
    "        'Pleural Effusion']\n",
    "\n",
    "uones = ['Edema',\n",
    "        'Atelectasis',\n",
    "        'Fracture',\n",
    "        'Pleural Other',\n",
    "        'Pneumonia',]\n",
    "\n",
    "\n",
    "upsample_factors = {\n",
    "    \"Enlarged Cardiomediastinum\": 1,\n",
    "    \"Lung Lesion\":1,\n",
    "    #\"Pneumothorax\":1,\n",
    "    #\"Pneumonia\":1,\n",
    "    \"Pleural Other\":2,\n",
    "    \"Fracture\":2,\n",
    "}\n",
    "\n",
    "columns_5 =  ['Cardiomegaly',\n",
    "                'Edema',\n",
    "                'Consolidation',\n",
    "                'Atelectasis',\n",
    "                'Pleural Effusion']\n",
    "\n",
    "uzeros_5 = ['Cardiomegaly',\n",
    "        'Consolidation',\n",
    "        'Pleural Effusion']\n",
    "\n",
    "uones_5 = ['Edema',\n",
    "        'Atelectasis']\n",
    "\n",
    "\n",
    "upsample_factors_5 = {\n",
    "    \"Consolidation\":2,\n",
    "    \"Cardiomegaly\":1\n",
    "}\n",
    "\n",
    "transformations_0 = {\"hist_equalization\":{}}\n",
    "transformations_1 = { \"gaussian_blur\":{\"kernal_size\":3}, \"hist_equalization\":{}}\n",
    "transformations_2 = {\"unsharp_mask\":{\"radius\":2, \"amount\":1}}\n",
    "transformations_3 = {\"windowing\"}"
   ]
  },
  {
   "cell_type": "code",
   "execution_count": 20,
   "metadata": {},
   "outputs": [
    {
     "name": "stdout",
     "output_type": "stream",
     "text": [
      "Initialzed custom_binary_crossentropy with epsilon 1e-05\n"
     ]
    }
   ],
   "source": [
    "bce_benchmark = Chexpert_Benchmark (path = Path(os.environ.get(\"CHEXPERT_DATASET_DIRECTORY\")),\n",
    "                                 name=\"Chexpert_BCE_E3_B32_C0_N12_AugAffine_Uones_D256_DS9505_2LR1_LF5_SGD_Upsampled\",\n",
    "                                 classes=columns_12,\n",
    "                                 train_labels = \"train.csv\",\n",
    "                                 test_labels = \"test.csv\",\n",
    "                                 nan_replacement = 0, #float(\"NaN\"),\n",
    "                                 u_enc = \"uones\",\n",
    "                                 epochs=3,\n",
    "                                 batch_size=32,\n",
    "                                 crop = False,\n",
    "                                 dim=(256, 256),\n",
    "                                 loss = BinaryCrossentropy(),\n",
    "                                 use_class_weights = False,\n",
    "                                 upsample_factors = upsample_factors,\n",
    "                                 metrics=METRICS,\n",
    "                                 single_class_metrics=SINGLE_CLASS_METRICS,\n",
    "                                 optimizer = SGD(learning_rate=2e-1, clipnorm=1),\n",
    "                                 lr_factor = 0.5,\n",
    "                                 augmentation = \"affine\",\n",
    "                                 transformations = {},\n",
    "                                 split_seed = 6122156,\n",
    "                                 split_valid_size = 0.05, \n",
    "                                 preprocess_input_fn = tf.keras.applications.densenet.preprocess_input)\n",
    "\n",
    "#bce_benchmark.loss = WeightedBinaryCrossentropy(bce_benchmark.positive_weights,\n",
    " #                                               bce_benchmark.negative_weights)"
   ]
  },
  {
   "cell_type": "code",
   "execution_count": null,
   "metadata": {},
   "outputs": [],
   "source": []
  },
  {
   "cell_type": "code",
   "execution_count": 20,
   "metadata": {},
   "outputs": [
    {
     "data": {
      "text/plain": [
       "{'benchmark_name': 'Chexpert_BCE_E3_B32_C0_N12_AugAffine_Uones_D256_DS9505_2LR1_LF5_SGD_Upsampled',\n",
       " 'dataset_name': 'chexpert_full',\n",
       " 'dataset_folder': 'data/chexpert/full',\n",
       " 'models_dir': 'models',\n",
       " 'epochs': 3,\n",
       " 'optimizer': 'SGD',\n",
       " 'learning_rate': 0.2,\n",
       " 'lr_factor': 0.5,\n",
       " 'loss': 'custom_binary_crossentropy',\n",
       " 'use_class_weights': False,\n",
       " 'class_weights': [0.6595874428749084,\n",
       "  0.877420961856842,\n",
       "  0.2572748064994812,\n",
       "  1.3363227844238281,\n",
       "  0.49572181701660156,\n",
       "  0.692219078540802,\n",
       "  1.1935983896255493,\n",
       "  0.44563019275665283,\n",
       "  1.27659273147583,\n",
       "  0.2977822422981262,\n",
       "  1.450164556503296,\n",
       "  1.017684817314148],\n",
       " 'positive_weights': [0.6595874428749084,\n",
       "  0.877420961856842,\n",
       "  0.2572748064994812,\n",
       "  1.3363227844238281,\n",
       "  0.49572181701660156,\n",
       "  0.692219078540802,\n",
       "  1.1935983896255493,\n",
       "  0.44563019275665283,\n",
       "  1.27659273147583,\n",
       "  0.2977822422981262,\n",
       "  1.450164556503296,\n",
       "  1.017684817314148],\n",
       " 'negative_weights': [0.7886719107627869,\n",
       "  0.7436374425888062,\n",
       "  1.275024175643921,\n",
       "  0.7019586563110352,\n",
       "  0.8578428030014038,\n",
       "  0.7797059416770935,\n",
       "  0.7110702991485596,\n",
       "  0.8932911157608032,\n",
       "  0.7054960131645203,\n",
       "  1.1208702325820923,\n",
       "  0.6961027383804321,\n",
       "  0.72632896900177],\n",
       " 'metrics': ['auc',\n",
       "  'precision',\n",
       "  'recall',\n",
       "  'f2_score',\n",
       "  'binary_accuracy',\n",
       "  'accuracy_enlarged_cardiomediastinum',\n",
       "  'accuracy_cardiomegaly',\n",
       "  'accuracy_lung_opacity',\n",
       "  'accuracy_lung_lesion',\n",
       "  'accuracy_edema',\n",
       "  'accuracy_consolidation',\n",
       "  'accuracy_pneumonia',\n",
       "  'accuracy_atelectasis',\n",
       "  'accuracy_pneumothorax',\n",
       "  'accuracy_pleural_effusion',\n",
       "  'accuracy_pleural_other',\n",
       "  'accuracy_fracture',\n",
       "  'auc_enlarged_cardiomediastinum',\n",
       "  'auc_cardiomegaly',\n",
       "  'auc_lung_opacity',\n",
       "  'auc_lung_lesion',\n",
       "  'auc_edema',\n",
       "  'auc_consolidation',\n",
       "  'auc_pneumonia',\n",
       "  'auc_atelectasis',\n",
       "  'auc_pneumothorax',\n",
       "  'auc_pleural_effusion',\n",
       "  'auc_pleural_other',\n",
       "  'auc_fracture',\n",
       "  'precision_enlarged_cardiomediastinum',\n",
       "  'precision_cardiomegaly',\n",
       "  'precision_lung_opacity',\n",
       "  'precision_lung_lesion',\n",
       "  'precision_edema',\n",
       "  'precision_consolidation',\n",
       "  'precision_pneumonia',\n",
       "  'precision_atelectasis',\n",
       "  'precision_pneumothorax',\n",
       "  'precision_pleural_effusion',\n",
       "  'precision_pleural_other',\n",
       "  'precision_fracture',\n",
       "  'recall_enlarged_cardiomediastinum',\n",
       "  'recall_cardiomegaly',\n",
       "  'recall_lung_opacity',\n",
       "  'recall_lung_lesion',\n",
       "  'recall_edema',\n",
       "  'recall_consolidation',\n",
       "  'recall_pneumonia',\n",
       "  'recall_atelectasis',\n",
       "  'recall_pneumothorax',\n",
       "  'recall_pleural_effusion',\n",
       "  'recall_pleural_other',\n",
       "  'recall_fracture',\n",
       "  'f2_score_enlarged_cardiomediastinum',\n",
       "  'f2_score_cardiomegaly',\n",
       "  'f2_score_lung_opacity',\n",
       "  'f2_score_lung_lesion',\n",
       "  'f2_score_edema',\n",
       "  'f2_score_consolidation',\n",
       "  'f2_score_pneumonia',\n",
       "  'f2_score_atelectasis',\n",
       "  'f2_score_pneumothorax',\n",
       "  'f2_score_pleural_effusion',\n",
       "  'f2_score_pleural_other',\n",
       "  'f2_score_fracture'],\n",
       " 'label_columns': ['Enlarged Cardiomediastinum',\n",
       "  'Cardiomegaly',\n",
       "  'Lung Opacity',\n",
       "  'Lung Lesion',\n",
       "  'Edema',\n",
       "  'Consolidation',\n",
       "  'Pneumonia',\n",
       "  'Atelectasis',\n",
       "  'Pneumothorax',\n",
       "  'Pleural Effusion',\n",
       "  'Pleural Other',\n",
       "  'Fracture'],\n",
       " 'path_column': 'Path',\n",
       " 'path_column_prefix': '',\n",
       " 'upsample_factors': {'Enlarged Cardiomediastinum': 1,\n",
       "  'Lung Lesion': 1,\n",
       "  'Pleural Other': 2,\n",
       "  'Fracture': 2},\n",
       " 'shuffle': True,\n",
       " 'batch_size': 32,\n",
       " 'dim': (256, 256),\n",
       " 'crop': False,\n",
       " 'transformations': {},\n",
       " 'augmentation': 'affine',\n",
       " 'n_channels': 3,\n",
       " 'nan_replacement': 0,\n",
       " 'unc_value': -1,\n",
       " 'u_enc': 'uones',\n",
       " 'drop_last': False,\n",
       " 'num_samples_train': 283748,\n",
       " 'num_samples_validation': 11596,\n",
       " 'num_samples_test': 234,\n",
       " 'split_seed': 6122156}"
      ]
     },
     "execution_count": 20,
     "metadata": {},
     "output_type": "execute_result"
    }
   ],
   "source": [
    "bce_benchmark.as_dict()"
   ]
  },
  {
   "cell_type": "code",
   "execution_count": 21,
   "metadata": {},
   "outputs": [],
   "source": [
    "bce_chexpert_exp = simple_architecture_experiment(bce_benchmark, DenseNet121, bce_benchmark.label_columns)"
   ]
  },
  {
   "cell_type": "code",
   "execution_count": 22,
   "metadata": {},
   "outputs": [
    {
     "name": "stdout",
     "output_type": "stream",
     "text": [
      "WARNING:tensorflow:Automatic model reloading for interrupted job was removed from the `ModelCheckpoint` callback in multi-worker mode, please use the `keras.callbacks.experimental.BackupAndRestore` callback instead. See this tutorial for details: https://www.tensorflow.org/tutorials/distribute/multi_worker_with_keras#backupandrestore_callback.\n",
      "Epoch 1/3\n",
      "Some predictions are greater than 1\n",
      "Some predictions are less than 0\n",
      "Some predictions are greater than 1\n",
      "Some predictions are less than 0\n",
      "8868/8868 [==============================] - ETA: 0s - loss: 0.4165 - auc: 0.7095 - precision: 0.6455 - recall: 0.3260 - f2_score: 0.3617 - binary_accuracy: 0.8196 - accuracy_enlarged_cardiomediastinum: 0.8054 - accuracy_cardiomegaly: 0.8622 - accuracy_lung_opacity: 0.6383 - accuracy_lung_lesion: 0.9028 - accuracy_edema: 0.7824 - accuracy_consolidation: 0.8124 - accuracy_pneumonia: 0.8902 - accuracy_atelectasis: 0.7072 - accuracy_pneumothorax: 0.9004 - accuracy_pleural_effusion: 0.7496 - accuracy_pleural_other: 0.9106 - accuracy_fracture: 0.8735 - auc_enlarged_cardiomediastinum: 0.5828 - auc_cardiomegaly: 0.7661 - auc_lung_opacity: 0.6849 - auc_lung_lesion: 0.6989 - auc_edema: 0.8091 - auc_consolidation: 0.6481 - auc_pneumonia: 0.6708 - auc_atelectasis: 0.6723 - auc_pneumothorax: 0.7212 - auc_pleural_effusion: 0.8189 - auc_pleural_other: 0.7570 - auc_fracture: 0.6839 - precision_enlarged_cardiomediastinum: 0.4620 - precision_cardiomegaly: 0.5892 - precision_lung_opacity: 0.6276 - precision_lung_lesion: 0.3467 - precision_edema: 0.6199 - precision_consolidation: 0.2934 - precision_pneumonia: 0.3748 - precision_atelectasis: 0.4810 - precision_pneumothorax: 0.5812 - precision_pleural_effusion: 0.7193 - precision_pleural_other: 0.4118 - precision_fracture: 0.4752 - recall_enlarged_cardiomediastinum: 0.0055 - recall_cardiomegaly: 0.1634 - recall_lung_opacity: 0.6917 - recall_lung_lesion: 0.0049 - recall_edema: 0.4201 - recall_consolidation: 0.0017 - recall_pneumonia: 0.0074 - recall_atelectasis: 0.1152 - recall_pneumothorax: 0.0629 - recall_pleural_effusion: 0.6890 - recall_pleural_other: 0.0141 - recall_fracture: 0.0269 - f2_score_enlarged_cardiomediastinum: 0.0068 - f2_score_cardiomegaly: 0.1900 - f2_score_lung_opacity: 0.6779 - f2_score_lung_lesion: 0.0059 - f2_score_edema: 0.4486 - f2_score_consolidation: 0.0022 - f2_score_pneumonia: 0.0089 - f2_score_atelectasis: 0.1359 - f2_score_pneumothorax: 0.0761 - f2_score_pleural_effusion: 0.6948 - f2_score_pleural_other: 0.0175 - f2_score_fracture: 0.0329 - learning rate: 0.2000WARNING:tensorflow:AutoGraph could not transform <function Model.make_test_function.<locals>.test_function at 0x7f885d642bf8> and will run it as-is.\n",
      "Please report this to the TensorFlow team. When filing the bug, set the verbosity to 10 (on Linux, `export AUTOGRAPH_VERBOSITY=10`) and attach the full output.\n",
      "Cause: closure mismatch, requested ('self', 'step_function'), but source function had ()\n",
      "To silence this warning, decorate the function with @tf.autograph.experimental.do_not_convert\n",
      "WARNING: AutoGraph could not transform <function Model.make_test_function.<locals>.test_function at 0x7f885d642bf8> and will run it as-is.\n",
      "Please report this to the TensorFlow team. When filing the bug, set the verbosity to 10 (on Linux, `export AUTOGRAPH_VERBOSITY=10`) and attach the full output.\n",
      "Cause: closure mismatch, requested ('self', 'step_function'), but source function had ()\n",
      "To silence this warning, decorate the function with @tf.autograph.experimental.do_not_convert\n",
      "Some predictions are greater than 1\n",
      "Some predictions are less than 0\n",
      "INFO:tensorflow:Summary name epoch_learning rate is illegal; using epoch_learning_rate instead.\n",
      "\n",
      "Epoch 00001: saving model to models/DenseNet121_Chexpert_BCE_E3_B32_C0_N12_AugAffine_Uones_D256_DS9505_2LR1_LF5_SGD_Upsampled/weights.01-0.36.hdf5\n",
      "8868/8868 [==============================] - 2812s 317ms/step - loss: 0.4165 - auc: 0.7095 - precision: 0.6455 - recall: 0.3260 - f2_score: 0.3617 - binary_accuracy: 0.8196 - accuracy_enlarged_cardiomediastinum: 0.8054 - accuracy_cardiomegaly: 0.8622 - accuracy_lung_opacity: 0.6383 - accuracy_lung_lesion: 0.9028 - accuracy_edema: 0.7824 - accuracy_consolidation: 0.8124 - accuracy_pneumonia: 0.8902 - accuracy_atelectasis: 0.7072 - accuracy_pneumothorax: 0.9004 - accuracy_pleural_effusion: 0.7496 - accuracy_pleural_other: 0.9106 - accuracy_fracture: 0.8735 - auc_enlarged_cardiomediastinum: 0.5828 - auc_cardiomegaly: 0.7661 - auc_lung_opacity: 0.6849 - auc_lung_lesion: 0.6989 - auc_edema: 0.8091 - auc_consolidation: 0.6481 - auc_pneumonia: 0.6708 - auc_atelectasis: 0.6723 - auc_pneumothorax: 0.7212 - auc_pleural_effusion: 0.8189 - auc_pleural_other: 0.7570 - auc_fracture: 0.6839 - precision_enlarged_cardiomediastinum: 0.4621 - precision_cardiomegaly: 0.5892 - precision_lung_opacity: 0.6276 - precision_lung_lesion: 0.3467 - precision_edema: 0.6199 - precision_consolidation: 0.2934 - precision_pneumonia: 0.3749 - precision_atelectasis: 0.4810 - precision_pneumothorax: 0.5812 - precision_pleural_effusion: 0.7193 - precision_pleural_other: 0.4118 - precision_fracture: 0.4752 - recall_enlarged_cardiomediastinum: 0.0055 - recall_cardiomegaly: 0.1634 - recall_lung_opacity: 0.6917 - recall_lung_lesion: 0.0049 - recall_edema: 0.4201 - recall_consolidation: 0.0017 - recall_pneumonia: 0.0074 - recall_atelectasis: 0.1153 - recall_pneumothorax: 0.0629 - recall_pleural_effusion: 0.6890 - recall_pleural_other: 0.0141 - recall_fracture: 0.0269 - f2_score_enlarged_cardiomediastinum: 0.0068 - f2_score_cardiomegaly: 0.1900 - f2_score_lung_opacity: 0.6779 - f2_score_lung_lesion: 0.0059 - f2_score_edema: 0.4486 - f2_score_consolidation: 0.0022 - f2_score_pneumonia: 0.0089 - f2_score_atelectasis: 0.1359 - f2_score_pneumothorax: 0.0761 - f2_score_pleural_effusion: 0.6948 - f2_score_pleural_other: 0.0175 - f2_score_fracture: 0.0329 - learning rate: 0.2000 - val_loss: 0.3585 - val_auc: 0.7650 - val_precision: 0.6614 - val_recall: 0.4261 - val_f2_score: 0.4587 - val_binary_accuracy: 0.8482 - val_accuracy_enlarged_cardiomediastinum: 0.8900 - val_accuracy_cardiomegaly: 0.8591 - val_accuracy_lung_opacity: 0.6692 - val_accuracy_lung_lesion: 0.9496 - val_accuracy_edema: 0.7869 - val_accuracy_consolidation: 0.8121 - val_accuracy_pneumonia: 0.8947 - val_accuracy_atelectasis: 0.7081 - val_accuracy_pneumothorax: 0.9086 - val_accuracy_pleural_effusion: 0.7816 - val_accuracy_pleural_other: 0.9696 - val_accuracy_fracture: 0.9490 - val_auc_enlarged_cardiomediastinum: 0.6296 - val_auc_cardiomegaly: 0.8301 - val_auc_lung_opacity: 0.7336 - val_auc_lung_lesion: 0.7705 - val_auc_edema: 0.8438 - val_auc_consolidation: 0.7054 - val_auc_pneumonia: 0.7329 - val_auc_atelectasis: 0.7099 - val_auc_pneumothorax: 0.8049 - val_auc_pleural_effusion: 0.8619 - val_auc_pleural_other: 0.7873 - val_auc_fracture: 0.7704 - val_precision_enlarged_cardiomediastinum: 0.2903 - val_precision_cardiomegaly: 0.6633 - val_precision_lung_opacity: 0.6286 - val_precision_lung_lesion: 0.3500 - val_precision_edema: 0.6527 - val_precision_consolidation: 0.4000 - val_precision_pneumonia: 0.4826 - val_precision_atelectasis: 0.5524 - val_precision_pneumothorax: 0.5653 - val_precision_pleural_effusion: 0.7873 - val_precision_pleural_other: 0.1833 - val_precision_fracture: 0.3553 - val_recall_enlarged_cardiomediastinum: 0.0372 - val_recall_cardiomegaly: 0.3378 - val_recall_lung_opacity: 0.7921 - val_recall_lung_lesion: 0.0499 - val_recall_edema: 0.5580 - val_recall_consolidation: 9.1827e-04 - val_recall_pneumonia: 0.0683 - val_recall_atelectasis: 0.0917 - val_recall_pneumothorax: 0.2245 - val_recall_pleural_effusion: 0.6912 - val_recall_pleural_other: 0.0349 - val_recall_fracture: 0.1311 - val_f2_score_enlarged_cardiomediastinum: 0.0450 - val_f2_score_cardiomegaly: 0.3745 - val_f2_score_lung_opacity: 0.7529 - val_f2_score_lung_lesion: 0.0602 - val_f2_score_edema: 0.5747 - val_f2_score_consolidation: 0.0011 - val_f2_score_pneumonia: 0.0825 - val_f2_score_atelectasis: 0.1101 - val_f2_score_pneumothorax: 0.2553 - val_f2_score_pleural_effusion: 0.7085 - val_f2_score_pleural_other: 0.0417 - val_f2_score_fracture: 0.1500\n",
      "Epoch 2/3\n",
      "8868/8868 [==============================] - ETA: 0s - loss: 0.3817 - auc: 0.7791 - precision: 0.6820 - recall: 0.3964 - f2_score: 0.4327 - binary_accuracy: 0.8329 - accuracy_enlarged_cardiomediastinum: 0.8076 - accuracy_cardiomegaly: 0.8740 - accuracy_lung_opacity: 0.6694 - accuracy_lung_lesion: 0.9066 - accuracy_edema: 0.8116 - accuracy_consolidation: 0.8112 - accuracy_pneumonia: 0.8927 - accuracy_atelectasis: 0.7216 - accuracy_pneumothorax: 0.9070 - accuracy_pleural_effusion: 0.7964 - accuracy_pleural_other: 0.9144 - accuracy_fracture: 0.8829 - auc_enlarged_cardiomediastinum: 0.6612 - auc_cardiomegaly: 0.8353 - auc_lung_opacity: 0.7269 - auc_lung_lesion: 0.7867 - auc_edema: 0.8557 - auc_consolidation: 0.6959 - auc_pneumonia: 0.7404 - auc_atelectasis: 0.7225 - auc_pneumothorax: 0.8151 - auc_pleural_effusion: 0.8714 - auc_pleural_other: 0.8406 - auc_fracture: 0.7975 - precision_enlarged_cardiomediastinum: 0.6118 - precision_cardiomegaly: 0.6595 - precision_lung_opacity: 0.6545 - precision_lung_lesion: 0.6500 - precision_edema: 0.6749 - precision_consolidation: 0.4849 - precision_pneumonia: 0.5452 - precision_atelectasis: 0.5553 - precision_pneumothorax: 0.6498 - precision_pleural_effusion: 0.7680 - precision_pleural_other: 0.6001 - precision_fracture: 0.6710 - recall_enlarged_cardiomediastinum: 0.0462 - recall_cardiomegaly: 0.2997 - recall_lung_opacity: 0.7287 - recall_lung_lesion: 0.0829 - recall_edema: 0.5321 - recall_consolidation: 0.0027 - recall_pneumonia: 0.0254 - recall_atelectasis: 0.2004 - recall_pneumothorax: 0.1972 - recall_pleural_effusion: 0.7593 - recall_pleural_other: 0.1192 - recall_fracture: 0.1584 - f2_score_enlarged_cardiomediastinum: 0.0566 - f2_score_cardiomegaly: 0.3364 - f2_score_lung_opacity: 0.7125 - f2_score_lung_lesion: 0.1003 - f2_score_edema: 0.5556 - f2_score_consolidation: 0.0034 - f2_score_pneumonia: 0.0314 - f2_score_atelectasis: 0.2298 - f2_score_pneumothorax: 0.2291 - f2_score_pleural_effusion: 0.7611 - f2_score_pleural_other: 0.1418 - f2_score_fracture: 0.1868 - learning rate: 0.1000INFO:tensorflow:Summary name epoch_learning rate is illegal; using epoch_learning_rate instead.\n",
      "\n",
      "Epoch 00002: saving model to models/DenseNet121_Chexpert_BCE_E3_B32_C0_N12_AugAffine_Uones_D256_DS9505_2LR1_LF5_SGD_Upsampled/weights.02-0.35.hdf5\n",
      "8868/8868 [==============================] - 2688s 303ms/step - loss: 0.3817 - auc: 0.7791 - precision: 0.6820 - recall: 0.3964 - f2_score: 0.4327 - binary_accuracy: 0.8329 - accuracy_enlarged_cardiomediastinum: 0.8076 - accuracy_cardiomegaly: 0.8740 - accuracy_lung_opacity: 0.6694 - accuracy_lung_lesion: 0.9066 - accuracy_edema: 0.8116 - accuracy_consolidation: 0.8112 - accuracy_pneumonia: 0.8927 - accuracy_atelectasis: 0.7215 - accuracy_pneumothorax: 0.9070 - accuracy_pleural_effusion: 0.7964 - accuracy_pleural_other: 0.9144 - accuracy_fracture: 0.8829 - auc_enlarged_cardiomediastinum: 0.6612 - auc_cardiomegaly: 0.8353 - auc_lung_opacity: 0.7269 - auc_lung_lesion: 0.7867 - auc_edema: 0.8557 - auc_consolidation: 0.6959 - auc_pneumonia: 0.7404 - auc_atelectasis: 0.7225 - auc_pneumothorax: 0.8151 - auc_pleural_effusion: 0.8714 - auc_pleural_other: 0.8406 - auc_fracture: 0.7975 - precision_enlarged_cardiomediastinum: 0.6118 - precision_cardiomegaly: 0.6595 - precision_lung_opacity: 0.6545 - precision_lung_lesion: 0.6500 - precision_edema: 0.6749 - precision_consolidation: 0.4849 - precision_pneumonia: 0.5452 - precision_atelectasis: 0.5553 - precision_pneumothorax: 0.6498 - precision_pleural_effusion: 0.7680 - precision_pleural_other: 0.6001 - precision_fracture: 0.6710 - recall_enlarged_cardiomediastinum: 0.0462 - recall_cardiomegaly: 0.2997 - recall_lung_opacity: 0.7287 - recall_lung_lesion: 0.0829 - recall_edema: 0.5321 - recall_consolidation: 0.0027 - recall_pneumonia: 0.0254 - recall_atelectasis: 0.2004 - recall_pneumothorax: 0.1972 - recall_pleural_effusion: 0.7593 - recall_pleural_other: 0.1192 - recall_fracture: 0.1584 - f2_score_enlarged_cardiomediastinum: 0.0566 - f2_score_cardiomegaly: 0.3364 - f2_score_lung_opacity: 0.7125 - f2_score_lung_lesion: 0.1003 - f2_score_edema: 0.5556 - f2_score_consolidation: 0.0034 - f2_score_pneumonia: 0.0314 - f2_score_atelectasis: 0.2298 - f2_score_pneumothorax: 0.2291 - f2_score_pleural_effusion: 0.7611 - f2_score_pleural_other: 0.1418 - f2_score_fracture: 0.1868 - learning rate: 0.1000 - val_loss: 0.3528 - val_auc: 0.7722 - val_precision: 0.6563 - val_recall: 0.4459 - val_f2_score: 0.4765 - val_binary_accuracy: 0.8491 - val_accuracy_enlarged_cardiomediastinum: 0.8853 - val_accuracy_cardiomegaly: 0.8612 - val_accuracy_lung_opacity: 0.6743 - val_accuracy_lung_lesion: 0.9513 - val_accuracy_edema: 0.7941 - val_accuracy_consolidation: 0.8128 - val_accuracy_pneumonia: 0.8963 - val_accuracy_atelectasis: 0.7123 - val_accuracy_pneumothorax: 0.9093 - val_accuracy_pleural_effusion: 0.7831 - val_accuracy_pleural_other: 0.9671 - val_accuracy_fracture: 0.9418 - val_auc_enlarged_cardiomediastinum: 0.6249 - val_auc_cardiomegaly: 0.8455 - val_auc_lung_opacity: 0.7408 - val_auc_lung_lesion: 0.7787 - val_auc_edema: 0.8555 - val_auc_consolidation: 0.7084 - val_auc_pneumonia: 0.7337 - val_auc_atelectasis: 0.7193 - val_auc_pneumothorax: 0.8115 - val_auc_pleural_effusion: 0.8696 - val_auc_pleural_other: 0.7951 - val_auc_fracture: 0.7840 - val_precision_enlarged_cardiomediastinum: 0.2591 - val_precision_cardiomegaly: 0.6418 - val_precision_lung_opacity: 0.6436 - val_precision_lung_lesion: 0.4756 - val_precision_edema: 0.6326 - val_precision_consolidation: 0.5745 - val_precision_pneumonia: 0.5882 - val_precision_atelectasis: 0.5415 - val_precision_pneumothorax: 0.8750 - val_precision_pleural_effusion: 0.7985 - val_precision_pleural_other: 0.2276 - val_precision_fracture: 0.3014 - val_recall_enlarged_cardiomediastinum: 0.0528 - val_recall_cardiomegaly: 0.4041 - val_recall_lung_opacity: 0.7498 - val_recall_lung_lesion: 0.0695 - val_recall_edema: 0.6818 - val_recall_consolidation: 0.0124 - val_recall_pneumonia: 0.0329 - val_recall_atelectasis: 0.2064 - val_recall_pneumothorax: 0.0689 - val_recall_pleural_effusion: 0.6793 - val_recall_pleural_other: 0.0889 - val_recall_fracture: 0.2004 - val_f2_score_enlarged_cardiomediastinum: 0.0629 - val_f2_score_cardiomegaly: 0.4364 - val_f2_score_lung_opacity: 0.7259 - val_f2_score_lung_lesion: 0.0838 - val_f2_score_edema: 0.6714 - val_f2_score_consolidation: 0.0154 - val_f2_score_pneumonia: 0.0406 - val_f2_score_atelectasis: 0.2355 - val_f2_score_pneumothorax: 0.0844 - val_f2_score_pleural_effusion: 0.7002 - val_f2_score_pleural_other: 0.1012 - val_f2_score_fracture: 0.2148\n",
      "Epoch 3/3\n",
      "8868/8868 [==============================] - ETA: 0s - loss: 0.3663 - auc: 0.8031 - precision: 0.6937 - recall: 0.4286 - f2_score: 0.4640 - binary_accuracy: 0.8389 - accuracy_enlarged_cardiomediastinum: 0.8102 - accuracy_cardiomegaly: 0.8786 - accuracy_lung_opacity: 0.6798 - accuracy_lung_lesion: 0.9111 - accuracy_edema: 0.8193 - accuracy_consolidation: 0.8138 - accuracy_pneumonia: 0.8926 - accuracy_atelectasis: 0.7270 - accuracy_pneumothorax: 0.9133 - accuracy_pleural_effusion: 0.8034 - accuracy_pleural_other: 0.9221 - accuracy_fracture: 0.8955 - auc_enlarged_cardiomediastinum: 0.6924 - auc_cardiomegaly: 0.8504 - auc_lung_opacity: 0.7416 - auc_lung_lesion: 0.8241 - auc_edema: 0.8672 - auc_consolidation: 0.7134 - auc_pneumonia: 0.7617 - auc_atelectasis: 0.7372 - auc_pneumothorax: 0.8412 - auc_pleural_effusion: 0.8806 - auc_pleural_other: 0.8793 - auc_fracture: 0.8486 - precision_enlarged_cardiomediastinum: 0.6450 - precision_cardiomegaly: 0.6733 - precision_lung_opacity: 0.6642 - precision_lung_lesion: 0.6858 - precision_edema: 0.6880 - precision_consolidation: 0.5026 - precision_pneumonia: 0.5642 - precision_atelectasis: 0.5710 - precision_pneumothorax: 0.6813 - precision_pleural_effusion: 0.7757 - precision_pleural_other: 0.6831 - precision_fracture: 0.7306 - recall_enlarged_cardiomediastinum: 0.0803 - recall_cardiomegaly: 0.3364 - recall_lung_opacity: 0.7364 - recall_lung_lesion: 0.1622 - recall_edema: 0.5573 - recall_consolidation: 0.0108 - recall_pneumonia: 0.0418 - recall_atelectasis: 0.2276 - recall_pneumothorax: 0.2631 - recall_pleural_effusion: 0.7705 - recall_pleural_other: 0.2504 - recall_fracture: 0.2846 - f2_score_enlarged_cardiomediastinum: 0.0974 - f2_score_cardiomegaly: 0.3738 - f2_score_lung_opacity: 0.7207 - f2_score_lung_lesion: 0.1913 - f2_score_edema: 0.5793 - f2_score_consolidation: 0.0134 - f2_score_pneumonia: 0.0513 - f2_score_atelectasis: 0.2587 - f2_score_pneumothorax: 0.2999 - f2_score_pleural_effusion: 0.7715 - f2_score_pleural_other: 0.2867 - f2_score_fracture: 0.3241 - learning rate: 0.0500INFO:tensorflow:Summary name epoch_learning rate is illegal; using epoch_learning_rate instead.\n",
      "\n",
      "Epoch 00003: saving model to models/DenseNet121_Chexpert_BCE_E3_B32_C0_N12_AugAffine_Uones_D256_DS9505_2LR1_LF5_SGD_Upsampled/weights.03-0.35.hdf5\n",
      "8868/8868 [==============================] - 2642s 298ms/step - loss: 0.3663 - auc: 0.8031 - precision: 0.6937 - recall: 0.4286 - f2_score: 0.4640 - binary_accuracy: 0.8389 - accuracy_enlarged_cardiomediastinum: 0.8102 - accuracy_cardiomegaly: 0.8786 - accuracy_lung_opacity: 0.6798 - accuracy_lung_lesion: 0.9111 - accuracy_edema: 0.8193 - accuracy_consolidation: 0.8138 - accuracy_pneumonia: 0.8926 - accuracy_atelectasis: 0.7270 - accuracy_pneumothorax: 0.9133 - accuracy_pleural_effusion: 0.8034 - accuracy_pleural_other: 0.9221 - accuracy_fracture: 0.8955 - auc_enlarged_cardiomediastinum: 0.6924 - auc_cardiomegaly: 0.8504 - auc_lung_opacity: 0.7416 - auc_lung_lesion: 0.8241 - auc_edema: 0.8672 - auc_consolidation: 0.7134 - auc_pneumonia: 0.7617 - auc_atelectasis: 0.7372 - auc_pneumothorax: 0.8412 - auc_pleural_effusion: 0.8806 - auc_pleural_other: 0.8793 - auc_fracture: 0.8486 - precision_enlarged_cardiomediastinum: 0.6450 - precision_cardiomegaly: 0.6733 - precision_lung_opacity: 0.6642 - precision_lung_lesion: 0.6858 - precision_edema: 0.6880 - precision_consolidation: 0.5026 - precision_pneumonia: 0.5642 - precision_atelectasis: 0.5710 - precision_pneumothorax: 0.6813 - precision_pleural_effusion: 0.7757 - precision_pleural_other: 0.6831 - precision_fracture: 0.7306 - recall_enlarged_cardiomediastinum: 0.0803 - recall_cardiomegaly: 0.3364 - recall_lung_opacity: 0.7364 - recall_lung_lesion: 0.1622 - recall_edema: 0.5573 - recall_consolidation: 0.0108 - recall_pneumonia: 0.0418 - recall_atelectasis: 0.2276 - recall_pneumothorax: 0.2631 - recall_pleural_effusion: 0.7705 - recall_pleural_other: 0.2504 - recall_fracture: 0.2846 - f2_score_enlarged_cardiomediastinum: 0.0974 - f2_score_cardiomegaly: 0.3738 - f2_score_lung_opacity: 0.7207 - f2_score_lung_lesion: 0.1913 - f2_score_edema: 0.5793 - f2_score_consolidation: 0.0134 - f2_score_pneumonia: 0.0513 - f2_score_atelectasis: 0.2587 - f2_score_pneumothorax: 0.2999 - f2_score_pleural_effusion: 0.7715 - f2_score_pleural_other: 0.2867 - f2_score_fracture: 0.3241 - learning rate: 0.0500 - val_loss: 0.3477 - val_auc: 0.7732 - val_precision: 0.6713 - val_recall: 0.4333 - val_f2_score: 0.4664 - val_binary_accuracy: 0.8507 - val_accuracy_enlarged_cardiomediastinum: 0.8883 - val_accuracy_cardiomegaly: 0.8589 - val_accuracy_lung_opacity: 0.6787 - val_accuracy_lung_lesion: 0.9487 - val_accuracy_edema: 0.7953 - val_accuracy_consolidation: 0.8126 - val_accuracy_pneumonia: 0.8955 - val_accuracy_atelectasis: 0.7151 - val_accuracy_pneumothorax: 0.9130 - val_accuracy_pleural_effusion: 0.7919 - val_accuracy_pleural_other: 0.9619 - val_accuracy_fracture: 0.9491 - val_auc_enlarged_cardiomediastinum: 0.6261 - val_auc_cardiomegaly: 0.8504 - val_auc_lung_opacity: 0.7442 - val_auc_lung_lesion: 0.7685 - val_auc_edema: 0.8554 - val_auc_consolidation: 0.7110 - val_auc_pneumonia: 0.7426 - val_auc_atelectasis: 0.7242 - val_auc_pneumothorax: 0.8265 - val_auc_pleural_effusion: 0.8717 - val_auc_pleural_other: 0.7911 - val_auc_fracture: 0.7664 - val_precision_enlarged_cardiomediastinum: 0.2586 - val_precision_cardiomegaly: 0.6044 - val_precision_lung_opacity: 0.6553 - val_precision_lung_lesion: 0.4096 - val_precision_edema: 0.6636 - val_precision_consolidation: 0.5472 - val_precision_pneumonia: 0.5146 - val_precision_atelectasis: 0.5994 - val_precision_pneumothorax: 0.7154 - val_precision_pleural_effusion: 0.7922 - val_precision_pleural_other: 0.1841 - val_precision_fracture: 0.2742 - val_recall_enlarged_cardiomediastinum: 0.0372 - val_recall_cardiomegaly: 0.4786 - val_recall_lung_opacity: 0.7248 - val_recall_lung_lesion: 0.1373 - val_recall_edema: 0.5882 - val_recall_consolidation: 0.0133 - val_recall_pneumonia: 0.0436 - val_recall_atelectasis: 0.1234 - val_recall_pneumothorax: 0.1619 - val_recall_pleural_effusion: 0.7155 - val_recall_pleural_other: 0.1175 - val_recall_fracture: 0.0637 - val_f2_score_enlarged_cardiomediastinum: 0.0448 - val_f2_score_cardiomegaly: 0.4994 - val_f2_score_lung_opacity: 0.7098 - val_f2_score_lung_lesion: 0.1583 - val_f2_score_edema: 0.6019 - val_f2_score_consolidation: 0.0165 - val_f2_score_pneumonia: 0.0534 - val_f2_score_atelectasis: 0.1467 - val_f2_score_pneumothorax: 0.1915 - val_f2_score_pleural_effusion: 0.7296 - val_f2_score_pleural_other: 0.1266 - val_f2_score_fracture: 0.0752\n"
     ]
    },
    {
     "data": {
      "text/plain": [
       "<tensorflow.python.keras.callbacks.History at 0x7f887f146780>"
      ]
     },
     "execution_count": 22,
     "metadata": {},
     "output_type": "execute_result"
    }
   ],
   "source": [
    "bce_chexpert_exp.train()"
   ]
  },
  {
   "cell_type": "code",
   "execution_count": 22,
   "metadata": {},
   "outputs": [
    {
     "name": "stdout",
     "output_type": "stream",
     "text": [
      "234/234 [==============================] - 4s 17ms/step\n"
     ]
    },
    {
     "name": "stderr",
     "output_type": "stream",
     "text": [
      "/usr/local/lib/python3.6/dist-packages/sklearn/metrics/_classification.py:1221: UndefinedMetricWarning: Recall and F-score are ill-defined and being set to 0.0 in labels with no true samples. Use `zero_division` parameter to control this behavior.\n",
      "  _warn_prf(average, modifier, msg_start, len(result))\n",
      "/usr/local/lib/python3.6/dist-packages/sklearn/metrics/_classification.py:1221: UndefinedMetricWarning: Precision and F-score are ill-defined and being set to 0.0 in samples with no predicted labels. Use `zero_division` parameter to control this behavior.\n",
      "  _warn_prf(average, modifier, msg_start, len(result))\n",
      "/usr/local/lib/python3.6/dist-packages/sklearn/metrics/_classification.py:1221: UndefinedMetricWarning: Recall and F-score are ill-defined and being set to 0.0 in samples with no true labels. Use `zero_division` parameter to control this behavior.\n",
      "  _warn_prf(average, modifier, msg_start, len(result))\n"
     ]
    },
    {
     "name": "stdout",
     "output_type": "stream",
     "text": [
      "Some predictions are greater than 1\n",
      "Some predictions are less than 0\n",
      "Some predictions are greater than 1\n",
      "Some predictions are less than 0\n",
      "234/234 [==============================] - 14s 58ms/step - loss: 0.3289 - auc: 0.7735 - precision: 0.7961 - recall: 0.3718 - f2_score: 0.4162 - binary_accuracy: 0.8593 - accuracy_enlarged_cardiomediastinum: 0.5385 - accuracy_cardiomegaly: 0.7735 - accuracy_lung_opacity: 0.8205 - accuracy_lung_lesion: 0.9829 - accuracy_edema: 0.8846 - accuracy_consolidation: 0.8632 - accuracy_pneumonia: 0.9615 - accuracy_atelectasis: 0.6838 - accuracy_pneumothorax: 0.9615 - accuracy_pleural_effusion: 0.8803 - accuracy_pleural_other: 0.9744 - accuracy_fracture: 0.9872 - auc_enlarged_cardiomediastinum: 0.5335 - auc_cardiomegaly: 0.8003 - auc_lung_opacity: 0.9259 - auc_lung_lesion: 0.9227 - auc_edema: 0.9276 - auc_consolidation: 0.8826 - auc_pneumonia: 0.8144 - auc_atelectasis: 0.8281 - auc_pneumothorax: 0.8081 - auc_pleural_effusion: 0.9141 - auc_pleural_other: 0.9249 - auc_fracture: 0.0000e+00 - precision_enlarged_cardiomediastinum: 0.6000 - precision_cardiomegaly: 0.8947 - precision_lung_opacity: 0.9286 - precision_lung_lesion: 0.0000e+00 - precision_edema: 0.7045 - precision_consolidation: 1.0000 - precision_pneumonia: 0.3333 - precision_atelectasis: 0.6667 - precision_pneumothorax: 0.3333 - precision_pleural_effusion: 0.8679 - precision_pleural_other: 0.0000e+00 - precision_fracture: 0.0000e+00 - recall_enlarged_cardiomediastinum: 0.0275 - recall_cardiomegaly: 0.2500 - recall_lung_opacity: 0.7222 - recall_lung_lesion: 0.0000e+00 - recall_edema: 0.6889 - recall_consolidation: 0.0303 - recall_pneumonia: 0.1250 - recall_atelectasis: 0.1500 - recall_pneumothorax: 0.1250 - recall_pleural_effusion: 0.6866 - recall_pleural_other: 0.0000e+00 - recall_fracture: 0.0000e+00 - f2_score_enlarged_cardiomediastinum: 0.0340 - f2_score_cardiomegaly: 0.2921 - f2_score_lung_opacity: 0.7558 - f2_score_lung_lesion: 0.0000e+00 - f2_score_edema: 0.6920 - f2_score_consolidation: 0.0376 - f2_score_pneumonia: 0.1429 - f2_score_atelectasis: 0.1775 - f2_score_pneumothorax: 0.1429 - f2_score_pleural_effusion: 0.7165 - f2_score_pleural_other: 0.0000e+00 - f2_score_fracture: 0.0000e+00\n"
     ]
    },
    {
     "data": {
      "text/plain": [
       "{'report': '                            precision    recall  f1-score   support\\n\\nEnlarged Cardiomediastinum       0.60      0.03      0.05       109\\n              Cardiomegaly       0.89      0.25      0.39        68\\n              Lung Opacity       0.93      0.72      0.81       126\\n               Lung Lesion       0.00      0.00      0.00         1\\n                     Edema       0.70      0.69      0.70        45\\n             Consolidation       1.00      0.03      0.06        33\\n                 Pneumonia       0.33      0.12      0.18         8\\n               Atelectasis       0.67      0.15      0.24        80\\n              Pneumothorax       0.33      0.12      0.18         8\\n          Pleural Effusion       0.87      0.69      0.77        67\\n             Pleural Other       0.00      0.00      0.00         1\\n                  Fracture       0.00      0.00      0.00         0\\n\\n                 micro avg       0.80      0.37      0.51       546\\n                 macro avg       0.53      0.23      0.28       546\\n              weighted avg       0.78      0.37      0.44       546\\n               samples avg       0.44      0.24      0.29       546\\n',\n",
       " 'metrics': {'loss': 0.32891470193862915,\n",
       "  'auc': 0.7735175490379333,\n",
       "  'precision': 0.7960784435272217,\n",
       "  'recall': 0.3717948794364929,\n",
       "  'f2_score': 0.416154146194458,\n",
       "  'binary_accuracy': 0.8593305349349976,\n",
       "  'accuracy_enlarged_cardiomediastinum': 0.5384615659713745,\n",
       "  'accuracy_cardiomegaly': 0.7735042572021484,\n",
       "  'accuracy_lung_opacity': 0.8205128312110901,\n",
       "  'accuracy_lung_lesion': 0.9829059839248657,\n",
       "  'accuracy_edema': 0.8846153616905212,\n",
       "  'accuracy_consolidation': 0.8632478713989258,\n",
       "  'accuracy_pneumonia': 0.9615384340286255,\n",
       "  'accuracy_atelectasis': 0.6837607026100159,\n",
       "  'accuracy_pneumothorax': 0.9615384340286255,\n",
       "  'accuracy_pleural_effusion': 0.8803418874740601,\n",
       "  'accuracy_pleural_other': 0.9743589758872986,\n",
       "  'accuracy_fracture': 0.9871794581413269,\n",
       "  'auc_enlarged_cardiomediastinum': 0.5334678888320923,\n",
       "  'auc_cardiomegaly': 0.8003189563751221,\n",
       "  'auc_lung_opacity': 0.9258891940116882,\n",
       "  'auc_lung_lesion': 0.9227467775344849,\n",
       "  'auc_edema': 0.9276307821273804,\n",
       "  'auc_consolidation': 0.8825568556785583,\n",
       "  'auc_pneumonia': 0.8144359588623047,\n",
       "  'auc_atelectasis': 0.8280843496322632,\n",
       "  'auc_pneumothorax': 0.8080751895904541,\n",
       "  'auc_pleural_effusion': 0.9141120314598083,\n",
       "  'auc_pleural_other': 0.9248927235603333,\n",
       "  'auc_fracture': 0.0,\n",
       "  'precision_enlarged_cardiomediastinum': 0.6000000238418579,\n",
       "  'precision_cardiomegaly': 0.8947368264198303,\n",
       "  'precision_lung_opacity': 0.9285714030265808,\n",
       "  'precision_lung_lesion': 0.0,\n",
       "  'precision_edema': 0.7045454382896423,\n",
       "  'precision_consolidation': 1.0,\n",
       "  'precision_pneumonia': 0.3333333432674408,\n",
       "  'precision_atelectasis': 0.6666666865348816,\n",
       "  'precision_pneumothorax': 0.3333333432674408,\n",
       "  'precision_pleural_effusion': 0.8679245114326477,\n",
       "  'precision_pleural_other': 0.0,\n",
       "  'precision_fracture': 0.0,\n",
       "  'recall_enlarged_cardiomediastinum': 0.027522936463356018,\n",
       "  'recall_cardiomegaly': 0.25,\n",
       "  'recall_lung_opacity': 0.7222222089767456,\n",
       "  'recall_lung_lesion': 0.0,\n",
       "  'recall_edema': 0.6888889074325562,\n",
       "  'recall_consolidation': 0.03030303120613098,\n",
       "  'recall_pneumonia': 0.125,\n",
       "  'recall_atelectasis': 0.15000000596046448,\n",
       "  'recall_pneumothorax': 0.125,\n",
       "  'recall_pleural_effusion': 0.6865671873092651,\n",
       "  'recall_pleural_other': 0.0,\n",
       "  'recall_fracture': 0.0,\n",
       "  'f2_score_enlarged_cardiomediastinum': 0.03401360660791397,\n",
       "  'f2_score_cardiomegaly': 0.29209619760513306,\n",
       "  'f2_score_lung_opacity': 0.7558139562606812,\n",
       "  'f2_score_lung_lesion': 0.0,\n",
       "  'f2_score_edema': 0.691964328289032,\n",
       "  'f2_score_consolidation': 0.037593986839056015,\n",
       "  'f2_score_pneumonia': 0.1428571492433548,\n",
       "  'f2_score_atelectasis': 0.17751479148864746,\n",
       "  'f2_score_pneumothorax': 0.1428571492433548,\n",
       "  'f2_score_pleural_effusion': 0.7165109515190125,\n",
       "  'f2_score_pleural_other': 0.0,\n",
       "  'f2_score_fracture': 0.0},\n",
       " 'predictions': array([[0.13633627, 0.3894782 , 0.11609458, ..., 0.01518975, 0.00401601,\n",
       "         0.03031708],\n",
       "        [0.10303421, 0.02966833, 0.05025908, ..., 0.02742429, 0.00505744,\n",
       "         0.03017585],\n",
       "        [0.13151984, 0.01980504, 0.13973038, ..., 0.02199229, 0.0218803 ,\n",
       "         0.14504078],\n",
       "        ...,\n",
       "        [0.351744  , 0.3127618 , 0.5417896 , ..., 0.03730216, 0.02328926,\n",
       "         0.01924715],\n",
       "        [0.33763447, 0.38654658, 0.12744538, ..., 0.0341526 , 0.00767037,\n",
       "         0.01913928],\n",
       "        [0.70563966, 0.11251818, 0.37273815, ..., 0.45077115, 0.01175874,\n",
       "         0.03137586]], dtype=float32),\n",
       " 'groundtruth_label': array([[1., 1., 1., ..., 0., 0., 0.],\n",
       "        [0., 0., 0., ..., 0., 0., 0.],\n",
       "        [0., 0., 0., ..., 0., 0., 0.],\n",
       "        ...,\n",
       "        [1., 1., 1., ..., 0., 0., 0.],\n",
       "        [1., 0., 0., ..., 0., 0., 0.],\n",
       "        [1., 0., 1., ..., 1., 0., 0.]], dtype=float32)}"
      ]
     },
     "execution_count": 22,
     "metadata": {},
     "output_type": "execute_result"
    }
   ],
   "source": [
    "bce_chexpert_exp.model.load_weights(\"models/DenseNet121_Chexpert_BCE_E3_B32_C0_N12_AugAffine_Uones_D256_DS9505_2LR1_LF5_SGD_Upsampled/weights.03-0.35.hdf5\")\n",
    "bce_chexpert_exp.evaluate()"
   ]
  },
  {
   "cell_type": "code",
   "execution_count": 34,
   "metadata": {},
   "outputs": [
    {
     "name": "stdout",
     "output_type": "stream",
     "text": [
      "WARNING:tensorflow:From /usr/local/lib/python3.6/dist-packages/tensorflow/python/training/tracking/tracking.py:111: Model.state_updates (from tensorflow.python.keras.engine.training) is deprecated and will be removed in a future version.\n",
      "Instructions for updating:\n",
      "This property should not be used in TensorFlow 2.0, as updates are applied automatically.\n",
      "WARNING:tensorflow:From /usr/local/lib/python3.6/dist-packages/tensorflow/python/training/tracking/tracking.py:111: Layer.updates (from tensorflow.python.keras.engine.base_layer) is deprecated and will be removed in a future version.\n",
      "Instructions for updating:\n",
      "This property should not be used in TensorFlow 2.0, as updates are applied automatically.\n",
      "INFO:tensorflow:Assets written to: /srv/idp-radio-1/models/DenseNet121_Chexpert_BCE_E3_B32_C0_N12_AugAffine_Uones_D256_DS9505_2LR1_LF5_SGD_Upsampled/DenseNet121_Chexpert_BCE_E3_B32_C0_N12_AugAffine_Uones_D256_DS9505_2LR1_LF5_SGD_Upsampled_20200904-092128/assets\n"
     ]
    },
    {
     "data": {
      "text/plain": [
       "'03479e56-ee90-11ea-b021-0242ac110002'"
      ]
     },
     "execution_count": 34,
     "metadata": {},
     "output_type": "execute_result"
    }
   ],
   "source": [
    "bce_chexpert_exp.save()"
   ]
  },
  {
   "cell_type": "code",
   "execution_count": null,
   "metadata": {},
   "outputs": [],
   "source": []
  },
  {
   "cell_type": "code",
   "execution_count": 18,
   "metadata": {},
   "outputs": [
    {
     "name": "stdout",
     "output_type": "stream",
     "text": [
      "Initialzed custom_binary_crossentropy with epsilon 1e-05\n"
     ]
    }
   ],
   "source": [
    "bce_benchmark = Chexpert_Benchmark (path = Path(os.environ.get(\"CHEXPERT_DATASET_DIRECTORY\")),\n",
    "                                 name=\"Chexpert_BCE_E3_B32_C0_N12_NoAug_UZEROES_D256_DS9505_2LR1_LF5_SGD_Upsampled12\",\n",
    "                                 classes=columns_12,\n",
    "                                 train_labels = \"train.csv\",\n",
    "                                 test_labels = \"test.csv\",\n",
    "                                 nan_replacement = 0, #float(\"NaN\"),\n",
    "                                 u_enc = \"uzeroes\",\n",
    "                                 epochs=3,\n",
    "                                 batch_size=32,\n",
    "                                 crop = False,\n",
    "                                 dim=(256, 256),\n",
    "                                 loss = BinaryCrossentropy(),\n",
    "                                 use_class_weights = False,\n",
    "                                 upsample_factors = upsample_factors,\n",
    "                                 metrics=METRICS,\n",
    "                                 single_class_metrics=SINGLE_CLASS_METRICS,\n",
    "                                 optimizer = SGD(learning_rate=2e-1, clipnorm=1),\n",
    "                                 lr_factor = 0.5,\n",
    "                                 #augmentation = \"affine\",\n",
    "                                 transformations = {},\n",
    "                                 split_seed = 6122156,\n",
    "                                 split_valid_size = 0.05, \n",
    "                                 preprocess_input_fn = tf.keras.applications.densenet.preprocess_input)\n"
   ]
  },
  {
   "cell_type": "code",
   "execution_count": 19,
   "metadata": {},
   "outputs": [],
   "source": [
    "bce_chexpert_exp = simple_architecture_experiment(bce_benchmark, DenseNet121, bce_benchmark.label_columns)"
   ]
  },
  {
   "cell_type": "code",
   "execution_count": null,
   "metadata": {},
   "outputs": [
    {
     "name": "stdout",
     "output_type": "stream",
     "text": [
      "WARNING:tensorflow:Automatic model reloading for interrupted job was removed from the `ModelCheckpoint` callback in multi-worker mode, please use the `keras.callbacks.experimental.BackupAndRestore` callback instead. See this tutorial for details: https://www.tensorflow.org/tutorials/distribute/multi_worker_with_keras#backupandrestore_callback.\n",
      "Epoch 1/3\n",
      "Some predictions are greater than 1\n",
      "Some predictions are less than 0\n",
      "Some predictions are greater than 1\n",
      "Some predictions are less than 0\n",
      "2996/8101 [==========>...................] - ETA: 20:58 - loss: 0.3366 - auc: 0.6917 - precision: 0.6224 - recall: 0.3221 - f2_score: 0.3564 - binary_accuracy: 0.8656 - accuracy_enlarged_cardiomediastinum: 0.9023 - accuracy_cardiomegaly: 0.8841 - accuracy_lung_opacity: 0.6294 - accuracy_lung_lesion: 0.9166 - accuracy_edema: 0.8014 - accuracy_consolidation: 0.9352 - accuracy_pneumonia: 0.9726 - accuracy_atelectasis: 0.8517 - accuracy_pneumothorax: 0.9127 - accuracy_pleural_effusion: 0.7478 - accuracy_pleural_other: 0.9477 - accuracy_fracture: 0.8841 - auc_enlarged_cardiomediastinum: 0.5880 - auc_cardiomegaly: 0.7365 - auc_lung_opacity: 0.6738 - auc_lung_lesion: 0.6683 - auc_edema: 0.7904 - auc_consolidation: 0.6584 - auc_pneumonia: 0.6402 - auc_atelectasis: 0.6191 - auc_pneumothorax: 0.7102 - auc_pleural_effusion: 0.8134 - auc_pleural_other: 0.7199 - auc_fracture: 0.6523 - precision_enlarged_cardiomediastinum: 0.2609 - precision_cardiomegaly: 0.5202 - precision_lung_opacity: 0.6064 - precision_lung_lesion: 0.1619 - precision_edema: 0.5537 - precision_consolidation: 0.0000e+00 - precision_pneumonia: 0.0000e+00 - precision_atelectasis: 0.2249 - precision_pneumothorax: 0.5281 - precision_pleural_effusion: 0.6685 - precision_pleural_other: 0.2012 - precision_fracture: 0.4270 - recall_enlarged_cardiomediastinum: 0.0053 - recall_cardiomegaly: 0.0905 - recall_lung_opacity: 0.6202 - recall_lung_lesion: 0.0033 - recall_edema: 0.2667 - recall_consolidation: 0.0000e+00 - recall_pneumonia: 0.0000e+00 - recall_atelectasis: 0.0035 - recall_pneumothorax: 0.0313 - recall_pleural_effusion: 0.6129 - recall_pleural_other: 0.0032 - recall_fracture: 0.0128 - f2_score_enlarged_cardiomediastinum: 0.0060 - f2_score_cardiomegaly: 0.1078 - f2_score_lung_opacity: 0.6173 - f2_score_lung_lesion: 0.0033 - f2_score_edema: 0.2968 - f2_score_consolidation: 0.0000e+00 - f2_score_pneumonia: 0.0000e+00 - f2_score_atelectasis: 0.0039 - f2_score_pneumothorax: 0.0384 - f2_score_pleural_effusion: 0.6230 - f2_score_pleural_other: 0.0037 - f2_score_fracture: 0.0158 - learning rate: 0.2000"
     ]
    },
    {
     "name": "stderr",
     "output_type": "stream",
     "text": [
      "IOPub message rate exceeded.\n",
      "The notebook server will temporarily stop sending output\n",
      "to the client in order to avoid crashing it.\n",
      "To change this limit, set the config variable\n",
      "`--NotebookApp.iopub_msg_rate_limit`.\n",
      "\n",
      "Current values:\n",
      "NotebookApp.iopub_msg_rate_limit=1000.0 (msgs/sec)\n",
      "NotebookApp.rate_limit_window=3.0 (secs)\n",
      "\n"
     ]
    },
    {
     "name": "stdout",
     "output_type": "stream",
     "text": [
      "8101/8101 [==============================] - ETA: 0s - loss: 0.3242 - auc: 0.7239 - precision: 0.6415 - recall: 0.3516 - f2_score: 0.3864 - binary_accuracy: 0.8701 - accuracy_enlarged_cardiomediastinum: 0.9037 - accuracy_cardiomegaly: 0.8881 - accuracy_lung_opacity: 0.6430 - accuracy_lung_lesion: 0.9176 - accuracy_edema: 0.8085 - accuracy_consolidation: 0.9349 - accuracy_pneumonia: 0.9731 - accuracy_atelectasis: 0.8536 - accuracy_pneumothorax: 0.9145 - accuracy_pleural_effusion: 0.7702 - accuracy_pleural_other: 0.9482 - accuracy_fracture: 0.8850 - auc_enlarged_cardiomediastinum: 0.6255 - auc_cardiomegaly: 0.7825 - auc_lung_opacity: 0.6933 - auc_lung_lesion: 0.7062 - auc_edema: 0.8118 - auc_consolidation: 0.6837 - auc_pneumonia: 0.6699 - auc_atelectasis: 0.6461 - auc_pneumothorax: 0.7577 - auc_pleural_effusion: 0.8406 - auc_pleural_other: 0.7619 - auc_fracture: 0.6968 - precision_enlarged_cardiomediastinum: 0.4517 - precision_cardiomegaly: 0.5788 - precision_lung_opacity: 0.6186 - precision_lung_lesion: 0.4296 - precision_edema: 0.5850 - precision_consolidation: 0.0234 - precision_pneumonia: 0.0000e+00 - precision_atelectasis: 0.3222 - precision_pneumothorax: 0.5835 - precision_pleural_effusion: 0.6979 - precision_pleural_other: 0.4393 - precision_fracture: 0.5381 - recall_enlarged_cardiomediastinum: 0.0130 - recall_cardiomegaly: 0.1506 - recall_lung_opacity: 0.6419 - recall_lung_lesion: 0.0098 - recall_edema: 0.3182 - recall_consolidation: 1.4122e-05 - recall_pneumonia: 0.0000e+00 - recall_atelectasis: 0.0024 - recall_pneumothorax: 0.0752 - recall_pleural_effusion: 0.6612 - recall_pleural_other: 0.0169 - recall_fracture: 0.0406 - f2_score_enlarged_cardiomediastinum: 0.0159 - f2_score_cardiomegaly: 0.1759 - f2_score_lung_opacity: 0.6370 - f2_score_lung_lesion: 0.0118 - f2_score_edema: 0.3496 - f2_score_consolidation: 1.7650e-05 - f2_score_pneumonia: 0.0000e+00 - f2_score_atelectasis: 0.0028 - f2_score_pneumothorax: 0.0906 - f2_score_pleural_effusion: 0.6681 - f2_score_pleural_other: 0.0207 - f2_score_fracture: 0.0496 - learning rate: 0.2000Some predictions are greater than 1\n",
      "Some predictions are less than 0\n",
      "INFO:tensorflow:Summary name epoch_learning rate is illegal; using epoch_learning_rate instead.\n",
      "\n",
      "Epoch 00001: saving model to models/DenseNet121_Chexpert_BCE_E3_B32_C0_N12_NoAug_UZEROES_D256_DS9505_2LR1_LF5_SGD_Upsampled12/weights.01-0.29.hdf5\n",
      "8101/8101 [==============================] - 2709s 334ms/step - loss: 0.3242 - auc: 0.7239 - precision: 0.6415 - recall: 0.3516 - f2_score: 0.3864 - binary_accuracy: 0.8701 - accuracy_enlarged_cardiomediastinum: 0.9037 - accuracy_cardiomegaly: 0.8881 - accuracy_lung_opacity: 0.6430 - accuracy_lung_lesion: 0.9176 - accuracy_edema: 0.8085 - accuracy_consolidation: 0.9349 - accuracy_pneumonia: 0.9731 - accuracy_atelectasis: 0.8536 - accuracy_pneumothorax: 0.9145 - accuracy_pleural_effusion: 0.7702 - accuracy_pleural_other: 0.9482 - accuracy_fracture: 0.8850 - auc_enlarged_cardiomediastinum: 0.6255 - auc_cardiomegaly: 0.7825 - auc_lung_opacity: 0.6933 - auc_lung_lesion: 0.7062 - auc_edema: 0.8118 - auc_consolidation: 0.6837 - auc_pneumonia: 0.6699 - auc_atelectasis: 0.6461 - auc_pneumothorax: 0.7577 - auc_pleural_effusion: 0.8406 - auc_pleural_other: 0.7619 - auc_fracture: 0.6968 - precision_enlarged_cardiomediastinum: 0.4518 - precision_cardiomegaly: 0.5788 - precision_lung_opacity: 0.6186 - precision_lung_lesion: 0.4296 - precision_edema: 0.5850 - precision_consolidation: 0.0235 - precision_pneumonia: 0.0000e+00 - precision_atelectasis: 0.3223 - precision_pneumothorax: 0.5835 - precision_pleural_effusion: 0.6979 - precision_pleural_other: 0.4393 - precision_fracture: 0.5381 - recall_enlarged_cardiomediastinum: 0.0130 - recall_cardiomegaly: 0.1507 - recall_lung_opacity: 0.6419 - recall_lung_lesion: 0.0098 - recall_edema: 0.3182 - recall_consolidation: 1.4142e-05 - recall_pneumonia: 0.0000e+00 - recall_atelectasis: 0.0024 - recall_pneumothorax: 0.0753 - recall_pleural_effusion: 0.6612 - recall_pleural_other: 0.0169 - recall_fracture: 0.0406 - f2_score_enlarged_cardiomediastinum: 0.0159 - f2_score_cardiomegaly: 0.1760 - f2_score_lung_opacity: 0.6370 - f2_score_lung_lesion: 0.0118 - f2_score_edema: 0.3496 - f2_score_consolidation: 1.7675e-05 - f2_score_pneumonia: 0.0000e+00 - f2_score_atelectasis: 0.0028 - f2_score_pneumothorax: 0.0906 - f2_score_pleural_effusion: 0.6681 - f2_score_pleural_other: 0.0207 - f2_score_fracture: 0.0496 - learning rate: 0.2000 - val_loss: 0.2853 - val_auc: 0.7678 - val_precision: 0.6748 - val_recall: 0.3918 - val_f2_score: 0.4277 - val_binary_accuracy: 0.8876 - val_accuracy_enlarged_cardiomediastinum: 0.9505 - val_accuracy_cardiomegaly: 0.8867 - val_accuracy_lung_opacity: 0.6750 - val_accuracy_lung_lesion: 0.9477 - val_accuracy_edema: 0.7925 - val_accuracy_consolidation: 0.9367 - val_accuracy_pneumonia: 0.9735 - val_accuracy_atelectasis: 0.8499 - val_accuracy_pneumothorax: 0.9217 - val_accuracy_pleural_effusion: 0.7773 - val_accuracy_pleural_other: 0.9840 - val_accuracy_fracture: 0.9555 - val_auc_enlarged_cardiomediastinum: 0.6569 - val_auc_cardiomegaly: 0.8453 - val_auc_lung_opacity: 0.7383 - val_auc_lung_lesion: 0.7609 - val_auc_edema: 0.8241 - val_auc_consolidation: 0.7413 - val_auc_pneumonia: 0.7032 - val_auc_atelectasis: 0.6989 - val_auc_pneumothorax: 0.8277 - val_auc_pleural_effusion: 0.8687 - val_auc_pleural_other: 0.7957 - val_auc_fracture: 0.7522 - val_precision_enlarged_cardiomediastinum: 0.3662 - val_precision_cardiomegaly: 0.6651 - val_precision_lung_opacity: 0.6435 - val_precision_lung_lesion: 0.2757 - val_precision_edema: 0.7123 - val_precision_consolidation: 0.2766 - val_precision_pneumonia: 0.0000e+00 - val_precision_atelectasis: 1.0000 - val_precision_pneumothorax: 0.5843 - val_precision_pleural_effusion: 0.7886 - val_precision_pleural_other: 0.4286 - val_precision_fracture: 0.4021 - val_recall_enlarged_cardiomediastinum: 0.0468 - val_recall_cardiomegaly: 0.2843 - val_recall_lung_opacity: 0.6810 - val_recall_lung_lesion: 0.1550 - val_recall_edema: 0.1915 - val_recall_consolidation: 0.0182 - val_recall_pneumonia: 0.0000e+00 - val_recall_atelectasis: 5.7405e-04 - val_recall_pneumothorax: 0.2579 - val_recall_pleural_effusion: 0.5834 - val_recall_pleural_other: 0.0663 - val_recall_fracture: 0.0785 - val_f2_score_enlarged_cardiomediastinum: 0.0567 - val_f2_score_cardiomegaly: 0.3211 - val_f2_score_lung_opacity: 0.6731 - val_f2_score_lung_lesion: 0.1698 - val_f2_score_edema: 0.2243 - val_f2_score_consolidation: 0.0224 - val_f2_score_pneumonia: 0.0000e+00 - val_f2_score_atelectasis: 7.1746e-04 - val_f2_score_pneumothorax: 0.2903 - val_f2_score_pleural_effusion: 0.6154 - val_f2_score_pleural_other: 0.0798 - val_f2_score_fracture: 0.0935\n",
      "Epoch 2/3\n",
      " 452/8101 [>.............................] - ETA: 29:43 - loss: 0.2911 - auc: 0.8077 - precision: 0.6829 - recall: 0.4250 - f2_score: 0.4597 - binary_accuracy: 0.8797 - accuracy_enlarged_cardiomediastinum: 0.9049 - accuracy_cardiomegaly: 0.8938 - accuracy_lung_opacity: 0.6640 - accuracy_lung_lesion: 0.9242 - accuracy_edema: 0.8273 - accuracy_consolidation: 0.9288 - accuracy_pneumonia: 0.9729 - accuracy_atelectasis: 0.8485 - accuracy_pneumothorax: 0.9166 - accuracy_pleural_effusion: 0.8208 - accuracy_pleural_other: 0.9559 - accuracy_fracture: 0.8993 - auc_enlarged_cardiomediastinum: 0.7193 - auc_cardiomegaly: 0.8621 - auc_lung_opacity: 0.7286 - auc_lung_lesion: 0.8127 - auc_edema: 0.8627 - auc_consolidation: 0.7413 - auc_pneumonia: 0.7774 - auc_atelectasis: 0.7139 - auc_pneumothorax: 0.8476 - auc_pleural_effusion: 0.8939 - auc_pleural_other: 0.8918 - auc_fracture: 0.8416 - precision_enlarged_cardiomediastinum: 0.6449 - precision_cardiomegaly: 0.6379 - precision_lung_opacity: 0.6373 - precision_lung_lesion: 0.6863 - precision_edema: 0.6444 - precision_consolidation: 0.0730 - precision_pneumonia: 0.0000e+00 - precision_atelectasis: 0.6626 - precision_pneumothorax: 0.6661 - precision_pleural_effusion: 0.7635 - precision_pleural_other: 0.7728 - precision_fracture: 0.7077 - recall_enlarged_cardiomediastinum: 0.0560 - recall_cardiomegaly: 0.2985 - recall_lung_opacity: 0.6668 - recall_lung_lesion: 0.1011 - recall_edema: 0.4303 - recall_consolidation: 2.7267e-04 - recall_pneumonia: 0.0000e+00 - recall_atelectasis: 0.0074 - recall_pneumothorax: 0.2337 - recall_pleural_effusion: 0.7508 - recall_pleural_other: 0.1947 - recall_fracture: 0.2142 - f2_score_enlarged_cardiomediastinum: 0.0685 - f2_score_cardiomegaly: 0.3339 - f2_score_lung_opacity: 0.6606 - f2_score_lung_lesion: 0.1219 - f2_score_edema: 0.4608 - f2_score_consolidation: 3.4052e-04 - f2_score_pneumonia: 0.0000e+00 - f2_score_atelectasis: 0.0093 - f2_score_pneumothorax: 0.2685 - f2_score_pleural_effusion: 0.7532 - f2_score_pleural_other: 0.2288 - f2_score_fracture: 0.2488 - learning rate: 0.1000"
     ]
    },
    {
     "name": "stderr",
     "output_type": "stream",
     "text": [
      "IOPub message rate exceeded.\n",
      "The notebook server will temporarily stop sending output\n",
      "to the client in order to avoid crashing it.\n",
      "To change this limit, set the config variable\n",
      "`--NotebookApp.iopub_msg_rate_limit`.\n",
      "\n",
      "Current values:\n",
      "NotebookApp.iopub_msg_rate_limit=1000.0 (msgs/sec)\n",
      "NotebookApp.rate_limit_window=3.0 (secs)\n",
      "\n"
     ]
    },
    {
     "name": "stdout",
     "output_type": "stream",
     "text": [
      "6362/8101 [======================>.......] - ETA: 6:46 - loss: 0.2850 - auc: 0.8122 - precision: 0.6856 - recall: 0.4440 - f2_score: 0.4777 - binary_accuracy: 0.8830 - accuracy_enlarged_cardiomediastinum: 0.9073 - accuracy_cardiomegaly: 0.8992 - accuracy_lung_opacity: 0.6748 - accuracy_lung_lesion: 0.9249 - accuracy_edema: 0.8291 - accuracy_consolidation: 0.9346 - accuracy_pneumonia: 0.9735 - accuracy_atelectasis: 0.8537 - accuracy_pneumothorax: 0.9225 - accuracy_pleural_effusion: 0.8159 - accuracy_pleural_other: 0.9578 - accuracy_fracture: 0.9026 - auc_enlarged_cardiomediastinum: 0.7386 - auc_cardiomegaly: 0.8616 - auc_lung_opacity: 0.7389 - auc_lung_lesion: 0.8195 - auc_edema: 0.8608 - auc_consolidation: 0.7449 - auc_pneumonia: 0.7545 - auc_atelectasis: 0.7139 - auc_pneumothorax: 0.8665 - auc_pleural_effusion: 0.8914 - auc_pleural_other: 0.9011 - auc_fracture: 0.8551 - precision_enlarged_cardiomediastinum: 0.7007 - precision_cardiomegaly: 0.6582 - precision_lung_opacity: 0.6477 - precision_lung_lesion: 0.7063 - precision_edema: 0.6408 - precision_consolidation: 0.5646 - precision_pneumonia: 0.2920 - precision_atelectasis: 0.5490 - precision_pneumothorax: 0.6663 - precision_pleural_effusion: 0.7519 - precision_pleural_other: 0.7656 - precision_fracture: 0.7190 - recall_enlarged_cardiomediastinum: 0.0808 - recall_cardiomegaly: 0.3033 - recall_lung_opacity: 0.6839 - recall_lung_lesion: 0.1362 - recall_edema: 0.4424 - recall_consolidation: 0.0033 - recall_pneumonia: 6.4547e-05 - recall_atelectasis: 0.0094 - recall_pneumothorax: 0.2565 - recall_pleural_effusion: 0.7497 - recall_pleural_other: 0.2704 - recall_fracture: 0.2818 - f2_score_enlarged_cardiomediastinum: 0.0981 - f2_score_cardiomegaly: 0.3399 - f2_score_lung_opacity: 0.6763 - f2_score_lung_lesion: 0.1624 - f2_score_edema: 0.4716 - f2_score_consolidation: 0.0041 - f2_score_pneumonia: 8.0680e-05 - f2_score_atelectasis: 0.0117 - f2_score_pneumothorax: 0.2925 - f2_score_pleural_effusion: 0.7501 - f2_score_pleural_other: 0.3101 - f2_score_fracture: 0.3205 - learning rate: 0.1000"
     ]
    },
    {
     "name": "stderr",
     "output_type": "stream",
     "text": [
      "IOPub message rate exceeded.\n",
      "The notebook server will temporarily stop sending output\n",
      "to the client in order to avoid crashing it.\n",
      "To change this limit, set the config variable\n",
      "`--NotebookApp.iopub_msg_rate_limit`.\n",
      "\n",
      "Current values:\n",
      "NotebookApp.iopub_msg_rate_limit=1000.0 (msgs/sec)\n",
      "NotebookApp.rate_limit_window=3.0 (secs)\n",
      "\n"
     ]
    },
    {
     "name": "stdout",
     "output_type": "stream",
     "text": [
      "3854/8101 [=============>................] - ETA: 16:32 - loss: 0.2550 - auc: 0.8567 - precision: 0.7179 - recall: 0.5147 - f2_score: 0.5455 - binary_accuracy: 0.8939 - accuracy_enlarged_cardiomediastinum: 0.9175 - accuracy_cardiomegaly: 0.9040 - accuracy_lung_opacity: 0.6931 - accuracy_lung_lesion: 0.9364 - accuracy_edema: 0.8371 - accuracy_consolidation: 0.9350 - accuracy_pneumonia: 0.9732 - accuracy_atelectasis: 0.8554 - accuracy_pneumothorax: 0.9330 - accuracy_pleural_effusion: 0.8284 - accuracy_pleural_other: 0.9762 - accuracy_fracture: 0.9379 - auc_enlarged_cardiomediastinum: 0.8156 - auc_cardiomegaly: 0.8819 - auc_lung_opacity: 0.7623 - auc_lung_lesion: 0.8929 - auc_edema: 0.8768 - auc_consolidation: 0.7790 - auc_pneumonia: 0.7997 - auc_atelectasis: 0.7451 - auc_pneumothorax: 0.9056 - auc_pleural_effusion: 0.9042 - auc_pleural_other: 0.9703 - auc_fracture: 0.9475 - precision_enlarged_cardiomediastinum: 0.8006 - precision_cardiomegaly: 0.6815 - precision_lung_opacity: 0.6658 - precision_lung_lesion: 0.7821 - precision_edema: 0.6628 - precision_consolidation: 0.7351 - precision_pneumonia: 0.7502 - precision_atelectasis: 0.5964 - precision_pneumothorax: 0.7243 - precision_pleural_effusion: 0.7666 - precision_pleural_other: 0.8829 - precision_fracture: 0.8324 - recall_enlarged_cardiomediastinum: 0.1902 - recall_cardiomegaly: 0.3489 - recall_lung_opacity: 0.7055 - recall_lung_lesion: 0.3133 - recall_edema: 0.4986 - recall_consolidation: 0.0172 - recall_pneumonia: 0.0020 - recall_atelectasis: 0.0307 - recall_pneumothorax: 0.3780 - recall_pleural_effusion: 0.7705 - recall_pleural_other: 0.6281 - recall_fracture: 0.5912 - f2_score_enlarged_cardiomediastinum: 0.2243 - f2_score_cardiomegaly: 0.3866 - f2_score_lung_opacity: 0.6972 - f2_score_lung_lesion: 0.3559 - f2_score_edema: 0.5245 - f2_score_consolidation: 0.0213 - f2_score_pneumonia: 0.0025 - f2_score_atelectasis: 0.0379 - f2_score_pneumothorax: 0.4179 - f2_score_pleural_effusion: 0.7697 - f2_score_pleural_other: 0.6665 - f2_score_fracture: 0.6274 - learning rate: 0.0500"
     ]
    },
    {
     "name": "stderr",
     "output_type": "stream",
     "text": [
      "IOPub message rate exceeded.\n",
      "The notebook server will temporarily stop sending output\n",
      "to the client in order to avoid crashing it.\n",
      "To change this limit, set the config variable\n",
      "`--NotebookApp.iopub_msg_rate_limit`.\n",
      "\n",
      "Current values:\n",
      "NotebookApp.iopub_msg_rate_limit=1000.0 (msgs/sec)\n",
      "NotebookApp.rate_limit_window=3.0 (secs)\n",
      "\n"
     ]
    },
    {
     "name": "stdout",
     "output_type": "stream",
     "text": [
      "7638/8101 [===========================>..] - ETA: 1:48 - loss: 0.2533 - auc: 0.8584 - precision: 0.7190 - recall: 0.5189 - f2_score: 0.5494 - binary_accuracy: 0.8946 - accuracy_enlarged_cardiomediastinum: 0.9181 - accuracy_cardiomegaly: 0.9045 - accuracy_lung_opacity: 0.6949 - accuracy_lung_lesion: 0.9374 - accuracy_edema: 0.8373 - accuracy_consolidation: 0.9353 - accuracy_pneumonia: 0.9733 - accuracy_atelectasis: 0.8557 - accuracy_pneumothorax: 0.9335 - accuracy_pleural_effusion: 0.8285 - accuracy_pleural_other: 0.9767 - accuracy_fracture: 0.9405 - auc_enlarged_cardiomediastinum: 0.8214 - auc_cardiomegaly: 0.8824 - auc_lung_opacity: 0.7645 - auc_lung_lesion: 0.8948 - auc_edema: 0.8767 - auc_consolidation: 0.7795 - auc_pneumonia: 0.7993 - auc_atelectasis: 0.7455 - auc_pneumothorax: 0.9077 - auc_pleural_effusion: 0.9045 - auc_pleural_other: 0.9726 - auc_fracture: 0.9517 - precision_enlarged_cardiomediastinum: 0.7945 - precision_cardiomegaly: 0.6817 - precision_lung_opacity: 0.6677 - precision_lung_lesion: 0.7827 - precision_edema: 0.6611 - precision_consolidation: 0.7012 - precision_pneumonia: 0.6514 - precision_atelectasis: 0.5934 - precision_pneumothorax: 0.7259 - precision_pleural_effusion: 0.7672 - precision_pleural_other: 0.8805 - precision_fracture: 0.8352 - recall_enlarged_cardiomediastinum: 0.2040 - recall_cardiomegaly: 0.3520 - recall_lung_opacity: 0.7076 - recall_lung_lesion: 0.3260 - recall_edema: 0.4953 - recall_consolidation: 0.0190 - recall_pneumonia: 0.0017 - recall_atelectasis: 0.0330 - recall_pneumothorax: 0.3867 - recall_pleural_effusion: 0.7698 - recall_pleural_other: 0.6408 - recall_fracture: 0.6151 - f2_score_enlarged_cardiomediastinum: 0.2395 - f2_score_cardiomegaly: 0.3897 - f2_score_lung_opacity: 0.6992 - f2_score_lung_lesion: 0.3690 - f2_score_edema: 0.5215 - f2_score_consolidation: 0.0235 - f2_score_pneumonia: 0.0021 - f2_score_atelectasis: 0.0407 - f2_score_pneumothorax: 0.4265 - f2_score_pleural_effusion: 0.7692 - f2_score_pleural_other: 0.6776 - f2_score_fracture: 0.6491 - learning rate: 0.0500"
     ]
    }
   ],
   "source": [
    "bce_chexpert_exp.train()"
   ]
  },
  {
   "cell_type": "code",
   "execution_count": null,
   "metadata": {},
   "outputs": [],
   "source": [
    "bce_chexpert_exp.evaluate()"
   ]
  },
  {
   "cell_type": "code",
   "execution_count": null,
   "metadata": {},
   "outputs": [],
   "source": [
    "bce_chexpert_exp.save()"
   ]
  },
  {
   "cell_type": "code",
   "execution_count": null,
   "metadata": {},
   "outputs": [],
   "source": []
  },
  {
   "cell_type": "code",
   "execution_count": null,
   "metadata": {},
   "outputs": [],
   "source": [
    "compute_class_weight(bce_chexpert_exp.benchmark.traingen)"
   ]
  },
  {
   "cell_type": "code",
   "execution_count": null,
   "metadata": {},
   "outputs": [],
   "source": [
    "trained_weights = bce_chexpert_exp.model.get_weights()"
   ]
  },
  {
   "cell_type": "code",
   "execution_count": null,
   "metadata": {},
   "outputs": [],
   "source": [
    "images, labels = bce_chexpert_exp.benchmark.traingen[0]\n",
    "len(images)"
   ]
  },
  {
   "cell_type": "code",
   "execution_count": null,
   "metadata": {},
   "outputs": [],
   "source": [
    "preds = bce_chexpert_exp.model(images, training=True)\n",
    "preds.op"
   ]
  },
  {
   "cell_type": "code",
   "execution_count": null,
   "metadata": {},
   "outputs": [],
   "source": [
    "bce_chexpert_exp.model.summary(line_length=150)"
   ]
  },
  {
   "cell_type": "code",
   "execution_count": null,
   "metadata": {},
   "outputs": [],
   "source": [
    "index = -1\n",
    "trained_weights[index].shape, trained_weights[index], np.isnan(trained_weights[index]).any()"
   ]
  },
  {
   "cell_type": "code",
   "execution_count": null,
   "metadata": {},
   "outputs": [],
   "source": [
    "nan_layers = [i for i in range(len(trained_weights)) if np.isnan(trained_weights[i]).any()] \n",
    "#nan_layers   "
   ]
  },
  {
   "cell_type": "code",
   "execution_count": null,
   "metadata": {},
   "outputs": [],
   "source": [
    "mean_weights = {i:np.abs(trained_weights[i]).mean() for i in range(len(trained_weights))}\n",
    "#mean_weights"
   ]
  },
  {
   "cell_type": "code",
   "execution_count": null,
   "metadata": {},
   "outputs": [],
   "source": [
    "{i:trained_weights[i].shape for i in range(len(trained_weights))}"
   ]
  },
  {
   "cell_type": "code",
   "execution_count": null,
   "metadata": {},
   "outputs": [],
   "source": [
    "for i in range(191, 195):\n",
    "    print(i, trained_weights[i].shape, trained_weights[i])"
   ]
  },
  {
   "cell_type": "code",
   "execution_count": null,
   "metadata": {},
   "outputs": [],
   "source": [
    "#chexpert_exp.save()"
   ]
  },
  {
   "cell_type": "code",
   "execution_count": null,
   "metadata": {},
   "outputs": [],
   "source": [
    "from datetime import datetime\n",
    "model_filename = chexpert_exp.model_name + \"_\" + datetime.now().strftime(\"%Y%m%d-%H%M%S\")\n",
    "model_filename_tf = model_filename + \".tf\"\n",
    "model_filename_h5 = model_filename + \".h5\"\n",
    "model_filename"
   ]
  },
  {
   "cell_type": "code",
   "execution_count": null,
   "metadata": {},
   "outputs": [],
   "source": [
    "folderpath = Path(os.getcwd()) / 'models' / chexpert_exp.model_name\n",
    "path = folderpath / model_filename\n",
    "path"
   ]
  },
  {
   "cell_type": "code",
   "execution_count": null,
   "metadata": {},
   "outputs": [],
   "source": [
    "# make sure path exists, ceate one if necessary\n",
    "Path(folderpath).mkdir(parents=True, exist_ok=True)\n",
    "chexpert_exp.model.save(path, save_format=\"tf\")"
   ]
  },
  {
   "cell_type": "code",
   "execution_count": null,
   "metadata": {},
   "outputs": [],
   "source": [
    "# make sure path exists, ceate one if necessary\n",
    "Path(folderpath).mkdir(parents=True, exist_ok=True)\n",
    "chexpert_exp.model.save(folderpath / model_filename_h5, save_format=\"h5\")"
   ]
  },
  {
   "cell_type": "code",
   "execution_count": null,
   "metadata": {},
   "outputs": [],
   "source": [
    "!pwd"
   ]
  },
  {
   "cell_type": "code",
   "execution_count": null,
   "metadata": {},
   "outputs": [],
   "source": [
    "folderpath / model_filename_h5"
   ]
  },
  {
   "cell_type": "code",
   "execution_count": null,
   "metadata": {},
   "outputs": [],
   "source": [
    "chexpert_exp.save()"
   ]
  },
  {
   "cell_type": "code",
   "execution_count": null,
   "metadata": {},
   "outputs": [],
   "source": [
    "chexpert_exp.evaluate()"
   ]
  },
  {
   "cell_type": "code",
   "execution_count": null,
   "metadata": {},
   "outputs": [],
   "source": [
    "testgen = chexpert_benchmarks[\"BCE_E1_B32_C0_N5_D256_DS0595_savetest7\"].testgen"
   ]
  },
  {
   "cell_type": "code",
   "execution_count": null,
   "metadata": {},
   "outputs": [],
   "source": [
    "preds = chexpert_exp.model.predict(testgen, steps=len(testgen), verbose=1)"
   ]
  },
  {
   "cell_type": "code",
   "execution_count": null,
   "metadata": {},
   "outputs": [],
   "source": [
    "import numpy as np\n",
    "from sklearn.metrics import classification_report\n",
    "from tensorflow.keras.metrics import Precision, Recall\n",
    "from tensorflow.keras import models\n",
    "import json\n",
    "from src.architectures.benchmarks.benchmark import Benchmark, Experiment\n",
    "from pathlib import Path\n",
    "from keras.utils.generic_utils import get_custom_objects\n",
    "from src.metrics.losses import WeightedBinaryCrossentropy, compute_class_weight\n",
    "\n",
    "\n",
    "groundtruth_label = testgen.get_labels_nonan()\n",
    "thresholds = [0.5]\n",
    "for t in thresholds:\n",
    "    print('current threshold: ', t)\n",
    "    predictions_bool = (preds >= t)\n",
    "    y_pred = np.array(predictions_bool, dtype=int)\n",
    "\n",
    "    # report = classification_report(groundtruth_label, y_pred, target_names=list(CHEXPERT_BENCHMARKS['WBCE_E5_B32_C0'].label_columns))\n",
    "    # print('sklearn report: ', report)\n",
    "    \n",
    "    pre = Precision(thresholds=t)\n",
    "    pre.update_state(groundtruth_label, predictions_bool)\n",
    "    print('TF Precision: ', pre.result())\n",
    "    pre.reset_states()\n",
    "    \n",
    "    rec = Recall(thresholds=t)\n",
    "    rec.update_state(groundtruth_label, predictions_bool)\n",
    "    print('TF Recall: ', rec.result())\n",
    "    rec.reset_states()"
   ]
  },
  {
   "cell_type": "code",
   "execution_count": null,
   "metadata": {
    "pycharm": {
     "name": "#%%\n"
    }
   },
   "outputs": [],
   "source": [
    "report = classification_report(groundtruth_label, y_pred, target_names=chexpert_benchmarks[\"BCE_E1_B32_C0_N5_D256_DS0595_savetest7\"].label_columns)\n",
    "print('sklearn report: ', report)"
   ]
  },
  {
   "cell_type": "code",
   "execution_count": null,
   "metadata": {},
   "outputs": [],
   "source": []
  },
  {
   "cell_type": "code",
   "execution_count": null,
   "metadata": {},
   "outputs": [],
   "source": [
    "model = tf.keras.models.load_model('models/DenseNet121_Chexpert_BCE_E1_B32_C0_N5_D256_DS0595_savetest7/DenseNet121_Chexpert_BCE_E1_B32_C0_N5_D256_DS0595_savetest7_20200819-125620.h5', compile=False)"
   ]
  },
  {
   "cell_type": "code",
   "execution_count": null,
   "metadata": {},
   "outputs": [],
   "source": [
    "predstwo = model.predict(testgen, steps=len(testgen), verbose=1)"
   ]
  },
  {
   "cell_type": "code",
   "execution_count": null,
   "metadata": {},
   "outputs": [],
   "source": [
    "groundtruth_label = testgen.get_labels_nonan()\n",
    "predictions_bool = (predstwo >= t)\n",
    "y_pred = np.array(predictions_bool, dtype=int)\n",
    "report = classification_report(groundtruth_label, y_pred, target_names=chexpert_benchmarks[\"BCE_E1_B32_C0_N5_D256_DS0595_savetest7\"].label_columns)\n",
    "print('sklearn report: ', report)"
   ]
  },
  {
   "cell_type": "code",
   "execution_count": null,
   "metadata": {},
   "outputs": [],
   "source": []
  },
  {
   "cell_type": "code",
   "execution_count": null,
   "metadata": {},
   "outputs": [],
   "source": [
    "\"test.h5\".replace(\".h5\", \"\")"
   ]
  },
  {
   "cell_type": "code",
   "execution_count": null,
   "metadata": {},
   "outputs": [],
   "source": []
  },
  {
   "cell_type": "code",
   "execution_count": null,
   "metadata": {},
   "outputs": [],
   "source": []
  },
  {
   "cell_type": "code",
   "execution_count": null,
   "metadata": {},
   "outputs": [],
   "source": []
  },
  {
   "cell_type": "code",
   "execution_count": null,
   "metadata": {},
   "outputs": [],
   "source": []
  },
  {
   "cell_type": "code",
   "execution_count": null,
   "metadata": {},
   "outputs": [],
   "source": []
  },
  {
   "cell_type": "code",
   "execution_count": null,
   "metadata": {},
   "outputs": [],
   "source": []
  },
  {
   "cell_type": "code",
   "execution_count": null,
   "metadata": {},
   "outputs": [],
   "source": []
  },
  {
   "cell_type": "code",
   "execution_count": null,
   "metadata": {},
   "outputs": [],
   "source": []
  },
  {
   "cell_type": "code",
   "execution_count": null,
   "metadata": {},
   "outputs": [],
   "source": []
  },
  {
   "cell_type": "code",
   "execution_count": null,
   "metadata": {},
   "outputs": [],
   "source": []
  },
  {
   "cell_type": "code",
   "execution_count": null,
   "metadata": {},
   "outputs": [],
   "source": [
    "# model_guendel_chestxray14 = densenet(classes=len(CHESTXRAY14_COLUMNS))\n",
    "model_guendel_chexpert = densenet(classes=len(CHEXPERT_COLUMNS))\n",
    "\n",
    "#experiment_guendel_chestxray14 = Experiment(chestxray14_benchmark, model_guendel_chestxray14)\n",
    "experiment_guendel_chexpert = Experiment(CHEXPERT_BENCHMARKS[\"WBCE_E10_B32\"], model_guendel_chexpert, model_name=\"test_WBCE_32\")\n",
    "\n"
   ]
  },
  {
   "cell_type": "code",
   "execution_count": null,
   "metadata": {},
   "outputs": [],
   "source": [
    "#experiment_guendel_chestxray14_result =  experiment_guendel_chestxray14.run()"
   ]
  },
  {
   "cell_type": "code",
   "execution_count": null,
   "metadata": {},
   "outputs": [],
   "source": [
    "experiment_guendel_chexpert_result =  experiment_guendel_chexpert.run()"
   ]
  },
  {
   "cell_type": "code",
   "execution_count": null,
   "metadata": {},
   "outputs": [],
   "source": [
    "experiment_guendel_chexpert.evaluate()"
   ]
  },
  {
   "cell_type": "code",
   "execution_count": null,
   "metadata": {},
   "outputs": [],
   "source": [
    "experiment_guendel_chexpert.save(upload=False)"
   ]
  },
  {
   "cell_type": "code",
   "execution_count": null,
   "metadata": {},
   "outputs": [],
   "source": [
    "print(\"done\")"
   ]
  },
  {
   "cell_type": "code",
   "execution_count": null,
   "metadata": {},
   "outputs": [],
   "source": [
    "CHEXPERT_BENCHMARKS[\"WBCE_E10_B32\"].as_dict()"
   ]
  },
  {
   "cell_type": "code",
   "execution_count": null,
   "metadata": {},
   "outputs": [],
   "source": []
  },
  {
   "cell_type": "code",
   "execution_count": null,
   "metadata": {},
   "outputs": [],
   "source": [
    "import numpy as np\n",
    "import tensorflow as tf\n",
    "from tensorflow.keras.losses import Loss\n",
    "from tensorflow.python.ops.losses import util as tf_losses_util\n",
    "from tensorflow.python.framework import tensor_util\n",
    "from tensorflow.python.framework import constant_op\n",
    "from tensorflow.python.ops import math_ops\n",
    "from tensorflow.python.ops import clip_ops\n",
    "from tensorflow.python.keras import backend_config"
   ]
  },
  {
   "cell_type": "code",
   "execution_count": null,
   "metadata": {},
   "outputs": [],
   "source": [
    "weights_pos = tf.ones((4)) * 20.0\n",
    "weights_neg = tf.ones((4)) * 0.5\n",
    "y_true = tf.constant([[0, -1, -1, 1], [-1, 0, -1, -1]], dtype=tf.float32)\n",
    "y_pred = tf.constant([[0.1, 0.2, 0.3, 0.4], [0.5, 0.6, 0.7, 0.8]])\n",
    "loss = tf.keras.losses.binary_crossentropy(y_true, y_pred)\n",
    "loss"
   ]
  },
  {
   "cell_type": "code",
   "execution_count": null,
   "metadata": {},
   "outputs": [],
   "source": [
    "y_true = tf.constant(y_true, dtype=tf.float32)\n",
    "y_true"
   ]
  },
  {
   "cell_type": "code",
   "execution_count": null,
   "metadata": {},
   "outputs": [],
   "source": [
    "y_pred = tf.constant(y_pred)\n",
    "y_pred"
   ]
  },
  {
   "cell_type": "code",
   "execution_count": null,
   "metadata": {},
   "outputs": [],
   "source": [
    "if tensor_util.is_tensor(y_pred) and tensor_util.is_tensor(y_true):\n",
    "    y_pred, y_true = tf_losses_util.squeeze_or_expand_dimensions(\n",
    "        y_pred, y_true)\n",
    "\n",
    "epsilon_ = constant_op.constant(\n",
    "     backend_config.epsilon(), dtype=y_pred.dtype.base_dtype)\n",
    "y_pred = clip_ops.clip_by_value(y_pred, epsilon_, 1. - epsilon_)"
   ]
  },
  {
   "cell_type": "code",
   "execution_count": null,
   "metadata": {},
   "outputs": [],
   "source": [
    "mask = tf.cast(tf.math.greater_equal(y_true, 0), tf.float32)\n",
    "\n",
    "# Compute cross entropy from probabilities.\n",
    "bce_pos = y_true * math_ops.log(y_pred + epsilon_)\n",
    "bce_neg = (1 - y_true) * math_ops.log(1 - y_pred + epsilon_)\n",
    "\n",
    "bce_pos = tf.math.multiply_no_nan(bce_pos, mask)\n",
    "bce_neg = tf.math.multiply_no_nan(bce_neg, mask)\n",
    "\n",
    "bce = bce_pos * weights_pos + \\\n",
    "    bce_neg * weights_neg\n",
    "\n",
    "loss = tf.reduce_sum(-bce) / tf.reduce_sum(mask)\n",
    "loss"
   ]
  },
  {
   "cell_type": "code",
   "execution_count": null,
   "metadata": {},
   "outputs": [],
   "source": [
    "tf.reduce_sum(mask)"
   ]
  },
  {
   "cell_type": "code",
   "execution_count": null,
   "metadata": {},
   "outputs": [],
   "source": []
  },
  {
   "cell_type": "code",
   "execution_count": null,
   "metadata": {},
   "outputs": [],
   "source": [
    "bce_neg"
   ]
  },
  {
   "cell_type": "code",
   "execution_count": null,
   "metadata": {},
   "outputs": [],
   "source": [
    "bce"
   ]
  },
  {
   "cell_type": "code",
   "execution_count": null,
   "metadata": {},
   "outputs": [],
   "source": [
    "\n",
    "from tensorflow.keras import backend as K\n"
   ]
  },
  {
   "cell_type": "code",
   "execution_count": null,
   "metadata": {},
   "outputs": [],
   "source": []
  },
  {
   "cell_type": "code",
   "execution_count": null,
   "metadata": {},
   "outputs": [],
   "source": []
  },
  {
   "cell_type": "code",
   "execution_count": null,
   "metadata": {},
   "outputs": [],
   "source": []
  },
  {
   "cell_type": "code",
   "execution_count": null,
   "metadata": {},
   "outputs": [],
   "source": []
  },
  {
   "cell_type": "code",
   "execution_count": null,
   "metadata": {},
   "outputs": [],
   "source": []
  },
  {
   "cell_type": "code",
   "execution_count": null,
   "metadata": {},
   "outputs": [],
   "source": []
  },
  {
   "cell_type": "code",
   "execution_count": null,
   "metadata": {},
   "outputs": [],
   "source": []
  },
  {
   "cell_type": "code",
   "execution_count": null,
   "metadata": {},
   "outputs": [],
   "source": []
  },
  {
   "cell_type": "code",
   "execution_count": null,
   "metadata": {},
   "outputs": [],
   "source": []
  },
  {
   "cell_type": "code",
   "execution_count": null,
   "metadata": {},
   "outputs": [],
   "source": []
  },
  {
   "cell_type": "code",
   "execution_count": null,
   "metadata": {},
   "outputs": [],
   "source": []
  },
  {
   "cell_type": "code",
   "execution_count": null,
   "metadata": {},
   "outputs": [],
   "source": []
  },
  {
   "cell_type": "code",
   "execution_count": null,
   "metadata": {},
   "outputs": [],
   "source": []
  },
  {
   "cell_type": "code",
   "execution_count": null,
   "metadata": {},
   "outputs": [],
   "source": []
  }
 ],
 "metadata": {
  "kernelspec": {
   "display_name": "Python 3",
   "language": "python",
   "name": "python3"
  },
  "language_info": {
   "codemirror_mode": {
    "name": "ipython",
    "version": 3
   },
   "file_extension": ".py",
   "mimetype": "text/x-python",
   "name": "python",
   "nbconvert_exporter": "python",
   "pygments_lexer": "ipython3",
   "version": "3.6.9"
  },
  "pycharm": {
   "stem_cell": {
    "cell_type": "raw",
    "metadata": {
     "collapsed": false
    },
    "source": []
   }
  }
 },
 "nbformat": 4,
 "nbformat_minor": 4
}
