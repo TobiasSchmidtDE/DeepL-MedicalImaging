{
 "cells": [
  {
   "cell_type": "code",
   "execution_count": 1,
   "metadata": {
    "pycharm": {
     "name": "#%%\n"
    }
   },
   "outputs": [
    {
     "data": {
      "text/plain": [
       "'/srv/idp-radio-1'"
      ]
     },
     "execution_count": 1,
     "metadata": {},
     "output_type": "execute_result"
    }
   ],
   "source": [
    "import os \n",
    "import datetime\n",
    "from pathlib import Path\n",
    "from dotenv import load_dotenv, find_dotenv\n",
    "\n",
    "basepath = Path(os.getcwd())\n",
    "# make sure your working directory is the repository root.\n",
    "if basepath.name != \"idp-radio-1\":\n",
    "    os.chdir(basepath.parent.parent.parent)\n",
    "load_dotenv(find_dotenv())\n",
    "\n",
    "%load_ext autoreload\n",
    "%autoreload 2\n",
    "os.getcwd()"
   ]
  },
  {
   "cell_type": "code",
   "execution_count": 2,
   "metadata": {
    "pycharm": {
     "is_executing": false
    }
   },
   "outputs": [],
   "source": [
    "import os \n",
    "import tensorflow as tf\n",
    "from pathlib import Path"
   ]
  },
  {
   "cell_type": "code",
   "execution_count": 3,
   "metadata": {},
   "outputs": [
    {
     "name": "stdout",
     "output_type": "stream",
     "text": [
      "Device mapping:\n",
      "/job:localhost/replica:0/task:0/device:XLA_CPU:0 -> device: XLA_CPU device\n",
      "/job:localhost/replica:0/task:0/device:XLA_GPU:0 -> device: XLA_GPU device\n",
      "/job:localhost/replica:0/task:0/device:GPU:0 -> device: 0, name: GeForce RTX 2080 Ti, pci bus id: 0000:42:00.0, compute capability: 7.5\n",
      "\n"
     ]
    },
    {
     "data": {
      "text/plain": [
       "<tensorflow.python.client.session.Session at 0x7f26cc063400>"
      ]
     },
     "execution_count": 3,
     "metadata": {},
     "output_type": "execute_result"
    }
   ],
   "source": [
    "# Run this before loading other dependencies, otherwise they might occupy memory on gpu 0 by default and it will stay that way\n",
    "\n",
    "# Specify which GPU(s) to use\n",
    "os.environ[\"CUDA_VISIBLE_DEVICES\"] = \"1\"  # Or 2, 3, etc. other than 0\n",
    "\n",
    "config = tf.compat.v1.ConfigProto(allow_soft_placement=True, log_device_placement=True)\n",
    "config.gpu_options.allow_growth = True\n",
    "tf.compat.v1.Session(config=config)\n"
   ]
  },
  {
   "cell_type": "code",
   "execution_count": 4,
   "metadata": {},
   "outputs": [],
   "source": [
    "from tensorflow.keras.applications.inception_v3 import InceptionV3\n",
    "from tensorflow.keras.applications.densenet import DenseNet121\n",
    "from tensorflow.keras.applications.resnet_v2 import ResNet101V2\n",
    "from src.architectures.simple.simple_base import SimpleBaseArchitecture\n",
    "from src.architectures.adv.guendel19 import densenet\n",
    "\n",
    "from src.architectures.benchmarks.benchmark import Benchmark, Experiment\n",
    "from src.architectures.benchmarks.benchmark_definitions import Chexpert_Benchmark, Chestxray14_Benchmark, simple_architecture_experiment, generate_benchmarks, METRICS, CHEXPERT_COLUMNS, CHESTXRAY14_COLUMNS\n",
    "from src.metrics.metrics import F2Score\n",
    "from src.metrics.losses import WeightedBinaryCrossentropy, compute_class_weight"
   ]
  },
  {
   "cell_type": "code",
   "execution_count": 5,
   "metadata": {},
   "outputs": [],
   "source": [
    "#CHEXPERT_BENCHMARKS, CHESTXRAY14_BENCHMARKS = generate_benchmarks ()"
   ]
  },
  {
   "cell_type": "code",
   "execution_count": null,
   "metadata": {},
   "outputs": [],
   "source": [
    "#CHEXPERT_BENCHMARKS.keys() "
   ]
  },
  {
   "cell_type": "code",
   "execution_count": null,
   "metadata": {},
   "outputs": [],
   "source": [
    "#CHESTXRAY14_BENCHMARKS.keys()"
   ]
  },
  {
   "cell_type": "code",
   "execution_count": null,
   "metadata": {},
   "outputs": [],
   "source": [
    "#[m.name for m in METRICS]"
   ]
  },
  {
   "cell_type": "code",
   "execution_count": null,
   "metadata": {},
   "outputs": [],
   "source": [
    "#CHEXPERT_COLUMNS"
   ]
  },
  {
   "cell_type": "code",
   "execution_count": null,
   "metadata": {},
   "outputs": [],
   "source": [
    "!remote_access/get_tunnels.sh"
   ]
  },
  {
   "cell_type": "code",
   "execution_count": null,
   "metadata": {},
   "outputs": [],
   "source": []
  },
  {
   "cell_type": "code",
   "execution_count": 6,
   "metadata": {},
   "outputs": [
    {
     "data": {
      "text/plain": [
       "12"
      ]
     },
     "execution_count": 6,
     "metadata": {},
     "output_type": "execute_result"
    }
   ],
   "source": [
    "reduced_columns = ['Enlarged Cardiomediastinum',\n",
    "                    'Cardiomegaly',\n",
    "                    'Lung Opacity',\n",
    "                    'Lung Lesion',\n",
    "                    'Edema',\n",
    "                    'Consolidation',\n",
    "                    'Pneumonia',\n",
    "                    'Atelectasis',\n",
    "                    'Pneumothorax',\n",
    "                    'Pleural Effusion',\n",
    "                    'Pleural Other',\n",
    "                    'Fracture']\n",
    "len(reduced_columns)"
   ]
  },
  {
   "cell_type": "code",
   "execution_count": 7,
   "metadata": {},
   "outputs": [
    {
     "name": "stdout",
     "output_type": "stream",
     "text": [
      "Chestxray_BCE_E12_B32_C1_N12 could not be created\n",
      "Chestxray_WBCE_E12_B32_C1_N12 could not be created\n",
      "Chestxray_CWBCE_E12_B32_C1_N12 could not be created\n"
     ]
    }
   ],
   "source": [
    "chexpert_benchmarks, _ = generate_benchmarks(path = Path(os.environ.get(\"CHEXPERT_FULL_PREPROCESSED_DATASET_DIRECTORY\")),\n",
    "                                                 classes=reduced_columns,\n",
    "                                                 #train_labels = \"nofinding_train.csv\",\n",
    "                                                 batch_sizes = {\"b\": 32},\n",
    "                                                 epoch_sizes = {\"e\": 12},\n",
    "                                                 crop = {\"C1\": False},\n",
    "                                                 nan_replacement = float(\"NaN\"),\n",
    "                                                 split_seed = 6122156, )"
   ]
  },
  {
   "cell_type": "code",
   "execution_count": null,
   "metadata": {},
   "outputs": [],
   "source": [
    "chexpert_exp = simple_architecture_experiment(chexpert_benchmarks[\"CWBCE_E12_B32_C1_N12\"], DenseNet121, reduced_columns)"
   ]
  },
  {
   "cell_type": "code",
   "execution_count": 8,
   "metadata": {},
   "outputs": [],
   "source": [
    "mymodel = SimpleBaseArchitecture(DenseNet121, len(reduced_columns))"
   ]
  },
  {
   "cell_type": "code",
   "execution_count": 10,
   "metadata": {},
   "outputs": [
    {
     "data": {
      "text/plain": [
       "<tensorflow.python.keras.optimizer_v2.adam.Adam at 0x7f26bdfc8cf8>"
      ]
     },
     "execution_count": 10,
     "metadata": {},
     "output_type": "execute_result"
    }
   ],
   "source": [
    "optim = chexpert_benchmarks[\"CWBCE_E12_B32_C1_N12\"].optimizer\n",
    "optim"
   ]
  },
  {
   "cell_type": "code",
   "execution_count": 11,
   "metadata": {},
   "outputs": [
    {
     "data": {
      "text/plain": [
       "<src.metrics.losses.WeightedBinaryCrossentropy at 0x7f236c09ddd8>"
      ]
     },
     "execution_count": 11,
     "metadata": {},
     "output_type": "execute_result"
    }
   ],
   "source": [
    "loss = chexpert_benchmarks[\"CWBCE_E12_B32_C1_N12\"].loss\n",
    "loss"
   ]
  },
  {
   "cell_type": "code",
   "execution_count": 12,
   "metadata": {},
   "outputs": [
    {
     "data": {
      "text/plain": [
       "[<tensorflow.python.keras.metrics.AUC at 0x7f26bcb33b00>,\n",
       " <tensorflow.python.keras.metrics.Precision at 0x7f25e41948d0>,\n",
       " <tensorflow.python.keras.metrics.Recall at 0x7f26bc8da4e0>,\n",
       " <src.metrics.metrics.F2Score at 0x7f26bc8da748>,\n",
       " <tensorflow.python.keras.metrics.BinaryAccuracy at 0x7f26bc88c320>]"
      ]
     },
     "execution_count": 12,
     "metadata": {},
     "output_type": "execute_result"
    }
   ],
   "source": [
    "metrics = chexpert_benchmarks[\"CWBCE_E12_B32_C1_N12\"].metrics\n",
    "metrics"
   ]
  },
  {
   "cell_type": "code",
   "execution_count": 13,
   "metadata": {},
   "outputs": [],
   "source": [
    "mymodel.compile(optimizer=optim,\n",
    "               loss=loss,\n",
    "               metrics=metrics)"
   ]
  },
  {
   "cell_type": "code",
   "execution_count": null,
   "metadata": {},
   "outputs": [],
   "source": [
    "train_result = mymodel.fit(x=traingen,\n",
    "                           steps_per_epoch=len(traingen),\n",
    "                           epochs=2,)"
   ]
  },
  {
   "cell_type": "code",
   "execution_count": 14,
   "metadata": {},
   "outputs": [
    {
     "data": {
      "text/plain": [
       "array([[nan, nan,  1., nan, nan, nan, nan, nan,  0.,  1., nan, nan],\n",
       "       [nan,  1.,  1., nan,  0., nan, nan, nan, nan,  1., nan, nan],\n",
       "       [nan, nan,  1., nan, nan, nan, nan,  1., nan,  1., nan, nan],\n",
       "       [nan, nan,  1., nan, nan, nan, nan, nan, nan,  0.,  0., nan],\n",
       "       [nan,  1.,  0., nan, nan,  0., nan,  0., nan,  1., nan, nan],\n",
       "       [ 0., nan,  0., nan,  0., nan, nan, nan, nan,  0., nan, nan],\n",
       "       [nan,  1.,  0., nan, nan,  1., nan,  0.,  0., nan, nan,  0.],\n",
       "       [nan, nan,  1., nan, nan,  0., nan,  0., nan, nan, nan, nan],\n",
       "       [nan, nan, nan, nan, nan, nan, nan,  1.,  0., nan, nan, nan],\n",
       "       [nan,  1.,  1., nan, nan, nan, nan, nan, nan,  1., nan, nan],\n",
       "       [nan, nan,  1.,  1., nan, nan, nan, nan,  0.,  0., nan, nan],\n",
       "       [nan, nan, nan, nan,  1.,  1., nan, nan, nan, nan, nan, nan],\n",
       "       [ 0., nan,  1., nan, nan, nan, nan, nan, nan,  1., nan, nan],\n",
       "       [nan, nan,  1., nan,  1., nan, nan, nan,  0.,  1., nan, nan],\n",
       "       [nan, nan, nan, nan, nan, nan, nan, nan,  1., nan, nan, nan],\n",
       "       [nan, nan,  1., nan, nan,  0., nan,  0., nan, nan, nan, nan],\n",
       "       [nan, nan, nan, nan, nan, nan,  0., nan, nan, nan, nan, nan],\n",
       "       [ 1., nan,  1., nan,  1., nan, nan,  1.,  0.,  0., nan, nan],\n",
       "       [ 0., nan, nan, nan, nan, nan, nan, nan, nan,  0., nan, nan],\n",
       "       [nan, nan, nan, nan, nan, nan, nan, nan,  1.,  1., nan,  1.],\n",
       "       [nan, nan, nan, nan, nan, nan, nan, nan,  0., nan, nan,  1.],\n",
       "       [nan, nan,  1., nan, nan, nan, nan, nan,  0.,  1., nan, nan],\n",
       "       [nan, nan,  1., nan, nan, nan, nan, nan,  0.,  1., nan,  1.],\n",
       "       [nan, nan, nan, nan,  1., nan, nan,  1., nan, nan, nan, nan],\n",
       "       [nan, nan, nan, nan, nan,  0., nan, nan, nan,  0., nan,  1.],\n",
       "       [nan, nan,  0., nan, nan, nan, nan, nan,  0., nan, nan,  1.],\n",
       "       [ 0., nan,  1., nan,  0., nan, nan, nan, nan,  1., nan, nan],\n",
       "       [nan, nan, nan, nan, nan,  0., nan,  0., nan,  1., nan, nan],\n",
       "       [nan,  0.,  1., nan, nan, nan, nan, nan,  0.,  1., nan, nan],\n",
       "       [nan, nan,  1.,  1.,  0., nan,  0., nan, nan, nan, nan, nan],\n",
       "       [nan, nan, nan, nan, nan, nan, nan,  0., nan,  1., nan, nan],\n",
       "       [nan, nan,  0., nan, nan, nan, nan, nan, nan,  1., nan, nan]])"
      ]
     },
     "execution_count": 14,
     "metadata": {},
     "output_type": "execute_result"
    }
   ],
   "source": [
    "traingen = chexpert_benchmarks[\"BCE_E12_B32_C1_N12\"].traingen\n",
    "first_batch, ytrue = traingen[0]\n",
    "ytrue"
   ]
  },
  {
   "cell_type": "code",
   "execution_count": 19,
   "metadata": {
    "pycharm": {
     "name": "#%%\n"
    }
   },
   "outputs": [
    {
     "data": {
      "text/plain": [
       "array([[5.00154644e-02, 2.03672081e-01, 9.72444296e-01, 9.65218306e-01,\n",
       "        8.58597457e-01, 2.55264696e-02, 9.96382833e-01, 8.19808993e-05,\n",
       "        1.34775907e-01, 9.84337151e-01, 9.88545597e-01, 7.58847222e-04],\n",
       "       [3.10931890e-03, 9.12559256e-02, 9.74691689e-01, 9.26402509e-01,\n",
       "        8.47091138e-01, 4.27976474e-02, 9.97799098e-01, 6.27276449e-06,\n",
       "        2.02304974e-01, 9.83514428e-01, 9.79969919e-01, 2.89483345e-04],\n",
       "       [3.30315940e-02, 9.97245014e-02, 9.94085670e-01, 5.66407263e-01,\n",
       "        8.15448701e-01, 3.94033827e-02, 9.87719297e-01, 2.44019539e-05,\n",
       "        2.52821714e-01, 9.17831898e-01, 9.36409354e-01, 1.60817010e-03],\n",
       "       [6.55725040e-03, 7.21208528e-02, 9.39567924e-01, 9.14177418e-01,\n",
       "        8.01517487e-01, 6.69262186e-02, 9.98201489e-01, 2.21702605e-04,\n",
       "        5.49355447e-01, 9.88143861e-01, 9.40692544e-01, 1.32368412e-03],\n",
       "       [4.18927614e-03, 2.18521968e-01, 9.82300341e-01, 9.52544630e-01,\n",
       "        9.61109161e-01, 7.78625086e-02, 9.96241689e-01, 7.68353275e-05,\n",
       "        4.39741611e-01, 9.90859210e-01, 9.09940243e-01, 8.71542026e-04],\n",
       "       [2.61679981e-02, 1.20154522e-01, 9.51519132e-01, 9.61352706e-01,\n",
       "        8.84395957e-01, 4.71958853e-02, 9.97061431e-01, 5.05575699e-05,\n",
       "        9.13703516e-02, 9.87330735e-01, 9.90586340e-01, 4.73267282e-04],\n",
       "       [9.36627295e-03, 5.46559334e-01, 9.03179049e-01, 9.76883709e-01,\n",
       "        7.90240824e-01, 1.88578472e-01, 9.92273510e-01, 1.34533751e-04,\n",
       "        1.92698956e-01, 9.71884906e-01, 9.23532248e-01, 1.29981188e-03],\n",
       "       [1.20338416e-02, 2.63851345e-01, 9.26429212e-01, 8.82200837e-01,\n",
       "        8.47800434e-01, 2.30571553e-01, 9.93241191e-01, 2.64448812e-04,\n",
       "        8.78513679e-02, 9.74042714e-01, 7.77354777e-01, 2.91760522e-03],\n",
       "       [4.24943566e-02, 1.39888406e-01, 9.66449738e-01, 9.76751983e-01,\n",
       "        9.24387753e-01, 9.32868943e-02, 9.97795939e-01, 3.40293955e-05,\n",
       "        1.14077725e-01, 9.95979667e-01, 9.52318072e-01, 1.49568939e-03],\n",
       "       [2.15666946e-02, 2.17412725e-01, 8.62568378e-01, 9.03338850e-01,\n",
       "        7.51654446e-01, 3.13664004e-02, 9.87079024e-01, 5.55924547e-04,\n",
       "        2.52161503e-01, 9.66520369e-01, 9.38435972e-01, 4.77864314e-03],\n",
       "       [1.27309645e-02, 5.59018590e-02, 9.68895018e-01, 9.60390985e-01,\n",
       "        8.26445282e-01, 1.92651805e-02, 9.95455027e-01, 3.64335501e-05,\n",
       "        2.33048528e-01, 8.94354701e-01, 9.18687165e-01, 4.06008039e-04],\n",
       "       [9.66741797e-03, 6.09809645e-02, 9.89196420e-01, 8.86983931e-01,\n",
       "        8.43066037e-01, 8.00224543e-02, 9.96725321e-01, 1.75581627e-05,\n",
       "        8.60145763e-02, 9.92582917e-01, 9.23010051e-01, 1.11662992e-03],\n",
       "       [3.72502697e-03, 7.98391849e-02, 9.87369239e-01, 9.66200650e-01,\n",
       "        8.85757327e-01, 1.91993620e-02, 9.99129474e-01, 7.26780854e-05,\n",
       "        2.55366415e-01, 9.95626092e-01, 9.48613465e-01, 1.25575473e-03],\n",
       "       [3.00901989e-03, 1.33628979e-01, 9.69134927e-01, 9.42790031e-01,\n",
       "        9.10293221e-01, 6.07984215e-02, 9.95343089e-01, 1.99583315e-04,\n",
       "        2.23453552e-01, 9.66605008e-01, 9.17811215e-01, 6.10556861e-04],\n",
       "       [5.55519238e-02, 1.99531894e-02, 9.45779562e-01, 4.96887386e-01,\n",
       "        9.33849752e-01, 3.06224883e-01, 9.93238091e-01, 1.85199067e-04,\n",
       "        1.97056562e-01, 9.52977359e-01, 9.65453684e-01, 7.25229969e-03],\n",
       "       [2.58338396e-02, 8.82704109e-02, 9.78089392e-01, 9.08556819e-01,\n",
       "        8.30585361e-01, 7.45840073e-02, 9.93277490e-01, 8.82285167e-05,\n",
       "        2.08496496e-01, 9.89368141e-01, 9.04816508e-01, 1.62686897e-03],\n",
       "       [7.70136621e-03, 7.82884508e-02, 9.60902333e-01, 5.98367274e-01,\n",
       "        8.56927752e-01, 1.55728579e-01, 9.98837411e-01, 4.37416747e-05,\n",
       "        4.79915380e-01, 9.90594864e-01, 9.52133238e-01, 2.36664386e-03],\n",
       "       [2.96021556e-03, 7.46361092e-02, 9.68278944e-01, 9.62714493e-01,\n",
       "        8.24500084e-01, 7.72495568e-02, 9.94344831e-01, 5.85295402e-06,\n",
       "        1.25983000e-01, 9.97274220e-01, 9.42648768e-01, 1.14147167e-03],\n",
       "       [5.70040196e-03, 1.35571092e-01, 9.32382405e-01, 9.31186438e-01,\n",
       "        9.14937079e-01, 8.57822448e-02, 9.97835934e-01, 7.66655285e-05,\n",
       "        1.02283202e-01, 9.96456921e-01, 8.90914738e-01, 2.25000945e-03],\n",
       "       [1.95583925e-02, 3.41706835e-02, 9.86881256e-01, 7.54825890e-01,\n",
       "        7.38471031e-01, 2.42772847e-01, 9.97644603e-01, 1.33678273e-04,\n",
       "        2.95533448e-01, 9.94461179e-01, 9.84901488e-01, 2.97980709e-03],\n",
       "       [1.09894089e-02, 1.09402165e-01, 9.89027143e-01, 9.88254309e-01,\n",
       "        6.80447459e-01, 1.22325383e-01, 9.96560633e-01, 8.56982442e-05,\n",
       "        1.82334155e-01, 9.78107631e-01, 9.84689236e-01, 2.16788077e-03],\n",
       "       [2.38016676e-02, 7.75950998e-02, 9.71399307e-01, 9.71833944e-01,\n",
       "        9.08769250e-01, 4.43122163e-02, 9.73714411e-01, 3.12149205e-05,\n",
       "        5.69577515e-02, 9.61077571e-01, 8.07705820e-01, 1.59738143e-03],\n",
       "       [7.49787614e-02, 3.19966733e-01, 9.28351879e-01, 9.43908453e-01,\n",
       "        6.55159235e-01, 4.17912342e-02, 9.94255006e-01, 4.42823162e-04,\n",
       "        2.46977478e-01, 9.50708091e-01, 9.10605967e-01, 5.84735489e-03],\n",
       "       [5.12253977e-02, 8.80582333e-02, 8.18305671e-01, 8.36208999e-01,\n",
       "        8.59572351e-01, 1.49835542e-01, 9.92911994e-01, 3.52560601e-04,\n",
       "        3.36661488e-01, 9.90782917e-01, 7.57774532e-01, 4.87828953e-03],\n",
       "       [2.87104375e-03, 7.51296356e-02, 9.77846324e-01, 9.48882163e-01,\n",
       "        8.23834538e-01, 1.46085322e-01, 9.99172747e-01, 5.64710535e-05,\n",
       "        2.05883443e-01, 9.96092141e-01, 9.78924751e-01, 4.66401485e-04],\n",
       "       [2.53666304e-02, 5.39708212e-02, 9.75931883e-01, 9.30865169e-01,\n",
       "        9.69387829e-01, 1.81070700e-01, 9.98291910e-01, 1.01149126e-04,\n",
       "        2.56742269e-01, 9.96680915e-01, 9.37055171e-01, 1.67459296e-03],\n",
       "       [5.51261613e-03, 3.49542260e-01, 9.94254649e-01, 9.92401481e-01,\n",
       "        6.92579389e-01, 3.04970920e-01, 9.97807205e-01, 1.37744049e-04,\n",
       "        2.13511780e-01, 9.91832972e-01, 9.03645515e-01, 1.37281511e-03],\n",
       "       [2.97674024e-03, 4.44442421e-01, 9.95321929e-01, 9.97299135e-01,\n",
       "        7.11860120e-01, 4.77519594e-02, 9.97826755e-01, 1.06248702e-03,\n",
       "        2.64505833e-01, 9.79558766e-01, 9.83050644e-01, 8.63053021e-04],\n",
       "       [1.49842724e-02, 1.99773118e-01, 9.67452586e-01, 9.58650053e-01,\n",
       "        6.78964198e-01, 2.17883542e-01, 9.98929083e-01, 3.48418194e-04,\n",
       "        3.44222456e-01, 9.85962570e-01, 9.38607574e-01, 8.28439835e-04],\n",
       "       [3.22432704e-02, 3.58213261e-02, 9.75507200e-01, 5.51299930e-01,\n",
       "        7.82707751e-01, 5.83647966e-01, 9.97015357e-01, 2.35478565e-05,\n",
       "        4.09682244e-01, 8.94745648e-01, 9.75481808e-01, 6.18222402e-04],\n",
       "       [4.61071208e-02, 1.05331972e-01, 9.71533179e-01, 9.64922965e-01,\n",
       "        9.39429581e-01, 1.25565410e-01, 9.96070147e-01, 4.67858044e-05,\n",
       "        1.01286069e-01, 9.81284976e-01, 9.03709173e-01, 1.08696439e-03],\n",
       "       [8.12503472e-02, 3.51477824e-02, 8.20224345e-01, 6.42060637e-01,\n",
       "        8.66036177e-01, 1.31643295e-01, 9.92346525e-01, 2.02048723e-05,\n",
       "        2.45147318e-01, 9.96791422e-01, 8.02866518e-01, 4.43052268e-03]],\n",
       "      dtype=float32)"
      ]
     },
     "execution_count": 19,
     "metadata": {},
     "output_type": "execute_result"
    }
   ],
   "source": [
    "mymodel.predict_on_batch(first_batch)"
   ]
  },
  {
   "cell_type": "code",
   "execution_count": 26,
   "metadata": {},
   "outputs": [
    {
     "ename": "AttributeError",
     "evalue": "'tuple' object has no attribute 'rank'",
     "output_type": "error",
     "traceback": [
      "\u001b[0;31m---------------------------------------------------------------------------\u001b[0m",
      "\u001b[0;31mAttributeError\u001b[0m                            Traceback (most recent call last)",
      "\u001b[0;32m<ipython-input-26-41dfc450988c>\u001b[0m in \u001b[0;36m<module>\u001b[0;34m\u001b[0m\n\u001b[0;32m----> 1\u001b[0;31m \u001b[0mmymodel\u001b[0m\u001b[0;34m.\u001b[0m\u001b[0mtrain_step\u001b[0m\u001b[0;34m(\u001b[0m\u001b[0mnext\u001b[0m\u001b[0;34m(\u001b[0m\u001b[0miter\u001b[0m\u001b[0;34m(\u001b[0m\u001b[0mtraingen\u001b[0m\u001b[0;34m)\u001b[0m\u001b[0;34m)\u001b[0m\u001b[0;34m)\u001b[0m\u001b[0;34m\u001b[0m\u001b[0;34m\u001b[0m\u001b[0m\n\u001b[0m",
      "\u001b[0;32m/usr/local/lib/python3.6/dist-packages/tensorflow/python/keras/engine/training.py\u001b[0m in \u001b[0;36mtrain_step\u001b[0;34m(self, data)\u001b[0m\n\u001b[1;32m    748\u001b[0m       \u001b[0my_pred\u001b[0m \u001b[0;34m=\u001b[0m \u001b[0mself\u001b[0m\u001b[0;34m(\u001b[0m\u001b[0mx\u001b[0m\u001b[0;34m,\u001b[0m \u001b[0mtraining\u001b[0m\u001b[0;34m=\u001b[0m\u001b[0;32mTrue\u001b[0m\u001b[0;34m)\u001b[0m\u001b[0;34m\u001b[0m\u001b[0;34m\u001b[0m\u001b[0m\n\u001b[1;32m    749\u001b[0m       loss = self.compiled_loss(\n\u001b[0;32m--> 750\u001b[0;31m           y, y_pred, sample_weight, regularization_losses=self.losses)\n\u001b[0m\u001b[1;32m    751\u001b[0m     \u001b[0;31m# For custom training steps, users can just write:\u001b[0m\u001b[0;34m\u001b[0m\u001b[0;34m\u001b[0m\u001b[0;34m\u001b[0m\u001b[0m\n\u001b[1;32m    752\u001b[0m     \u001b[0;31m#   trainable_variables = self.trainable_variables\u001b[0m\u001b[0;34m\u001b[0m\u001b[0;34m\u001b[0m\u001b[0;34m\u001b[0m\u001b[0m\n",
      "\u001b[0;32m/usr/local/lib/python3.6/dist-packages/tensorflow/python/keras/engine/compile_utils.py\u001b[0m in \u001b[0;36m__call__\u001b[0;34m(self, y_true, y_pred, sample_weight, regularization_losses)\u001b[0m\n\u001b[1;32m    200\u001b[0m         \u001b[0;32mcontinue\u001b[0m\u001b[0;34m\u001b[0m\u001b[0;34m\u001b[0m\u001b[0m\n\u001b[1;32m    201\u001b[0m \u001b[0;34m\u001b[0m\u001b[0m\n\u001b[0;32m--> 202\u001b[0;31m       \u001b[0my_t\u001b[0m\u001b[0;34m,\u001b[0m \u001b[0my_p\u001b[0m\u001b[0;34m,\u001b[0m \u001b[0msw\u001b[0m \u001b[0;34m=\u001b[0m \u001b[0mmatch_dtype_and_rank\u001b[0m\u001b[0;34m(\u001b[0m\u001b[0my_t\u001b[0m\u001b[0;34m,\u001b[0m \u001b[0my_p\u001b[0m\u001b[0;34m,\u001b[0m \u001b[0msw\u001b[0m\u001b[0;34m)\u001b[0m\u001b[0;34m\u001b[0m\u001b[0;34m\u001b[0m\u001b[0m\n\u001b[0m\u001b[1;32m    203\u001b[0m       \u001b[0msw\u001b[0m \u001b[0;34m=\u001b[0m \u001b[0mapply_mask\u001b[0m\u001b[0;34m(\u001b[0m\u001b[0my_p\u001b[0m\u001b[0;34m,\u001b[0m \u001b[0msw\u001b[0m\u001b[0;34m,\u001b[0m \u001b[0mget_mask\u001b[0m\u001b[0;34m(\u001b[0m\u001b[0my_p\u001b[0m\u001b[0;34m)\u001b[0m\u001b[0;34m)\u001b[0m\u001b[0;34m\u001b[0m\u001b[0;34m\u001b[0m\u001b[0m\n\u001b[1;32m    204\u001b[0m       \u001b[0mloss_value\u001b[0m \u001b[0;34m=\u001b[0m \u001b[0mloss_obj\u001b[0m\u001b[0;34m(\u001b[0m\u001b[0my_t\u001b[0m\u001b[0;34m,\u001b[0m \u001b[0my_p\u001b[0m\u001b[0;34m,\u001b[0m \u001b[0msample_weight\u001b[0m\u001b[0;34m=\u001b[0m\u001b[0msw\u001b[0m\u001b[0;34m)\u001b[0m\u001b[0;34m\u001b[0m\u001b[0;34m\u001b[0m\u001b[0m\n",
      "\u001b[0;32m/usr/local/lib/python3.6/dist-packages/tensorflow/python/keras/engine/compile_utils.py\u001b[0m in \u001b[0;36mmatch_dtype_and_rank\u001b[0;34m(y_t, y_p, sw)\u001b[0m\n\u001b[1;32m    606\u001b[0m \u001b[0;32mdef\u001b[0m \u001b[0mmatch_dtype_and_rank\u001b[0m\u001b[0;34m(\u001b[0m\u001b[0my_t\u001b[0m\u001b[0;34m,\u001b[0m \u001b[0my_p\u001b[0m\u001b[0;34m,\u001b[0m \u001b[0msw\u001b[0m\u001b[0;34m)\u001b[0m\u001b[0;34m:\u001b[0m\u001b[0;34m\u001b[0m\u001b[0;34m\u001b[0m\u001b[0m\n\u001b[1;32m    607\u001b[0m   \u001b[0;34m\"\"\"Match dtype and rank of predictions.\"\"\"\u001b[0m\u001b[0;34m\u001b[0m\u001b[0;34m\u001b[0m\u001b[0m\n\u001b[0;32m--> 608\u001b[0;31m   \u001b[0;32mif\u001b[0m \u001b[0my_t\u001b[0m\u001b[0;34m.\u001b[0m\u001b[0mshape\u001b[0m\u001b[0;34m.\u001b[0m\u001b[0mrank\u001b[0m \u001b[0;34m==\u001b[0m \u001b[0;36m1\u001b[0m \u001b[0;32mand\u001b[0m \u001b[0my_p\u001b[0m\u001b[0;34m.\u001b[0m\u001b[0mshape\u001b[0m\u001b[0;34m.\u001b[0m\u001b[0mrank\u001b[0m \u001b[0;34m==\u001b[0m \u001b[0;36m2\u001b[0m\u001b[0;34m:\u001b[0m\u001b[0;34m\u001b[0m\u001b[0;34m\u001b[0m\u001b[0m\n\u001b[0m\u001b[1;32m    609\u001b[0m     \u001b[0my_t\u001b[0m \u001b[0;34m=\u001b[0m \u001b[0marray_ops\u001b[0m\u001b[0;34m.\u001b[0m\u001b[0mexpand_dims_v2\u001b[0m\u001b[0;34m(\u001b[0m\u001b[0my_t\u001b[0m\u001b[0;34m,\u001b[0m \u001b[0maxis\u001b[0m\u001b[0;34m=\u001b[0m\u001b[0;34m-\u001b[0m\u001b[0;36m1\u001b[0m\u001b[0;34m)\u001b[0m\u001b[0;34m\u001b[0m\u001b[0;34m\u001b[0m\u001b[0m\n\u001b[1;32m    610\u001b[0m   \u001b[0;32mif\u001b[0m \u001b[0msw\u001b[0m \u001b[0;32mis\u001b[0m \u001b[0;32mnot\u001b[0m \u001b[0;32mNone\u001b[0m\u001b[0;34m:\u001b[0m\u001b[0;34m\u001b[0m\u001b[0;34m\u001b[0m\u001b[0m\n",
      "\u001b[0;31mAttributeError\u001b[0m: 'tuple' object has no attribute 'rank'"
     ]
    }
   ],
   "source": [
    "mymodel.train_step()"
   ]
  },
  {
   "cell_type": "code",
   "execution_count": 27,
   "metadata": {},
   "outputs": [
    {
     "data": {
      "text/plain": [
       "(array([[[[ 20,  20,  20],\n",
       "          [ 20,  20,  20],\n",
       "          [ 20,  20,  20],\n",
       "          ...,\n",
       "          [ 14,  14,  14],\n",
       "          [ 14,  14,  14],\n",
       "          [ 14,  14,  14]],\n",
       " \n",
       "         [[ 21,  21,  21],\n",
       "          [ 21,  21,  21],\n",
       "          [ 21,  21,  21],\n",
       "          ...,\n",
       "          [ 13,  13,  13],\n",
       "          [ 13,  13,  13],\n",
       "          [ 13,  13,  13]],\n",
       " \n",
       "         [[ 21,  21,  21],\n",
       "          [ 21,  21,  21],\n",
       "          [ 21,  21,  21],\n",
       "          ...,\n",
       "          [ 12,  12,  12],\n",
       "          [ 12,  12,  12],\n",
       "          [ 12,  12,  12]],\n",
       " \n",
       "         ...,\n",
       " \n",
       "         [[207, 207, 207],\n",
       "          [208, 208, 208],\n",
       "          [211, 211, 211],\n",
       "          ...,\n",
       "          [119, 119, 119],\n",
       "          [107, 107, 107],\n",
       "          [ 98,  98,  98]],\n",
       " \n",
       "         [[204, 204, 204],\n",
       "          [213, 213, 213],\n",
       "          [219, 219, 219],\n",
       "          ...,\n",
       "          [111, 111, 111],\n",
       "          [ 95,  95,  95],\n",
       "          [ 88,  88,  88]],\n",
       " \n",
       "         [[204, 204, 204],\n",
       "          [218, 218, 218],\n",
       "          [225, 225, 225],\n",
       "          ...,\n",
       "          [115, 115, 115],\n",
       "          [ 98,  98,  98],\n",
       "          [ 94,  94,  94]]],\n",
       " \n",
       " \n",
       "        [[[  6,   6,   6],\n",
       "          [  4,   4,   4],\n",
       "          [  2,   2,   2],\n",
       "          ...,\n",
       "          [  8,   8,   8],\n",
       "          [  8,   8,   8],\n",
       "          [  8,   8,   8]],\n",
       " \n",
       "         [[  6,   6,   6],\n",
       "          [  4,   4,   4],\n",
       "          [  2,   2,   2],\n",
       "          ...,\n",
       "          [  8,   8,   8],\n",
       "          [  8,   8,   8],\n",
       "          [  8,   8,   8]],\n",
       " \n",
       "         [[  6,   6,   6],\n",
       "          [  4,   4,   4],\n",
       "          [  2,   2,   2],\n",
       "          ...,\n",
       "          [  8,   8,   8],\n",
       "          [  8,   8,   8],\n",
       "          [  8,   8,   8]],\n",
       " \n",
       "         ...,\n",
       " \n",
       "         [[  6,   6,   6],\n",
       "          [  2,   2,   2],\n",
       "          [  3,   3,   3],\n",
       "          ...,\n",
       "          [  9,   9,   9],\n",
       "          [  8,   8,   8],\n",
       "          [  7,   7,   7]],\n",
       " \n",
       "         [[  4,   4,   4],\n",
       "          [  1,   1,   1],\n",
       "          [  2,   2,   2],\n",
       "          ...,\n",
       "          [  9,   9,   9],\n",
       "          [  8,   8,   8],\n",
       "          [  7,   7,   7]],\n",
       " \n",
       "         [[  3,   3,   3],\n",
       "          [  0,   0,   0],\n",
       "          [  1,   1,   1],\n",
       "          ...,\n",
       "          [  9,   9,   9],\n",
       "          [  8,   8,   8],\n",
       "          [  7,   7,   7]]],\n",
       " \n",
       " \n",
       "        [[[ 43,  43,  43],\n",
       "          [ 43,  43,  43],\n",
       "          [ 43,  43,  43],\n",
       "          ...,\n",
       "          [ 28,  28,  28],\n",
       "          [ 25,  25,  25],\n",
       "          [ 22,  22,  22]],\n",
       " \n",
       "         [[ 43,  43,  43],\n",
       "          [ 43,  43,  43],\n",
       "          [ 43,  43,  43],\n",
       "          ...,\n",
       "          [ 23,  23,  23],\n",
       "          [ 24,  24,  24],\n",
       "          [ 18,  18,  18]],\n",
       " \n",
       "         [[ 43,  43,  43],\n",
       "          [ 43,  43,  43],\n",
       "          [ 44,  44,  44],\n",
       "          ...,\n",
       "          [ 21,  21,  21],\n",
       "          [ 25,  25,  25],\n",
       "          [ 17,  17,  17]],\n",
       " \n",
       "         ...,\n",
       " \n",
       "         [[  0,   0,   0],\n",
       "          [  0,   0,   0],\n",
       "          [  0,   0,   0],\n",
       "          ...,\n",
       "          [178, 178, 178],\n",
       "          [169, 169, 169],\n",
       "          [158, 158, 158]],\n",
       " \n",
       "         [[  0,   0,   0],\n",
       "          [  0,   0,   0],\n",
       "          [  0,   0,   0],\n",
       "          ...,\n",
       "          [170, 170, 170],\n",
       "          [165, 165, 165],\n",
       "          [159, 159, 159]],\n",
       " \n",
       "         [[  0,   0,   0],\n",
       "          [  0,   0,   0],\n",
       "          [  0,   0,   0],\n",
       "          ...,\n",
       "          [165, 165, 165],\n",
       "          [163, 163, 163],\n",
       "          [160, 160, 160]]],\n",
       " \n",
       " \n",
       "        ...,\n",
       " \n",
       " \n",
       "        [[[  5,   5,   5],\n",
       "          [  9,   9,   9],\n",
       "          [ 13,  13,  13],\n",
       "          ...,\n",
       "          [ 24,  24,  24],\n",
       "          [  6,   6,   6],\n",
       "          [  2,   2,   2]],\n",
       " \n",
       "         [[  5,   5,   5],\n",
       "          [  9,   9,   9],\n",
       "          [ 13,  13,  13],\n",
       "          ...,\n",
       "          [  0,   0,   0],\n",
       "          [ 31,  31,  31],\n",
       "          [  0,   0,   0]],\n",
       " \n",
       "         [[  5,   5,   5],\n",
       "          [  9,   9,   9],\n",
       "          [ 13,  13,  13],\n",
       "          ...,\n",
       "          [  7,   7,   7],\n",
       "          [  0,   0,   0],\n",
       "          [ 27,  27,  27]],\n",
       " \n",
       "         ...,\n",
       " \n",
       "         [[ 18,  18,  18],\n",
       "          [ 19,  19,  19],\n",
       "          [ 20,  20,  20],\n",
       "          ...,\n",
       "          [ 10,  10,  10],\n",
       "          [  7,   7,   7],\n",
       "          [  9,   9,   9]],\n",
       " \n",
       "         [[ 18,  18,  18],\n",
       "          [ 19,  19,  19],\n",
       "          [ 20,  20,  20],\n",
       "          ...,\n",
       "          [ 11,  11,  11],\n",
       "          [  3,   3,   3],\n",
       "          [ 12,  12,  12]],\n",
       " \n",
       "         [[ 18,  18,  18],\n",
       "          [ 19,  19,  19],\n",
       "          [ 20,  20,  20],\n",
       "          ...,\n",
       "          [ 11,  11,  11],\n",
       "          [  0,   0,   0],\n",
       "          [ 13,  13,  13]]],\n",
       " \n",
       " \n",
       "        [[[ 29,  29,  29],\n",
       "          [ 26,  26,  26],\n",
       "          [ 22,  22,  22],\n",
       "          ...,\n",
       "          [ 38,  38,  38],\n",
       "          [ 37,  37,  37],\n",
       "          [ 25,  25,  25]],\n",
       " \n",
       "         [[ 27,  27,  27],\n",
       "          [ 24,  24,  24],\n",
       "          [ 20,  20,  20],\n",
       "          ...,\n",
       "          [ 40,  40,  40],\n",
       "          [ 45,  45,  45],\n",
       "          [ 41,  41,  41]],\n",
       " \n",
       "         [[ 27,  27,  27],\n",
       "          [ 24,  24,  24],\n",
       "          [ 20,  20,  20],\n",
       "          ...,\n",
       "          [ 42,  42,  42],\n",
       "          [ 42,  42,  42],\n",
       "          [ 38,  38,  38]],\n",
       " \n",
       "         ...,\n",
       " \n",
       "         [[  2,   2,   2],\n",
       "          [  5,   5,   5],\n",
       "          [  7,   7,   7],\n",
       "          ...,\n",
       "          [236, 236, 236],\n",
       "          [230, 230, 230],\n",
       "          [222, 222, 222]],\n",
       " \n",
       "         [[  2,   2,   2],\n",
       "          [  5,   5,   5],\n",
       "          [  7,   7,   7],\n",
       "          ...,\n",
       "          [234, 234, 234],\n",
       "          [230, 230, 230],\n",
       "          [224, 224, 224]],\n",
       " \n",
       "         [[  3,   3,   3],\n",
       "          [  6,   6,   6],\n",
       "          [  7,   7,   7],\n",
       "          ...,\n",
       "          [236, 236, 236],\n",
       "          [234, 234, 234],\n",
       "          [230, 230, 230]]],\n",
       " \n",
       " \n",
       "        [[[  8,   8,   8],\n",
       "          [ 21,  21,  21],\n",
       "          [ 77,  77,  77],\n",
       "          ...,\n",
       "          [ 24,  24,  24],\n",
       "          [ 30,  30,  30],\n",
       "          [ 18,  18,  18]],\n",
       " \n",
       "         [[  6,   6,   6],\n",
       "          [  9,   9,   9],\n",
       "          [ 46,  46,  46],\n",
       "          ...,\n",
       "          [ 45,  45,  45],\n",
       "          [ 49,  49,  49],\n",
       "          [ 36,  36,  36]],\n",
       " \n",
       "         [[ 16,  16,  16],\n",
       "          [ 13,  13,  13],\n",
       "          [ 37,  37,  37],\n",
       "          ...,\n",
       "          [ 58,  58,  58],\n",
       "          [ 58,  58,  58],\n",
       "          [ 45,  45,  45]],\n",
       " \n",
       "         ...,\n",
       " \n",
       "         [[  5,   5,   5],\n",
       "          [  4,   4,   4],\n",
       "          [  3,   3,   3],\n",
       "          ...,\n",
       "          [  1,   1,   1],\n",
       "          [  1,   1,   1],\n",
       "          [  1,   1,   1]],\n",
       " \n",
       "         [[  0,   0,   0],\n",
       "          [  0,   0,   0],\n",
       "          [ 10,  10,  10],\n",
       "          ...,\n",
       "          [  1,   1,   1],\n",
       "          [  1,   1,   1],\n",
       "          [  1,   1,   1]],\n",
       " \n",
       "         [[  3,   3,   3],\n",
       "          [  1,   1,   1],\n",
       "          [  3,   3,   3],\n",
       "          ...,\n",
       "          [  1,   1,   1],\n",
       "          [  1,   1,   1],\n",
       "          [  1,   1,   1]]]], dtype=uint8),\n",
       " array([[nan, nan,  1., nan, nan, nan, nan, nan,  0.,  1., nan, nan],\n",
       "        [nan,  1.,  1., nan,  0., nan, nan, nan, nan,  1., nan, nan],\n",
       "        [nan, nan,  1., nan, nan, nan, nan,  1., nan,  1., nan, nan],\n",
       "        [nan, nan,  1., nan, nan, nan, nan, nan, nan,  0.,  0., nan],\n",
       "        [nan,  1.,  0., nan, nan,  0., nan,  0., nan,  1., nan, nan],\n",
       "        [ 0., nan,  0., nan,  0., nan, nan, nan, nan,  0., nan, nan],\n",
       "        [nan,  1.,  0., nan, nan,  1., nan,  0.,  0., nan, nan,  0.],\n",
       "        [nan, nan,  1., nan, nan,  0., nan,  0., nan, nan, nan, nan],\n",
       "        [nan, nan, nan, nan, nan, nan, nan,  1.,  0., nan, nan, nan],\n",
       "        [nan,  1.,  1., nan, nan, nan, nan, nan, nan,  1., nan, nan],\n",
       "        [nan, nan,  1.,  1., nan, nan, nan, nan,  0.,  0., nan, nan],\n",
       "        [nan, nan, nan, nan,  1.,  1., nan, nan, nan, nan, nan, nan],\n",
       "        [ 0., nan,  1., nan, nan, nan, nan, nan, nan,  1., nan, nan],\n",
       "        [nan, nan,  1., nan,  1., nan, nan, nan,  0.,  1., nan, nan],\n",
       "        [nan, nan, nan, nan, nan, nan, nan, nan,  1., nan, nan, nan],\n",
       "        [nan, nan,  1., nan, nan,  0., nan,  0., nan, nan, nan, nan],\n",
       "        [nan, nan, nan, nan, nan, nan,  0., nan, nan, nan, nan, nan],\n",
       "        [ 1., nan,  1., nan,  1., nan, nan,  1.,  0.,  0., nan, nan],\n",
       "        [ 0., nan, nan, nan, nan, nan, nan, nan, nan,  0., nan, nan],\n",
       "        [nan, nan, nan, nan, nan, nan, nan, nan,  1.,  1., nan,  1.],\n",
       "        [nan, nan, nan, nan, nan, nan, nan, nan,  0., nan, nan,  1.],\n",
       "        [nan, nan,  1., nan, nan, nan, nan, nan,  0.,  1., nan, nan],\n",
       "        [nan, nan,  1., nan, nan, nan, nan, nan,  0.,  1., nan,  1.],\n",
       "        [nan, nan, nan, nan,  1., nan, nan,  1., nan, nan, nan, nan],\n",
       "        [nan, nan, nan, nan, nan,  0., nan, nan, nan,  0., nan,  1.],\n",
       "        [nan, nan,  0., nan, nan, nan, nan, nan,  0., nan, nan,  1.],\n",
       "        [ 0., nan,  1., nan,  0., nan, nan, nan, nan,  1., nan, nan],\n",
       "        [nan, nan, nan, nan, nan,  0., nan,  0., nan,  1., nan, nan],\n",
       "        [nan,  0.,  1., nan, nan, nan, nan, nan,  0.,  1., nan, nan],\n",
       "        [nan, nan,  1.,  1.,  0., nan,  0., nan, nan, nan, nan, nan],\n",
       "        [nan, nan, nan, nan, nan, nan, nan,  0., nan,  1., nan, nan],\n",
       "        [nan, nan,  0., nan, nan, nan, nan, nan, nan,  1., nan, nan]]))"
      ]
     },
     "execution_count": 27,
     "metadata": {},
     "output_type": "execute_result"
    }
   ],
   "source": [
    "next(iter(traingen))"
   ]
  },
  {
   "cell_type": "code",
   "execution_count": null,
   "metadata": {},
   "outputs": [],
   "source": []
  },
  {
   "cell_type": "code",
   "execution_count": null,
   "metadata": {},
   "outputs": [],
   "source": []
  },
  {
   "cell_type": "code",
   "execution_count": null,
   "metadata": {},
   "outputs": [],
   "source": []
  },
  {
   "cell_type": "code",
   "execution_count": null,
   "metadata": {},
   "outputs": [],
   "source": []
  },
  {
   "cell_type": "code",
   "execution_count": null,
   "metadata": {},
   "outputs": [],
   "source": []
  },
  {
   "cell_type": "code",
   "execution_count": null,
   "metadata": {},
   "outputs": [],
   "source": []
  },
  {
   "cell_type": "code",
   "execution_count": null,
   "metadata": {},
   "outputs": [],
   "source": []
  },
  {
   "cell_type": "code",
   "execution_count": null,
   "metadata": {},
   "outputs": [],
   "source": []
  },
  {
   "cell_type": "code",
   "execution_count": null,
   "metadata": {},
   "outputs": [],
   "source": []
  },
  {
   "cell_type": "code",
   "execution_count": null,
   "metadata": {},
   "outputs": [],
   "source": []
  },
  {
   "cell_type": "code",
   "execution_count": null,
   "metadata": {},
   "outputs": [],
   "source": []
  },
  {
   "cell_type": "code",
   "execution_count": null,
   "metadata": {},
   "outputs": [],
   "source": [
    "predictions = experiment_inceptionnet_chexpert.model.predict(\n",
    "            experiment_inceptionnet_chexpert.benchmark.testgen, steps=len(experiment_inceptionnet_chexpert.benchmark.testgen), verbose=1)"
   ]
  },
  {
   "cell_type": "code",
   "execution_count": null,
   "metadata": {},
   "outputs": [],
   "source": [
    "true_labels = experiment_inceptionnet_chexpert.benchmark.testgen.get_encoded_labels()"
   ]
  },
  {
   "cell_type": "code",
   "execution_count": null,
   "metadata": {},
   "outputs": [],
   "source": []
  },
  {
   "cell_type": "code",
   "execution_count": null,
   "metadata": {},
   "outputs": [],
   "source": [
    "# model_guendel_chestxray14 = densenet(classes=len(CHESTXRAY14_COLUMNS))\n",
    "model_guendel_chexpert = densenet(classes=len(CHEXPERT_COLUMNS))\n",
    "\n",
    "#experiment_guendel_chestxray14 = Experiment(chestxray14_benchmark, model_guendel_chestxray14)\n",
    "experiment_guendel_chexpert = Experiment(CHEXPERT_BENCHMARKS[\"WBCE_E10_B32\"], model_guendel_chexpert, model_name=\"test_WBCE_32\")\n",
    "\n"
   ]
  },
  {
   "cell_type": "code",
   "execution_count": null,
   "metadata": {},
   "outputs": [],
   "source": [
    "#experiment_guendel_chestxray14_result =  experiment_guendel_chestxray14.run()"
   ]
  },
  {
   "cell_type": "code",
   "execution_count": null,
   "metadata": {},
   "outputs": [],
   "source": [
    "experiment_guendel_chexpert_result =  experiment_guendel_chexpert.run()"
   ]
  },
  {
   "cell_type": "code",
   "execution_count": null,
   "metadata": {},
   "outputs": [],
   "source": [
    "experiment_guendel_chexpert.evaluate()"
   ]
  },
  {
   "cell_type": "code",
   "execution_count": null,
   "metadata": {},
   "outputs": [],
   "source": [
    "experiment_guendel_chexpert.save(upload=False)"
   ]
  },
  {
   "cell_type": "code",
   "execution_count": null,
   "metadata": {},
   "outputs": [],
   "source": [
    "print(\"done\")"
   ]
  },
  {
   "cell_type": "code",
   "execution_count": null,
   "metadata": {},
   "outputs": [],
   "source": [
    "CHEXPERT_BENCHMARKS[\"WBCE_E10_B32\"].as_dict()"
   ]
  },
  {
   "cell_type": "code",
   "execution_count": null,
   "metadata": {},
   "outputs": [],
   "source": []
  },
  {
   "cell_type": "code",
   "execution_count": null,
   "metadata": {},
   "outputs": [],
   "source": [
    "y_true"
   ]
  },
  {
   "cell_type": "code",
   "execution_count": null,
   "metadata": {},
   "outputs": [],
   "source": [
    "weights_pos = tf.ones((4)) * 20.0\n",
    "weights_neg = tf.ones((4)) * 0.5\n",
    "y_true = tf.constant([[0, 1, float(\"nan\"), 1], [float(\"nan\"), 0, 1, float(\"nan\")]], dtype=tf.float32)\n",
    "y_pred = tf.constant([[0.1, 0.2, 0.3, 0.4], [0.5, 0.6, 0.7, 0.8]])\n",
    "loss = tf.keras.losses.binary_crossentropy(y_true, y_pred)\n",
    "loss"
   ]
  },
  {
   "cell_type": "code",
   "execution_count": null,
   "metadata": {},
   "outputs": [],
   "source": [
    "mask = tf.math.is_nan(y_true)\n",
    "mask"
   ]
  },
  {
   "cell_type": "code",
   "execution_count": null,
   "metadata": {},
   "outputs": [],
   "source": [
    "tf.boolean_mask(y_pred, mask)"
   ]
  },
  {
   "cell_type": "code",
   "execution_count": null,
   "metadata": {},
   "outputs": [],
   "source": []
  },
  {
   "cell_type": "code",
   "execution_count": null,
   "metadata": {},
   "outputs": [],
   "source": [
    "from tensorflow.keras import backend as K\n",
    "from tensorflow.python.ops.losses import util as tf_losses_util\n",
    "from tensorflow.python.framework import tensor_util\n",
    "from tensorflow.python.framework import constant_op\n",
    "from tensorflow.python.ops import math_ops\n",
    "from tensorflow.python.ops import clip_ops\n",
    "from tensorflow.python.keras import backend_config"
   ]
  },
  {
   "cell_type": "code",
   "execution_count": null,
   "metadata": {},
   "outputs": [],
   "source": [
    "epsilon = backend_config.epsilon\n",
    "if tensor_util.is_tensor(y_pred) and tensor_util.is_tensor(y_true):\n",
    "    y_pred, y_true = tf_losses_util.squeeze_or_expand_dimensions(\n",
    "        y_pred, y_true)\n",
    "\n",
    "epsilon_ = constant_op.constant(\n",
    "    epsilon(), dtype=y_pred.dtype.base_dtype)\n",
    "y_pred = clip_ops.clip_by_value(y_pred, epsilon_, 1. - epsilon_)\n",
    "\n",
    "# Compute cross entropy from probabilities.\n",
    "bce_pos = y_true * math_ops.log(y_pred + epsilon_)\n",
    "bce_neg = (1 - y_true) * math_ops.log(1 - y_pred + epsilon_)\n",
    "bce = bce_pos * weights_pos +  bce_neg * weights_neg\n",
    "bce"
   ]
  },
  {
   "cell_type": "code",
   "execution_count": null,
   "metadata": {},
   "outputs": [],
   "source": [
    "tf.reduce_mean(tf.boolean_mask(-bce, tf.math.is_finite(bce)))"
   ]
  },
  {
   "cell_type": "code",
   "execution_count": null,
   "metadata": {},
   "outputs": [],
   "source": [
    "y_true * math_ops.log(y_pred + epsilon_)"
   ]
  },
  {
   "cell_type": "code",
   "execution_count": null,
   "metadata": {},
   "outputs": [],
   "source": [
    "tf.boolean_mask(-bce, tf.math.is_finite(bce))"
   ]
  },
  {
   "cell_type": "code",
   "execution_count": null,
   "metadata": {},
   "outputs": [],
   "source": [
    "bench = Chexpert_Benchmark(\"Chexpert_CWBCE\",\n",
    "                           epochs=12,\n",
    "                           batch_size=1,\n",
    "                           metrics=METRICS,\n",
    "                           crop=True, \n",
    "                           nan_replacement = float(\"nan\"))\n",
    "bench.loss = WeightedBinaryCrossentropy(bench.positive_weights,\n",
    "                       bench.negative_weights)"
   ]
  },
  {
   "cell_type": "code",
   "execution_count": null,
   "metadata": {},
   "outputs": [],
   "source": [
    "bench.traingen[0]"
   ]
  },
  {
   "cell_type": "code",
   "execution_count": null,
   "metadata": {},
   "outputs": [],
   "source": []
  },
  {
   "cell_type": "code",
   "execution_count": null,
   "metadata": {},
   "outputs": [],
   "source": []
  },
  {
   "cell_type": "code",
   "execution_count": null,
   "metadata": {},
   "outputs": [],
   "source": []
  },
  {
   "cell_type": "code",
   "execution_count": null,
   "metadata": {},
   "outputs": [],
   "source": []
  },
  {
   "cell_type": "code",
   "execution_count": null,
   "metadata": {},
   "outputs": [],
   "source": []
  },
  {
   "cell_type": "code",
   "execution_count": null,
   "metadata": {},
   "outputs": [],
   "source": []
  },
  {
   "cell_type": "code",
   "execution_count": null,
   "metadata": {},
   "outputs": [],
   "source": []
  },
  {
   "cell_type": "code",
   "execution_count": null,
   "metadata": {},
   "outputs": [],
   "source": []
  },
  {
   "cell_type": "code",
   "execution_count": null,
   "metadata": {},
   "outputs": [],
   "source": []
  },
  {
   "cell_type": "code",
   "execution_count": null,
   "metadata": {},
   "outputs": [],
   "source": []
  },
  {
   "cell_type": "code",
   "execution_count": null,
   "metadata": {},
   "outputs": [],
   "source": []
  }
 ],
 "metadata": {
  "kernelspec": {
   "display_name": "Python 3",
   "language": "python",
   "name": "python3"
  },
  "language_info": {
   "codemirror_mode": {
    "name": "ipython",
    "version": 3
   },
   "file_extension": ".py",
   "mimetype": "text/x-python",
   "name": "python",
   "nbconvert_exporter": "python",
   "pygments_lexer": "ipython3",
   "version": "3.6.9"
  },
  "pycharm": {
   "stem_cell": {
    "cell_type": "raw",
    "metadata": {
     "collapsed": false
    },
    "source": []
   }
  }
 },
 "nbformat": 4,
 "nbformat_minor": 4
}
