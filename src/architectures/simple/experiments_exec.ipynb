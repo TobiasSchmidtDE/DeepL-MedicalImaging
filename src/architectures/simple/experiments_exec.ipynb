{
 "cells": [
  {
   "cell_type": "code",
   "execution_count": 1,
   "metadata": {
    "pycharm": {
     "name": "#%%\n"
    }
   },
   "outputs": [
    {
     "data": {
      "text/plain": [
       "'/srv/idp-radio-1'"
      ]
     },
     "execution_count": 1,
     "metadata": {},
     "output_type": "execute_result"
    }
   ],
   "source": [
    "import os \n",
    "import datetime\n",
    "from pathlib import Path\n",
    "from dotenv import load_dotenv, find_dotenv\n",
    "\n",
    "basepath = Path(os.getcwd())\n",
    "# make sure your working directory is the repository root.\n",
    "if basepath.name != \"idp-radio-1\":\n",
    "    os.chdir(basepath.parent.parent.parent)\n",
    "load_dotenv(find_dotenv())\n",
    "\n",
    "%load_ext autoreload\n",
    "%autoreload 2\n",
    "os.getcwd()"
   ]
  },
  {
   "cell_type": "code",
   "execution_count": 2,
   "metadata": {
    "pycharm": {
     "is_executing": false
    }
   },
   "outputs": [],
   "source": [
    "import os \n",
    "import tensorflow as tf\n",
    "from pathlib import Path"
   ]
  },
  {
   "cell_type": "code",
   "execution_count": 3,
   "metadata": {},
   "outputs": [],
   "source": [
    "import cv2"
   ]
  },
  {
   "cell_type": "code",
   "execution_count": 4,
   "metadata": {},
   "outputs": [
    {
     "name": "stdout",
     "output_type": "stream",
     "text": [
      "Device mapping:\n",
      "/job:localhost/replica:0/task:0/device:GPU:0 -> device: 0, name: GeForce RTX 2080 Ti, pci bus id: 0000:04:00.0, compute capability: 7.5\n",
      "\n"
     ]
    },
    {
     "data": {
      "text/plain": [
       "<tensorflow.python.client.session.Session at 0x7febff4a6400>"
      ]
     },
     "execution_count": 4,
     "metadata": {},
     "output_type": "execute_result"
    }
   ],
   "source": [
    "# Run this before loading other dependencies, otherwise they might occupy memory on gpu 0 by default and it will stay that way\n",
    "\n",
    "# Specify which GPU(s) to use\n",
    "os.environ[\"CUDA_VISIBLE_DEVICES\"] = \"1\"  # Or 2, 3, etc. other than 0\n",
    "\n",
    "config = tf.compat.v1.ConfigProto(device_count={'GPU': 1}, allow_soft_placement=True, log_device_placement=True)\n",
    "config.gpu_options.allow_growth = True\n",
    "config.gpu_options.per_process_gpu_memory_fraction = 1.0\n",
    "tf.compat.v1.Session(config=config)\n"
   ]
  },
  {
   "cell_type": "code",
   "execution_count": 5,
   "metadata": {},
   "outputs": [],
   "source": [
    "from tensorflow.keras.applications.inception_v3 import InceptionV3\n",
    "from tensorflow.keras.applications.densenet import DenseNet121\n",
    "from tensorflow.keras.applications.resnet_v2 import ResNet101V2\n",
    "from src.architectures.simple.simple_base import SimpleBaseArchitecture\n",
    "from src.architectures.adv.guendel19 import densenet\n",
    "import numpy as np\n",
    "\n",
    "from src.architectures.benchmarks.benchmark import Benchmark, Experiment\n",
    "from tensorflow.keras.optimizers import Adam, SGD\n",
    "from src.architectures.benchmarks.benchmark_definitions import Chexpert_Benchmark, Chestxray14_Benchmark, simple_architecture_experiment, generate_benchmarks, METRICS, SINGLE_CLASS_METRICS, CHEXPERT_COLUMNS, CHESTXRAY14_COLUMNS\n",
    "from src.metrics.metrics import F2Score\n",
    "from src.metrics.losses import WeightedBinaryCrossentropy, BinaryCrossentropy, compute_class_weight"
   ]
  },
  {
   "cell_type": "code",
   "execution_count": 6,
   "metadata": {},
   "outputs": [],
   "source": [
    "#CHEXPERT_BENCHMARKS, CHESTXRAY14_BENCHMARKS = generate_benchmarks (batch_sizes={\"Medium\": 32}, epoch_sizes= {\"Dev\": 5,}, crop={\"C0\": False}, name_suffix=\"\",)\n",
    "\n"
   ]
  },
  {
   "cell_type": "code",
   "execution_count": 7,
   "metadata": {},
   "outputs": [],
   "source": [
    "#CHEXPERT_BENCHMARKS.keys() "
   ]
  },
  {
   "cell_type": "code",
   "execution_count": 8,
   "metadata": {},
   "outputs": [],
   "source": [
    "#CHESTXRAY14_BENCHMARKS.keys()"
   ]
  },
  {
   "cell_type": "code",
   "execution_count": 9,
   "metadata": {},
   "outputs": [],
   "source": [
    "#[m.name for m in METRICS]"
   ]
  },
  {
   "cell_type": "code",
   "execution_count": 10,
   "metadata": {},
   "outputs": [],
   "source": [
    "#CHEXPERT_COLUMNS"
   ]
  },
  {
   "cell_type": "code",
   "execution_count": 11,
   "metadata": {},
   "outputs": [
    {
     "name": "stdout",
     "output_type": "stream",
     "text": [
      "URLs open for the following services:\n",
      "[('tensorboard', 'http://c6fb4f5c0970.ngrok.io'), ('jupyterlab', 'http://ef139013adca.ngrok.io')]\n"
     ]
    }
   ],
   "source": [
    "!remote_access/get_tunnels.sh"
   ]
  },
  {
   "cell_type": "code",
   "execution_count": 12,
   "metadata": {},
   "outputs": [],
   "source": [
    "#CHEXPERT_BENCHMARKS[\"BCE_E5_B32_C0\"].as_dict()"
   ]
  },
  {
   "cell_type": "code",
   "execution_count": 13,
   "metadata": {},
   "outputs": [],
   "source": [
    "#chexpert_exp = simple_architecture_experiment(CHEXPERT_BENCHMARKS[\"BCE_E5_B32_C0\"], DenseNet121, CHEXPERT_COLUMNS)"
   ]
  },
  {
   "cell_type": "code",
   "execution_count": 14,
   "metadata": {},
   "outputs": [],
   "source": [
    "#chexpert_exp.benchmark.as_dict()"
   ]
  },
  {
   "cell_type": "code",
   "execution_count": 15,
   "metadata": {},
   "outputs": [],
   "source": [
    "#chexpert_exp.run()"
   ]
  },
  {
   "cell_type": "code",
   "execution_count": null,
   "metadata": {},
   "outputs": [],
   "source": []
  },
  {
   "cell_type": "code",
   "execution_count": 16,
   "metadata": {},
   "outputs": [],
   "source": [
    "columns_12 = ['Enlarged Cardiomediastinum',\n",
    "                    'Cardiomegaly',\n",
    "                    'Lung Opacity',\n",
    "                    'Lung Lesion',\n",
    "                    'Edema',\n",
    "                    'Consolidation',\n",
    "                    'Pneumonia',\n",
    "                    'Atelectasis',\n",
    "                    'Pneumothorax',\n",
    "                    'Pleural Effusion',\n",
    "                    'Pleural Other',\n",
    "                    'Fracture']\n",
    "columns_5 =  ['Cardiomegaly',\n",
    "                'Edema',\n",
    "                'Consolidation',\n",
    "                'Atelectasis',\n",
    "                'Pleural Effusion']\n",
    "\n",
    "uzeros = ['Cardiomegaly',\n",
    "        'Enlarged Cardiomediastinum',\n",
    "        'Lung Opacity',\n",
    "        'Lung Lesion',\n",
    "        'Consolidation',\n",
    "        'Pneumothorax',\n",
    "        'Pleural Effusion']\n",
    "\n",
    "uones = ['Edema',\n",
    "        'Atelectasis',\n",
    "        'Fracture',\n",
    "        'Pleural Other',\n",
    "        'Pneumonia',]\n",
    "\n",
    "upsample_factors = {\n",
    "    \"Enlarged Cardiomediastinum\": 1,\n",
    "    \"Lung Lesion\":1,\n",
    "    #\"Pneumothorax\":1,\n",
    "    #\"Pneumonia\":1,\n",
    "    \"Pleural Other\":2,\n",
    "    \"Fracture\":2,\n",
    "}\n",
    "transformations_0 = {\"hist_equalization\":{}}\n",
    "transformations_1 = { \"gaussian_blur\":{\"kernal_size\":3}, \"hist_equalization\":{}}\n",
    "transformations_2 = {\"unsharp_mask\":{\"radius\":2, \"amount\":1}}\n",
    "transformations_3 = {\"windowing\"}"
   ]
  },
  {
   "cell_type": "code",
   "execution_count": 25,
   "metadata": {},
   "outputs": [],
   "source": [
    "bce_benchmark = Chexpert_Benchmark (path = Path(os.environ.get(\"CHEXPERT_DATASET_DIRECTORY\")),\n",
    "                                             name=\"Chexpert_CWBCE_L1Normed_E3_B32_C0_N12_AugAffineColor_sharp21_U75_D256_DS9505_5LR1_LF1_SGD_Upsampled\",\n",
    "                                             classes=columns_12,\n",
    "                                             train_labels = \"train.csv\",\n",
    "                                             test_labels = \"test.csv\",\n",
    "                                             nan_replacement = 0, #float(\"NaN\"),\n",
    "                                             u_enc = [uzeros, uones],\n",
    "                                             epochs=3,\n",
    "                                             batch_size=32,\n",
    "                                             crop = False,\n",
    "                                             dim=(256, 256),\n",
    "                                             #loss = BinaryCrossentropy(),\n",
    "                                             use_class_weights = False,\n",
    "                                             upsample_factors = upsample_factors,\n",
    "                                             metrics=METRICS,\n",
    "                                             single_class_metrics=SINGLE_CLASS_METRICS,\n",
    "                                             optimizer = SGD(learning_rate=5e-1, clipnorm=1),\n",
    "                                             lr_factor = 0.1,\n",
    "                                             augmentation = \"affine,color\",\n",
    "                                             transformations = transformations_2,\n",
    "                                             split_seed = 6122156,\n",
    "                                             split_valid_size = 0.05, \n",
    "                                             preprocess_input_fn = tf.keras.applications.inception_v3.preprocess_input)\n",
    "\n",
    "bce_benchmark.loss = WeightedBinaryCrossentropy(bce_benchmark.positive_weights,\n",
    "                                                bce_benchmark.negative_weights)"
   ]
  },
  {
   "cell_type": "code",
   "execution_count": null,
   "metadata": {},
   "outputs": [],
   "source": []
  },
  {
   "cell_type": "code",
   "execution_count": 26,
   "metadata": {},
   "outputs": [
    {
     "data": {
      "text/plain": [
       "{'benchmark_name': 'Chexpert_CWBCE_L1Normed_E3_B32_C0_N12_AugAffineColor_sharp21_U75_D256_DS9505_5LR1_LF1_SGD_Upsampled',\n",
       " 'dataset_name': 'chexpert_full',\n",
       " 'dataset_folder': 'data/chexpert/full',\n",
       " 'models_dir': 'models',\n",
       " 'epochs': 3,\n",
       " 'optimizer': 'SGD',\n",
       " 'learning_rate': 0.5,\n",
       " 'lr_factor': 0.1,\n",
       " 'loss': 'weighted_binary_crossentropy',\n",
       " 'use_class_weights': False,\n",
       " 'class_weights': [1.0471136569976807,\n",
       "  0.8615774512290955,\n",
       "  0.21405130624771118,\n",
       "  1.2290253639221191,\n",
       "  0.3829084038734436,\n",
       "  1.5654457807540894,\n",
       "  0.9355764389038086,\n",
       "  0.3477109670639038,\n",
       "  1.1680023670196533,\n",
       "  0.27839189767837524,\n",
       "  1.1709423065185547,\n",
       "  0.7992541790008545],\n",
       " 'positive_weights': [1.0471136569976807,\n",
       "  0.8615774512290955,\n",
       "  0.21405130624771118,\n",
       "  1.2290253639221191,\n",
       "  0.3829084038734436,\n",
       "  1.5654457807540894,\n",
       "  0.9355764389038086,\n",
       "  0.3477109670639038,\n",
       "  1.1680023670196533,\n",
       "  0.27839189767837524,\n",
       "  1.1709423065185547,\n",
       "  0.7992541790008545],\n",
       " 'negative_weights': [0.7336834073066711,\n",
       "  0.7509576678276062,\n",
       "  1.2557218074798584,\n",
       "  0.7222639918327332,\n",
       "  0.9005477428436279,\n",
       "  0.7086204290390015,\n",
       "  0.7431471943855286,\n",
       "  0.9344634413719177,\n",
       "  0.7256606221199036,\n",
       "  1.0406254529953003,\n",
       "  0.7254881262779236,\n",
       "  0.7588201761245728],\n",
       " 'metrics': ['auc',\n",
       "  'precision',\n",
       "  'recall',\n",
       "  'f2_score',\n",
       "  'binary_accuracy',\n",
       "  'accuracy_enlarged_cardiomediastinum',\n",
       "  'accuracy_cardiomegaly',\n",
       "  'accuracy_lung_opacity',\n",
       "  'accuracy_lung_lesion',\n",
       "  'accuracy_edema',\n",
       "  'accuracy_consolidation',\n",
       "  'accuracy_pneumonia',\n",
       "  'accuracy_atelectasis',\n",
       "  'accuracy_pneumothorax',\n",
       "  'accuracy_pleural_effusion',\n",
       "  'accuracy_pleural_other',\n",
       "  'accuracy_fracture',\n",
       "  'auc_enlarged_cardiomediastinum',\n",
       "  'auc_cardiomegaly',\n",
       "  'auc_lung_opacity',\n",
       "  'auc_lung_lesion',\n",
       "  'auc_edema',\n",
       "  'auc_consolidation',\n",
       "  'auc_pneumonia',\n",
       "  'auc_atelectasis',\n",
       "  'auc_pneumothorax',\n",
       "  'auc_pleural_effusion',\n",
       "  'auc_pleural_other',\n",
       "  'auc_fracture',\n",
       "  'precision_enlarged_cardiomediastinum',\n",
       "  'precision_cardiomegaly',\n",
       "  'precision_lung_opacity',\n",
       "  'precision_lung_lesion',\n",
       "  'precision_edema',\n",
       "  'precision_consolidation',\n",
       "  'precision_pneumonia',\n",
       "  'precision_atelectasis',\n",
       "  'precision_pneumothorax',\n",
       "  'precision_pleural_effusion',\n",
       "  'precision_pleural_other',\n",
       "  'precision_fracture',\n",
       "  'recall_enlarged_cardiomediastinum',\n",
       "  'recall_cardiomegaly',\n",
       "  'recall_lung_opacity',\n",
       "  'recall_lung_lesion',\n",
       "  'recall_edema',\n",
       "  'recall_consolidation',\n",
       "  'recall_pneumonia',\n",
       "  'recall_atelectasis',\n",
       "  'recall_pneumothorax',\n",
       "  'recall_pleural_effusion',\n",
       "  'recall_pleural_other',\n",
       "  'recall_fracture',\n",
       "  'f2_score_enlarged_cardiomediastinum',\n",
       "  'f2_score_cardiomegaly',\n",
       "  'f2_score_lung_opacity',\n",
       "  'f2_score_lung_lesion',\n",
       "  'f2_score_edema',\n",
       "  'f2_score_consolidation',\n",
       "  'f2_score_pneumonia',\n",
       "  'f2_score_atelectasis',\n",
       "  'f2_score_pneumothorax',\n",
       "  'f2_score_pleural_effusion',\n",
       "  'f2_score_pleural_other',\n",
       "  'f2_score_fracture'],\n",
       " 'label_columns': ['Enlarged Cardiomediastinum',\n",
       "  'Cardiomegaly',\n",
       "  'Lung Opacity',\n",
       "  'Lung Lesion',\n",
       "  'Edema',\n",
       "  'Consolidation',\n",
       "  'Pneumonia',\n",
       "  'Atelectasis',\n",
       "  'Pneumothorax',\n",
       "  'Pleural Effusion',\n",
       "  'Pleural Other',\n",
       "  'Fracture'],\n",
       " 'path_column': 'Path',\n",
       " 'path_column_prefix': '',\n",
       " 'upsample_factors': {'Enlarged Cardiomediastinum': 1,\n",
       "  'Lung Lesion': 1,\n",
       "  'Pleural Other': 2,\n",
       "  'Fracture': 2},\n",
       " 'shuffle': True,\n",
       " 'batch_size': 32,\n",
       " 'dim': (256, 256),\n",
       " 'crop': False,\n",
       " 'transformations': {'unsharp_mask': {'radius': 2, 'amount': 1}},\n",
       " 'augmentation': 'affine,color',\n",
       " 'n_channels': 3,\n",
       " 'nan_replacement': 0,\n",
       " 'unc_value': -1,\n",
       " 'u_enc': [['Cardiomegaly',\n",
       "   'Enlarged Cardiomediastinum',\n",
       "   'Lung Opacity',\n",
       "   'Lung Lesion',\n",
       "   'Consolidation',\n",
       "   'Pneumothorax',\n",
       "   'Pleural Effusion'],\n",
       "  ['Edema', 'Atelectasis', 'Fracture', 'Pleural Other', 'Pneumonia']],\n",
       " 'drop_last': False,\n",
       " 'num_samples_train': 266998,\n",
       " 'num_samples_validation': 11596,\n",
       " 'num_samples_test': 234,\n",
       " 'split_seed': 6122156}"
      ]
     },
     "execution_count": 26,
     "metadata": {},
     "output_type": "execute_result"
    }
   ],
   "source": [
    "bce_benchmark.as_dict()"
   ]
  },
  {
   "cell_type": "code",
   "execution_count": 27,
   "metadata": {},
   "outputs": [],
   "source": [
    "bce_chexpert_exp = simple_architecture_experiment(bce_benchmark, DenseNet121, bce_benchmark.label_columns)"
   ]
  },
  {
   "cell_type": "code",
   "execution_count": 28,
   "metadata": {},
   "outputs": [
    {
     "name": "stdout",
     "output_type": "stream",
     "text": [
      "WARNING:tensorflow:Automatic model reloading for interrupted job was removed from the `ModelCheckpoint` callback in multi-worker mode, please use the `keras.callbacks.experimental.BackupAndRestore` callback instead. See this tutorial for details: https://www.tensorflow.org/tutorials/distribute/multi_worker_with_keras#backupandrestore_callback.\n",
      "Epoch 1/3\n",
      "8344/8344 [==============================] - ETA: 0s - loss: 0.2683 - auc: 0.7185 - precision: 0.6597 - recall: 0.0738 - f2_score: 0.0896 - binary_accuracy: 0.8269 - accuracy_enlarged_cardiomediastinum: 0.9038 - accuracy_cardiomegaly: 0.8877 - accuracy_lung_opacity: 0.5295 - accuracy_lung_lesion: 0.9177 - accuracy_edema: 0.7587 - accuracy_consolidation: 0.9331 - accuracy_pneumonia: 0.8899 - accuracy_atelectasis: 0.7089 - accuracy_pneumothorax: 0.9111 - accuracy_pleural_effusion: 0.6966 - accuracy_pleural_other: 0.9109 - accuracy_fracture: 0.8742 - auc_enlarged_cardiomediastinum: 0.6120 - auc_cardiomegaly: 0.7823 - auc_lung_opacity: 0.6852 - auc_lung_lesion: 0.6927 - auc_edema: 0.8052 - auc_consolidation: 0.6783 - auc_pneumonia: 0.6695 - auc_atelectasis: 0.6654 - auc_pneumothorax: 0.7508 - auc_pleural_effusion: 0.8269 - auc_pleural_other: 0.7535 - auc_fracture: 0.6906 - precision_enlarged_cardiomediastinum: 0.4726 - precision_cardiomegaly: 0.5514 - precision_lung_opacity: 0.5518 - precision_lung_lesion: 0.3616 - precision_edema: 0.7339 - precision_consolidation: 0.1951 - precision_pneumonia: 0.3562 - precision_atelectasis: 0.2372 - precision_pneumothorax: 0.4512 - precision_pleural_effusion: 0.8365 - precision_pleural_other: 0.3796 - precision_fracture: 0.5338 - recall_enlarged_cardiomediastinum: 0.0201 - recall_cardiomegaly: 0.1807 - recall_lung_opacity: 9.3132e-04 - recall_lung_lesion: 0.0190 - recall_edema: 0.1369 - recall_consolidation: 0.0085 - recall_pneumonia: 0.0143 - recall_atelectasis: 6.5532e-04 - recall_pneumothorax: 0.1291 - recall_pleural_effusion: 0.1996 - recall_pleural_other: 0.0617 - recall_fracture: 0.0462 - f2_score_enlarged_cardiomediastinum: 0.0248 - f2_score_cardiomegaly: 0.2082 - f2_score_lung_opacity: 0.0011 - f2_score_lung_lesion: 0.0234 - f2_score_edema: 0.1632 - f2_score_consolidation: 0.0105 - f2_score_pneumonia: 0.0174 - f2_score_atelectasis: 6.7437e-04 - f2_score_pneumothorax: 0.1499 - f2_score_pleural_effusion: 0.2345 - f2_score_pleural_other: 0.0735 - f2_score_fracture: 0.0563 - learning rate: 0.5000INFO:tensorflow:Summary name epoch_learning rate is illegal; using epoch_learning_rate instead.\n",
      "\n",
      "Epoch 00001: saving model to models/DenseNet121_Chexpert_CWBCE_L1Normed_E3_B32_C0_N12_AugAffineColor_sharp21_U75_D256_DS9505_5LR1_LF1_SGD_Upsampled/weights.01-0.23.hdf5\n",
      "8344/8344 [==============================] - 2588s 310ms/step - loss: 0.2683 - auc: 0.7185 - precision: 0.6597 - recall: 0.0738 - f2_score: 0.0897 - binary_accuracy: 0.8269 - accuracy_enlarged_cardiomediastinum: 0.9038 - accuracy_cardiomegaly: 0.8877 - accuracy_lung_opacity: 0.5295 - accuracy_lung_lesion: 0.9177 - accuracy_edema: 0.7587 - accuracy_consolidation: 0.9331 - accuracy_pneumonia: 0.8899 - accuracy_atelectasis: 0.7089 - accuracy_pneumothorax: 0.9111 - accuracy_pleural_effusion: 0.6966 - accuracy_pleural_other: 0.9109 - accuracy_fracture: 0.8742 - auc_enlarged_cardiomediastinum: 0.6120 - auc_cardiomegaly: 0.7823 - auc_lung_opacity: 0.6852 - auc_lung_lesion: 0.6927 - auc_edema: 0.8052 - auc_consolidation: 0.6783 - auc_pneumonia: 0.6695 - auc_atelectasis: 0.6654 - auc_pneumothorax: 0.7508 - auc_pleural_effusion: 0.8269 - auc_pleural_other: 0.7535 - auc_fracture: 0.6906 - precision_enlarged_cardiomediastinum: 0.4726 - precision_cardiomegaly: 0.5514 - precision_lung_opacity: 0.5518 - precision_lung_lesion: 0.3616 - precision_edema: 0.7339 - precision_consolidation: 0.1951 - precision_pneumonia: 0.3562 - precision_atelectasis: 0.2372 - precision_pneumothorax: 0.4513 - precision_pleural_effusion: 0.8365 - precision_pleural_other: 0.3796 - precision_fracture: 0.5338 - recall_enlarged_cardiomediastinum: 0.0201 - recall_cardiomegaly: 0.1808 - recall_lung_opacity: 9.3131e-04 - recall_lung_lesion: 0.0190 - recall_edema: 0.1369 - recall_consolidation: 0.0085 - recall_pneumonia: 0.0143 - recall_atelectasis: 6.5528e-04 - recall_pneumothorax: 0.1291 - recall_pleural_effusion: 0.1996 - recall_pleural_other: 0.0617 - recall_fracture: 0.0462 - f2_score_enlarged_cardiomediastinum: 0.0248 - f2_score_cardiomegaly: 0.2082 - f2_score_lung_opacity: 0.0011 - f2_score_lung_lesion: 0.0234 - f2_score_edema: 0.1632 - f2_score_consolidation: 0.0105 - f2_score_pneumonia: 0.0174 - f2_score_atelectasis: 6.7434e-04 - f2_score_pneumothorax: 0.1499 - f2_score_pleural_effusion: 0.2345 - f2_score_pleural_other: 0.0736 - f2_score_fracture: 0.0563 - learning rate: 0.5000 - val_loss: 0.2318 - val_auc: 0.7647 - val_precision: 0.5592 - val_recall: 0.1068 - val_f2_score: 0.1274 - val_binary_accuracy: 0.8382 - val_accuracy_enlarged_cardiomediastinum: 0.9494 - val_accuracy_cardiomegaly: 0.8876 - val_accuracy_lung_opacity: 0.5331 - val_accuracy_lung_lesion: 0.9489 - val_accuracy_edema: 0.7235 - val_accuracy_consolidation: 0.9380 - val_accuracy_pneumonia: 0.8895 - val_accuracy_atelectasis: 0.7026 - val_accuracy_pneumothorax: 0.9217 - val_accuracy_pleural_effusion: 0.6992 - val_accuracy_pleural_other: 0.9401 - val_accuracy_fracture: 0.9248 - val_auc_enlarged_cardiomediastinum: 0.6546 - val_auc_cardiomegaly: 0.8587 - val_auc_lung_opacity: 0.7308 - val_auc_lung_lesion: 0.7418 - val_auc_edema: 0.8262 - val_auc_consolidation: 0.7381 - val_auc_pneumonia: 0.7147 - val_auc_atelectasis: 0.6958 - val_auc_pneumothorax: 0.8191 - val_auc_pleural_effusion: 0.8608 - val_auc_pleural_other: 0.7765 - val_auc_fracture: 0.7594 - val_precision_enlarged_cardiomediastinum: 0.2933 - val_precision_cardiomegaly: 0.6411 - val_precision_lung_opacity: 0.0000e+00 - val_precision_lung_lesion: 0.2511 - val_precision_edema: 0.7645 - val_precision_consolidation: 0.2222 - val_precision_pneumonia: 0.3827 - val_precision_atelectasis: 0.0000e+00 - val_precision_pneumothorax: 0.6220 - val_precision_pleural_effusion: 0.8808 - val_precision_pleural_other: 0.1335 - val_precision_fracture: 0.2300 - val_recall_enlarged_cardiomediastinum: 0.0396 - val_recall_cardiomegaly: 0.3327 - val_recall_lung_opacity: 0.0000e+00 - val_recall_lung_lesion: 0.1136 - val_recall_edema: 0.0592 - val_recall_consolidation: 0.0028 - val_recall_pneumonia: 0.0872 - val_recall_atelectasis: 0.0000e+00 - val_recall_pneumothorax: 0.1845 - val_recall_pleural_effusion: 0.2606 - val_recall_pleural_other: 0.2190 - val_recall_fracture: 0.2697 - val_f2_score_enlarged_cardiomediastinum: 0.0479 - val_f2_score_cardiomegaly: 0.3681 - val_f2_score_lung_opacity: 0.0000e+00 - val_f2_score_lung_lesion: 0.1276 - val_f2_score_edema: 0.0726 - val_f2_score_consolidation: 0.0035 - val_f2_score_pneumonia: 0.1032 - val_f2_score_atelectasis: 0.0000e+00 - val_f2_score_pneumothorax: 0.2147 - val_f2_score_pleural_effusion: 0.3034 - val_f2_score_pleural_other: 0.1941 - val_f2_score_fracture: 0.2607\n",
      "Epoch 2/3\n",
      "8344/8344 [==============================] - ETA: 0s - loss: 0.2409 - auc: 0.7937 - precision: 0.7054 - recall: 0.1450 - f2_score: 0.1724 - binary_accuracy: 0.8352 - accuracy_enlarged_cardiomediastinum: 0.9068 - accuracy_cardiomegaly: 0.8978 - accuracy_lung_opacity: 0.5269 - accuracy_lung_lesion: 0.9193 - accuracy_edema: 0.7844 - accuracy_consolidation: 0.9349 - accuracy_pneumonia: 0.8912 - accuracy_atelectasis: 0.7098 - accuracy_pneumothorax: 0.9214 - accuracy_pleural_effusion: 0.7343 - accuracy_pleural_other: 0.9150 - accuracy_fracture: 0.8809 - auc_enlarged_cardiomediastinum: 0.7125 - auc_cardiomegaly: 0.8520 - auc_lung_opacity: 0.7290 - auc_lung_lesion: 0.7957 - auc_edema: 0.8516 - auc_consolidation: 0.7460 - auc_pneumonia: 0.7456 - auc_atelectasis: 0.7139 - auc_pneumothorax: 0.8578 - auc_pleural_effusion: 0.8764 - auc_pleural_other: 0.8500 - auc_fracture: 0.7938 - precision_enlarged_cardiomediastinum: 0.5802 - precision_cardiomegaly: 0.6281 - precision_lung_opacity: 0.8004 - precision_lung_lesion: 0.5450 - precision_edema: 0.7931 - precision_consolidation: 0.4320 - precision_pneumonia: 0.4802 - precision_atelectasis: 0.6582 - precision_pneumothorax: 0.5807 - precision_pleural_effusion: 0.8746 - precision_pleural_other: 0.5165 - precision_fracture: 0.6448 - recall_enlarged_cardiomediastinum: 0.0916 - recall_cardiomegaly: 0.3156 - recall_lung_opacity: 0.0010 - recall_lung_lesion: 0.1459 - recall_edema: 0.2492 - recall_consolidation: 0.0351 - recall_pneumonia: 0.0455 - recall_atelectasis: 4.6706e-04 - recall_pneumothorax: 0.3327 - recall_pleural_effusion: 0.3128 - recall_pleural_other: 0.2358 - recall_fracture: 0.1484 - f2_score_enlarged_cardiomediastinum: 0.1102 - f2_score_cardiomegaly: 0.3505 - f2_score_lung_opacity: 0.0013 - f2_score_lung_lesion: 0.1708 - f2_score_edema: 0.2888 - f2_score_consolidation: 0.0429 - f2_score_pneumonia: 0.0556 - f2_score_atelectasis: 5.8372e-04 - f2_score_pneumothorax: 0.3636 - f2_score_pleural_effusion: 0.3588 - f2_score_pleural_other: 0.2644 - f2_score_fracture: 0.1754 - learning rate: 0.0500INFO:tensorflow:Summary name epoch_learning rate is illegal; using epoch_learning_rate instead.\n",
      "\n",
      "Epoch 00002: saving model to models/DenseNet121_Chexpert_CWBCE_L1Normed_E3_B32_C0_N12_AugAffineColor_sharp21_U75_D256_DS9505_5LR1_LF1_SGD_Upsampled/weights.02-0.21.hdf5\n",
      "8344/8344 [==============================] - 2547s 305ms/step - loss: 0.2409 - auc: 0.7937 - precision: 0.7054 - recall: 0.1450 - f2_score: 0.1724 - binary_accuracy: 0.8352 - accuracy_enlarged_cardiomediastinum: 0.9068 - accuracy_cardiomegaly: 0.8978 - accuracy_lung_opacity: 0.5269 - accuracy_lung_lesion: 0.9193 - accuracy_edema: 0.7844 - accuracy_consolidation: 0.9349 - accuracy_pneumonia: 0.8912 - accuracy_atelectasis: 0.7098 - accuracy_pneumothorax: 0.9214 - accuracy_pleural_effusion: 0.7343 - accuracy_pleural_other: 0.9150 - accuracy_fracture: 0.8809 - auc_enlarged_cardiomediastinum: 0.7125 - auc_cardiomegaly: 0.8520 - auc_lung_opacity: 0.7290 - auc_lung_lesion: 0.7957 - auc_edema: 0.8516 - auc_consolidation: 0.7460 - auc_pneumonia: 0.7456 - auc_atelectasis: 0.7139 - auc_pneumothorax: 0.8578 - auc_pleural_effusion: 0.8764 - auc_pleural_other: 0.8500 - auc_fracture: 0.7938 - precision_enlarged_cardiomediastinum: 0.5802 - precision_cardiomegaly: 0.6281 - precision_lung_opacity: 0.8004 - precision_lung_lesion: 0.5450 - precision_edema: 0.7931 - precision_consolidation: 0.4319 - precision_pneumonia: 0.4802 - precision_atelectasis: 0.6582 - precision_pneumothorax: 0.5807 - precision_pleural_effusion: 0.8746 - precision_pleural_other: 0.5165 - precision_fracture: 0.6448 - recall_enlarged_cardiomediastinum: 0.0916 - recall_cardiomegaly: 0.3156 - recall_lung_opacity: 0.0010 - recall_lung_lesion: 0.1459 - recall_edema: 0.2492 - recall_consolidation: 0.0351 - recall_pneumonia: 0.0455 - recall_atelectasis: 4.6711e-04 - recall_pneumothorax: 0.3327 - recall_pleural_effusion: 0.3128 - recall_pleural_other: 0.2358 - recall_fracture: 0.1484 - f2_score_enlarged_cardiomediastinum: 0.1102 - f2_score_cardiomegaly: 0.3505 - f2_score_lung_opacity: 0.0013 - f2_score_lung_lesion: 0.1708 - f2_score_edema: 0.2888 - f2_score_consolidation: 0.0429 - f2_score_pneumonia: 0.0556 - f2_score_atelectasis: 5.8378e-04 - f2_score_pneumothorax: 0.3636 - f2_score_pleural_effusion: 0.3588 - f2_score_pleural_other: 0.2644 - f2_score_fracture: 0.1754 - learning rate: 0.0500 - val_loss: 0.2102 - val_auc: 0.7911 - val_precision: 0.6846 - val_recall: 0.1643 - val_f2_score: 0.1938 - val_binary_accuracy: 0.8491 - val_accuracy_enlarged_cardiomediastinum: 0.9470 - val_accuracy_cardiomegaly: 0.8904 - val_accuracy_lung_opacity: 0.5335 - val_accuracy_lung_lesion: 0.9541 - val_accuracy_edema: 0.7648 - val_accuracy_consolidation: 0.9360 - val_accuracy_pneumonia: 0.8943 - val_accuracy_atelectasis: 0.7029 - val_accuracy_pneumothorax: 0.9234 - val_accuracy_pleural_effusion: 0.7310 - val_accuracy_pleural_other: 0.9627 - val_accuracy_fracture: 0.9494 - val_auc_enlarged_cardiomediastinum: 0.6733 - val_auc_cardiomegaly: 0.8714 - val_auc_lung_opacity: 0.7441 - val_auc_lung_lesion: 0.7873 - val_auc_edema: 0.8537 - val_auc_consolidation: 0.7608 - val_auc_pneumonia: 0.7417 - val_auc_atelectasis: 0.7187 - val_auc_pneumothorax: 0.8619 - val_auc_pleural_effusion: 0.8733 - val_auc_pleural_other: 0.8052 - val_auc_fracture: 0.8022 - val_precision_enlarged_cardiomediastinum: 0.2980 - val_precision_cardiomegaly: 0.6392 - val_precision_lung_opacity: 0.5455 - val_precision_lung_lesion: 0.3678 - val_precision_edema: 0.7895 - val_precision_consolidation: 0.3578 - val_precision_pneumonia: 0.4726 - val_precision_atelectasis: 0.7500 - val_precision_pneumothorax: 0.5829 - val_precision_pleural_effusion: 0.8654 - val_precision_pleural_other: 0.2050 - val_precision_fracture: 0.3726 - val_recall_enlarged_cardiomediastinum: 0.0811 - val_recall_cardiomegaly: 0.3856 - val_recall_lung_opacity: 0.0011 - val_recall_lung_lesion: 0.1322 - val_recall_edema: 0.2524 - val_recall_consolidation: 0.0547 - val_recall_pneumonia: 0.0782 - val_recall_atelectasis: 0.0026 - val_recall_pneumothorax: 0.3405 - val_recall_pleural_effusion: 0.3638 - val_recall_pleural_other: 0.1302 - val_recall_fracture: 0.1479 - val_f2_score_enlarged_cardiomediastinum: 0.0949 - val_f2_score_cardiomegaly: 0.4189 - val_f2_score_lung_opacity: 0.0014 - val_f2_score_lung_lesion: 0.1517 - val_f2_score_edema: 0.2921 - val_f2_score_consolidation: 0.0659 - val_f2_score_pneumonia: 0.0939 - val_f2_score_atelectasis: 0.0033 - val_f2_score_pneumothorax: 0.3714 - val_f2_score_pleural_effusion: 0.4115 - val_f2_score_pleural_other: 0.1404 - val_f2_score_fracture: 0.1682\n",
      "Epoch 3/3\n",
      "8344/8344 [==============================] - ETA: 0s - loss: 0.2341 - auc: 0.8080 - precision: 0.7158 - recall: 0.1647 - f2_score: 0.1946 - binary_accuracy: 0.8379 - accuracy_enlarged_cardiomediastinum: 0.9068 - accuracy_cardiomegaly: 0.8992 - accuracy_lung_opacity: 0.5281 - accuracy_lung_lesion: 0.9229 - accuracy_edema: 0.7870 - accuracy_consolidation: 0.9348 - accuracy_pneumonia: 0.8925 - accuracy_atelectasis: 0.7094 - accuracy_pneumothorax: 0.9254 - accuracy_pleural_effusion: 0.7432 - accuracy_pleural_other: 0.9187 - accuracy_fracture: 0.8873 - auc_enlarged_cardiomediastinum: 0.7309 - auc_cardiomegaly: 0.8612 - auc_lung_opacity: 0.7339 - auc_lung_lesion: 0.8215 - auc_edema: 0.8580 - auc_consolidation: 0.7627 - auc_pneumonia: 0.7551 - auc_atelectasis: 0.7226 - auc_pneumothorax: 0.8763 - auc_pleural_effusion: 0.8800 - auc_pleural_other: 0.8729 - auc_fracture: 0.8209 - precision_enlarged_cardiomediastinum: 0.5898 - precision_cardiomegaly: 0.6322 - precision_lung_opacity: 0.8110 - precision_lung_lesion: 0.5698 - precision_edema: 0.7987 - precision_consolidation: 0.4202 - precision_pneumonia: 0.4959 - precision_atelectasis: 0.8336 - precision_pneumothorax: 0.6074 - precision_pleural_effusion: 0.8812 - precision_pleural_other: 0.5622 - precision_fracture: 0.6816 - recall_enlarged_cardiomediastinum: 0.1024 - recall_cardiomegaly: 0.3383 - recall_lung_opacity: 0.0018 - recall_lung_lesion: 0.1911 - recall_edema: 0.2682 - recall_consolidation: 0.0440 - recall_pneumonia: 0.0572 - recall_atelectasis: 0.0014 - recall_pneumothorax: 0.3877 - recall_pleural_effusion: 0.3382 - recall_pleural_other: 0.3069 - recall_fracture: 0.2034 - f2_score_enlarged_cardiomediastinum: 0.1227 - f2_score_cardiomegaly: 0.3730 - f2_score_lung_opacity: 0.0022 - f2_score_lung_lesion: 0.2204 - f2_score_edema: 0.3093 - f2_score_consolidation: 0.0536 - f2_score_pneumonia: 0.0695 - f2_score_atelectasis: 0.0018 - f2_score_pneumothorax: 0.4179 - f2_score_pleural_effusion: 0.3858 - f2_score_pleural_other: 0.3375 - f2_score_fracture: 0.2365 - learning rate: 0.0050INFO:tensorflow:Summary name epoch_learning rate is illegal; using epoch_learning_rate instead.\n",
      "\n",
      "Epoch 00003: saving model to models/DenseNet121_Chexpert_CWBCE_L1Normed_E3_B32_C0_N12_AugAffineColor_sharp21_U75_D256_DS9505_5LR1_LF1_SGD_Upsampled/weights.03-0.21.hdf5\n",
      "8344/8344 [==============================] - 2590s 310ms/step - loss: 0.2341 - auc: 0.8080 - precision: 0.7158 - recall: 0.1647 - f2_score: 0.1946 - binary_accuracy: 0.8379 - accuracy_enlarged_cardiomediastinum: 0.9068 - accuracy_cardiomegaly: 0.8992 - accuracy_lung_opacity: 0.5281 - accuracy_lung_lesion: 0.9229 - accuracy_edema: 0.7870 - accuracy_consolidation: 0.9348 - accuracy_pneumonia: 0.8925 - accuracy_atelectasis: 0.7094 - accuracy_pneumothorax: 0.9254 - accuracy_pleural_effusion: 0.7432 - accuracy_pleural_other: 0.9187 - accuracy_fracture: 0.8873 - auc_enlarged_cardiomediastinum: 0.7309 - auc_cardiomegaly: 0.8612 - auc_lung_opacity: 0.7339 - auc_lung_lesion: 0.8215 - auc_edema: 0.8580 - auc_consolidation: 0.7627 - auc_pneumonia: 0.7551 - auc_atelectasis: 0.7226 - auc_pneumothorax: 0.8763 - auc_pleural_effusion: 0.8800 - auc_pleural_other: 0.8729 - auc_fracture: 0.8209 - precision_enlarged_cardiomediastinum: 0.5898 - precision_cardiomegaly: 0.6322 - precision_lung_opacity: 0.8111 - precision_lung_lesion: 0.5698 - precision_edema: 0.7987 - precision_consolidation: 0.4202 - precision_pneumonia: 0.4959 - precision_atelectasis: 0.8336 - precision_pneumothorax: 0.6074 - precision_pleural_effusion: 0.8812 - precision_pleural_other: 0.5622 - precision_fracture: 0.6816 - recall_enlarged_cardiomediastinum: 0.1024 - recall_cardiomegaly: 0.3383 - recall_lung_opacity: 0.0018 - recall_lung_lesion: 0.1911 - recall_edema: 0.2682 - recall_consolidation: 0.0440 - recall_pneumonia: 0.0572 - recall_atelectasis: 0.0014 - recall_pneumothorax: 0.3877 - recall_pleural_effusion: 0.3382 - recall_pleural_other: 0.3069 - recall_fracture: 0.2034 - f2_score_enlarged_cardiomediastinum: 0.1227 - f2_score_cardiomegaly: 0.3730 - f2_score_lung_opacity: 0.0022 - f2_score_lung_lesion: 0.2204 - f2_score_edema: 0.3093 - f2_score_consolidation: 0.0536 - f2_score_pneumonia: 0.0695 - f2_score_atelectasis: 0.0018 - f2_score_pneumothorax: 0.4179 - f2_score_pleural_effusion: 0.3858 - f2_score_pleural_other: 0.3375 - f2_score_fracture: 0.2365 - learning rate: 0.0050 - val_loss: 0.2100 - val_auc: 0.7928 - val_precision: 0.6712 - val_recall: 0.1774 - val_f2_score: 0.2080 - val_binary_accuracy: 0.8494 - val_accuracy_enlarged_cardiomediastinum: 0.9469 - val_accuracy_cardiomegaly: 0.8901 - val_accuracy_lung_opacity: 0.5330 - val_accuracy_lung_lesion: 0.9504 - val_accuracy_edema: 0.7731 - val_accuracy_consolidation: 0.9344 - val_accuracy_pneumonia: 0.8944 - val_accuracy_atelectasis: 0.7039 - val_accuracy_pneumothorax: 0.9258 - val_accuracy_pleural_effusion: 0.7350 - val_accuracy_pleural_other: 0.9558 - val_accuracy_fracture: 0.9494 - val_auc_enlarged_cardiomediastinum: 0.6732 - val_auc_cardiomegaly: 0.8717 - val_auc_lung_opacity: 0.7447 - val_auc_lung_lesion: 0.7908 - val_auc_edema: 0.8566 - val_auc_consolidation: 0.7630 - val_auc_pneumonia: 0.7432 - val_auc_atelectasis: 0.7220 - val_auc_pneumothorax: 0.8646 - val_auc_pleural_effusion: 0.8743 - val_auc_pleural_other: 0.8058 - val_auc_fracture: 0.8042 - val_precision_enlarged_cardiomediastinum: 0.2933 - val_precision_cardiomegaly: 0.6346 - val_precision_lung_opacity: 0.6250 - val_precision_lung_lesion: 0.3284 - val_precision_edema: 0.7765 - val_precision_consolidation: 0.3567 - val_precision_pneumonia: 0.4846 - val_precision_atelectasis: 0.7727 - val_precision_pneumothorax: 0.6191 - val_precision_pleural_effusion: 0.8700 - val_precision_pleural_other: 0.1586 - val_precision_fracture: 0.3762 - val_recall_enlarged_cardiomediastinum: 0.0793 - val_recall_cardiomegaly: 0.4007 - val_recall_lung_opacity: 9.2370e-04 - val_recall_lung_lesion: 0.1818 - val_recall_edema: 0.3002 - val_recall_consolidation: 0.0856 - val_recall_pneumonia: 0.1037 - val_recall_atelectasis: 0.0049 - val_recall_pneumothorax: 0.3231 - val_recall_pleural_effusion: 0.3742 - val_recall_pleural_other: 0.1460 - val_recall_fracture: 0.1479 - val_f2_score_enlarged_cardiomediastinum: 0.0928 - val_f2_score_cardiomegaly: 0.4325 - val_f2_score_lung_opacity: 0.0012 - val_f2_score_lung_lesion: 0.1996 - val_f2_score_edema: 0.3422 - val_f2_score_consolidation: 0.1009 - val_f2_score_pneumonia: 0.1230 - val_f2_score_atelectasis: 0.0062 - val_f2_score_pneumothorax: 0.3573 - val_f2_score_pleural_effusion: 0.4224 - val_f2_score_pleural_other: 0.1484 - val_f2_score_fracture: 0.1684\n"
     ]
    },
    {
     "data": {
      "text/plain": [
       "<tensorflow.python.keras.callbacks.History at 0x7fe8e43d09b0>"
      ]
     },
     "execution_count": 28,
     "metadata": {},
     "output_type": "execute_result"
    }
   ],
   "source": [
    "bce_chexpert_exp.train()"
   ]
  },
  {
   "cell_type": "code",
   "execution_count": 29,
   "metadata": {},
   "outputs": [
    {
     "name": "stdout",
     "output_type": "stream",
     "text": [
      "234/234 [==============================] - 6s 27ms/step\n"
     ]
    },
    {
     "name": "stderr",
     "output_type": "stream",
     "text": [
      "/usr/local/lib/python3.6/dist-packages/sklearn/metrics/_classification.py:1221: UndefinedMetricWarning: Precision and F-score are ill-defined and being set to 0.0 in labels with no predicted samples. Use `zero_division` parameter to control this behavior.\n",
      "  _warn_prf(average, modifier, msg_start, len(result))\n",
      "/usr/local/lib/python3.6/dist-packages/sklearn/metrics/_classification.py:1221: UndefinedMetricWarning: Recall and F-score are ill-defined and being set to 0.0 in labels with no true samples. Use `zero_division` parameter to control this behavior.\n",
      "  _warn_prf(average, modifier, msg_start, len(result))\n",
      "/usr/local/lib/python3.6/dist-packages/sklearn/metrics/_classification.py:1221: UndefinedMetricWarning: Precision and F-score are ill-defined and being set to 0.0 in samples with no predicted labels. Use `zero_division` parameter to control this behavior.\n",
      "  _warn_prf(average, modifier, msg_start, len(result))\n",
      "/usr/local/lib/python3.6/dist-packages/sklearn/metrics/_classification.py:1221: UndefinedMetricWarning: Recall and F-score are ill-defined and being set to 0.0 in samples with no true labels. Use `zero_division` parameter to control this behavior.\n",
      "  _warn_prf(average, modifier, msg_start, len(result))\n"
     ]
    },
    {
     "name": "stdout",
     "output_type": "stream",
     "text": [
      "234/234 [==============================] - 16s 68ms/step - loss: 0.3000 - auc: 0.7735 - precision: 0.6374 - recall: 0.1062 - f2_score: 0.1275 - binary_accuracy: 0.8145 - accuracy_enlarged_cardiomediastinum: 0.5427 - accuracy_cardiomegaly: 0.7521 - accuracy_lung_opacity: 0.4615 - accuracy_lung_lesion: 0.9872 - accuracy_edema: 0.8675 - accuracy_consolidation: 0.8675 - accuracy_pneumonia: 0.9530 - accuracy_atelectasis: 0.6624 - accuracy_pneumothorax: 0.9573 - accuracy_pleural_effusion: 0.7906 - accuracy_pleural_other: 0.9615 - accuracy_fracture: 0.9701 - auc_enlarged_cardiomediastinum: 0.5485 - auc_cardiomegaly: 0.7960 - auc_lung_opacity: 0.9101 - auc_lung_lesion: 0.9914 - auc_edema: 0.9233 - auc_consolidation: 0.9469 - auc_pneumonia: 0.7536 - auc_atelectasis: 0.8289 - auc_pneumothorax: 0.7085 - auc_pleural_effusion: 0.9217 - auc_pleural_other: 0.9528 - auc_fracture: 0.0000e+00 - precision_enlarged_cardiomediastinum: 1.0000 - precision_cardiomegaly: 1.0000 - precision_lung_opacity: 0.0000e+00 - precision_lung_lesion: 0.2500 - precision_edema: 0.8182 - precision_consolidation: 1.0000 - precision_pneumonia: 0.2000 - precision_atelectasis: 1.0000 - precision_pneumothorax: 0.3750 - precision_pleural_effusion: 0.9091 - precision_pleural_other: 0.0000e+00 - precision_fracture: 0.0000e+00 - recall_enlarged_cardiomediastinum: 0.0183 - recall_cardiomegaly: 0.1471 - recall_lung_opacity: 0.0000e+00 - recall_lung_lesion: 1.0000 - recall_edema: 0.4000 - recall_consolidation: 0.0606 - recall_pneumonia: 0.1250 - recall_atelectasis: 0.0125 - recall_pneumothorax: 0.3750 - recall_pleural_effusion: 0.2985 - recall_pleural_other: 0.0000e+00 - recall_fracture: 0.0000e+00 - f2_score_enlarged_cardiomediastinum: 0.0228 - f2_score_cardiomegaly: 0.1773 - f2_score_lung_opacity: 0.0000e+00 - f2_score_lung_lesion: 0.6250 - f2_score_edema: 0.4455 - f2_score_consolidation: 0.0746 - f2_score_pneumonia: 0.1351 - f2_score_atelectasis: 0.0156 - f2_score_pneumothorax: 0.3750 - f2_score_pleural_effusion: 0.3448 - f2_score_pleural_other: 0.0000e+00 - f2_score_fracture: 0.0000e+00\n"
     ]
    },
    {
     "data": {
      "text/plain": [
       "{'report': '                            precision    recall  f1-score   support\\n\\nEnlarged Cardiomediastinum       0.50      0.01      0.02       109\\n              Cardiomegaly       0.20      0.03      0.05        68\\n              Lung Opacity       0.00      0.00      0.00       126\\n               Lung Lesion       0.00      0.00      0.00         1\\n                     Edema       0.00      0.00      0.00        45\\n             Consolidation       0.00      0.00      0.00        33\\n                 Pneumonia       0.20      0.12      0.15         8\\n               Atelectasis       1.00      0.01      0.02        80\\n              Pneumothorax       0.00      0.00      0.00         8\\n          Pleural Effusion       0.32      0.10      0.16        67\\n             Pleural Other       0.00      0.00      0.00         1\\n                  Fracture       0.00      0.00      0.00         0\\n\\n                 micro avg       0.13      0.02      0.04       546\\n                 macro avg       0.18      0.02      0.03       546\\n              weighted avg       0.31      0.02      0.04       546\\n               samples avg       0.04      0.01      0.02       546\\n',\n",
       " 'metrics': {'loss': 0.29995253682136536,\n",
       "  'auc': 0.7734768986701965,\n",
       "  'precision': 0.6373626589775085,\n",
       "  'recall': 0.10622710734605789,\n",
       "  'f2_score': 0.12747251987457275,\n",
       "  'binary_accuracy': 0.8144588470458984,\n",
       "  'accuracy_enlarged_cardiomediastinum': 0.5427350401878357,\n",
       "  'accuracy_cardiomegaly': 0.752136766910553,\n",
       "  'accuracy_lung_opacity': 0.4615384638309479,\n",
       "  'accuracy_lung_lesion': 0.9871794581413269,\n",
       "  'accuracy_edema': 0.867521345615387,\n",
       "  'accuracy_consolidation': 0.867521345615387,\n",
       "  'accuracy_pneumonia': 0.9529914259910583,\n",
       "  'accuracy_atelectasis': 0.6623931527137756,\n",
       "  'accuracy_pneumothorax': 0.9572649598121643,\n",
       "  'accuracy_pleural_effusion': 0.7905982732772827,\n",
       "  'accuracy_pleural_other': 0.9615384340286255,\n",
       "  'accuracy_fracture': 0.9700854420661926,\n",
       "  'auc_enlarged_cardiomediastinum': 0.5485137701034546,\n",
       "  'auc_cardiomegaly': 0.7960224151611328,\n",
       "  'auc_lung_opacity': 0.9101264476776123,\n",
       "  'auc_lung_lesion': 0.9914162755012512,\n",
       "  'auc_edema': 0.9232804179191589,\n",
       "  'auc_consolidation': 0.9468566179275513,\n",
       "  'auc_pneumonia': 0.7535951733589172,\n",
       "  'auc_atelectasis': 0.8288961052894592,\n",
       "  'auc_pneumothorax': 0.7085176110267639,\n",
       "  'auc_pleural_effusion': 0.9217088222503662,\n",
       "  'auc_pleural_other': 0.9527896642684937,\n",
       "  'auc_fracture': 0.0,\n",
       "  'precision_enlarged_cardiomediastinum': 1.0,\n",
       "  'precision_cardiomegaly': 1.0,\n",
       "  'precision_lung_opacity': 0.0,\n",
       "  'precision_lung_lesion': 0.25,\n",
       "  'precision_edema': 0.8181818127632141,\n",
       "  'precision_consolidation': 1.0,\n",
       "  'precision_pneumonia': 0.20000000298023224,\n",
       "  'precision_atelectasis': 1.0,\n",
       "  'precision_pneumothorax': 0.375,\n",
       "  'precision_pleural_effusion': 0.9090909361839294,\n",
       "  'precision_pleural_other': 0.0,\n",
       "  'precision_fracture': 0.0,\n",
       "  'recall_enlarged_cardiomediastinum': 0.01834862306714058,\n",
       "  'recall_cardiomegaly': 0.14705882966518402,\n",
       "  'recall_lung_opacity': 0.0,\n",
       "  'recall_lung_lesion': 1.0,\n",
       "  'recall_edema': 0.4000000059604645,\n",
       "  'recall_consolidation': 0.06060606241226196,\n",
       "  'recall_pneumonia': 0.125,\n",
       "  'recall_atelectasis': 0.012500000186264515,\n",
       "  'recall_pneumothorax': 0.375,\n",
       "  'recall_pleural_effusion': 0.2985074520111084,\n",
       "  'recall_pleural_other': 0.0,\n",
       "  'recall_fracture': 0.0,\n",
       "  'f2_score_enlarged_cardiomediastinum': 0.02283104881644249,\n",
       "  'f2_score_cardiomegaly': 0.1773049682378769,\n",
       "  'f2_score_lung_opacity': 0.0,\n",
       "  'f2_score_lung_lesion': 0.625,\n",
       "  'f2_score_edema': 0.445544570684433,\n",
       "  'f2_score_consolidation': 0.0746268704533577,\n",
       "  'f2_score_pneumonia': 0.13513514399528503,\n",
       "  'f2_score_atelectasis': 0.015576324425637722,\n",
       "  'f2_score_pneumothorax': 0.375,\n",
       "  'f2_score_pleural_effusion': 0.3448275327682495,\n",
       "  'f2_score_pleural_other': 0.0,\n",
       "  'f2_score_fracture': 0.0},\n",
       " 'predictions': array([[0.12448215, 0.04630573, 0.04467065, ..., 0.00786558, 0.00810114,\n",
       "         0.05706859],\n",
       "        [0.06054097, 0.28845164, 0.23199844, ..., 0.2592473 , 0.063545  ,\n",
       "         0.09321166],\n",
       "        [0.05674319, 0.05613608, 0.3865459 , ..., 0.04609419, 0.05426491,\n",
       "         0.09727954],\n",
       "        ...,\n",
       "        [0.05403761, 0.27621707, 0.14931652, ..., 0.40790048, 0.13447624,\n",
       "         0.14585634],\n",
       "        [0.13093477, 0.03152721, 0.2994431 , ..., 0.01032165, 0.4548083 ,\n",
       "         0.06020799],\n",
       "        [0.13600229, 0.05094896, 0.02587696, ..., 0.00551473, 0.0102212 ,\n",
       "         0.04111838]], dtype=float32),\n",
       " 'groundtruth_label': array([[1., 1., 0., ..., 0., 0., 0.],\n",
       "        [1., 0., 1., ..., 1., 0., 0.],\n",
       "        [0., 0., 0., ..., 0., 0., 0.],\n",
       "        ...,\n",
       "        [1., 1., 1., ..., 1., 0., 0.],\n",
       "        [0., 0., 0., ..., 0., 0., 0.],\n",
       "        [1., 1., 1., ..., 0., 0., 0.]], dtype=float32)}"
      ]
     },
     "execution_count": 29,
     "metadata": {},
     "output_type": "execute_result"
    }
   ],
   "source": [
    "bce_chexpert_exp.evaluate()"
   ]
  },
  {
   "cell_type": "code",
   "execution_count": 30,
   "metadata": {},
   "outputs": [
    {
     "name": "stdout",
     "output_type": "stream",
     "text": [
      "INFO:tensorflow:Assets written to: /srv/idp-radio-1/models/DenseNet121_Chexpert_CWBCE_L1Normed_E3_B32_C0_N12_AugAffineColor_sharp21_U75_D256_DS9505_5LR1_LF1_SGD_Upsampled/DenseNet121_Chexpert_CWBCE_L1Normed_E3_B32_C0_N12_AugAffineColor_sharp21_U75_D256_DS9505_5LR1_LF1_SGD_Upsampled_20200827-173856/assets\n"
     ]
    },
    {
     "data": {
      "text/plain": [
       "'2eb47be0-e88c-11ea-9a58-0242ac110005'"
      ]
     },
     "execution_count": 30,
     "metadata": {},
     "output_type": "execute_result"
    }
   ],
   "source": [
    "bce_chexpert_exp.save()"
   ]
  },
  {
   "cell_type": "code",
   "execution_count": null,
   "metadata": {},
   "outputs": [],
   "source": []
  },
  {
   "cell_type": "code",
   "execution_count": 23,
   "metadata": {},
   "outputs": [
    {
     "data": {
      "text/plain": [
       "(<tf.Tensor: shape=(12,), dtype=float32, numpy=\n",
       " array([1.0471137 , 0.86157745, 0.2140513 , 1.2290254 , 0.3829084 ,\n",
       "        1.5654458 , 0.93557644, 0.34771097, 1.1680024 , 0.2783919 ,\n",
       "        1.1709423 , 0.7992542 ], dtype=float32)>,\n",
       " <tf.Tensor: shape=(12,), dtype=float32, numpy=\n",
       " array([1.0471137 , 0.86157745, 0.2140513 , 1.2290254 , 0.3829084 ,\n",
       "        1.5654458 , 0.93557644, 0.34771097, 1.1680024 , 0.2783919 ,\n",
       "        1.1709423 , 0.7992542 ], dtype=float32)>,\n",
       " <tf.Tensor: shape=(12,), dtype=float32, numpy=\n",
       " array([0.7336834 , 0.75095767, 1.2557218 , 0.722264  , 0.90054774,\n",
       "        0.7086204 , 0.7431472 , 0.93446344, 0.7256606 , 1.0406255 ,\n",
       "        0.7254881 , 0.7588202 ], dtype=float32)>)"
      ]
     },
     "execution_count": 23,
     "metadata": {},
     "output_type": "execute_result"
    }
   ],
   "source": [
    "compute_class_weight(bce_chexpert_exp.benchmark.traingen)"
   ]
  },
  {
   "cell_type": "code",
   "execution_count": null,
   "metadata": {},
   "outputs": [],
   "source": [
    "trained_weights = bce_chexpert_exp.model.get_weights()"
   ]
  },
  {
   "cell_type": "code",
   "execution_count": null,
   "metadata": {},
   "outputs": [],
   "source": [
    "images, labels = bce_chexpert_exp.benchmark.traingen[0]\n",
    "len(images)"
   ]
  },
  {
   "cell_type": "code",
   "execution_count": null,
   "metadata": {},
   "outputs": [],
   "source": [
    "preds = bce_chexpert_exp.model(images, training=True)\n",
    "preds.op"
   ]
  },
  {
   "cell_type": "code",
   "execution_count": null,
   "metadata": {},
   "outputs": [],
   "source": [
    "bce_chexpert_exp.model.summary(line_length=150)"
   ]
  },
  {
   "cell_type": "code",
   "execution_count": null,
   "metadata": {},
   "outputs": [],
   "source": [
    "index = -1\n",
    "trained_weights[index].shape, trained_weights[index], np.isnan(trained_weights[index]).any()"
   ]
  },
  {
   "cell_type": "code",
   "execution_count": null,
   "metadata": {},
   "outputs": [],
   "source": [
    "nan_layers = [i for i in range(len(trained_weights)) if np.isnan(trained_weights[i]).any()] \n",
    "#nan_layers   "
   ]
  },
  {
   "cell_type": "code",
   "execution_count": null,
   "metadata": {},
   "outputs": [],
   "source": [
    "mean_weights = {i:np.abs(trained_weights[i]).mean() for i in range(len(trained_weights))}\n",
    "#mean_weights"
   ]
  },
  {
   "cell_type": "code",
   "execution_count": null,
   "metadata": {},
   "outputs": [],
   "source": [
    "{i:trained_weights[i].shape for i in range(len(trained_weights))}"
   ]
  },
  {
   "cell_type": "code",
   "execution_count": null,
   "metadata": {},
   "outputs": [],
   "source": [
    "for i in range(191, 195):\n",
    "    print(i, trained_weights[i].shape, trained_weights[i])"
   ]
  },
  {
   "cell_type": "code",
   "execution_count": null,
   "metadata": {},
   "outputs": [],
   "source": [
    "#chexpert_exp.save()"
   ]
  },
  {
   "cell_type": "code",
   "execution_count": null,
   "metadata": {},
   "outputs": [],
   "source": [
    "from datetime import datetime\n",
    "model_filename = chexpert_exp.model_name + \"_\" + datetime.now().strftime(\"%Y%m%d-%H%M%S\")\n",
    "model_filename_tf = model_filename + \".tf\"\n",
    "model_filename_h5 = model_filename + \".h5\"\n",
    "model_filename"
   ]
  },
  {
   "cell_type": "code",
   "execution_count": null,
   "metadata": {},
   "outputs": [],
   "source": [
    "folderpath = Path(os.getcwd()) / 'models' / chexpert_exp.model_name\n",
    "path = folderpath / model_filename\n",
    "path"
   ]
  },
  {
   "cell_type": "code",
   "execution_count": null,
   "metadata": {},
   "outputs": [],
   "source": [
    "# make sure path exists, ceate one if necessary\n",
    "Path(folderpath).mkdir(parents=True, exist_ok=True)\n",
    "chexpert_exp.model.save(path, save_format=\"tf\")"
   ]
  },
  {
   "cell_type": "code",
   "execution_count": null,
   "metadata": {},
   "outputs": [],
   "source": [
    "# make sure path exists, ceate one if necessary\n",
    "Path(folderpath).mkdir(parents=True, exist_ok=True)\n",
    "chexpert_exp.model.save(folderpath / model_filename_h5, save_format=\"h5\")"
   ]
  },
  {
   "cell_type": "code",
   "execution_count": null,
   "metadata": {},
   "outputs": [],
   "source": [
    "!pwd"
   ]
  },
  {
   "cell_type": "code",
   "execution_count": null,
   "metadata": {},
   "outputs": [],
   "source": [
    "folderpath / model_filename_h5"
   ]
  },
  {
   "cell_type": "code",
   "execution_count": null,
   "metadata": {},
   "outputs": [],
   "source": [
    "chexpert_exp.save()"
   ]
  },
  {
   "cell_type": "code",
   "execution_count": null,
   "metadata": {},
   "outputs": [],
   "source": [
    "chexpert_exp.evaluate()"
   ]
  },
  {
   "cell_type": "code",
   "execution_count": null,
   "metadata": {},
   "outputs": [],
   "source": [
    "testgen = chexpert_benchmarks[\"BCE_E1_B32_C0_N5_D256_DS0595_savetest7\"].testgen"
   ]
  },
  {
   "cell_type": "code",
   "execution_count": null,
   "metadata": {},
   "outputs": [],
   "source": [
    "preds = chexpert_exp.model.predict(testgen, steps=len(testgen), verbose=1)"
   ]
  },
  {
   "cell_type": "code",
   "execution_count": null,
   "metadata": {},
   "outputs": [],
   "source": [
    "import numpy as np\n",
    "from sklearn.metrics import classification_report\n",
    "from tensorflow.keras.metrics import Precision, Recall\n",
    "from tensorflow.keras import models\n",
    "import json\n",
    "from src.architectures.benchmarks.benchmark import Benchmark, Experiment\n",
    "from pathlib import Path\n",
    "from keras.utils.generic_utils import get_custom_objects\n",
    "from src.metrics.losses import WeightedBinaryCrossentropy, compute_class_weight\n",
    "\n",
    "\n",
    "groundtruth_label = testgen.get_labels_nonan()\n",
    "thresholds = [0.5]\n",
    "for t in thresholds:\n",
    "    print('current threshold: ', t)\n",
    "    predictions_bool = (preds >= t)\n",
    "    y_pred = np.array(predictions_bool, dtype=int)\n",
    "\n",
    "    # report = classification_report(groundtruth_label, y_pred, target_names=list(CHEXPERT_BENCHMARKS['WBCE_E5_B32_C0'].label_columns))\n",
    "    # print('sklearn report: ', report)\n",
    "    \n",
    "    pre = Precision(thresholds=t)\n",
    "    pre.update_state(groundtruth_label, predictions_bool)\n",
    "    print('TF Precision: ', pre.result())\n",
    "    pre.reset_states()\n",
    "    \n",
    "    rec = Recall(thresholds=t)\n",
    "    rec.update_state(groundtruth_label, predictions_bool)\n",
    "    print('TF Recall: ', rec.result())\n",
    "    rec.reset_states()"
   ]
  },
  {
   "cell_type": "code",
   "execution_count": null,
   "metadata": {
    "pycharm": {
     "name": "#%%\n"
    }
   },
   "outputs": [],
   "source": [
    "report = classification_report(groundtruth_label, y_pred, target_names=chexpert_benchmarks[\"BCE_E1_B32_C0_N5_D256_DS0595_savetest7\"].label_columns)\n",
    "print('sklearn report: ', report)"
   ]
  },
  {
   "cell_type": "code",
   "execution_count": null,
   "metadata": {},
   "outputs": [],
   "source": []
  },
  {
   "cell_type": "code",
   "execution_count": null,
   "metadata": {},
   "outputs": [],
   "source": [
    "model = tf.keras.models.load_model('models/DenseNet121_Chexpert_BCE_E1_B32_C0_N5_D256_DS0595_savetest7/DenseNet121_Chexpert_BCE_E1_B32_C0_N5_D256_DS0595_savetest7_20200819-125620.h5', compile=False)"
   ]
  },
  {
   "cell_type": "code",
   "execution_count": null,
   "metadata": {},
   "outputs": [],
   "source": [
    "predstwo = model.predict(testgen, steps=len(testgen), verbose=1)"
   ]
  },
  {
   "cell_type": "code",
   "execution_count": null,
   "metadata": {},
   "outputs": [],
   "source": [
    "groundtruth_label = testgen.get_labels_nonan()\n",
    "predictions_bool = (predstwo >= t)\n",
    "y_pred = np.array(predictions_bool, dtype=int)\n",
    "report = classification_report(groundtruth_label, y_pred, target_names=chexpert_benchmarks[\"BCE_E1_B32_C0_N5_D256_DS0595_savetest7\"].label_columns)\n",
    "print('sklearn report: ', report)"
   ]
  },
  {
   "cell_type": "code",
   "execution_count": null,
   "metadata": {},
   "outputs": [],
   "source": []
  },
  {
   "cell_type": "code",
   "execution_count": null,
   "metadata": {},
   "outputs": [],
   "source": [
    "\"test.h5\".replace(\".h5\", \"\")"
   ]
  },
  {
   "cell_type": "code",
   "execution_count": null,
   "metadata": {},
   "outputs": [],
   "source": []
  },
  {
   "cell_type": "code",
   "execution_count": null,
   "metadata": {},
   "outputs": [],
   "source": []
  },
  {
   "cell_type": "code",
   "execution_count": null,
   "metadata": {},
   "outputs": [],
   "source": []
  },
  {
   "cell_type": "code",
   "execution_count": null,
   "metadata": {},
   "outputs": [],
   "source": []
  },
  {
   "cell_type": "code",
   "execution_count": null,
   "metadata": {},
   "outputs": [],
   "source": []
  },
  {
   "cell_type": "code",
   "execution_count": null,
   "metadata": {},
   "outputs": [],
   "source": []
  },
  {
   "cell_type": "code",
   "execution_count": null,
   "metadata": {},
   "outputs": [],
   "source": []
  },
  {
   "cell_type": "code",
   "execution_count": null,
   "metadata": {},
   "outputs": [],
   "source": []
  },
  {
   "cell_type": "code",
   "execution_count": null,
   "metadata": {},
   "outputs": [],
   "source": []
  },
  {
   "cell_type": "code",
   "execution_count": null,
   "metadata": {},
   "outputs": [],
   "source": []
  },
  {
   "cell_type": "code",
   "execution_count": null,
   "metadata": {},
   "outputs": [],
   "source": [
    "# model_guendel_chestxray14 = densenet(classes=len(CHESTXRAY14_COLUMNS))\n",
    "model_guendel_chexpert = densenet(classes=len(CHEXPERT_COLUMNS))\n",
    "\n",
    "#experiment_guendel_chestxray14 = Experiment(chestxray14_benchmark, model_guendel_chestxray14)\n",
    "experiment_guendel_chexpert = Experiment(CHEXPERT_BENCHMARKS[\"WBCE_E10_B32\"], model_guendel_chexpert, model_name=\"test_WBCE_32\")\n",
    "\n"
   ]
  },
  {
   "cell_type": "code",
   "execution_count": null,
   "metadata": {},
   "outputs": [],
   "source": [
    "#experiment_guendel_chestxray14_result =  experiment_guendel_chestxray14.run()"
   ]
  },
  {
   "cell_type": "code",
   "execution_count": null,
   "metadata": {},
   "outputs": [],
   "source": [
    "experiment_guendel_chexpert_result =  experiment_guendel_chexpert.run()"
   ]
  },
  {
   "cell_type": "code",
   "execution_count": null,
   "metadata": {},
   "outputs": [],
   "source": [
    "experiment_guendel_chexpert.evaluate()"
   ]
  },
  {
   "cell_type": "code",
   "execution_count": null,
   "metadata": {},
   "outputs": [],
   "source": [
    "experiment_guendel_chexpert.save(upload=False)"
   ]
  },
  {
   "cell_type": "code",
   "execution_count": null,
   "metadata": {},
   "outputs": [],
   "source": [
    "print(\"done\")"
   ]
  },
  {
   "cell_type": "code",
   "execution_count": null,
   "metadata": {},
   "outputs": [],
   "source": [
    "CHEXPERT_BENCHMARKS[\"WBCE_E10_B32\"].as_dict()"
   ]
  },
  {
   "cell_type": "code",
   "execution_count": null,
   "metadata": {},
   "outputs": [],
   "source": []
  },
  {
   "cell_type": "code",
   "execution_count": null,
   "metadata": {},
   "outputs": [],
   "source": [
    "import numpy as np\n",
    "import tensorflow as tf\n",
    "from tensorflow.keras.losses import Loss\n",
    "from tensorflow.python.ops.losses import util as tf_losses_util\n",
    "from tensorflow.python.framework import tensor_util\n",
    "from tensorflow.python.framework import constant_op\n",
    "from tensorflow.python.ops import math_ops\n",
    "from tensorflow.python.ops import clip_ops\n",
    "from tensorflow.python.keras import backend_config"
   ]
  },
  {
   "cell_type": "code",
   "execution_count": null,
   "metadata": {},
   "outputs": [],
   "source": [
    "weights_pos = tf.ones((4)) * 20.0\n",
    "weights_neg = tf.ones((4)) * 0.5\n",
    "y_true = tf.constant([[0, -1, -1, 1], [-1, 0, -1, -1]], dtype=tf.float32)\n",
    "y_pred = tf.constant([[0.1, 0.2, 0.3, 0.4], [0.5, 0.6, 0.7, 0.8]])\n",
    "loss = tf.keras.losses.binary_crossentropy(y_true, y_pred)\n",
    "loss"
   ]
  },
  {
   "cell_type": "code",
   "execution_count": null,
   "metadata": {},
   "outputs": [],
   "source": [
    "y_true = tf.constant(y_true, dtype=tf.float32)\n",
    "y_true"
   ]
  },
  {
   "cell_type": "code",
   "execution_count": null,
   "metadata": {},
   "outputs": [],
   "source": [
    "y_pred = tf.constant(y_pred)\n",
    "y_pred"
   ]
  },
  {
   "cell_type": "code",
   "execution_count": null,
   "metadata": {},
   "outputs": [],
   "source": [
    "if tensor_util.is_tensor(y_pred) and tensor_util.is_tensor(y_true):\n",
    "    y_pred, y_true = tf_losses_util.squeeze_or_expand_dimensions(\n",
    "        y_pred, y_true)\n",
    "\n",
    "epsilon_ = constant_op.constant(\n",
    "     backend_config.epsilon(), dtype=y_pred.dtype.base_dtype)\n",
    "y_pred = clip_ops.clip_by_value(y_pred, epsilon_, 1. - epsilon_)"
   ]
  },
  {
   "cell_type": "code",
   "execution_count": null,
   "metadata": {},
   "outputs": [],
   "source": [
    "mask = tf.cast(tf.math.greater_equal(y_true, 0), tf.float32)\n",
    "\n",
    "# Compute cross entropy from probabilities.\n",
    "bce_pos = y_true * math_ops.log(y_pred + epsilon_)\n",
    "bce_neg = (1 - y_true) * math_ops.log(1 - y_pred + epsilon_)\n",
    "\n",
    "bce_pos = tf.math.multiply_no_nan(bce_pos, mask)\n",
    "bce_neg = tf.math.multiply_no_nan(bce_neg, mask)\n",
    "\n",
    "bce = bce_pos * weights_pos + \\\n",
    "    bce_neg * weights_neg\n",
    "\n",
    "loss = tf.reduce_sum(-bce) / tf.reduce_sum(mask)\n",
    "loss"
   ]
  },
  {
   "cell_type": "code",
   "execution_count": null,
   "metadata": {},
   "outputs": [],
   "source": [
    "tf.reduce_sum(mask)"
   ]
  },
  {
   "cell_type": "code",
   "execution_count": null,
   "metadata": {},
   "outputs": [],
   "source": []
  },
  {
   "cell_type": "code",
   "execution_count": null,
   "metadata": {},
   "outputs": [],
   "source": [
    "bce_neg"
   ]
  },
  {
   "cell_type": "code",
   "execution_count": null,
   "metadata": {},
   "outputs": [],
   "source": [
    "bce"
   ]
  },
  {
   "cell_type": "code",
   "execution_count": null,
   "metadata": {},
   "outputs": [],
   "source": [
    "\n",
    "from tensorflow.keras import backend as K\n"
   ]
  },
  {
   "cell_type": "code",
   "execution_count": null,
   "metadata": {},
   "outputs": [],
   "source": []
  },
  {
   "cell_type": "code",
   "execution_count": null,
   "metadata": {},
   "outputs": [],
   "source": []
  },
  {
   "cell_type": "code",
   "execution_count": null,
   "metadata": {},
   "outputs": [],
   "source": []
  },
  {
   "cell_type": "code",
   "execution_count": null,
   "metadata": {},
   "outputs": [],
   "source": []
  },
  {
   "cell_type": "code",
   "execution_count": null,
   "metadata": {},
   "outputs": [],
   "source": []
  },
  {
   "cell_type": "code",
   "execution_count": null,
   "metadata": {},
   "outputs": [],
   "source": []
  },
  {
   "cell_type": "code",
   "execution_count": null,
   "metadata": {},
   "outputs": [],
   "source": []
  },
  {
   "cell_type": "code",
   "execution_count": null,
   "metadata": {},
   "outputs": [],
   "source": []
  },
  {
   "cell_type": "code",
   "execution_count": null,
   "metadata": {},
   "outputs": [],
   "source": []
  },
  {
   "cell_type": "code",
   "execution_count": null,
   "metadata": {},
   "outputs": [],
   "source": []
  },
  {
   "cell_type": "code",
   "execution_count": null,
   "metadata": {},
   "outputs": [],
   "source": []
  },
  {
   "cell_type": "code",
   "execution_count": null,
   "metadata": {},
   "outputs": [],
   "source": []
  },
  {
   "cell_type": "code",
   "execution_count": null,
   "metadata": {},
   "outputs": [],
   "source": []
  },
  {
   "cell_type": "code",
   "execution_count": null,
   "metadata": {},
   "outputs": [],
   "source": []
  }
 ],
 "metadata": {
  "kernelspec": {
   "display_name": "Python 3",
   "language": "python",
   "name": "python3"
  },
  "language_info": {
   "codemirror_mode": {
    "name": "ipython",
    "version": 3
   },
   "file_extension": ".py",
   "mimetype": "text/x-python",
   "name": "python",
   "nbconvert_exporter": "python",
   "pygments_lexer": "ipython3",
   "version": "3.6.9"
  },
  "pycharm": {
   "stem_cell": {
    "cell_type": "raw",
    "metadata": {
     "collapsed": false
    },
    "source": []
   }
  }
 },
 "nbformat": 4,
 "nbformat_minor": 4
}
