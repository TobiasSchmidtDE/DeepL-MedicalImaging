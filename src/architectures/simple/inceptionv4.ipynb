{
 "cells": [
  {
   "cell_type": "code",
   "execution_count": null,
   "metadata": {
    "collapsed": true
   },
   "outputs": [],
   "source": [
    "import os\n",
    "import keras\n",
    "import cv2\n",
    "import pandas as pd\n",
    "import numpy as np\n",
    "from skimage.transform import resize\n",
    "from pathlib import Path\n",
    "from keras_preprocessing.image import ImageDataGenerator\n",
    "from keras.applications.inception_v3 import InceptionV3\n",
    "from keras.layers import Dense, GlobalAveragePooling2D\n",
    "from keras.models import Model\n",
    "from sklearn.model_selection import train_test_split"
   ]
  },
  {
   "cell_type": "code",
   "execution_count": null,
   "metadata": {},
   "outputs": [],
   "source": [
    "DATASET_FOLDER = '../../../data/dataset/'\n",
    "SEED = 17"
   ]
  },
  {
   "cell_type": "code",
   "execution_count": null,
   "metadata": {},
   "outputs": [],
   "source": [
    "data = pd.read_csv(os.path.join(DATASET_FOLDER + 'train.csv'))\n",
    "\n",
    "# preprocess\n",
    "data = data.fillna(0)\n",
    "\n",
    "# drop lateral images\n",
    "data = data[~data['Frontal/Lateral'].str.contains(\"Lateral\")]\n",
    "\n",
    "# drop unrelevant columns\n",
    "data = data.drop([\"Sex\", \"Age\", \"Frontal/Lateral\", \"AP/PA\"], axis=1)\n",
    "\n",
    "# deal with uncertanty (-1) values\n",
    "data = data.replace(-1,1)\n",
    "\n",
    "np.random.seed(SEED)\n",
    "data_train, data_test = train_test_split(data, test_size=0.2)\n",
    "data_train, data_val = train_test_split(data_train, test_size=0.2)"
   ]
  },
  {
   "cell_type": "code",
   "execution_count": null,
   "metadata": {},
   "outputs": [],
   "source": [
    "train_datagen=ImageDataGenerator(rescale=1./255)\n",
    "valid_datagen=ImageDataGenerator(rescale=1./255.)\n",
    "test_datagen=ImageDataGenerator(rescale=1./255.)"
   ]
  },
  {
   "cell_type": "code",
   "execution_count": null,
   "metadata": {},
   "outputs": [],
   "source": [
    "target_size = (224,224)\n",
    "train_generator=train_datagen.flow_from_dataframe(\n",
    "    dataframe=data_train, directory=DATASET_FOLDER , x_col='Path', y_col=list(data_train.columns[1:15]), class_mode='other', target_size=target_size, batch_size=32\n",
    ")\n",
    "valid_generator = valid_datagen.flow_from_dataframe(\n",
    "    dataframe=data_val, directory=DATASET_FOLDER , x_col='Path', y_col=list(data_val.columns[1:15]), class_mode='other', target_size=target_size, batch_size=32\n",
    ")\n",
    "test_generator = test_datagen.flow_from_dataframe(\n",
    "    dataframe=data_test, directory=DATASET_FOLDER , x_col=\"Path\", y_col=list(data_test.columns[1:15]), class_mode=\"other\", target_size=target_size, shuffle=False, batch_size=1\n",
    ")"
   ]
  },
  {
   "cell_type": "code",
   "execution_count": null,
   "metadata": {},
   "outputs": [],
   "source": [
    "base_model = InceptionV3(include_top=False, weights='imagenet')\n",
    "\n",
    "# add global pooling and dense output layer \n",
    "x = base_model.output\n",
    "x = GlobalAveragePooling2D()(x)\n",
    "x = Dense(1024, activation='relu')(x)\n",
    "prediction_layer = Dense(14, activation='sigmoid')(x)\n",
    "\n",
    "model = Model(inputs=base_model.input, outputs=prediction_layer)"
   ]
  },
  {
   "cell_type": "code",
   "execution_count": null,
   "metadata": {},
   "outputs": [],
   "source": [
    "# freeze all convolutional layers\n",
    "for layer in base_model.layers:\n",
    "    layer.trainable = False"
   ]
  },
  {
   "cell_type": "code",
   "execution_count": null,
   "metadata": {},
   "outputs": [],
   "source": [
    "# compile model\n",
    "adam = keras.optimizers.Adam()\n",
    "model.compile(optimizer=adam, loss='binary_crossentropy', metrics=['accuracy'])"
   ]
  },
  {
   "cell_type": "code",
   "execution_count": null,
   "metadata": {},
   "outputs": [],
   "source": [
    "# fit model \n",
    "num_epochs = 3\n",
    "STEP_SIZE_TRAIN= train_generator.n // train_generator.batch_size\n",
    "STEP_SIZE_VALID= valid_generator.n // valid_generator.batch_size\n",
    "\n",
    "result = model.fit_generator(generator=train_generator,\n",
    "                    steps_per_epoch=STEP_SIZE_TRAIN,\n",
    "                    validation_data=valid_generator,\n",
    "                    validation_steps=STEP_SIZE_VALID,\n",
    "                    epochs=num_epochs)\n",
    "\n",
    "# save the model\n",
    "model.save('../../../models/inception/inception-v3.h5')"
   ]
  },
  {
   "cell_type": "code",
   "execution_count": null,
   "metadata": {},
   "outputs": [],
   "source": []
  }
 ],
 "metadata": {
  "kernelspec": {
   "display_name": "Python 3.7.4 64-bit ('base': conda)",
   "language": "python",
   "name": "python37464bitbaseconda4533311b680c493785422518a33a923d"
  },
  "language_info": {
   "codemirror_mode": {
    "name": "ipython",
    "version": 2
   },
   "file_extension": ".py",
   "mimetype": "text/x-python",
   "name": "python",
   "nbconvert_exporter": "python",
   "pygments_lexer": "ipython2",
   "version": "3.7.4-final"
  }
 },
 "nbformat": 4,
 "nbformat_minor": 0
}