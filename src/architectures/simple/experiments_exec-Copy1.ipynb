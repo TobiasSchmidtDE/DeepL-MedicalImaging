{
 "cells": [
  {
   "cell_type": "code",
   "execution_count": 1,
   "metadata": {
    "pycharm": {
     "name": "#%%\n"
    }
   },
   "outputs": [
    {
     "data": {
      "text/plain": [
       "'/srv/idp-radio-1'"
      ]
     },
     "execution_count": 1,
     "metadata": {},
     "output_type": "execute_result"
    }
   ],
   "source": [
    "import os \n",
    "import datetime\n",
    "from pathlib import Path\n",
    "from dotenv import load_dotenv, find_dotenv\n",
    "\n",
    "basepath = Path(os.getcwd())\n",
    "# make sure your working directory is the repository root.\n",
    "if basepath.name != \"idp-radio-1\":\n",
    "    os.chdir(basepath.parent.parent.parent)\n",
    "load_dotenv(find_dotenv())\n",
    "\n",
    "%load_ext autoreload\n",
    "%autoreload 2\n",
    "os.getcwd()"
   ]
  },
  {
   "cell_type": "code",
   "execution_count": 2,
   "metadata": {
    "pycharm": {
     "is_executing": false
    }
   },
   "outputs": [],
   "source": [
    "import os \n",
    "import tensorflow as tf\n",
    "from pathlib import Path"
   ]
  },
  {
   "cell_type": "code",
   "execution_count": 3,
   "metadata": {},
   "outputs": [],
   "source": [
    "import cv2"
   ]
  },
  {
   "cell_type": "code",
   "execution_count": 4,
   "metadata": {},
   "outputs": [
    {
     "name": "stdout",
     "output_type": "stream",
     "text": [
      "Device mapping:\n",
      "/job:localhost/replica:0/task:0/device:XLA_CPU:0 -> device: XLA_CPU device\n",
      "/job:localhost/replica:0/task:0/device:XLA_GPU:0 -> device: XLA_GPU device\n",
      "/job:localhost/replica:0/task:0/device:GPU:0 -> device: 0, name: GeForce RTX 2080 Ti, pci bus id: 0000:03:00.0, compute capability: 7.5\n",
      "\n"
     ]
    },
    {
     "data": {
      "text/plain": [
       "<tensorflow.python.client.session.Session at 0x7fbae3ce2c18>"
      ]
     },
     "execution_count": 4,
     "metadata": {},
     "output_type": "execute_result"
    }
   ],
   "source": [
    "# Run this before loading other dependencies, otherwise they might occupy memory on gpu 0 by default and it will stay that way\n",
    "\n",
    "# Specify which GPU(s) to use\n",
    "os.environ[\"CUDA_VISIBLE_DEVICES\"] = \"0\"  # Or 2, 3, etc. other than 0\n",
    "\n",
    "config = tf.compat.v1.ConfigProto(device_count={'GPU': 1}, allow_soft_placement=True, log_device_placement=True)\n",
    "config.gpu_options.allow_growth = True\n",
    "config.gpu_options.per_process_gpu_memory_fraction = 1.0\n",
    "tf.compat.v1.Session(config=config)\n"
   ]
  },
  {
   "cell_type": "code",
   "execution_count": 16,
   "metadata": {},
   "outputs": [],
   "source": [
    "from tensorflow.keras.applications.inception_v3 import InceptionV3\n",
    "from tensorflow.keras.applications.densenet import DenseNet121, DenseNet169\n",
    "from tensorflow.keras.applications.resnet_v2 import ResNet101V2\n",
    "from src.architectures.simple.simple_base import SimpleBaseArchitecture\n",
    "from src.architectures.adv.guendel19 import densenet\n",
    "import numpy as np\n",
    "\n",
    "from src.architectures.benchmarks.benchmark import Benchmark, Experiment\n",
    "from tensorflow.keras.optimizers import Adam, SGD\n",
    "from src.architectures.benchmarks.benchmark_definitions import Chexpert_Benchmark, Chestxray14_Benchmark, simple_architecture_experiment, generate_benchmarks, METRICS, SINGLE_CLASS_METRICS, CHEXPERT_COLUMNS, CHESTXRAY14_COLUMNS\n",
    "from src.metrics.metrics import F2Score\n",
    "from src.metrics.losses import WeightedBinaryCrossentropy, BinaryCrossentropy, compute_class_weight"
   ]
  },
  {
   "cell_type": "code",
   "execution_count": 21,
   "metadata": {},
   "outputs": [],
   "source": [
    "#CHEXPERT_BENCHMARKS, CHESTXRAY14_BENCHMARKS = generate_benchmarks (batch_sizes={\"Medium\": 32}, epoch_sizes= {\"Dev\": 5,}, crop={\"C0\": False}, name_suffix=\"\",)\n",
    "\n"
   ]
  },
  {
   "cell_type": "code",
   "execution_count": 22,
   "metadata": {},
   "outputs": [],
   "source": [
    "#CHEXPERT_BENCHMARKS.keys() "
   ]
  },
  {
   "cell_type": "code",
   "execution_count": 23,
   "metadata": {},
   "outputs": [],
   "source": [
    "#CHESTXRAY14_BENCHMARKS.keys()"
   ]
  },
  {
   "cell_type": "code",
   "execution_count": 24,
   "metadata": {},
   "outputs": [],
   "source": [
    "#[m.name for m in METRICS]"
   ]
  },
  {
   "cell_type": "code",
   "execution_count": 25,
   "metadata": {},
   "outputs": [],
   "source": [
    "#CHEXPERT_COLUMNS"
   ]
  },
  {
   "cell_type": "code",
   "execution_count": 26,
   "metadata": {},
   "outputs": [
    {
     "name": "stdout",
     "output_type": "stream",
     "text": [
      "URLs open for the following services:\n",
      "[('jupyterlab', 'http://64507fb37a13.ngrok.io'), ('tensorboard', 'http://154ac13baf36.ngrok.io')]\n"
     ]
    }
   ],
   "source": [
    "!remote_access/get_tunnels.sh"
   ]
  },
  {
   "cell_type": "code",
   "execution_count": 27,
   "metadata": {},
   "outputs": [],
   "source": [
    "#CHEXPERT_BENCHMARKS[\"BCE_E5_B32_C0\"].as_dict()"
   ]
  },
  {
   "cell_type": "code",
   "execution_count": 28,
   "metadata": {},
   "outputs": [],
   "source": [
    "#chexpert_exp = simple_architecture_experiment(CHEXPERT_BENCHMARKS[\"BCE_E5_B32_C0\"], DenseNet121, CHEXPERT_COLUMNS)"
   ]
  },
  {
   "cell_type": "code",
   "execution_count": 29,
   "metadata": {},
   "outputs": [],
   "source": [
    "#chexpert_exp.benchmark.as_dict()"
   ]
  },
  {
   "cell_type": "code",
   "execution_count": 30,
   "metadata": {},
   "outputs": [],
   "source": [
    "#chexpert_exp.run()"
   ]
  },
  {
   "cell_type": "code",
   "execution_count": null,
   "metadata": {},
   "outputs": [],
   "source": []
  },
  {
   "cell_type": "code",
   "execution_count": 6,
   "metadata": {},
   "outputs": [],
   "source": [
    "columns_12 = ['Enlarged Cardiomediastinum',\n",
    "                    'Cardiomegaly',\n",
    "                    'Lung Opacity',\n",
    "                    'Lung Lesion',\n",
    "                    'Edema',\n",
    "                    'Consolidation',\n",
    "                    'Pneumonia',\n",
    "                    'Atelectasis',\n",
    "                    'Pneumothorax',\n",
    "                    'Pleural Effusion',\n",
    "                    'Pleural Other',\n",
    "                    'Fracture']\n",
    "\n",
    "uzeros = ['Cardiomegaly',\n",
    "        'Enlarged Cardiomediastinum',\n",
    "        'Lung Lesion',\n",
    "        'Pneumonia',\n",
    "        'Atelectasis',\n",
    "        'Fracture',\n",
    "        'Pleural Other']\n",
    "\n",
    "uones = ['Edema',\n",
    "         'Lung Opacity',\n",
    "        'Consolidation',\n",
    "        'Pneumothorax',\n",
    "        'Pleural Effusion']\n",
    "\n",
    "\n",
    "upsample_factors = {\n",
    "    \"Enlarged Cardiomediastinum\": 1,\n",
    "    \"Lung Lesion\":1,\n",
    "    #\"Pneumothorax\":1,\n",
    "    #\"Pneumonia\":1,\n",
    "    \"Pleural Other\":2,\n",
    "    \"Fracture\":2,\n",
    "}\n",
    "\n",
    "columns_5 =  ['Cardiomegaly',\n",
    "                'Edema',\n",
    "                'Consolidation',\n",
    "                'Atelectasis',\n",
    "                'Pleural Effusion']\n",
    "\n",
    "uzeros_5 = ['Cardiomegaly',\n",
    "        'Consolidation',\n",
    "        'Pleural Effusion']\n",
    "\n",
    "uones_5 = ['Edema',\n",
    "        'Atelectasis']\n",
    "\n",
    "\n",
    "upsample_factors_5 = {\n",
    "    \"Consolidation\":2,\n",
    "    \"Cardiomegaly\":1\n",
    "}\n",
    "\n",
    "transformations_0 = {\"hist_equalization\":{}}\n",
    "transformations_1 = { \"gaussian_blur\":{\"kernal_size\":3}, \"hist_equalization\":{}}\n",
    "transformations_2 = {\"unsharp_mask\":{\"radius\":2, \"amount\":1}}\n",
    "transformations_3 = {\"windowing\"}"
   ]
  },
  {
   "cell_type": "code",
   "execution_count": 17,
   "metadata": {},
   "outputs": [
    {
     "name": "stdout",
     "output_type": "stream",
     "text": [
      "Initialzed custom_binary_crossentropy with epsilon 1e-05\n"
     ]
    }
   ],
   "source": [
    "bce_benchmark = Chexpert_Benchmark (path = Path(os.environ.get(\"CHEXPERT_DATASET_DIRECTORY\")),\n",
    "                                 name=\"3_Chexpert_CWBCE_L1Normed_E5_B32_C0_N12_AugAffine_sharp21_U75_D256_DS9505_1LR4_LF1_Adam_Upsampled\",\n",
    "                                 classes=columns_12,\n",
    "                                 train_labels = \"train.csv\",\n",
    "                                 test_labels = \"test.csv\",\n",
    "                                 nan_replacement = 0, #float(\"NaN\"),\n",
    "                                 u_enc = [uzeros, uones],\n",
    "                                 epochs=5,\n",
    "                                 batch_size=32,\n",
    "                                 crop = False,\n",
    "                                 dim=(256, 256),\n",
    "                                 loss = BinaryCrossentropy(),\n",
    "                                 use_class_weights = False,\n",
    "                                 upsample_factors = upsample_factors,\n",
    "                                 metrics=METRICS,\n",
    "                                 single_class_metrics=SINGLE_CLASS_METRICS,\n",
    "                                 optimizer = Adam(learning_rate=1e-4, clipnorm=1),\n",
    "                                 lr_factor = 0.1,\n",
    "                                 augmentation = \"affine\",\n",
    "                                 transformations = transformations_2,\n",
    "                                 split_seed = 6122156,\n",
    "                                 split_valid_size = 0.05, \n",
    "                                 preprocess_input_fn = tf.keras.applications.densenet.preprocess_input)\n",
    "bce_benchmark.loss = WeightedBinaryCrossentropy(bce_benchmark.positive_weights,\n",
    "                                                bce_benchmark.negative_weights)"
   ]
  },
  {
   "cell_type": "code",
   "execution_count": null,
   "metadata": {},
   "outputs": [],
   "source": []
  },
  {
   "cell_type": "code",
   "execution_count": 18,
   "metadata": {},
   "outputs": [
    {
     "data": {
      "text/plain": [
       "{'benchmark_name': '3_Chexpert_CWBCE_L1Normed_E5_B32_C0_N12_AugAffine_sharp21_U75_D256_DS9505_1LR4_LF1_Adam_Upsampled',\n",
       " 'dataset_name': 'chexpert_full',\n",
       " 'dataset_folder': 'data/chexpert/full',\n",
       " 'models_dir': 'models',\n",
       " 'epochs': 5,\n",
       " 'optimizer': 'Adam',\n",
       " 'learning_rate': 0.0001,\n",
       " 'lr_factor': 0.1,\n",
       " 'loss': 'weighted_binary_crossentropy',\n",
       " 'use_class_weights': False,\n",
       " 'class_weights': [0.8205518126487732,\n",
       "  0.6745193004608154,\n",
       "  0.1585094928741455,\n",
       "  0.9674689173698425,\n",
       "  0.2945497930049896,\n",
       "  0.42419853806495667,\n",
       "  2.972834348678589,\n",
       "  0.5435968041419983,\n",
       "  0.7648646235466003,\n",
       "  0.186068594455719,\n",
       "  1.5195810794830322,\n",
       "  0.6732566356658936],\n",
       " 'positive_weights': [0.8205518126487732,\n",
       "  0.6745193004608154,\n",
       "  0.1585094928741455,\n",
       "  0.9674689173698425,\n",
       "  0.2945497930049896,\n",
       "  0.42419853806495667,\n",
       "  2.972834348678589,\n",
       "  0.5435968041419983,\n",
       "  0.7648646235466003,\n",
       "  0.186068594455719,\n",
       "  1.5195810794830322,\n",
       "  0.6732566356658936],\n",
       " 'negative_weights': [0.7299655079841614,\n",
       "  0.7472195625305176,\n",
       "  1.3163633346557617,\n",
       "  0.7183310389518738,\n",
       "  0.9017094373703003,\n",
       "  0.8107621073722839,\n",
       "  0.6776399612426758,\n",
       "  0.7719110250473022,\n",
       "  0.7356783151626587,\n",
       "  1.1471880674362183,\n",
       "  0.6958258748054504,\n",
       "  0.7474056482315063],\n",
       " 'metrics': ['auc',\n",
       "  'precision',\n",
       "  'recall',\n",
       "  'f2_score',\n",
       "  'binary_accuracy',\n",
       "  'accuracy_enlarged_cardiomediastinum',\n",
       "  'accuracy_cardiomegaly',\n",
       "  'accuracy_lung_opacity',\n",
       "  'accuracy_lung_lesion',\n",
       "  'accuracy_edema',\n",
       "  'accuracy_consolidation',\n",
       "  'accuracy_pneumonia',\n",
       "  'accuracy_atelectasis',\n",
       "  'accuracy_pneumothorax',\n",
       "  'accuracy_pleural_effusion',\n",
       "  'accuracy_pleural_other',\n",
       "  'accuracy_fracture',\n",
       "  'auc_enlarged_cardiomediastinum',\n",
       "  'auc_cardiomegaly',\n",
       "  'auc_lung_opacity',\n",
       "  'auc_lung_lesion',\n",
       "  'auc_edema',\n",
       "  'auc_consolidation',\n",
       "  'auc_pneumonia',\n",
       "  'auc_atelectasis',\n",
       "  'auc_pneumothorax',\n",
       "  'auc_pleural_effusion',\n",
       "  'auc_pleural_other',\n",
       "  'auc_fracture',\n",
       "  'precision_enlarged_cardiomediastinum',\n",
       "  'precision_cardiomegaly',\n",
       "  'precision_lung_opacity',\n",
       "  'precision_lung_lesion',\n",
       "  'precision_edema',\n",
       "  'precision_consolidation',\n",
       "  'precision_pneumonia',\n",
       "  'precision_atelectasis',\n",
       "  'precision_pneumothorax',\n",
       "  'precision_pleural_effusion',\n",
       "  'precision_pleural_other',\n",
       "  'precision_fracture',\n",
       "  'recall_enlarged_cardiomediastinum',\n",
       "  'recall_cardiomegaly',\n",
       "  'recall_lung_opacity',\n",
       "  'recall_lung_lesion',\n",
       "  'recall_edema',\n",
       "  'recall_consolidation',\n",
       "  'recall_pneumonia',\n",
       "  'recall_atelectasis',\n",
       "  'recall_pneumothorax',\n",
       "  'recall_pleural_effusion',\n",
       "  'recall_pleural_other',\n",
       "  'recall_fracture',\n",
       "  'f2_score_enlarged_cardiomediastinum',\n",
       "  'f2_score_cardiomegaly',\n",
       "  'f2_score_lung_opacity',\n",
       "  'f2_score_lung_lesion',\n",
       "  'f2_score_edema',\n",
       "  'f2_score_consolidation',\n",
       "  'f2_score_pneumonia',\n",
       "  'f2_score_atelectasis',\n",
       "  'f2_score_pneumothorax',\n",
       "  'f2_score_pleural_effusion',\n",
       "  'f2_score_pleural_other',\n",
       "  'f2_score_fracture'],\n",
       " 'label_columns': ['Enlarged Cardiomediastinum',\n",
       "  'Cardiomegaly',\n",
       "  'Lung Opacity',\n",
       "  'Lung Lesion',\n",
       "  'Edema',\n",
       "  'Consolidation',\n",
       "  'Pneumonia',\n",
       "  'Atelectasis',\n",
       "  'Pneumothorax',\n",
       "  'Pleural Effusion',\n",
       "  'Pleural Other',\n",
       "  'Fracture'],\n",
       " 'path_column': 'Path',\n",
       " 'path_column_prefix': '',\n",
       " 'upsample_factors': {'Enlarged Cardiomediastinum': 1,\n",
       "  'Lung Lesion': 1,\n",
       "  'Pleural Other': 2,\n",
       "  'Fracture': 2},\n",
       " 'shuffle': True,\n",
       " 'batch_size': 32,\n",
       " 'dim': (256, 256),\n",
       " 'crop': False,\n",
       " 'transformations': {'unsharp_mask': {'radius': 2, 'amount': 1}},\n",
       " 'augmentation': 'affine',\n",
       " 'n_channels': 3,\n",
       " 'nan_replacement': 0,\n",
       " 'unc_value': -1,\n",
       " 'u_enc': [['Cardiomegaly',\n",
       "   'Enlarged Cardiomediastinum',\n",
       "   'Lung Lesion',\n",
       "   'Pneumonia',\n",
       "   'Atelectasis',\n",
       "   'Fracture',\n",
       "   'Pleural Other'],\n",
       "  ['Edema',\n",
       "   'Lung Opacity',\n",
       "   'Consolidation',\n",
       "   'Pneumothorax',\n",
       "   'Pleural Effusion']],\n",
       " 'drop_last': False,\n",
       " 'num_samples_train': 259232,\n",
       " 'num_samples_validation': 11596,\n",
       " 'num_samples_test': 234,\n",
       " 'split_seed': 6122156}"
      ]
     },
     "execution_count": 18,
     "metadata": {},
     "output_type": "execute_result"
    }
   ],
   "source": [
    "bce_benchmark.as_dict()"
   ]
  },
  {
   "cell_type": "code",
   "execution_count": 19,
   "metadata": {},
   "outputs": [],
   "source": [
    "bce_chexpert_exp = simple_architecture_experiment(bce_benchmark, DenseNet121, bce_benchmark.label_columns)"
   ]
  },
  {
   "cell_type": "code",
   "execution_count": null,
   "metadata": {},
   "outputs": [
    {
     "name": "stdout",
     "output_type": "stream",
     "text": [
      "Epoch 1/5\n",
      "1229/8101 [===>..........................] - ETA: 35:31 - loss: 0.2344 - auc: 0.6899 - precision: 0.6293 - recall: 0.0329 - f2_score: 0.0406 - binary_accuracy: 0.8260 - accuracy_enlarged_cardiomediastinum: 0.9013 - accuracy_cardiomegaly: 0.8844 - accuracy_lung_opacity: 0.5043 - accuracy_lung_lesion: 0.9176 - accuracy_edema: 0.7441 - accuracy_consolidation: 0.8165 - accuracy_pneumonia: 0.9717 - accuracy_atelectasis: 0.8552 - accuracy_pneumothorax: 0.8921 - accuracy_pleural_effusion: 0.6049 - accuracy_pleural_other: 0.9447 - accuracy_fracture: 0.8757 - auc_enlarged_cardiomediastinum: 0.5980 - auc_cardiomegaly: 0.7516 - auc_lung_opacity: 0.6716 - auc_lung_lesion: 0.6769 - auc_edema: 0.7934 - auc_consolidation: 0.6325 - auc_pneumonia: 0.6443 - auc_atelectasis: 0.6263 - auc_pneumothorax: 0.7037 - auc_pleural_effusion: 0.7909 - auc_pleural_other: 0.7260 - auc_fracture: 0.6638 - precision_enlarged_cardiomediastinum: 0.1639 - precision_cardiomegaly: 0.5545 - precision_lung_opacity: 0.4444 - precision_lung_lesion: 0.0732 - precision_edema: 0.7211 - precision_consolidation: 0.3333 - precision_pneumonia: 0.1154 - precision_atelectasis: 0.1000 - precision_pneumothorax: 0.4235 - precision_pleural_effusion: 0.8360 - precision_pleural_other: 0.3550 - precision_fracture: 0.2083 - recall_enlarged_cardiomediastinum: 0.0053 - recall_cardiomegaly: 0.0859 - recall_lung_opacity: 2.0518e-04 - recall_lung_lesion: 0.0029 - recall_edema: 0.0625 - recall_consolidation: 2.7724e-04 - recall_pneumonia: 0.0116 - recall_atelectasis: 1.7584e-04 - recall_pneumothorax: 0.0310 - recall_pleural_effusion: 0.0841 - recall_pleural_other: 0.0335 - recall_fracture: 0.0073 - f2_score_enlarged_cardiomediastinum: 0.0065 - f2_score_cardiomegaly: 0.1033 - f2_score_lung_opacity: 2.5645e-04 - f2_score_lung_lesion: 0.0036 - f2_score_edema: 0.0765 - f2_score_consolidation: 3.4648e-04 - f2_score_pneumonia: 0.0142 - f2_score_atelectasis: 2.1970e-04 - f2_score_pneumothorax: 0.0380 - f2_score_pleural_effusion: 0.1026 - f2_score_pleural_other: 0.0410 - f2_score_fracture: 0.0091 - learning rate: 1.0000e-04"
     ]
    }
   ],
   "source": [
    "bce_chexpert_exp.train()"
   ]
  },
  {
   "cell_type": "code",
   "execution_count": null,
   "metadata": {},
   "outputs": [],
   "source": [
    "bce_chexpert_exp.evaluate()"
   ]
  },
  {
   "cell_type": "code",
   "execution_count": null,
   "metadata": {},
   "outputs": [],
   "source": [
    "bce_chexpert_exp.save()"
   ]
  },
  {
   "cell_type": "code",
   "execution_count": null,
   "metadata": {},
   "outputs": [],
   "source": [
    "\n",
    "transformations_4 = {\"unsharp_mask\":{\"radius\":5, \"amount\":1}}"
   ]
  },
  {
   "cell_type": "code",
   "execution_count": null,
   "metadata": {},
   "outputs": [],
   "source": [
    "bce_benchmark = Chexpert_Benchmark (path = Path(os.environ.get(\"CHEXPERT_DATASET_DIRECTORY\")),\n",
    "                                 name=\"Chexpert_CWBCE_L1Normed_E5_B32_C0_N12_AugAffine_sharp51_U75_D256_DS9505_1LR4_LF1_Adam_Upsampled\",\n",
    "                                 classes=columns_12,\n",
    "                                 train_labels = \"train.csv\",\n",
    "                                 test_labels = \"test.csv\",\n",
    "                                 nan_replacement = 0, #float(\"NaN\"),\n",
    "                                 u_enc = [uzeros, uones],\n",
    "                                 epochs=5,\n",
    "                                 batch_size=32,\n",
    "                                 crop = False,\n",
    "                                 dim=(256, 256),\n",
    "                                 loss = BinaryCrossentropy(),\n",
    "                                 use_class_weights = False,\n",
    "                                 upsample_factors = upsample_factors,\n",
    "                                 metrics=METRICS,\n",
    "                                 single_class_metrics=SINGLE_CLASS_METRICS,\n",
    "                                 optimizer = Adam(learning_rate=1e-4, clipnorm=1),\n",
    "                                 lr_factor = 0.1,\n",
    "                                 augmentation = \"affine\",\n",
    "                                 transformations = transformations_4,\n",
    "                                 split_seed = 6122156,\n",
    "                                 split_valid_size = 0.05, \n",
    "                                 preprocess_input_fn = tf.keras.applications.densenet.preprocess_input)\n",
    "bce_benchmark.loss = WeightedBinaryCrossentropy(bce_benchmark.positive_weights,\n",
    "                                                bce_benchmark.negative_weights)"
   ]
  },
  {
   "cell_type": "code",
   "execution_count": null,
   "metadata": {},
   "outputs": [],
   "source": [
    "bce_chexpert_exp = simple_architecture_experiment(bce_benchmark, DenseNet121, bce_benchmark.label_columns)"
   ]
  },
  {
   "cell_type": "code",
   "execution_count": null,
   "metadata": {},
   "outputs": [],
   "source": [
    "bce_chexpert_exp.train()"
   ]
  },
  {
   "cell_type": "code",
   "execution_count": null,
   "metadata": {},
   "outputs": [],
   "source": [
    "bce_chexpert_exp.evaluate()"
   ]
  },
  {
   "cell_type": "code",
   "execution_count": null,
   "metadata": {},
   "outputs": [],
   "source": [
    "bce_chexpert_exp.save()"
   ]
  },
  {
   "cell_type": "code",
   "execution_count": 7,
   "metadata": {},
   "outputs": [],
   "source": [
    "transformations_5 = { \"unsharp_mask\":{\"radius\":2, \"amount\":1}}"
   ]
  },
  {
   "cell_type": "code",
   "execution_count": 8,
   "metadata": {},
   "outputs": [
    {
     "name": "stdout",
     "output_type": "stream",
     "text": [
      "Initialzed custom_binary_crossentropy with epsilon 1e-05\n"
     ]
    }
   ],
   "source": [
    "bce_benchmark = Chexpert_Benchmark (path = Path(os.environ.get(\"CHEXPERT_DATASET_DIRECTORY\")),\n",
    "                                 name=\"2_Chexpert_CWBCE_L1Normed_E5_B32_C0_N12_AugAffine_sharp21_U75_D256_DS9505_1LR4_LF5_Adam_Upsampled\",\n",
    "                                 classes=columns_12,\n",
    "                                 train_labels = \"train.csv\",\n",
    "                                 test_labels = \"test.csv\",\n",
    "                                 nan_replacement = 0, #float(\"NaN\"),\n",
    "                                 u_enc = [uzeros, uones],\n",
    "                                 epochs=5,\n",
    "                                 batch_size=32,\n",
    "                                 crop = False,\n",
    "                                 dim=(256, 256),\n",
    "                                 loss = BinaryCrossentropy(),\n",
    "                                 use_class_weights = False,\n",
    "                                 upsample_factors = upsample_factors,\n",
    "                                 metrics=METRICS,\n",
    "                                 single_class_metrics=SINGLE_CLASS_METRICS,\n",
    "                                 optimizer = Adam(learning_rate=1e-4, clipnorm=1),\n",
    "                                 lr_factor = 0.5,\n",
    "                                 augmentation = \"affine\",\n",
    "                                 transformations = transformations_5,\n",
    "                                 split_seed = 6122156,\n",
    "                                 split_valid_size = 0.05, \n",
    "                                 preprocess_input_fn = tf.keras.applications.densenet.preprocess_input)\n",
    "bce_benchmark.loss = WeightedBinaryCrossentropy(bce_benchmark.positive_weights,\n",
    "                                                bce_benchmark.negative_weights)"
   ]
  },
  {
   "cell_type": "code",
   "execution_count": 10,
   "metadata": {},
   "outputs": [],
   "source": [
    "bce_chexpert_exp = simple_architecture_experiment(bce_benchmark, DenseNet169, bce_benchmark.label_columns)\n"
   ]
  },
  {
   "cell_type": "code",
   "execution_count": 11,
   "metadata": {},
   "outputs": [],
   "source": [
    "bce_chexpert_exp.model.load_weights(\"models/DenseNet169_2_Chexpert_CWBCE_L1Normed_E5_B32_C0_N12_AugAffine_sharp21_U75_D256_DS9505_1LR4_LF5_Adam_Upsampled/weights.05-0.19.hdf5\")"
   ]
  },
  {
   "cell_type": "code",
   "execution_count": 35,
   "metadata": {},
   "outputs": [
    {
     "name": "stdout",
     "output_type": "stream",
     "text": [
      "WARNING:tensorflow:Automatic model reloading for interrupted job was removed from the `ModelCheckpoint` callback in multi-worker mode, please use the `keras.callbacks.experimental.BackupAndRestore` callback instead. See this tutorial for details: https://www.tensorflow.org/tutorials/distribute/multi_worker_with_keras#backupandrestore_callback.\n",
      "Epoch 1/5\n",
      "8101/8101 [==============================] - ETA: 0s - loss: 0.2269 - auc: 0.7174 - precision: 0.7082 - recall: 0.0608 - f2_score: 0.0742 - binary_accuracy: 0.8295 - accuracy_enlarged_cardiomediastinum: 0.9011 - accuracy_cardiomegaly: 0.8874 - accuracy_lung_opacity: 0.5001 - accuracy_lung_lesion: 0.9180 - accuracy_edema: 0.7512 - accuracy_consolidation: 0.8144 - accuracy_pneumonia: 0.9719 - accuracy_atelectasis: 0.8528 - accuracy_pneumothorax: 0.9001 - accuracy_pleural_effusion: 0.6304 - accuracy_pleural_other: 0.9450 - accuracy_fracture: 0.8820 - auc_enlarged_cardiomediastinum: 0.6282 - auc_cardiomegaly: 0.7835 - auc_lung_opacity: 0.6835 - auc_lung_lesion: 0.7107 - auc_edema: 0.8111 - auc_consolidation: 0.6470 - auc_pneumonia: 0.6682 - auc_atelectasis: 0.6482 - auc_pneumothorax: 0.7406 - auc_pleural_effusion: 0.8155 - auc_pleural_other: 0.7758 - auc_fracture: 0.6964 - precision_enlarged_cardiomediastinum: 0.4633 - precision_cardiomegaly: 0.5906 - precision_lung_opacity: 0.9104 - precision_lung_lesion: 0.5109 - precision_edema: 0.7743 - precision_consolidation: 1.0000 - precision_pneumonia: 0.1312 - precision_atelectasis: 0.2022 - precision_pneumothorax: 0.5667 - precision_pleural_effusion: 0.8761 - precision_pleural_other: 0.3516 - precision_fracture: 0.5007 - recall_enlarged_cardiomediastinum: 0.0220 - recall_cardiomegaly: 0.1402 - recall_lung_opacity: 8.8817e-05 - recall_lung_lesion: 0.0157 - recall_edema: 0.1004 - recall_consolidation: 3.8030e-04 - recall_pneumonia: 0.0101 - recall_atelectasis: 0.0032 - recall_pneumothorax: 0.0939 - recall_pleural_effusion: 0.1496 - recall_pleural_other: 0.0747 - recall_fracture: 0.0344 - f2_score_enlarged_cardiomediastinum: 0.0266 - f2_score_cardiomegaly: 0.1647 - f2_score_lung_opacity: 1.1102e-04 - f2_score_lung_lesion: 0.0194 - f2_score_edema: 0.1214 - f2_score_consolidation: 4.7207e-04 - f2_score_pneumonia: 0.0124 - f2_score_atelectasis: 0.0035 - f2_score_pneumothorax: 0.1122 - f2_score_pleural_effusion: 0.1786 - f2_score_pleural_other: 0.0880 - f2_score_fracture: 0.0420 - learning rate: 1.0000e-04WARNING:tensorflow:AutoGraph could not transform <function Model.make_test_function.<locals>.test_function at 0x7fac4ff2ac80> and will run it as-is.\n",
      "Please report this to the TensorFlow team. When filing the bug, set the verbosity to 10 (on Linux, `export AUTOGRAPH_VERBOSITY=10`) and attach the full output.\n",
      "Cause: closure mismatch, requested ('self', 'step_function'), but source function had ()\n",
      "To silence this warning, decorate the function with @tf.autograph.experimental.do_not_convert\n",
      "WARNING: AutoGraph could not transform <function Model.make_test_function.<locals>.test_function at 0x7fac4ff2ac80> and will run it as-is.\n",
      "Please report this to the TensorFlow team. When filing the bug, set the verbosity to 10 (on Linux, `export AUTOGRAPH_VERBOSITY=10`) and attach the full output.\n",
      "Cause: closure mismatch, requested ('self', 'step_function'), but source function had ()\n",
      "To silence this warning, decorate the function with @tf.autograph.experimental.do_not_convert\n",
      "INFO:tensorflow:Summary name epoch_learning rate is illegal; using epoch_learning_rate instead.\n",
      "\n",
      "Epoch 00001: saving model to models/DenseNet169_2_Chexpert_CWBCE_L1Normed_E5_B32_C0_N12_AugAffine_sharp21_U75_D256_DS9505_1LR4_LF5_Adam_Upsampled/weights.01-0.18.hdf5\n",
      "8101/8101 [==============================] - 3207s 396ms/step - loss: 0.2269 - auc: 0.7174 - precision: 0.7082 - recall: 0.0608 - f2_score: 0.0742 - binary_accuracy: 0.8295 - accuracy_enlarged_cardiomediastinum: 0.9011 - accuracy_cardiomegaly: 0.8874 - accuracy_lung_opacity: 0.5001 - accuracy_lung_lesion: 0.9180 - accuracy_edema: 0.7512 - accuracy_consolidation: 0.8144 - accuracy_pneumonia: 0.9719 - accuracy_atelectasis: 0.8528 - accuracy_pneumothorax: 0.9001 - accuracy_pleural_effusion: 0.6304 - accuracy_pleural_other: 0.9450 - accuracy_fracture: 0.8820 - auc_enlarged_cardiomediastinum: 0.6282 - auc_cardiomegaly: 0.7835 - auc_lung_opacity: 0.6835 - auc_lung_lesion: 0.7107 - auc_edema: 0.8111 - auc_consolidation: 0.6470 - auc_pneumonia: 0.6682 - auc_atelectasis: 0.6482 - auc_pneumothorax: 0.7406 - auc_pleural_effusion: 0.8155 - auc_pleural_other: 0.7758 - auc_fracture: 0.6964 - precision_enlarged_cardiomediastinum: 0.4634 - precision_cardiomegaly: 0.5906 - precision_lung_opacity: 0.9104 - precision_lung_lesion: 0.5109 - precision_edema: 0.7744 - precision_consolidation: 1.0000 - precision_pneumonia: 0.1312 - precision_atelectasis: 0.2022 - precision_pneumothorax: 0.5667 - precision_pleural_effusion: 0.8761 - precision_pleural_other: 0.3516 - precision_fracture: 0.5007 - recall_enlarged_cardiomediastinum: 0.0220 - recall_cardiomegaly: 0.1402 - recall_lung_opacity: 8.8828e-05 - recall_lung_lesion: 0.0157 - recall_edema: 0.1004 - recall_consolidation: 3.8026e-04 - recall_pneumonia: 0.0101 - recall_atelectasis: 0.0032 - recall_pneumothorax: 0.0939 - recall_pleural_effusion: 0.1496 - recall_pleural_other: 0.0747 - recall_fracture: 0.0344 - f2_score_enlarged_cardiomediastinum: 0.0266 - f2_score_cardiomegaly: 0.1648 - f2_score_lung_opacity: 1.1103e-04 - f2_score_lung_lesion: 0.0194 - f2_score_edema: 0.1214 - f2_score_consolidation: 4.7202e-04 - f2_score_pneumonia: 0.0124 - f2_score_atelectasis: 0.0035 - f2_score_pneumothorax: 0.1123 - f2_score_pleural_effusion: 0.1786 - f2_score_pleural_other: 0.0880 - f2_score_fracture: 0.0420 - learning rate: 1.0000e-04 - val_loss: 0.1848 - val_auc: 0.7661 - val_precision: 0.7227 - val_recall: 0.1216 - val_f2_score: 0.1459 - val_binary_accuracy: 0.8489 - val_accuracy_enlarged_cardiomediastinum: 0.9514 - val_accuracy_cardiomegaly: 0.8871 - val_accuracy_lung_opacity: 0.5105 - val_accuracy_lung_lesion: 0.9448 - val_accuracy_edema: 0.7457 - val_accuracy_consolidation: 0.8122 - val_accuracy_pneumonia: 0.9697 - val_accuracy_atelectasis: 0.8496 - val_accuracy_pneumothorax: 0.9133 - val_accuracy_pleural_effusion: 0.6619 - val_accuracy_pleural_other: 0.9839 - val_accuracy_fracture: 0.9572 - val_auc_enlarged_cardiomediastinum: 0.6553 - val_auc_cardiomegaly: 0.8603 - val_auc_lung_opacity: 0.7316 - val_auc_lung_lesion: 0.7587 - val_auc_edema: 0.8411 - val_auc_consolidation: 0.7011 - val_auc_pneumonia: 0.7237 - val_auc_atelectasis: 0.6839 - val_auc_pneumothorax: 0.8301 - val_auc_pleural_effusion: 0.8600 - val_auc_pleural_other: 0.7827 - val_auc_fracture: 0.7646 - val_precision_enlarged_cardiomediastinum: 0.4130 - val_precision_cardiomegaly: 0.6333 - val_precision_lung_opacity: 0.0000e+00 - val_precision_lung_lesion: 0.2451 - val_precision_edema: 0.7778 - val_precision_consolidation: 0.0000e+00 - val_precision_pneumonia: 0.1207 - val_precision_atelectasis: 0.4000 - val_precision_pneumothorax: 0.6507 - val_precision_pleural_effusion: 0.9080 - val_precision_pleural_other: 0.3125 - val_precision_fracture: 0.5333 - val_recall_enlarged_cardiomediastinum: 0.0342 - val_recall_cardiomegaly: 0.3431 - val_recall_lung_opacity: 0.0000e+00 - val_recall_lung_lesion: 0.1550 - val_recall_edema: 0.1654 - val_recall_consolidation: 0.0000e+00 - val_recall_pneumonia: 0.0228 - val_recall_atelectasis: 0.0023 - val_recall_pneumothorax: 0.2182 - val_recall_pleural_effusion: 0.2589 - val_recall_pleural_other: 0.0276 - val_recall_fracture: 0.0161 - val_f2_score_enlarged_cardiomediastinum: 0.0419 - val_f2_score_cardiomegaly: 0.3778 - val_f2_score_lung_opacity: 0.0000e+00 - val_f2_score_lung_lesion: 0.1673 - val_f2_score_edema: 0.1963 - val_f2_score_consolidation: 0.0000e+00 - val_f2_score_pneumonia: 0.0272 - val_f2_score_atelectasis: 0.0029 - val_f2_score_pneumothorax: 0.2517 - val_f2_score_pleural_effusion: 0.3021 - val_f2_score_pleural_other: 0.0338 - val_f2_score_fracture: 0.0200\n",
      "Epoch 2/5\n",
      "8101/8101 [==============================] - ETA: 0s - loss: 0.2010 - auc: 0.7966 - precision: 0.7626 - recall: 0.1404 - f2_score: 0.1678 - binary_accuracy: 0.8406 - accuracy_enlarged_cardiomediastinum: 0.9074 - accuracy_cardiomegaly: 0.8978 - accuracy_lung_opacity: 0.5018 - accuracy_lung_lesion: 0.9228 - accuracy_edema: 0.7726 - accuracy_consolidation: 0.8137 - accuracy_pneumonia: 0.9711 - accuracy_atelectasis: 0.8551 - accuracy_pneumothorax: 0.9106 - accuracy_pleural_effusion: 0.6892 - accuracy_pleural_other: 0.9508 - accuracy_fracture: 0.8944 - auc_enlarged_cardiomediastinum: 0.7235 - auc_cardiomegaly: 0.8519 - auc_lung_opacity: 0.7256 - auc_lung_lesion: 0.8087 - auc_edema: 0.8534 - auc_consolidation: 0.6959 - auc_pneumonia: 0.7701 - auc_atelectasis: 0.7033 - auc_pneumothorax: 0.8343 - auc_pleural_effusion: 0.8707 - auc_pleural_other: 0.9088 - auc_fracture: 0.8132 - precision_enlarged_cardiomediastinum: 0.6363 - precision_cardiomegaly: 0.6687 - precision_lung_opacity: 0.8112 - precision_lung_lesion: 0.6193 - precision_edema: 0.8223 - precision_consolidation: 0.5110 - precision_pneumonia: 0.2035 - precision_atelectasis: 0.5358 - precision_pneumothorax: 0.6766 - precision_pleural_effusion: 0.9225 - precision_pleural_other: 0.5384 - precision_fracture: 0.6997 - recall_enlarged_cardiomediastinum: 0.0814 - recall_cardiomegaly: 0.2549 - recall_lung_opacity: 4.8449e-04 - recall_lung_lesion: 0.1644 - recall_edema: 0.1901 - recall_consolidation: 6.1501e-05 - recall_pneumonia: 0.0402 - recall_atelectasis: 5.4381e-04 - recall_pneumothorax: 0.2663 - recall_pleural_effusion: 0.2946 - recall_pleural_other: 0.3980 - recall_fracture: 0.1714 - f2_score_enlarged_cardiomediastinum: 0.0985 - f2_score_cardiomegaly: 0.2908 - f2_score_lung_opacity: 6.0551e-04 - f2_score_lung_lesion: 0.1927 - f2_score_edema: 0.2246 - f2_score_consolidation: 7.6873e-05 - f2_score_pneumonia: 0.0478 - f2_score_atelectasis: 6.7958e-04 - f2_score_pneumothorax: 0.3030 - f2_score_pleural_effusion: 0.3410 - f2_score_pleural_other: 0.4197 - f2_score_fracture: 0.2018 - learning rate: 5.0000e-05INFO:tensorflow:Summary name epoch_learning rate is illegal; using epoch_learning_rate instead.\n",
      "\n",
      "Epoch 00002: saving model to models/DenseNet169_2_Chexpert_CWBCE_L1Normed_E5_B32_C0_N12_AugAffine_sharp21_U75_D256_DS9505_1LR4_LF5_Adam_Upsampled/weights.02-0.18.hdf5\n",
      "8101/8101 [==============================] - 3110s 384ms/step - loss: 0.2010 - auc: 0.7966 - precision: 0.7626 - recall: 0.1404 - f2_score: 0.1678 - binary_accuracy: 0.8406 - accuracy_enlarged_cardiomediastinum: 0.9074 - accuracy_cardiomegaly: 0.8978 - accuracy_lung_opacity: 0.5018 - accuracy_lung_lesion: 0.9228 - accuracy_edema: 0.7726 - accuracy_consolidation: 0.8137 - accuracy_pneumonia: 0.9711 - accuracy_atelectasis: 0.8551 - accuracy_pneumothorax: 0.9106 - accuracy_pleural_effusion: 0.6892 - accuracy_pleural_other: 0.9508 - accuracy_fracture: 0.8944 - auc_enlarged_cardiomediastinum: 0.7235 - auc_cardiomegaly: 0.8519 - auc_lung_opacity: 0.7256 - auc_lung_lesion: 0.8087 - auc_edema: 0.8534 - auc_consolidation: 0.6959 - auc_pneumonia: 0.7702 - auc_atelectasis: 0.7033 - auc_pneumothorax: 0.8343 - auc_pleural_effusion: 0.8707 - auc_pleural_other: 0.9088 - auc_fracture: 0.8132 - precision_enlarged_cardiomediastinum: 0.6363 - precision_cardiomegaly: 0.6687 - precision_lung_opacity: 0.8112 - precision_lung_lesion: 0.6193 - precision_edema: 0.8223 - precision_consolidation: 0.5110 - precision_pneumonia: 0.2035 - precision_atelectasis: 0.5358 - precision_pneumothorax: 0.6766 - precision_pleural_effusion: 0.9225 - precision_pleural_other: 0.5384 - precision_fracture: 0.6997 - recall_enlarged_cardiomediastinum: 0.0814 - recall_cardiomegaly: 0.2549 - recall_lung_opacity: 4.8450e-04 - recall_lung_lesion: 0.1644 - recall_edema: 0.1901 - recall_consolidation: 6.1508e-05 - recall_pneumonia: 0.0402 - recall_atelectasis: 5.4387e-04 - recall_pneumothorax: 0.2663 - recall_pleural_effusion: 0.2946 - recall_pleural_other: 0.3980 - recall_fracture: 0.1715 - f2_score_enlarged_cardiomediastinum: 0.0985 - f2_score_cardiomegaly: 0.2908 - f2_score_lung_opacity: 6.0553e-04 - f2_score_lung_lesion: 0.1927 - f2_score_edema: 0.2246 - f2_score_consolidation: 7.6883e-05 - f2_score_pneumonia: 0.0478 - f2_score_atelectasis: 6.7965e-04 - f2_score_pneumothorax: 0.3030 - f2_score_pleural_effusion: 0.3410 - f2_score_pleural_other: 0.4197 - f2_score_fracture: 0.2018 - learning rate: 5.0000e-05 - val_loss: 0.1835 - val_auc: 0.7760 - val_precision: 0.7177 - val_recall: 0.1734 - val_f2_score: 0.2044 - val_binary_accuracy: 0.8539 - val_accuracy_enlarged_cardiomediastinum: 0.9493 - val_accuracy_cardiomegaly: 0.8869 - val_accuracy_lung_opacity: 0.5105 - val_accuracy_lung_lesion: 0.9554 - val_accuracy_edema: 0.7719 - val_accuracy_consolidation: 0.8122 - val_accuracy_pneumonia: 0.9709 - val_accuracy_atelectasis: 0.8499 - val_accuracy_pneumothorax: 0.9196 - val_accuracy_pleural_effusion: 0.7044 - val_accuracy_pleural_other: 0.9781 - val_accuracy_fracture: 0.9375 - val_auc_enlarged_cardiomediastinum: 0.6584 - val_auc_cardiomegaly: 0.8700 - val_auc_lung_opacity: 0.7394 - val_auc_lung_lesion: 0.7756 - val_auc_edema: 0.8536 - val_auc_consolidation: 0.7099 - val_auc_pneumonia: 0.7316 - val_auc_atelectasis: 0.7021 - val_auc_pneumothorax: 0.8341 - val_auc_pleural_effusion: 0.8700 - val_auc_pleural_other: 0.7841 - val_auc_fracture: 0.7825 - val_precision_enlarged_cardiomediastinum: 0.2963 - val_precision_cardiomegaly: 0.6571 - val_precision_lung_opacity: 0.0000e+00 - val_precision_lung_lesion: 0.3636 - val_precision_edema: 0.7579 - val_precision_consolidation: 0.0000e+00 - val_precision_pneumonia: 0.2075 - val_precision_atelectasis: 1.0000 - val_precision_pneumothorax: 0.6979 - val_precision_pleural_effusion: 0.8986 - val_precision_pleural_other: 0.1651 - val_precision_fracture: 0.2673 - val_recall_enlarged_cardiomediastinum: 0.0432 - val_recall_cardiomegaly: 0.2993 - val_recall_lung_opacity: 0.0000e+00 - val_recall_lung_lesion: 0.0909 - val_recall_edema: 0.3071 - val_recall_consolidation: 0.0000e+00 - val_recall_pneumonia: 0.0358 - val_recall_atelectasis: 0.0011 - val_recall_pneumothorax: 0.2934 - val_recall_pleural_effusion: 0.3710 - val_recall_pleural_other: 0.0994 - val_recall_fracture: 0.2636 - val_f2_score_enlarged_cardiomediastinum: 0.0522 - val_f2_score_cardiomegaly: 0.3359 - val_f2_score_lung_opacity: 0.0000e+00 - val_f2_score_lung_lesion: 0.1070 - val_f2_score_edema: 0.3486 - val_f2_score_consolidation: 0.0000e+00 - val_f2_score_pneumonia: 0.0429 - val_f2_score_atelectasis: 0.0014 - val_f2_score_pneumothorax: 0.3318 - val_f2_score_pleural_effusion: 0.4204 - val_f2_score_pleural_other: 0.1080 - val_f2_score_fracture: 0.2643\n",
      "Epoch 3/5\n",
      "8101/8101 [==============================] - ETA: 0s - loss: 0.1838 - auc: 0.8312 - precision: 0.7874 - recall: 0.1820 - f2_score: 0.2150 - binary_accuracy: 0.8473 - accuracy_enlarged_cardiomediastinum: 0.9118 - accuracy_cardiomegaly: 0.9027 - accuracy_lung_opacity: 0.5035 - accuracy_lung_lesion: 0.9318 - accuracy_edema: 0.7804 - accuracy_consolidation: 0.8147 - accuracy_pneumonia: 0.9695 - accuracy_atelectasis: 0.8541 - accuracy_pneumothorax: 0.9187 - accuracy_pleural_effusion: 0.7002 - accuracy_pleural_other: 0.9697 - accuracy_fracture: 0.9101 - auc_enlarged_cardiomediastinum: 0.7732 - auc_cardiomegaly: 0.8729 - auc_lung_opacity: 0.7355 - auc_lung_lesion: 0.8639 - auc_edema: 0.8652 - auc_consolidation: 0.7154 - auc_pneumonia: 0.8300 - auc_atelectasis: 0.7237 - auc_pneumothorax: 0.8673 - auc_pleural_effusion: 0.8787 - auc_pleural_other: 0.9705 - auc_fracture: 0.8783 - precision_enlarged_cardiomediastinum: 0.7086 - precision_cardiomegaly: 0.6882 - precision_lung_opacity: 0.8665 - precision_lung_lesion: 0.6938 - precision_edema: 0.8333 - precision_consolidation: 0.8657 - precision_pneumonia: 0.3149 - precision_atelectasis: 0.7251 - precision_pneumothorax: 0.7100 - precision_pleural_effusion: 0.9256 - precision_pleural_other: 0.7149 - precision_fracture: 0.7676 - recall_enlarged_cardiomediastinum: 0.1402 - recall_cardiomegaly: 0.3039 - recall_lung_opacity: 0.0018 - recall_lung_lesion: 0.2926 - recall_edema: 0.2281 - recall_consolidation: 6.5628e-04 - recall_pneumonia: 0.1363 - recall_atelectasis: 0.0032 - recall_pneumothorax: 0.3519 - recall_pleural_effusion: 0.3189 - recall_pleural_other: 0.6860 - recall_fracture: 0.3307 - f2_score_enlarged_cardiomediastinum: 0.1669 - f2_score_cardiomegaly: 0.3420 - f2_score_lung_opacity: 0.0022 - f2_score_lung_lesion: 0.3308 - f2_score_edema: 0.2669 - f2_score_consolidation: 8.2014e-04 - f2_score_pneumonia: 0.1533 - f2_score_atelectasis: 0.0041 - f2_score_pneumothorax: 0.3913 - f2_score_pleural_effusion: 0.3670 - f2_score_pleural_other: 0.6915 - f2_score_fracture: 0.3731 - learning rate: 2.5000e-05INFO:tensorflow:Summary name epoch_learning rate is illegal; using epoch_learning_rate instead.\n",
      "\n",
      "Epoch 00003: saving model to models/DenseNet169_2_Chexpert_CWBCE_L1Normed_E5_B32_C0_N12_AugAffine_sharp21_U75_D256_DS9505_1LR4_LF5_Adam_Upsampled/weights.03-0.18.hdf5\n",
      "8101/8101 [==============================] - 3119s 385ms/step - loss: 0.1838 - auc: 0.8312 - precision: 0.7874 - recall: 0.1820 - f2_score: 0.2150 - binary_accuracy: 0.8473 - accuracy_enlarged_cardiomediastinum: 0.9118 - accuracy_cardiomegaly: 0.9027 - accuracy_lung_opacity: 0.5035 - accuracy_lung_lesion: 0.9318 - accuracy_edema: 0.7804 - accuracy_consolidation: 0.8147 - accuracy_pneumonia: 0.9695 - accuracy_atelectasis: 0.8541 - accuracy_pneumothorax: 0.9187 - accuracy_pleural_effusion: 0.7002 - accuracy_pleural_other: 0.9697 - accuracy_fracture: 0.9101 - auc_enlarged_cardiomediastinum: 0.7732 - auc_cardiomegaly: 0.8729 - auc_lung_opacity: 0.7355 - auc_lung_lesion: 0.8639 - auc_edema: 0.8652 - auc_consolidation: 0.7154 - auc_pneumonia: 0.8300 - auc_atelectasis: 0.7237 - auc_pneumothorax: 0.8673 - auc_pleural_effusion: 0.8787 - auc_pleural_other: 0.9705 - auc_fracture: 0.8783 - precision_enlarged_cardiomediastinum: 0.7086 - precision_cardiomegaly: 0.6882 - precision_lung_opacity: 0.8665 - precision_lung_lesion: 0.6938 - precision_edema: 0.8333 - precision_consolidation: 0.8657 - precision_pneumonia: 0.3149 - precision_atelectasis: 0.7251 - precision_pneumothorax: 0.7100 - precision_pleural_effusion: 0.9256 - precision_pleural_other: 0.7149 - precision_fracture: 0.7676 - recall_enlarged_cardiomediastinum: 0.1402 - recall_cardiomegaly: 0.3039 - recall_lung_opacity: 0.0018 - recall_lung_lesion: 0.2926 - recall_edema: 0.2281 - recall_consolidation: 6.5632e-04 - recall_pneumonia: 0.1363 - recall_atelectasis: 0.0032 - recall_pneumothorax: 0.3519 - recall_pleural_effusion: 0.3189 - recall_pleural_other: 0.6860 - recall_fracture: 0.3307 - f2_score_enlarged_cardiomediastinum: 0.1669 - f2_score_cardiomegaly: 0.3420 - f2_score_lung_opacity: 0.0022 - f2_score_lung_lesion: 0.3308 - f2_score_edema: 0.2669 - f2_score_consolidation: 8.2019e-04 - f2_score_pneumonia: 0.1533 - f2_score_atelectasis: 0.0041 - f2_score_pneumothorax: 0.3913 - f2_score_pleural_effusion: 0.3670 - f2_score_pleural_other: 0.6915 - f2_score_fracture: 0.3731 - learning rate: 2.5000e-05 - val_loss: 0.1837 - val_auc: 0.7701 - val_precision: 0.7205 - val_recall: 0.1331 - val_f2_score: 0.1590 - val_binary_accuracy: 0.8500 - val_accuracy_enlarged_cardiomediastinum: 0.9468 - val_accuracy_cardiomegaly: 0.8873 - val_accuracy_lung_opacity: 0.5114 - val_accuracy_lung_lesion: 0.9540 - val_accuracy_edema: 0.7526 - val_accuracy_consolidation: 0.8122 - val_accuracy_pneumonia: 0.9579 - val_accuracy_atelectasis: 0.8504 - val_accuracy_pneumothorax: 0.9182 - val_accuracy_pleural_effusion: 0.6770 - val_accuracy_pleural_other: 0.9797 - val_accuracy_fracture: 0.9527 - val_auc_enlarged_cardiomediastinum: 0.6458 - val_auc_cardiomegaly: 0.8647 - val_auc_lung_opacity: 0.7411 - val_auc_lung_lesion: 0.7752 - val_auc_edema: 0.8552 - val_auc_consolidation: 0.7159 - val_auc_pneumonia: 0.7397 - val_auc_atelectasis: 0.7028 - val_auc_pneumothorax: 0.8395 - val_auc_pleural_effusion: 0.8699 - val_auc_pleural_other: 0.7212 - val_auc_fracture: 0.7708 - val_precision_enlarged_cardiomediastinum: 0.2721 - val_precision_cardiomegaly: 0.6973 - val_precision_lung_opacity: 0.7778 - val_precision_lung_lesion: 0.3704 - val_precision_edema: 0.8179 - val_precision_consolidation: 0.5000 - val_precision_pneumonia: 0.1533 - val_precision_atelectasis: 0.5897 - val_precision_pneumothorax: 0.7328 - val_precision_pleural_effusion: 0.9258 - val_precision_pleural_other: 0.2128 - val_precision_fracture: 0.3488 - val_recall_enlarged_cardiomediastinum: 0.0667 - val_recall_cardiomegaly: 0.2575 - val_recall_lung_opacity: 0.0025 - val_recall_lung_lesion: 0.1446 - val_recall_edema: 0.1827 - val_recall_consolidation: 0.0023 - val_recall_pneumonia: 0.1303 - val_recall_atelectasis: 0.0132 - val_recall_pneumothorax: 0.2379 - val_recall_pleural_effusion: 0.2904 - val_recall_pleural_other: 0.1105 - val_recall_fracture: 0.1207 - val_f2_score_enlarged_cardiomediastinum: 0.0785 - val_f2_score_cardiomegaly: 0.2947 - val_f2_score_lung_opacity: 0.0031 - val_f2_score_lung_lesion: 0.1647 - val_f2_score_edema: 0.2163 - val_f2_score_consolidation: 0.0029 - val_f2_score_pneumonia: 0.1343 - val_f2_score_atelectasis: 0.0164 - val_f2_score_pneumothorax: 0.2751 - val_f2_score_pleural_effusion: 0.3366 - val_f2_score_pleural_other: 0.1222 - val_f2_score_fracture: 0.1389\n",
      "Epoch 4/5\n",
      "8101/8101 [==============================] - ETA: 0s - loss: 0.1701 - auc: 0.8553 - precision: 0.8079 - recall: 0.2175 - f2_score: 0.2548 - binary_accuracy: 0.8524 - accuracy_enlarged_cardiomediastinum: 0.9173 - accuracy_cardiomegaly: 0.9044 - accuracy_lung_opacity: 0.5025 - accuracy_lung_lesion: 0.9394 - accuracy_edema: 0.7860 - accuracy_consolidation: 0.8159 - accuracy_pneumonia: 0.9679 - accuracy_atelectasis: 0.8551 - accuracy_pneumothorax: 0.9230 - accuracy_pleural_effusion: 0.7102 - accuracy_pleural_other: 0.9831 - accuracy_fracture: 0.9246 - auc_enlarged_cardiomediastinum: 0.8219 - auc_cardiomegaly: 0.8868 - auc_lung_opacity: 0.7446 - auc_lung_lesion: 0.9063 - auc_edema: 0.8727 - auc_consolidation: 0.7270 - auc_pneumonia: 0.8809 - auc_atelectasis: 0.7365 - auc_pneumothorax: 0.8847 - auc_pleural_effusion: 0.8846 - auc_pleural_other: 0.9930 - auc_fracture: 0.9243 - precision_enlarged_cardiomediastinum: 0.7643 - precision_cardiomegaly: 0.6905 - precision_lung_opacity: 0.9422 - precision_lung_lesion: 0.7415 - precision_edema: 0.8411 - precision_consolidation: 0.8381 - precision_pneumonia: 0.3685 - precision_atelectasis: 0.6895 - precision_pneumothorax: 0.7409 - precision_pleural_effusion: 0.9318 - precision_pleural_other: 0.8287 - precision_fracture: 0.8096 - recall_enlarged_cardiomediastinum: 0.2154 - recall_cardiomegaly: 0.3368 - recall_lung_opacity: 0.0047 - recall_lung_lesion: 0.4111 - recall_edema: 0.2512 - recall_consolidation: 0.0020 - recall_pneumonia: 0.2686 - recall_atelectasis: 0.0082 - recall_pneumothorax: 0.4050 - recall_pleural_effusion: 0.3424 - recall_pleural_other: 0.8561 - recall_fracture: 0.4725 - f2_score_enlarged_cardiomediastinum: 0.2515 - f2_score_cardiomegaly: 0.3752 - f2_score_lung_opacity: 0.0058 - f2_score_lung_lesion: 0.4513 - f2_score_edema: 0.2922 - f2_score_consolidation: 0.0025 - f2_score_pneumonia: 0.2840 - f2_score_atelectasis: 0.0103 - f2_score_pneumothorax: 0.4454 - f2_score_pleural_effusion: 0.3919 - f2_score_pleural_other: 0.8505 - f2_score_fracture: 0.5154 - learning rate: 1.2500e-05INFO:tensorflow:Summary name epoch_learning rate is illegal; using epoch_learning_rate instead.\n",
      "\n",
      "Epoch 00004: saving model to models/DenseNet169_2_Chexpert_CWBCE_L1Normed_E5_B32_C0_N12_AugAffine_sharp21_U75_D256_DS9505_1LR4_LF5_Adam_Upsampled/weights.04-0.19.hdf5\n",
      "8101/8101 [==============================] - 3110s 384ms/step - loss: 0.1701 - auc: 0.8553 - precision: 0.8079 - recall: 0.2175 - f2_score: 0.2548 - binary_accuracy: 0.8524 - accuracy_enlarged_cardiomediastinum: 0.9173 - accuracy_cardiomegaly: 0.9044 - accuracy_lung_opacity: 0.5025 - accuracy_lung_lesion: 0.9394 - accuracy_edema: 0.7860 - accuracy_consolidation: 0.8159 - accuracy_pneumonia: 0.9679 - accuracy_atelectasis: 0.8551 - accuracy_pneumothorax: 0.9230 - accuracy_pleural_effusion: 0.7102 - accuracy_pleural_other: 0.9831 - accuracy_fracture: 0.9246 - auc_enlarged_cardiomediastinum: 0.8219 - auc_cardiomegaly: 0.8868 - auc_lung_opacity: 0.7446 - auc_lung_lesion: 0.9063 - auc_edema: 0.8727 - auc_consolidation: 0.7270 - auc_pneumonia: 0.8809 - auc_atelectasis: 0.7365 - auc_pneumothorax: 0.8847 - auc_pleural_effusion: 0.8846 - auc_pleural_other: 0.9930 - auc_fracture: 0.9243 - precision_enlarged_cardiomediastinum: 0.7643 - precision_cardiomegaly: 0.6905 - precision_lung_opacity: 0.9422 - precision_lung_lesion: 0.7415 - precision_edema: 0.8411 - precision_consolidation: 0.8381 - precision_pneumonia: 0.3685 - precision_atelectasis: 0.6895 - precision_pneumothorax: 0.7409 - precision_pleural_effusion: 0.9318 - precision_pleural_other: 0.8287 - precision_fracture: 0.8096 - recall_enlarged_cardiomediastinum: 0.2154 - recall_cardiomegaly: 0.3368 - recall_lung_opacity: 0.0047 - recall_lung_lesion: 0.4111 - recall_edema: 0.2512 - recall_consolidation: 0.0020 - recall_pneumonia: 0.2686 - recall_atelectasis: 0.0082 - recall_pneumothorax: 0.4050 - recall_pleural_effusion: 0.3424 - recall_pleural_other: 0.8561 - recall_fracture: 0.4725 - f2_score_enlarged_cardiomediastinum: 0.2515 - f2_score_cardiomegaly: 0.3752 - f2_score_lung_opacity: 0.0058 - f2_score_lung_lesion: 0.4513 - f2_score_edema: 0.2922 - f2_score_consolidation: 0.0025 - f2_score_pneumonia: 0.2840 - f2_score_atelectasis: 0.0103 - f2_score_pneumothorax: 0.4454 - f2_score_pleural_effusion: 0.3919 - f2_score_pleural_other: 0.8505 - f2_score_fracture: 0.5154 - learning rate: 1.2500e-05 - val_loss: 0.1885 - val_auc: 0.7628 - val_precision: 0.7007 - val_recall: 0.1645 - val_f2_score: 0.1942 - val_binary_accuracy: 0.8521 - val_accuracy_enlarged_cardiomediastinum: 0.9455 - val_accuracy_cardiomegaly: 0.8868 - val_accuracy_lung_opacity: 0.5113 - val_accuracy_lung_lesion: 0.9519 - val_accuracy_edema: 0.7591 - val_accuracy_consolidation: 0.8119 - val_accuracy_pneumonia: 0.9648 - val_accuracy_atelectasis: 0.8506 - val_accuracy_pneumothorax: 0.9201 - val_accuracy_pleural_effusion: 0.7003 - val_accuracy_pleural_other: 0.9777 - val_accuracy_fracture: 0.9452 - val_auc_enlarged_cardiomediastinum: 0.6365 - val_auc_cardiomegaly: 0.8650 - val_auc_lung_opacity: 0.7405 - val_auc_lung_lesion: 0.7673 - val_auc_edema: 0.8567 - val_auc_consolidation: 0.7143 - val_auc_pneumonia: 0.7237 - val_auc_atelectasis: 0.7079 - val_auc_pneumothorax: 0.8357 - val_auc_pleural_effusion: 0.8699 - val_auc_pleural_other: 0.6781 - val_auc_fracture: 0.7574 - val_precision_enlarged_cardiomediastinum: 0.2609 - val_precision_cardiomegaly: 0.6266 - val_precision_lung_opacity: 0.7647 - val_precision_lung_lesion: 0.3363 - val_precision_edema: 0.8071 - val_precision_consolidation: 0.3636 - val_precision_pneumonia: 0.1783 - val_precision_atelectasis: 0.6000 - val_precision_pneumothorax: 0.6875 - val_precision_pleural_effusion: 0.9025 - val_precision_pleural_other: 0.1803 - val_precision_fracture: 0.2676 - val_recall_enlarged_cardiomediastinum: 0.0757 - val_recall_cardiomegaly: 0.3510 - val_recall_lung_opacity: 0.0023 - val_recall_lung_lesion: 0.1570 - val_recall_edema: 0.2165 - val_recall_consolidation: 0.0018 - val_recall_pneumonia: 0.0912 - val_recall_atelectasis: 0.0155 - val_recall_pneumothorax: 0.3148 - val_recall_pleural_effusion: 0.3587 - val_recall_pleural_other: 0.1215 - val_recall_fracture: 0.1610 - val_f2_score_enlarged_cardiomediastinum: 0.0882 - val_f2_score_cardiomegaly: 0.3848 - val_f2_score_lung_opacity: 0.0029 - val_f2_score_lung_lesion: 0.1758 - val_f2_score_edema: 0.2536 - val_f2_score_consolidation: 0.0023 - val_f2_score_pneumonia: 0.1011 - val_f2_score_atelectasis: 0.0192 - val_f2_score_pneumothorax: 0.3531 - val_f2_score_pleural_effusion: 0.4079 - val_f2_score_pleural_other: 0.1300 - val_f2_score_fracture: 0.1749\n",
      "Epoch 5/5\n",
      "8101/8101 [==============================] - ETA: 0s - loss: 0.1614 - auc: 0.8673 - precision: 0.8226 - recall: 0.2358 - f2_score: 0.2751 - binary_accuracy: 0.8560 - accuracy_enlarged_cardiomediastinum: 0.9214 - accuracy_cardiomegaly: 0.9069 - accuracy_lung_opacity: 0.5038 - accuracy_lung_lesion: 0.9466 - accuracy_edema: 0.7870 - accuracy_consolidation: 0.8132 - accuracy_pneumonia: 0.9700 - accuracy_atelectasis: 0.8566 - accuracy_pneumothorax: 0.9280 - accuracy_pleural_effusion: 0.7152 - accuracy_pleural_other: 0.9883 - accuracy_fracture: 0.9352 - auc_enlarged_cardiomediastinum: 0.8499 - auc_cardiomegaly: 0.8930 - auc_lung_opacity: 0.7488 - auc_lung_lesion: 0.9265 - auc_edema: 0.8739 - auc_consolidation: 0.7324 - auc_pneumonia: 0.9076 - auc_atelectasis: 0.7469 - auc_pneumothorax: 0.8960 - auc_pleural_effusion: 0.8869 - auc_pleural_other: 0.9965 - auc_fracture: 0.9486 - precision_enlarged_cardiomediastinum: 0.7767 - precision_cardiomegaly: 0.7062 - precision_lung_opacity: 0.9405 - precision_lung_lesion: 0.7757 - precision_edema: 0.8460 - precision_consolidation: 0.7566 - precision_pneumonia: 0.4243 - precision_atelectasis: 0.7772 - precision_pneumothorax: 0.7594 - precision_pleural_effusion: 0.9354 - precision_pleural_other: 0.8679 - precision_fracture: 0.8302 - recall_enlarged_cardiomediastinum: 0.2633 - recall_cardiomegaly: 0.3629 - recall_lung_opacity: 0.0066 - recall_lung_lesion: 0.4789 - recall_edema: 0.2543 - recall_consolidation: 0.0034 - recall_pneumonia: 0.3480 - recall_atelectasis: 0.0150 - recall_pneumothorax: 0.4430 - recall_pleural_effusion: 0.3561 - recall_pleural_other: 0.9095 - recall_fracture: 0.5586 - f2_score_enlarged_cardiomediastinum: 0.3033 - f2_score_cardiomegaly: 0.4020 - f2_score_lung_opacity: 0.0082 - f2_score_lung_lesion: 0.5185 - f2_score_edema: 0.2956 - f2_score_consolidation: 0.0043 - f2_score_pneumonia: 0.3605 - f2_score_atelectasis: 0.0186 - f2_score_pneumothorax: 0.4833 - f2_score_pleural_effusion: 0.4065 - f2_score_pleural_other: 0.9009 - f2_score_fracture: 0.5977 - learning rate: 6.2500e-06INFO:tensorflow:Summary name epoch_learning rate is illegal; using epoch_learning_rate instead.\n",
      "\n",
      "Epoch 00005: saving model to models/DenseNet169_2_Chexpert_CWBCE_L1Normed_E5_B32_C0_N12_AugAffine_sharp21_U75_D256_DS9505_1LR4_LF5_Adam_Upsampled/weights.05-0.19.hdf5\n",
      "8101/8101 [==============================] - 3070s 379ms/step - loss: 0.1614 - auc: 0.8673 - precision: 0.8226 - recall: 0.2358 - f2_score: 0.2751 - binary_accuracy: 0.8560 - accuracy_enlarged_cardiomediastinum: 0.9214 - accuracy_cardiomegaly: 0.9069 - accuracy_lung_opacity: 0.5038 - accuracy_lung_lesion: 0.9466 - accuracy_edema: 0.7870 - accuracy_consolidation: 0.8132 - accuracy_pneumonia: 0.9700 - accuracy_atelectasis: 0.8566 - accuracy_pneumothorax: 0.9280 - accuracy_pleural_effusion: 0.7152 - accuracy_pleural_other: 0.9883 - accuracy_fracture: 0.9352 - auc_enlarged_cardiomediastinum: 0.8499 - auc_cardiomegaly: 0.8930 - auc_lung_opacity: 0.7488 - auc_lung_lesion: 0.9265 - auc_edema: 0.8739 - auc_consolidation: 0.7324 - auc_pneumonia: 0.9076 - auc_atelectasis: 0.7469 - auc_pneumothorax: 0.8960 - auc_pleural_effusion: 0.8869 - auc_pleural_other: 0.9965 - auc_fracture: 0.9486 - precision_enlarged_cardiomediastinum: 0.7767 - precision_cardiomegaly: 0.7062 - precision_lung_opacity: 0.9405 - precision_lung_lesion: 0.7757 - precision_edema: 0.8460 - precision_consolidation: 0.7566 - precision_pneumonia: 0.4243 - precision_atelectasis: 0.7772 - precision_pneumothorax: 0.7594 - precision_pleural_effusion: 0.9354 - precision_pleural_other: 0.8679 - precision_fracture: 0.8302 - recall_enlarged_cardiomediastinum: 0.2633 - recall_cardiomegaly: 0.3629 - recall_lung_opacity: 0.0066 - recall_lung_lesion: 0.4789 - recall_edema: 0.2543 - recall_consolidation: 0.0034 - recall_pneumonia: 0.3480 - recall_atelectasis: 0.0150 - recall_pneumothorax: 0.4430 - recall_pleural_effusion: 0.3561 - recall_pleural_other: 0.9095 - recall_fracture: 0.5586 - f2_score_enlarged_cardiomediastinum: 0.3033 - f2_score_cardiomegaly: 0.4020 - f2_score_lung_opacity: 0.0082 - f2_score_lung_lesion: 0.5185 - f2_score_edema: 0.2956 - f2_score_consolidation: 0.0043 - f2_score_pneumonia: 0.3605 - f2_score_atelectasis: 0.0186 - f2_score_pneumothorax: 0.4833 - f2_score_pleural_effusion: 0.4065 - f2_score_pleural_other: 0.9009 - f2_score_fracture: 0.5977 - learning rate: 6.2500e-06 - val_loss: 0.1912 - val_auc: 0.7584 - val_precision: 0.6853 - val_recall: 0.1704 - val_f2_score: 0.2005 - val_binary_accuracy: 0.8518 - val_accuracy_enlarged_cardiomediastinum: 0.9430 - val_accuracy_cardiomegaly: 0.8876 - val_accuracy_lung_opacity: 0.5113 - val_accuracy_lung_lesion: 0.9506 - val_accuracy_edema: 0.7683 - val_accuracy_consolidation: 0.8119 - val_accuracy_pneumonia: 0.9572 - val_accuracy_atelectasis: 0.8509 - val_accuracy_pneumothorax: 0.9188 - val_accuracy_pleural_effusion: 0.6959 - val_accuracy_pleural_other: 0.9790 - val_accuracy_fracture: 0.9465 - val_auc_enlarged_cardiomediastinum: 0.6265 - val_auc_cardiomegaly: 0.8634 - val_auc_lung_opacity: 0.7391 - val_auc_lung_lesion: 0.7634 - val_auc_edema: 0.8558 - val_auc_consolidation: 0.7116 - val_auc_pneumonia: 0.7233 - val_auc_atelectasis: 0.7045 - val_auc_pneumothorax: 0.8328 - val_auc_pleural_effusion: 0.8700 - val_auc_pleural_other: 0.6576 - val_auc_fracture: 0.7527 - val_precision_enlarged_cardiomediastinum: 0.2240 - val_precision_cardiomegaly: 0.6417 - val_precision_lung_opacity: 0.6800 - val_precision_lung_lesion: 0.3106 - val_precision_edema: 0.7772 - val_precision_consolidation: 0.3636 - val_precision_pneumonia: 0.1351 - val_precision_atelectasis: 0.6667 - val_precision_pneumothorax: 0.6538 - val_precision_pleural_effusion: 0.9041 - val_precision_pleural_other: 0.1477 - val_precision_fracture: 0.2827 - val_recall_enlarged_cardiomediastinum: 0.0775 - val_recall_cardiomegaly: 0.3359 - val_recall_lung_opacity: 0.0030 - val_recall_lung_lesion: 0.1508 - val_recall_edema: 0.2754 - val_recall_consolidation: 0.0018 - val_recall_pneumonia: 0.1140 - val_recall_atelectasis: 0.0149 - val_recall_pneumothorax: 0.3345 - val_recall_pleural_effusion: 0.3468 - val_recall_pleural_other: 0.0718 - val_recall_fracture: 0.1610 - val_f2_score_enlarged_cardiomediastinum: 0.0891 - val_f2_score_cardiomegaly: 0.3713 - val_f2_score_lung_opacity: 0.0037 - val_f2_score_lung_lesion: 0.1681 - val_f2_score_edema: 0.3163 - val_f2_score_consolidation: 0.0023 - val_f2_score_pneumonia: 0.1177 - val_f2_score_atelectasis: 0.0186 - val_f2_score_pneumothorax: 0.3707 - val_f2_score_pleural_effusion: 0.3955 - val_f2_score_pleural_other: 0.0800 - val_f2_score_fracture: 0.1761\n"
     ]
    },
    {
     "data": {
      "text/plain": [
       "<tensorflow.python.keras.callbacks.History at 0x7fac72fa4f98>"
      ]
     },
     "execution_count": 35,
     "metadata": {},
     "output_type": "execute_result"
    }
   ],
   "source": [
    "bce_chexpert_exp.train()"
   ]
  },
  {
   "cell_type": "code",
   "execution_count": 12,
   "metadata": {},
   "outputs": [
    {
     "name": "stdout",
     "output_type": "stream",
     "text": [
      "234/234 [==============================] - 6s 25ms/step\n"
     ]
    },
    {
     "name": "stderr",
     "output_type": "stream",
     "text": [
      "/usr/local/lib/python3.6/dist-packages/sklearn/metrics/_classification.py:1221: UndefinedMetricWarning: Precision and F-score are ill-defined and being set to 0.0 in labels with no predicted samples. Use `zero_division` parameter to control this behavior.\n",
      "  _warn_prf(average, modifier, msg_start, len(result))\n",
      "/usr/local/lib/python3.6/dist-packages/sklearn/metrics/_classification.py:1221: UndefinedMetricWarning: Recall and F-score are ill-defined and being set to 0.0 in labels with no true samples. Use `zero_division` parameter to control this behavior.\n",
      "  _warn_prf(average, modifier, msg_start, len(result))\n",
      "/usr/local/lib/python3.6/dist-packages/sklearn/metrics/_classification.py:1221: UndefinedMetricWarning: Precision and F-score are ill-defined and being set to 0.0 in samples with no predicted labels. Use `zero_division` parameter to control this behavior.\n",
      "  _warn_prf(average, modifier, msg_start, len(result))\n",
      "/usr/local/lib/python3.6/dist-packages/sklearn/metrics/_classification.py:1221: UndefinedMetricWarning: Recall and F-score are ill-defined and being set to 0.0 in samples with no true labels. Use `zero_division` parameter to control this behavior.\n",
      "  _warn_prf(average, modifier, msg_start, len(result))\n"
     ]
    },
    {
     "name": "stdout",
     "output_type": "stream",
     "text": [
      "234/234 [==============================] - 15s 64ms/step - loss: 0.2894 - auc: 0.6876 - precision: 0.6049 - recall: 0.0897 - f2_score: 0.1082 - binary_accuracy: 0.8116 - accuracy_enlarged_cardiomediastinum: 0.5427 - accuracy_cardiomegaly: 0.7308 - accuracy_lung_opacity: 0.4615 - accuracy_lung_lesion: 0.9872 - accuracy_edema: 0.8718 - accuracy_consolidation: 0.8590 - accuracy_pneumonia: 0.9615 - accuracy_atelectasis: 0.6581 - accuracy_pneumothorax: 0.9402 - accuracy_pleural_effusion: 0.7735 - accuracy_pleural_other: 0.9829 - accuracy_fracture: 0.9701 - auc_enlarged_cardiomediastinum: 0.5261 - auc_cardiomegaly: 0.7503 - auc_lung_opacity: 0.9166 - auc_lung_lesion: 0.1395 - auc_edema: 0.9225 - auc_consolidation: 0.8979 - auc_pneumonia: 0.6153 - auc_atelectasis: 0.7784 - auc_pneumothorax: 0.8841 - auc_pleural_effusion: 0.9130 - auc_pleural_other: 0.9077 - auc_fracture: 0.0000e+00 - precision_enlarged_cardiomediastinum: 1.0000 - precision_cardiomegaly: 1.0000 - precision_lung_opacity: 0.0000e+00 - precision_lung_lesion: 0.0000e+00 - precision_edema: 0.8261 - precision_consolidation: 0.0000e+00 - precision_pneumonia: 0.3333 - precision_atelectasis: 0.0000e+00 - precision_pneumothorax: 0.2500 - precision_pleural_effusion: 0.7917 - precision_pleural_other: 0.0000e+00 - precision_fracture: 0.0000e+00 - recall_enlarged_cardiomediastinum: 0.0183 - recall_cardiomegaly: 0.0735 - recall_lung_opacity: 0.0000e+00 - recall_lung_lesion: 0.0000e+00 - recall_edema: 0.4222 - recall_consolidation: 0.0000e+00 - recall_pneumonia: 0.1250 - recall_atelectasis: 0.0000e+00 - recall_pneumothorax: 0.3750 - recall_pleural_effusion: 0.2836 - recall_pleural_other: 0.0000e+00 - recall_fracture: 0.0000e+00 - f2_score_enlarged_cardiomediastinum: 0.0228 - f2_score_cardiomegaly: 0.0903 - f2_score_lung_opacity: 0.0000e+00 - f2_score_lung_lesion: 0.0000e+00 - f2_score_edema: 0.4680 - f2_score_consolidation: 0.0000e+00 - f2_score_pneumonia: 0.1429 - f2_score_atelectasis: 0.0000e+00 - f2_score_pneumothorax: 0.3409 - f2_score_pleural_effusion: 0.3253 - f2_score_pleural_other: 0.0000e+00 - f2_score_fracture: 0.0000e+00                                              - ETA: 11s - loss: 0.2414 - auc: 0.6053 - precision: 0.4286 - recall: 0.0674 - f2_score: 0.0811 - binary_accuracy: 0.8542 - accuracy_enlarged_cardiomediastinum: 0.6923 - accuracy_cardiomegaly: 0.8077 - accuracy_lung_opacity: 0.5192 - accuracy_lung_lesion: 1.0000 - accuracy_edema: 0.8846 - accuracy_consolidation: 0.9038 - accuracy_pneumonia: 0.9231 - accuracy_atelectasis: 0.7308 - accuracy_pneumothorax: 0.9423 - accuracy_pleural_effusion: 0.9231 - accuracy_pleural_other: 0.9615 - accuracy_fracture: 0.9615 - auc_enlarged_cardiomediastinum: 0.5069 - auc_cardiomegaly: 0.6896 - auc_lung_opacity: 0.9059 - auc_lung_lesion: 0.0000e+00 - auc_edema: 0.8696 - auc_consolidation: 0.9596 - auc_pneumonia: 0.8163 - auc_atelectasis: 0.7660 - auc_pneumothorax: 0.7755 - auc_pleural_effusion: 0.9746 - auc_pleural_other: 0.0000e+00 - auc_fracture: 0.0000e+00 - precision_enlarged_cardiomediastinum: 0.0000e+00 - precision_cardiomegaly: 1.0000 - precision_lung_opacity: 0.0000e+00 - precision_lung_lesion: 0.0000e+00 - precision_edema: 0.5000 - precision_consolidation: 0.0000e+00 - precision_pneumonia: 0.3333 - precision_atelectasis: 0.0000e+00 - precision_pneumothorax: 0.0000e+00 - precision_pleural_effusion: 1.0000 - precision_pleural_other: 0.0000e+00 - precision_fracture: 0.0000e+00 - recall_enlarged_cardiomediastinum: 0.0000e+00 - recall_cardiomegaly: 0.0909 - recall_lung_opacity: 0.0000e+00 - recall_lung_lesion: 0.0000e+00 - recall_edema: 0.3333 - recall_consolidation: 0.0000e+00 - recall_pneumonia: 0.3333 - recall_atelectasis: 0.0000e+00 - recall_pneumothorax: 0.0000e+00 - recall_pleural_effusion: 0.3333 - recall_pleural_other: 0.0000e+00 - recall_fracture: 0.0000e+00 - f2_score_enlarged_cardiomediastinum: 0.0000e+00 - f2_score_cardiomegaly: 0.1111 - f2_score_lung_opacity: 0.0000e+00 - f2_score_lung_lesion: 0.0000e+00 - f2_score_edema: 0.3571 - f2_score_consolidation: 0.0000e+\n"
     ]
    },
    {
     "data": {
      "text/plain": [
       "{'report': '                            precision    recall  f1-score   support\\n\\nEnlarged Cardiomediastinum       1.00      0.02      0.04       109\\n              Cardiomegaly       1.00      0.07      0.14        68\\n              Lung Opacity       0.00      0.00      0.00       126\\n               Lung Lesion       0.00      0.00      0.00         1\\n                     Edema       0.83      0.42      0.56        45\\n             Consolidation       0.00      0.00      0.00        33\\n                 Pneumonia       0.33      0.12      0.18         8\\n               Atelectasis       0.00      0.00      0.00        80\\n              Pneumothorax       0.25      0.38      0.30         8\\n          Pleural Effusion       0.79      0.28      0.42        67\\n             Pleural Other       0.00      0.00      0.00         1\\n                  Fracture       0.00      0.00      0.00         0\\n\\n                 micro avg       0.60      0.09      0.16       546\\n                 macro avg       0.35      0.11      0.14       546\\n              weighted avg       0.50      0.09      0.13       546\\n               samples avg       0.18      0.06      0.08       546\\n',\n",
       " 'metrics': {'loss': 0.2894051969051361,\n",
       "  'auc': 0.6876128315925598,\n",
       "  'precision': 0.604938268661499,\n",
       "  'recall': 0.08974359184503555,\n",
       "  'f2_score': 0.10816776752471924,\n",
       "  'binary_accuracy': 0.8116096258163452,\n",
       "  'accuracy_enlarged_cardiomediastinum': 0.5427350401878357,\n",
       "  'accuracy_cardiomegaly': 0.7307692170143127,\n",
       "  'accuracy_lung_opacity': 0.4615384638309479,\n",
       "  'accuracy_lung_lesion': 0.9871794581413269,\n",
       "  'accuracy_edema': 0.8717948794364929,\n",
       "  'accuracy_consolidation': 0.8589743375778198,\n",
       "  'accuracy_pneumonia': 0.9615384340286255,\n",
       "  'accuracy_atelectasis': 0.6581196784973145,\n",
       "  'accuracy_pneumothorax': 0.94017094373703,\n",
       "  'accuracy_pleural_effusion': 0.7735042572021484,\n",
       "  'accuracy_pleural_other': 0.9829059839248657,\n",
       "  'accuracy_fracture': 0.9700854420661926,\n",
       "  'auc_enlarged_cardiomediastinum': 0.5260550379753113,\n",
       "  'auc_cardiomegaly': 0.7502657175064087,\n",
       "  'auc_lung_opacity': 0.9165931344032288,\n",
       "  'auc_lung_lesion': 0.1394849717617035,\n",
       "  'auc_edema': 0.9225161671638489,\n",
       "  'auc_consolidation': 0.8978591561317444,\n",
       "  'auc_pneumonia': 0.6153208613395691,\n",
       "  'auc_atelectasis': 0.7783685326576233,\n",
       "  'auc_pneumothorax': 0.8841261267662048,\n",
       "  'auc_pleural_effusion': 0.9130396246910095,\n",
       "  'auc_pleural_other': 0.9077253341674805,\n",
       "  'auc_fracture': 0.0,\n",
       "  'precision_enlarged_cardiomediastinum': 1.0,\n",
       "  'precision_cardiomegaly': 1.0,\n",
       "  'precision_lung_opacity': 0.0,\n",
       "  'precision_lung_lesion': 0.0,\n",
       "  'precision_edema': 0.8260869383811951,\n",
       "  'precision_consolidation': 0.0,\n",
       "  'precision_pneumonia': 0.3333333432674408,\n",
       "  'precision_atelectasis': 0.0,\n",
       "  'precision_pneumothorax': 0.25,\n",
       "  'precision_pleural_effusion': 0.7916666865348816,\n",
       "  'precision_pleural_other': 0.0,\n",
       "  'precision_fracture': 0.0,\n",
       "  'recall_enlarged_cardiomediastinum': 0.01834862306714058,\n",
       "  'recall_cardiomegaly': 0.07352941483259201,\n",
       "  'recall_lung_opacity': 0.0,\n",
       "  'recall_lung_lesion': 0.0,\n",
       "  'recall_edema': 0.42222222685813904,\n",
       "  'recall_consolidation': 0.0,\n",
       "  'recall_pneumonia': 0.125,\n",
       "  'recall_atelectasis': 0.0,\n",
       "  'recall_pneumothorax': 0.375,\n",
       "  'recall_pleural_effusion': 0.28358209133148193,\n",
       "  'recall_pleural_other': 0.0,\n",
       "  'recall_fracture': 0.0,\n",
       "  'f2_score_enlarged_cardiomediastinum': 0.02283104881644249,\n",
       "  'f2_score_cardiomegaly': 0.09025271236896515,\n",
       "  'f2_score_lung_opacity': 0.0,\n",
       "  'f2_score_lung_lesion': 0.0,\n",
       "  'f2_score_edema': 0.4679802656173706,\n",
       "  'f2_score_consolidation': 0.0,\n",
       "  'f2_score_pneumonia': 0.1428571492433548,\n",
       "  'f2_score_atelectasis': 0.0,\n",
       "  'f2_score_pneumothorax': 0.34090909361839294,\n",
       "  'f2_score_pleural_effusion': 0.32534244656562805,\n",
       "  'f2_score_pleural_other': 0.0,\n",
       "  'f2_score_fracture': 0.0},\n",
       " 'predictions': array([[1.0962612e-02, 3.4338883e-01, 5.5027612e-02, ..., 1.6596276e-02,\n",
       "         1.3951962e-04, 4.4775903e-02],\n",
       "        [2.7261984e-01, 5.0246928e-02, 7.0680641e-03, ..., 1.2992582e-02,\n",
       "         2.2429320e-05, 7.2615743e-03],\n",
       "        [5.2430112e-02, 1.4136078e-02, 1.6436122e-02, ..., 8.3561698e-03,\n",
       "         2.6586655e-04, 6.6888563e-02],\n",
       "        ...,\n",
       "        [3.1820196e-01, 2.8186271e-01, 1.2227567e-01, ..., 3.8747708e-03,\n",
       "         1.4580097e-03, 6.6861748e-03],\n",
       "        [9.6669272e-02, 4.5757730e-02, 1.3386197e-02, ..., 2.1273922e-03,\n",
       "         3.4321474e-05, 1.7550586e-02],\n",
       "        [9.4399470e-01, 3.3644561e-02, 1.1013939e-01, ..., 4.7789699e-01,\n",
       "         1.1988277e-07, 6.9939077e-02]], dtype=float32),\n",
       " 'groundtruth_label': array([[1., 1., 1., ..., 0., 0., 0.],\n",
       "        [0., 0., 0., ..., 0., 0., 0.],\n",
       "        [0., 0., 0., ..., 0., 0., 0.],\n",
       "        ...,\n",
       "        [1., 1., 1., ..., 0., 0., 0.],\n",
       "        [1., 0., 0., ..., 0., 0., 0.],\n",
       "        [1., 0., 1., ..., 1., 0., 0.]], dtype=float32)}"
      ]
     },
     "execution_count": 12,
     "metadata": {},
     "output_type": "execute_result"
    }
   ],
   "source": [
    "bce_chexpert_exp.evaluate()"
   ]
  },
  {
   "cell_type": "code",
   "execution_count": 19,
   "metadata": {},
   "outputs": [
    {
     "name": "stdout",
     "output_type": "stream",
     "text": [
      "WARNING:tensorflow:From /usr/local/lib/python3.6/dist-packages/tensorflow/python/training/tracking/tracking.py:111: Model.state_updates (from tensorflow.python.keras.engine.training) is deprecated and will be removed in a future version.\n",
      "Instructions for updating:\n",
      "This property should not be used in TensorFlow 2.0, as updates are applied automatically.\n",
      "WARNING:tensorflow:From /usr/local/lib/python3.6/dist-packages/tensorflow/python/training/tracking/tracking.py:111: Layer.updates (from tensorflow.python.keras.engine.base_layer) is deprecated and will be removed in a future version.\n",
      "Instructions for updating:\n",
      "This property should not be used in TensorFlow 2.0, as updates are applied automatically.\n",
      "INFO:tensorflow:Assets written to: /srv/idp-radio-1/models/DenseNet169_2_Chexpert_CWBCE_L1Normed_E5_B32_C0_N12_AugAffine_sharp21_U75_D256_DS9505_1LR4_LF5_Adam_Upsampled/DenseNet169_2_Chexpert_CWBCE_L1Normed_E5_B32_C0_N12_AugAffine_sharp21_U75_D256_DS9505_1LR4_LF5_Adam_Upsampled_20200906-124223/assets\n"
     ]
    },
    {
     "data": {
      "text/plain": [
       "'697b4e66-f03e-11ea-a627-0242ac110002'"
      ]
     },
     "execution_count": 19,
     "metadata": {},
     "output_type": "execute_result"
    }
   ],
   "source": [
    "bce_chexpert_exp.save()"
   ]
  },
  {
   "cell_type": "code",
   "execution_count": 3,
   "metadata": {},
   "outputs": [
    {
     "ename": "NameError",
     "evalue": "name 'bce_chexpert_exp' is not defined",
     "output_type": "error",
     "traceback": [
      "\u001b[0;31m---------------------------------------------------------------------------\u001b[0m",
      "\u001b[0;31mNameError\u001b[0m                                 Traceback (most recent call last)",
      "\u001b[0;32m<ipython-input-3-07c30c38c71b>\u001b[0m in \u001b[0;36m<module>\u001b[0;34m\u001b[0m\n\u001b[0;32m----> 1\u001b[0;31m \u001b[0mbce_chexpert_exp\u001b[0m\u001b[0;34m\u001b[0m\u001b[0;34m\u001b[0m\u001b[0m\n\u001b[0m",
      "\u001b[0;31mNameError\u001b[0m: name 'bce_chexpert_exp' is not defined"
     ]
    }
   ],
   "source": []
  },
  {
   "cell_type": "code",
   "execution_count": null,
   "metadata": {},
   "outputs": [],
   "source": [
    "compute_class_weight(bce_chexpert_exp.benchmark.traingen)"
   ]
  },
  {
   "cell_type": "code",
   "execution_count": null,
   "metadata": {},
   "outputs": [],
   "source": [
    "trained_weights = bce_chexpert_exp.model.get_weights()"
   ]
  },
  {
   "cell_type": "code",
   "execution_count": null,
   "metadata": {},
   "outputs": [],
   "source": [
    "images, labels = bce_chexpert_exp.benchmark.traingen[0]\n",
    "len(images)"
   ]
  },
  {
   "cell_type": "code",
   "execution_count": null,
   "metadata": {},
   "outputs": [],
   "source": [
    "preds = bce_chexpert_exp.model(images, training=True)\n",
    "preds.op"
   ]
  },
  {
   "cell_type": "code",
   "execution_count": null,
   "metadata": {},
   "outputs": [],
   "source": [
    "bce_chexpert_exp.model.summary(line_length=150)"
   ]
  },
  {
   "cell_type": "code",
   "execution_count": null,
   "metadata": {},
   "outputs": [],
   "source": [
    "index = -1\n",
    "trained_weights[index].shape, trained_weights[index], np.isnan(trained_weights[index]).any()"
   ]
  },
  {
   "cell_type": "code",
   "execution_count": null,
   "metadata": {},
   "outputs": [],
   "source": [
    "nan_layers = [i for i in range(len(trained_weights)) if np.isnan(trained_weights[i]).any()] \n",
    "#nan_layers   "
   ]
  },
  {
   "cell_type": "code",
   "execution_count": null,
   "metadata": {},
   "outputs": [],
   "source": [
    "mean_weights = {i:np.abs(trained_weights[i]).mean() for i in range(len(trained_weights))}\n",
    "#mean_weights"
   ]
  },
  {
   "cell_type": "code",
   "execution_count": null,
   "metadata": {},
   "outputs": [],
   "source": [
    "{i:trained_weights[i].shape for i in range(len(trained_weights))}"
   ]
  },
  {
   "cell_type": "code",
   "execution_count": null,
   "metadata": {},
   "outputs": [],
   "source": [
    "for i in range(191, 195):\n",
    "    print(i, trained_weights[i].shape, trained_weights[i])"
   ]
  },
  {
   "cell_type": "code",
   "execution_count": null,
   "metadata": {},
   "outputs": [],
   "source": [
    "#chexpert_exp.save()"
   ]
  },
  {
   "cell_type": "code",
   "execution_count": null,
   "metadata": {},
   "outputs": [],
   "source": [
    "from datetime import datetime\n",
    "model_filename = chexpert_exp.model_name + \"_\" + datetime.now().strftime(\"%Y%m%d-%H%M%S\")\n",
    "model_filename_tf = model_filename + \".tf\"\n",
    "model_filename_h5 = model_filename + \".h5\"\n",
    "model_filename"
   ]
  },
  {
   "cell_type": "code",
   "execution_count": null,
   "metadata": {},
   "outputs": [],
   "source": [
    "folderpath = Path(os.getcwd()) / 'models' / chexpert_exp.model_name\n",
    "path = folderpath / model_filename\n",
    "path"
   ]
  },
  {
   "cell_type": "code",
   "execution_count": null,
   "metadata": {},
   "outputs": [],
   "source": [
    "# make sure path exists, ceate one if necessary\n",
    "Path(folderpath).mkdir(parents=True, exist_ok=True)\n",
    "chexpert_exp.model.save(path, save_format=\"tf\")"
   ]
  },
  {
   "cell_type": "code",
   "execution_count": null,
   "metadata": {},
   "outputs": [],
   "source": [
    "# make sure path exists, ceate one if necessary\n",
    "Path(folderpath).mkdir(parents=True, exist_ok=True)\n",
    "chexpert_exp.model.save(folderpath / model_filename_h5, save_format=\"h5\")"
   ]
  },
  {
   "cell_type": "code",
   "execution_count": null,
   "metadata": {},
   "outputs": [],
   "source": [
    "!pwd"
   ]
  },
  {
   "cell_type": "code",
   "execution_count": null,
   "metadata": {},
   "outputs": [],
   "source": [
    "folderpath / model_filename_h5"
   ]
  },
  {
   "cell_type": "code",
   "execution_count": null,
   "metadata": {},
   "outputs": [],
   "source": [
    "chexpert_exp.save()"
   ]
  },
  {
   "cell_type": "code",
   "execution_count": null,
   "metadata": {},
   "outputs": [],
   "source": [
    "chexpert_exp.evaluate()"
   ]
  },
  {
   "cell_type": "code",
   "execution_count": null,
   "metadata": {},
   "outputs": [],
   "source": [
    "testgen = chexpert_benchmarks[\"BCE_E1_B32_C0_N5_D256_DS0595_savetest7\"].testgen"
   ]
  },
  {
   "cell_type": "code",
   "execution_count": null,
   "metadata": {},
   "outputs": [],
   "source": [
    "preds = chexpert_exp.model.predict(testgen, steps=len(testgen), verbose=1)"
   ]
  },
  {
   "cell_type": "code",
   "execution_count": null,
   "metadata": {},
   "outputs": [],
   "source": [
    "import numpy as np\n",
    "from sklearn.metrics import classification_report\n",
    "from tensorflow.keras.metrics import Precision, Recall\n",
    "from tensorflow.keras import models\n",
    "import json\n",
    "from src.architectures.benchmarks.benchmark import Benchmark, Experiment\n",
    "from pathlib import Path\n",
    "from keras.utils.generic_utils import get_custom_objects\n",
    "from src.metrics.losses import WeightedBinaryCrossentropy, compute_class_weight\n",
    "\n",
    "\n",
    "groundtruth_label = testgen.get_labels_nonan()\n",
    "thresholds = [0.5]\n",
    "for t in thresholds:\n",
    "    print('current threshold: ', t)\n",
    "    predictions_bool = (preds >= t)\n",
    "    y_pred = np.array(predictions_bool, dtype=int)\n",
    "\n",
    "    # report = classification_report(groundtruth_label, y_pred, target_names=list(CHEXPERT_BENCHMARKS['WBCE_E5_B32_C0'].label_columns))\n",
    "    # print('sklearn report: ', report)\n",
    "    \n",
    "    pre = Precision(thresholds=t)\n",
    "    pre.update_state(groundtruth_label, predictions_bool)\n",
    "    print('TF Precision: ', pre.result())\n",
    "    pre.reset_states()\n",
    "    \n",
    "    rec = Recall(thresholds=t)\n",
    "    rec.update_state(groundtruth_label, predictions_bool)\n",
    "    print('TF Recall: ', rec.result())\n",
    "    rec.reset_states()"
   ]
  },
  {
   "cell_type": "code",
   "execution_count": null,
   "metadata": {
    "pycharm": {
     "name": "#%%\n"
    }
   },
   "outputs": [],
   "source": [
    "report = classification_report(groundtruth_label, y_pred, target_names=chexpert_benchmarks[\"BCE_E1_B32_C0_N5_D256_DS0595_savetest7\"].label_columns)\n",
    "print('sklearn report: ', report)"
   ]
  },
  {
   "cell_type": "code",
   "execution_count": null,
   "metadata": {},
   "outputs": [],
   "source": []
  },
  {
   "cell_type": "code",
   "execution_count": null,
   "metadata": {},
   "outputs": [],
   "source": [
    "model = tf.keras.models.load_model('models/DenseNet121_Chexpert_BCE_E1_B32_C0_N5_D256_DS0595_savetest7/DenseNet121_Chexpert_BCE_E1_B32_C0_N5_D256_DS0595_savetest7_20200819-125620.h5', compile=False)"
   ]
  },
  {
   "cell_type": "code",
   "execution_count": null,
   "metadata": {},
   "outputs": [],
   "source": [
    "predstwo = model.predict(testgen, steps=len(testgen), verbose=1)"
   ]
  },
  {
   "cell_type": "code",
   "execution_count": null,
   "metadata": {},
   "outputs": [],
   "source": [
    "groundtruth_label = testgen.get_labels_nonan()\n",
    "predictions_bool = (predstwo >= t)\n",
    "y_pred = np.array(predictions_bool, dtype=int)\n",
    "report = classification_report(groundtruth_label, y_pred, target_names=chexpert_benchmarks[\"BCE_E1_B32_C0_N5_D256_DS0595_savetest7\"].label_columns)\n",
    "print('sklearn report: ', report)"
   ]
  },
  {
   "cell_type": "code",
   "execution_count": null,
   "metadata": {},
   "outputs": [],
   "source": []
  },
  {
   "cell_type": "code",
   "execution_count": null,
   "metadata": {},
   "outputs": [],
   "source": [
    "\"test.h5\".replace(\".h5\", \"\")"
   ]
  },
  {
   "cell_type": "code",
   "execution_count": null,
   "metadata": {},
   "outputs": [],
   "source": []
  },
  {
   "cell_type": "code",
   "execution_count": null,
   "metadata": {},
   "outputs": [],
   "source": []
  },
  {
   "cell_type": "code",
   "execution_count": null,
   "metadata": {},
   "outputs": [],
   "source": []
  },
  {
   "cell_type": "code",
   "execution_count": null,
   "metadata": {},
   "outputs": [],
   "source": []
  },
  {
   "cell_type": "code",
   "execution_count": null,
   "metadata": {},
   "outputs": [],
   "source": []
  },
  {
   "cell_type": "code",
   "execution_count": null,
   "metadata": {},
   "outputs": [],
   "source": []
  },
  {
   "cell_type": "code",
   "execution_count": null,
   "metadata": {},
   "outputs": [],
   "source": []
  },
  {
   "cell_type": "code",
   "execution_count": null,
   "metadata": {},
   "outputs": [],
   "source": []
  },
  {
   "cell_type": "code",
   "execution_count": null,
   "metadata": {},
   "outputs": [],
   "source": []
  },
  {
   "cell_type": "code",
   "execution_count": null,
   "metadata": {},
   "outputs": [],
   "source": []
  },
  {
   "cell_type": "code",
   "execution_count": null,
   "metadata": {},
   "outputs": [],
   "source": [
    "# model_guendel_chestxray14 = densenet(classes=len(CHESTXRAY14_COLUMNS))\n",
    "model_guendel_chexpert = densenet(classes=len(CHEXPERT_COLUMNS))\n",
    "\n",
    "#experiment_guendel_chestxray14 = Experiment(chestxray14_benchmark, model_guendel_chestxray14)\n",
    "experiment_guendel_chexpert = Experiment(CHEXPERT_BENCHMARKS[\"WBCE_E10_B32\"], model_guendel_chexpert, model_name=\"test_WBCE_32\")\n",
    "\n"
   ]
  },
  {
   "cell_type": "code",
   "execution_count": null,
   "metadata": {},
   "outputs": [],
   "source": [
    "#experiment_guendel_chestxray14_result =  experiment_guendel_chestxray14.run()"
   ]
  },
  {
   "cell_type": "code",
   "execution_count": null,
   "metadata": {},
   "outputs": [],
   "source": [
    "experiment_guendel_chexpert_result =  experiment_guendel_chexpert.run()"
   ]
  },
  {
   "cell_type": "code",
   "execution_count": null,
   "metadata": {},
   "outputs": [],
   "source": [
    "experiment_guendel_chexpert.evaluate()"
   ]
  },
  {
   "cell_type": "code",
   "execution_count": null,
   "metadata": {},
   "outputs": [],
   "source": [
    "experiment_guendel_chexpert.save(upload=False)"
   ]
  },
  {
   "cell_type": "code",
   "execution_count": null,
   "metadata": {},
   "outputs": [],
   "source": [
    "print(\"done\")"
   ]
  },
  {
   "cell_type": "code",
   "execution_count": null,
   "metadata": {},
   "outputs": [],
   "source": [
    "CHEXPERT_BENCHMARKS[\"WBCE_E10_B32\"].as_dict()"
   ]
  },
  {
   "cell_type": "code",
   "execution_count": null,
   "metadata": {},
   "outputs": [],
   "source": []
  },
  {
   "cell_type": "code",
   "execution_count": null,
   "metadata": {},
   "outputs": [],
   "source": [
    "import numpy as np\n",
    "import tensorflow as tf\n",
    "from tensorflow.keras.losses import Loss\n",
    "from tensorflow.python.ops.losses import util as tf_losses_util\n",
    "from tensorflow.python.framework import tensor_util\n",
    "from tensorflow.python.framework import constant_op\n",
    "from tensorflow.python.ops import math_ops\n",
    "from tensorflow.python.ops import clip_ops\n",
    "from tensorflow.python.keras import backend_config"
   ]
  },
  {
   "cell_type": "code",
   "execution_count": null,
   "metadata": {},
   "outputs": [],
   "source": [
    "weights_pos = tf.ones((4)) * 20.0\n",
    "weights_neg = tf.ones((4)) * 0.5\n",
    "y_true = tf.constant([[0, -1, -1, 1], [-1, 0, -1, -1]], dtype=tf.float32)\n",
    "y_pred = tf.constant([[0.1, 0.2, 0.3, 0.4], [0.5, 0.6, 0.7, 0.8]])\n",
    "loss = tf.keras.losses.binary_crossentropy(y_true, y_pred)\n",
    "loss"
   ]
  },
  {
   "cell_type": "code",
   "execution_count": null,
   "metadata": {},
   "outputs": [],
   "source": [
    "y_true = tf.constant(y_true, dtype=tf.float32)\n",
    "y_true"
   ]
  },
  {
   "cell_type": "code",
   "execution_count": null,
   "metadata": {},
   "outputs": [],
   "source": [
    "y_pred = tf.constant(y_pred)\n",
    "y_pred"
   ]
  },
  {
   "cell_type": "code",
   "execution_count": null,
   "metadata": {},
   "outputs": [],
   "source": [
    "if tensor_util.is_tensor(y_pred) and tensor_util.is_tensor(y_true):\n",
    "    y_pred, y_true = tf_losses_util.squeeze_or_expand_dimensions(\n",
    "        y_pred, y_true)\n",
    "\n",
    "epsilon_ = constant_op.constant(\n",
    "     backend_config.epsilon(), dtype=y_pred.dtype.base_dtype)\n",
    "y_pred = clip_ops.clip_by_value(y_pred, epsilon_, 1. - epsilon_)"
   ]
  },
  {
   "cell_type": "code",
   "execution_count": null,
   "metadata": {},
   "outputs": [],
   "source": [
    "mask = tf.cast(tf.math.greater_equal(y_true, 0), tf.float32)\n",
    "\n",
    "# Compute cross entropy from probabilities.\n",
    "bce_pos = y_true * math_ops.log(y_pred + epsilon_)\n",
    "bce_neg = (1 - y_true) * math_ops.log(1 - y_pred + epsilon_)\n",
    "\n",
    "bce_pos = tf.math.multiply_no_nan(bce_pos, mask)\n",
    "bce_neg = tf.math.multiply_no_nan(bce_neg, mask)\n",
    "\n",
    "bce = bce_pos * weights_pos + \\\n",
    "    bce_neg * weights_neg\n",
    "\n",
    "loss = tf.reduce_sum(-bce) / tf.reduce_sum(mask)\n",
    "loss"
   ]
  },
  {
   "cell_type": "code",
   "execution_count": null,
   "metadata": {},
   "outputs": [],
   "source": [
    "tf.reduce_sum(mask)"
   ]
  },
  {
   "cell_type": "code",
   "execution_count": null,
   "metadata": {},
   "outputs": [],
   "source": []
  },
  {
   "cell_type": "code",
   "execution_count": null,
   "metadata": {},
   "outputs": [],
   "source": [
    "bce_neg"
   ]
  },
  {
   "cell_type": "code",
   "execution_count": null,
   "metadata": {},
   "outputs": [],
   "source": [
    "bce"
   ]
  },
  {
   "cell_type": "code",
   "execution_count": null,
   "metadata": {},
   "outputs": [],
   "source": [
    "\n",
    "from tensorflow.keras import backend as K\n"
   ]
  },
  {
   "cell_type": "code",
   "execution_count": null,
   "metadata": {},
   "outputs": [],
   "source": []
  },
  {
   "cell_type": "code",
   "execution_count": null,
   "metadata": {},
   "outputs": [],
   "source": []
  },
  {
   "cell_type": "code",
   "execution_count": null,
   "metadata": {},
   "outputs": [],
   "source": []
  },
  {
   "cell_type": "code",
   "execution_count": null,
   "metadata": {},
   "outputs": [],
   "source": []
  },
  {
   "cell_type": "code",
   "execution_count": null,
   "metadata": {},
   "outputs": [],
   "source": []
  },
  {
   "cell_type": "code",
   "execution_count": null,
   "metadata": {},
   "outputs": [],
   "source": []
  },
  {
   "cell_type": "code",
   "execution_count": null,
   "metadata": {},
   "outputs": [],
   "source": []
  },
  {
   "cell_type": "code",
   "execution_count": null,
   "metadata": {},
   "outputs": [],
   "source": []
  },
  {
   "cell_type": "code",
   "execution_count": null,
   "metadata": {},
   "outputs": [],
   "source": []
  },
  {
   "cell_type": "code",
   "execution_count": null,
   "metadata": {},
   "outputs": [],
   "source": []
  },
  {
   "cell_type": "code",
   "execution_count": null,
   "metadata": {},
   "outputs": [],
   "source": []
  },
  {
   "cell_type": "code",
   "execution_count": null,
   "metadata": {},
   "outputs": [],
   "source": []
  },
  {
   "cell_type": "code",
   "execution_count": null,
   "metadata": {},
   "outputs": [],
   "source": []
  },
  {
   "cell_type": "code",
   "execution_count": null,
   "metadata": {},
   "outputs": [],
   "source": []
  }
 ],
 "metadata": {
  "kernelspec": {
   "display_name": "Python 3",
   "language": "python",
   "name": "python3"
  },
  "language_info": {
   "codemirror_mode": {
    "name": "ipython",
    "version": 3
   },
   "file_extension": ".py",
   "mimetype": "text/x-python",
   "name": "python",
   "nbconvert_exporter": "python",
   "pygments_lexer": "ipython3",
   "version": "3.6.9"
  },
  "pycharm": {
   "stem_cell": {
    "cell_type": "raw",
    "metadata": {
     "collapsed": false
    },
    "source": []
   }
  }
 },
 "nbformat": 4,
 "nbformat_minor": 4
}
