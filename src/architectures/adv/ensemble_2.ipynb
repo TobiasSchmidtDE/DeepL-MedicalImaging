{
 "cells": [
  {
   "cell_type": "markdown",
   "metadata": {},
   "source": [
    "# Ensembling already trained models"
   ]
  },
  {
   "cell_type": "markdown",
   "metadata": {},
   "source": [
    "Setup & Config"
   ]
  },
  {
   "cell_type": "code",
   "execution_count": 1,
   "metadata": {},
   "outputs": [
    {
     "name": "stdout",
     "output_type": "stream",
     "text": [
      "Device mapping:\n",
      "/job:localhost/replica:0/task:0/device:XLA_CPU:0 -> device: XLA_CPU device\n",
      "/job:localhost/replica:0/task:0/device:XLA_GPU:0 -> device: XLA_GPU device\n",
      "/job:localhost/replica:0/task:0/device:GPU:0 -> device: 0, name: GeForce RTX 2080 Ti, pci bus id: 0000:03:00.0, compute capability: 7.5\n",
      "\n"
     ]
    }
   ],
   "source": [
    "import os \n",
    "import datetime\n",
    "from pathlib import Path\n",
    "from dotenv import load_dotenv, find_dotenv\n",
    "\n",
    "basepath = Path(os.getcwd())\n",
    "# make sure your working directory is the repository root.\n",
    "if basepath.name != \"idp-radio-1\":\n",
    "    os.chdir(basepath.parent.parent.parent)\n",
    "load_dotenv(find_dotenv())\n",
    "\n",
    "%load_ext autoreload\n",
    "%autoreload 2\n",
    "os.getcwd()\n",
    "\n",
    "import os \n",
    "import tensorflow as tf\n",
    "from pathlib import Path\n",
    "import cv2\n",
    "\n",
    "# Specify which GPU(s) to use\n",
    "os.environ[\"CUDA_VISIBLE_DEVICES\"] = \"0\"  # Or 2, 3, etc. other than 0\n",
    "\n",
    "config = tf.compat.v1.ConfigProto(device_count={'GPU': 1}, allow_soft_placement=True, log_device_placement=True)\n",
    "config.gpu_options.allow_growth = True\n",
    "config.gpu_options.per_process_gpu_memory_fraction = 1.0\n",
    "tf.compat.v1.Session(config=config)\n",
    "\n",
    "from tensorflow.keras.applications.inception_v3 import InceptionV3\n",
    "from tensorflow.keras.applications.densenet import DenseNet121\n",
    "from tensorflow.keras.applications.resnet_v2 import ResNet101V2\n",
    "from tensorflow.keras.applications.inception_resnet_v2 import InceptionResNetV2\n",
    "from src.architectures.simple.simple_base import SimpleBaseArchitecture\n",
    "from src.architectures.adv.guendel19 import densenet\n",
    "import numpy as np\n",
    "\n",
    "from src.architectures.benchmarks.benchmark import Benchmark, Experiment\n",
    "from tensorflow.keras.optimizers import Adam, SGD\n",
    "from src.architectures.benchmarks.benchmark_definitions import Chexpert_Benchmark, Chestxray14_Benchmark, simple_architecture_experiment, generate_benchmarks, METRICS, SINGLE_CLASS_METRICS, CHEXPERT_COLUMNS, CHESTXRAY14_COLUMNS\n",
    "from src.metrics.metrics import F2Score\n",
    "from src.metrics.losses import WeightedBinaryCrossentropy, BinaryCrossentropy, compute_class_weight"
   ]
  },
  {
   "cell_type": "markdown",
   "metadata": {},
   "source": [
    "Reinitialize benchmark that was used for training:"
   ]
  },
  {
   "cell_type": "code",
   "execution_count": 2,
   "metadata": {},
   "outputs": [
    {
     "name": "stdout",
     "output_type": "stream",
     "text": [
      "Initialzed custom_binary_crossentropy with epsilon 1e-05\n"
     ]
    }
   ],
   "source": [
    "columns_12 = ['Enlarged Cardiomediastinum',\n",
    "                    'Cardiomegaly',\n",
    "                    'Lung Opacity',\n",
    "                    'Lung Lesion',\n",
    "                    'Edema',\n",
    "                    'Consolidation',\n",
    "                    'Pneumonia',\n",
    "                    'Atelectasis',\n",
    "                    'Pneumothorax',\n",
    "                    'Pleural Effusion',\n",
    "                    'Pleural Other',\n",
    "                    'Fracture']\n",
    "\n",
    "uzeros = ['Cardiomegaly',\n",
    "        'Enlarged Cardiomediastinum',\n",
    "        'Lung Opacity',\n",
    "        'Lung Lesion',\n",
    "        'Consolidation',\n",
    "        'Pneumothorax',\n",
    "        'Pleural Effusion']\n",
    "uones = ['Edema',\n",
    "        'Atelectasis',\n",
    "        'Fracture',\n",
    "        'Pleural Other',\n",
    "        'Pneumonia',]\n",
    "\n",
    "upsample_factors = {\n",
    "    \"Enlarged Cardiomediastinum\": 1,\n",
    "    \"Lung Lesion\":1,\n",
    "    \"Pleural Other\":2,\n",
    "    \"Fracture\":2,\n",
    "}\n",
    "\n",
    "transformations_2 = {\"unsharp_mask\":{\"radius\":2, \"amount\":1}}\n",
    "\n",
    "benchmark_params = {\"path\":Path(os.environ.get(\"CHEXPERT_DATASET_DIRECTORY\")),\n",
    "                                             \"name\":\"2_Chexpert_CWBCE_L1Normed_E5_B32_C0_N12_AugAffine_sharp21_U75_D256_DS9505_1LR4_LF1_Adam_Upsampled\",\n",
    "                                             \"classes\":columns_12,\n",
    "                                             \"train_labels\" : \"train.csv\",\n",
    "                                             \"test_labels\" : \"test.csv\",\n",
    "                                             \"nan_replacement\" : 0, #float(\"NaN\"),\n",
    "                                             \"u_enc\" : [uzeros, uones],\n",
    "                                             \"epochs\":5,\n",
    "                                             \"batch_size\":32,\n",
    "                                             \"crop\" : False,\n",
    "                                             \"dim\":(256, 256),\n",
    "                                             \"loss\" : BinaryCrossentropy(),\n",
    "                                             \"use_class_weights\" : False,\n",
    "                                             \"upsample_factors\" : upsample_factors,\n",
    "                                             \"metrics\":METRICS,\n",
    "                                             \"single_class_metrics\":SINGLE_CLASS_METRICS,\n",
    "                                             \"optimizer\" : Adam(learning_rate=1e-4, clipnorm=1),\n",
    "                                             \"lr_factor\" : 0.1,\n",
    "                                             \"augmentation\" : \"affine\",\n",
    "                                             \"transformations\" : transformations_2,\n",
    "                                             \"split_seed\" : 6122156,\n",
    "                                             \"split_valid_size\" : 0.05}"
   ]
  },
  {
   "cell_type": "markdown",
   "metadata": {},
   "source": [
    "Specify which models you want to ensemble:"
   ]
  },
  {
   "cell_type": "code",
   "execution_count": 3,
   "metadata": {},
   "outputs": [],
   "source": [
    "import tensorflow\n",
    "from tensorflow.keras.applications.densenet import DenseNet169, DenseNet121\n",
    "from tensorflow.keras.applications.xception import Xception\n",
    "from tensorflow.keras.applications.inception_resnet_v2 import InceptionResNetV2\n",
    "\n",
    "ensemble = [[DenseNet169, tensorflow.keras.applications.densenet.preprocess_input, 'models/DenseNet169_Chexpert_BCE_NoNorm_E5_B32_C0_N12_AugAffine_sharp21_U75_D256_DS9505_1LR4_LF1_Adam_Upsampled/weights.05-0.21.hdf5'],\n",
    " [DenseNet121, tensorflow.keras.applications.densenet.preprocess_input, 'models/DenseNet121_Chexpert_BCE_NoNorm_E5_B32_C0_N12_AugAffine_sharp21_U75_D256_DS9505_1LR4_LF1_Adam_Upsampled/weights.05-0.21.hdf5'],\n",
    " [Xception, tensorflow.keras.applications.xception.preprocess_input, 'models/Xception-2_Chexpert_BCE_NoNorm_E5_B32_C0_N12_AugAffine_sharp21_U75_D256_DS9505_1LR4_LF1_Adam_Upsampled/weights.05-0.21.hdf5'],\n",
    " [InceptionResNetV2, tensorflow.keras.applications.inception_resnet_v2.preprocess_input, 'models/InceptionResNetV2_Chexpert_BCE_NoNorm_E5_B32_C0_N12_AugAffine_sharp21_U75_D256_DS9505_1LR4_LF1_Adam_Upsampled/weights.05-0.21.hdf5']]"
   ]
  },
  {
   "cell_type": "code",
   "execution_count": 4,
   "metadata": {},
   "outputs": [],
   "source": [
    "predictions = []"
   ]
  },
  {
   "cell_type": "markdown",
   "metadata": {},
   "source": [
    "Next, we ensemble the model and make the predictions."
   ]
  },
  {
   "cell_type": "code",
   "execution_count": 11,
   "metadata": {},
   "outputs": [
    {
     "name": "stdout",
     "output_type": "stream",
     "text": [
      "False\n"
     ]
    }
   ],
   "source": [
    "member = ensemble[3]\n",
    "benchmark_params['preprocess_input_fn'] = member[1]\n",
    "bce_benchmark = Chexpert_Benchmark (**benchmark_params)\n",
    "bce_benchmark.loss = WeightedBinaryCrossentropy(bce_benchmark.positive_weights,\n",
    "                                                    bce_benchmark.negative_weights)\n",
    "\n",
    "bce_chexpert_exp = simple_architecture_experiment(bce_benchmark, member[0], bce_benchmark.label_columns)\n",
    "bce_chexpert_exp.benchmark.testgen.shuffle = False\n",
    "print(bce_chexpert_exp.benchmark.testgen.shuffle)\n",
    "\n",
    "bce_chexpert_exp = Experiment(bce_benchmark, bce_chexpert_exp.model)\n",
    "bce_chexpert_exp.model.load_weights(member[2])\n",
    "predictions.append(bce_chexpert_exp.model.predict(bce_chexpert_exp.benchmark.testgen))\n",
    "    "
   ]
  },
  {
   "cell_type": "code",
   "execution_count": 12,
   "metadata": {},
   "outputs": [
    {
     "name": "stdout",
     "output_type": "stream",
     "text": [
      "4\n"
     ]
    }
   ],
   "source": [
    "print(len(predictions))"
   ]
  },
  {
   "cell_type": "markdown",
   "metadata": {},
   "source": [
    "We take the average over all predictions and evaluate them with the known metrics:"
   ]
  },
  {
   "cell_type": "code",
   "execution_count": 13,
   "metadata": {},
   "outputs": [
    {
     "name": "stdout",
     "output_type": "stream",
     "text": [
      "Enlarged Cardiomediastinum 0.39922935\n",
      "Cardiomegaly 0.6671687\n",
      "Lung Opacity 0.90432096\n",
      "Lung Lesion 0.31545064\n",
      "Edema 0.9021164\n",
      "Consolidation 0.93057436\n",
      "Pneumonia 0.80503315\n",
      "Atelectasis 0.8431818\n",
      "Pneumothorax 0.7859514\n",
      "Pleural Effusion 0.9248816\n",
      "Pleural Other 0.80686694\n",
      "Fracture 0.0\n",
      "Average AUC:  0.6658534\n",
      "skelarn report:                              precision    recall  f1-score   support\n",
      "\n",
      "Enlarged Cardiomediastinum       1.00      0.01      0.02       109\n",
      "              Cardiomegaly       0.00      0.00      0.00        68\n",
      "              Lung Opacity       0.00      0.00      0.00       126\n",
      "               Lung Lesion       0.00      0.00      0.00         1\n",
      "                     Edema       0.73      0.53      0.62        45\n",
      "             Consolidation       0.00      0.00      0.00        33\n",
      "                 Pneumonia       0.50      0.12      0.20         8\n",
      "               Atelectasis       0.00      0.00      0.00        80\n",
      "              Pneumothorax       0.25      0.38      0.30         8\n",
      "          Pleural Effusion       1.00      0.04      0.09        67\n",
      "             Pleural Other       0.00      0.00      0.00         1\n",
      "                  Fracture       0.00      0.00      0.00         0\n",
      "\n",
      "                 micro avg       0.57      0.06      0.11       546\n",
      "                 macro avg       0.29      0.09      0.10       546\n",
      "              weighted avg       0.39      0.06      0.07       546\n",
      "               samples avg       0.13      0.04      0.06       546\n",
      "\n"
     ]
    },
    {
     "name": "stderr",
     "output_type": "stream",
     "text": [
      "/usr/local/lib/python3.6/dist-packages/sklearn/metrics/_classification.py:1221: UndefinedMetricWarning: Precision and F-score are ill-defined and being set to 0.0 in labels with no predicted samples. Use `zero_division` parameter to control this behavior.\n",
      "  _warn_prf(average, modifier, msg_start, len(result))\n",
      "/usr/local/lib/python3.6/dist-packages/sklearn/metrics/_classification.py:1221: UndefinedMetricWarning: Recall and F-score are ill-defined and being set to 0.0 in labels with no true samples. Use `zero_division` parameter to control this behavior.\n",
      "  _warn_prf(average, modifier, msg_start, len(result))\n",
      "/usr/local/lib/python3.6/dist-packages/sklearn/metrics/_classification.py:1221: UndefinedMetricWarning: Precision and F-score are ill-defined and being set to 0.0 in samples with no predicted labels. Use `zero_division` parameter to control this behavior.\n",
      "  _warn_prf(average, modifier, msg_start, len(result))\n",
      "/usr/local/lib/python3.6/dist-packages/sklearn/metrics/_classification.py:1221: UndefinedMetricWarning: Recall and F-score are ill-defined and being set to 0.0 in samples with no true labels. Use `zero_division` parameter to control this behavior.\n",
      "  _warn_prf(average, modifier, msg_start, len(result))\n"
     ]
    }
   ],
   "source": [
    "from sklearn.metrics import classification_report\n",
    "\n",
    "y_pred = tf.math.reduce_mean(predictions, axis=0)\n",
    "predictions_bool = (y_pred >= 0.5)\n",
    "groundtruth_label = bce_chexpert_exp.benchmark.testgen.get_labels_nonan()\n",
    "\n",
    "for key, value in enumerate(columns_12):\n",
    "    pr = []\n",
    "    for sample in y_pred:\n",
    "        pr.append(sample[key])\n",
    "    m = tf.keras.metrics.AUC()\n",
    "    m.update_state(groundtruth_label[:, key], pr)\n",
    "    print(value, m.result().numpy())\n",
    "    \n",
    "m = tf.keras.metrics.AUC()\n",
    "m.update_state(groundtruth_label, y_pred)\n",
    "print(\"Average AUC: \", m.result().numpy())\n",
    "\n",
    "predictions_bool = np.array(predictions_bool, dtype=int)\n",
    "groundtruth_label = bce_chexpert_exp.benchmark.testgen.get_labels_nonan()\n",
    "report = classification_report(groundtruth_label, predictions_bool, target_names=bce_chexpert_exp.benchmark.label_columns)\n",
    "print('skelarn report: ', report)"
   ]
  }
 ],
 "metadata": {
  "kernelspec": {
   "display_name": "Python 3",
   "language": "python",
   "name": "python3"
  },
  "language_info": {
   "codemirror_mode": {
    "name": "ipython",
    "version": 3
   },
   "file_extension": ".py",
   "mimetype": "text/x-python",
   "name": "python",
   "nbconvert_exporter": "python",
   "pygments_lexer": "ipython3",
   "version": "3.6.9"
  }
 },
 "nbformat": 4,
 "nbformat_minor": 4
}
