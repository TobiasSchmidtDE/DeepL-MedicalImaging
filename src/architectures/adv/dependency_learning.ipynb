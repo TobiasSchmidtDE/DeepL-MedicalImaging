{
 "cells": [
  {
   "cell_type": "code",
   "execution_count": 6,
   "metadata": {},
   "outputs": [
    {
     "name": "stdout",
     "output_type": "stream",
     "text": [
      "The autoreload extension is already loaded. To reload it, use:\n",
      "  %reload_ext autoreload\n"
     ]
    },
    {
     "data": {
      "text/plain": [
       "'/srv/idp-radio-1'"
      ]
     },
     "execution_count": 6,
     "metadata": {},
     "output_type": "execute_result"
    }
   ],
   "source": [
    "import os \n",
    "import datetime\n",
    "from pathlib import Path\n",
    "from dotenv import load_dotenv, find_dotenv\n",
    "\n",
    "basepath = Path(os.getcwd())\n",
    "# make sure your working directory is the repository root.\n",
    "if basepath.name != \"idp-radio-1\":\n",
    "    os.chdir(basepath.parent.parent.parent)\n",
    "load_dotenv(find_dotenv())\n",
    "\n",
    "%load_ext autoreload\n",
    "%autoreload 2\n",
    "os.getcwd()"
   ]
  },
  {
   "cell_type": "code",
   "execution_count": 7,
   "metadata": {},
   "outputs": [
    {
     "name": "stdout",
     "output_type": "stream",
     "text": [
      "Device mapping:\n",
      "/job:localhost/replica:0/task:0/device:XLA_CPU:0 -> device: XLA_CPU device\n",
      "/job:localhost/replica:0/task:0/device:XLA_GPU:0 -> device: XLA_GPU device\n",
      "/job:localhost/replica:0/task:0/device:GPU:0 -> device: 0, name: GeForce RTX 2080 Ti, pci bus id: 0000:42:00.0, compute capability: 7.5\n",
      "\n"
     ]
    }
   ],
   "source": [
    "import os \n",
    "import tensorflow as tf\n",
    "from pathlib import Path\n",
    "\n",
    "# Run this before loading other dependencies, otherwise they might occupy memory on gpu 0 by default and it will stay that way\n",
    "\n",
    "# Specify which GPU(s) to use\n",
    "os.environ[\"CUDA_VISIBLE_DEVICES\"] = \"1\"  # Or 2, 3, etc. other than 0\n",
    "\n",
    "config = tf.compat.v1.ConfigProto(allow_soft_placement=True, log_device_placement=True)\n",
    "config.gpu_options.allow_growth = True\n",
    "tf.compat.v1.Session(config=config)\n",
    "\n",
    "from tensorflow.keras.applications.inception_v3 import InceptionV3\n",
    "from tensorflow.keras.applications.densenet import DenseNet121\n",
    "from tensorflow.keras.applications.resnet_v2 import ResNet101V2\n",
    "from src.architectures.simple.simple_base import SimpleBaseArchitecture\n",
    "from src.architectures.adv.guendel19 import densenet\n",
    "\n",
    "from src.architectures.benchmarks.benchmark import Benchmark, Experiment\n",
    "from tensorflow.keras.optimizers import Adam\n",
    "from src.architectures.benchmarks.benchmark_definitions import Chexpert_Benchmark, Chestxray14_Benchmark, simple_architecture_experiment, generate_benchmarks, METRICS, CHEXPERT_COLUMNS, CHESTXRAY14_COLUMNS\n",
    "from src.metrics.metrics import F2Score\n",
    "from src.metrics.losses import WeightedBinaryCrossentropy, compute_class_weight"
   ]
  },
  {
   "cell_type": "code",
   "execution_count": 8,
   "metadata": {},
   "outputs": [
    {
     "name": "stdout",
     "output_type": "stream",
     "text": [
      "Chestxray_BCE_E5_B32_C1_N5 could not be created\n",
      "Chestxray_WBCE_E5_B32_C1_N5 could not be created\n",
      "Chestxray_CWBCE_E5_B32_C1_N5 could not be created\n"
     ]
    }
   ],
   "source": [
    "relevant_columns = ['Edema', 'Atelectasis', 'Pneumonia', 'Lung Opacity', 'Consolidation']\n",
    "chexpert_benchmarks, _ = generate_benchmarks(path = Path(os.environ.get(\"CHEXPERT_FULL_PREPROCESSED_DATASET_DIRECTORY\")),\n",
    "                                                 classes=relevant_columns,\n",
    "                                                 train_labels = \"filtered_dependencies.csv\",\n",
    "                                                 batch_sizes = {\"b\": 32},\n",
    "                                                 epoch_sizes = {\"e\": 5},\n",
    "                                                 crop = {\"C1\": False},\n",
    "                                                 split_seed = 6122156, )"
   ]
  },
  {
   "cell_type": "code",
   "execution_count": 9,
   "metadata": {},
   "outputs": [
    {
     "data": {
      "text/plain": [
       "dict_keys(['BCE_E5_B32_C1_N5', 'WBCE_E5_B32_C1_N5', 'CWBCE_E5_B32_C1_N5'])"
      ]
     },
     "execution_count": 9,
     "metadata": {},
     "output_type": "execute_result"
    }
   ],
   "source": [
    "chexpert_benchmarks.keys()"
   ]
  },
  {
   "cell_type": "code",
   "execution_count": 10,
   "metadata": {},
   "outputs": [],
   "source": [
    "densenet_model = simple_architecture_experiment(chexpert_benchmarks[\"BCE_E5_B32_C1_N5\"], DenseNet121, relevant_columns)"
   ]
  },
  {
   "cell_type": "code",
   "execution_count": 11,
   "metadata": {},
   "outputs": [
    {
     "name": "stdout",
     "output_type": "stream",
     "text": [
      "Epoch 1/5\n",
      "   1/1911 [..............................] - ETA: 0s - loss: 0.8480 - auc: 0.5437 - precision: 0.4123 - recall: 0.7833 - f2_score: 0.6638 - binary_accuracy: 0.5000 - learning rate: 0.0010WARNING:tensorflow:From /usr/local/lib/python3.6/dist-packages/tensorflow/python/ops/summary_ops_v2.py:1277: stop (from tensorflow.python.eager.profiler) is deprecated and will be removed after 2020-07-01.\n",
      "Instructions for updating:\n",
      "use `tf.profiler.experimental.stop` instead.\n"
     ]
    },
    {
     "name": "stderr",
     "output_type": "stream",
     "text": [
      "WARNING:tensorflow:From /usr/local/lib/python3.6/dist-packages/tensorflow/python/ops/summary_ops_v2.py:1277: stop (from tensorflow.python.eager.profiler) is deprecated and will be removed after 2020-07-01.\n",
      "Instructions for updating:\n",
      "use `tf.profiler.experimental.stop` instead.\n"
     ]
    },
    {
     "name": "stdout",
     "output_type": "stream",
     "text": [
      "   2/1911 [..............................] - ETA: 5:37 - loss: 0.6302 - auc: 0.5967 - precision: 0.5203 - recall: 0.7264 - f2_score: 0.6731 - binary_accuracy: 0.6875 - learning rate: 0.0010WARNING:tensorflow:Callbacks method `on_train_batch_end` is slow compared to the batch time (batch time: 0.1034s vs `on_train_batch_end` time: 0.2477s). Check your callbacks.\n"
     ]
    },
    {
     "name": "stderr",
     "output_type": "stream",
     "text": [
      "WARNING:tensorflow:Callbacks method `on_train_batch_end` is slow compared to the batch time (batch time: 0.1034s vs `on_train_batch_end` time: 0.2477s). Check your callbacks.\n"
     ]
    },
    {
     "name": "stdout",
     "output_type": "stream",
     "text": [
      "1911/1911 [==============================] - ETA: 0s - loss: 0.3687 - auc: 0.5788 - precision: 0.8792 - recall: 0.6338 - f2_score: 0.6713 - binary_accuracy: 0.8625 - learning rate: 0.0010INFO:tensorflow:Summary name epoch_learning rate is illegal; using epoch_learning_rate instead.\n"
     ]
    },
    {
     "name": "stderr",
     "output_type": "stream",
     "text": [
      "INFO:tensorflow:Summary name epoch_learning rate is illegal; using epoch_learning_rate instead.\n"
     ]
    },
    {
     "name": "stdout",
     "output_type": "stream",
     "text": [
      "\n",
      "Epoch 00001: val_loss improved from inf to 0.37172, saving model to models/DenseNet121_Chexpert_BCE_E5_B32_C1_N5/weights.01-0.37.hdf5\n",
      "1911/1911 [==============================] - 372s 194ms/step - loss: 0.3687 - auc: 0.5788 - precision: 0.8792 - recall: 0.6338 - f2_score: 0.6713 - binary_accuracy: 0.8625 - learning rate: 0.0010 - val_loss: 0.3717 - val_auc: 0.5972 - val_precision: 0.8664 - val_recall: 0.6533 - val_f2_score: 0.6871 - val_binary_accuracy: 0.8658\n",
      "Epoch 2/5\n",
      "1911/1911 [==============================] - ETA: 0s - loss: 0.3595 - auc: 0.6131 - precision: 0.8743 - recall: 0.6492 - f2_score: 0.6844 - binary_accuracy: 0.8653 - learning rate: 0.0010INFO:tensorflow:Summary name epoch_learning rate is illegal; using epoch_learning_rate instead.\n"
     ]
    },
    {
     "name": "stderr",
     "output_type": "stream",
     "text": [
      "INFO:tensorflow:Summary name epoch_learning rate is illegal; using epoch_learning_rate instead.\n"
     ]
    },
    {
     "name": "stdout",
     "output_type": "stream",
     "text": [
      "\n",
      "Epoch 00002: val_loss did not improve from 0.37172\n",
      "1911/1911 [==============================] - 371s 194ms/step - loss: 0.3595 - auc: 0.6131 - precision: 0.8743 - recall: 0.6492 - f2_score: 0.6844 - binary_accuracy: 0.8653 - learning rate: 0.0010 - val_loss: 0.6649 - val_auc: 0.5180 - val_precision: 0.9109 - val_recall: 0.6075 - val_f2_score: 0.6509 - val_binary_accuracy: 0.8645\n",
      "Epoch 3/5\n",
      "1911/1911 [==============================] - ETA: 0s - loss: 0.3564 - auc: 0.6291 - precision: 0.8731 - recall: 0.6544 - f2_score: 0.6889 - binary_accuracy: 0.8664 - learning rate: 0.0010INFO:tensorflow:Summary name epoch_learning rate is illegal; using epoch_learning_rate instead.\n"
     ]
    },
    {
     "name": "stderr",
     "output_type": "stream",
     "text": [
      "INFO:tensorflow:Summary name epoch_learning rate is illegal; using epoch_learning_rate instead.\n"
     ]
    },
    {
     "name": "stdout",
     "output_type": "stream",
     "text": [
      "\n",
      "Epoch 00003: val_loss improved from 0.37172 to 0.36225, saving model to models/DenseNet121_Chexpert_BCE_E5_B32_C1_N5/weights.03-0.36.hdf5\n",
      "1911/1911 [==============================] - 372s 195ms/step - loss: 0.3564 - auc: 0.6291 - precision: 0.8731 - recall: 0.6544 - f2_score: 0.6889 - binary_accuracy: 0.8664 - learning rate: 0.0010 - val_loss: 0.3623 - val_auc: 0.6213 - val_precision: 0.8581 - val_recall: 0.6600 - val_f2_score: 0.6919 - val_binary_accuracy: 0.8653\n",
      "Epoch 4/5\n",
      "1911/1911 [==============================] - ETA: 0s - loss: 0.3534 - auc: 0.6448 - precision: 0.8722 - recall: 0.6587 - f2_score: 0.6926 - binary_accuracy: 0.8673 - learning rate: 0.0010INFO:tensorflow:Summary name epoch_learning rate is illegal; using epoch_learning_rate instead.\n"
     ]
    },
    {
     "name": "stderr",
     "output_type": "stream",
     "text": [
      "INFO:tensorflow:Summary name epoch_learning rate is illegal; using epoch_learning_rate instead.\n"
     ]
    },
    {
     "name": "stdout",
     "output_type": "stream",
     "text": [
      "\n",
      "Epoch 00004: val_loss improved from 0.36225 to 0.35518, saving model to models/DenseNet121_Chexpert_BCE_E5_B32_C1_N5/weights.04-0.36.hdf5\n",
      "1911/1911 [==============================] - 372s 194ms/step - loss: 0.3534 - auc: 0.6448 - precision: 0.8722 - recall: 0.6587 - f2_score: 0.6926 - binary_accuracy: 0.8673 - learning rate: 0.0010 - val_loss: 0.3552 - val_auc: 0.6450 - val_precision: 0.8386 - val_recall: 0.6818 - val_f2_score: 0.7083 - val_binary_accuracy: 0.8652\n",
      "Epoch 5/5\n",
      "1911/1911 [==============================] - ETA: 0s - loss: 0.3509 - auc: 0.6583 - precision: 0.8713 - recall: 0.6618 - f2_score: 0.6953 - binary_accuracy: 0.8678 - learning rate: 0.0010INFO:tensorflow:Summary name epoch_learning rate is illegal; using epoch_learning_rate instead.\n"
     ]
    },
    {
     "name": "stderr",
     "output_type": "stream",
     "text": [
      "INFO:tensorflow:Summary name epoch_learning rate is illegal; using epoch_learning_rate instead.\n"
     ]
    },
    {
     "name": "stdout",
     "output_type": "stream",
     "text": [
      "\n",
      "Epoch 00005: val_loss did not improve from 0.35518\n",
      "1911/1911 [==============================] - 371s 194ms/step - loss: 0.3509 - auc: 0.6583 - precision: 0.8713 - recall: 0.6618 - f2_score: 0.6953 - binary_accuracy: 0.8678 - learning rate: 0.0010 - val_loss: 0.3726 - val_auc: 0.6241 - val_precision: 0.8892 - val_recall: 0.6299 - val_f2_score: 0.6689 - val_binary_accuracy: 0.8654\n",
      "19047/19047 [==============================] - 237s 12ms/step\n",
      "    7/19047 [..............................] - ETA: 4:49 - loss: 0.6655 - auc: 0.7283 - precision: 0.8571 - recall: 0.4000 - f2_score: 0.4478 - binary_accuracy: 0.7143  "
     ]
    },
    {
     "name": "stderr",
     "output_type": "stream",
     "text": [
      "/usr/local/lib/python3.6/dist-packages/sklearn/metrics/_classification.py:1221: UndefinedMetricWarning: Precision and F-score are ill-defined and being set to 0.0 in labels with no predicted samples. Use `zero_division` parameter to control this behavior.\n",
      "  _warn_prf(average, modifier, msg_start, len(result))\n"
     ]
    },
    {
     "name": "stdout",
     "output_type": "stream",
     "text": [
      "19047/19047 [==============================] - 310s 16ms/step - loss: 0.3696 - auc: 0.6292 - precision: 0.8973 - recall: 0.6274 - f2_score: 0.6676 - binary_accuracy: 0.8652\n",
      "WARNING: /srv/idp-radio-1/logs/unvalidated-experiment-log.json could not be read as json and will be overwritten\n",
      "Expecting value: line 3587 column 5 (char 159439)\n"
     ]
    },
    {
     "data": {
      "text/plain": [
       "(<tensorflow.python.keras.callbacks.History at 0x7f7d44934a20>,\n",
       " {'report': '               precision    recall  f1-score   support\\n\\n        Edema       0.26      0.06      0.09      5201\\n  Atelectasis       0.00      0.00      0.00      2747\\n    Pneumonia       0.00      0.00      0.00       788\\n Lung Opacity       0.91      1.00      0.96     17423\\nConsolidation       0.00      0.00      0.00      2717\\n\\n    micro avg       0.88      0.61      0.72     28876\\n    macro avg       0.23      0.21      0.21     28876\\n weighted avg       0.60      0.61      0.59     28876\\n  samples avg       0.90      0.70      0.76     28876\\n',\n",
       "  'metrics': {'loss': 0.36962762475013733,\n",
       "   'auc': 0.6292253732681274,\n",
       "   'precision': 0.8973305225372314,\n",
       "   'recall': 0.6274414658546448,\n",
       "   'f2_score': 0.6676000952720642,\n",
       "   'binary_accuracy': 0.8652127385139465},\n",
       "  'predictions': array([[0.67398286, 0.08370108, 0.00317831, 0.9694378 , 0.06858346],\n",
       "         [0.41786012, 0.13407132, 0.0110496 , 0.9586835 , 0.0845938 ],\n",
       "         [0.10810212, 0.18018301, 0.01227207, 0.95761675, 0.08054769],\n",
       "         ...,\n",
       "         [0.06150562, 0.14488544, 0.02089222, 0.9902137 , 0.02745954],\n",
       "         [0.3277487 , 0.16370887, 0.01441719, 0.94309103, 0.10464888],\n",
       "         [0.50516766, 0.11184298, 0.01174498, 0.9125155 , 0.1612559 ]],\n",
       "        dtype=float32),\n",
       "  'groundtruth_label': array([[0., 0., 0., 1., 0.],\n",
       "         [0., 1., 0., 1., 0.],\n",
       "         [1., 0., 0., 1., 0.],\n",
       "         ...,\n",
       "         [0., 0., 0., 1., 0.],\n",
       "         [1., 0., 0., 1., 0.],\n",
       "         [0., 0., 0., 1., 0.]], dtype=float32)},\n",
       " '2e6bcee6-cb44-11ea-b1f6-0242ac110007')"
      ]
     },
     "execution_count": 11,
     "metadata": {},
     "output_type": "execute_result"
    }
   ],
   "source": [
    "densenet_model.run()"
   ]
  },
  {
   "cell_type": "code",
   "execution_count": 12,
   "metadata": {},
   "outputs": [],
   "source": [
    "from src.metrics.metrics import F2Score\n",
    "\n",
    "dependencies = {\n",
    "    'F2Score': F2Score\n",
    "}\n",
    "pretrained_model = tf.keras.models.load_model('models/DenseNet121_Chexpert_BCE_E5_B32_C1_N5/DenseNet121_Chexpert_BCE_E5_B32_C1_N5_20200721-112028.h5', custom_objects=dependencies)"
   ]
  },
  {
   "cell_type": "code",
   "execution_count": null,
   "metadata": {},
   "outputs": [],
   "source": [
    "# freeze all layers except last one\n",
    "for layer in pretrained_model.layers[:429]:\n",
    "    layer.trainable = False\n",
    "for layer in pretrained_model.layers:\n",
    "    print(layer, layer.trainable)"
   ]
  },
  {
   "cell_type": "code",
   "execution_count": 16,
   "metadata": {},
   "outputs": [
    {
     "name": "stdout",
     "output_type": "stream",
     "text": [
      "Chestxray_BCE_E5_B32_C1_N5 could not be created\n",
      "Chestxray_WBCE_E5_B32_C1_N5 could not be created\n",
      "Chestxray_CWBCE_E5_B32_C1_N5 could not be created\n"
     ]
    }
   ],
   "source": [
    "unfiltered_chexpert_benchmarks, _ = generate_benchmarks(path = Path(os.environ.get(\"CHEXPERT_FULL_PREPROCESSED_DATASET_DIRECTORY\")),\n",
    "                                                 classes=relevant_columns,\n",
    "                                                 # train_labels = \"filtered_dependencies.csv\",\n",
    "                                                 batch_sizes = {\"b\": 32},\n",
    "                                                 epoch_sizes = {\"e\": 5},\n",
    "                                                 crop = {\"C1\": False},\n",
    "                                                 split_seed = 6122156, )\n",
    "experiment = Experiment(unfiltered_chexpert_benchmarks[\"BCE_E5_B32_C1_N5\"], pretrained_model, model_name='pretrained_DN_dependency')"
   ]
  },
  {
   "cell_type": "code",
   "execution_count": 17,
   "metadata": {},
   "outputs": [
    {
     "name": "stdout",
     "output_type": "stream",
     "text": [
      "Epoch 1/5\n",
      "   2/4447 [..............................] - ETA: 35:02 - loss: 0.6886 - auc: 0.6288 - precision: 0.8958 - recall: 0.6271 - f2_score: 0.6671 - binary_accuracy: 0.8649 - learning rate: 0.0010WARNING:tensorflow:Callbacks method `on_train_batch_end` is slow compared to the batch time (batch time: 0.0545s vs `on_train_batch_end` time: 0.8909s). Check your callbacks.\n"
     ]
    },
    {
     "name": "stderr",
     "output_type": "stream",
     "text": [
      "WARNING:tensorflow:Callbacks method `on_train_batch_end` is slow compared to the batch time (batch time: 0.0545s vs `on_train_batch_end` time: 0.8909s). Check your callbacks.\n"
     ]
    },
    {
     "name": "stdout",
     "output_type": "stream",
     "text": [
      "4447/4447 [==============================] - ETA: 0s - loss: 0.3729 - auc: 0.6717 - precision: 0.6440 - recall: 0.4163 - f2_score: 0.4480 - binary_accuracy: 0.8349 - learning rate: 0.0010INFO:tensorflow:Summary name epoch_learning rate is illegal; using epoch_learning_rate instead.\n"
     ]
    },
    {
     "name": "stderr",
     "output_type": "stream",
     "text": [
      "INFO:tensorflow:Summary name epoch_learning rate is illegal; using epoch_learning_rate instead.\n"
     ]
    },
    {
     "name": "stdout",
     "output_type": "stream",
     "text": [
      "\n",
      "Epoch 00001: val_loss improved from inf to 0.37113, saving model to models/pretrained_DN_dependency/weights.01-0.37.hdf5\n",
      "4447/4447 [==============================] - 271s 61ms/step - loss: 0.3729 - auc: 0.6717 - precision: 0.6440 - recall: 0.4163 - f2_score: 0.4480 - binary_accuracy: 0.8349 - learning rate: 0.0010 - val_loss: 0.3711 - val_auc: 0.6705 - val_precision: 0.5888 - val_recall: 0.3817 - val_f2_score: 0.4106 - val_binary_accuracy: 0.8325\n",
      "Epoch 2/5\n",
      "4447/4447 [==============================] - ETA: 0s - loss: 0.3700 - auc: 0.6725 - precision: 0.5911 - recall: 0.3737 - f2_score: 0.4034 - binary_accuracy: 0.8324 - learning rate: 0.0010INFO:tensorflow:Summary name epoch_learning rate is illegal; using epoch_learning_rate instead.\n"
     ]
    },
    {
     "name": "stderr",
     "output_type": "stream",
     "text": [
      "INFO:tensorflow:Summary name epoch_learning rate is illegal; using epoch_learning_rate instead.\n"
     ]
    },
    {
     "name": "stdout",
     "output_type": "stream",
     "text": [
      "\n",
      "Epoch 00002: val_loss improved from 0.37113 to 0.37018, saving model to models/pretrained_DN_dependency/weights.02-0.37.hdf5\n",
      "4447/4447 [==============================] - 270s 61ms/step - loss: 0.3700 - auc: 0.6725 - precision: 0.5911 - recall: 0.3737 - f2_score: 0.4034 - binary_accuracy: 0.8324 - learning rate: 0.0010 - val_loss: 0.3702 - val_auc: 0.6712 - val_precision: 0.6038 - val_recall: 0.3415 - val_f2_score: 0.3740 - val_binary_accuracy: 0.8329\n",
      "Epoch 3/5\n",
      "4447/4447 [==============================] - ETA: 0s - loss: 0.3697 - auc: 0.6740 - precision: 0.5921 - recall: 0.3738 - f2_score: 0.4035 - binary_accuracy: 0.8326 - learning rate: 0.0010INFO:tensorflow:Summary name epoch_learning rate is illegal; using epoch_learning_rate instead.\n"
     ]
    },
    {
     "name": "stderr",
     "output_type": "stream",
     "text": [
      "INFO:tensorflow:Summary name epoch_learning rate is illegal; using epoch_learning_rate instead.\n"
     ]
    },
    {
     "name": "stdout",
     "output_type": "stream",
     "text": [
      "\n",
      "Epoch 00003: val_loss improved from 0.37018 to 0.36917, saving model to models/pretrained_DN_dependency/weights.03-0.37.hdf5\n",
      "4447/4447 [==============================] - 270s 61ms/step - loss: 0.3697 - auc: 0.6740 - precision: 0.5921 - recall: 0.3738 - f2_score: 0.4035 - binary_accuracy: 0.8326 - learning rate: 0.0010 - val_loss: 0.3692 - val_auc: 0.6738 - val_precision: 0.5912 - val_recall: 0.3966 - val_f2_score: 0.4246 - val_binary_accuracy: 0.8339\n",
      "Epoch 4/5\n",
      "4446/4447 [============================>.] - ETA: 0s - loss: 0.3696 - auc: 0.6751 - precision: 0.5935 - recall: 0.3732 - f2_score: 0.4032 - binary_accuracy: 0.8328 - learning rate: 0.0010INFO:tensorflow:Summary name epoch_learning rate is illegal; using epoch_learning_rate instead.\n"
     ]
    },
    {
     "name": "stderr",
     "output_type": "stream",
     "text": [
      "INFO:tensorflow:Summary name epoch_learning rate is illegal; using epoch_learning_rate instead.\n"
     ]
    },
    {
     "name": "stdout",
     "output_type": "stream",
     "text": [
      "\n",
      "Epoch 00004: val_loss did not improve from 0.36917\n",
      "4447/4447 [==============================] - 269s 61ms/step - loss: 0.3695 - auc: 0.6751 - precision: 0.5934 - recall: 0.3732 - f2_score: 0.4032 - binary_accuracy: 0.8328 - learning rate: 0.0010 - val_loss: 0.3692 - val_auc: 0.6735 - val_precision: 0.5906 - val_recall: 0.3933 - val_f2_score: 0.4215 - val_binary_accuracy: 0.8336\n",
      "Epoch 5/5\n",
      "4447/4447 [==============================] - ETA: 0s - loss: 0.3695 - auc: 0.6756 - precision: 0.5938 - recall: 0.3735 - f2_score: 0.4034 - binary_accuracy: 0.8329 - learning rate: 0.0010INFO:tensorflow:Summary name epoch_learning rate is illegal; using epoch_learning_rate instead.\n"
     ]
    },
    {
     "name": "stderr",
     "output_type": "stream",
     "text": [
      "INFO:tensorflow:Summary name epoch_learning rate is illegal; using epoch_learning_rate instead.\n"
     ]
    },
    {
     "name": "stdout",
     "output_type": "stream",
     "text": [
      "\n",
      "Epoch 00005: val_loss did not improve from 0.36917\n",
      "4447/4447 [==============================] - 269s 61ms/step - loss: 0.3695 - auc: 0.6756 - precision: 0.5938 - recall: 0.3735 - f2_score: 0.4034 - binary_accuracy: 0.8329 - learning rate: 0.0010 - val_loss: 0.3692 - val_auc: 0.6740 - val_precision: 0.5826 - val_recall: 0.4207 - val_f2_score: 0.4454 - val_binary_accuracy: 0.8333\n",
      "44932/44932 [==============================] - 569s 13ms/step\n",
      "    5/44932 [..............................] - ETA: 9:33 - loss: 0.2955 - auc: 0.3167 - precision: 0.5000 - recall: 0.5000 - f2_score: 0.5000 - binary_accuracy: 0.8400               "
     ]
    },
    {
     "name": "stderr",
     "output_type": "stream",
     "text": [
      "/usr/local/lib/python3.6/dist-packages/sklearn/metrics/_classification.py:1221: UndefinedMetricWarning: Precision and F-score are ill-defined and being set to 0.0 in labels with no predicted samples. Use `zero_division` parameter to control this behavior.\n",
      "  _warn_prf(average, modifier, msg_start, len(result))\n",
      "/usr/local/lib/python3.6/dist-packages/sklearn/metrics/_classification.py:1221: UndefinedMetricWarning: Precision and F-score are ill-defined and being set to 0.0 in samples with no predicted labels. Use `zero_division` parameter to control this behavior.\n",
      "  _warn_prf(average, modifier, msg_start, len(result))\n",
      "/usr/local/lib/python3.6/dist-packages/sklearn/metrics/_classification.py:1221: UndefinedMetricWarning: Recall and F-score are ill-defined and being set to 0.0 in samples with no true labels. Use `zero_division` parameter to control this behavior.\n",
      "  _warn_prf(average, modifier, msg_start, len(result))\n"
     ]
    },
    {
     "name": "stdout",
     "output_type": "stream",
     "text": [
      "44932/44932 [==============================] - 733s 16ms/step - loss: 0.3730 - auc: 0.6802 - precision: 0.5794 - recall: 0.4137 - f2_score: 0.4388 - binary_accuracy: 0.8305\n"
     ]
    },
    {
     "data": {
      "text/plain": [
       "(<tensorflow.python.keras.callbacks.History at 0x7f7bf89762b0>,\n",
       " {'report': '               precision    recall  f1-score   support\\n\\n        Edema       0.24      0.11      0.15     10461\\n  Atelectasis       0.00      0.00      0.00      6912\\n    Pneumonia       0.00      0.00      0.00      1225\\n Lung Opacity       0.48      0.57      0.52     21324\\nConsolidation       0.00      0.00      0.00      3063\\n\\n    micro avg       0.44      0.31      0.36     42985\\n    macro avg       0.14      0.14      0.13     42985\\n weighted avg       0.29      0.31      0.29     42985\\n  samples avg       0.26      0.23      0.23     42985\\n',\n",
       "  'metrics': {'loss': 0.3730371296405792,\n",
       "   'auc': 0.6802114844322205,\n",
       "   'precision': 0.5793725848197937,\n",
       "   'recall': 0.41374897956848145,\n",
       "   'f2_score': 0.4388388991355896,\n",
       "   'binary_accuracy': 0.8304959535598755},\n",
       "  'predictions': array([[0.23357654, 0.14836957, 0.01322196, 0.5424773 , 0.04217318],\n",
       "         [0.7421715 , 0.12319779, 0.02377194, 0.6600862 , 0.09060747],\n",
       "         [0.38352564, 0.10200397, 0.02867404, 0.68731445, 0.13488336],\n",
       "         ...,\n",
       "         [0.299499  , 0.2381026 , 0.00632487, 0.55003226, 0.06004021],\n",
       "         [0.22229953, 0.17163509, 0.03018159, 0.49833602, 0.06526889],\n",
       "         [0.45578414, 0.15214075, 0.02408967, 0.6003589 , 0.12168371]],\n",
       "        dtype=float32),\n",
       "  'groundtruth_label': array([[1., 0., 0., 0., 0.],\n",
       "         [0., 0., 0., 1., 0.],\n",
       "         [0., 0., 0., 1., 0.],\n",
       "         ...,\n",
       "         [0., 1., 0., 1., 0.],\n",
       "         [0., 1., 0., 0., 0.],\n",
       "         [0., 0., 0., 0., 0.]], dtype=float32)},\n",
       " '45bcd2dc-cb4b-11ea-b1f6-0242ac110007')"
      ]
     },
     "execution_count": 17,
     "metadata": {},
     "output_type": "execute_result"
    }
   ],
   "source": [
    "experiment.run()"
   ]
  },
  {
   "cell_type": "code",
   "execution_count": 18,
   "metadata": {},
   "outputs": [
    {
     "name": "stdout",
     "output_type": "stream",
     "text": [
      "Chestxray_BCE_E5_B32_C1_N5_CTCOMP could not be created\n",
      "Chestxray_WBCE_E5_B32_C1_N5_CTCOMP could not be created\n",
      "Chestxray_CWBCE_E5_B32_C1_N5_CTCOMP could not be created\n"
     ]
    }
   ],
   "source": [
    "relevant_columns = ['Edema', 'Atelectasis', 'Pneumonia', 'Lung Opacity', 'Consolidation']\n",
    "comp_chexpert_benchmarks, _ = generate_benchmarks(path = Path(os.environ.get(\"CHEXPERT_FULL_PREPROCESSED_DATASET_DIRECTORY\")),\n",
    "                                                 name_suffix=\"_CTCOMP\",\n",
    "                                                 classes=relevant_columns,\n",
    "                                                 # train_labels = \"filtered_dependencies.csv\",\n",
    "                                                 batch_sizes = {\"b\": 32},\n",
    "                                                 epoch_sizes = {\"e\": 5},\n",
    "                                                 crop = {\"C1\": False},\n",
    "                                                 split_seed = 6122156, )"
   ]
  },
  {
   "cell_type": "code",
   "execution_count": 19,
   "metadata": {},
   "outputs": [
    {
     "data": {
      "text/plain": [
       "dict_keys(['BCE_E5_B32_C1_N5_CTCOMP', 'WBCE_E5_B32_C1_N5_CTCOMP', 'CWBCE_E5_B32_C1_N5_CTCOMP'])"
      ]
     },
     "execution_count": 19,
     "metadata": {},
     "output_type": "execute_result"
    }
   ],
   "source": [
    "comp_chexpert_benchmarks.keys()"
   ]
  },
  {
   "cell_type": "code",
   "execution_count": null,
   "metadata": {},
   "outputs": [
    {
     "name": "stdout",
     "output_type": "stream",
     "text": [
      "Epoch 1/5\n",
      "   2/4447 [..............................] - ETA: 1:00:27 - loss: 0.8541 - auc: 0.6796 - precision: 0.5778 - recall: 0.4140 - f2_score: 0.4388 - binary_accuracy: 0.8301 - learning rate: 5.0000e-04WARNING:tensorflow:Callbacks method `on_train_batch_end` is slow compared to the batch time (batch time: 0.1140s vs `on_train_batch_end` time: 1.5179s). Check your callbacks.\n"
     ]
    },
    {
     "name": "stderr",
     "output_type": "stream",
     "text": [
      "WARNING:tensorflow:Callbacks method `on_train_batch_end` is slow compared to the batch time (batch time: 0.1140s vs `on_train_batch_end` time: 1.5179s). Check your callbacks.\n"
     ]
    },
    {
     "name": "stdout",
     "output_type": "stream",
     "text": [
      "4447/4447 [==============================] - ETA: 0s - loss: 0.3548 - auc: 0.7198 - precision: 0.6244 - recall: 0.4311 - f2_score: 0.4596 - binary_accuracy: 0.8431 - learning rate: 5.0000e-04INFO:tensorflow:Summary name epoch_learning rate is illegal; using epoch_learning_rate instead.\n"
     ]
    },
    {
     "name": "stderr",
     "output_type": "stream",
     "text": [
      "INFO:tensorflow:Summary name epoch_learning rate is illegal; using epoch_learning_rate instead.\n"
     ]
    },
    {
     "name": "stdout",
     "output_type": "stream",
     "text": [
      "\n",
      "Epoch 00005: val_loss did not improve from 0.37542\n",
      "4447/4447 [==============================] - 872s 196ms/step - loss: 0.3548 - auc: 0.7198 - precision: 0.6244 - recall: 0.4311 - f2_score: 0.4596 - binary_accuracy: 0.8431 - learning rate: 5.0000e-04 - val_loss: 0.4004 - val_auc: 0.6595 - val_precision: 0.6583 - val_recall: 0.1908 - val_f2_score: 0.2224 - val_binary_accuracy: 0.8281\n",
      "44932/44932 [==============================] - 584s 13ms/step\n",
      "    4/44932 [..............................] - ETA: 9:49 - loss: 0.1310 - auc: 0.2000 - precision: 1.0000 - recall: 1.0000 - f2_score: 1.0000 - binary_accuracy: 1.0000                "
     ]
    },
    {
     "name": "stderr",
     "output_type": "stream",
     "text": [
      "/usr/local/lib/python3.6/dist-packages/sklearn/metrics/_classification.py:1221: UndefinedMetricWarning: Precision and F-score are ill-defined and being set to 0.0 in labels with no predicted samples. Use `zero_division` parameter to control this behavior.\n",
      "  _warn_prf(average, modifier, msg_start, len(result))\n",
      "/usr/local/lib/python3.6/dist-packages/sklearn/metrics/_classification.py:1221: UndefinedMetricWarning: Precision and F-score are ill-defined and being set to 0.0 in samples with no predicted labels. Use `zero_division` parameter to control this behavior.\n",
      "  _warn_prf(average, modifier, msg_start, len(result))\n",
      "/usr/local/lib/python3.6/dist-packages/sklearn/metrics/_classification.py:1221: UndefinedMetricWarning: Recall and F-score are ill-defined and being set to 0.0 in samples with no true labels. Use `zero_division` parameter to control this behavior.\n",
      "  _warn_prf(average, modifier, msg_start, len(result))\n"
     ]
    },
    {
     "name": "stdout",
     "output_type": "stream",
     "text": [
      "34340/44932 [=====================>........] - ETA: 3:00 - loss: 0.4004 - auc: 0.6674 - precision: 0.6530 - recall: 0.1881 - f2_score: 0.2193 - binary_accuracy: 0.8261"
     ]
    }
   ],
   "source": [
    "densenet_model = simple_architecture_experiment(comp_chexpert_benchmarks[\"BCE_E5_B32_C1_N5_CTCOMP\"], DenseNet121, relevant_columns)\n",
    "densenet_model.run()"
   ]
  }
 ],
 "metadata": {
  "kernelspec": {
   "display_name": "Python 3",
   "language": "python",
   "name": "python3"
  },
  "language_info": {
   "codemirror_mode": {
    "name": "ipython",
    "version": 3
   },
   "file_extension": ".py",
   "mimetype": "text/x-python",
   "name": "python",
   "nbconvert_exporter": "python",
   "pygments_lexer": "ipython3",
   "version": "3.6.9"
  }
 },
 "nbformat": 4,
 "nbformat_minor": 4
}
