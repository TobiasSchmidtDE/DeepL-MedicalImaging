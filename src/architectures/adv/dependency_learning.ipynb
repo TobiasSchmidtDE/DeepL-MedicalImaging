{
 "cells": [
  {
   "cell_type": "code",
   "execution_count": 1,
   "metadata": {},
   "outputs": [
    {
     "data": {
      "text/plain": [
       "'/srv/idp-radio-1'"
      ]
     },
     "execution_count": 1,
     "metadata": {},
     "output_type": "execute_result"
    }
   ],
   "source": [
    "import os \n",
    "import datetime\n",
    "from pathlib import Path\n",
    "from dotenv import load_dotenv, find_dotenv\n",
    "\n",
    "basepath = Path(os.getcwd())\n",
    "# make sure your working directory is the repository root.\n",
    "if basepath.name != \"idp-radio-1\":\n",
    "    os.chdir(basepath.parent.parent.parent)\n",
    "load_dotenv(find_dotenv())\n",
    "\n",
    "%load_ext autoreload\n",
    "%autoreload 2\n",
    "os.getcwd()"
   ]
  },
  {
   "cell_type": "code",
   "execution_count": 2,
   "metadata": {},
   "outputs": [
    {
     "name": "stdout",
     "output_type": "stream",
     "text": [
      "Device mapping:\n",
      "/job:localhost/replica:0/task:0/device:XLA_CPU:0 -> device: XLA_CPU device\n",
      "/job:localhost/replica:0/task:0/device:XLA_GPU:0 -> device: XLA_GPU device\n",
      "/job:localhost/replica:0/task:0/device:GPU:0 -> device: 0, name: GeForce RTX 2080 Ti, pci bus id: 0000:42:00.0, compute capability: 7.5\n",
      "\n"
     ]
    }
   ],
   "source": [
    "import os \n",
    "import tensorflow as tf\n",
    "from pathlib import Path\n",
    "\n",
    "# Run this before loading other dependencies, otherwise they might occupy memory on gpu 0 by default and it will stay that way\n",
    "\n",
    "# Specify which GPU(s) to use\n",
    "os.environ[\"CUDA_VISIBLE_DEVICES\"] = \"1\"  # Or 2, 3, etc. other than 0\n",
    "\n",
    "config = tf.compat.v1.ConfigProto(allow_soft_placement=True, log_device_placement=True)\n",
    "config.gpu_options.allow_growth = True\n",
    "tf.compat.v1.Session(config=config)\n",
    "\n",
    "from tensorflow.keras.applications.inception_v3 import InceptionV3\n",
    "from tensorflow.keras.applications.densenet import DenseNet121\n",
    "from tensorflow.keras.applications.resnet_v2 import ResNet101V2\n",
    "from src.architectures.simple.simple_base import SimpleBaseArchitecture\n",
    "from src.architectures.adv.guendel19 import densenet\n",
    "\n",
    "from src.architectures.benchmarks.benchmark import Benchmark, Experiment\n",
    "from tensorflow.keras.optimizers import Adam\n",
    "from src.architectures.benchmarks.benchmark_definitions import Chexpert_Benchmark, Chestxray14_Benchmark, simple_architecture_experiment, generate_benchmarks, METRICS, CHEXPERT_COLUMNS, CHESTXRAY14_COLUMNS\n",
    "from src.metrics.metrics import F2Score\n",
    "from src.metrics.losses import WeightedBinaryCrossentropy, compute_class_weight"
   ]
  },
  {
   "cell_type": "code",
   "execution_count": 3,
   "metadata": {},
   "outputs": [
    {
     "name": "stdout",
     "output_type": "stream",
     "text": [
      "Chestxray_BCE_E10_B32_C1_N5 could not be created\n",
      "Chestxray_WBCE_E10_B32_C1_N5 could not be created\n",
      "Chestxray_CWBCE_E10_B32_C1_N5 could not be created\n"
     ]
    }
   ],
   "source": [
    "relevant_columns = ['Edema', 'Atelectasis', 'Pneumonia', 'Lung Opacity', 'Consolidation']\n",
    "chexpert_benchmarks, _ = generate_benchmarks(path = Path(os.environ.get(\"CHEXPERT_FULL_PREPROCESSED_DATASET_DIRECTORY\")),\n",
    "                                                 classes=relevant_columns,\n",
    "                                                 train_labels = \"filtered_dependencies.csv\",\n",
    "                                                 batch_sizes = {\"b\": 32},\n",
    "                                                 epoch_sizes = {\"e\": 10},\n",
    "                                                 crop = {\"C1\": False},\n",
    "                                                 split_seed = 6122156, )"
   ]
  },
  {
   "cell_type": "code",
   "execution_count": 4,
   "metadata": {},
   "outputs": [
    {
     "data": {
      "text/plain": [
       "dict_keys(['BCE_E10_B32_C1_N5', 'WBCE_E10_B32_C1_N5', 'CWBCE_E10_B32_C1_N5'])"
      ]
     },
     "execution_count": 4,
     "metadata": {},
     "output_type": "execute_result"
    }
   ],
   "source": [
    "chexpert_benchmarks.keys()"
   ]
  },
  {
   "cell_type": "code",
   "execution_count": 12,
   "metadata": {},
   "outputs": [],
   "source": [
    "densenet_model = simple_architecture_experiment(chexpert_benchmarks[\"WBCE_E10_B32_C1_N5\"], DenseNet121, relevant_columns)"
   ]
  },
  {
   "cell_type": "code",
   "execution_count": 13,
   "metadata": {},
   "outputs": [
    {
     "name": "stdout",
     "output_type": "stream",
     "text": [
      "Epoch 1/10\n",
      "   1/1911 [..............................] - ETA: 0s - loss: 2.2775 - auc: 0.4753 - precision: 0.3162 - recall: 0.7872 - f2_score: 0.6066 - binary_accuracy: 0.4375 - learning rate: 0.0010WARNING:tensorflow:From /usr/local/lib/python3.6/dist-packages/tensorflow/python/ops/summary_ops_v2.py:1277: stop (from tensorflow.python.eager.profiler) is deprecated and will be removed after 2020-07-01.\n",
      "Instructions for updating:\n",
      "use `tf.profiler.experimental.stop` instead.\n",
      "   2/1911 [..............................] - ETA: 5:49 - loss: 2.3879 - auc: 0.4834 - precision: 0.4564 - recall: 0.7234 - f2_score: 0.6476 - binary_accuracy: 0.6656 - learning rate: 0.0010WARNING:tensorflow:Callbacks method `on_train_batch_end` is slow compared to the batch time (batch time: 0.1113s vs `on_train_batch_end` time: 0.2526s). Check your callbacks.\n",
      "1911/1911 [==============================] - ETA: 0s - loss: 1.8157 - auc: 0.5779 - precision: 0.8394 - recall: 0.6466 - f2_score: 0.6778 - binary_accuracy: 0.8554 - learning rate: 0.0010INFO:tensorflow:Summary name epoch_learning rate is illegal; using epoch_learning_rate instead.\n",
      "\n",
      "Epoch 00001: val_loss improved from inf to 0.44335, saving model to models/DenseNet121_Chexpert_WBCE_E10_B32_C1_N5/weights.01-0.44.hdf5\n",
      "1911/1911 [==============================] - 374s 195ms/step - loss: 1.8157 - auc: 0.5779 - precision: 0.8394 - recall: 0.6466 - f2_score: 0.6778 - binary_accuracy: 0.8554 - learning rate: 0.0010 - val_loss: 0.4433 - val_auc: 0.5685 - val_precision: 0.9099 - val_recall: 0.6080 - val_f2_score: 0.6512 - val_binary_accuracy: 0.8644\n",
      "Epoch 2/10\n",
      "1911/1911 [==============================] - ETA: 0s - loss: 1.7790 - auc: 0.5967 - precision: 0.8361 - recall: 0.6565 - f2_score: 0.6860 - binary_accuracy: 0.8568 - learning rate: 0.0010INFO:tensorflow:Summary name epoch_learning rate is illegal; using epoch_learning_rate instead.\n",
      "\n",
      "Epoch 00002: val_loss improved from 0.44335 to 0.41460, saving model to models/DenseNet121_Chexpert_WBCE_E10_B32_C1_N5/weights.02-0.41.hdf5\n",
      "1911/1911 [==============================] - 374s 196ms/step - loss: 1.7790 - auc: 0.5967 - precision: 0.8361 - recall: 0.6565 - f2_score: 0.6860 - binary_accuracy: 0.8568 - learning rate: 0.0010 - val_loss: 0.4146 - val_auc: 0.6016 - val_precision: 0.8052 - val_recall: 0.6589 - val_f2_score: 0.6838 - val_binary_accuracy: 0.8499\n",
      "Epoch 3/10\n",
      "1911/1911 [==============================] - ETA: 0s - loss: 1.7594 - auc: 0.6112 - precision: 0.8270 - recall: 0.6679 - f2_score: 0.6946 - binary_accuracy: 0.8569 - learning rate: 0.0010INFO:tensorflow:Summary name epoch_learning rate is illegal; using epoch_learning_rate instead.\n",
      "\n",
      "Epoch 00003: val_loss improved from 0.41460 to 0.40198, saving model to models/DenseNet121_Chexpert_WBCE_E10_B32_C1_N5/weights.03-0.40.hdf5\n",
      "1911/1911 [==============================] - 374s 196ms/step - loss: 1.7594 - auc: 0.6112 - precision: 0.8270 - recall: 0.6679 - f2_score: 0.6946 - binary_accuracy: 0.8569 - learning rate: 0.0010 - val_loss: 0.4020 - val_auc: 0.6187 - val_precision: 0.8029 - val_recall: 0.6682 - val_f2_score: 0.6914 - val_binary_accuracy: 0.8513\n",
      "Epoch 4/10\n",
      "1911/1911 [==============================] - ETA: 0s - loss: 1.7483 - auc: 0.6165 - precision: 0.8184 - recall: 0.6742 - f2_score: 0.6988 - binary_accuracy: 0.8558 - learning rate: 0.0010INFO:tensorflow:Summary name epoch_learning rate is illegal; using epoch_learning_rate instead.\n",
      "\n",
      "Epoch 00004: val_loss did not improve from 0.40198\n",
      "1911/1911 [==============================] - 373s 195ms/step - loss: 1.7483 - auc: 0.6165 - precision: 0.8184 - recall: 0.6742 - f2_score: 0.6988 - binary_accuracy: 0.8558 - learning rate: 0.0010 - val_loss: 0.4130 - val_auc: 0.6079 - val_precision: 0.8662 - val_recall: 0.6259 - val_f2_score: 0.6627 - val_binary_accuracy: 0.8588\n",
      "Epoch 5/10\n",
      "1911/1911 [==============================] - ETA: 0s - loss: 1.7355 - auc: 0.6251 - precision: 0.8093 - recall: 0.6792 - f2_score: 0.7018 - binary_accuracy: 0.8542 - learning rate: 0.0010INFO:tensorflow:Summary name epoch_learning rate is illegal; using epoch_learning_rate instead.\n",
      "\n",
      "Epoch 00005: val_loss improved from 0.40198 to 0.39423, saving model to models/DenseNet121_Chexpert_WBCE_E10_B32_C1_N5/weights.05-0.39.hdf5\n",
      "1911/1911 [==============================] - 374s 196ms/step - loss: 1.7355 - auc: 0.6251 - precision: 0.8093 - recall: 0.6792 - f2_score: 0.7018 - binary_accuracy: 0.8542 - learning rate: 0.0010 - val_loss: 0.3942 - val_auc: 0.6220 - val_precision: 0.8632 - val_recall: 0.6490 - val_f2_score: 0.6829 - val_binary_accuracy: 0.8639\n",
      "Epoch 6/10\n",
      "1911/1911 [==============================] - ETA: 0s - loss: 1.7228 - auc: 0.6331 - precision: 0.8064 - recall: 0.6833 - f2_score: 0.7048 - binary_accuracy: 0.8542 - learning rate: 0.0010INFO:tensorflow:Summary name epoch_learning rate is illegal; using epoch_learning_rate instead.\n",
      "\n",
      "Epoch 00006: val_loss did not improve from 0.39423\n",
      "1911/1911 [==============================] - 373s 195ms/step - loss: 1.7228 - auc: 0.6331 - precision: 0.8064 - recall: 0.6833 - f2_score: 0.7048 - binary_accuracy: 0.8542 - learning rate: 0.0010 - val_loss: 0.4530 - val_auc: 0.5982 - val_precision: 0.6618 - val_recall: 0.6715 - val_f2_score: 0.6696 - val_binary_accuracy: 0.7986\n",
      "Epoch 7/10\n",
      "1911/1911 [==============================] - ETA: 0s - loss: 1.7086 - auc: 0.6458 - precision: 0.8004 - recall: 0.6874 - f2_score: 0.7074 - binary_accuracy: 0.8532 - learning rate: 0.0010INFO:tensorflow:Summary name epoch_learning rate is illegal; using epoch_learning_rate instead.\n",
      "\n",
      "Epoch 00007: val_loss improved from 0.39423 to 0.38648, saving model to models/DenseNet121_Chexpert_WBCE_E10_B32_C1_N5/weights.07-0.39.hdf5\n",
      "1911/1911 [==============================] - 373s 195ms/step - loss: 1.7086 - auc: 0.6458 - precision: 0.8004 - recall: 0.6874 - f2_score: 0.7074 - binary_accuracy: 0.8532 - learning rate: 0.0010 - val_loss: 0.3865 - val_auc: 0.6263 - val_precision: 0.7988 - val_recall: 0.6943 - val_f2_score: 0.7129 - val_binary_accuracy: 0.8558\n",
      "Epoch 8/10\n",
      "1911/1911 [==============================] - ETA: 0s - loss: 1.6946 - auc: 0.6531 - precision: 0.7944 - recall: 0.6926 - f2_score: 0.7108 - binary_accuracy: 0.8524 - learning rate: 0.0010INFO:tensorflow:Summary name epoch_learning rate is illegal; using epoch_learning_rate instead.\n",
      "\n",
      "Epoch 00008: val_loss did not improve from 0.38648\n",
      "1911/1911 [==============================] - 372s 195ms/step - loss: 1.6946 - auc: 0.6531 - precision: 0.7944 - recall: 0.6926 - f2_score: 0.7108 - binary_accuracy: 0.8524 - learning rate: 0.0010 - val_loss: 0.4148 - val_auc: 0.6199 - val_precision: 0.8066 - val_recall: 0.6837 - val_f2_score: 0.7052 - val_binary_accuracy: 0.8560\n",
      "Epoch 9/10\n",
      "1911/1911 [==============================] - ETA: 0s - loss: 1.6826 - auc: 0.6586 - precision: 0.7890 - recall: 0.6940 - f2_score: 0.7112 - binary_accuracy: 0.8509 - learning rate: 0.0010INFO:tensorflow:Summary name epoch_learning rate is illegal; using epoch_learning_rate instead.\n",
      "\n",
      "Epoch 00009: val_loss did not improve from 0.38648\n",
      "1911/1911 [==============================] - 373s 195ms/step - loss: 1.6826 - auc: 0.6586 - precision: 0.7890 - recall: 0.6940 - f2_score: 0.7112 - binary_accuracy: 0.8509 - learning rate: 0.0010 - val_loss: 0.4162 - val_auc: 0.6319 - val_precision: 0.8244 - val_recall: 0.6723 - val_f2_score: 0.6980 - val_binary_accuracy: 0.8587\n",
      "Epoch 10/10\n",
      "1911/1911 [==============================] - ETA: 0s - loss: 1.6405 - auc: 0.6789 - precision: 0.7740 - recall: 0.7061 - f2_score: 0.7187 - binary_accuracy: 0.8484 - learning rate: 5.0000e-04INFO:tensorflow:Summary name epoch_learning rate is illegal; using epoch_learning_rate instead.\n",
      "\n",
      "Epoch 00010: val_loss did not improve from 0.38648\n",
      "1911/1911 [==============================] - 372s 195ms/step - loss: 1.6405 - auc: 0.6789 - precision: 0.7740 - recall: 0.7061 - f2_score: 0.7187 - binary_accuracy: 0.8484 - learning rate: 5.0000e-04 - val_loss: 0.4106 - val_auc: 0.6175 - val_precision: 0.6787 - val_recall: 0.7228 - val_f2_score: 0.7135 - val_binary_accuracy: 0.8143\n",
      "19047/19047 [==============================] - 243s 13ms/step\n",
      "    4/19047 [..............................] - ETA: 4:22 - loss: 0.4453 - auc: 0.3333 - precision: 0.6667 - recall: 0.6667 - f2_score: 0.6667 - binary_accuracy: 0.8000   "
     ]
    },
    {
     "name": "stderr",
     "output_type": "stream",
     "text": [
      "/usr/local/lib/python3.6/dist-packages/sklearn/metrics/_classification.py:1221: UndefinedMetricWarning: Precision and F-score are ill-defined and being set to 0.0 in labels with no predicted samples. Use `zero_division` parameter to control this behavior.\n",
      "  _warn_prf(average, modifier, msg_start, len(result))\n"
     ]
    },
    {
     "name": "stdout",
     "output_type": "stream",
     "text": [
      "19047/19047 [==============================] - 324s 17ms/step - loss: 0.4047 - auc: 0.6291 - precision: 0.6912 - recall: 0.7259 - f2_score: 0.7187 - binary_accuracy: 0.8185\n"
     ]
    },
    {
     "data": {
      "text/plain": [
       "(<tensorflow.python.keras.callbacks.History at 0x7f6bb4056c18>,\n",
       " {'report': '               precision    recall  f1-score   support\\n\\n        Edema       0.27      0.23      0.25      5201\\n  Atelectasis       0.15      0.37      0.21      2747\\n    Pneumonia       0.02      0.00      0.00       788\\n Lung Opacity       0.91      1.00      0.96     17423\\nConsolidation       0.00      0.00      0.00      2717\\n\\n    micro avg       0.65      0.68      0.66     28876\\n    macro avg       0.27      0.32      0.28     28876\\n weighted avg       0.62      0.68      0.64     28876\\n  samples avg       0.70      0.75      0.68     28876\\n',\n",
       "  'metrics': {'loss': 0.404695987701416,\n",
       "   'auc': 0.6291096806526184,\n",
       "   'precision': 0.6912118792533875,\n",
       "   'recall': 0.725896954536438,\n",
       "   'f2_score': 0.7186842560768127,\n",
       "   'binary_accuracy': 0.8184902667999268},\n",
       "  'predictions': array([[0.13025315, 0.5439868 , 0.10194399, 0.90975463, 0.12342714],\n",
       "         [0.83223206, 0.14842801, 0.01202178, 0.933355  , 0.08992115],\n",
       "         [0.589903  , 0.2815846 , 0.0343706 , 0.8968378 , 0.13471775],\n",
       "         ...,\n",
       "         [0.12066057, 0.66335875, 0.06606244, 0.95023865, 0.06883171],\n",
       "         [0.08131668, 0.683586  , 0.05978912, 0.8966749 , 0.1331516 ],\n",
       "         [0.49522907, 0.3082623 , 0.03277189, 0.8492529 , 0.18627322]],\n",
       "        dtype=float32),\n",
       "  'groundtruth_label': array([[0., 0., 1., 1., 0.],\n",
       "         [0., 0., 0., 1., 0.],\n",
       "         [1., 0., 0., 1., 0.],\n",
       "         ...,\n",
       "         [0., 0., 0., 1., 0.],\n",
       "         [1., 1., 0., 1., 0.],\n",
       "         [1., 0., 0., 1., 0.]], dtype=float32)},\n",
       " 'f1dd0b46-ca9b-11ea-a1da-0242ac110007')"
      ]
     },
     "execution_count": 13,
     "metadata": {},
     "output_type": "execute_result"
    }
   ],
   "source": [
    "densenet_model.run()"
   ]
  },
  {
   "cell_type": "code",
   "execution_count": 19,
   "metadata": {},
   "outputs": [],
   "source": [
    "from src.metrics.metrics import F2Score\n",
    "\n",
    "dependencies = {\n",
    "    'F2Score': F2Score\n",
    "}\n",
    "pretrained_model = tf.keras.models.load_model('models/DenseNet121_Chexpert_WBCE_E10_B32_C1_N5/DenseNet121_Chexpert_WBCE_E10_B32_C1_N5_20200720-151611.h5', custom_objects=dependencies)"
   ]
  },
  {
   "cell_type": "code",
   "execution_count": null,
   "metadata": {},
   "outputs": [],
   "source": [
    "# freeze all layers except last one\n",
    "for layer in pretrained_model.layers[:429]:\n",
    "    layer.trainable = False\n",
    "for layer in pretrained_model.layers:\n",
    "    print(layer, layer.trainable)"
   ]
  },
  {
   "cell_type": "code",
   "execution_count": 22,
   "metadata": {},
   "outputs": [
    {
     "name": "stdout",
     "output_type": "stream",
     "text": [
      "Chestxray_BCE_E10_B32_C1_N5 could not be created\n",
      "Chestxray_WBCE_E10_B32_C1_N5 could not be created\n",
      "Chestxray_CWBCE_E10_B32_C1_N5 could not be created\n"
     ]
    },
    {
     "ename": "AttributeError",
     "evalue": "'Functional' object has no attribute 'simple_name'",
     "output_type": "error",
     "traceback": [
      "\u001b[0;31m---------------------------------------------------------------------------\u001b[0m",
      "\u001b[0;31mAttributeError\u001b[0m                            Traceback (most recent call last)",
      "\u001b[0;32m<ipython-input-22-e4a8eea8e141>\u001b[0m in \u001b[0;36m<module>\u001b[0;34m\u001b[0m\n\u001b[1;32m      6\u001b[0m                                                  \u001b[0mcrop\u001b[0m \u001b[0;34m=\u001b[0m \u001b[0;34m{\u001b[0m\u001b[0;34m\"C1\"\u001b[0m\u001b[0;34m:\u001b[0m \u001b[0;32mFalse\u001b[0m\u001b[0;34m}\u001b[0m\u001b[0;34m,\u001b[0m\u001b[0;34m\u001b[0m\u001b[0;34m\u001b[0m\u001b[0m\n\u001b[1;32m      7\u001b[0m                                                  split_seed = 6122156, )\n\u001b[0;32m----> 8\u001b[0;31m \u001b[0mexperiment\u001b[0m \u001b[0;34m=\u001b[0m \u001b[0mExperiment\u001b[0m\u001b[0;34m(\u001b[0m\u001b[0munfiltered_chexpert_benchmarks\u001b[0m\u001b[0;34m[\u001b[0m\u001b[0;34m\"WBCE_E10_B32_C1_N5\"\u001b[0m\u001b[0;34m]\u001b[0m\u001b[0;34m,\u001b[0m \u001b[0mpretrained_model\u001b[0m\u001b[0;34m,\u001b[0m \u001b[0mmodel_name\u001b[0m\u001b[0;34m=\u001b[0m\u001b[0;34m'pretrained_DN_dependency'\u001b[0m\u001b[0;34m)\u001b[0m\u001b[0;34m\u001b[0m\u001b[0;34m\u001b[0m\u001b[0m\n\u001b[0m",
      "\u001b[0;32m/srv/idp-radio-1/src/architectures/benchmarks/benchmark.py\u001b[0m in \u001b[0;36m__init__\u001b[0;34m(self, benchmark, model, model_name, model_version)\u001b[0m\n\u001b[1;32m     51\u001b[0m         self.model_description = (\"Trained {model_name} architecture using the \"\n\u001b[1;32m     52\u001b[0m                                   \u001b[0;34m\"'{benchmark_name}' benchmark. \"\u001b[0m\u001b[0;34m\u001b[0m\u001b[0;34m\u001b[0m\u001b[0m\n\u001b[0;32m---> 53\u001b[0;31m                                   \u001b[0;34m)\u001b[0m\u001b[0;34m.\u001b[0m\u001b[0mformat\u001b[0m\u001b[0;34m(\u001b[0m\u001b[0mmodel_name\u001b[0m\u001b[0;34m=\u001b[0m\u001b[0mself\u001b[0m\u001b[0;34m.\u001b[0m\u001b[0mmodel\u001b[0m\u001b[0;34m.\u001b[0m\u001b[0msimple_name\u001b[0m\u001b[0;34m,\u001b[0m\u001b[0;34m\u001b[0m\u001b[0;34m\u001b[0m\u001b[0m\n\u001b[0m\u001b[1;32m     54\u001b[0m                                            benchmark_name=benchmark.name)\n\u001b[1;32m     55\u001b[0m         \u001b[0mself\u001b[0m\u001b[0;34m.\u001b[0m\u001b[0mmodel_description\u001b[0m \u001b[0;34m+=\u001b[0m \u001b[0mbenchmark\u001b[0m\u001b[0;34m.\u001b[0m\u001b[0msummary\u001b[0m\u001b[0;34m(\u001b[0m\u001b[0;34m)\u001b[0m\u001b[0;34m\u001b[0m\u001b[0;34m\u001b[0m\u001b[0m\n",
      "\u001b[0;31mAttributeError\u001b[0m: 'Functional' object has no attribute 'simple_name'"
     ]
    }
   ],
   "source": [
    "unfiltered_chexpert_benchmarks, _ = generate_benchmarks(path = Path(os.environ.get(\"CHEXPERT_FULL_PREPROCESSED_DATASET_DIRECTORY\")),\n",
    "                                                 classes=relevant_columns,\n",
    "                                                 # train_labels = \"filtered_dependencies.csv\",\n",
    "                                                 batch_sizes = {\"b\": 32},\n",
    "                                                 epoch_sizes = {\"e\": 10},\n",
    "                                                 crop = {\"C1\": False},\n",
    "                                                 split_seed = 6122156, )\n",
    "experiment = Experiment(unfiltered_chexpert_benchmarks[\"WBCE_E10_B32_C1_N5\"], pretrained_model, model_name='pretrained_DN_dependency')"
   ]
  }
 ],
 "metadata": {
  "kernelspec": {
   "display_name": "Python 3",
   "language": "python",
   "name": "python3"
  },
  "language_info": {
   "codemirror_mode": {
    "name": "ipython",
    "version": 3
   },
   "file_extension": ".py",
   "mimetype": "text/x-python",
   "name": "python",
   "nbconvert_exporter": "python",
   "pygments_lexer": "ipython3",
   "version": "3.6.9"
  }
 },
 "nbformat": 4,
 "nbformat_minor": 4
}
