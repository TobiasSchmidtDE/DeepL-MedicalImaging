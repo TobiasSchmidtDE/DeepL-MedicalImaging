{
 "cells": [
  {
   "cell_type": "code",
   "execution_count": 1,
   "metadata": {},
   "outputs": [
    {
     "name": "stdout",
     "output_type": "stream",
     "text": [
      "Device mapping:\n",
      "/job:localhost/replica:0/task:0/device:GPU:0 -> device: 0, name: GeForce RTX 2080 Ti, pci bus id: 0000:04:00.0, compute capability: 7.5\n",
      "\n"
     ]
    }
   ],
   "source": [
    "import os \n",
    "import datetime\n",
    "from pathlib import Path\n",
    "from dotenv import load_dotenv, find_dotenv\n",
    "\n",
    "basepath = Path(os.getcwd())\n",
    "# make sure your working directory is the repository root.\n",
    "if basepath.name != \"idp-radio-1\":\n",
    "    os.chdir(basepath.parent.parent.parent)\n",
    "load_dotenv(find_dotenv())\n",
    "\n",
    "%load_ext autoreload\n",
    "%autoreload 2\n",
    "os.getcwd()\n",
    "\n",
    "import os \n",
    "import tensorflow as tf\n",
    "from pathlib import Path\n",
    "import cv2\n",
    "\n",
    "# Run this before loading other dependencies, otherwise they might occupy memory on gpu 0 by default and it will stay that way\n",
    "\n",
    "# Specify which GPU(s) to use\n",
    "os.environ[\"CUDA_VISIBLE_DEVICES\"] = \"1\"  # Or 2, 3, etc. other than 0\n",
    "\n",
    "config = tf.compat.v1.ConfigProto(device_count={'GPU': 1}, allow_soft_placement=True, log_device_placement=True)\n",
    "config.gpu_options.allow_growth = True\n",
    "config.gpu_options.per_process_gpu_memory_fraction = 1.0\n",
    "tf.compat.v1.Session(config=config)\n",
    "\n",
    "from tensorflow.keras.applications.inception_v3 import InceptionV3\n",
    "from tensorflow.keras.applications.densenet import DenseNet121, DenseNet169\n",
    "from tensorflow.keras.applications.resnet_v2 import ResNet101V2\n",
    "from tensorflow.keras.applications.inception_resnet_v2 import InceptionResNetV2\n",
    "from src.architectures.simple.simple_base import SimpleBaseArchitecture\n",
    "from src.architectures.adv.guendel19 import densenet\n",
    "import numpy as np\n",
    "\n",
    "from src.architectures.benchmarks.benchmark import Benchmark, Experiment\n",
    "from tensorflow.keras.optimizers import Adam, SGD\n",
    "from src.architectures.benchmarks.benchmark_definitions import Chexpert_Benchmark, Chestxray14_Benchmark, simple_architecture_experiment, generate_benchmarks, METRICS, SINGLE_CLASS_METRICS, CHEXPERT_COLUMNS, CHESTXRAY14_COLUMNS\n",
    "from src.metrics.metrics import F2Score\n",
    "from src.metrics.losses import WeightedBinaryCrossentropy, BinaryCrossentropy, compute_class_weight\n"
   ]
  },
  {
   "cell_type": "code",
   "execution_count": 2,
   "metadata": {},
   "outputs": [
    {
     "name": "stdout",
     "output_type": "stream",
     "text": [
      "URLs open for the following services:\n",
      "[('jupyterlab', 'http://ef139013adca.ngrok.io'), ('tensorboard', 'http://c6fb4f5c0970.ngrok.io')]\n"
     ]
    }
   ],
   "source": [
    "!remote_access/get_tunnels.sh"
   ]
  },
  {
   "cell_type": "code",
   "execution_count": 3,
   "metadata": {},
   "outputs": [],
   "source": [
    "columns_12 = ['Enlarged Cardiomediastinum',\n",
    "                    'Cardiomegaly',\n",
    "                    'Lung Opacity',\n",
    "                    'Lung Lesion',\n",
    "                    'Edema',\n",
    "                    'Consolidation',\n",
    "                    'Pneumonia',\n",
    "                    'Atelectasis',\n",
    "                    'Pneumothorax',\n",
    "                    'Pleural Effusion',\n",
    "                    'Pleural Other',\n",
    "                    'Fracture']\n",
    "columns_5 =  ['Cardiomegaly',\n",
    "                'Edema',\n",
    "                'Consolidation',\n",
    "                'Atelectasis',\n",
    "                'Pleural Effusion']\n",
    "\n",
    "uzeros = ['Cardiomegaly',\n",
    "        'Enlarged Cardiomediastinum',\n",
    "        'Lung Opacity',\n",
    "        'Lung Lesion',\n",
    "        'Consolidation',\n",
    "        'Pneumothorax',\n",
    "        'Pleural Effusion']\n",
    "\n",
    "uones = ['Edema',\n",
    "        'Atelectasis',\n",
    "        'Fracture',\n",
    "        'Pleural Other',\n",
    "        'Pneumonia',]\n",
    "\n",
    "upsample_factors = {\n",
    "    \"Enlarged Cardiomediastinum\": 1,\n",
    "    \"Lung Lesion\":1,\n",
    "    #\"Pneumothorax\":1,\n",
    "    #\"Pneumonia\":1,\n",
    "    \"Pleural Other\":2,\n",
    "    \"Fracture\":2,\n",
    "}\n",
    "transformations_0 = {\"hist_equalization\":{}}\n",
    "transformations_1 = { \"gaussian_blur\":{\"kernal_size\":3}, \"hist_equalization\":{}}\n",
    "transformations_2 = {\"unsharp_mask\":{\"radius\":2, \"amount\":1}}\n",
    "transformations_3 = {\"windowing\"}\n",
    "transformations_4 = {}"
   ]
  },
  {
   "cell_type": "code",
   "execution_count": 6,
   "metadata": {},
   "outputs": [
    {
     "name": "stdout",
     "output_type": "stream",
     "text": [
      "Initialzed custom_binary_crossentropy with epsilon 1e-05\n"
     ]
    }
   ],
   "source": [
    "bce_benchmark = Chexpert_Benchmark (path = Path(os.environ.get(\"CHEXPERT_DATASET_DIRECTORY\")),\n",
    "                                     name=\"Chexpert_Masked_CWBCE_L1Normed_E5_B32_C0_N12_AugAffine_sharp21_U75_D256_DS9505_1LR4_LF1_Adam_Upsampled\",\n",
    "                                     classes=columns_12,\n",
    "                                     #train_labels = \"train.csv\",\n",
    "                                     train_labels = \"nofinding_train.csv\",\n",
    "                                     test_labels = \"test.csv\",\n",
    "                                     nan_replacement = -1, #float(\"NaN\"),\n",
    "                                     u_enc = [uzeros, uones],\n",
    "                                     epochs=3,\n",
    "                                     batch_size=32,\n",
    "                                     crop = False,\n",
    "                                     dim=(256, 256),\n",
    "                                     loss = BinaryCrossentropy(),\n",
    "                                     use_class_weights = False,\n",
    "                                     upsample_factors = upsample_factors,\n",
    "                                     metrics=METRICS,\n",
    "                                     single_class_metrics=SINGLE_CLASS_METRICS,\n",
    "                                     optimizer = Adam(learning_rate=1e-4, clipnorm=1),\n",
    "                                     lr_factor = 0.1,\n",
    "                                     augmentation = \"affine\",\n",
    "                                     transformations = transformations_2,\n",
    "                                     split_seed = 6122156,\n",
    "                                     split_valid_size = 0.05, \n",
    "                                     preprocess_input_fn = tf.keras.applications.densenet.preprocess_input)\n",
    "\n",
    "\n",
    "bce_benchmark.loss = WeightedBinaryCrossentropy(bce_benchmark.positive_weights,\n",
    "                                                bce_benchmark.negative_weights)\n",
    "\n",
    "bce_chexpert_exp = simple_architecture_experiment(bce_benchmark, DenseNet169, bce_benchmark.label_columns)"
   ]
  },
  {
   "cell_type": "code",
   "execution_count": 7,
   "metadata": {},
   "outputs": [
    {
     "data": {
      "text/plain": [
       "{'benchmark_name': 'Chexpert_Masked_CWBCE_L1Normed_E5_B32_C0_N12_AugAffine_sharp21_U75_D256_DS9505_1LR4_LF1_Adam_Upsampled',\n",
       " 'dataset_name': 'chexpert_full',\n",
       " 'dataset_folder': 'data/chexpert/full',\n",
       " 'models_dir': 'models',\n",
       " 'epochs': 3,\n",
       " 'optimizer': 'Adam',\n",
       " 'learning_rate': 0.0001,\n",
       " 'lr_factor': 0.1,\n",
       " 'loss': 'weighted_binary_crossentropy',\n",
       " 'use_class_weights': False,\n",
       " 'class_weights': [1.0471136569976807,\n",
       "  0.8615774512290955,\n",
       "  0.21405130624771118,\n",
       "  1.2290253639221191,\n",
       "  0.3829084038734436,\n",
       "  1.5654457807540894,\n",
       "  0.9355764389038086,\n",
       "  0.3477109670639038,\n",
       "  1.1680023670196533,\n",
       "  0.27839189767837524,\n",
       "  1.1709423065185547,\n",
       "  0.7992541790008545],\n",
       " 'positive_weights': [1.0635147094726562,\n",
       "  0.800445020198822,\n",
       "  0.4360807538032532,\n",
       "  0.7231208682060242,\n",
       "  0.5485225915908813,\n",
       "  1.9478179216384888,\n",
       "  0.6219006180763245,\n",
       "  0.44203197956085205,\n",
       "  1.574169635772705,\n",
       "  0.6010105609893799,\n",
       "  0.6640639305114746,\n",
       "  0.577321469783783],\n",
       " 'negative_weights': [0.5162432193756104,\n",
       "  0.6122576594352722,\n",
       "  1.6469026803970337,\n",
       "  0.6657873392105103,\n",
       "  0.9352073073387146,\n",
       "  0.42432278394699097,\n",
       "  0.7808052897453308,\n",
       "  1.5685069561004639,\n",
       "  0.4470456838607788,\n",
       "  0.8158010244369507,\n",
       "  0.724066972732544,\n",
       "  0.8630533218383789],\n",
       " 'metrics': ['auc',\n",
       "  'precision',\n",
       "  'recall',\n",
       "  'f2_score',\n",
       "  'binary_accuracy',\n",
       "  'accuracy_enlarged_cardiomediastinum',\n",
       "  'accuracy_cardiomegaly',\n",
       "  'accuracy_lung_opacity',\n",
       "  'accuracy_lung_lesion',\n",
       "  'accuracy_edema',\n",
       "  'accuracy_consolidation',\n",
       "  'accuracy_pneumonia',\n",
       "  'accuracy_atelectasis',\n",
       "  'accuracy_pneumothorax',\n",
       "  'accuracy_pleural_effusion',\n",
       "  'accuracy_pleural_other',\n",
       "  'accuracy_fracture',\n",
       "  'auc_enlarged_cardiomediastinum',\n",
       "  'auc_cardiomegaly',\n",
       "  'auc_lung_opacity',\n",
       "  'auc_lung_lesion',\n",
       "  'auc_edema',\n",
       "  'auc_consolidation',\n",
       "  'auc_pneumonia',\n",
       "  'auc_atelectasis',\n",
       "  'auc_pneumothorax',\n",
       "  'auc_pleural_effusion',\n",
       "  'auc_pleural_other',\n",
       "  'auc_fracture',\n",
       "  'precision_enlarged_cardiomediastinum',\n",
       "  'precision_cardiomegaly',\n",
       "  'precision_lung_opacity',\n",
       "  'precision_lung_lesion',\n",
       "  'precision_edema',\n",
       "  'precision_consolidation',\n",
       "  'precision_pneumonia',\n",
       "  'precision_atelectasis',\n",
       "  'precision_pneumothorax',\n",
       "  'precision_pleural_effusion',\n",
       "  'precision_pleural_other',\n",
       "  'precision_fracture',\n",
       "  'recall_enlarged_cardiomediastinum',\n",
       "  'recall_cardiomegaly',\n",
       "  'recall_lung_opacity',\n",
       "  'recall_lung_lesion',\n",
       "  'recall_edema',\n",
       "  'recall_consolidation',\n",
       "  'recall_pneumonia',\n",
       "  'recall_atelectasis',\n",
       "  'recall_pneumothorax',\n",
       "  'recall_pleural_effusion',\n",
       "  'recall_pleural_other',\n",
       "  'recall_fracture',\n",
       "  'f2_score_enlarged_cardiomediastinum',\n",
       "  'f2_score_cardiomegaly',\n",
       "  'f2_score_lung_opacity',\n",
       "  'f2_score_lung_lesion',\n",
       "  'f2_score_edema',\n",
       "  'f2_score_consolidation',\n",
       "  'f2_score_pneumonia',\n",
       "  'f2_score_atelectasis',\n",
       "  'f2_score_pneumothorax',\n",
       "  'f2_score_pleural_effusion',\n",
       "  'f2_score_pleural_other',\n",
       "  'f2_score_fracture'],\n",
       " 'label_columns': ['Enlarged Cardiomediastinum',\n",
       "  'Cardiomegaly',\n",
       "  'Lung Opacity',\n",
       "  'Lung Lesion',\n",
       "  'Edema',\n",
       "  'Consolidation',\n",
       "  'Pneumonia',\n",
       "  'Atelectasis',\n",
       "  'Pneumothorax',\n",
       "  'Pleural Effusion',\n",
       "  'Pleural Other',\n",
       "  'Fracture'],\n",
       " 'path_column': 'Path',\n",
       " 'path_column_prefix': '',\n",
       " 'upsample_factors': {'Enlarged Cardiomediastinum': 1,\n",
       "  'Lung Lesion': 1,\n",
       "  'Pleural Other': 2,\n",
       "  'Fracture': 2},\n",
       " 'shuffle': True,\n",
       " 'batch_size': 32,\n",
       " 'dim': (256, 256),\n",
       " 'crop': False,\n",
       " 'transformations': {'unsharp_mask': {'radius': 2, 'amount': 1}},\n",
       " 'augmentation': 'affine',\n",
       " 'n_channels': 3,\n",
       " 'nan_replacement': -1,\n",
       " 'unc_value': -1,\n",
       " 'u_enc': [['Cardiomegaly',\n",
       "   'Enlarged Cardiomediastinum',\n",
       "   'Lung Opacity',\n",
       "   'Lung Lesion',\n",
       "   'Consolidation',\n",
       "   'Pneumothorax',\n",
       "   'Pleural Effusion'],\n",
       "  ['Edema', 'Atelectasis', 'Fracture', 'Pleural Other', 'Pneumonia']],\n",
       " 'drop_last': False,\n",
       " 'num_samples_train': 266998,\n",
       " 'num_samples_validation': 11596,\n",
       " 'num_samples_test': 234,\n",
       " 'split_seed': 6122156}"
      ]
     },
     "execution_count": 7,
     "metadata": {},
     "output_type": "execute_result"
    }
   ],
   "source": [
    "bce_chexpert_exp.benchmark.as_dict()"
   ]
  },
  {
   "cell_type": "code",
   "execution_count": null,
   "metadata": {},
   "outputs": [],
   "source": []
  },
  {
   "cell_type": "code",
   "execution_count": null,
   "metadata": {},
   "outputs": [
    {
     "name": "stdout",
     "output_type": "stream",
     "text": [
      "WARNING:tensorflow:Automatic model reloading for interrupted job was removed from the `ModelCheckpoint` callback in multi-worker mode, please use the `keras.callbacks.experimental.BackupAndRestore` callback instead. See this tutorial for details: https://www.tensorflow.org/tutorials/distribute/multi_worker_with_keras#backupandrestore_callback.\n",
      "Epoch 1/3\n",
      " 825/8344 [=>............................] - ETA: 49:45 - loss: 0.3985 - auc: 0.5994 - precision: 0.2197 - recall: 0.7264 - f2_score: 0.4970 - binary_accuracy: 0.4876 - accuracy_enlarged_cardiomediastinum: 0.4000 - accuracy_cardiomegaly: 0.4993 - accuracy_lung_opacity: 0.6129 - accuracy_lung_lesion: 0.3726 - accuracy_edema: 0.6278 - accuracy_consolidation: 0.5328 - accuracy_pneumonia: 0.4130 - accuracy_atelectasis: 0.4980 - accuracy_pneumothorax: 0.5284 - accuracy_pleural_effusion: 0.6754 - accuracy_pleural_other: 0.3435 - accuracy_fracture: 0.3472 - auc_enlarged_cardiomediastinum: 0.4997 - auc_cardiomegaly: 0.6273 - auc_lung_opacity: 0.6544 - auc_lung_lesion: 0.4874 - auc_edema: 0.7531 - auc_consolidation: 0.6224 - auc_pneumonia: 0.5855 - auc_atelectasis: 0.5985 - auc_pneumothorax: 0.6336 - auc_pleural_effusion: 0.7562 - auc_pleural_other: 0.5227 - auc_fracture: 0.4524 - precision_enlarged_cardiomediastinum: 0.0960 - precision_cardiomegaly: 0.1495 - precision_lung_opacity: 0.5714 - precision_lung_lesion: 0.0776 - precision_edema: 0.3983 - precision_consolidation: 0.0866 - precision_pneumonia: 0.1200 - precision_atelectasis: 0.3387 - precision_pneumothorax: 0.1194 - precision_pleural_effusion: 0.5381 - precision_pleural_other: 0.0884 - precision_fracture: 0.1167 - recall_enlarged_cardiomediastinum: 0.6278 - recall_cardiomegaly: 0.6990 - recall_lung_opacity: 0.7266 - recall_lung_lesion: 0.6220 - recall_edema: 0.7979 - recall_consolidation: 0.6597 - recall_pneumonia: 0.7235 - recall_atelectasis: 0.7666 - recall_pneumothorax: 0.6812 - recall_pleural_effusion: 0.7606 - recall_pleural_other: 0.7060 - recall_fracture: 0.6292 - f2_score_enlarged_cardiomediastinum: 0.2975 - f2_score_cardiomegaly: 0.4026 - f2_score_lung_opacity: 0.6888 - f2_score_lung_lesion: 0.2577 - f2_score_edema: 0.6637 - f2_score_consolidation: 0.2839 - f2_score_pneumonia: 0.3600 - f2_score_atelectasis: 0.6116 - f2_score_pneumothorax: 0.3506 - f2_score_pleural_effusion: 0.7023 - f2_score_pleural_other: 0.2945 - f2_score_fracture: 0.3339 - learning rate: 1.0000e-04"
     ]
    }
   ],
   "source": [
    "bce_chexpert_exp.train()"
   ]
  },
  {
   "cell_type": "code",
   "execution_count": null,
   "metadata": {},
   "outputs": [],
   "source": [
    "bce_chexpert_exp.evaluate()"
   ]
  },
  {
   "cell_type": "code",
   "execution_count": null,
   "metadata": {},
   "outputs": [],
   "source": [
    "bce_chexpert_exp.save()"
   ]
  },
  {
   "cell_type": "code",
   "execution_count": 9,
   "metadata": {},
   "outputs": [
    {
     "data": {
      "text/plain": [
       "'test'"
      ]
     },
     "execution_count": 9,
     "metadata": {},
     "output_type": "execute_result"
    }
   ],
   "source": []
  },
  {
   "cell_type": "code",
   "execution_count": null,
   "metadata": {},
   "outputs": [],
   "source": []
  }
 ],
 "metadata": {
  "kernelspec": {
   "display_name": "Python 3",
   "language": "python",
   "name": "python3"
  },
  "language_info": {
   "codemirror_mode": {
    "name": "ipython",
    "version": 3
   },
   "file_extension": ".py",
   "mimetype": "text/x-python",
   "name": "python",
   "nbconvert_exporter": "python",
   "pygments_lexer": "ipython3",
   "version": "3.6.9"
  }
 },
 "nbformat": 4,
 "nbformat_minor": 4
}
