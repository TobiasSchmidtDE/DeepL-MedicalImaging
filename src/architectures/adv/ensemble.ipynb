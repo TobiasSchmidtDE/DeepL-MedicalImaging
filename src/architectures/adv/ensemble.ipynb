{
 "cells": [
  {
   "cell_type": "code",
   "execution_count": 1,
   "metadata": {},
   "outputs": [
    {
     "name": "stdout",
     "output_type": "stream",
     "text": [
      "Device mapping:\n",
      "/job:localhost/replica:0/task:0/device:GPU:0 -> device: 0, name: GeForce RTX 2080 Ti, pci bus id: 0000:04:00.0, compute capability: 7.5\n",
      "\n"
     ]
    }
   ],
   "source": [
    "import os \n",
    "import datetime\n",
    "from pathlib import Path\n",
    "from dotenv import load_dotenv, find_dotenv\n",
    "\n",
    "basepath = Path(os.getcwd())\n",
    "# make sure your working directory is the repository root.\n",
    "if basepath.name != \"idp-radio-1\":\n",
    "    os.chdir(basepath.parent.parent.parent)\n",
    "load_dotenv(find_dotenv())\n",
    "\n",
    "%load_ext autoreload\n",
    "%autoreload 2\n",
    "os.getcwd()\n",
    "\n",
    "import os \n",
    "import tensorflow as tf\n",
    "from pathlib import Path\n",
    "import cv2\n",
    "\n",
    "# Run this before loading other dependencies, otherwise they might occupy memory on gpu 0 by default and it will stay that way\n",
    "\n",
    "# Specify which GPU(s) to use\n",
    "os.environ[\"CUDA_VISIBLE_DEVICES\"] = \"1\"  # Or 2, 3, etc. other than 0\n",
    "\n",
    "config = tf.compat.v1.ConfigProto(device_count={'GPU': 1}, allow_soft_placement=True, log_device_placement=True)\n",
    "config.gpu_options.allow_growth = True\n",
    "config.gpu_options.per_process_gpu_memory_fraction = 1.0\n",
    "tf.compat.v1.Session(config=config)\n",
    "\n",
    "from tensorflow.keras.applications.inception_v3 import InceptionV3\n",
    "from tensorflow.keras.applications.densenet import DenseNet121\n",
    "from tensorflow.keras.applications.resnet_v2 import ResNet101V2\n",
    "from tensorflow.keras.applications.inception_resnet_v2 import InceptionResNetV2\n",
    "from src.architectures.simple.simple_base import SimpleBaseArchitecture\n",
    "from src.architectures.adv.guendel19 import densenet\n",
    "import numpy as np\n",
    "\n",
    "from src.architectures.benchmarks.benchmark import Benchmark, Experiment\n",
    "from tensorflow.keras.optimizers import Adam, SGD\n",
    "from src.architectures.benchmarks.benchmark_definitions import Chexpert_Benchmark, Chestxray14_Benchmark, simple_architecture_experiment, generate_benchmarks, METRICS, SINGLE_CLASS_METRICS, CHEXPERT_COLUMNS, CHESTXRAY14_COLUMNS\n",
    "from src.metrics.metrics import F2Score\n",
    "from src.metrics.losses import WeightedBinaryCrossentropy, BinaryCrossentropy, compute_class_weight\n"
   ]
  },
  {
   "cell_type": "code",
   "execution_count": 2,
   "metadata": {},
   "outputs": [],
   "source": [
    "columns_12 = ['Enlarged Cardiomediastinum',\n",
    "                    'Cardiomegaly',\n",
    "                    'Lung Opacity',\n",
    "                    'Lung Lesion',\n",
    "                    'Edema',\n",
    "                    'Consolidation',\n",
    "                    'Pneumonia',\n",
    "                    'Atelectasis',\n",
    "                    'Pneumothorax',\n",
    "                    'Pleural Effusion',\n",
    "                    'Pleural Other',\n",
    "                    'Fracture']\n",
    "columns_5 =  ['Cardiomegaly',\n",
    "                'Edema',\n",
    "                'Consolidation',\n",
    "                'Atelectasis',\n",
    "                'Pleural Effusion']\n",
    "\n",
    "uzeros = ['Cardiomegaly',\n",
    "        'Enlarged Cardiomediastinum',\n",
    "        'Lung Opacity',\n",
    "        'Lung Lesion',\n",
    "        'Consolidation',\n",
    "        'Pneumothorax',\n",
    "        'Pleural Effusion']\n",
    "\n",
    "uones = ['Edema',\n",
    "        'Atelectasis',\n",
    "        'Fracture',\n",
    "        'Pleural Other',\n",
    "        'Pneumonia',]\n",
    "\n",
    "upsample_factors = {\n",
    "    \"Enlarged Cardiomediastinum\": 1,\n",
    "    \"Lung Lesion\":1,\n",
    "    #\"Pneumothorax\":1,\n",
    "    #\"Pneumonia\":1,\n",
    "    \"Pleural Other\":2,\n",
    "    \"Fracture\":2,\n",
    "}\n",
    "transformations_0 = {\"hist_equalization\":{}}\n",
    "transformations_1 = { \"gaussian_blur\":{\"kernal_size\":3}, \"hist_equalization\":{}}\n",
    "transformations_2 = {\"unsharp_mask\":{\"radius\":2, \"amount\":1}}\n",
    "transformations_3 = {\"windowing\"}\n",
    "transformations_4 = {}"
   ]
  },
  {
   "cell_type": "code",
   "execution_count": 3,
   "metadata": {},
   "outputs": [
    {
     "name": "stdout",
     "output_type": "stream",
     "text": [
      "Initialzed custom_binary_crossentropy with epsilon 1e-05\n"
     ]
    }
   ],
   "source": [
    "bce_benchmark = Chexpert_Benchmark (path = Path(os.environ.get(\"CHEXPERT_DATASET_DIRECTORY\")),\n",
    "                                             name=\"Chexpert_BCE_NoNorm_E5_B32_C0_N12_AugAffine_sharp21_U75_D256_DS9505_1LR4_LF1_Adam_Upsampled\",\n",
    "                                             classes=columns_12,\n",
    "                                             train_labels = \"train.csv\",\n",
    "                                             test_labels = \"test.csv\",\n",
    "                                             nan_replacement = 0, #float(\"NaN\"),\n",
    "                                             u_enc = [uzeros, uones],\n",
    "                                             epochs=5,\n",
    "                                             batch_size=32,\n",
    "                                             crop = False,\n",
    "                                             dim=(256, 256),\n",
    "                                             loss = BinaryCrossentropy(),\n",
    "                                             use_class_weights = False,\n",
    "                                             upsample_factors = upsample_factors,\n",
    "                                             metrics=METRICS,\n",
    "                                             single_class_metrics=SINGLE_CLASS_METRICS,\n",
    "                                             optimizer = Adam(learning_rate=1e-4, clipnorm=1),\n",
    "                                             lr_factor = 0.1,\n",
    "                                             augmentation = \"affine\",\n",
    "                                             transformations = transformations_4,\n",
    "                                             split_seed = 6122156,\n",
    "                                             split_valid_size = 0.05, \n",
    "                                             preprocess_input_fn = tf.keras.applications.xception.preprocess_input)\n",
    "\n",
    "\n",
    "bce_benchmark.loss = WeightedBinaryCrossentropy(bce_benchmark.positive_weights,\n",
    "                                                bce_benchmark.negative_weights)"
   ]
  },
  {
   "cell_type": "code",
   "execution_count": 4,
   "metadata": {},
   "outputs": [],
   "source": [
    "from tensorflow.keras.applications.xception import Xception\n",
    "from tensorflow.keras.layers import Dense, GlobalAveragePooling2D\n",
    "from tensorflow.keras.models import Model\n",
    "\n",
    "base_model = Xception(include_top=False, weights='imagenet')\n",
    "x = base_model.output\n",
    "x = GlobalAveragePooling2D()(x)\n",
    "x = Dense(1024, activation='relu')(x)\n",
    "\n",
    "prediction_layer = Dense(12, activation='sigmoid')(x)\n",
    "model = Model(inputs=base_model.input, outputs=prediction_layer)\n",
    "model.simple_name = \"Xception-2\"\n",
    "bce_chexpert_exp = Experiment(bce_benchmark, model)"
   ]
  },
  {
   "cell_type": "code",
   "execution_count": 5,
   "metadata": {},
   "outputs": [
    {
     "name": "stdout",
     "output_type": "stream",
     "text": [
      "WARNING:tensorflow:Automatic model reloading for interrupted job was removed from the `ModelCheckpoint` callback in multi-worker mode, please use the `keras.callbacks.experimental.BackupAndRestore` callback instead. See this tutorial for details: https://www.tensorflow.org/tutorials/distribute/multi_worker_with_keras#backupandrestore_callback.\n",
      "Epoch 1/5\n",
      "8344/8344 [==============================] - ETA: 0s - loss: 0.2647 - auc: 0.7277 - precision: 0.6688 - recall: 0.0792 - f2_score: 0.0958 - binary_accuracy: 0.8278 - accuracy_enlarged_cardiomediastinum: 0.9035 - accuracy_cardiomegaly: 0.8878 - accuracy_lung_opacity: 0.5273 - accuracy_lung_lesion: 0.9175 - accuracy_edema: 0.7643 - accuracy_consolidation: 0.9335 - accuracy_pneumonia: 0.8921 - accuracy_atelectasis: 0.7085 - accuracy_pneumothorax: 0.9134 - accuracy_pleural_effusion: 0.6983 - accuracy_pleural_other: 0.9117 - accuracy_fracture: 0.8758 - auc_enlarged_cardiomediastinum: 0.6297 - auc_cardiomegaly: 0.7813 - auc_lung_opacity: 0.6896 - auc_lung_lesion: 0.7127 - auc_edema: 0.8128 - auc_consolidation: 0.6918 - auc_pneumonia: 0.6807 - auc_atelectasis: 0.6700 - auc_pneumothorax: 0.7669 - auc_pleural_effusion: 0.8258 - auc_pleural_other: 0.7688 - auc_fracture: 0.7020 - precision_enlarged_cardiomediastinum: 0.5064 - precision_cardiomegaly: 0.5545 - precision_lung_opacity: 0.5843 - precision_lung_lesion: 0.4213 - precision_edema: 0.7423 - precision_consolidation: 0.2657 - precision_pneumonia: 0.4190 - precision_atelectasis: 0.3097 - precision_pneumothorax: 0.4840 - precision_pleural_effusion: 0.8278 - precision_pleural_other: 0.4303 - precision_fracture: 0.5532 - recall_enlarged_cardiomediastinum: 0.0302 - recall_cardiomegaly: 0.1757 - recall_lung_opacity: 0.0024 - recall_lung_lesion: 0.0359 - recall_edema: 0.1518 - recall_consolidation: 0.0137 - recall_pneumonia: 0.0182 - recall_atelectasis: 3.5033e-05 - recall_pneumothorax: 0.1546 - recall_pleural_effusion: 0.1987 - recall_pleural_other: 0.0894 - recall_fracture: 0.0576 - f2_score_enlarged_cardiomediastinum: 0.0370 - f2_score_cardiomegaly: 0.2023 - f2_score_lung_opacity: 0.0028 - f2_score_lung_lesion: 0.0436 - f2_score_edema: 0.1798 - f2_score_consolidation: 0.0169 - f2_score_pneumonia: 0.0225 - f2_score_atelectasis: 4.3789e-05 - f2_score_pneumothorax: 0.1776 - f2_score_pleural_effusion: 0.2331 - f2_score_pleural_other: 0.1056 - f2_score_fracture: 0.0698 - learning rate: 1.0000e-04INFO:tensorflow:Summary name epoch_learning rate is illegal; using epoch_learning_rate instead.\n",
      "\n",
      "Epoch 00001: saving model to models/Xception-2_Chexpert_BCE_NoNorm_E5_B32_C0_N12_AugAffine_sharp21_U75_D256_DS9505_1LR4_LF1_Adam_Upsampled/weights.01-0.22.hdf5\n",
      "8344/8344 [==============================] - 4301s 515ms/step - loss: 0.2647 - auc: 0.7277 - precision: 0.6688 - recall: 0.0792 - f2_score: 0.0958 - binary_accuracy: 0.8278 - accuracy_enlarged_cardiomediastinum: 0.9035 - accuracy_cardiomegaly: 0.8878 - accuracy_lung_opacity: 0.5273 - accuracy_lung_lesion: 0.9175 - accuracy_edema: 0.7643 - accuracy_consolidation: 0.9335 - accuracy_pneumonia: 0.8921 - accuracy_atelectasis: 0.7085 - accuracy_pneumothorax: 0.9134 - accuracy_pleural_effusion: 0.6984 - accuracy_pleural_other: 0.9117 - accuracy_fracture: 0.8758 - auc_enlarged_cardiomediastinum: 0.6297 - auc_cardiomegaly: 0.7813 - auc_lung_opacity: 0.6897 - auc_lung_lesion: 0.7127 - auc_edema: 0.8128 - auc_consolidation: 0.6918 - auc_pneumonia: 0.6807 - auc_atelectasis: 0.6700 - auc_pneumothorax: 0.7669 - auc_pleural_effusion: 0.8259 - auc_pleural_other: 0.7688 - auc_fracture: 0.7020 - precision_enlarged_cardiomediastinum: 0.5064 - precision_cardiomegaly: 0.5545 - precision_lung_opacity: 0.5843 - precision_lung_lesion: 0.4213 - precision_edema: 0.7423 - precision_consolidation: 0.2657 - precision_pneumonia: 0.4190 - precision_atelectasis: 0.3097 - precision_pneumothorax: 0.4840 - precision_pleural_effusion: 0.8278 - precision_pleural_other: 0.4303 - precision_fracture: 0.5532 - recall_enlarged_cardiomediastinum: 0.0302 - recall_cardiomegaly: 0.1757 - recall_lung_opacity: 0.0024 - recall_lung_lesion: 0.0359 - recall_edema: 0.1518 - recall_consolidation: 0.0137 - recall_pneumonia: 0.0182 - recall_atelectasis: 3.5044e-05 - recall_pneumothorax: 0.1546 - recall_pleural_effusion: 0.1987 - recall_pleural_other: 0.0895 - recall_fracture: 0.0576 - f2_score_enlarged_cardiomediastinum: 0.0370 - f2_score_cardiomegaly: 0.2023 - f2_score_lung_opacity: 0.0028 - f2_score_lung_lesion: 0.0436 - f2_score_edema: 0.1798 - f2_score_consolidation: 0.0169 - f2_score_pneumonia: 0.0225 - f2_score_atelectasis: 4.3803e-05 - f2_score_pneumothorax: 0.1776 - f2_score_pleural_effusion: 0.2331 - f2_score_pleural_other: 0.1056 - f2_score_fracture: 0.0698 - learning rate: 1.0000e-04 - val_loss: 0.2163 - val_auc: 0.7807 - val_precision: 0.6389 - val_recall: 0.1229 - val_f2_score: 0.1466 - val_binary_accuracy: 0.8433 - val_accuracy_enlarged_cardiomediastinum: 0.9452 - val_accuracy_cardiomegaly: 0.8875 - val_accuracy_lung_opacity: 0.5338 - val_accuracy_lung_lesion: 0.9545 - val_accuracy_edema: 0.7470 - val_accuracy_consolidation: 0.9355 - val_accuracy_pneumonia: 0.8948 - val_accuracy_atelectasis: 0.7030 - val_accuracy_pneumothorax: 0.9192 - val_accuracy_pleural_effusion: 0.6900 - val_accuracy_pleural_other: 0.9580 - val_accuracy_fracture: 0.9500 - val_auc_enlarged_cardiomediastinum: 0.6520 - val_auc_cardiomegaly: 0.8642 - val_auc_lung_opacity: 0.7398 - val_auc_lung_lesion: 0.7657 - val_auc_edema: 0.8523 - val_auc_consolidation: 0.7577 - val_auc_pneumonia: 0.7384 - val_auc_atelectasis: 0.7091 - val_auc_pneumothorax: 0.8497 - val_auc_pleural_effusion: 0.8651 - val_auc_pleural_other: 0.7907 - val_auc_fracture: 0.7838 - val_precision_enlarged_cardiomediastinum: 0.2153 - val_precision_cardiomegaly: 0.6263 - val_precision_lung_opacity: 0.7200 - val_precision_lung_lesion: 0.3529 - val_precision_edema: 0.8175 - val_precision_consolidation: 0.3615 - val_precision_pneumonia: 0.4724 - val_precision_atelectasis: 1.0000 - val_precision_pneumothorax: 0.5316 - val_precision_pleural_effusion: 0.8922 - val_precision_pleural_other: 0.1693 - val_precision_fracture: 0.3846 - val_recall_enlarged_cardiomediastinum: 0.0559 - val_recall_cardiomegaly: 0.3680 - val_recall_lung_opacity: 0.0033 - val_recall_lung_lesion: 0.1116 - val_recall_edema: 0.1594 - val_recall_consolidation: 0.0659 - val_recall_pneumonia: 0.0494 - val_recall_atelectasis: 5.8055e-04 - val_recall_pneumothorax: 0.3690 - val_recall_pleural_effusion: 0.2314 - val_recall_pleural_other: 0.1365 - val_recall_fracture: 0.1404 - val_f2_score_enlarged_cardiomediastinum: 0.0656 - val_f2_score_cardiomegaly: 0.4011 - val_f2_score_lung_opacity: 0.0042 - val_f2_score_lung_lesion: 0.1292 - val_f2_score_edema: 0.1900 - val_f2_score_consolidation: 0.0788 - val_f2_score_pneumonia: 0.0602 - val_f2_score_atelectasis: 7.2558e-04 - val_f2_score_pneumothorax: 0.3931 - val_f2_score_pleural_effusion: 0.2716 - val_f2_score_pleural_other: 0.1420 - val_f2_score_fracture: 0.1609\n",
      "Epoch 2/5\n",
      "8344/8344 [==============================] - ETA: 0s - loss: 0.2274 - auc: 0.8205 - precision: 0.7260 - recall: 0.1886 - f2_score: 0.2213 - binary_accuracy: 0.8412 - accuracy_enlarged_cardiomediastinum: 0.9088 - accuracy_cardiomegaly: 0.9004 - accuracy_lung_opacity: 0.5298 - accuracy_lung_lesion: 0.9263 - accuracy_edema: 0.7923 - accuracy_consolidation: 0.9338 - accuracy_pneumonia: 0.8928 - accuracy_atelectasis: 0.7097 - accuracy_pneumothorax: 0.9260 - accuracy_pleural_effusion: 0.7496 - accuracy_pleural_other: 0.9284 - accuracy_fracture: 0.8960 - auc_enlarged_cardiomediastinum: 0.7497 - auc_cardiomegaly: 0.8663 - auc_lung_opacity: 0.7359 - auc_lung_lesion: 0.8425 - auc_edema: 0.8639 - auc_consolidation: 0.7777 - auc_pneumonia: 0.7675 - auc_atelectasis: 0.7270 - auc_pneumothorax: 0.8843 - auc_pleural_effusion: 0.8827 - auc_pleural_other: 0.8993 - auc_fracture: 0.8491 - precision_enlarged_cardiomediastinum: 0.6494 - precision_cardiomegaly: 0.6407 - precision_lung_opacity: 0.8488 - precision_lung_lesion: 0.6313 - precision_edema: 0.8032 - precision_consolidation: 0.4428 - precision_pneumonia: 0.5367 - precision_atelectasis: 0.7972 - precision_pneumothorax: 0.6004 - precision_pleural_effusion: 0.8787 - precision_pleural_other: 0.6378 - precision_fracture: 0.7191 - recall_enlarged_cardiomediastinum: 0.1429 - recall_cardiomegaly: 0.3504 - recall_lung_opacity: 0.0065 - recall_lung_lesion: 0.2535 - recall_edema: 0.2828 - recall_consolidation: 0.0840 - recall_pneumonia: 0.0928 - recall_atelectasis: 0.0037 - recall_pneumothorax: 0.4189 - recall_pleural_effusion: 0.3563 - recall_pleural_other: 0.4080 - recall_fracture: 0.2892 - f2_score_enlarged_cardiomediastinum: 0.1693 - f2_score_cardiomegaly: 0.3852 - f2_score_lung_opacity: 0.0081 - f2_score_lung_lesion: 0.2879 - f2_score_edema: 0.3248 - f2_score_consolidation: 0.1001 - f2_score_pneumonia: 0.1111 - f2_score_atelectasis: 0.0047 - f2_score_pneumothorax: 0.4458 - f2_score_pleural_effusion: 0.4044 - f2_score_pleural_other: 0.4395 - f2_score_fracture: 0.3282 - learning rate: 1.0000e-05INFO:tensorflow:Summary name epoch_learning rate is illegal; using epoch_learning_rate instead.\n",
      "\n",
      "Epoch 00002: saving model to models/Xception-2_Chexpert_BCE_NoNorm_E5_B32_C0_N12_AugAffine_sharp21_U75_D256_DS9505_1LR4_LF1_Adam_Upsampled/weights.02-0.21.hdf5\n",
      "8344/8344 [==============================] - 4263s 511ms/step - loss: 0.2274 - auc: 0.8205 - precision: 0.7260 - recall: 0.1886 - f2_score: 0.2213 - binary_accuracy: 0.8412 - accuracy_enlarged_cardiomediastinum: 0.9088 - accuracy_cardiomegaly: 0.9004 - accuracy_lung_opacity: 0.5298 - accuracy_lung_lesion: 0.9263 - accuracy_edema: 0.7923 - accuracy_consolidation: 0.9338 - accuracy_pneumonia: 0.8928 - accuracy_atelectasis: 0.7097 - accuracy_pneumothorax: 0.9260 - accuracy_pleural_effusion: 0.7496 - accuracy_pleural_other: 0.9284 - accuracy_fracture: 0.8960 - auc_enlarged_cardiomediastinum: 0.7497 - auc_cardiomegaly: 0.8663 - auc_lung_opacity: 0.7359 - auc_lung_lesion: 0.8425 - auc_edema: 0.8639 - auc_consolidation: 0.7777 - auc_pneumonia: 0.7675 - auc_atelectasis: 0.7270 - auc_pneumothorax: 0.8843 - auc_pleural_effusion: 0.8827 - auc_pleural_other: 0.8993 - auc_fracture: 0.8491 - precision_enlarged_cardiomediastinum: 0.6494 - precision_cardiomegaly: 0.6407 - precision_lung_opacity: 0.8488 - precision_lung_lesion: 0.6313 - precision_edema: 0.8032 - precision_consolidation: 0.4428 - precision_pneumonia: 0.5367 - precision_atelectasis: 0.7972 - precision_pneumothorax: 0.6004 - precision_pleural_effusion: 0.8787 - precision_pleural_other: 0.6378 - precision_fracture: 0.7191 - recall_enlarged_cardiomediastinum: 0.1429 - recall_cardiomegaly: 0.3504 - recall_lung_opacity: 0.0065 - recall_lung_lesion: 0.2536 - recall_edema: 0.2828 - recall_consolidation: 0.0840 - recall_pneumonia: 0.0928 - recall_atelectasis: 0.0037 - recall_pneumothorax: 0.4189 - recall_pleural_effusion: 0.3563 - recall_pleural_other: 0.4080 - recall_fracture: 0.2892 - f2_score_enlarged_cardiomediastinum: 0.1693 - f2_score_cardiomegaly: 0.3852 - f2_score_lung_opacity: 0.0081 - f2_score_lung_lesion: 0.2879 - f2_score_edema: 0.3248 - f2_score_consolidation: 0.1001 - f2_score_pneumonia: 0.1111 - f2_score_atelectasis: 0.0047 - f2_score_pneumothorax: 0.4458 - f2_score_pleural_effusion: 0.4044 - f2_score_pleural_other: 0.4395 - f2_score_fracture: 0.3282 - learning rate: 1.0000e-05 - val_loss: 0.2117 - val_auc: 0.7873 - val_precision: 0.6546 - val_recall: 0.1785 - val_f2_score: 0.2088 - val_binary_accuracy: 0.8484 - val_accuracy_enlarged_cardiomediastinum: 0.9452 - val_accuracy_cardiomegaly: 0.8882 - val_accuracy_lung_opacity: 0.5341 - val_accuracy_lung_lesion: 0.9490 - val_accuracy_edema: 0.7806 - val_accuracy_consolidation: 0.9325 - val_accuracy_pneumonia: 0.8927 - val_accuracy_atelectasis: 0.7047 - val_accuracy_pneumothorax: 0.9238 - val_accuracy_pleural_effusion: 0.7270 - val_accuracy_pleural_other: 0.9552 - val_accuracy_fracture: 0.9481 - val_auc_enlarged_cardiomediastinum: 0.6671 - val_auc_cardiomegaly: 0.8690 - val_auc_lung_opacity: 0.7438 - val_auc_lung_lesion: 0.7753 - val_auc_edema: 0.8591 - val_auc_consolidation: 0.7621 - val_auc_pneumonia: 0.7490 - val_auc_atelectasis: 0.7183 - val_auc_pneumothorax: 0.8557 - val_auc_pleural_effusion: 0.8700 - val_auc_pleural_other: 0.7967 - val_auc_fracture: 0.7818 - val_precision_enlarged_cardiomediastinum: 0.2403 - val_precision_cardiomegaly: 0.6387 - val_precision_lung_opacity: 0.6875 - val_precision_lung_lesion: 0.3174 - val_precision_edema: 0.7732 - val_precision_consolidation: 0.3301 - val_precision_pneumonia: 0.4444 - val_precision_atelectasis: 0.7045 - val_precision_pneumothorax: 0.5840 - val_precision_pleural_effusion: 0.8612 - val_precision_pleural_other: 0.1645 - val_precision_fracture: 0.3550 - val_recall_enlarged_cardiomediastinum: 0.0667 - val_recall_cardiomegaly: 0.3536 - val_recall_lung_opacity: 0.0020 - val_recall_lung_lesion: 0.1921 - val_recall_edema: 0.3385 - val_recall_consolidation: 0.0968 - val_recall_pneumonia: 0.0988 - val_recall_atelectasis: 0.0090 - val_recall_pneumothorax: 0.3507 - val_recall_pleural_effusion: 0.3551 - val_recall_pleural_other: 0.1587 - val_recall_fracture: 0.1536 - val_f2_score_enlarged_cardiomediastinum: 0.0779 - val_f2_score_cardiomegaly: 0.3883 - val_f2_score_lung_opacity: 0.0025 - val_f2_score_lung_lesion: 0.2086 - val_f2_score_edema: 0.3814 - val_f2_score_consolidation: 0.1127 - val_f2_score_pneumonia: 0.1170 - val_f2_score_atelectasis: 0.0112 - val_f2_score_pneumothorax: 0.3811 - val_f2_score_pleural_effusion: 0.4024 - val_f2_score_pleural_other: 0.1598 - val_f2_score_fracture: 0.1732\n",
      "Epoch 3/5\n",
      "8344/8344 [==============================] - ETA: 0s - loss: 0.2166 - auc: 0.8380 - precision: 0.7432 - recall: 0.2136 - f2_score: 0.2491 - binary_accuracy: 0.8459 - accuracy_enlarged_cardiomediastinum: 0.9119 - accuracy_cardiomegaly: 0.9036 - accuracy_lung_opacity: 0.5329 - accuracy_lung_lesion: 0.9309 - accuracy_edema: 0.7979 - accuracy_consolidation: 0.9353 - accuracy_pneumonia: 0.8960 - accuracy_atelectasis: 0.7105 - accuracy_pneumothorax: 0.9298 - accuracy_pleural_effusion: 0.7569 - accuracy_pleural_other: 0.9390 - accuracy_fracture: 0.9057 - auc_enlarged_cardiomediastinum: 0.7835 - auc_cardiomegaly: 0.8758 - auc_lung_opacity: 0.7436 - auc_lung_lesion: 0.8712 - auc_edema: 0.8680 - auc_consolidation: 0.7991 - auc_pneumonia: 0.7807 - auc_atelectasis: 0.7336 - auc_pneumothorax: 0.9020 - auc_pleural_effusion: 0.8877 - auc_pleural_other: 0.9308 - auc_fracture: 0.8802 - precision_enlarged_cardiomediastinum: 0.6803 - precision_cardiomegaly: 0.6548 - precision_lung_opacity: 0.8722 - precision_lung_lesion: 0.6542 - precision_edema: 0.8037 - precision_consolidation: 0.4628 - precision_pneumonia: 0.5527 - precision_atelectasis: 0.7750 - precision_pneumothorax: 0.6316 - precision_pleural_effusion: 0.8881 - precision_pleural_other: 0.6992 - precision_fracture: 0.7524 - recall_enlarged_cardiomediastinum: 0.1699 - recall_cardiomegaly: 0.3831 - recall_lung_opacity: 0.0065 - recall_lung_lesion: 0.3378 - recall_edema: 0.3029 - recall_consolidation: 0.1062 - recall_pneumonia: 0.1030 - recall_atelectasis: 0.0058 - recall_pneumothorax: 0.4659 - recall_pleural_effusion: 0.3753 - recall_pleural_other: 0.5170 - recall_fracture: 0.3743 - f2_score_enlarged_cardiomediastinum: 0.1999 - f2_score_cardiomegaly: 0.4178 - f2_score_lung_opacity: 0.0081 - f2_score_lung_lesion: 0.3739 - f2_score_edema: 0.3460 - f2_score_consolidation: 0.1255 - f2_score_pneumonia: 0.1230 - f2_score_atelectasis: 0.0073 - f2_score_pneumothorax: 0.4917 - f2_score_pleural_effusion: 0.4243 - f2_score_pleural_other: 0.5453 - f2_score_fracture: 0.4161 - learning rate: 1.0000e-06INFO:tensorflow:Summary name epoch_learning rate is illegal; using epoch_learning_rate instead.\n",
      "\n",
      "Epoch 00003: saving model to models/Xception-2_Chexpert_BCE_NoNorm_E5_B32_C0_N12_AugAffine_sharp21_U75_D256_DS9505_1LR4_LF1_Adam_Upsampled/weights.03-0.21.hdf5\n",
      "8344/8344 [==============================] - 4294s 515ms/step - loss: 0.2166 - auc: 0.8380 - precision: 0.7432 - recall: 0.2136 - f2_score: 0.2491 - binary_accuracy: 0.8459 - accuracy_enlarged_cardiomediastinum: 0.9119 - accuracy_cardiomegaly: 0.9036 - accuracy_lung_opacity: 0.5329 - accuracy_lung_lesion: 0.9309 - accuracy_edema: 0.7979 - accuracy_consolidation: 0.9353 - accuracy_pneumonia: 0.8960 - accuracy_atelectasis: 0.7105 - accuracy_pneumothorax: 0.9298 - accuracy_pleural_effusion: 0.7569 - accuracy_pleural_other: 0.9390 - accuracy_fracture: 0.9057 - auc_enlarged_cardiomediastinum: 0.7835 - auc_cardiomegaly: 0.8758 - auc_lung_opacity: 0.7436 - auc_lung_lesion: 0.8712 - auc_edema: 0.8680 - auc_consolidation: 0.7991 - auc_pneumonia: 0.7807 - auc_atelectasis: 0.7336 - auc_pneumothorax: 0.9020 - auc_pleural_effusion: 0.8877 - auc_pleural_other: 0.9308 - auc_fracture: 0.8802 - precision_enlarged_cardiomediastinum: 0.6803 - precision_cardiomegaly: 0.6548 - precision_lung_opacity: 0.8722 - precision_lung_lesion: 0.6542 - precision_edema: 0.8037 - precision_consolidation: 0.4628 - precision_pneumonia: 0.5527 - precision_atelectasis: 0.7750 - precision_pneumothorax: 0.6316 - precision_pleural_effusion: 0.8881 - precision_pleural_other: 0.6992 - precision_fracture: 0.7524 - recall_enlarged_cardiomediastinum: 0.1699 - recall_cardiomegaly: 0.3831 - recall_lung_opacity: 0.0065 - recall_lung_lesion: 0.3378 - recall_edema: 0.3029 - recall_consolidation: 0.1062 - recall_pneumonia: 0.1030 - recall_atelectasis: 0.0058 - recall_pneumothorax: 0.4659 - recall_pleural_effusion: 0.3753 - recall_pleural_other: 0.5170 - recall_fracture: 0.3743 - f2_score_enlarged_cardiomediastinum: 0.1999 - f2_score_cardiomegaly: 0.4178 - f2_score_lung_opacity: 0.0081 - f2_score_lung_lesion: 0.3739 - f2_score_edema: 0.3460 - f2_score_consolidation: 0.1255 - f2_score_pneumonia: 0.1230 - f2_score_atelectasis: 0.0073 - f2_score_pneumothorax: 0.4917 - f2_score_pleural_effusion: 0.4243 - f2_score_pleural_other: 0.5453 - f2_score_fracture: 0.4161 - learning rate: 1.0000e-06 - val_loss: 0.2126 - val_auc: 0.7869 - val_precision: 0.6401 - val_recall: 0.1864 - val_f2_score: 0.2172 - val_binary_accuracy: 0.8480 - val_accuracy_enlarged_cardiomediastinum: 0.9442 - val_accuracy_cardiomegaly: 0.8880 - val_accuracy_lung_opacity: 0.5346 - val_accuracy_lung_lesion: 0.9500 - val_accuracy_edema: 0.7823 - val_accuracy_consolidation: 0.9287 - val_accuracy_pneumonia: 0.8931 - val_accuracy_atelectasis: 0.7045 - val_accuracy_pneumothorax: 0.9235 - val_accuracy_pleural_effusion: 0.7297 - val_accuracy_pleural_other: 0.9508 - val_accuracy_fracture: 0.9456 - val_auc_enlarged_cardiomediastinum: 0.6680 - val_auc_cardiomegaly: 0.8688 - val_auc_lung_opacity: 0.7441 - val_auc_lung_lesion: 0.7703 - val_auc_edema: 0.8595 - val_auc_consolidation: 0.7611 - val_auc_pneumonia: 0.7494 - val_auc_atelectasis: 0.7189 - val_auc_pneumothorax: 0.8561 - val_auc_pleural_effusion: 0.8700 - val_auc_pleural_other: 0.7976 - val_auc_fracture: 0.7788 - val_precision_enlarged_cardiomediastinum: 0.2486 - val_precision_cardiomegaly: 0.6251 - val_precision_lung_opacity: 0.7500 - val_precision_lung_lesion: 0.3273 - val_precision_edema: 0.7686 - val_precision_consolidation: 0.2824 - val_precision_pneumonia: 0.4606 - val_precision_atelectasis: 0.7250 - val_precision_pneumothorax: 0.5732 - val_precision_pleural_effusion: 0.8634 - val_precision_pleural_other: 0.1534 - val_precision_fracture: 0.3205 - val_recall_enlarged_cardiomediastinum: 0.0811 - val_recall_cardiomegaly: 0.3771 - val_recall_lung_opacity: 0.0050 - val_recall_lung_lesion: 0.1860 - val_recall_edema: 0.3496 - val_recall_consolidation: 0.1038 - val_recall_pneumonia: 0.1202 - val_recall_atelectasis: 0.0084 - val_recall_pneumothorax: 0.3751 - val_recall_pleural_effusion: 0.3618 - val_recall_pleural_other: 0.1778 - val_recall_fracture: 0.1554 - val_f2_score_enlarged_cardiomediastinum: 0.0937 - val_f2_score_cardiomegaly: 0.4096 - val_f2_score_lung_opacity: 0.0062 - val_f2_score_lung_lesion: 0.2035 - val_f2_score_edema: 0.3924 - val_f2_score_consolidation: 0.1188 - val_f2_score_pneumonia: 0.1410 - val_f2_score_atelectasis: 0.0105 - val_f2_score_pneumothorax: 0.4030 - val_f2_score_pleural_effusion: 0.4094 - val_f2_score_pleural_other: 0.1723 - val_f2_score_fracture: 0.1733\n",
      "Epoch 4/5\n",
      "8344/8344 [==============================] - ETA: 0s - loss: 0.2153 - auc: 0.8400 - precision: 0.7398 - recall: 0.2186 - f2_score: 0.2545 - binary_accuracy: 0.8460 - accuracy_enlarged_cardiomediastinum: 0.9130 - accuracy_cardiomegaly: 0.9040 - accuracy_lung_opacity: 0.5313 - accuracy_lung_lesion: 0.9327 - accuracy_edema: 0.7971 - accuracy_consolidation: 0.9335 - accuracy_pneumonia: 0.8942 - accuracy_atelectasis: 0.7121 - accuracy_pneumothorax: 0.9298 - accuracy_pleural_effusion: 0.7568 - accuracy_pleural_other: 0.9408 - accuracy_fracture: 0.9065 - auc_enlarged_cardiomediastinum: 0.7852 - auc_cardiomegaly: 0.8781 - auc_lung_opacity: 0.7443 - auc_lung_lesion: 0.8779 - auc_edema: 0.8706 - auc_consolidation: 0.7949 - auc_pneumonia: 0.7813 - auc_atelectasis: 0.7377 - auc_pneumothorax: 0.9028 - auc_pleural_effusion: 0.8879 - auc_pleural_other: 0.9352 - auc_fracture: 0.8844 - precision_enlarged_cardiomediastinum: 0.6758 - precision_cardiomegaly: 0.6502 - precision_lung_opacity: 0.8502 - precision_lung_lesion: 0.6748 - precision_edema: 0.8021 - precision_consolidation: 0.4418 - precision_pneumonia: 0.5434 - precision_atelectasis: 0.8169 - precision_pneumothorax: 0.6182 - precision_pleural_effusion: 0.8867 - precision_pleural_other: 0.6997 - precision_fracture: 0.7527 - recall_enlarged_cardiomediastinum: 0.1849 - recall_cardiomegaly: 0.3829 - recall_lung_opacity: 0.0086 - recall_lung_lesion: 0.3434 - recall_edema: 0.3065 - recall_consolidation: 0.1147 - recall_pneumonia: 0.1090 - recall_atelectasis: 0.0071 - recall_pneumothorax: 0.4754 - recall_pleural_effusion: 0.3770 - recall_pleural_other: 0.5463 - recall_fracture: 0.3918 - f2_score_enlarged_cardiomediastinum: 0.2163 - f2_score_cardiomegaly: 0.4172 - f2_score_lung_opacity: 0.0107 - f2_score_lung_lesion: 0.3808 - f2_score_edema: 0.3498 - f2_score_consolidation: 0.1346 - f2_score_pneumonia: 0.1298 - f2_score_atelectasis: 0.0088 - f2_score_pneumothorax: 0.4984 - f2_score_pleural_effusion: 0.4259 - f2_score_pleural_other: 0.5713 - f2_score_fracture: 0.4333 - learning rate: 1.0000e-07INFO:tensorflow:Summary name epoch_learning rate is illegal; using epoch_learning_rate instead.\n",
      "\n",
      "Epoch 00004: saving model to models/Xception-2_Chexpert_BCE_NoNorm_E5_B32_C0_N12_AugAffine_sharp21_U75_D256_DS9505_1LR4_LF1_Adam_Upsampled/weights.04-0.21.hdf5\n",
      "8344/8344 [==============================] - 4266s 511ms/step - loss: 0.2153 - auc: 0.8400 - precision: 0.7398 - recall: 0.2186 - f2_score: 0.2545 - binary_accuracy: 0.8460 - accuracy_enlarged_cardiomediastinum: 0.9130 - accuracy_cardiomegaly: 0.9040 - accuracy_lung_opacity: 0.5313 - accuracy_lung_lesion: 0.9327 - accuracy_edema: 0.7971 - accuracy_consolidation: 0.9335 - accuracy_pneumonia: 0.8942 - accuracy_atelectasis: 0.7121 - accuracy_pneumothorax: 0.9298 - accuracy_pleural_effusion: 0.7568 - accuracy_pleural_other: 0.9408 - accuracy_fracture: 0.9065 - auc_enlarged_cardiomediastinum: 0.7852 - auc_cardiomegaly: 0.8781 - auc_lung_opacity: 0.7443 - auc_lung_lesion: 0.8779 - auc_edema: 0.8706 - auc_consolidation: 0.7949 - auc_pneumonia: 0.7813 - auc_atelectasis: 0.7377 - auc_pneumothorax: 0.9028 - auc_pleural_effusion: 0.8879 - auc_pleural_other: 0.9352 - auc_fracture: 0.8844 - precision_enlarged_cardiomediastinum: 0.6758 - precision_cardiomegaly: 0.6502 - precision_lung_opacity: 0.8502 - precision_lung_lesion: 0.6748 - precision_edema: 0.8021 - precision_consolidation: 0.4418 - precision_pneumonia: 0.5434 - precision_atelectasis: 0.8169 - precision_pneumothorax: 0.6182 - precision_pleural_effusion: 0.8867 - precision_pleural_other: 0.6997 - precision_fracture: 0.7527 - recall_enlarged_cardiomediastinum: 0.1849 - recall_cardiomegaly: 0.3829 - recall_lung_opacity: 0.0086 - recall_lung_lesion: 0.3434 - recall_edema: 0.3065 - recall_consolidation: 0.1147 - recall_pneumonia: 0.1090 - recall_atelectasis: 0.0071 - recall_pneumothorax: 0.4754 - recall_pleural_effusion: 0.3770 - recall_pleural_other: 0.5463 - recall_fracture: 0.3918 - f2_score_enlarged_cardiomediastinum: 0.2163 - f2_score_cardiomegaly: 0.4172 - f2_score_lung_opacity: 0.0107 - f2_score_lung_lesion: 0.3808 - f2_score_edema: 0.3498 - f2_score_consolidation: 0.1346 - f2_score_pneumonia: 0.1298 - f2_score_atelectasis: 0.0088 - f2_score_pneumothorax: 0.4984 - f2_score_pleural_effusion: 0.4259 - f2_score_pleural_other: 0.5713 - f2_score_fracture: 0.4333 - learning rate: 1.0000e-07 - val_loss: 0.2127 - val_auc: 0.7869 - val_precision: 0.6418 - val_recall: 0.1889 - val_f2_score: 0.2200 - val_binary_accuracy: 0.8483 - val_accuracy_enlarged_cardiomediastinum: 0.9442 - val_accuracy_cardiomegaly: 0.8889 - val_accuracy_lung_opacity: 0.5352 - val_accuracy_lung_lesion: 0.9501 - val_accuracy_edema: 0.7840 - val_accuracy_consolidation: 0.9289 - val_accuracy_pneumonia: 0.8933 - val_accuracy_atelectasis: 0.7047 - val_accuracy_pneumothorax: 0.9236 - val_accuracy_pleural_effusion: 0.7306 - val_accuracy_pleural_other: 0.9507 - val_accuracy_fracture: 0.9466 - val_auc_enlarged_cardiomediastinum: 0.6682 - val_auc_cardiomegaly: 0.8686 - val_auc_lung_opacity: 0.7438 - val_auc_lung_lesion: 0.7708 - val_auc_edema: 0.8594 - val_auc_consolidation: 0.7610 - val_auc_pneumonia: 0.7491 - val_auc_atelectasis: 0.7188 - val_auc_pneumothorax: 0.8568 - val_auc_pleural_effusion: 0.8700 - val_auc_pleural_other: 0.7973 - val_auc_fracture: 0.7792 - val_precision_enlarged_cardiomediastinum: 0.2540 - val_precision_cardiomegaly: 0.6267 - val_precision_lung_opacity: 0.7500 - val_precision_lung_lesion: 0.3298 - val_precision_edema: 0.7668 - val_precision_consolidation: 0.2835 - val_precision_pneumonia: 0.4633 - val_precision_atelectasis: 0.7381 - val_precision_pneumothorax: 0.5760 - val_precision_pleural_effusion: 0.8624 - val_precision_pleural_other: 0.1522 - val_precision_fracture: 0.3293 - val_recall_enlarged_cardiomediastinum: 0.0865 - val_recall_cardiomegaly: 0.3863 - val_recall_lung_opacity: 0.0055 - val_recall_lung_lesion: 0.1921 - val_recall_edema: 0.3589 - val_recall_consolidation: 0.1038 - val_recall_pneumonia: 0.1193 - val_recall_atelectasis: 0.0090 - val_recall_pneumothorax: 0.3670 - val_recall_pleural_effusion: 0.3642 - val_recall_pleural_other: 0.1778 - val_recall_fracture: 0.1536 - val_f2_score_enlarged_cardiomediastinum: 0.0996 - val_f2_score_cardiomegaly: 0.4184 - val_f2_score_lung_opacity: 0.0069 - val_f2_score_lung_lesion: 0.2096 - val_f2_score_edema: 0.4016 - val_f2_score_consolidation: 0.1189 - val_f2_score_pneumonia: 0.1402 - val_f2_score_atelectasis: 0.0112 - val_f2_score_pneumothorax: 0.3957 - val_f2_score_pleural_effusion: 0.4118 - val_f2_score_pleural_other: 0.1720 - val_f2_score_fracture: 0.1719\n",
      "Epoch 5/5\n",
      "8344/8344 [==============================] - ETA: 0s - loss: 0.2156 - auc: 0.8403 - precision: 0.7385 - recall: 0.2193 - f2_score: 0.2551 - binary_accuracy: 0.8455 - accuracy_enlarged_cardiomediastinum: 0.9133 - accuracy_cardiomegaly: 0.9043 - accuracy_lung_opacity: 0.5321 - accuracy_lung_lesion: 0.9316 - accuracy_edema: 0.7965 - accuracy_consolidation: 0.9337 - accuracy_pneumonia: 0.8932 - accuracy_atelectasis: 0.7094 - accuracy_pneumothorax: 0.9295 - accuracy_pleural_effusion: 0.7560 - accuracy_pleural_other: 0.9406 - accuracy_fracture: 0.9064 - auc_enlarged_cardiomediastinum: 0.7863 - auc_cardiomegaly: 0.8783 - auc_lung_opacity: 0.7452 - auc_lung_lesion: 0.8746 - auc_edema: 0.8699 - auc_consolidation: 0.8002 - auc_pneumonia: 0.7832 - auc_atelectasis: 0.7349 - auc_pneumothorax: 0.9034 - auc_pleural_effusion: 0.8869 - auc_pleural_other: 0.9368 - auc_fracture: 0.8839 - precision_enlarged_cardiomediastinum: 0.6694 - precision_cardiomegaly: 0.6534 - precision_lung_opacity: 0.8658 - precision_lung_lesion: 0.6654 - precision_edema: 0.8016 - precision_consolidation: 0.4458 - precision_pneumonia: 0.5451 - precision_atelectasis: 0.7767 - precision_pneumothorax: 0.6195 - precision_pleural_effusion: 0.8874 - precision_pleural_other: 0.7004 - precision_fracture: 0.7476 - recall_enlarged_cardiomediastinum: 0.1852 - recall_cardiomegaly: 0.3886 - recall_lung_opacity: 0.0084 - recall_lung_lesion: 0.3450 - recall_edema: 0.3066 - recall_consolidation: 0.1171 - recall_pneumonia: 0.1109 - recall_atelectasis: 0.0066 - recall_pneumothorax: 0.4746 - recall_pleural_effusion: 0.3761 - recall_pleural_other: 0.5512 - recall_fracture: 0.3936 - f2_score_enlarged_cardiomediastinum: 0.2165 - f2_score_cardiomegaly: 0.4229 - f2_score_lung_opacity: 0.0105 - f2_score_lung_lesion: 0.3818 - f2_score_edema: 0.3497 - f2_score_consolidation: 0.1373 - f2_score_pneumonia: 0.1319 - f2_score_atelectasis: 0.0082 - f2_score_pneumothorax: 0.4979 - f2_score_pleural_effusion: 0.4250 - f2_score_pleural_other: 0.5757 - f2_score_fracture: 0.4348 - learning rate: 1.0000e-08INFO:tensorflow:Summary name epoch_learning rate is illegal; using epoch_learning_rate instead.\n",
      "\n",
      "Epoch 00005: saving model to models/Xception-2_Chexpert_BCE_NoNorm_E5_B32_C0_N12_AugAffine_sharp21_U75_D256_DS9505_1LR4_LF1_Adam_Upsampled/weights.05-0.21.hdf5\n",
      "8344/8344 [==============================] - 4239s 508ms/step - loss: 0.2156 - auc: 0.8403 - precision: 0.7385 - recall: 0.2193 - f2_score: 0.2551 - binary_accuracy: 0.8455 - accuracy_enlarged_cardiomediastinum: 0.9133 - accuracy_cardiomegaly: 0.9043 - accuracy_lung_opacity: 0.5321 - accuracy_lung_lesion: 0.9316 - accuracy_edema: 0.7965 - accuracy_consolidation: 0.9337 - accuracy_pneumonia: 0.8932 - accuracy_atelectasis: 0.7094 - accuracy_pneumothorax: 0.9295 - accuracy_pleural_effusion: 0.7560 - accuracy_pleural_other: 0.9406 - accuracy_fracture: 0.9064 - auc_enlarged_cardiomediastinum: 0.7863 - auc_cardiomegaly: 0.8783 - auc_lung_opacity: 0.7452 - auc_lung_lesion: 0.8746 - auc_edema: 0.8699 - auc_consolidation: 0.8002 - auc_pneumonia: 0.7832 - auc_atelectasis: 0.7349 - auc_pneumothorax: 0.9034 - auc_pleural_effusion: 0.8869 - auc_pleural_other: 0.9368 - auc_fracture: 0.8839 - precision_enlarged_cardiomediastinum: 0.6694 - precision_cardiomegaly: 0.6534 - precision_lung_opacity: 0.8658 - precision_lung_lesion: 0.6654 - precision_edema: 0.8016 - precision_consolidation: 0.4458 - precision_pneumonia: 0.5451 - precision_atelectasis: 0.7767 - precision_pneumothorax: 0.6195 - precision_pleural_effusion: 0.8874 - precision_pleural_other: 0.7004 - precision_fracture: 0.7476 - recall_enlarged_cardiomediastinum: 0.1852 - recall_cardiomegaly: 0.3886 - recall_lung_opacity: 0.0084 - recall_lung_lesion: 0.3450 - recall_edema: 0.3066 - recall_consolidation: 0.1171 - recall_pneumonia: 0.1109 - recall_atelectasis: 0.0066 - recall_pneumothorax: 0.4746 - recall_pleural_effusion: 0.3761 - recall_pleural_other: 0.5512 - recall_fracture: 0.3936 - f2_score_enlarged_cardiomediastinum: 0.2165 - f2_score_cardiomegaly: 0.4229 - f2_score_lung_opacity: 0.0105 - f2_score_lung_lesion: 0.3818 - f2_score_edema: 0.3497 - f2_score_consolidation: 0.1373 - f2_score_pneumonia: 0.1319 - f2_score_atelectasis: 0.0082 - f2_score_pneumothorax: 0.4979 - f2_score_pleural_effusion: 0.4250 - f2_score_pleural_other: 0.5757 - f2_score_fracture: 0.4348 - learning rate: 1.0000e-08 - val_loss: 0.2129 - val_auc: 0.7869 - val_precision: 0.6382 - val_recall: 0.1861 - val_f2_score: 0.2169 - val_binary_accuracy: 0.8478 - val_accuracy_enlarged_cardiomediastinum: 0.9439 - val_accuracy_cardiomegaly: 0.8885 - val_accuracy_lung_opacity: 0.5344 - val_accuracy_lung_lesion: 0.9498 - val_accuracy_edema: 0.7824 - val_accuracy_consolidation: 0.9286 - val_accuracy_pneumonia: 0.8931 - val_accuracy_atelectasis: 0.7045 - val_accuracy_pneumothorax: 0.9228 - val_accuracy_pleural_effusion: 0.7278 - val_accuracy_pleural_other: 0.9510 - val_accuracy_fracture: 0.9459 - val_auc_enlarged_cardiomediastinum: 0.6680 - val_auc_cardiomegaly: 0.8687 - val_auc_lung_opacity: 0.7440 - val_auc_lung_lesion: 0.7705 - val_auc_edema: 0.8593 - val_auc_consolidation: 0.7611 - val_auc_pneumonia: 0.7493 - val_auc_atelectasis: 0.7188 - val_auc_pneumothorax: 0.8562 - val_auc_pleural_effusion: 0.8698 - val_auc_pleural_other: 0.7976 - val_auc_fracture: 0.7790 - val_precision_enlarged_cardiomediastinum: 0.2487 - val_precision_cardiomegaly: 0.6279 - val_precision_lung_opacity: 0.7647 - val_precision_lung_lesion: 0.3287 - val_precision_edema: 0.7712 - val_precision_consolidation: 0.2803 - val_precision_pneumonia: 0.4608 - val_precision_atelectasis: 0.7179 - val_precision_pneumothorax: 0.5685 - val_precision_pleural_effusion: 0.8651 - val_precision_pleural_other: 0.1530 - val_precision_fracture: 0.3206 - val_recall_enlarged_cardiomediastinum: 0.0865 - val_recall_cardiomegaly: 0.3850 - val_recall_lung_opacity: 0.0048 - val_recall_lung_lesion: 0.1963 - val_recall_edema: 0.3487 - val_recall_consolidation: 0.1038 - val_recall_pneumonia: 0.1210 - val_recall_atelectasis: 0.0081 - val_recall_pneumothorax: 0.3721 - val_recall_pleural_effusion: 0.3571 - val_recall_pleural_other: 0.1778 - val_recall_fracture: 0.1573 - val_f2_score_enlarged_cardiomediastinum: 0.0995 - val_f2_score_cardiomegaly: 0.4173 - val_f2_score_lung_opacity: 0.0060 - val_f2_score_lung_lesion: 0.2135 - val_f2_score_edema: 0.3916 - val_f2_score_consolidation: 0.1187 - val_f2_score_pneumonia: 0.1419 - val_f2_score_atelectasis: 0.0101 - val_f2_score_pneumothorax: 0.3997 - val_f2_score_pleural_effusion: 0.4047 - val_f2_score_pleural_other: 0.1722 - val_f2_score_fracture: 0.1751\n"
     ]
    },
    {
     "data": {
      "text/plain": [
       "<tensorflow.python.keras.callbacks.History at 0x7fd536730eb8>"
      ]
     },
     "execution_count": 5,
     "metadata": {},
     "output_type": "execute_result"
    }
   ],
   "source": [
    "bce_chexpert_exp.train()"
   ]
  },
  {
   "cell_type": "code",
   "execution_count": 6,
   "metadata": {},
   "outputs": [
    {
     "name": "stdout",
     "output_type": "stream",
     "text": [
      "234/234 [==============================] - 3s 14ms/step\n",
      "  1/234 [..............................] - ETA: 30s - loss: 0.1591 - auc: 0.0000e+00 - precision: 1.0000 - recall: 0.3333 - f2_score: 0.3846 - binary_accuracy: 0.8333 - accuracy_enlarged_cardiomediastinum: 1.0000 - accuracy_cardiomegaly: 1.0000 - accuracy_lung_opacity: 0.0000e+00 - accuracy_lung_lesion: 1.0000 - accuracy_edema: 1.0000 - accuracy_consolidation: 1.0000 - accuracy_pneumonia: 1.0000 - accuracy_atelectasis: 0.0000e+00 - accuracy_pneumothorax: 1.0000 - accuracy_pleural_effusion: 1.0000 - accuracy_pleural_other: 1.0000 - accuracy_fracture: 1.0000 - auc_enlarged_cardiomediastinum: 0.0000e+00 - auc_cardiomegaly: 0.0000e+00 - auc_lung_opacity: 0.0000e+00 - auc_lung_lesion: 0.0000e+00 - auc_edema: 0.0000e+00 - auc_consolidation: 0.0000e+00 - auc_pneumonia: 0.0000e+00 - auc_atelectasis: 0.0000e+00 - auc_pneumothorax: 0.0000e+00 - auc_pleural_effusion: 0.0000e+00 - auc_pleural_other: 0.0000e+00 - auc_fracture: 0.0000e+00 - precision_enlarged_cardiomediastinum: 0.0000e+00 - precision_cardiomegaly: 0.0000e+00 - precision_lung_opacity: 0.0000e+00 - precision_lung_lesion: 0.0000e+00 - precision_edema: 0.0000e+00 - precision_consolidation: 0.0000e+00 - precision_pneumonia: 0.0000e+00 - precision_atelectasis: 0.0000e+00 - precision_pneumothorax: 0.0000e+00 - precision_pleural_effusion: 1.0000 - precision_pleural_other: 0.0000e+00 - precision_fracture: 0.0000e+00 - recall_enlarged_cardiomediastinum: 0.0000e+00 - recall_cardiomegaly: 0.0000e+00 - recall_lung_opacity: 0.0000e+00 - recall_lung_lesion: 0.0000e+00 - recall_edema: 0.0000e+00 - recall_consolidation: 0.0000e+00 - recall_pneumonia: 0.0000e+00 - recall_atelectasis: 0.0000e+00 - recall_pneumothorax: 0.0000e+00 - recall_pleural_effusion: 1.0000 - recall_pleural_other: 0.0000e+00 - recall_fracture: 0.0000e+00 - f2_score_enlarged_cardiomediastinum: 0.0000e+00 - f2_score_cardiomegaly: 0.0000e+00 - f2_score_lung_opacity: 0.0000e+00 - f2_score_lung_lesion: 0.0000e+00 - f2_score_edema: 0.0000e+00 - f2_score_consolidation: 0.0000e+00 - f2_score_pneumonia: 0.0000e+00 - f2_score_atelectasis: 0.0000e+00 - f2_score_pneumothorax: 0.0000e+00 - f2_score_pleural_effusion: 1.0000 - f2_score_pleural_other: 0.0000e+00 - f2_score_fracture: 0.0000e+00"
     ]
    },
    {
     "name": "stderr",
     "output_type": "stream",
     "text": [
      "/usr/local/lib/python3.6/dist-packages/sklearn/metrics/_classification.py:1221: UndefinedMetricWarning: Precision and F-score are ill-defined and being set to 0.0 in labels with no predicted samples. Use `zero_division` parameter to control this behavior.\n",
      "  _warn_prf(average, modifier, msg_start, len(result))\n",
      "/usr/local/lib/python3.6/dist-packages/sklearn/metrics/_classification.py:1221: UndefinedMetricWarning: Recall and F-score are ill-defined and being set to 0.0 in labels with no true samples. Use `zero_division` parameter to control this behavior.\n",
      "  _warn_prf(average, modifier, msg_start, len(result))\n",
      "/usr/local/lib/python3.6/dist-packages/sklearn/metrics/_classification.py:1221: UndefinedMetricWarning: Precision and F-score are ill-defined and being set to 0.0 in samples with no predicted labels. Use `zero_division` parameter to control this behavior.\n",
      "  _warn_prf(average, modifier, msg_start, len(result))\n",
      "/usr/local/lib/python3.6/dist-packages/sklearn/metrics/_classification.py:1221: UndefinedMetricWarning: Recall and F-score are ill-defined and being set to 0.0 in samples with no true labels. Use `zero_division` parameter to control this behavior.\n",
      "  _warn_prf(average, modifier, msg_start, len(result))\n"
     ]
    },
    {
     "name": "stdout",
     "output_type": "stream",
     "text": [
      "234/234 [==============================] - 11s 49ms/step - loss: 0.3072 - auc: 0.7696 - precision: 0.6630 - recall: 0.1117 - f2_score: 0.1340 - binary_accuracy: 0.8162 - accuracy_enlarged_cardiomediastinum: 0.5385 - accuracy_cardiomegaly: 0.7350 - accuracy_lung_opacity: 0.4615 - accuracy_lung_lesion: 0.9829 - accuracy_edema: 0.8889 - accuracy_consolidation: 0.8675 - accuracy_pneumonia: 0.9573 - accuracy_atelectasis: 0.6667 - accuracy_pneumothorax: 0.9615 - accuracy_pleural_effusion: 0.7906 - accuracy_pleural_other: 0.9615 - accuracy_fracture: 0.9829 - auc_enlarged_cardiomediastinum: 0.5098 - auc_cardiomegaly: 0.7594 - auc_lung_opacity: 0.9020 - auc_lung_lesion: 0.9871 - auc_edema: 0.9303 - auc_consolidation: 0.9244 - auc_pneumonia: 0.7685 - auc_atelectasis: 0.8121 - auc_pneumothorax: 0.8496 - auc_pleural_effusion: 0.9190 - auc_pleural_other: 0.8734 - auc_fracture: 0.0000e+00 - precision_enlarged_cardiomediastinum: 0.6667 - precision_cardiomegaly: 0.8000 - precision_lung_opacity: 0.0000e+00 - precision_lung_lesion: 0.2000 - precision_edema: 0.8519 - precision_consolidation: 1.0000 - precision_pneumonia: 0.2500 - precision_atelectasis: 1.0000 - precision_pneumothorax: 0.4000 - precision_pleural_effusion: 0.9091 - precision_pleural_other: 0.0000e+00 - precision_fracture: 0.0000e+00 - recall_enlarged_cardiomediastinum: 0.0183 - recall_cardiomegaly: 0.1176 - recall_lung_opacity: 0.0000e+00 - recall_lung_lesion: 1.0000 - recall_edema: 0.5111 - recall_consolidation: 0.0606 - recall_pneumonia: 0.1250 - recall_atelectasis: 0.0250 - recall_pneumothorax: 0.2500 - recall_pleural_effusion: 0.2985 - recall_pleural_other: 0.0000e+00 - recall_fracture: 0.0000e+00 - f2_score_enlarged_cardiomediastinum: 0.0228 - f2_score_cardiomegaly: 0.1418 - f2_score_lung_opacity: 0.0000e+00 - f2_score_lung_lesion: 0.5556 - f2_score_edema: 0.5556 - f2_score_consolidation: 0.0746 - f2_score_pneumonia: 0.1389 - f2_score_atelectasis: 0.0311 - f2_score_pneumothorax: 0.2703 - f2_score_pleural_effusion: 0.3448 - f2_score_pleural_other: 0.0000e+00 - f2_score_fracture: 0.0000e+00\n"
     ]
    },
    {
     "data": {
      "text/plain": [
       "{'report': '                            precision    recall  f1-score   support\\n\\nEnlarged Cardiomediastinum       0.33      0.01      0.02       109\\n              Cardiomegaly       0.30      0.04      0.08        68\\n              Lung Opacity       0.00      0.00      0.00       126\\n               Lung Lesion       0.00      0.00      0.00         1\\n                     Edema       0.15      0.09      0.11        45\\n             Consolidation       0.00      0.00      0.00        33\\n                 Pneumonia       0.00      0.00      0.00         8\\n               Atelectasis       0.00      0.00      0.00        80\\n              Pneumothorax       0.00      0.00      0.00         8\\n          Pleural Effusion       0.41      0.13      0.20        67\\n             Pleural Other       0.00      0.00      0.00         1\\n                  Fracture       0.00      0.00      0.00         0\\n\\n                 micro avg       0.18      0.03      0.05       546\\n                 macro avg       0.10      0.02      0.03       546\\n              weighted avg       0.17      0.03      0.05       546\\n               samples avg       0.06      0.02      0.03       546\\n',\n",
       " 'metrics': {'loss': 0.3071522116661072,\n",
       "  'auc': 0.7696473598480225,\n",
       "  'precision': 0.6630434989929199,\n",
       "  'recall': 0.11172161251306534,\n",
       "  'f2_score': 0.1340070366859436,\n",
       "  'binary_accuracy': 0.8162389397621155,\n",
       "  'accuracy_enlarged_cardiomediastinum': 0.5384615659713745,\n",
       "  'accuracy_cardiomegaly': 0.7350427508354187,\n",
       "  'accuracy_lung_opacity': 0.4615384638309479,\n",
       "  'accuracy_lung_lesion': 0.9829059839248657,\n",
       "  'accuracy_edema': 0.8888888955116272,\n",
       "  'accuracy_consolidation': 0.867521345615387,\n",
       "  'accuracy_pneumonia': 0.9572649598121643,\n",
       "  'accuracy_atelectasis': 0.6666666865348816,\n",
       "  'accuracy_pneumothorax': 0.9615384340286255,\n",
       "  'accuracy_pleural_effusion': 0.7905982732772827,\n",
       "  'accuracy_pleural_other': 0.9615384340286255,\n",
       "  'accuracy_fracture': 0.9829059839248657,\n",
       "  'auc_enlarged_cardiomediastinum': 0.5097981691360474,\n",
       "  'auc_cardiomegaly': 0.759434700012207,\n",
       "  'auc_lung_opacity': 0.9020428657531738,\n",
       "  'auc_lung_lesion': 0.987124502658844,\n",
       "  'auc_edema': 0.9303351640701294,\n",
       "  'auc_consolidation': 0.9243931770324707,\n",
       "  'auc_pneumonia': 0.7685287594795227,\n",
       "  'auc_atelectasis': 0.8121347427368164,\n",
       "  'auc_pneumothorax': 0.8495575189590454,\n",
       "  'auc_pleural_effusion': 0.9190276265144348,\n",
       "  'auc_pleural_other': 0.8733905553817749,\n",
       "  'auc_fracture': 0.0,\n",
       "  'precision_enlarged_cardiomediastinum': 0.6666666865348816,\n",
       "  'precision_cardiomegaly': 0.800000011920929,\n",
       "  'precision_lung_opacity': 0.0,\n",
       "  'precision_lung_lesion': 0.20000000298023224,\n",
       "  'precision_edema': 0.8518518805503845,\n",
       "  'precision_consolidation': 1.0,\n",
       "  'precision_pneumonia': 0.25,\n",
       "  'precision_atelectasis': 1.0,\n",
       "  'precision_pneumothorax': 0.4000000059604645,\n",
       "  'precision_pleural_effusion': 0.9090909361839294,\n",
       "  'precision_pleural_other': 0.0,\n",
       "  'precision_fracture': 0.0,\n",
       "  'recall_enlarged_cardiomediastinum': 0.01834862306714058,\n",
       "  'recall_cardiomegaly': 0.11764705926179886,\n",
       "  'recall_lung_opacity': 0.0,\n",
       "  'recall_lung_lesion': 1.0,\n",
       "  'recall_edema': 0.5111111402511597,\n",
       "  'recall_consolidation': 0.06060606241226196,\n",
       "  'recall_pneumonia': 0.125,\n",
       "  'recall_atelectasis': 0.02500000037252903,\n",
       "  'recall_pneumothorax': 0.25,\n",
       "  'recall_pleural_effusion': 0.2985074520111084,\n",
       "  'recall_pleural_other': 0.0,\n",
       "  'recall_fracture': 0.0,\n",
       "  'f2_score_enlarged_cardiomediastinum': 0.022779041901230812,\n",
       "  'f2_score_cardiomegaly': 0.1418439745903015,\n",
       "  'f2_score_lung_opacity': 0.0,\n",
       "  'f2_score_lung_lesion': 0.5555555820465088,\n",
       "  'f2_score_edema': 0.5555555820465088,\n",
       "  'f2_score_consolidation': 0.0746268704533577,\n",
       "  'f2_score_pneumonia': 0.1388888955116272,\n",
       "  'f2_score_atelectasis': 0.03105590119957924,\n",
       "  'f2_score_pneumothorax': 0.27027028799057007,\n",
       "  'f2_score_pleural_effusion': 0.3448275327682495,\n",
       "  'f2_score_pleural_other': 0.0,\n",
       "  'f2_score_fracture': 0.0},\n",
       " 'predictions': array([[4.99976464e-02, 1.24345265e-01, 3.95776220e-02, ...,\n",
       "         2.84712873e-02, 7.44527113e-03, 4.69068252e-02],\n",
       "        [5.46812005e-02, 8.58969167e-02, 3.85905564e-01, ...,\n",
       "         4.87697810e-01, 2.03641612e-04, 4.13803943e-03],\n",
       "        [1.57601424e-02, 1.26370741e-02, 3.26372087e-02, ...,\n",
       "         1.04675749e-02, 2.47135177e-01, 7.55098760e-02],\n",
       "        ...,\n",
       "        [1.15580305e-01, 2.65329015e-02, 1.14096716e-01, ...,\n",
       "         1.53101413e-02, 1.10862099e-01, 1.17037505e-01],\n",
       "        [8.23267549e-02, 5.75950444e-01, 2.11054504e-01, ...,\n",
       "         4.55315262e-01, 3.05396803e-02, 1.50338998e-02],\n",
       "        [7.46225938e-02, 2.09116265e-01, 2.71231174e-01, ...,\n",
       "         1.79366201e-01, 5.41361514e-03, 1.34584180e-03]], dtype=float32),\n",
       " 'groundtruth_label': array([[0., 0., 1., ..., 1., 0., 0.],\n",
       "        [0., 0., 0., ..., 0., 0., 0.],\n",
       "        [0., 0., 0., ..., 0., 0., 0.],\n",
       "        ...,\n",
       "        [0., 0., 0., ..., 0., 0., 0.],\n",
       "        [0., 0., 0., ..., 0., 0., 0.],\n",
       "        [0., 0., 1., ..., 1., 0., 0.]], dtype=float32)}"
      ]
     },
     "execution_count": 6,
     "metadata": {},
     "output_type": "execute_result"
    }
   ],
   "source": [
    "bce_chexpert_exp.evaluate()"
   ]
  },
  {
   "cell_type": "code",
   "execution_count": 7,
   "metadata": {},
   "outputs": [
    {
     "name": "stdout",
     "output_type": "stream",
     "text": [
      "WARNING:tensorflow:From /usr/local/lib/python3.6/dist-packages/tensorflow/python/training/tracking/tracking.py:109: Model.state_updates (from tensorflow.python.keras.engine.training) is deprecated and will be removed in a future version.\n",
      "Instructions for updating:\n",
      "This property should not be used in TensorFlow 2.0, as updates are applied automatically.\n",
      "WARNING:tensorflow:From /usr/local/lib/python3.6/dist-packages/tensorflow/python/training/tracking/tracking.py:109: Layer.updates (from tensorflow.python.keras.engine.base_layer) is deprecated and will be removed in a future version.\n",
      "Instructions for updating:\n",
      "This property should not be used in TensorFlow 2.0, as updates are applied automatically.\n",
      "INFO:tensorflow:Assets written to: /srv/idp-radio-1/models/Xception-2_Chexpert_BCE_NoNorm_E5_B32_C0_N12_AugAffine_sharp21_U75_D256_DS9505_1LR4_LF1_Adam_Upsampled/Xception-2_Chexpert_BCE_NoNorm_E5_B32_C0_N12_AugAffine_sharp21_U75_D256_DS9505_1LR4_LF1_Adam_Upsampled_20200826-201201/assets\n"
     ]
    },
    {
     "data": {
      "text/plain": [
       "'67131280-e7d8-11ea-b8fe-0242ac110005'"
      ]
     },
     "execution_count": 7,
     "metadata": {},
     "output_type": "execute_result"
    }
   ],
   "source": [
    "bce_chexpert_exp.save()"
   ]
  },
  {
   "cell_type": "code",
   "execution_count": 31,
   "metadata": {},
   "outputs": [],
   "source": [
    "predictions = []"
   ]
  },
  {
   "cell_type": "code",
   "execution_count": 43,
   "metadata": {},
   "outputs": [],
   "source": [
    "bce_benchmark = Chexpert_Benchmark (path = Path(os.environ.get(\"CHEXPERT_DATASET_DIRECTORY\")),\n",
    "                                             name=\"Chexpert_BCE_NoNorm_E5_B32_C0_N12_AugAffine_sharp21_U75_D256_DS9505_1LR4_LF1_Adam_Upsampled\",\n",
    "                                             classes=columns_12,\n",
    "                                             train_labels = \"train.csv\",\n",
    "                                             test_labels = \"test.csv\",\n",
    "                                             nan_replacement = 0, #float(\"NaN\"),\n",
    "                                             u_enc = [uzeros, uones],\n",
    "                                             epochs=5,\n",
    "                                             batch_size=32,\n",
    "                                             crop = False,\n",
    "                                             dim=(256, 256),\n",
    "                                             loss = BinaryCrossentropy(),\n",
    "                                             use_class_weights = False,\n",
    "                                             upsample_factors = upsample_factors,\n",
    "                                             metrics=METRICS,\n",
    "                                             single_class_metrics=SINGLE_CLASS_METRICS,\n",
    "                                             optimizer = Adam(learning_rate=1e-4, clipnorm=1),\n",
    "                                             lr_factor = 0.1,\n",
    "                                             augmentation = \"affine\",\n",
    "                                             transformations = transformations_4,\n",
    "                                             split_seed = 6122156,\n",
    "                                             split_valid_size = 0.05, \n",
    "                                             preprocess_input_fn = tf.keras.applications.densenet.preprocess_input)"
   ]
  },
  {
   "cell_type": "code",
   "execution_count": 47,
   "metadata": {},
   "outputs": [],
   "source": [
    "from tensorflow.keras.applications.densenet import DenseNet169\n",
    "from tensorflow.keras.layers import Dense, GlobalAveragePooling2D\n",
    "from tensorflow.keras.models import Model\n",
    "\n",
    "base_model = DenseNet169(include_top=False, weights='imagenet')\n",
    "x = base_model.output\n",
    "x = GlobalAveragePooling2D()(x)\n",
    "x = Dense(1024, activation='relu')(x)\n",
    "\n",
    "prediction_layer = Dense(12, activation='sigmoid')(x)\n",
    "model = Model(inputs=base_model.input, outputs=prediction_layer)\n",
    "model.simple_name = \"DenseNet121-2\"\n",
    "bce_chexpert_exp = Experiment(bce_benchmark, model)"
   ]
  },
  {
   "cell_type": "code",
   "execution_count": 48,
   "metadata": {},
   "outputs": [],
   "source": [
    "bce_chexpert_exp.model.load_weights(\"models/DenseNet169_Chexpert_BCE_NoNorm_E5_B32_C0_N12_AugAffine_sharp21_U75_D256_DS9505_1LR4_LF1_Adam_Upsampled/weights.05-0.21.hdf5\")\n",
    "predictions.append(bce_chexpert_exp.model.predict(bce_chexpert_exp.benchmark.testgen))"
   ]
  },
  {
   "cell_type": "code",
   "execution_count": 49,
   "metadata": {},
   "outputs": [
    {
     "data": {
      "text/plain": [
       "4"
      ]
     },
     "execution_count": 49,
     "metadata": {},
     "output_type": "execute_result"
    }
   ],
   "source": [
    "len(predictions)"
   ]
  },
  {
   "cell_type": "code",
   "execution_count": 57,
   "metadata": {},
   "outputs": [
    {
     "name": "stdout",
     "output_type": "stream",
     "text": [
      "12\n",
      "12\n",
      "12\n",
      "12\n"
     ]
    }
   ],
   "source": [
    "for x in predictions:\n",
    "    print(len(x[0]))"
   ]
  },
  {
   "cell_type": "code",
   "execution_count": 59,
   "metadata": {},
   "outputs": [
    {
     "name": "stdout",
     "output_type": "stream",
     "text": [
      "skelarn report:                              precision    recall  f1-score   support\n",
      "\n",
      "Enlarged Cardiomediastinum       0.00      0.00      0.00       109\n",
      "              Cardiomegaly       0.00      0.00      0.00        68\n",
      "              Lung Opacity       0.00      0.00      0.00       126\n",
      "               Lung Lesion       0.00      0.00      0.00         1\n",
      "                     Edema       0.33      0.02      0.04        45\n",
      "             Consolidation       0.00      0.00      0.00        33\n",
      "                 Pneumonia       0.00      0.00      0.00         8\n",
      "               Atelectasis       0.00      0.00      0.00        80\n",
      "              Pneumothorax       0.00      0.00      0.00         8\n",
      "          Pleural Effusion       0.00      0.00      0.00        67\n",
      "             Pleural Other       0.00      0.00      0.00         1\n",
      "                  Fracture       0.00      0.00      0.00         0\n",
      "\n",
      "                 micro avg       0.33      0.00      0.00       546\n",
      "                 macro avg       0.03      0.00      0.00       546\n",
      "              weighted avg       0.03      0.00      0.00       546\n",
      "               samples avg       0.00      0.00      0.00       546\n",
      "\n"
     ]
    },
    {
     "name": "stderr",
     "output_type": "stream",
     "text": [
      "/usr/local/lib/python3.6/dist-packages/sklearn/metrics/_classification.py:1221: UndefinedMetricWarning: Precision and F-score are ill-defined and being set to 0.0 in labels with no predicted samples. Use `zero_division` parameter to control this behavior.\n",
      "  _warn_prf(average, modifier, msg_start, len(result))\n",
      "/usr/local/lib/python3.6/dist-packages/sklearn/metrics/_classification.py:1221: UndefinedMetricWarning: Recall and F-score are ill-defined and being set to 0.0 in labels with no true samples. Use `zero_division` parameter to control this behavior.\n",
      "  _warn_prf(average, modifier, msg_start, len(result))\n",
      "/usr/local/lib/python3.6/dist-packages/sklearn/metrics/_classification.py:1221: UndefinedMetricWarning: Precision and F-score are ill-defined and being set to 0.0 in samples with no predicted labels. Use `zero_division` parameter to control this behavior.\n",
      "  _warn_prf(average, modifier, msg_start, len(result))\n",
      "/usr/local/lib/python3.6/dist-packages/sklearn/metrics/_classification.py:1221: UndefinedMetricWarning: Recall and F-score are ill-defined and being set to 0.0 in samples with no true labels. Use `zero_division` parameter to control this behavior.\n",
      "  _warn_prf(average, modifier, msg_start, len(result))\n"
     ]
    }
   ],
   "source": [
    "from sklearn.metrics import classification_report\n",
    "y_pred = tf.math.reduce_mean(predictions, axis=0)\n",
    "predictions_bool = (y_pred >= 0.5)\n",
    "y_pred = np.array(predictions_bool, dtype=int)\n",
    "groundtruth_label = bce_chexpert_exp.benchmark.testgen.get_labels_nonan()\n",
    "report = classification_report(groundtruth_label, y_pred, target_names=bce_chexpert_exp.benchmark.label_columns)\n",
    "print('skelarn report: ', report)"
   ]
  }
 ],
 "metadata": {
  "kernelspec": {
   "display_name": "Python 3",
   "language": "python",
   "name": "python3"
  },
  "language_info": {
   "codemirror_mode": {
    "name": "ipython",
    "version": 3
   },
   "file_extension": ".py",
   "mimetype": "text/x-python",
   "name": "python",
   "nbconvert_exporter": "python",
   "pygments_lexer": "ipython3",
   "version": "3.6.9"
  }
 },
 "nbformat": 4,
 "nbformat_minor": 4
}
