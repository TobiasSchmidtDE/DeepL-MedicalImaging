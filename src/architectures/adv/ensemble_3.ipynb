{
 "cells": [
  {
   "cell_type": "code",
   "execution_count": 1,
   "metadata": {},
   "outputs": [
    {
     "name": "stdout",
     "output_type": "stream",
     "text": [
      "Device mapping:\n",
      "/job:localhost/replica:0/task:0/device:XLA_CPU:0 -> device: XLA_CPU device\n",
      "/job:localhost/replica:0/task:0/device:XLA_GPU:0 -> device: XLA_GPU device\n",
      "/job:localhost/replica:0/task:0/device:GPU:0 -> device: 0, name: GeForce RTX 2080 Ti, pci bus id: 0000:04:00.0, compute capability: 7.5\n",
      "\n"
     ]
    }
   ],
   "source": [
    "import os \n",
    "import datetime\n",
    "from pathlib import Path\n",
    "from dotenv import load_dotenv, find_dotenv\n",
    "\n",
    "basepath = Path(os.getcwd())\n",
    "# make sure your working directory is the repository root.\n",
    "if basepath.name != \"idp-radio-1\":\n",
    "    os.chdir(basepath.parent.parent.parent)\n",
    "load_dotenv(find_dotenv())\n",
    "\n",
    "%load_ext autoreload\n",
    "%autoreload 2\n",
    "os.getcwd()\n",
    "\n",
    "import os \n",
    "import tensorflow as tf\n",
    "from pathlib import Path\n",
    "import cv2\n",
    "\n",
    "# Run this before loading other dependencies, otherwise they might occupy memory on gpu 0 by default and it will stay that way\n",
    "\n",
    "# Specify which GPU(s) to use\n",
    "os.environ[\"CUDA_VISIBLE_DEVICES\"] = \"1\"  # Or 2, 3, etc. other than 0\n",
    "\n",
    "config = tf.compat.v1.ConfigProto(device_count={'GPU': 1}, allow_soft_placement=True, log_device_placement=True)\n",
    "config.gpu_options.allow_growth = True\n",
    "config.gpu_options.per_process_gpu_memory_fraction = 1.0\n",
    "tf.compat.v1.Session(config=config)\n",
    "\n",
    "from tensorflow.keras.applications.inception_v3 import InceptionV3\n",
    "from tensorflow.keras.applications.densenet import DenseNet121\n",
    "from tensorflow.keras.applications.resnet_v2 import ResNet101V2\n",
    "from tensorflow.keras.applications.inception_resnet_v2 import InceptionResNetV2\n",
    "from src.architectures.simple.simple_base import SimpleBaseArchitecture\n",
    "import numpy as np\n",
    "\n",
    "from src.architectures.benchmarks.benchmark import Benchmark, Experiment\n",
    "from tensorflow.keras.optimizers import Adam, SGD\n",
    "from src.architectures.simple.load_model import *\n",
    "from src.architectures.benchmarks.benchmark_definitions import Chexpert_Benchmark, Chestxray14_Benchmark, simple_architecture_experiment, generate_benchmarks, METRICS, SINGLE_CLASS_METRICS, CHEXPERT_COLUMNS, CHESTXRAY14_COLUMNS\n",
    "from src.metrics.metrics import F2Score\n",
    "from src.metrics.losses import WeightedBinaryCrossentropy, BinaryCrossentropy, compute_class_weight\n",
    "from src.utils.save_model import load_model"
   ]
  },
  {
   "cell_type": "code",
   "execution_count": 2,
   "metadata": {},
   "outputs": [],
   "source": [
    "# color, affine + color, affine\n",
    "#model_ids = [\"c55ed5c6-e879-11ea-9a58-0242ac110005\", \"2eb47be0-e88c-11ea-9a58-0242ac110005\", \"74d8220a-e6c2-11ea-b084-0242ac110005\"]\n",
    "\n",
    "experiment_ids = [\"f5345e7e-e603-11ea-b461-0242ac110005\",\n",
    "             \"74d8220a-e6c2-11ea-b084-0242ac110005\",\n",
    "             #\"7f0b1972-e5e5-11ea-a85b-0242ac110005\",\n",
    "             #\"ba5364e6-e949-11ea-87eb-0242ac110005\",\n",
    "             \"bd5c2e9a-e9ec-11ea-ae3a-0242ac110005\"\n",
    "]\n",
    "\n",
    "experiment_ids = [\n",
    "    \"bd5c2e9a-e9ec-11ea-ae3a-0242ac110005\",\n",
    "    \"ba5364e6-e949-11ea-87eb-0242ac110005\",\n",
    "    \"74d8220a-e6c2-11ea-b084-0242ac110005\",\n",
    "    \"e506d8f0-ea0f-11ea-8dbb-0242ac110005\",\n",
    "    \"f5345e7e-e603-11ea-b461-0242ac110005\",\n",
    "    \"5dcb7ecc-e4e2-11ea-96c6-0242ac110005\",\n",
    "    \"2eb47be0-e88c-11ea-9a58-0242ac110005\",\n",
    "    \"7f0b1972-e5e5-11ea-a85b-0242ac110005\",\n",
    "]\n",
    "\n",
    "experiment_names = []\n"
   ]
  },
  {
   "cell_type": "code",
   "execution_count": 3,
   "metadata": {},
   "outputs": [
    {
     "name": "stdout",
     "output_type": "stream",
     "text": [
      "Using weights file DenseNet121_2_Chexpert_CWBCE_L1Normed_E5_B32_C0_N12_AugAffine_sharp21_U75_D256_DS9505_1LR4_LF1_Adam_Upsampled_20200829-114238.h5 to load model...\n",
      "Using weights file DenseNet121_Chexpert_CWBCE_L1Normed_E5_B32_C0_N12_AugAffine_sharp21_U75_D256_DS9505_1LR4_LF1_Adam_Upsampled_20200828-161545.h5 to load model...\n",
      "Using weights file DenseNet121_Chexpert_BCE_NoNorm_E5_B32_C0_N12_AugAffine_sharp21_U75_D256_DS9505_1LR4_LF1_Adam_Upsampled_20200825-110224.h5 to load model...\n",
      "Using weights file DenseNet169_Chexpert_CWBCE_L1Normed_E5_B32_C0_N12_AugAffine_sharp21_U75_D256_DS9505_1LR4_LF1_Adam_Upsampled_20200829-155417.h5 to load model...\n",
      "Using weights file DenseNet121_Chexpert_CWBCE_L1Normed_E3_B32_C0_N12_AugAffine_sharp21_U75_D256_DS9505_5LR1_LF1_SGD_Upsampled_20200824-121846.h5 to load model...\n",
      "Using weights file DenseNet121_Chexpert_CWBCE_L1Normed_E3_B32_C0_N12_AugAffine_U75_D256_DS9505_5LR1_LF1_SGD_Upsampled_20200823-014547.h5 to load model...\n",
      "Using weights file DenseNet121_Chexpert_CWBCE_L1Normed_E3_B32_C0_N12_AugAffineColor_sharp21_U75_D256_DS9505_5LR1_LF1_SGD_Upsampled_20200827-173856.h5 to load model...\n",
      "Using weights file DenseNet121_Chexpert_CWBCE_L1Normed_E3_B32_C0_N12_AugAffine_sharp21_U75_D256_DS9505_2LR4_LF5_Adam_Upsampled_20200824-084042.h5 to load model...\n"
     ]
    },
    {
     "data": {
      "text/plain": [
       "{'DenseNet121_2_Chexpert_CWBCE_L1Normed_E5_B32_C0_N12_AugAffine_sharp21_U75_D256_DS9505_1LR4_LF1_Adam_Upsampled': <src.architectures.benchmarks.benchmark.Experiment at 0x7fdba47363c8>,\n",
       " 'DenseNet121_Chexpert_CWBCE_L1Normed_E5_B32_C0_N12_AugAffine_sharp21_U75_D256_DS9505_1LR4_LF1_Adam_Upsampled': <src.architectures.benchmarks.benchmark.Experiment at 0x7fdb95c39b38>,\n",
       " 'DenseNet121_Chexpert_BCE_NoNorm_E5_B32_C0_N12_AugAffine_sharp21_U75_D256_DS9505_1LR4_LF1_Adam_Upsampled': <src.architectures.benchmarks.benchmark.Experiment at 0x7fdb891c4da0>,\n",
       " 'DenseNet169_Chexpert_CWBCE_L1Normed_E5_B32_C0_N12_AugAffine_sharp21_U75_D256_DS9505_1LR4_LF1_Adam_Upsampled': <src.architectures.benchmarks.benchmark.Experiment at 0x7fdb8215ec50>,\n",
       " 'DenseNet121_Chexpert_CWBCE_L1Normed_E3_B32_C0_N12_AugAffine_sharp21_U75_D256_DS9505_5LR1_LF1_SGD_Upsampled': <src.architectures.benchmarks.benchmark.Experiment at 0x7fd8b5e57630>,\n",
       " 'DenseNet121_Chexpert_CWBCE_L1Normed_E3_B32_C0_N12_AugAffine_U75_D256_DS9505_5LR1_LF1_SGD_Upsampled': <src.architectures.benchmarks.benchmark.Experiment at 0x7fd8233f8ef0>,\n",
       " 'DenseNet121_Chexpert_CWBCE_L1Normed_E3_B32_C0_N12_AugAffineColor_sharp21_U75_D256_DS9505_5LR1_LF1_SGD_Upsampled': <src.architectures.benchmarks.benchmark.Experiment at 0x7fd810908b38>,\n",
       " 'DenseNet121_Chexpert_CWBCE_L1Normed_E3_B32_C0_N12_AugAffine_sharp21_U75_D256_DS9505_2LR4_LF5_Adam_Upsampled': <src.architectures.benchmarks.benchmark.Experiment at 0x7fd80defba58>}"
      ]
     },
     "execution_count": 3,
     "metadata": {},
     "output_type": "execute_result"
    }
   ],
   "source": [
    "experiments = {} \n",
    "experiment_dicts = {} \n",
    "for experiment_id in experiment_ids:\n",
    "    exp_dict = get_experiment_from_logs(experiment_id=experiment_id)\n",
    "    experiment = rebuild_experiment(exp_dict)\n",
    "    #exp_dict[\"test_again\"] = reevaluate(experiment)\n",
    "    #exp_dict[\"test_difference\"] = sum(difference_test_results(exp_dict[\"test\"], exp_dict[\"test_again\"]).values())\n",
    "    #print(\"test_difference is \", exp_dict[\"test_difference\"])\n",
    "    #experiment_dicts[exp_dict[\"name\"]] = exp_dict\n",
    "    experiments[exp_dict[\"name\"]] =  experiment\n",
    "        \n",
    "experiments.keys()"
   ]
  },
  {
   "cell_type": "code",
   "execution_count": 4,
   "metadata": {},
   "outputs": [
    {
     "name": "stdout",
     "output_type": "stream",
     "text": [
      "234/234 [==============================] - 5s 20ms/step\n",
      "234/234 [==============================] - 5s 20ms/step\n",
      "234/234 [==============================] - 5s 20ms/step\n",
      "234/234 [==============================] - 7s 30ms/step\n",
      "234/234 [==============================] - 5s 20ms/step\n",
      "234/234 [==============================] - 5s 21ms/step\n",
      "234/234 [==============================] - 5s 19ms/step\n",
      "234/234 [==============================] - 5s 20ms/step\n"
     ]
    }
   ],
   "source": [
    "predictions = {}\n",
    "for exp_name, exp in experiments.items():\n",
    "    testgen = exp.benchmark.testgen\n",
    "    testgen.on_epoch_end()\n",
    "\n",
    "    predictions[exp_name] = exp.model.predict(\n",
    "        testgen, steps=len(testgen), verbose=1)"
   ]
  },
  {
   "cell_type": "code",
   "execution_count": 19,
   "metadata": {},
   "outputs": [
    {
     "data": {
      "text/plain": [
       "array([[0.14204814, 0.05922524, 0.04125153, ..., 0.00329158, 0.024773  ,\n",
       "        0.20067492],\n",
       "       [0.12992185, 0.04159359, 0.00746781, ..., 0.01144745, 0.01837277,\n",
       "        0.05012335],\n",
       "       [0.08564375, 0.03324569, 0.02694898, ..., 0.01777107, 0.03584199,\n",
       "        0.09752537],\n",
       "       ...,\n",
       "       [0.4016886 , 0.28435183, 0.07799099, ..., 0.00209289, 0.01425389,\n",
       "        0.1449461 ],\n",
       "       [0.26744035, 0.16901775, 0.03899708, ..., 0.00441077, 0.07441124,\n",
       "        0.04030176],\n",
       "       [0.9253501 , 0.0333859 , 0.12178481, ..., 0.15148972, 0.02372288,\n",
       "        0.03865588]], dtype=float32)"
      ]
     },
     "execution_count": 19,
     "metadata": {},
     "output_type": "execute_result"
    }
   ],
   "source": [
    "list(predictions.values())[0]"
   ]
  },
  {
   "cell_type": "code",
   "execution_count": 22,
   "metadata": {},
   "outputs": [
    {
     "data": {
      "text/plain": [
       "TensorShape([234, 12])"
      ]
     },
     "execution_count": 22,
     "metadata": {},
     "output_type": "execute_result"
    }
   ],
   "source": [
    "y_pred = tf.math.reduce_mean(np.array(list(predictions.values())), axis=0)\n",
    "y_pred.shape"
   ]
  },
  {
   "cell_type": "code",
   "execution_count": 20,
   "metadata": {},
   "outputs": [],
   "source": [
    "y_pred=list(predictions.values())[0]"
   ]
  },
  {
   "cell_type": "code",
   "execution_count": 23,
   "metadata": {},
   "outputs": [
    {
     "data": {
      "text/plain": [
       "{'auc': 0.76924914,\n",
       " 'precision': 0.6911765,\n",
       " 'recall': 0.08608059,\n",
       " 'f2_score': 0.104351684,\n",
       " 'binary_accuracy': 0.8148149,\n",
       " 'accuracy_enlarged_cardiomediastinum': 0.53846157,\n",
       " 'accuracy_cardiomegaly': 0.7393162,\n",
       " 'accuracy_lung_opacity': 0.46153846,\n",
       " 'accuracy_lung_lesion': 0.98717946,\n",
       " 'accuracy_edema': 0.86752135,\n",
       " 'accuracy_consolidation': 0.8632479,\n",
       " 'accuracy_pneumonia': 0.96153843,\n",
       " 'accuracy_atelectasis': 0.66239315,\n",
       " 'accuracy_pneumothorax': 0.96581197,\n",
       " 'accuracy_pleural_effusion': 0.7777778,\n",
       " 'accuracy_pleural_other': 0.974359,\n",
       " 'accuracy_fracture': 0.97863245,\n",
       " 'auc_enlarged_cardiomediastinum': 0.48943114,\n",
       " 'auc_cardiomegaly': 0.7946492,\n",
       " 'auc_lung_opacity': 0.92353755,\n",
       " 'auc_lung_lesion': 0.85622317,\n",
       " 'auc_edema': 0.9340976,\n",
       " 'auc_consolidation': 0.9348711,\n",
       " 'auc_pneumonia': 0.8108407,\n",
       " 'auc_atelectasis': 0.8461851,\n",
       " 'auc_pneumothorax': 0.7970133,\n",
       " 'auc_pleural_effusion': 0.925686,\n",
       " 'auc_pleural_other': 0.9184549,\n",
       " 'auc_fracture': 0.0,\n",
       " 'precision_enlarged_cardiomediastinum': 1.0,\n",
       " 'precision_cardiomegaly': 1.0,\n",
       " 'precision_lung_opacity': 0.0,\n",
       " 'precision_lung_lesion': 0.0,\n",
       " 'precision_edema': 0.8888889,\n",
       " 'precision_consolidation': 1.0,\n",
       " 'precision_pneumonia': 0.33333334,\n",
       " 'precision_atelectasis': 1.0,\n",
       " 'precision_pneumothorax': 0.5,\n",
       " 'precision_pleural_effusion': 0.8947368,\n",
       " 'precision_pleural_other': 0.0,\n",
       " 'precision_fracture': 0.0,\n",
       " 'recall_enlarged_cardiomediastinum': 0.0091743115,\n",
       " 'recall_cardiomegaly': 0.10294118,\n",
       " 'recall_lung_opacity': 0.0,\n",
       " 'recall_lung_lesion': 0.0,\n",
       " 'recall_edema': 0.35555556,\n",
       " 'recall_consolidation': 0.030303031,\n",
       " 'recall_pneumonia': 0.125,\n",
       " 'recall_atelectasis': 0.0125,\n",
       " 'recall_pneumothorax': 0.375,\n",
       " 'recall_pleural_effusion': 0.25373134,\n",
       " 'recall_pleural_other': 0.0,\n",
       " 'recall_fracture': 0.0,\n",
       " 'f2_score_enlarged_cardiomediastinum': 0.011441647,\n",
       " 'f2_score_cardiomegaly': 0.12544803,\n",
       " 'f2_score_lung_opacity': 0.0,\n",
       " 'f2_score_lung_lesion': 0.0,\n",
       " 'f2_score_edema': 0.4040404,\n",
       " 'f2_score_consolidation': 0.037593987,\n",
       " 'f2_score_pneumonia': 0.14285715,\n",
       " 'f2_score_atelectasis': 0.015576324,\n",
       " 'f2_score_pneumothorax': 0.39473683,\n",
       " 'f2_score_pleural_effusion': 0.29616725,\n",
       " 'f2_score_pleural_other': 0.0,\n",
       " 'f2_score_fracture': 0.0}"
      ]
     },
     "execution_count": 23,
     "metadata": {},
     "output_type": "execute_result"
    }
   ],
   "source": [
    "metrics = {}\n",
    "groundtruth_label = exp.benchmark.testgen.get_labels_nonan()\n",
    "for metric in exp.benchmark.metrics:\n",
    "    metric.reset_states()\n",
    "    metric.update_state(tensorflow.constant(groundtruth_label), tensorflow.constant(y_pred))\n",
    "    metrics[metric.name] = metric.result().numpy()\n",
    "metrics"
   ]
  },
  {
   "cell_type": "code",
   "execution_count": 17,
   "metadata": {},
   "outputs": [
    {
     "name": "stdout",
     "output_type": "stream",
     "text": [
      "0.80215734\n",
      "0.74252623\n",
      "0.7985672\n",
      "0.8036845\n",
      "0.79839516\n",
      "0.80233026\n",
      "0.8115233\n",
      "0.80394506\n"
     ]
    }
   ],
   "source": [
    "for preds in predictions.values():\n",
    "    print(auc_metric(groundtruth_label, preds))"
   ]
  },
  {
   "cell_type": "code",
   "execution_count": 16,
   "metadata": {},
   "outputs": [],
   "source": [
    "def auc_metric(y_true, y_pred):\n",
    "    m = tf.keras.metrics.AUC()\n",
    "    m.update_state(y_true, y_pred)\n",
    "    return m.result().numpy()"
   ]
  },
  {
   "cell_type": "code",
   "execution_count": null,
   "metadata": {},
   "outputs": [],
   "source": []
  }
 ],
 "metadata": {
  "kernelspec": {
   "display_name": "Python 3",
   "language": "python",
   "name": "python3"
  },
  "language_info": {
   "codemirror_mode": {
    "name": "ipython",
    "version": 3
   },
   "file_extension": ".py",
   "mimetype": "text/x-python",
   "name": "python",
   "nbconvert_exporter": "python",
   "pygments_lexer": "ipython3",
   "version": "3.6.9"
  }
 },
 "nbformat": 4,
 "nbformat_minor": 4
}
