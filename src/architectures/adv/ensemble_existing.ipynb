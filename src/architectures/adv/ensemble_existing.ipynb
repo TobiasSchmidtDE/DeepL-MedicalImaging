{
 "cells": [
  {
   "cell_type": "markdown",
   "metadata": {},
   "source": [
    "# Author: Tobias"
   ]
  },
  {
   "cell_type": "code",
   "execution_count": 2,
   "metadata": {},
   "outputs": [
    {
     "name": "stdout",
     "output_type": "stream",
     "text": [
      "The autoreload extension is already loaded. To reload it, use:\n",
      "  %reload_ext autoreload\n",
      "Device mapping:\n",
      "/job:localhost/replica:0/task:0/device:XLA_CPU:0 -> device: XLA_CPU device\n",
      "\n"
     ]
    }
   ],
   "source": [
    "import os \n",
    "import datetime\n",
    "from pathlib import Path\n",
    "from dotenv import load_dotenv, find_dotenv\n",
    "\n",
    "basepath = Path(os.getcwd())\n",
    "# make sure your working directory is the repository root.\n",
    "if basepath.name != \"idp-radio-1\":\n",
    "    os.chdir(basepath.parent.parent.parent)\n",
    "load_dotenv(find_dotenv())\n",
    "\n",
    "%load_ext autoreload\n",
    "%autoreload 2\n",
    "os.getcwd()\n",
    "\n",
    "import os \n",
    "import tensorflow as tf\n",
    "from pathlib import Path\n",
    "import cv2\n",
    "\n",
    "# Run this before loading other dependencies, otherwise they might occupy memory on gpu 0 by default and it will stay that way\n",
    "\n",
    "# Specify which GPU(s) to use\n",
    "os.environ[\"CUDA_VISIBLE_DEVICES\"] = \"1\"  # Or 2, 3, etc. other than 0\n",
    "\n",
    "config = tf.compat.v1.ConfigProto(device_count={'GPU': 0}, allow_soft_placement=True, log_device_placement=True)\n",
    "config.gpu_options.allow_growth = True\n",
    "config.gpu_options.per_process_gpu_memory_fraction = 1.0\n",
    "tf.compat.v1.Session(config=config)\n",
    "\n",
    "from tensorflow.keras.applications.inception_v3 import InceptionV3\n",
    "from tensorflow.keras.applications.densenet import DenseNet121\n",
    "from tensorflow.keras.applications.resnet_v2 import ResNet101V2\n",
    "from tensorflow.keras.applications.inception_resnet_v2 import InceptionResNetV2\n",
    "from src.architectures.simple.simple_base import SimpleBaseArchitecture\n",
    "import numpy as np\n",
    "\n",
    "from src.architectures.benchmarks.benchmark import Benchmark, Experiment\n",
    "from tensorflow.keras.optimizers import Adam, SGD\n",
    "from src.architectures.simple.load_model import *\n",
    "from src.architectures.benchmarks.benchmark_definitions import Chexpert_Benchmark, Chestxray14_Benchmark, simple_architecture_experiment, generate_benchmarks, METRICS, SINGLE_CLASS_METRICS, CHEXPERT_COLUMNS, CHESTXRAY14_COLUMNS\n",
    "from src.metrics.metrics import F2Score\n",
    "from src.metrics.losses import WeightedBinaryCrossentropy, BinaryCrossentropy, compute_class_weight\n",
    "from src.utils.save_model import load_model"
   ]
  },
  {
   "cell_type": "code",
   "execution_count": 7,
   "metadata": {},
   "outputs": [],
   "source": [
    "# color, affine + color, affine\n",
    "#model_ids = [\"c55ed5c6-e879-11ea-9a58-0242ac110005\", \"2eb47be0-e88c-11ea-9a58-0242ac110005\", \"74d8220a-e6c2-11ea-b084-0242ac110005\"]\n",
    "\n",
    "experiment_ids = [\"f5345e7e-e603-11ea-b461-0242ac110005\",\n",
    "             \"74d8220a-e6c2-11ea-b084-0242ac110005\",\n",
    "             #\"7f0b1972-e5e5-11ea-a85b-0242ac110005\",\n",
    "             #\"ba5364e6-e949-11ea-87eb-0242ac110005\",\n",
    "             \"bd5c2e9a-e9ec-11ea-ae3a-0242ac110005\"\n",
    "]\n",
    "\n",
    "experiment_ids = [\n",
    "    \"bd5c2e9a-e9ec-11ea-ae3a-0242ac110005\",\n",
    "    \"bca75ad8-e6f4-11ea-a90b-0242ac110005\",\n",
    "    \"74d8220a-e6c2-11ea-b084-0242ac110005\",\n",
    "    \"e506d8f0-ea0f-11ea-8dbb-0242ac110005\",\n",
    "    \"67131280-e7d8-11ea-b8fe-0242ac110005\",\n",
    "    \"5dcb7ecc-e4e2-11ea-96c6-0242ac110005\",\n",
    "    \"2eb47be0-e88c-11ea-9a58-0242ac110005\",\n",
    "    \"7f0b1972-e5e5-11ea-a85b-0242ac110005\",\n",
    "]\n",
    "\n",
    "experiment_ids = [\n",
    "    \"1a955742-e3ff-11ea-bd3d-0242ac110005\",\n",
    "    \"541ed996-e410-11ea-a602-0242ac110005\",\n",
    "    \"1262eecc-e490-11ea-a3de-0242ac110005\",\n",
    "    \"5663f98e-e44c-11ea-bed5-0242ac110005\",\n",
    "]\n",
    "\n",
    "\n",
    "# reevaluated valid auc: best models per class \n",
    "experiment_ids = ['b57e5750-e66a-11ea-bb5e-0242ac110005',\n",
    "  '74d8220a-e6c2-11ea-b084-0242ac110005',\n",
    "  'e506d8f0-ea0f-11ea-8dbb-0242ac110005',\n",
    "  '5dcb7ecc-e4e2-11ea-96c6-0242ac110005',\n",
    "  'bd5c2e9a-e9ec-11ea-ae3a-0242ac110005',\n",
    "  '7f0b1972-e5e5-11ea-a85b-0242ac110005',\n",
    "  'ef363064-e53c-11ea-8173-0242ac110005']\n",
    "\n",
    "# reevaluated test auc: best models per class \n",
    "experiment_ids = ['1262eecc-e490-11ea-a3de-0242ac110005',\n",
    "  '4267e786-e2dc-11ea-a072-0242ac110005',\n",
    "  'f5345e7e-e603-11ea-b461-0242ac110005',\n",
    "  'fc098932-e58f-11ea-8d19-0242ac110005',\n",
    "  'ac1da21e-e47c-11ea-ad88-0242ac110005',\n",
    "  'a99f1906-e4a3-11ea-87a3-0242ac110005',\n",
    "  'ba5364e6-e949-11ea-87eb-0242ac110005',\n",
    "  'conf-c55ed5c6-e879-11ea-9a58-0242ac110005',\n",
    "  'bd5c2e9a-e9ec-11ea-ae3a-0242ac110005']\n",
    "\n",
    "experiment_names = [\n",
    "    \"InceptionResNetV2_Chexpert_BCE_NoNorm_E5_B32_C0_N12_AugAffine_sharp21_U75_D256_DS9505_1LR4_LF1_Adam_Upsampled\",\n",
    "    \"Xception-2_Chexpert_BCE_NoNorm_E5_B32_C0_N12_AugAffine_sharp21_U75_D256_DS9505_1LR4_LF1_Adam_Upsampled\",\n",
    "    \"DenseNet121_Chexpert_BCE_NoNorm_E5_B32_C0_N12_AugAffine_sharp21_U75_D256_DS9505_1LR4_LF1_Adam_Upsampled\",\n",
    "    \"DenseNet169_Chexpert_CWBCE_L1Normed_E5_B32_C0_N12_AugAffine_sharp21_U75_D256_DS9505_1LR4_LF1_Adam_Upsampled\",\n",
    "]\n",
    "\n",
    "#ensemble auc 0.88\n",
    "experiment_ids = [\n",
    "    \"1a955742-e3ff-11ea-bd3d-0242ac110005\",\n",
    "    \"541ed996-e410-11ea-a602-0242ac110005\",\n",
    "    \"1262eecc-e490-11ea-a3de-0242ac110005\",\n",
    "    \"5663f98e-e44c-11ea-bed5-0242ac110005\",\n",
    "]\n",
    "\n",
    "experiment_ids = [\n",
    "    \"1a955742-e3ff-11ea-bd3d-0242ac110005\",\n",
    "    \"541ed996-e410-11ea-a602-0242ac110005\",\n",
    "    \"1262eecc-e490-11ea-a3de-0242ac110005\",\n",
    "    #\"5663f98e-e44c-11ea-bed5-0242ac110005\",\n",
    "    \n",
    "    #\"c2a1ebe2-e3ca-11ea-b11d-0242ac110005\",\n",
    "    #\"33836220-e216-11ea-bf5d-0242ac110005\",\n",
    "    #\"20782b86-e2c3-11ea-b42f-0242ac110005\",\n",
    "    #\"4267e786-e2dc-11ea-a072-0242ac110005\",\n",
    "]\n",
    "\n",
    "\n",
    "experiment_ids = [\n",
    "    \"1a955742-e3ff-11ea-bd3d-0242ac110005\",\n",
    "    \"03479e56-ee90-11ea-b021-0242ac110002\",\n",
    "    \"3690b8d6-eeab-11ea-8206-0242ac110002\",\n",
    "]\n",
    "experiment_names = [\n",
    "    \"DenseNet121_2_Chexpert_CWBCE_L1Normed_E5_B32_C0_N12_AugAffine_sharp21_U75_D256_DS9505_1LR4_LF1_Adam_Upsampled\",\n",
    "    \"InceptionResNetV2_Chexpert_BCE_NoNorm_E5_B32_C0_N12_AugAffine_sharp21_U75_D256_DS9505_1LR4_LF1_Adam_Upsampled\",\n",
    "    \"DenseNet121_Chexpert_WBCE_E3_B32_C0_N12_AugAffine_U75_D256_DS9505_1LR1_LF5_SGD_Upsampled\",\n",
    "]\n",
    "\n",
    "experiment_ids = [('bd5c2e9a-e9ec-11ea-ae3a-0242ac110005', 3, 0.8613448359749534),\n",
    "                 ('bd5c2e9a-e9ec-11ea-ae3a-0242ac110005', 4, 0.8604057214476846),\n",
    "                 ('bd5c2e9a-e9ec-11ea-ae3a-0242ac110005', 5, 0.8603749329393561),\n",
    "                 ('bd5c2e9a-e9ec-11ea-ae3a-0242ac110005', 2, 0.86009220643477),\n",
    "                 ('bca75ad8-e6f4-11ea-a90b-0242ac110005', 2, 0.8534599163315513),\n",
    "                 ('bca75ad8-e6f4-11ea-a90b-0242ac110005', 4, 0.8475377505475824),\n",
    "                 ('74d8220a-e6c2-11ea-b084-0242ac110005', 2, 0.8475213592702692),\n",
    "                 ('bca75ad8-e6f4-11ea-a90b-0242ac110005', 5, 0.8474861112507907),\n",
    "                 ('1262eecc-e490-11ea-a3de-0242ac110005', 3, 0.8471921357241544),\n",
    "                 ('bca75ad8-e6f4-11ea-a90b-0242ac110005', 3, 0.8467668078162454),\n",
    "                 ('74d8220a-e6c2-11ea-b084-0242ac110005', 1, 0.8463928970423612)]\n",
    "experiment_names = [\n",
    "    \"InceptionResNetV2_Chexpert_BCE_NoNorm_E5_B32_C0_N12_AugAffine_sharp21_U75_D256_DS9505_1LR4_LF1_Adam_Upsampled\",\n",
    "    \"Xception-2_Chexpert_BCE_NoNorm_E5_B32_C0_N12_AugAffine_sharp21_U75_D256_DS9505_1LR4_LF1_Adam_Upsampled\",\n",
    "    \"DenseNet121_Chexpert_BCE_NoNorm_E5_B32_C0_N12_AugAffine_sharp21_U75_D256_DS9505_1LR4_LF1_Adam_Upsampled\",\n",
    "    \"DenseNet169_Chexpert_CWBCE_L1Normed_E5_B32_C0_N12_AugAffine_sharp21_U75_D256_DS9505_1LR4_LF1_Adam_Upsampled\",\n",
    "]\n",
    "# best classbased test auc\n",
    "experiment_ids = ['1262eecc-e490-11ea-a3de-0242ac110005',\n",
    "  '4267e786-e2dc-11ea-a072-0242ac110005',\n",
    "  '03479e56-ee90-11ea-b021-0242ac110002',\n",
    "  'fc098932-e58f-11ea-8d19-0242ac110005',\n",
    "  'ac1da21e-e47c-11ea-ad88-0242ac110005',\n",
    "  'a99f1906-e4a3-11ea-87a3-0242ac110005',\n",
    "  'ba5364e6-e949-11ea-87eb-0242ac110005',\n",
    "  'conf-c55ed5c6-e879-11ea-9a58-0242ac110005',\n",
    "  'f5345e7e-e603-11ea-b461-0242ac110005',\n",
    "  '653d264a-ee44-11ea-bcb1-0242ac110002']\n",
    "\n",
    "#ensemble auc 0.88\n",
    "experiment_ids = [\n",
    "    \"1a955742-e3ff-11ea-bd3d-0242ac110005\",\n",
    "    \"541ed996-e410-11ea-a602-0242ac110005\",\n",
    "    \"1262eecc-e490-11ea-a3de-0242ac110005\",\n",
    "    \"5663f98e-e44c-11ea-bed5-0242ac110005\",\n",
    "]\n"
   ]
  },
  {
   "cell_type": "code",
   "execution_count": 6,
   "metadata": {
    "collapsed": true,
    "jupyter": {
     "outputs_hidden": true
    }
   },
   "outputs": [
    {
     "name": "stdout",
     "output_type": "stream",
     "text": [
      "Using weights file InceptionResNetV2_Chexpert_BCE_NoNorm_E5_B32_C0_N12_AugAffine_sharp21_U75_D256_DS9505_1LR4_LF1_Adam_Upsampled_20200825-170219.h5 to load model...\n"
     ]
    },
    {
     "ename": "KeyboardInterrupt",
     "evalue": "",
     "output_type": "error",
     "traceback": [
      "\u001b[0;31m---------------------------------------------------------------------------\u001b[0m",
      "\u001b[0;31mKeyboardInterrupt\u001b[0m                         Traceback (most recent call last)",
      "\u001b[0;32m<ipython-input-6-03beccb26a08>\u001b[0m in \u001b[0;36m<module>\u001b[0;34m\u001b[0m\n\u001b[1;32m      3\u001b[0m \u001b[0;32mfor\u001b[0m \u001b[0mexperiment_name\u001b[0m \u001b[0;32min\u001b[0m \u001b[0mexperiment_names\u001b[0m\u001b[0;34m:\u001b[0m\u001b[0;34m\u001b[0m\u001b[0;34m\u001b[0m\u001b[0m\n\u001b[1;32m      4\u001b[0m     \u001b[0mexp_dict\u001b[0m \u001b[0;34m=\u001b[0m \u001b[0mget_experiment_from_logs\u001b[0m\u001b[0;34m(\u001b[0m\u001b[0mname\u001b[0m\u001b[0;34m=\u001b[0m\u001b[0mexperiment_name\u001b[0m\u001b[0;34m)\u001b[0m\u001b[0;34m\u001b[0m\u001b[0;34m\u001b[0m\u001b[0m\n\u001b[0;32m----> 5\u001b[0;31m     \u001b[0mexperiment\u001b[0m \u001b[0;34m=\u001b[0m \u001b[0mrebuild_experiment\u001b[0m\u001b[0;34m(\u001b[0m\u001b[0mexp_dict\u001b[0m\u001b[0;34m)\u001b[0m\u001b[0;34m\u001b[0m\u001b[0;34m\u001b[0m\u001b[0m\n\u001b[0m\u001b[1;32m      6\u001b[0m     \u001b[0mexp_dict\u001b[0m\u001b[0;34m[\u001b[0m\u001b[0;34m\"test_again\"\u001b[0m\u001b[0;34m]\u001b[0m \u001b[0;34m=\u001b[0m \u001b[0mreevaluate\u001b[0m\u001b[0;34m(\u001b[0m\u001b[0mexperiment\u001b[0m\u001b[0;34m)\u001b[0m\u001b[0;34m\u001b[0m\u001b[0;34m\u001b[0m\u001b[0m\n\u001b[1;32m      7\u001b[0m     \u001b[0mexp_dict\u001b[0m\u001b[0;34m[\u001b[0m\u001b[0;34m\"test_difference\"\u001b[0m\u001b[0;34m]\u001b[0m \u001b[0;34m=\u001b[0m \u001b[0msum\u001b[0m\u001b[0;34m(\u001b[0m\u001b[0mdifference_test_results\u001b[0m\u001b[0;34m(\u001b[0m\u001b[0mexp_dict\u001b[0m\u001b[0;34m[\u001b[0m\u001b[0;34m\"test\"\u001b[0m\u001b[0;34m]\u001b[0m\u001b[0;34m,\u001b[0m \u001b[0mexp_dict\u001b[0m\u001b[0;34m[\u001b[0m\u001b[0;34m\"test_again\"\u001b[0m\u001b[0;34m]\u001b[0m\u001b[0;34m)\u001b[0m\u001b[0;34m.\u001b[0m\u001b[0mvalues\u001b[0m\u001b[0;34m(\u001b[0m\u001b[0;34m)\u001b[0m\u001b[0;34m)\u001b[0m\u001b[0;34m\u001b[0m\u001b[0;34m\u001b[0m\u001b[0m\n",
      "\u001b[0;32m/srv/idp-radio-1/src/architectures/simple/load_model.py\u001b[0m in \u001b[0;36mrebuild_experiment\u001b[0;34m(experiment_dict, epoch, model_folder)\u001b[0m\n\u001b[1;32m    210\u001b[0m         \u001b[0;32mraise\u001b[0m \u001b[0mException\u001b[0m\u001b[0;34m(\u001b[0m\u001b[0;34mf\"Weights file '{weights_path}' does not exist \"\u001b[0m\u001b[0;34m)\u001b[0m\u001b[0;34m\u001b[0m\u001b[0;34m\u001b[0m\u001b[0m\n\u001b[1;32m    211\u001b[0m \u001b[0;34m\u001b[0m\u001b[0m\n\u001b[0;32m--> 212\u001b[0;31m     \u001b[0mexperiment\u001b[0m \u001b[0;34m=\u001b[0m \u001b[0msimple_architecture_experiment\u001b[0m\u001b[0;34m(\u001b[0m\u001b[0mbenchmark\u001b[0m\u001b[0;34m,\u001b[0m \u001b[0marchitecture_fn\u001b[0m\u001b[0;34m,\u001b[0m \u001b[0mbenchmark\u001b[0m\u001b[0;34m.\u001b[0m\u001b[0mlabel_columns\u001b[0m\u001b[0;34m)\u001b[0m\u001b[0;34m\u001b[0m\u001b[0;34m\u001b[0m\u001b[0m\n\u001b[0m\u001b[1;32m    213\u001b[0m     \u001b[0mexperiment\u001b[0m\u001b[0;34m.\u001b[0m\u001b[0mmodel\u001b[0m\u001b[0;34m.\u001b[0m\u001b[0mload_weights\u001b[0m\u001b[0;34m(\u001b[0m\u001b[0mweights_path\u001b[0m\u001b[0;34m)\u001b[0m\u001b[0;34m\u001b[0m\u001b[0;34m\u001b[0m\u001b[0m\n\u001b[1;32m    214\u001b[0m \u001b[0;34m\u001b[0m\u001b[0m\n",
      "\u001b[0;32m/srv/idp-radio-1/src/architectures/benchmarks/benchmark_definitions.py\u001b[0m in \u001b[0;36msimple_architecture_experiment\u001b[0;34m(benchmark, base_model_fn, classes, train_last_layer_only)\u001b[0m\n\u001b[1;32m     71\u001b[0m \u001b[0;32mdef\u001b[0m \u001b[0msimple_architecture_experiment\u001b[0m\u001b[0;34m(\u001b[0m\u001b[0mbenchmark\u001b[0m\u001b[0;34m,\u001b[0m \u001b[0mbase_model_fn\u001b[0m\u001b[0;34m,\u001b[0m \u001b[0mclasses\u001b[0m\u001b[0;34m,\u001b[0m \u001b[0mtrain_last_layer_only\u001b[0m\u001b[0;34m=\u001b[0m\u001b[0;32mFalse\u001b[0m\u001b[0;34m)\u001b[0m\u001b[0;34m:\u001b[0m\u001b[0;34m\u001b[0m\u001b[0;34m\u001b[0m\u001b[0m\n\u001b[1;32m     72\u001b[0m     model = SimpleBaseArchitecture(base_model_fn, len(\n\u001b[0;32m---> 73\u001b[0;31m         classes), train_last_layer_only=train_last_layer_only)\n\u001b[0m\u001b[1;32m     74\u001b[0m     \u001b[0mexperiment\u001b[0m \u001b[0;34m=\u001b[0m \u001b[0mExperiment\u001b[0m\u001b[0;34m(\u001b[0m\u001b[0mbenchmark\u001b[0m\u001b[0;34m,\u001b[0m \u001b[0mmodel\u001b[0m\u001b[0;34m)\u001b[0m\u001b[0;34m\u001b[0m\u001b[0;34m\u001b[0m\u001b[0m\n\u001b[1;32m     75\u001b[0m     \u001b[0;32mreturn\u001b[0m \u001b[0mexperiment\u001b[0m\u001b[0;34m\u001b[0m\u001b[0;34m\u001b[0m\u001b[0m\n",
      "\u001b[0;32m/srv/idp-radio-1/src/architectures/simple/simple_base.py\u001b[0m in \u001b[0;36mSimpleBaseArchitecture\u001b[0;34m(base_model_fn, num_classes, name, train_last_layer_only)\u001b[0m\n\u001b[1;32m     20\u001b[0m     \"\"\"\n\u001b[1;32m     21\u001b[0m     \u001b[0;32mtry\u001b[0m\u001b[0;34m:\u001b[0m\u001b[0;34m\u001b[0m\u001b[0;34m\u001b[0m\u001b[0m\n\u001b[0;32m---> 22\u001b[0;31m         \u001b[0mbase_model\u001b[0m \u001b[0;34m=\u001b[0m \u001b[0mbase_model_fn\u001b[0m\u001b[0;34m(\u001b[0m\u001b[0minclude_top\u001b[0m\u001b[0;34m=\u001b[0m\u001b[0;32mFalse\u001b[0m\u001b[0;34m,\u001b[0m \u001b[0mweights\u001b[0m\u001b[0;34m=\u001b[0m\u001b[0;34m'imagenet'\u001b[0m\u001b[0;34m)\u001b[0m\u001b[0;34m\u001b[0m\u001b[0;34m\u001b[0m\u001b[0m\n\u001b[0m\u001b[1;32m     23\u001b[0m     \u001b[0;32mexcept\u001b[0m \u001b[0mException\u001b[0m \u001b[0;32mas\u001b[0m \u001b[0merr\u001b[0m\u001b[0;34m:\u001b[0m\u001b[0;34m\u001b[0m\u001b[0;34m\u001b[0m\u001b[0m\n\u001b[1;32m     24\u001b[0m         \u001b[0mprint\u001b[0m\u001b[0;34m(\u001b[0m\u001b[0merr\u001b[0m\u001b[0;34m)\u001b[0m\u001b[0;34m\u001b[0m\u001b[0;34m\u001b[0m\u001b[0m\n",
      "\u001b[0;32m/usr/local/lib/python3.6/dist-packages/tensorflow/python/keras/applications/inception_resnet_v2.py\u001b[0m in \u001b[0;36mInceptionResNetV2\u001b[0;34m(include_top, weights, input_tensor, input_shape, pooling, classes, classifier_activation, **kwargs)\u001b[0m\n\u001b[1;32m    179\u001b[0m   \u001b[0;32mfor\u001b[0m \u001b[0mblock_idx\u001b[0m \u001b[0;32min\u001b[0m \u001b[0mrange\u001b[0m\u001b[0;34m(\u001b[0m\u001b[0;36m1\u001b[0m\u001b[0;34m,\u001b[0m \u001b[0;36m21\u001b[0m\u001b[0;34m)\u001b[0m\u001b[0;34m:\u001b[0m\u001b[0;34m\u001b[0m\u001b[0;34m\u001b[0m\u001b[0m\n\u001b[1;32m    180\u001b[0m     x = inception_resnet_block(\n\u001b[0;32m--> 181\u001b[0;31m         x, scale=0.1, block_type='block17', block_idx=block_idx)\n\u001b[0m\u001b[1;32m    182\u001b[0m \u001b[0;34m\u001b[0m\u001b[0m\n\u001b[1;32m    183\u001b[0m   \u001b[0;31m# Mixed 7a (Reduction-B block): 8 x 8 x 2080\u001b[0m\u001b[0;34m\u001b[0m\u001b[0;34m\u001b[0m\u001b[0;34m\u001b[0m\u001b[0m\n",
      "\u001b[0;32m/usr/local/lib/python3.6/dist-packages/tensorflow/python/keras/applications/inception_resnet_v2.py\u001b[0m in \u001b[0;36minception_resnet_block\u001b[0;34m(x, scale, block_type, block_idx, activation)\u001b[0m\n\u001b[1;32m    341\u001b[0m   \u001b[0;32melif\u001b[0m \u001b[0mblock_type\u001b[0m \u001b[0;34m==\u001b[0m \u001b[0;34m'block17'\u001b[0m\u001b[0;34m:\u001b[0m\u001b[0;34m\u001b[0m\u001b[0;34m\u001b[0m\u001b[0m\n\u001b[1;32m    342\u001b[0m     \u001b[0mbranch_0\u001b[0m \u001b[0;34m=\u001b[0m \u001b[0mconv2d_bn\u001b[0m\u001b[0;34m(\u001b[0m\u001b[0mx\u001b[0m\u001b[0;34m,\u001b[0m \u001b[0;36m192\u001b[0m\u001b[0;34m,\u001b[0m \u001b[0;36m1\u001b[0m\u001b[0;34m)\u001b[0m\u001b[0;34m\u001b[0m\u001b[0;34m\u001b[0m\u001b[0m\n\u001b[0;32m--> 343\u001b[0;31m     \u001b[0mbranch_1\u001b[0m \u001b[0;34m=\u001b[0m \u001b[0mconv2d_bn\u001b[0m\u001b[0;34m(\u001b[0m\u001b[0mx\u001b[0m\u001b[0;34m,\u001b[0m \u001b[0;36m128\u001b[0m\u001b[0;34m,\u001b[0m \u001b[0;36m1\u001b[0m\u001b[0;34m)\u001b[0m\u001b[0;34m\u001b[0m\u001b[0;34m\u001b[0m\u001b[0m\n\u001b[0m\u001b[1;32m    344\u001b[0m     \u001b[0mbranch_1\u001b[0m \u001b[0;34m=\u001b[0m \u001b[0mconv2d_bn\u001b[0m\u001b[0;34m(\u001b[0m\u001b[0mbranch_1\u001b[0m\u001b[0;34m,\u001b[0m \u001b[0;36m160\u001b[0m\u001b[0;34m,\u001b[0m \u001b[0;34m[\u001b[0m\u001b[0;36m1\u001b[0m\u001b[0;34m,\u001b[0m \u001b[0;36m7\u001b[0m\u001b[0;34m]\u001b[0m\u001b[0;34m)\u001b[0m\u001b[0;34m\u001b[0m\u001b[0;34m\u001b[0m\u001b[0m\n\u001b[1;32m    345\u001b[0m     \u001b[0mbranch_1\u001b[0m \u001b[0;34m=\u001b[0m \u001b[0mconv2d_bn\u001b[0m\u001b[0;34m(\u001b[0m\u001b[0mbranch_1\u001b[0m\u001b[0;34m,\u001b[0m \u001b[0;36m192\u001b[0m\u001b[0;34m,\u001b[0m \u001b[0;34m[\u001b[0m\u001b[0;36m7\u001b[0m\u001b[0;34m,\u001b[0m \u001b[0;36m1\u001b[0m\u001b[0;34m]\u001b[0m\u001b[0;34m)\u001b[0m\u001b[0;34m\u001b[0m\u001b[0;34m\u001b[0m\u001b[0m\n",
      "\u001b[0;32m/usr/local/lib/python3.6/dist-packages/tensorflow/python/keras/applications/inception_resnet_v2.py\u001b[0m in \u001b[0;36mconv2d_bn\u001b[0;34m(x, filters, kernel_size, strides, padding, activation, use_bias, name)\u001b[0m\n\u001b[1;32m    284\u001b[0m     \u001b[0mbn_axis\u001b[0m \u001b[0;34m=\u001b[0m \u001b[0;36m1\u001b[0m \u001b[0;32mif\u001b[0m \u001b[0mbackend\u001b[0m\u001b[0;34m.\u001b[0m\u001b[0mimage_data_format\u001b[0m\u001b[0;34m(\u001b[0m\u001b[0;34m)\u001b[0m \u001b[0;34m==\u001b[0m \u001b[0;34m'channels_first'\u001b[0m \u001b[0;32melse\u001b[0m \u001b[0;36m3\u001b[0m\u001b[0;34m\u001b[0m\u001b[0;34m\u001b[0m\u001b[0m\n\u001b[1;32m    285\u001b[0m     \u001b[0mbn_name\u001b[0m \u001b[0;34m=\u001b[0m \u001b[0;32mNone\u001b[0m \u001b[0;32mif\u001b[0m \u001b[0mname\u001b[0m \u001b[0;32mis\u001b[0m \u001b[0;32mNone\u001b[0m \u001b[0;32melse\u001b[0m \u001b[0mname\u001b[0m \u001b[0;34m+\u001b[0m \u001b[0;34m'_bn'\u001b[0m\u001b[0;34m\u001b[0m\u001b[0;34m\u001b[0m\u001b[0m\n\u001b[0;32m--> 286\u001b[0;31m     \u001b[0mx\u001b[0m \u001b[0;34m=\u001b[0m \u001b[0mlayers\u001b[0m\u001b[0;34m.\u001b[0m\u001b[0mBatchNormalization\u001b[0m\u001b[0;34m(\u001b[0m\u001b[0maxis\u001b[0m\u001b[0;34m=\u001b[0m\u001b[0mbn_axis\u001b[0m\u001b[0;34m,\u001b[0m \u001b[0mscale\u001b[0m\u001b[0;34m=\u001b[0m\u001b[0;32mFalse\u001b[0m\u001b[0;34m,\u001b[0m \u001b[0mname\u001b[0m\u001b[0;34m=\u001b[0m\u001b[0mbn_name\u001b[0m\u001b[0;34m)\u001b[0m\u001b[0;34m(\u001b[0m\u001b[0mx\u001b[0m\u001b[0;34m)\u001b[0m\u001b[0;34m\u001b[0m\u001b[0;34m\u001b[0m\u001b[0m\n\u001b[0m\u001b[1;32m    287\u001b[0m   \u001b[0;32mif\u001b[0m \u001b[0mactivation\u001b[0m \u001b[0;32mis\u001b[0m \u001b[0;32mnot\u001b[0m \u001b[0;32mNone\u001b[0m\u001b[0;34m:\u001b[0m\u001b[0;34m\u001b[0m\u001b[0;34m\u001b[0m\u001b[0m\n\u001b[1;32m    288\u001b[0m     \u001b[0mac_name\u001b[0m \u001b[0;34m=\u001b[0m \u001b[0;32mNone\u001b[0m \u001b[0;32mif\u001b[0m \u001b[0mname\u001b[0m \u001b[0;32mis\u001b[0m \u001b[0;32mNone\u001b[0m \u001b[0;32melse\u001b[0m \u001b[0mname\u001b[0m \u001b[0;34m+\u001b[0m \u001b[0;34m'_ac'\u001b[0m\u001b[0;34m\u001b[0m\u001b[0;34m\u001b[0m\u001b[0m\n",
      "\u001b[0;32m/usr/local/lib/python3.6/dist-packages/tensorflow/python/keras/layers/normalization.py\u001b[0m in \u001b[0;36m__init__\u001b[0;34m(self, axis, momentum, epsilon, center, scale, beta_initializer, gamma_initializer, moving_mean_initializer, moving_variance_initializer, beta_regularizer, gamma_regularizer, beta_constraint, gamma_constraint, renorm, renorm_clipping, renorm_momentum, fused, trainable, virtual_batch_size, adjustment, name, **kwargs)\u001b[0m\n\u001b[1;32m    192\u001b[0m     \u001b[0mself\u001b[0m\u001b[0;34m.\u001b[0m\u001b[0mgamma_regularizer\u001b[0m \u001b[0;34m=\u001b[0m \u001b[0mregularizers\u001b[0m\u001b[0;34m.\u001b[0m\u001b[0mget\u001b[0m\u001b[0;34m(\u001b[0m\u001b[0mgamma_regularizer\u001b[0m\u001b[0;34m)\u001b[0m\u001b[0;34m\u001b[0m\u001b[0;34m\u001b[0m\u001b[0m\n\u001b[1;32m    193\u001b[0m     \u001b[0mself\u001b[0m\u001b[0;34m.\u001b[0m\u001b[0mbeta_constraint\u001b[0m \u001b[0;34m=\u001b[0m \u001b[0mconstraints\u001b[0m\u001b[0;34m.\u001b[0m\u001b[0mget\u001b[0m\u001b[0;34m(\u001b[0m\u001b[0mbeta_constraint\u001b[0m\u001b[0;34m)\u001b[0m\u001b[0;34m\u001b[0m\u001b[0;34m\u001b[0m\u001b[0m\n\u001b[0;32m--> 194\u001b[0;31m     \u001b[0mself\u001b[0m\u001b[0;34m.\u001b[0m\u001b[0mgamma_constraint\u001b[0m \u001b[0;34m=\u001b[0m \u001b[0mconstraints\u001b[0m\u001b[0;34m.\u001b[0m\u001b[0mget\u001b[0m\u001b[0;34m(\u001b[0m\u001b[0mgamma_constraint\u001b[0m\u001b[0;34m)\u001b[0m\u001b[0;34m\u001b[0m\u001b[0;34m\u001b[0m\u001b[0m\n\u001b[0m\u001b[1;32m    195\u001b[0m     \u001b[0mself\u001b[0m\u001b[0;34m.\u001b[0m\u001b[0mrenorm\u001b[0m \u001b[0;34m=\u001b[0m \u001b[0mrenorm\u001b[0m\u001b[0;34m\u001b[0m\u001b[0;34m\u001b[0m\u001b[0m\n\u001b[1;32m    196\u001b[0m     \u001b[0mself\u001b[0m\u001b[0;34m.\u001b[0m\u001b[0mvirtual_batch_size\u001b[0m \u001b[0;34m=\u001b[0m \u001b[0mvirtual_batch_size\u001b[0m\u001b[0;34m\u001b[0m\u001b[0;34m\u001b[0m\u001b[0m\n",
      "\u001b[0;32m/usr/local/lib/python3.6/dist-packages/tensorflow/python/keras/engine/base_layer.py\u001b[0m in \u001b[0;36m__setattr__\u001b[0;34m(self, name, value)\u001b[0m\n\u001b[1;32m   2778\u001b[0m     \u001b[0;31m# if necessary.\u001b[0m\u001b[0;34m\u001b[0m\u001b[0;34m\u001b[0m\u001b[0;34m\u001b[0m\u001b[0m\n\u001b[1;32m   2779\u001b[0m     \u001b[0;32mtry\u001b[0m\u001b[0;34m:\u001b[0m\u001b[0;34m\u001b[0m\u001b[0;34m\u001b[0m\u001b[0m\n\u001b[0;32m-> 2780\u001b[0;31m       \u001b[0mself\u001b[0m\u001b[0;34m.\u001b[0m\u001b[0m__delattr__\u001b[0m\u001b[0;34m(\u001b[0m\u001b[0mname\u001b[0m\u001b[0;34m)\u001b[0m\u001b[0;34m\u001b[0m\u001b[0;34m\u001b[0m\u001b[0m\n\u001b[0m\u001b[1;32m   2781\u001b[0m     \u001b[0;32mexcept\u001b[0m \u001b[0mAttributeError\u001b[0m\u001b[0;34m:\u001b[0m\u001b[0;34m\u001b[0m\u001b[0;34m\u001b[0m\u001b[0m\n\u001b[1;32m   2782\u001b[0m       \u001b[0;32mpass\u001b[0m\u001b[0;34m\u001b[0m\u001b[0;34m\u001b[0m\u001b[0m\n",
      "\u001b[0;32m/usr/local/lib/python3.6/dist-packages/tensorflow/python/keras/engine/base_layer.py\u001b[0m in \u001b[0;36m__delattr__\u001b[0;34m(self, name)\u001b[0m\n\u001b[1;32m   2723\u001b[0m     \u001b[0;31m# should clean it out to avoid leaking memory. First we check if there are\u001b[0m\u001b[0;34m\u001b[0m\u001b[0;34m\u001b[0m\u001b[0;34m\u001b[0m\u001b[0m\n\u001b[1;32m   2724\u001b[0m     \u001b[0;31m# other attributes referencing it.\u001b[0m\u001b[0;34m\u001b[0m\u001b[0;34m\u001b[0m\u001b[0;34m\u001b[0m\u001b[0m\n\u001b[0;32m-> 2725\u001b[0;31m     \u001b[0mreference_counts\u001b[0m \u001b[0;34m=\u001b[0m \u001b[0mself\u001b[0m\u001b[0;34m.\u001b[0m\u001b[0m_obj_reference_counts\u001b[0m\u001b[0;34m\u001b[0m\u001b[0;34m\u001b[0m\u001b[0m\n\u001b[0m\u001b[1;32m   2726\u001b[0m     \u001b[0;32mif\u001b[0m \u001b[0mexisting_value\u001b[0m \u001b[0;32mnot\u001b[0m \u001b[0;32min\u001b[0m \u001b[0mreference_counts\u001b[0m\u001b[0;34m:\u001b[0m\u001b[0;34m\u001b[0m\u001b[0;34m\u001b[0m\u001b[0m\n\u001b[1;32m   2727\u001b[0m       \u001b[0msuper\u001b[0m\u001b[0;34m(\u001b[0m\u001b[0mtracking\u001b[0m\u001b[0;34m.\u001b[0m\u001b[0mAutoTrackable\u001b[0m\u001b[0;34m,\u001b[0m \u001b[0mself\u001b[0m\u001b[0;34m)\u001b[0m\u001b[0;34m.\u001b[0m\u001b[0m__delattr__\u001b[0m\u001b[0;34m(\u001b[0m\u001b[0mname\u001b[0m\u001b[0;34m)\u001b[0m\u001b[0;34m\u001b[0m\u001b[0;34m\u001b[0m\u001b[0m\n",
      "\u001b[0;32m/usr/local/lib/python3.6/dist-packages/tensorflow/python/keras/engine/base_layer.py\u001b[0m in \u001b[0;36m_obj_reference_counts\u001b[0;34m(self)\u001b[0m\n\u001b[1;32m   2692\u001b[0m     \u001b[0;34m\"\"\"A dictionary counting the number of attributes referencing an object.\"\"\"\u001b[0m\u001b[0;34m\u001b[0m\u001b[0;34m\u001b[0m\u001b[0m\n\u001b[1;32m   2693\u001b[0m     self._maybe_create_attribute('_obj_reference_counts_dict',\n\u001b[0;32m-> 2694\u001b[0;31m                                  object_identity.ObjectIdentityDictionary())\n\u001b[0m\u001b[1;32m   2695\u001b[0m     \u001b[0;32mreturn\u001b[0m \u001b[0mself\u001b[0m\u001b[0;34m.\u001b[0m\u001b[0m_obj_reference_counts_dict\u001b[0m\u001b[0;34m\u001b[0m\u001b[0;34m\u001b[0m\u001b[0m\n\u001b[1;32m   2696\u001b[0m \u001b[0;34m\u001b[0m\u001b[0m\n",
      "\u001b[0;31mKeyboardInterrupt\u001b[0m: "
     ]
    }
   ],
   "source": [
    "experiments = {} \n",
    "experiment_dicts = {} \n",
    "for experiment_name in experiment_names:\n",
    "    exp_dict = get_experiment_from_logs(name=experiment_name)\n",
    "    experiment = rebuild_experiment(exp_dict)\n",
    "    exp_dict[\"test_again\"] = reevaluate(experiment)\n",
    "    exp_dict[\"test_difference\"] = sum(difference_test_results(exp_dict[\"test\"], exp_dict[\"test_again\"]).values())\n",
    "    print(\"test_difference is \", exp_dict[\"test_difference\"])\n",
    "    experiment_dicts[exp_dict[\"name\"]] = exp_dict\n",
    "    experiments[exp_dict[\"name\"]] =  experiment\n",
    "        \n",
    "experiments"
   ]
  },
  {
   "cell_type": "code",
   "execution_count": 8,
   "metadata": {},
   "outputs": [
    {
     "name": "stdout",
     "output_type": "stream",
     "text": [
      "Using weights file DenseNet121_Chexpert_BCE_E3_B32_C0_N12_Uones_D256_DS9505_2LR1_LF5_SGD_Upsampled_1_20200821-223859.h5 to load model...\n",
      "234/234 [==============================] - 5s 21ms/step\n",
      "test_difference is  5.960464477539063e-08\n",
      "Using weights file DenseNet121_Chexpert_BCE_E3_B32_C0_N12_AugAffine_Uones_D256_DS9505_2LR1_LF5_SGD_Upsampled_1_20200822-004217.h5 to load model...\n",
      "234/234 [==============================] - 5s 21ms/step\n",
      "test_difference is  1.7881393432617188e-07\n",
      "Using weights file DenseNet121_Chexpert_WBCE_E3_B32_C0_N12_AugAffine_U75_D256_DS9505_1LR1_LF5_SGD_Upsampled_20200822-155642.h5 to load model...\n",
      "234/234 [==============================] - 5s 20ms/step\n",
      "test_difference is  1.1920928955078125e-07\n",
      "Using weights file DenseNet121_Chexpert_BCE_E3_B32_C0_N12_AugAffine_U66_D256_DS9505_2LR1_LF5_SGD_Upsampled_1_20200822-075150.h5 to load model...\n",
      "234/234 [==============================] - 4s 19ms/step\n",
      "test_difference is  1.1920928955078125e-07\n"
     ]
    },
    {
     "data": {
      "text/plain": [
       "{'DenseNet121_Chexpert_BCE_E3_B32_C0_N12_Uones_D256_DS9505_2LR1_LF5_SGD_Upsampled_1': <src.architectures.benchmarks.benchmark.Experiment at 0x7ff733618048>,\n",
       " 'DenseNet121_Chexpert_BCE_E3_B32_C0_N12_AugAffine_Uones_D256_DS9505_2LR1_LF5_SGD_Upsampled_1': <src.architectures.benchmarks.benchmark.Experiment at 0x7ff47018c4a8>,\n",
       " 'DenseNet121_Chexpert_WBCE_E3_B32_C0_N12_AugAffine_U75_D256_DS9505_1LR1_LF5_SGD_Upsampled': <src.architectures.benchmarks.benchmark.Experiment at 0x7ff15d09e518>,\n",
       " 'DenseNet121_Chexpert_BCE_E3_B32_C0_N12_AugAffine_U66_D256_DS9505_2LR1_LF5_SGD_Upsampled_1': <src.architectures.benchmarks.benchmark.Experiment at 0x7ff129a01d30>}"
      ]
     },
     "execution_count": 8,
     "metadata": {},
     "output_type": "execute_result"
    }
   ],
   "source": [
    "experiments = {} \n",
    "experiment_dicts = {} \n",
    "for experiment_id in experiment_ids:\n",
    "    exp_dict = get_experiment_from_logs(experiment_id=experiment_id)\n",
    "    experiment = rebuild_experiment(exp_dict)\n",
    "    exp_dict[\"test_again\"] = reevaluate(experiment, new_metrics=True)\n",
    "    exp_dict[\"test_difference\"] = sum(difference_test_results(exp_dict[\"test\"], exp_dict[\"test_again\"]).values())\n",
    "    print(\"test_difference is \", exp_dict[\"test_difference\"])\n",
    "    experiment_dicts[exp_dict[\"name\"]] = exp_dict\n",
    "    experiments[exp_dict[\"name\"]] =  experiment\n",
    "        \n",
    "experiments"
   ]
  },
  {
   "cell_type": "code",
   "execution_count": null,
   "metadata": {},
   "outputs": [],
   "source": [
    "experiments = [] \n",
    "experiment_dicts = []\n",
    "for experiment_id, epoch, _ in experiment_ids:\n",
    "    exp_dict = get_experiment_from_logs(experiment_id=experiment_id)\n",
    "    experiment = rebuild_experiment(exp_dict, epoch=epoch)\n",
    "    exp_dict[\"test_again\"] = reevaluate(experiment, new_metrics=True)\n",
    "    exp_dict[\"test_difference\"] = sum(difference_test_results(exp_dict[\"test\"], exp_dict[\"test_again\"]).values())\n",
    "    print(\"test_difference is \", exp_dict[\"test_difference\"])\n",
    "    experiment_dicts.append(exp_dict)\n",
    "    experiments.append(experiment)\n",
    "        \n",
    "experiments"
   ]
  },
  {
   "cell_type": "code",
   "execution_count": 9,
   "metadata": {},
   "outputs": [
    {
     "data": {
      "text/plain": [
       "[{'id': '1a955742-e3ff-11ea-bd3d-0242ac110005',\n",
       "  'auc1': 0.7546828389167786,\n",
       "  'auc2': 0.75468284,\n",
       "  'diff': 5.960464477539063e-08},\n",
       " {'id': '541ed996-e410-11ea-a602-0242ac110005',\n",
       "  'auc1': 0.7180982232093811,\n",
       "  'auc2': 0.7180982,\n",
       "  'diff': 1.7881393432617188e-07},\n",
       " {'id': '1262eecc-e490-11ea-a3de-0242ac110005',\n",
       "  'auc1': 0.7765927314758301,\n",
       "  'auc2': 0.77659273,\n",
       "  'diff': 1.1920928955078125e-07},\n",
       " {'id': '5663f98e-e44c-11ea-bed5-0242ac110005',\n",
       "  'auc1': 0.7743986248970032,\n",
       "  'auc2': 0.7743986,\n",
       "  'diff': 1.1920928955078125e-07}]"
      ]
     },
     "execution_count": 9,
     "metadata": {},
     "output_type": "execute_result"
    }
   ],
   "source": [
    "[{\"id\":exp_dict[\"id\"], \"auc1\": exp_dict[\"test\"][\"auc\"],\"auc2\": exp_dict[\"test_again\"][\"auc\"], \"diff\": exp_dict[\"test_difference\"]} for exp_dict in experiment_dicts.values()]"
   ]
  },
  {
   "cell_type": "code",
   "execution_count": null,
   "metadata": {},
   "outputs": [],
   "source": []
  },
  {
   "cell_type": "code",
   "execution_count": null,
   "metadata": {},
   "outputs": [],
   "source": [
    "#experiment_dicts[\"DenseNet121_Chexpert_CWBCE_L1Normed_E5_B32_C0_N12_AugAffine_sharp21_U75_D256_DS9505_1LR4_LF1_Adam_Upsampled\"][\"benchmark\"]"
   ]
  },
  {
   "cell_type": "code",
   "execution_count": null,
   "metadata": {},
   "outputs": [],
   "source": [
    "#experiments[\"DenseNet121_Chexpert_CWBCE_L1Normed_E5_B32_C0_N12_AugAffine_sharp21_U75_D256_DS9505_1LR4_LF1_Adam_Upsampled\"].benchmark.as_dict()"
   ]
  },
  {
   "cell_type": "code",
   "execution_count": null,
   "metadata": {},
   "outputs": [],
   "source": [
    "#experiment_dicts[\"DenseNet121_Chexpert_CWBCE_L1Normed_E5_B32_C0_N12_AugAffine_sharp21_U75_D256_DS9505_1LR4_LF1_Adam_Upsampled\"][\"test\"]"
   ]
  },
  {
   "cell_type": "code",
   "execution_count": 32,
   "metadata": {},
   "outputs": [
    {
     "data": {
      "text/plain": [
       "3"
      ]
     },
     "execution_count": 32,
     "metadata": {},
     "output_type": "execute_result"
    }
   ],
   "source": [
    "experiment_ids[0][1]"
   ]
  },
  {
   "cell_type": "code",
   "execution_count": null,
   "metadata": {},
   "outputs": [],
   "source": [
    "#benchmark.valgen.classes = benchmark.valgen.get_labels()\n",
    "#benchmark.testgen.classes = benchmark.testgen.get_labels()\n",
    "#benchmark.valgen.n = len(benchmark.valgen) * benchmark.valgen.batch_size - 1\n",
    "#benchmark.testgen.n = len(benchmark.testgen) * benchmark.testgen.batch_size - 1"
   ]
  },
  {
   "cell_type": "code",
   "execution_count": 4,
   "metadata": {},
   "outputs": [],
   "source": [
    "#!pip install deepstack"
   ]
  },
  {
   "cell_type": "code",
   "execution_count": 10,
   "metadata": {},
   "outputs": [
    {
     "name": "stdout",
     "output_type": "stream",
     "text": [
      "WARNING:tensorflow:From /usr/local/lib/python3.6/dist-packages/deepstack/base.py:148: Model.predict_generator (from tensorflow.python.keras.engine.training) is deprecated and will be removed in a future version.\n",
      "Instructions for updating:\n",
      "Please use Model.predict, which supports generators.\n",
      "11596/11596 [==============================] - 233s 20ms/step\n",
      "234/234 [==============================] - 5s 21ms/step\n",
      "11596/11596 [==============================] - 222s 19ms/step\n",
      "234/234 [==============================] - 5s 19ms/step\n",
      "11596/11596 [==============================] - 225s 19ms/step\n",
      "234/234 [==============================] - 4s 19ms/step\n",
      "11596/11596 [==============================] - 211s 18ms/step\n",
      "234/234 [==============================] - 4s 19ms/step\n"
     ]
    }
   ],
   "source": [
    "from deepstack.base import KerasMember\n",
    "\n",
    "keras_member = []\n",
    "if isinstance(experiments, dict):\n",
    "    for name, exp in experiments.items():\n",
    "        keras_member.append(KerasMember(name=name, keras_model=exp.model, train_batches=exp.benchmark.valgen, val_batches=exp.benchmark.testgen))\n",
    "elif isinstance(experiments, list):\n",
    "    for index, exp in enumerate(experiments):\n",
    "        keras_member.append(KerasMember(name=exp.model_name + \"_\" + str(experiment_ids[index][1]), keras_model=exp.model, train_batches=exp.benchmark.valgen, val_batches=exp.benchmark.testgen))\n",
    "\n"
   ]
  },
  {
   "cell_type": "code",
   "execution_count": 11,
   "metadata": {},
   "outputs": [
    {
     "data": {
      "text/plain": [
       "[<Member: DenseNet121_Chexpert_BCE_E3_B32_C0_N12_Uones_D256_DS9505_2LR1_LF5_SGD_Upsampled_1>,\n",
       " <Member: DenseNet121_Chexpert_BCE_E3_B32_C0_N12_AugAffine_Uones_D256_DS9505_2LR1_LF5_SGD_Upsampled_1>,\n",
       " <Member: DenseNet121_Chexpert_WBCE_E3_B32_C0_N12_AugAffine_U75_D256_DS9505_1LR1_LF5_SGD_Upsampled>,\n",
       " <Member: DenseNet121_Chexpert_BCE_E3_B32_C0_N12_AugAffine_U66_D256_DS9505_2LR1_LF5_SGD_Upsampled_1>]"
      ]
     },
     "execution_count": 11,
     "metadata": {},
     "output_type": "execute_result"
    }
   ],
   "source": [
    "keras_member"
   ]
  },
  {
   "cell_type": "code",
   "execution_count": 10,
   "metadata": {},
   "outputs": [],
   "source": [
    "\n",
    "reference_classes = keras_member[0].train_classes\n",
    "for member in keras_member:\n",
    "    if not np.array_equal(member.train_classes, reference_classes):\n",
    "        member.train_classes = reference_classes"
   ]
  },
  {
   "cell_type": "code",
   "execution_count": 3,
   "metadata": {},
   "outputs": [],
   "source": [
    "def auc_metric(y_true, y_pred):\n",
    "    m = tf.keras.metrics.AUC(multi_label = True)\n",
    "    m.reset_states()\n",
    "    m.update_state(y_true, y_pred)\n",
    "    return m.result().numpy()"
   ]
  },
  {
   "cell_type": "code",
   "execution_count": 4,
   "metadata": {},
   "outputs": [],
   "source": [
    "def get_auc_metric(exp):\n",
    "    def auc_metric(y_true, y_pred):\n",
    "        m = [m for m in exp.benchmark.metrics if m.name==\"auc\"][0]\n",
    "        m.reset_states()\n",
    "        m.update_state(tf.constant(y_true), tf.constant(y_pred))\n",
    "        return m.result().numpy()\n",
    "    return auc_metric"
   ]
  },
  {
   "cell_type": "code",
   "execution_count": 13,
   "metadata": {},
   "outputs": [
    {
     "name": "stdout",
     "output_type": "stream",
     "text": [
      "DenseNet121_Chexpert_BCE_E3_B32_C0_N12_Uones_D256_DS9505_2LR1_LF5_SGD_Upsampled_1 - Weight: 0.0514 - auc_metric: 0.7547\n",
      "DenseNet121_Chexpert_BCE_E3_B32_C0_N12_AugAffine_Uones_D256_DS9505_2LR1_LF5_SGD_Upsampled_1 - Weight: 0.0004 - auc_metric: 0.7181\n",
      "DenseNet121_Chexpert_WBCE_E3_B32_C0_N12_AugAffine_U75_D256_DS9505_1LR1_LF5_SGD_Upsampled - Weight: 0.6872 - auc_metric: 0.7766\n",
      "DenseNet121_Chexpert_BCE_E3_B32_C0_N12_AugAffine_U66_D256_DS9505_2LR1_LF5_SGD_Upsampled_1 - Weight: 0.2611 - auc_metric: 0.7744\n",
      "DirichletEnsemble auc_metric: 0.7824\n"
     ]
    }
   ],
   "source": [
    "from deepstack.ensemble import DirichletEnsemble\n",
    "\n",
    "defaultN = 10000\n",
    "wAvgEnsemble = DirichletEnsemble(N=defaultN*1, metric=auc_metric)\n",
    "wAvgEnsemble.add_members(keras_member)\n",
    "wAvgEnsemble.fit()\n",
    "wAvgEnsemble.describe()"
   ]
  },
  {
   "cell_type": "code",
   "execution_count": 14,
   "metadata": {},
   "outputs": [
    {
     "data": {
      "text/plain": [
       "array([5.13637491e-02, 3.59683030e-04, 6.87150217e-01, 2.61126351e-01])"
      ]
     },
     "execution_count": 14,
     "metadata": {},
     "output_type": "execute_result"
    }
   ],
   "source": [
    "wAvgEnsemble.bestweights"
   ]
  },
  {
   "cell_type": "code",
   "execution_count": 15,
   "metadata": {},
   "outputs": [],
   "source": [
    "\n",
    "#wAvgEnsemble.describe()"
   ]
  },
  {
   "cell_type": "code",
   "execution_count": 26,
   "metadata": {
    "collapsed": true,
    "jupyter": {
     "outputs_hidden": true
    }
   },
   "outputs": [
    {
     "name": "stdout",
     "output_type": "stream",
     "text": [
      "Iteration 1, loss = 7.54011781\n",
      "Iteration 2, loss = 5.66447464\n",
      "Iteration 3, loss = 4.76053516\n",
      "Iteration 4, loss = 4.50915675\n",
      "Iteration 5, loss = 4.37806733\n",
      "Iteration 6, loss = 4.29368889\n",
      "Iteration 7, loss = 4.23545626\n",
      "Iteration 8, loss = 4.18894180\n",
      "Iteration 9, loss = 4.15641463\n",
      "Iteration 10, loss = 4.13484466\n",
      "Iteration 11, loss = 4.12002970\n",
      "Iteration 12, loss = 4.10991270\n",
      "Iteration 13, loss = 4.10172510\n",
      "Iteration 14, loss = 4.09490461\n",
      "Iteration 15, loss = 4.08913005\n",
      "Iteration 16, loss = 4.08356035\n",
      "Iteration 17, loss = 4.07979218\n",
      "Iteration 18, loss = 4.07672338\n",
      "Iteration 19, loss = 4.07270081\n",
      "Iteration 20, loss = 4.06940069\n",
      "Iteration 21, loss = 4.06593004\n",
      "Iteration 22, loss = 4.06309221\n",
      "Iteration 23, loss = 4.06091876\n",
      "Iteration 24, loss = 4.06016103\n",
      "Iteration 25, loss = 4.05687179\n",
      "Iteration 26, loss = 4.05468627\n",
      "Iteration 27, loss = 4.05250711\n",
      "Iteration 28, loss = 4.04921154\n",
      "Iteration 29, loss = 4.04957546\n",
      "Iteration 30, loss = 4.04701757\n",
      "Iteration 31, loss = 4.04674107\n",
      "Iteration 32, loss = 4.04337884\n",
      "Iteration 33, loss = 4.03989999\n",
      "Iteration 34, loss = 4.04015419\n",
      "Iteration 35, loss = 4.03887554\n",
      "Iteration 36, loss = 4.03679829\n",
      "Iteration 37, loss = 4.03619404\n",
      "Iteration 38, loss = 4.03480677\n",
      "Iteration 39, loss = 4.03420930\n",
      "Iteration 40, loss = 4.03209336\n",
      "Iteration 41, loss = 4.03324707\n",
      "Iteration 42, loss = 4.02983269\n",
      "Iteration 43, loss = 4.02937944\n",
      "Iteration 44, loss = 4.02661367\n",
      "Iteration 45, loss = 4.02676062\n",
      "Iteration 46, loss = 4.02614145\n",
      "Iteration 47, loss = 4.02612485\n",
      "Iteration 48, loss = 4.02354213\n",
      "Iteration 49, loss = 4.02276558\n",
      "Iteration 50, loss = 4.02189231\n",
      "Iteration 51, loss = 4.02075601\n",
      "Iteration 52, loss = 4.01969838\n",
      "Iteration 53, loss = 4.01790149\n",
      "Iteration 54, loss = 4.01784058\n",
      "Iteration 55, loss = 4.01630334\n",
      "Iteration 56, loss = 4.01603207\n",
      "Iteration 57, loss = 4.01444344\n",
      "Iteration 58, loss = 4.01264297\n",
      "Iteration 59, loss = 4.01435771\n",
      "Iteration 60, loss = 4.01204392\n",
      "Iteration 61, loss = 4.01015683\n",
      "Iteration 62, loss = 4.01029993\n",
      "Iteration 63, loss = 4.00813653\n",
      "Iteration 64, loss = 4.00692470\n",
      "Iteration 65, loss = 4.00614767\n",
      "Iteration 66, loss = 4.00635901\n",
      "Iteration 67, loss = 4.00518941\n",
      "Iteration 68, loss = 4.00421053\n",
      "Iteration 69, loss = 4.00331039\n",
      "Iteration 70, loss = 4.00449113\n",
      "Iteration 71, loss = 4.00275742\n",
      "Iteration 72, loss = 4.00050383\n",
      "Iteration 73, loss = 4.00172498\n",
      "Iteration 74, loss = 3.99902371\n",
      "Iteration 75, loss = 4.00085036\n",
      "Iteration 76, loss = 3.99867145\n",
      "Iteration 77, loss = 3.99923244\n",
      "Iteration 78, loss = 3.99806828\n",
      "Iteration 79, loss = 3.99843194\n",
      "Iteration 80, loss = 3.99654513\n",
      "Iteration 81, loss = 3.99446671\n",
      "Iteration 82, loss = 3.99507299\n",
      "Iteration 83, loss = 3.99392125\n",
      "Iteration 84, loss = 3.99426607\n",
      "Iteration 85, loss = 3.99380201\n",
      "Iteration 86, loss = 3.99339339\n",
      "Iteration 87, loss = 3.99301886\n",
      "Iteration 88, loss = 3.99185246\n",
      "Iteration 89, loss = 3.99314675\n",
      "Iteration 90, loss = 3.99168254\n",
      "Iteration 91, loss = 3.98918126\n",
      "Iteration 92, loss = 3.98885883\n",
      "Iteration 93, loss = 3.99074831\n",
      "Iteration 94, loss = 3.98754190\n",
      "Iteration 95, loss = 3.98728666\n",
      "Iteration 96, loss = 3.98914626\n",
      "Iteration 97, loss = 3.98873758\n",
      "Iteration 98, loss = 3.98734170\n",
      "Iteration 99, loss = 3.98500058\n",
      "Iteration 100, loss = 3.98581372\n",
      "Iteration 101, loss = 3.98411522\n",
      "Iteration 102, loss = 3.98426442\n",
      "Iteration 103, loss = 3.98373195\n",
      "Iteration 104, loss = 3.98244689\n",
      "Iteration 105, loss = 3.98218736\n",
      "Iteration 106, loss = 3.98091255\n",
      "Iteration 107, loss = 3.98105774\n",
      "Iteration 108, loss = 3.98110931\n",
      "Iteration 109, loss = 3.98095724\n",
      "Iteration 110, loss = 3.98045573\n",
      "Iteration 111, loss = 3.98083727\n",
      "Iteration 112, loss = 3.98051743\n",
      "Iteration 113, loss = 3.98035837\n",
      "Iteration 114, loss = 3.97817342\n",
      "Iteration 115, loss = 3.98047671\n",
      "Iteration 116, loss = 3.97721548\n",
      "Iteration 117, loss = 3.97671889\n",
      "Iteration 118, loss = 3.97585249\n",
      "Iteration 119, loss = 3.97559050\n",
      "Iteration 120, loss = 3.97709819\n",
      "Iteration 121, loss = 3.97652195\n",
      "Iteration 122, loss = 3.97531074\n",
      "Iteration 123, loss = 3.97523972\n",
      "Iteration 124, loss = 3.97522354\n",
      "Iteration 125, loss = 3.97438124\n",
      "Iteration 126, loss = 3.97421741\n",
      "Iteration 127, loss = 3.97338820\n",
      "Iteration 128, loss = 3.97331515\n",
      "Iteration 129, loss = 3.97367836\n",
      "Iteration 130, loss = 3.97340962\n",
      "Iteration 131, loss = 3.97094131\n",
      "Iteration 132, loss = 3.97299579\n",
      "Iteration 133, loss = 3.96965667\n",
      "Iteration 134, loss = 3.97060199\n",
      "Iteration 135, loss = 3.97145431\n",
      "Iteration 136, loss = 3.96910201\n",
      "Iteration 137, loss = 3.96941857\n",
      "Iteration 138, loss = 3.96861404\n",
      "Iteration 139, loss = 3.96915713\n",
      "Iteration 140, loss = 3.96859815\n",
      "Iteration 141, loss = 3.96702365\n",
      "Iteration 142, loss = 3.96686976\n",
      "Iteration 143, loss = 3.96697504\n",
      "Iteration 144, loss = 3.96546117\n",
      "Iteration 145, loss = 3.96546606\n",
      "Iteration 146, loss = 3.96599275\n",
      "Iteration 147, loss = 3.96570193\n",
      "Iteration 148, loss = 3.96506102\n",
      "Iteration 149, loss = 3.96536667\n",
      "Iteration 150, loss = 3.96518435\n",
      "Iteration 151, loss = 3.96396155\n",
      "Iteration 152, loss = 3.96381465\n",
      "Iteration 153, loss = 3.96419312\n",
      "Iteration 154, loss = 3.96208155\n",
      "Iteration 155, loss = 3.96334955\n",
      "Iteration 156, loss = 3.96554465\n",
      "Iteration 157, loss = 3.96338767\n",
      "Iteration 158, loss = 3.96357858\n",
      "Iteration 159, loss = 3.96134854\n",
      "Iteration 160, loss = 3.96092359\n",
      "Iteration 161, loss = 3.96010537\n",
      "Iteration 162, loss = 3.96248432\n",
      "Iteration 163, loss = 3.96024077\n",
      "Iteration 164, loss = 3.95945913\n",
      "Iteration 165, loss = 3.95945906\n",
      "Iteration 166, loss = 3.95973677\n",
      "Iteration 167, loss = 3.95828130\n",
      "Iteration 168, loss = 3.95827377\n",
      "Iteration 169, loss = 3.95879147\n",
      "Iteration 170, loss = 3.95684605\n",
      "Iteration 171, loss = 3.95791746\n",
      "Iteration 172, loss = 3.95713278\n",
      "Iteration 173, loss = 3.95751064\n",
      "Iteration 174, loss = 3.95607978\n",
      "Iteration 175, loss = 3.95813274\n",
      "Iteration 176, loss = 3.95719797\n",
      "Iteration 177, loss = 3.95643544\n",
      "Iteration 178, loss = 3.95852634\n",
      "Iteration 179, loss = 3.95549637\n",
      "Iteration 180, loss = 3.95468319\n",
      "Iteration 181, loss = 3.95433990\n",
      "Iteration 182, loss = 3.95529732\n",
      "Iteration 183, loss = 3.95388255\n",
      "Iteration 184, loss = 3.95553951\n",
      "Iteration 185, loss = 3.95295774\n",
      "Iteration 186, loss = 3.95352042\n",
      "Iteration 187, loss = 3.95385072\n",
      "Iteration 188, loss = 3.95364596\n",
      "Iteration 189, loss = 3.95388792\n",
      "Iteration 190, loss = 3.95426428\n",
      "Iteration 191, loss = 3.95084117\n",
      "Iteration 192, loss = 3.95172908\n",
      "Iteration 193, loss = 3.95182964\n",
      "Iteration 194, loss = 3.95129021\n",
      "Iteration 195, loss = 3.95279530\n",
      "Iteration 196, loss = 3.95086081\n",
      "Iteration 197, loss = 3.95221826\n",
      "Iteration 198, loss = 3.95084996\n",
      "Iteration 199, loss = 3.95020177\n",
      "Iteration 200, loss = 3.94953889\n",
      "Iteration 201, loss = 3.94881985\n",
      "Iteration 202, loss = 3.94810197\n",
      "Iteration 203, loss = 3.94846140\n",
      "Iteration 204, loss = 3.94890897\n",
      "Iteration 205, loss = 3.94803712\n",
      "Iteration 206, loss = 3.94929528\n",
      "Iteration 207, loss = 3.94893991\n",
      "Iteration 208, loss = 3.94884759\n",
      "Iteration 209, loss = 3.94873965\n",
      "Iteration 210, loss = 3.94761006\n",
      "Iteration 211, loss = 3.94683031\n",
      "Iteration 212, loss = 3.94657459\n",
      "Iteration 213, loss = 3.94642810\n",
      "Iteration 214, loss = 3.94576741\n",
      "Iteration 215, loss = 3.94561344\n",
      "Iteration 216, loss = 3.94678457\n",
      "Iteration 217, loss = 3.94575752\n",
      "Iteration 218, loss = 3.94553658\n",
      "Iteration 219, loss = 3.94547261\n",
      "Iteration 220, loss = 3.94388613\n",
      "Iteration 221, loss = 3.94514684\n",
      "Iteration 222, loss = 3.94370387\n",
      "Iteration 223, loss = 3.94392729\n",
      "Iteration 224, loss = 3.94640158\n",
      "Iteration 225, loss = 3.94368908\n",
      "Iteration 226, loss = 3.94354801\n",
      "Iteration 227, loss = 3.94379269\n",
      "Iteration 228, loss = 3.94400314\n",
      "Iteration 229, loss = 3.94247985\n",
      "Iteration 230, loss = 3.94252265\n",
      "Iteration 231, loss = 3.94263562\n",
      "Iteration 232, loss = 3.94108637\n",
      "Iteration 233, loss = 3.94337495\n",
      "Iteration 234, loss = 3.94198635\n",
      "Iteration 235, loss = 3.94138373\n",
      "Iteration 236, loss = 3.94167188\n",
      "Iteration 237, loss = 3.94112288\n",
      "Iteration 238, loss = 3.94044067\n",
      "Iteration 239, loss = 3.94139165\n",
      "Iteration 240, loss = 3.94033735\n",
      "Iteration 241, loss = 3.94041091\n",
      "Iteration 242, loss = 3.93932888\n",
      "Iteration 243, loss = 3.94026984\n",
      "Iteration 244, loss = 3.94135332\n",
      "Iteration 245, loss = 3.93862725\n",
      "Iteration 246, loss = 3.94145085\n",
      "Iteration 247, loss = 3.93813293\n",
      "Iteration 248, loss = 3.93779943\n",
      "Iteration 249, loss = 3.93845577\n",
      "Iteration 250, loss = 3.93776159\n",
      "Iteration 251, loss = 3.93766190\n",
      "Iteration 252, loss = 3.93723304\n",
      "Iteration 253, loss = 3.93827734\n",
      "Iteration 254, loss = 3.93733463\n",
      "Iteration 255, loss = 3.93728400\n",
      "Iteration 256, loss = 3.93550959\n",
      "Iteration 257, loss = 3.93817699\n",
      "Iteration 258, loss = 3.93605742\n",
      "Iteration 259, loss = 3.93548800\n",
      "Iteration 260, loss = 3.93665499\n",
      "Iteration 261, loss = 3.93593132\n",
      "Iteration 262, loss = 3.93540912\n",
      "Iteration 263, loss = 3.93624383\n",
      "Iteration 264, loss = 3.93474129\n",
      "Iteration 265, loss = 3.93592063\n",
      "Iteration 266, loss = 3.93403654\n",
      "Iteration 267, loss = 3.93676234\n",
      "Iteration 268, loss = 3.93513713\n",
      "Iteration 269, loss = 3.93374269\n",
      "Iteration 270, loss = 3.93592032\n",
      "Iteration 271, loss = 3.93391026\n",
      "Iteration 272, loss = 3.93172364\n",
      "Iteration 273, loss = 3.93355449\n",
      "Iteration 274, loss = 3.93319838\n",
      "Iteration 275, loss = 3.93361377\n",
      "Iteration 276, loss = 3.93281649\n",
      "Iteration 277, loss = 3.93388990\n",
      "Iteration 278, loss = 3.93365299\n",
      "Iteration 279, loss = 3.93146442\n",
      "Iteration 280, loss = 3.93125370\n",
      "Iteration 281, loss = 3.93383554\n",
      "Iteration 282, loss = 3.93259172\n",
      "Iteration 283, loss = 3.93183793\n",
      "Iteration 284, loss = 3.93114317\n",
      "Iteration 285, loss = 3.93169042\n",
      "Iteration 286, loss = 3.92996745\n",
      "Iteration 287, loss = 3.92913527\n",
      "Iteration 288, loss = 3.93038627\n",
      "Iteration 289, loss = 3.93289858\n",
      "Iteration 290, loss = 3.93095926\n",
      "Iteration 291, loss = 3.92851021\n",
      "Iteration 292, loss = 3.92974394\n",
      "Iteration 293, loss = 3.92912321\n",
      "Iteration 294, loss = 3.93086753\n",
      "Iteration 295, loss = 3.92944213\n",
      "Iteration 296, loss = 3.92788219\n",
      "Iteration 297, loss = 3.92873074\n",
      "Iteration 298, loss = 3.92767092\n",
      "Iteration 299, loss = 3.92851123\n",
      "Iteration 300, loss = 3.93016121\n",
      "Iteration 301, loss = 3.92713805\n",
      "Iteration 302, loss = 3.92810343\n",
      "Iteration 303, loss = 3.92689285\n",
      "Iteration 304, loss = 3.92854519\n",
      "Iteration 305, loss = 3.92862688\n",
      "Iteration 306, loss = 3.92763971\n",
      "Iteration 307, loss = 3.92624378\n",
      "Iteration 308, loss = 3.92589574\n",
      "Iteration 309, loss = 3.92767047\n",
      "Iteration 310, loss = 3.92610954\n",
      "Iteration 311, loss = 3.92593998\n",
      "Iteration 312, loss = 3.92785972\n",
      "Iteration 313, loss = 3.92756835\n",
      "Iteration 314, loss = 3.92546579\n",
      "Iteration 315, loss = 3.92659635\n",
      "Iteration 316, loss = 3.92354832\n",
      "Iteration 317, loss = 3.92458204\n",
      "Iteration 318, loss = 3.92676253\n",
      "Iteration 319, loss = 3.92492907\n",
      "Iteration 320, loss = 3.92638772\n",
      "Iteration 321, loss = 3.92574995\n",
      "Iteration 322, loss = 3.92571780\n",
      "Iteration 323, loss = 3.92442184\n",
      "Iteration 324, loss = 3.92439172\n",
      "Iteration 325, loss = 3.92421109\n",
      "Iteration 326, loss = 3.92525107\n",
      "Iteration 327, loss = 3.92472322\n",
      "Training loss did not improve more than tol=0.000100 for 10 consecutive epochs. Stopping.\n",
      "Calling predict\n",
      "DenseNet121_Chexpert_BCE_E3_B32_C0_N12_Uones_D256_DS9505_2LR1_LF5_SGD_Upsampled_1 - auc_metric: 0.8727\n",
      "DenseNet121_Chexpert_BCE_E3_B32_C0_N12_AugAffine_Uones_D256_DS9505_2LR1_LF5_SGD_Upsampled_1 - auc_metric: 0.8570\n",
      "DenseNet121_Chexpert_WBCE_E3_B32_C0_N12_AugAffine_U75_D256_DS9505_1LR1_LF5_SGD_Upsampled - auc_metric: 0.8559\n",
      "StackEnsemble auc_metric: 0.6908\n"
     ]
    },
    {
     "data": {
      "text/plain": [
       "0.6907604"
      ]
     },
     "execution_count": 26,
     "metadata": {},
     "output_type": "execute_result"
    }
   ],
   "source": [
    "from deepstack.ensemble import StackEnsemble\n",
    "from sklearn.ensemble import *\n",
    "\n",
    "from sklearn.neural_network import *\n",
    "from sklearn.tree import *\n",
    "\n",
    "from sklearn.metrics import accuracy_score\n",
    "\n",
    "stack = StackEnsemble()\n",
    "\n",
    "stack.model = RandomForestRegressor(verbose=1, n_estimators=2000, max_depth=10, n_jobs=20, min_samples_split=5)\n",
    "#stack.model = DecisionTreeClassifier(max_depth=100,  min_samples_split=2)\n",
    "stack.model = MLPClassifier(verbose=1,hidden_layer_sizes=(50, 20), learning_rate_init=0.001, max_iter=2000)\n",
    "\n",
    "stack.add_members(keras_member)\n",
    "stack.fit()\n",
    "stack.describe(metric=auc_metric)"
   ]
  },
  {
   "cell_type": "code",
   "execution_count": 10,
   "metadata": {},
   "outputs": [],
   "source": [
    "assert all([(np.array_equal(keras_member[i].train_classes,\n",
    "                              keras_member[i + 1].train_classes))\n",
    "              for i in range(len(keras_member) - 1)])\n",
    "\n",
    "\n",
    "training_data_x = np.concatenate(tuple([member.train_probs for member in keras_member]), axis=1)\n",
    "training_data_y = keras_member[0].train_classes\n",
    "\n",
    "validation_data_x = np.concatenate(tuple([member.val_probs for member in keras_member]), axis=1)\n",
    "validation_data_y = keras_member[0].val_classes\n"
   ]
  },
  {
   "cell_type": "code",
   "execution_count": 11,
   "metadata": {},
   "outputs": [],
   "source": [
    "assert len(training_data_x) == len(training_data_y)\n",
    "assert training_data_x.shape[1] == training_data_y.shape[1] * len(keras_member)\n",
    "input_size = training_data_x.shape[1] \n",
    "output_size = training_data_y.shape[1] #this is number of classes"
   ]
  },
  {
   "cell_type": "code",
   "execution_count": 12,
   "metadata": {},
   "outputs": [
    {
     "name": "stdout",
     "output_type": "stream",
     "text": [
      "Model: \"sequential\"\n",
      "_________________________________________________________________\n",
      "Layer (type)                 Output Shape              Param #   \n",
      "=================================================================\n",
      "dense_22 (Dense)             (None, 12)                588       \n",
      "=================================================================\n",
      "Total params: 588\n",
      "Trainable params: 588\n",
      "Non-trainable params: 0\n",
      "_________________________________________________________________\n"
     ]
    }
   ],
   "source": [
    "meta_learner = tf.keras.Sequential()\n",
    "meta_learner.add(tf.keras.Input(shape=(input_size,)))\n",
    "#meta_learner.add(tf.keras.layers.Dense(36))\n",
    "meta_learner.add(tf.keras.layers.Dense(output_size,\n",
    "                                       activation='sigmoid',\n",
    "                                       #kernel_regularizer=tf.keras.regularizers.L2(0.01)\n",
    "                                      )\n",
    "                )\n",
    "meta_learner.summary()"
   ]
  },
  {
   "cell_type": "code",
   "execution_count": null,
   "metadata": {},
   "outputs": [],
   "source": []
  },
  {
   "cell_type": "code",
   "execution_count": 13,
   "metadata": {
    "collapsed": true,
    "jupyter": {
     "outputs_hidden": true
    }
   },
   "outputs": [
    {
     "name": "stdout",
     "output_type": "stream",
     "text": [
      "Epoch 1/100\n",
      "363/363 [==============================] - 2s 6ms/step - loss: 0.4949 - auc: 0.5642 - val_loss: 0.4867 - val_auc: 0.4369\n",
      "Epoch 2/100\n",
      "363/363 [==============================] - 2s 5ms/step - loss: 0.3751 - auc: 0.6057 - val_loss: 0.4571 - val_auc: 0.4744\n",
      "Epoch 3/100\n",
      "363/363 [==============================] - 2s 5ms/step - loss: 0.3507 - auc: 0.6329 - val_loss: 0.4437 - val_auc: 0.5092\n",
      "Epoch 4/100\n",
      "363/363 [==============================] - 2s 6ms/step - loss: 0.3390 - auc: 0.6536 - val_loss: 0.4328 - val_auc: 0.5409\n",
      "Epoch 5/100\n",
      "363/363 [==============================] - 2s 5ms/step - loss: 0.3316 - auc: 0.6716 - val_loss: 0.4250 - val_auc: 0.5755\n",
      "Epoch 6/100\n",
      "363/363 [==============================] - 2s 5ms/step - loss: 0.3263 - auc: 0.6862 - val_loss: 0.4176 - val_auc: 0.5940\n",
      "Epoch 7/100\n",
      "363/363 [==============================] - 2s 5ms/step - loss: 0.3224 - auc: 0.6983 - val_loss: 0.4122 - val_auc: 0.6105\n",
      "Epoch 8/100\n",
      "363/363 [==============================] - 2s 5ms/step - loss: 0.3193 - auc: 0.7074 - val_loss: 0.4106 - val_auc: 0.6320\n",
      "Epoch 9/100\n",
      "363/363 [==============================] - 2s 5ms/step - loss: 0.3167 - auc: 0.7160 - val_loss: 0.4063 - val_auc: 0.6448\n",
      "Epoch 10/100\n",
      "363/363 [==============================] - 2s 6ms/step - loss: 0.3146 - auc: 0.7233 - val_loss: 0.4045 - val_auc: 0.6577\n",
      "Epoch 11/100\n",
      "363/363 [==============================] - 2s 6ms/step - loss: 0.3128 - auc: 0.7295 - val_loss: 0.4024 - val_auc: 0.6695\n",
      "Epoch 12/100\n",
      "363/363 [==============================] - 2s 4ms/step - loss: 0.3112 - auc: 0.7354 - val_loss: 0.4003 - val_auc: 0.6812\n",
      "Epoch 13/100\n",
      "363/363 [==============================] - 2s 5ms/step - loss: 0.3099 - auc: 0.7406 - val_loss: 0.4010 - val_auc: 0.6879\n",
      "Epoch 14/100\n",
      "363/363 [==============================] - 2s 5ms/step - loss: 0.3087 - auc: 0.7444 - val_loss: 0.4004 - val_auc: 0.6972\n",
      "Epoch 15/100\n",
      "363/363 [==============================] - 2s 5ms/step - loss: 0.3077 - auc: 0.7480 - val_loss: 0.3978 - val_auc: 0.7073\n",
      "Epoch 16/100\n",
      "363/363 [==============================] - 2s 5ms/step - loss: 0.3068 - auc: 0.7523 - val_loss: 0.3972 - val_auc: 0.7148\n",
      "Epoch 17/100\n",
      "363/363 [==============================] - 2s 5ms/step - loss: 0.3060 - auc: 0.7547 - val_loss: 0.3947 - val_auc: 0.7252\n",
      "Epoch 18/100\n",
      "363/363 [==============================] - 2s 4ms/step - loss: 0.3052 - auc: 0.7579 - val_loss: 0.3947 - val_auc: 0.7294\n",
      "Epoch 19/100\n",
      "363/363 [==============================] - 2s 5ms/step - loss: 0.3045 - auc: 0.7604 - val_loss: 0.3945 - val_auc: 0.7341\n",
      "Epoch 20/100\n",
      "363/363 [==============================] - 2s 5ms/step - loss: 0.3040 - auc: 0.7626 - val_loss: 0.3928 - val_auc: 0.7395\n",
      "Epoch 21/100\n",
      "363/363 [==============================] - 2s 5ms/step - loss: 0.3034 - auc: 0.7647 - val_loss: 0.3927 - val_auc: 0.7436\n",
      "Epoch 22/100\n",
      "363/363 [==============================] - 2s 5ms/step - loss: 0.3029 - auc: 0.7667 - val_loss: 0.3928 - val_auc: 0.7465\n",
      "Epoch 23/100\n",
      "363/363 [==============================] - 2s 5ms/step - loss: 0.3025 - auc: 0.7686 - val_loss: 0.3925 - val_auc: 0.7485\n",
      "Epoch 24/100\n",
      "363/363 [==============================] - 2s 5ms/step - loss: 0.3020 - auc: 0.7705 - val_loss: 0.3896 - val_auc: 0.7534\n",
      "Epoch 25/100\n",
      "363/363 [==============================] - 2s 5ms/step - loss: 0.3017 - auc: 0.7717 - val_loss: 0.3920 - val_auc: 0.7540\n",
      "Epoch 26/100\n",
      "363/363 [==============================] - 2s 5ms/step - loss: 0.3013 - auc: 0.7731 - val_loss: 0.3938 - val_auc: 0.7564\n",
      "Epoch 27/100\n",
      "363/363 [==============================] - 2s 5ms/step - loss: 0.3010 - auc: 0.7742 - val_loss: 0.3903 - val_auc: 0.7580\n",
      "Epoch 28/100\n",
      "363/363 [==============================] - 2s 5ms/step - loss: 0.3007 - auc: 0.7756 - val_loss: 0.3908 - val_auc: 0.7600\n",
      "Epoch 29/100\n",
      "363/363 [==============================] - 2s 4ms/step - loss: 0.3005 - auc: 0.7767 - val_loss: 0.3910 - val_auc: 0.7618\n",
      "Epoch 30/100\n",
      "363/363 [==============================] - 2s 5ms/step - loss: 0.3002 - auc: 0.7777 - val_loss: 0.3885 - val_auc: 0.7639\n",
      "Epoch 31/100\n",
      "363/363 [==============================] - 2s 6ms/step - loss: 0.3000 - auc: 0.7789 - val_loss: 0.3900 - val_auc: 0.7649\n",
      "Epoch 32/100\n",
      "363/363 [==============================] - 2s 5ms/step - loss: 0.2997 - auc: 0.7796 - val_loss: 0.3909 - val_auc: 0.7646\n",
      "Epoch 33/100\n",
      "363/363 [==============================] - 2s 6ms/step - loss: 0.2995 - auc: 0.7806 - val_loss: 0.3889 - val_auc: 0.7660\n",
      "Epoch 34/100\n",
      "363/363 [==============================] - 2s 5ms/step - loss: 0.2993 - auc: 0.7814 - val_loss: 0.3882 - val_auc: 0.7686\n",
      "Epoch 35/100\n",
      "363/363 [==============================] - 2s 5ms/step - loss: 0.2991 - auc: 0.7819 - val_loss: 0.3886 - val_auc: 0.7685\n",
      "Epoch 36/100\n",
      "363/363 [==============================] - 2s 5ms/step - loss: 0.2990 - auc: 0.7830 - val_loss: 0.3886 - val_auc: 0.7703\n",
      "Epoch 37/100\n",
      "363/363 [==============================] - 2s 5ms/step - loss: 0.2988 - auc: 0.7838 - val_loss: 0.3909 - val_auc: 0.7714\n",
      "Epoch 38/100\n",
      "363/363 [==============================] - 2s 5ms/step - loss: 0.2987 - auc: 0.7838 - val_loss: 0.3891 - val_auc: 0.7734\n",
      "Epoch 39/100\n",
      "363/363 [==============================] - 2s 5ms/step - loss: 0.2985 - auc: 0.7848 - val_loss: 0.3880 - val_auc: 0.7724\n",
      "Epoch 40/100\n",
      "363/363 [==============================] - 2s 5ms/step - loss: 0.2984 - auc: 0.7854 - val_loss: 0.3870 - val_auc: 0.7745\n",
      "Epoch 41/100\n",
      "363/363 [==============================] - 2s 5ms/step - loss: 0.2982 - auc: 0.7862 - val_loss: 0.3889 - val_auc: 0.7742\n",
      "Epoch 42/100\n",
      "363/363 [==============================] - 2s 5ms/step - loss: 0.2981 - auc: 0.7862 - val_loss: 0.3881 - val_auc: 0.7746\n",
      "Epoch 43/100\n",
      "363/363 [==============================] - 2s 5ms/step - loss: 0.2980 - auc: 0.7869 - val_loss: 0.3841 - val_auc: 0.7767\n",
      "Epoch 44/100\n",
      "363/363 [==============================] - 2s 4ms/step - loss: 0.2979 - auc: 0.7872 - val_loss: 0.3878 - val_auc: 0.7772\n",
      "Epoch 45/100\n",
      "363/363 [==============================] - 2s 6ms/step - loss: 0.2978 - auc: 0.7882 - val_loss: 0.3856 - val_auc: 0.7776\n",
      "Epoch 46/100\n",
      "363/363 [==============================] - 2s 5ms/step - loss: 0.2977 - auc: 0.7885 - val_loss: 0.3868 - val_auc: 0.7782\n",
      "Epoch 47/100\n",
      "363/363 [==============================] - 2s 5ms/step - loss: 0.2976 - auc: 0.7890 - val_loss: 0.3874 - val_auc: 0.7788\n",
      "Epoch 48/100\n",
      "363/363 [==============================] - 2s 6ms/step - loss: 0.2975 - auc: 0.7894 - val_loss: 0.3875 - val_auc: 0.7767\n",
      "Epoch 49/100\n",
      "363/363 [==============================] - 2s 5ms/step - loss: 0.2974 - auc: 0.7894 - val_loss: 0.3873 - val_auc: 0.7800\n",
      "Epoch 50/100\n",
      "363/363 [==============================] - 2s 6ms/step - loss: 0.2974 - auc: 0.7901 - val_loss: 0.3867 - val_auc: 0.7793\n",
      "Epoch 51/100\n",
      "363/363 [==============================] - 2s 5ms/step - loss: 0.2973 - auc: 0.7903 - val_loss: 0.3841 - val_auc: 0.7799\n",
      "Epoch 52/100\n",
      "363/363 [==============================] - 2s 5ms/step - loss: 0.2972 - auc: 0.7904 - val_loss: 0.3872 - val_auc: 0.7798\n",
      "Epoch 53/100\n",
      "363/363 [==============================] - 2s 6ms/step - loss: 0.2971 - auc: 0.7911 - val_loss: 0.3870 - val_auc: 0.7799\n",
      "Epoch 54/100\n",
      "363/363 [==============================] - 2s 5ms/step - loss: 0.2970 - auc: 0.7917 - val_loss: 0.3888 - val_auc: 0.7789\n",
      "Epoch 55/100\n",
      "363/363 [==============================] - 2s 4ms/step - loss: 0.2970 - auc: 0.7914 - val_loss: 0.3880 - val_auc: 0.7808\n",
      "Epoch 56/100\n",
      "363/363 [==============================] - 2s 5ms/step - loss: 0.2969 - auc: 0.7919 - val_loss: 0.3844 - val_auc: 0.7819\n",
      "Epoch 57/100\n",
      "363/363 [==============================] - 2s 5ms/step - loss: 0.2969 - auc: 0.7921 - val_loss: 0.3840 - val_auc: 0.7827\n",
      "Epoch 58/100\n",
      "363/363 [==============================] - 2s 5ms/step - loss: 0.2968 - auc: 0.7925 - val_loss: 0.3863 - val_auc: 0.7820\n",
      "Epoch 59/100\n",
      "363/363 [==============================] - 2s 5ms/step - loss: 0.2968 - auc: 0.7924 - val_loss: 0.3846 - val_auc: 0.7829\n",
      "Epoch 60/100\n",
      "363/363 [==============================] - 2s 5ms/step - loss: 0.2967 - auc: 0.7928 - val_loss: 0.3828 - val_auc: 0.7839\n",
      "Epoch 61/100\n",
      "363/363 [==============================] - 2s 5ms/step - loss: 0.2967 - auc: 0.7930 - val_loss: 0.3839 - val_auc: 0.7838\n",
      "Epoch 62/100\n",
      "363/363 [==============================] - 2s 5ms/step - loss: 0.2966 - auc: 0.7933 - val_loss: 0.3852 - val_auc: 0.7831\n",
      "Epoch 63/100\n",
      "363/363 [==============================] - 2s 5ms/step - loss: 0.2966 - auc: 0.7935 - val_loss: 0.3850 - val_auc: 0.7844\n",
      "Epoch 64/100\n",
      "363/363 [==============================] - 2s 5ms/step - loss: 0.2965 - auc: 0.7940 - val_loss: 0.3827 - val_auc: 0.7859\n",
      "Epoch 65/100\n",
      "363/363 [==============================] - 2s 6ms/step - loss: 0.2965 - auc: 0.7937 - val_loss: 0.3861 - val_auc: 0.7840\n",
      "Epoch 66/100\n",
      "363/363 [==============================] - 2s 5ms/step - loss: 0.2964 - auc: 0.7940 - val_loss: 0.3833 - val_auc: 0.7851\n",
      "Epoch 67/100\n",
      "363/363 [==============================] - 2s 5ms/step - loss: 0.2964 - auc: 0.7944 - val_loss: 0.3833 - val_auc: 0.7845\n",
      "Epoch 68/100\n",
      "363/363 [==============================] - 2s 5ms/step - loss: 0.2964 - auc: 0.7939 - val_loss: 0.3827 - val_auc: 0.7865\n",
      "Epoch 69/100\n",
      "363/363 [==============================] - 2s 5ms/step - loss: 0.2963 - auc: 0.7942 - val_loss: 0.3833 - val_auc: 0.7860\n",
      "Epoch 70/100\n",
      "363/363 [==============================] - 2s 5ms/step - loss: 0.2963 - auc: 0.7946 - val_loss: 0.3837 - val_auc: 0.7859\n",
      "Epoch 71/100\n",
      "363/363 [==============================] - 2s 5ms/step - loss: 0.2962 - auc: 0.7949 - val_loss: 0.3844 - val_auc: 0.7854\n",
      "Epoch 72/100\n",
      "363/363 [==============================] - 2s 4ms/step - loss: 0.2962 - auc: 0.7947 - val_loss: 0.3857 - val_auc: 0.7854\n",
      "Epoch 73/100\n",
      "363/363 [==============================] - 2s 5ms/step - loss: 0.2962 - auc: 0.7951 - val_loss: 0.3843 - val_auc: 0.7842\n",
      "Epoch 74/100\n",
      "363/363 [==============================] - 2s 5ms/step - loss: 0.2961 - auc: 0.7953 - val_loss: 0.3839 - val_auc: 0.7856\n",
      "Epoch 75/100\n",
      "363/363 [==============================] - 2s 4ms/step - loss: 0.2961 - auc: 0.7952 - val_loss: 0.3824 - val_auc: 0.7866\n",
      "Epoch 76/100\n",
      "363/363 [==============================] - 2s 6ms/step - loss: 0.2960 - auc: 0.7953 - val_loss: 0.3822 - val_auc: 0.7880\n",
      "Epoch 77/100\n",
      "363/363 [==============================] - 2s 6ms/step - loss: 0.2960 - auc: 0.7955 - val_loss: 0.3843 - val_auc: 0.7856\n",
      "Epoch 78/100\n",
      "363/363 [==============================] - 2s 5ms/step - loss: 0.2960 - auc: 0.7958 - val_loss: 0.3823 - val_auc: 0.7868\n",
      "Epoch 79/100\n",
      "363/363 [==============================] - 2s 5ms/step - loss: 0.2960 - auc: 0.7955 - val_loss: 0.3831 - val_auc: 0.7865\n",
      "Epoch 80/100\n",
      "363/363 [==============================] - 2s 5ms/step - loss: 0.2960 - auc: 0.7958 - val_loss: 0.3832 - val_auc: 0.7862\n",
      "Epoch 81/100\n",
      "363/363 [==============================] - 2s 5ms/step - loss: 0.2959 - auc: 0.7959 - val_loss: 0.3832 - val_auc: 0.7881\n",
      "Epoch 82/100\n",
      "363/363 [==============================] - 2s 6ms/step - loss: 0.2959 - auc: 0.7962 - val_loss: 0.3836 - val_auc: 0.7879\n",
      "Epoch 83/100\n",
      "363/363 [==============================] - 2s 5ms/step - loss: 0.2959 - auc: 0.7959 - val_loss: 0.3843 - val_auc: 0.7871\n",
      "Epoch 84/100\n",
      "363/363 [==============================] - 2s 5ms/step - loss: 0.2959 - auc: 0.7963 - val_loss: 0.3827 - val_auc: 0.7873\n",
      "Epoch 85/100\n",
      "363/363 [==============================] - 2s 5ms/step - loss: 0.2958 - auc: 0.7963 - val_loss: 0.3845 - val_auc: 0.7860\n",
      "Epoch 86/100\n",
      "363/363 [==============================] - 2s 5ms/step - loss: 0.2958 - auc: 0.7965 - val_loss: 0.3837 - val_auc: 0.7874\n",
      "Epoch 87/100\n",
      "363/363 [==============================] - 2s 5ms/step - loss: 0.2958 - auc: 0.7966 - val_loss: 0.3828 - val_auc: 0.7892\n",
      "Epoch 88/100\n",
      "363/363 [==============================] - 2s 5ms/step - loss: 0.2957 - auc: 0.7966 - val_loss: 0.3837 - val_auc: 0.7879\n",
      "Epoch 89/100\n",
      "363/363 [==============================] - 2s 5ms/step - loss: 0.2957 - auc: 0.7968 - val_loss: 0.3812 - val_auc: 0.7893\n",
      "Epoch 90/100\n",
      "363/363 [==============================] - 2s 6ms/step - loss: 0.2957 - auc: 0.7971 - val_loss: 0.3838 - val_auc: 0.7877\n",
      "Epoch 91/100\n",
      "363/363 [==============================] - 2s 5ms/step - loss: 0.2957 - auc: 0.7970 - val_loss: 0.3840 - val_auc: 0.7879\n",
      "Epoch 92/100\n",
      "363/363 [==============================] - 2s 5ms/step - loss: 0.2957 - auc: 0.7973 - val_loss: 0.3815 - val_auc: 0.7893\n",
      "Epoch 93/100\n",
      "363/363 [==============================] - 2s 5ms/step - loss: 0.2956 - auc: 0.7971 - val_loss: 0.3852 - val_auc: 0.7888\n",
      "Epoch 94/100\n",
      "363/363 [==============================] - 2s 6ms/step - loss: 0.2956 - auc: 0.7966 - val_loss: 0.3831 - val_auc: 0.7884\n",
      "Epoch 95/100\n",
      "363/363 [==============================] - 2s 5ms/step - loss: 0.2956 - auc: 0.7970 - val_loss: 0.3828 - val_auc: 0.7896\n",
      "Epoch 96/100\n",
      "363/363 [==============================] - 2s 6ms/step - loss: 0.2956 - auc: 0.7973 - val_loss: 0.3848 - val_auc: 0.7884\n",
      "Epoch 97/100\n",
      "363/363 [==============================] - 2s 6ms/step - loss: 0.2956 - auc: 0.7973 - val_loss: 0.3839 - val_auc: 0.7887\n",
      "Epoch 98/100\n",
      "363/363 [==============================] - 2s 5ms/step - loss: 0.2956 - auc: 0.7973 - val_loss: 0.3826 - val_auc: 0.7890\n",
      "Epoch 99/100\n",
      "363/363 [==============================] - 2s 6ms/step - loss: 0.2956 - auc: 0.7977 - val_loss: 0.3826 - val_auc: 0.7890\n",
      "Epoch 100/100\n",
      "363/363 [==============================] - 2s 5ms/step - loss: 0.2955 - auc: 0.7973 - val_loss: 0.3828 - val_auc: 0.7904\n"
     ]
    }
   ],
   "source": [
    "lr_schedul = tf.keras.optimizers.schedules.ExponentialDecay(1e-3,\n",
    "                                                            decay_steps=1850,\n",
    "                                                            decay_rate=0.99, \n",
    "                                                            staircase=True)\n",
    "\n",
    "optim = tf.keras.optimizers.Adam(learning_rate=lr_schedul)\n",
    "\n",
    "meta_learner.compile(optimizer=optim,\n",
    "                     loss=tf.keras.losses.BinaryCrossentropy(),\n",
    "                     metrics=[tf.keras.metrics.AUC(name=\"auc\", multi_label = True)])\n",
    "\n",
    "train_results = meta_learner.fit(x=training_data_x,\n",
    "                                 y=training_data_y,\n",
    "                                 validation_data=(validation_data_x, validation_data_y),\n",
    "                                 batch_size=32,\n",
    "                                 epochs=100,\n",
    "                                 shuffle=True)"
   ]
  },
  {
   "cell_type": "code",
   "execution_count": null,
   "metadata": {},
   "outputs": [],
   "source": []
  },
  {
   "cell_type": "code",
   "execution_count": null,
   "metadata": {},
   "outputs": [],
   "source": []
  },
  {
   "cell_type": "code",
   "execution_count": 14,
   "metadata": {},
   "outputs": [
    {
     "data": {
      "image/png": "[encoded data removed]",
      "text/plain": [
       "<Figure size 432x288 with 1 Axes>"
      ]
     },
     "metadata": {
      "needs_background": "light"
     },
     "output_type": "display_data"
    },
    {
     "data": {
      "image/png": "[encoded data removed]",
      "text/plain": [
       "<Figure size 432x288 with 1 Axes>"
      ]
     },
     "metadata": {
      "needs_background": "light"
     },
     "output_type": "display_data"
    }
   ],
   "source": [
    "import matplotlib.pyplot as plt\n",
    "plt.plot(train_results.history['auc'])\n",
    "plt.plot(train_results.history['val_auc'])\n",
    "plt.title('model auc')\n",
    "plt.ylabel('auc')\n",
    "plt.xlabel('epoch')\n",
    "plt.legend(['train', 'test'], loc='upper left')\n",
    "plt.show()\n",
    "\n",
    "plt.plot(train_results.history['loss'])\n",
    "plt.plot(train_results.history['val_loss'])\n",
    "plt.title('model loss')\n",
    "plt.ylabel('loss')\n",
    "plt.xlabel('epoch')\n",
    "plt.legend(['train', 'test'], loc='upper left')\n",
    "plt.show()"
   ]
  },
  {
   "cell_type": "code",
   "execution_count": 15,
   "metadata": {},
   "outputs": [],
   "source": [
    "meta_predictions_test = meta_learner.predict(validation_data_x)"
   ]
  },
  {
   "cell_type": "code",
   "execution_count": 18,
   "metadata": {
    "collapsed": true,
    "jupyter": {
     "outputs_hidden": true
    }
   },
   "outputs": [
    {
     "data": {
      "text/plain": [
       "(0.86222416,\n",
       " {'auc': 0.79037213,\n",
       "  'precision': 0.8377193,\n",
       "  'recall': 0.34981686,\n",
       "  'f2_score': 0.395937,\n",
       "  'binary_accuracy': 0.8603988,\n",
       "  'accuracy_enlarged_cardiomediastinum': 0.53846157,\n",
       "  'accuracy_cardiomegaly': 0.73504275,\n",
       "  'accuracy_lung_opacity': 0.7948718,\n",
       "  'accuracy_lung_lesion': 0.99572647,\n",
       "  'accuracy_edema': 0.9059829,\n",
       "  'accuracy_consolidation': 0.85897434,\n",
       "  'accuracy_pneumonia': 0.95726496,\n",
       "  'accuracy_atelectasis': 0.7222222,\n",
       "  'accuracy_pneumothorax': 0.96153843,\n",
       "  'accuracy_pleural_effusion': 0.8717949,\n",
       "  'accuracy_pleural_other': 0.991453,\n",
       "  'accuracy_fracture': 0.991453,\n",
       "  'auc_enlarged_cardiomediastinum': 0.50183487,\n",
       "  'auc_cardiomegaly': 0.7859231,\n",
       "  'auc_lung_opacity': 0.9231335,\n",
       "  'auc_lung_lesion': 0.9613733,\n",
       "  'auc_edema': 0.93045264,\n",
       "  'auc_consolidation': 0.94233376,\n",
       "  'auc_pneumonia': 0.8313054,\n",
       "  'auc_atelectasis': 0.8439935,\n",
       "  'auc_pneumothorax': 0.8556416,\n",
       "  'auc_pleural_effusion': 0.92564124,\n",
       "  'auc_pleural_other': 0.9828327,\n",
       "  'auc_fracture': 0.0,\n",
       "  'precision_enlarged_cardiomediastinum': 1.0,\n",
       "  'precision_cardiomegaly': 1.0,\n",
       "  'precision_lung_opacity': 0.9431818,\n",
       "  'precision_lung_lesion': 0.0,\n",
       "  'precision_edema': 0.7804878,\n",
       "  'precision_consolidation': 0.0,\n",
       "  'precision_pneumonia': 0.25,\n",
       "  'precision_atelectasis': 0.7586207,\n",
       "  'precision_pneumothorax': 0.42857143,\n",
       "  'precision_pleural_effusion': 0.877551,\n",
       "  'precision_pleural_other': 0.0,\n",
       "  'precision_fracture': 0.0,\n",
       "  'recall_enlarged_cardiomediastinum': 0.0091743115,\n",
       "  'recall_cardiomegaly': 0.0882353,\n",
       "  'recall_lung_opacity': 0.65873015,\n",
       "  'recall_lung_lesion': 0.0,\n",
       "  'recall_edema': 0.7111111,\n",
       "  'recall_consolidation': 0.0,\n",
       "  'recall_pneumonia': 0.125,\n",
       "  'recall_atelectasis': 0.275,\n",
       "  'recall_pneumothorax': 0.375,\n",
       "  'recall_pleural_effusion': 0.64179105,\n",
       "  'recall_pleural_other': 0.0,\n",
       "  'recall_fracture': 0.0,\n",
       "  'f2_score_score_enlarged_cardiomediastinum': 0.011441647,\n",
       "  'f2_score_score_cardiomegaly': 0.10791367,\n",
       "  'f2_score_score_lung_opacity': 0.7010135,\n",
       "  'f2_score_score_lung_lesion': 0.0,\n",
       "  'f2_score_score_edema': 0.7239819,\n",
       "  'f2_score_score_consolidation': 0.0,\n",
       "  'f2_score_score_pneumonia': 0.1388889,\n",
       "  'f2_score_score_atelectasis': 0.31518626,\n",
       "  'f2_score_score_pneumothorax': 0.38461536,\n",
       "  'f2_score_score_pleural_effusion': 0.67823344,\n",
       "  'f2_score_score_pleural_other': 0.0,\n",
       "  'f2_score_score_fracture': 0.0})"
      ]
     },
     "execution_count": 18,
     "metadata": {},
     "output_type": "execute_result"
    }
   ],
   "source": [
    "meta_test_metrics = calc_metrics(validation_data_y, meta_predictions_test, exp.benchmark.metrics)\n",
    "np.array([v for k, v in meta_test_metrics.items() if k.startswith(\"auc_\")][:-1]).mean() , meta_test_metrics"
   ]
  },
  {
   "cell_type": "code",
   "execution_count": null,
   "metadata": {},
   "outputs": [],
   "source": []
  },
  {
   "cell_type": "code",
   "execution_count": 23,
   "metadata": {},
   "outputs": [
    {
     "data": {
      "text/plain": [
       "[True, False, False]"
      ]
     },
     "execution_count": 23,
     "metadata": {},
     "output_type": "execute_result"
    }
   ],
   "source": []
  },
  {
   "cell_type": "code",
   "execution_count": 16,
   "metadata": {},
   "outputs": [],
   "source": [
    "for index, _ in enumerate(wAvgEnsemble.members):\n",
    "    wAvgEnsemble.members[index].submission_probs = wAvgEnsemble.members[index].val_probs "
   ]
  },
  {
   "cell_type": "code",
   "execution_count": 19,
   "metadata": {},
   "outputs": [],
   "source": [
    "enesemble_test_probs = wAvgEnsemble.predict()\n",
    "enesemble_test_truth = keras_member[0].val_classes "
   ]
  },
  {
   "cell_type": "code",
   "execution_count": 15,
   "metadata": {},
   "outputs": [
    {
     "data": {
      "text/plain": [
       "[(11596, 12), (11596, 12), (11596, 12), (11596, 12)]"
      ]
     },
     "execution_count": 15,
     "metadata": {},
     "output_type": "execute_result"
    }
   ],
   "source": []
  },
  {
   "cell_type": "code",
   "execution_count": null,
   "metadata": {},
   "outputs": [],
   "source": []
  },
  {
   "cell_type": "code",
   "execution_count": null,
   "metadata": {},
   "outputs": [],
   "source": [
    "get_auc_metric(exp)(keras_member[0].val_classes  , keras_member[0].val_probs )"
   ]
  },
  {
   "cell_type": "code",
   "execution_count": null,
   "metadata": {},
   "outputs": [],
   "source": [
    "[m for m in exp.benchmark.metrics if m.name==\"auc\"][0]"
   ]
  },
  {
   "cell_type": "code",
   "execution_count": null,
   "metadata": {},
   "outputs": [],
   "source": [
    "get_auc_metric(exp)"
   ]
  },
  {
   "cell_type": "code",
   "execution_count": 5,
   "metadata": {},
   "outputs": [],
   "source": [
    "def calc_metrics(y_true, y_preds, exp_metrics):\n",
    "    metrics = []\n",
    "    for m in exp_metrics:\n",
    "        if isinstance(m, SingleClassMetric):\n",
    "            class_name = \"_\".join(m.name.split(\"_\")[1:])\n",
    "            metrics.append(SingleClassMetric(m.base_metric, m.class_id, class_name= class_name))\n",
    "        else:\n",
    "            extra_args = {}\n",
    "            if hasattr(m, \"multi_label\"):\n",
    "                extra_args[\"multi_label\"] = m.multi_label\n",
    "\n",
    "            metrics.append(m.__class__(name= m.name, **extra_args))\n",
    "    metric_results = {}\n",
    "    for metric in metrics:\n",
    "            metric.reset_states()\n",
    "            metric.update_state(tensorflow.constant(y_true), tensorflow.constant(y_preds))\n",
    "            metric_results[metric.name] = metric.result().numpy()\n",
    "    return metric_results"
   ]
  },
  {
   "cell_type": "code",
   "execution_count": 13,
   "metadata": {},
   "outputs": [
    {
     "ename": "AttributeError",
     "evalue": "'KerasMember' object has no attribute 'val_predictions'",
     "output_type": "error",
     "traceback": [
      "\u001b[0;31m---------------------------------------------------------------------------\u001b[0m",
      "\u001b[0;31mAttributeError\u001b[0m                            Traceback (most recent call last)",
      "\u001b[0;32m<ipython-input-13-495202d00312>\u001b[0m in \u001b[0;36m<module>\u001b[0;34m\u001b[0m\n\u001b[0;32m----> 1\u001b[0;31m \u001b[0mkeras_member\u001b[0m\u001b[0;34m[\u001b[0m\u001b[0;36m0\u001b[0m\u001b[0;34m]\u001b[0m\u001b[0;34m.\u001b[0m\u001b[0mval_predictions\u001b[0m\u001b[0;34m\u001b[0m\u001b[0;34m\u001b[0m\u001b[0m\n\u001b[0m",
      "\u001b[0;31mAttributeError\u001b[0m: 'KerasMember' object has no attribute 'val_predictions'"
     ]
    }
   ],
   "source": [
    "keras_member[0].val_predictions"
   ]
  },
  {
   "cell_type": "code",
   "execution_count": 6,
   "metadata": {},
   "outputs": [],
   "source": [
    "def ensemble_existing(experiments, ensemble_weights):\n",
    "    assert len(experiments) == len(ensemble_weights)\n",
    "    test_preds = []\n",
    "    val_preds = []\n",
    "    for exp in experiments:\n",
    "        testgen = exp.benchmark.testgen\n",
    "        valgen = exp.benchmark.valgen\n",
    "        testgen.on_epoch_end()\n",
    "        valgen.on_epoch_end()\n",
    "        test_preds.append(exp.model.predict(testgen,steps=len(testgen), verbose=1))\n",
    "        val_preds.append(exp.model.predict(valgen,steps=len(valgen), verbose=1))\n",
    "    \n",
    "    ensemble_test_preds = np.sum(np.array([ensemble_weights[i] * test_pred\n",
    "                                          for i, test_pred in enumerate(test_preds)]),axis=0)\n",
    "    ensemble_val_preds = np.sum(np.array([ensemble_weights[i] * val_pred\n",
    "                                          for i, val_pred in enumerate(val_preds)]),axis=0)\n",
    "    return ensemble_test_preds, ensemble_val_preds\n",
    "\n",
    "def ensemble_existing_from_member(members, ensemble_weights):\n",
    "    assert len(experiments) == len(ensemble_weights)\n",
    "    \n",
    "    ensemble_test_preds = np.sum(np.array([ensemble_weights[i] * member.val_probs  \n",
    "                                          for i, member in enumerate(members)]),axis=0)\n",
    "    ensemble_val_preds = np.sum(np.array([ensemble_weights[i] * member.train_probs \n",
    "                                          for i, member in enumerate(members)]),axis=0)\n",
    "    return ensemble_test_preds, ensemble_val_preds \n",
    "        \n",
    "    "
   ]
  },
  {
   "cell_type": "code",
   "execution_count": 7,
   "metadata": {},
   "outputs": [
    {
     "ename": "NameError",
     "evalue": "name 'experiments' is not defined",
     "output_type": "error",
     "traceback": [
      "\u001b[0;31m---------------------------------------------------------------------------\u001b[0m",
      "\u001b[0;31mNameError\u001b[0m                                 Traceback (most recent call last)",
      "\u001b[0;32m<ipython-input-7-d0be3cd9c579>\u001b[0m in \u001b[0;36m<module>\u001b[0;34m\u001b[0m\n\u001b[0;32m----> 1\u001b[0;31m \u001b[0mexperiments\u001b[0m\u001b[0;34m\u001b[0m\u001b[0;34m\u001b[0m\u001b[0m\n\u001b[0m",
      "\u001b[0;31mNameError\u001b[0m: name 'experiments' is not defined"
     ]
    }
   ],
   "source": [
    "experiments"
   ]
  },
  {
   "cell_type": "code",
   "execution_count": 8,
   "metadata": {},
   "outputs": [],
   "source": [
    "# best classbased test auc\n",
    "experiment_ids = ['1262eecc-e490-11ea-a3de-0242ac110005',\n",
    "  '4267e786-e2dc-11ea-a072-0242ac110005',\n",
    "  '03479e56-ee90-11ea-b021-0242ac110002',\n",
    "  'fc098932-e58f-11ea-8d19-0242ac110005',\n",
    "  'ac1da21e-e47c-11ea-ad88-0242ac110005',\n",
    "  'a99f1906-e4a3-11ea-87a3-0242ac110005',\n",
    "  'ba5364e6-e949-11ea-87eb-0242ac110005',\n",
    "  'conf-c55ed5c6-e879-11ea-9a58-0242ac110005',\n",
    "  'f5345e7e-e603-11ea-b461-0242ac110005',\n",
    "  '653d264a-ee44-11ea-bcb1-0242ac110002']\n",
    "weights = np.array([0.30839321, 0.17275668, 0.03818222, 0.16238883, 0.05441162,\n",
    "       0.04413576, 0.0113853 , 0.01235822, 0.00061968, 0.19536847])"
   ]
  },
  {
   "cell_type": "code",
   "execution_count": 9,
   "metadata": {},
   "outputs": [
    {
     "name": "stdout",
     "output_type": "stream",
     "text": [
      "Using weights file DenseNet121_Chexpert_WBCE_E3_B32_C0_N12_AugAffine_U75_D256_DS9505_1LR1_LF5_SGD_Upsampled_20200822-155642.h5 to load model...\n",
      "Using weights file DenseNet121_Chexpert_BCE_E3_B32_C0_N12_D256_DS9505_1LR1_SGD_NoCustomMetrics_20200820-115702.h5 to load model...\n",
      "Using weights file DenseNet121_Chexpert_BCE_E3_B32_C0_N12_AugAffine_Uones_D256_DS9505_2LR1_LF5_SGD_Upsampled_20200904-092128.h5 to load model...\n",
      "Using weights file DenseNet121_Chexpert_CWBCE_L1Normed_E3_B32_C0_N12_AugAffine_hist_gb_U75_D256_DS9505_2LR4_LF5_Adam_Upsampled_20200823-222835.h5 to load model...\n",
      "Using weights file DenseNet121_Chexpert_BCE_E3_B32_C0_N12_AugAffine_U75_D256_DS9505_2LR1_LF5_SGD_Upsampled_20200822-133750.h5 to load model...\n",
      "Using weights file DenseNet121_Chexpert_CWBCE_E3_B32_C0_N12_AugAffine_U75_D256_DS9505_1LR1_LF5_SGD_Upsampled_20200822-181656.h5 to load model...\n",
      "Using weights file DenseNet121_Chexpert_CWBCE_L1Normed_E5_B32_C0_N12_AugAffine_sharp21_U75_D256_DS9505_1LR4_LF1_Adam_Upsampled_20200828-161545.h5 to load model...\n",
      "Using weights file DenseNet121_Chexpert_CWBCE_L1Normed_E3_B32_C0_N12_AugColor_sharp21_U75_D256_DS9505_5LR1_LF1_SGD_Upsampled_20200827-152708.h5 to load model...\n",
      "Using weights file DenseNet121_Chexpert_CWBCE_L1Normed_E3_B32_C0_N12_AugAffine_sharp21_U75_D256_DS9505_5LR1_LF1_SGD_Upsampled_20200824-121846.h5 to load model...\n",
      "Using weights file DenseNet121_Chexpert_BCE_E3_B32_C0_N12_AugAffine_UZEROES_D256_DS9505_2LR1_LF5_SGD_Upsampled_20200904-002011.h5 to load model...\n",
      "234/234 [==============================] - 5s 20ms/step\n",
      "11596/11596 [==============================] - 230s 20ms/step\n",
      "234/234 [==============================] - 5s 21ms/step\n",
      "11596/11596 [==============================] - 250s 22ms/step\n",
      "234/234 [==============================] - 5s 20ms/step\n",
      "11596/11596 [==============================] - 231s 20ms/step\n",
      "234/234 [==============================] - 5s 20ms/step\n",
      "11596/11596 [==============================] - 226s 19ms/step\n",
      "234/234 [==============================] - 5s 19ms/step\n",
      "11596/11596 [==============================] - 231s 20ms/step\n",
      "234/234 [==============================] - 5s 19ms/step\n",
      "11596/11596 [==============================] - 229s 20ms/step\n",
      "234/234 [==============================] - 5s 20ms/step\n",
      "11596/11596 [==============================] - 230s 20ms/step\n",
      "234/234 [==============================] - 5s 20ms/step\n",
      "11596/11596 [==============================] - 230s 20ms/step\n",
      "234/234 [==============================] - 5s 21ms/step\n",
      "11596/11596 [==============================] - 247s 21ms/step\n",
      "234/234 [==============================] - 5s 20ms/step\n",
      "11596/11596 [==============================] - 229s 20ms/step\n"
     ]
    }
   ],
   "source": [
    "\n",
    "exp_dicts = get_experiments_from_logs(experiment_ids=experiment_ids)\n",
    "exps = [rebuild_experiment(exp_dict) for exp_dict in exp_dicts]\n",
    "test_propbs, val_probs = ensemble_existing(exps, weights)"
   ]
  },
  {
   "cell_type": "code",
   "execution_count": 10,
   "metadata": {},
   "outputs": [],
   "source": [
    "exp = exps[-1]"
   ]
  },
  {
   "cell_type": "code",
   "execution_count": 12,
   "metadata": {},
   "outputs": [],
   "source": [
    "\n",
    "test_propbs, val_probs = ensemble_existing_from_member(keras_member, wAvgEnsemble.bestweights)\n",
    "test_results = calc_metrics(keras_member[0].val_classes  , test_propbs, exp.benchmark.metrics)\n",
    "val_results = calc_metrics(keras_member[0].train_classes , val_probs, exp.benchmark.metrics)\n",
    "exp = list(experiments.values())[0]"
   ]
  },
  {
   "cell_type": "code",
   "execution_count": 11,
   "metadata": {},
   "outputs": [],
   "source": [
    "test_ground_truth = exp.benchmark.testgen.classes\n",
    "test_results = calc_metrics(test_ground_truth, test_propbs, exp.benchmark.metrics)\n",
    "val_ground_truth = exp.benchmark.valgen.classes\n",
    "val_results = calc_metrics(val_ground_truth, val_probs, exp.benchmark.metrics)"
   ]
  },
  {
   "cell_type": "code",
   "execution_count": 12,
   "metadata": {},
   "outputs": [
    {
     "data": {
      "text/plain": [
       "0.79808074"
      ]
     },
     "execution_count": 12,
     "metadata": {},
     "output_type": "execute_result"
    }
   ],
   "source": [
    "metric_auc = tf.keras.metrics.AUC(multi_label = True)\n",
    "metric_auc.reset_states()\n",
    "metric_auc.update_state(tensorflow.constant(test_ground_truth), tensorflow.constant(test_propbs))\n",
    "metric_auc.result().numpy()"
   ]
  },
  {
   "cell_type": "code",
   "execution_count": 13,
   "metadata": {},
   "outputs": [
    {
     "data": {
      "text/plain": [
       "0.8706336075609381"
      ]
     },
     "execution_count": 13,
     "metadata": {},
     "output_type": "execute_result"
    }
   ],
   "source": [
    "sum(list({name:val for name, val in test_results.items() if name.startswith(\"auc_\")}.values()))/11"
   ]
  },
  {
   "cell_type": "code",
   "execution_count": 14,
   "metadata": {},
   "outputs": [
    {
     "data": {
      "text/plain": [
       "{'auc': 0.79808074,\n",
       " 'precision': 0.8595041,\n",
       " 'recall': 0.1904762,\n",
       " 'f2_score': 0.22559652,\n",
       " 'binary_accuracy': 0.8365384,\n",
       " 'accuracy_enlarged_cardiomediastinum': 0.54273504,\n",
       " 'accuracy_cardiomegaly': 0.72649574,\n",
       " 'accuracy_lung_opacity': 0.6025641,\n",
       " 'accuracy_lung_lesion': 0.99572647,\n",
       " 'accuracy_edema': 0.8803419,\n",
       " 'accuracy_consolidation': 0.8632479,\n",
       " 'accuracy_pneumonia': 0.96581197,\n",
       " 'accuracy_atelectasis': 0.66239315,\n",
       " 'accuracy_pneumothorax': 0.96153843,\n",
       " 'accuracy_pleural_effusion': 0.8632479,\n",
       " 'accuracy_pleural_other': 0.99572647,\n",
       " 'accuracy_fracture': 0.97863245,\n",
       " 'auc_enlarged_cardiomediastinum': 0.6314863,\n",
       " 'auc_cardiomegaly': 0.8082477,\n",
       " 'auc_lung_opacity': 0.9259627,\n",
       " 'auc_lung_lesion': 0.94420606,\n",
       " 'auc_edema': 0.9274545,\n",
       " 'auc_consolidation': 0.92379016,\n",
       " 'auc_pneumonia': 0.7992257,\n",
       " 'auc_atelectasis': 0.8539367,\n",
       " 'auc_pneumothorax': 0.86532074,\n",
       " 'auc_pleural_effusion': 0.931674,\n",
       " 'auc_pleural_other': 0.9656652,\n",
       " 'auc_fracture': 0.0,\n",
       " 'precision_enlarged_cardiomediastinum': 1.0,\n",
       " 'precision_cardiomegaly': 1.0,\n",
       " 'precision_lung_opacity': 1.0,\n",
       " 'precision_lung_lesion': 0.0,\n",
       " 'precision_edema': 0.84,\n",
       " 'precision_consolidation': 1.0,\n",
       " 'precision_pneumonia': 0.0,\n",
       " 'precision_atelectasis': 1.0,\n",
       " 'precision_pneumothorax': 0.4,\n",
       " 'precision_pleural_effusion': 0.8888889,\n",
       " 'precision_pleural_other': 0.0,\n",
       " 'precision_fracture': 0.0,\n",
       " 'recall_enlarged_cardiomediastinum': 0.018348623,\n",
       " 'recall_cardiomegaly': 0.05882353,\n",
       " 'recall_lung_opacity': 0.26190478,\n",
       " 'recall_lung_lesion': 0.0,\n",
       " 'recall_edema': 0.46666667,\n",
       " 'recall_consolidation': 0.030303031,\n",
       " 'recall_pneumonia': 0.0,\n",
       " 'recall_atelectasis': 0.0125,\n",
       " 'recall_pneumothorax': 0.25,\n",
       " 'recall_pleural_effusion': 0.5970149,\n",
       " 'recall_pleural_other': 0.0,\n",
       " 'recall_fracture': 0.0,\n",
       " 'f2_score_score_enlarged_cardiomediastinum': 0.022831049,\n",
       " 'f2_score_score_cardiomegaly': 0.072463766,\n",
       " 'f2_score_score_lung_opacity': 0.3072626,\n",
       " 'f2_score_score_lung_lesion': 0.0,\n",
       " 'f2_score_score_edema': 0.5121951,\n",
       " 'f2_score_score_consolidation': 0.037593987,\n",
       " 'f2_score_score_pneumonia': 0.0,\n",
       " 'f2_score_score_atelectasis': 0.015576324,\n",
       " 'f2_score_score_pneumothorax': 0.2702703,\n",
       " 'f2_score_score_pleural_effusion': 0.6389776,\n",
       " 'f2_score_score_pleural_other': 0.0,\n",
       " 'f2_score_score_fracture': 0.0}"
      ]
     },
     "execution_count": 14,
     "metadata": {},
     "output_type": "execute_result"
    }
   ],
   "source": [
    "test_results"
   ]
  },
  {
   "cell_type": "code",
   "execution_count": 15,
   "metadata": {},
   "outputs": [
    {
     "data": {
      "text/plain": [
       "{'auc': 0.7934265,\n",
       " 'precision': 0.7033712,\n",
       " 'recall': 0.35930097,\n",
       " 'f2_score': 0.3982651,\n",
       " 'binary_accuracy': 0.8882589,\n",
       " 'accuracy_enlarged_cardiomediastinum': 0.9498965,\n",
       " 'accuracy_cardiomegaly': 0.8893584,\n",
       " 'accuracy_lung_opacity': 0.6365988,\n",
       " 'accuracy_lung_lesion': 0.9585202,\n",
       " 'accuracy_edema': 0.8092446,\n",
       " 'accuracy_consolidation': 0.93566746,\n",
       " 'accuracy_pneumonia': 0.9734391,\n",
       " 'accuracy_atelectasis': 0.8497758,\n",
       " 'accuracy_pneumothorax': 0.9277337,\n",
       " 'accuracy_pleural_effusion': 0.7917385,\n",
       " 'accuracy_pleural_other': 0.9838737,\n",
       " 'accuracy_fracture': 0.95325977,\n",
       " 'auc_enlarged_cardiomediastinum': 0.6719556,\n",
       " 'auc_cardiomegaly': 0.8778016,\n",
       " 'auc_lung_opacity': 0.75001043,\n",
       " 'auc_lung_lesion': 0.79566306,\n",
       " 'auc_edema': 0.85045487,\n",
       " 'auc_consolidation': 0.76943874,\n",
       " 'auc_pneumonia': 0.74846464,\n",
       " 'auc_atelectasis': 0.6919586,\n",
       " 'auc_pneumothorax': 0.86989075,\n",
       " 'auc_pleural_effusion': 0.87782013,\n",
       " 'auc_pleural_other': 0.82181436,\n",
       " 'auc_fracture': 0.7958456,\n",
       " 'precision_enlarged_cardiomediastinum': 0.35555556,\n",
       " 'precision_cardiomegaly': 0.673699,\n",
       " 'precision_lung_opacity': 0.7280335,\n",
       " 'precision_lung_lesion': 0.52459013,\n",
       " 'precision_edema': 0.6350482,\n",
       " 'precision_consolidation': 0.29113925,\n",
       " 'precision_pneumonia': 0.33333334,\n",
       " 'precision_atelectasis': 0.5,\n",
       " 'precision_pneumothorax': 0.6731235,\n",
       " 'precision_pleural_effusion': 0.7666242,\n",
       " 'precision_pleural_other': 0.375,\n",
       " 'precision_fracture': 0.38693467,\n",
       " 'recall_enlarged_cardiomediastinum': 0.05765766,\n",
       " 'recall_cardiomegaly': 0.3130719,\n",
       " 'recall_lung_opacity': 0.3535932,\n",
       " 'recall_lung_lesion': 0.0661157,\n",
       " 'recall_edema': 0.43630338,\n",
       " 'recall_consolidation': 0.032258064,\n",
       " 'recall_pneumonia': 0.0032573289,\n",
       " 'recall_atelectasis': 0.0074626864,\n",
       " 'recall_pneumothorax': 0.2833843,\n",
       " 'recall_pleural_effusion': 0.66748005,\n",
       " 'recall_pleural_other': 0.049723756,\n",
       " 'recall_fracture': 0.15492958,\n",
       " 'f2_score_score_enlarged_cardiomediastinum': 0.06926408,\n",
       " 'f2_score_score_cardiomegaly': 0.3506075,\n",
       " 'f2_score_score_lung_opacity': 0.39413536,\n",
       " 'f2_score_score_lung_lesion': 0.08012018,\n",
       " 'f2_score_score_edema': 0.46543598,\n",
       " 'f2_score_score_consolidation': 0.039235756,\n",
       " 'f2_score_score_pneumonia': 0.004061739,\n",
       " 'f2_score_score_atelectasis': 0.009293679,\n",
       " 'f2_score_score_pneumothorax': 0.32049805,\n",
       " 'f2_score_score_pleural_effusion': 0.68520296,\n",
       " 'f2_score_score_pleural_other': 0.060160425,\n",
       " 'f2_score_score_fracture': 0.17604025}"
      ]
     },
     "execution_count": 15,
     "metadata": {},
     "output_type": "execute_result"
    }
   ],
   "source": [
    "val_results"
   ]
  },
  {
   "cell_type": "code",
   "execution_count": null,
   "metadata": {},
   "outputs": [],
   "source": [
    "experiment_ids = [\n",
    "    \"bd5c2e9a-e9ec-11ea-ae3a-0242ac110005\",\n",
    "    \"ba5364e6-e949-11ea-87eb-0242ac110005\",\n",
    "    \"74d8220a-e6c2-11ea-b084-0242ac110005\",\n",
    "    \"e506d8f0-ea0f-11ea-8dbb-0242ac110005\",\n",
    "    \"f5345e7e-e603-11ea-b461-0242ac110005\",\n",
    "    \"5dcb7ecc-e4e2-11ea-96c6-0242ac110005\",\n",
    "    \"2eb47be0-e88c-11ea-9a58-0242ac110005\",\n",
    "    \"7f0b1972-e5e5-11ea-a85b-0242ac110005\",\n",
    "]\n",
    "# keras auc\n",
    "enesmble_weights = np.array([0.07354451, 0.00284021, 0.03388902, 0.03087716, 0.04602146,\n",
    "       0.01864755, 0.48468848, 0.30949161])\n",
    "# experiments auc\n",
    "enesmble_weights = np.array([0.70452686, 0.03178378, 0.18225382, 0.01931887, 0.01721575,\n",
    "       0.01283551, 0.01229529, 0.01977013])"
   ]
  },
  {
   "cell_type": "code",
   "execution_count": null,
   "metadata": {},
   "outputs": [],
   "source": [
    "\n",
    "\n",
    "experiment_names = [\n",
    "    \"InceptionResNetV2_Chexpert_BCE_NoNorm_E5_B32_C0_N12_AugAffine_sharp21_U75_D256_DS9505_1LR4_LF1_Adam_Upsampled\",\n",
    "    \"Xception-2_Chexpert_BCE_NoNorm_E5_B32_C0_N12_AugAffine_sharp21_U75_D256_DS9505_1LR4_LF1_Adam_Upsampled\",\n",
    "    \"DenseNet121_Chexpert_BCE_NoNorm_E5_B32_C0_N12_AugAffine_sharp21_U75_D256_DS9505_1LR4_LF1_Adam_Upsampled\",\n",
    "    \"DenseNet169_Chexpert_CWBCE_L1Normed_E5_B32_C0_N12_AugAffine_sharp21_U75_D256_DS9505_1LR4_LF1_Adam_Upsampled\",\n",
    "]\n",
    "]\n",
    "# keras auc\n",
    "np.array([0.69495554, 0.17717023, 0.03232022, 0.09555401])\n",
    "\n",
    "# experiments auc\n",
    "np.array([0.46992972, 0.14183215, 0.38378896, 0.00444918])"
   ]
  },
  {
   "cell_type": "code",
   "execution_count": null,
   "metadata": {},
   "outputs": [],
   "source": [
    "experiment_ids = [\n",
    "    \"bd5c2e9a-e9ec-11ea-ae3a-0242ac110005\",\n",
    "    \"bca75ad8-e6f4-11ea-a90b-0242ac110005\",\n",
    "    \"74d8220a-e6c2-11ea-b084-0242ac110005\",\n",
    "    \"e506d8f0-ea0f-11ea-8dbb-0242ac110005\",\n",
    "    \"67131280-e7d8-11ea-b8fe-0242ac110005\",\n",
    "    \"5dcb7ecc-e4e2-11ea-96c6-0242ac110005\",\n",
    "    \"2eb47be0-e88c-11ea-9a58-0242ac110005\",\n",
    "    \"7f0b1972-e5e5-11ea-a85b-0242ac110005\",\n",
    "]\n",
    "# DirichletEnsemble auc_metric: 0.8175\n",
    "# keras auc\n",
    "np.array([0.02148381, 0.37465956, 0.00824013, 0.05494985, 0.03063624,\n",
    "       0.02148887, 0.37722333, 0.1113182 ])"
   ]
  },
  {
   "cell_type": "code",
   "execution_count": null,
   "metadata": {},
   "outputs": [],
   "source": [
    "\"\"\"\n",
    "DenseNet121_Chexpert_BCE_E3_B32_C0_N12_Uones_D256_DS9505_2LR1_LF5_SGD_Upsampled_1 - Weight: 0.4853 - auc_metric: 0.8727\n",
    "DenseNet121_Chexpert_BCE_E3_B32_C0_N12_AugAffine_Uones_D256_DS9505_2LR1_LF5_SGD_Upsampled_1 - Weight: 0.0595 - auc_metric: 0.8570\n",
    "DenseNet121_Chexpert_WBCE_E3_B32_C0_N12_AugAffine_U75_D256_DS9505_1LR1_LF5_SGD_Upsampled - Weight: 0.4509 - auc_metric: 0.8559\n",
    "DenseNet121_Chexpert_BCE_E3_B32_C0_N12_AugAffine_U66_D256_DS9505_2LR1_LF5_SGD_Upsampled_1 - Weight: 0.0043 - auc_metric: 0.8473\n",
    "DirichletEnsemble auc_metric: 0.8801\n",
    "\"\"\"\n",
    "experiment_ids = [\n",
    "    \"1a955742-e3ff-11ea-bd3d-0242ac110005\",\n",
    "    \"541ed996-e410-11ea-a602-0242ac110005\",\n",
    "    \"1262eecc-e490-11ea-a3de-0242ac110005\",\n",
    "    \"5663f98e-e44c-11ea-bed5-0242ac110005\",\n",
    "]\n",
    "# keras auc\n",
    "np.array([0.48527582, 0.05951586, 0.45086663, 0.00434169])"
   ]
  },
  {
   "cell_type": "code",
   "execution_count": null,
   "metadata": {},
   "outputs": [],
   "source": [
    "\"\"\"\n",
    "DenseNet121_Chexpert_WBCE_E3_B32_C0_N12_AugAffine_U75_D256_DS9505_1LR1_LF5_SGD_Upsampled - Weight: 0.4449 - auc_metric: 0.8559\n",
    "DenseNet121_Chexpert_BCE_E3_B32_C0_N12_D256_DS9505_1LR1_SGD_NoCustomMetrics - Weight: 0.3642 - auc_metric: 0.8311\n",
    "DenseNet121_Chexpert_CWBCE_L1Normed_E3_B32_C0_N12_AugAffine_sharp21_U75_D256_DS9505_5LR1_LF1_SGD_Upsampled - Weight: 0.0053 - auc_metric: 0.7984\n",
    "DenseNet121_Chexpert_CWBCE_L1Normed_E3_B32_C0_N12_AugAffine_hist_gb_U75_D256_DS9505_2LR4_LF5_Adam_Upsampled - Weight: 0.0468 - auc_metric: 0.7069\n",
    "DenseNet121_Chexpert_BCE_E3_B32_C0_N12_AugAffine_U75_D256_DS9505_2LR1_LF5_SGD_Upsampled - Weight: 0.0118 - auc_metric: 0.8218\n",
    "DenseNet121_Chexpert_CWBCE_E3_B32_C0_N12_AugAffine_U75_D256_DS9505_1LR1_LF5_SGD_Upsampled - Weight: 0.0277 - auc_metric: 0.8092\n",
    "DenseNet121_Chexpert_CWBCE_L1Normed_E5_B32_C0_N12_AugAffine_sharp21_U75_D256_DS9505_1LR4_LF1_Adam_Upsampled - Weight: 0.0172 - auc_metric: 0.7425\n",
    "DenseNet121_Chexpert_CWBCE_L1Normed_E3_B32_C0_N12_AugColor_sharp21_U75_D256_DS9505_5LR1_LF1_SGD_Upsampled - Weight: 0.0485 - auc_metric: 0.8156\n",
    "DenseNet121_2_Chexpert_CWBCE_L1Normed_E5_B32_C0_N12_AugAffine_sharp21_U75_D256_DS9505_1LR4_LF1_Adam_Upsampled - Weight: 0.0336 - auc_metric: 0.8022\n",
    "DirichletEnsemble auc_metric: 0.8591\n",
    "\"\"\"\n",
    "\n",
    "# reevaluated test auc: best models per class \n",
    "experiment_ids = ['1262eecc-e490-11ea-a3de-0242ac110005',\n",
    "  '4267e786-e2dc-11ea-a072-0242ac110005',\n",
    "  'f5345e7e-e603-11ea-b461-0242ac110005',\n",
    "  'fc098932-e58f-11ea-8d19-0242ac110005',\n",
    "  'ac1da21e-e47c-11ea-ad88-0242ac110005',\n",
    "  'a99f1906-e4a3-11ea-87a3-0242ac110005',\n",
    "  'ba5364e6-e949-11ea-87eb-0242ac110005',\n",
    "  'conf-c55ed5c6-e879-11ea-9a58-0242ac110005',\n",
    "  'bd5c2e9a-e9ec-11ea-ae3a-0242ac110005']\n",
    "\n",
    "\n"
   ]
  },
  {
   "cell_type": "code",
   "execution_count": null,
   "metadata": {},
   "outputs": [],
   "source": [
    "experiment_ids = [\n",
    "    \"1a955742-e3ff-11ea-bd3d-0242ac110005\",\n",
    "    \"03479e56-ee90-11ea-b021-0242ac110002\",\n",
    "    \"3690b8d6-eeab-11ea-8206-0242ac110002\",\n",
    "]\n",
    "weights = np.array([0.28095386, 0.4677459 , 0.25130024])\n",
    "\n",
    "\"\"\"\n",
    "DenseNet121_Chexpert_BCE_E3_B32_C0_N12_Uones_D256_DS9505_2LR1_LF5_SGD_Upsampled_1 - Weight: 0.2810 - auc_metric: 0.8727\n",
    "DenseNet121_Chexpert_BCE_E3_B32_C0_N12_AugAffine_Uones_D256_DS9505_2LR1_LF5_SGD_Upsampled - Weight: 0.4677 - auc_metric: 0.8765\n",
    "DenseNet121_2_Chexpert_BCE_E3_B32_C0_N12_NoAug_UONES_D256_DS9505_2LR1_LF5_SGD_Upsampled - Weight: 0.2513 - auc_metric: 0.8724\n",
    "DirichletEnsemble auc_metric: 0.8847\n",
    "\"\"\"\n",
    "weights = np.array([0.28095386, 0.4677459 , 0.25130024])"
   ]
  },
  {
   "cell_type": "code",
   "execution_count": null,
   "metadata": {},
   "outputs": [],
   "source": [
    "\n",
    "# best classbased test auc\n",
    "experiment_ids = ['1262eecc-e490-11ea-a3de-0242ac110005',\n",
    "  '4267e786-e2dc-11ea-a072-0242ac110005',\n",
    "  '03479e56-ee90-11ea-b021-0242ac110002',\n",
    "  'fc098932-e58f-11ea-8d19-0242ac110005',\n",
    "  'ac1da21e-e47c-11ea-ad88-0242ac110005',\n",
    "  'a99f1906-e4a3-11ea-87a3-0242ac110005',\n",
    "  'ba5364e6-e949-11ea-87eb-0242ac110005',\n",
    "  'conf-c55ed5c6-e879-11ea-9a58-0242ac110005',\n",
    "  'f5345e7e-e603-11ea-b461-0242ac110005',\n",
    "  '653d264a-ee44-11ea-bcb1-0242ac110002']\n",
    "weights = np.array([0.30839321, 0.17275668, 0.03818222, 0.16238883, 0.05441162,\n",
    "       0.04413576, 0.0113853 , 0.01235822, 0.00061968, 0.19536847])\n",
    "\"\"\"\n",
    "DenseNet121_Chexpert_WBCE_E3_B32_C0_N12_AugAffine_U75_D256_DS9505_1LR1_LF5_SGD_Upsampled - Weight: 0.3084 - auc_metric: 0.7766\n",
    "DenseNet121_Chexpert_BCE_E3_B32_C0_N12_D256_DS9505_1LR1_SGD_NoCustomMetrics - Weight: 0.1728 - auc_metric: 0.7219\n",
    "DenseNet121_Chexpert_BCE_E3_B32_C0_N12_AugAffine_Uones_D256_DS9505_2LR1_LF5_SGD_Upsampled - Weight: 0.0382 - auc_metric: 0.7735\n",
    "DenseNet121_Chexpert_CWBCE_L1Normed_E3_B32_C0_N12_AugAffine_hist_gb_U75_D256_DS9505_2LR4_LF5_Adam_Upsampled - Weight: 0.1624 - auc_metric: 0.7202\n",
    "DenseNet121_Chexpert_BCE_E3_B32_C0_N12_AugAffine_U75_D256_DS9505_2LR1_LF5_SGD_Upsampled - Weight: 0.0544 - auc_metric: 0.7554\n",
    "DenseNet121_Chexpert_CWBCE_E3_B32_C0_N12_AugAffine_U75_D256_DS9505_1LR1_LF5_SGD_Upsampled - Weight: 0.0441 - auc_metric: 0.7267\n",
    "DenseNet121_Chexpert_CWBCE_L1Normed_E5_B32_C0_N12_AugAffine_sharp21_U75_D256_DS9505_1LR4_LF1_Adam_Upsampled - Weight: 0.0114 - auc_metric: 0.6737\n",
    "DenseNet121_Chexpert_CWBCE_L1Normed_E3_B32_C0_N12_AugColor_sharp21_U75_D256_DS9505_5LR1_LF1_SGD_Upsampled - Weight: 0.0124 - auc_metric: 0.7176\n",
    "DenseNet121_Chexpert_CWBCE_L1Normed_E3_B32_C0_N12_AugAffine_sharp21_U75_D256_DS9505_5LR1_LF1_SGD_Upsampled - Weight: 0.0006 - auc_metric: 0.7438\n",
    "DenseNet121_Chexpert_BCE_E3_B32_C0_N12_AugAffine_UZEROES_D256_DS9505_2LR1_LF5_SGD_Upsampled - Weight: 0.1954 - auc_metric: 0.7530\n",
    "DirichletEnsemble auc_metric: 0.7981\n",
    "\"\"\"\n",
    "weights = np.array([0.30839321, 0.17275668, 0.03818222, 0.16238883, 0.05441162,\n",
    "       0.04413576, 0.0113853 , 0.01235822, 0.00061968, 0.19536847])"
   ]
  },
  {
   "cell_type": "code",
   "execution_count": 20,
   "metadata": {},
   "outputs": [
    {
     "data": {
      "text/plain": [
       "0.7932066163636363"
      ]
     },
     "execution_count": 20,
     "metadata": {},
     "output_type": "execute_result"
    }
   ],
   "source": [
    "sum(list({ 'auc_enlarged_cardiomediastinum': 0.6719556,\n",
    " 'auc_cardiomegaly': 0.8778016,\n",
    " 'auc_lung_opacity': 0.75001043,\n",
    " 'auc_lung_lesion': 0.79566306,\n",
    " 'auc_edema': 0.85045487,\n",
    " 'auc_consolidation': 0.76943874,\n",
    " 'auc_pneumonia': 0.74846464,\n",
    " 'auc_atelectasis': 0.6919586,\n",
    " 'auc_pneumothorax': 0.86989075,\n",
    " 'auc_pleural_effusion': 0.87782013,\n",
    " 'auc_pleural_other': 0.82181436}.values()))/11"
   ]
  },
  {
   "cell_type": "code",
   "execution_count": null,
   "metadata": {},
   "outputs": [],
   "source": []
  }
 ],
 "metadata": {
  "kernelspec": {
   "display_name": "Python 3",
   "language": "python",
   "name": "python3"
  },
  "language_info": {
   "codemirror_mode": {
    "name": "ipython",
    "version": 3
   },
   "file_extension": ".py",
   "mimetype": "text/x-python",
   "name": "python",
   "nbconvert_exporter": "python",
   "pygments_lexer": "ipython3",
   "version": "3.7.4"
  }
 },
 "nbformat": 4,
 "nbformat_minor": 4
}
