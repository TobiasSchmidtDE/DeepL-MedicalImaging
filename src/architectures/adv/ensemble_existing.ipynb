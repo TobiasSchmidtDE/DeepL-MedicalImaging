{
 "cells": [
  {
   "cell_type": "markdown",
   "metadata": {},
   "source": [
    "# Author: Tobias"
   ]
  },
  {
   "cell_type": "markdown",
   "metadata": {},
   "source": [
    "This notebook is used to ensemble models that we have already trained. Those don't have to be different architectures, but rather differ in their training and preprocessing. The models' predictions are then either averaged with weights or ensembled by a meta learner."
   ]
  },
  {
   "cell_type": "markdown",
   "metadata": {},
   "source": [
    "First, we do the usual setup."
   ]
  },
  {
   "cell_type": "code",
   "execution_count": null,
   "metadata": {},
   "outputs": [],
   "source": [
    "import os \n",
    "import datetime\n",
    "from pathlib import Path\n",
    "from dotenv import load_dotenv, find_dotenv\n",
    "\n",
    "basepath = Path(os.getcwd())\n",
    "# make sure your working directory is the repository root.\n",
    "if basepath.name != \"idp-radio-1\":\n",
    "    os.chdir(basepath.parent.parent.parent)\n",
    "load_dotenv(find_dotenv())\n",
    "\n",
    "%load_ext autoreload\n",
    "%autoreload 2\n",
    "os.getcwd()\n",
    "\n",
    "import os \n",
    "import tensorflow as tf\n",
    "from pathlib import Path\n",
    "import cv2\n",
    "\n",
    "# Run this before loading other dependencies, otherwise they might occupy memory on gpu 0 by default and it will stay that way\n",
    "\n",
    "# Specify which GPU(s) to use\n",
    "os.environ[\"CUDA_VISIBLE_DEVICES\"] = \"1\"  # Or 2, 3, etc. other than 0\n",
    "\n",
    "config = tf.compat.v1.ConfigProto(device_count={'GPU': 0}, allow_soft_placement=True, log_device_placement=True)\n",
    "config.gpu_options.allow_growth = True\n",
    "config.gpu_options.per_process_gpu_memory_fraction = 1.0\n",
    "tf.compat.v1.Session(config=config)\n",
    "\n",
    "from tensorflow.keras.applications.inception_v3 import InceptionV3\n",
    "from tensorflow.keras.applications.densenet import DenseNet121\n",
    "from tensorflow.keras.applications.resnet_v2 import ResNet101V2\n",
    "from tensorflow.keras.applications.inception_resnet_v2 import InceptionResNetV2\n",
    "from src.architectures.simple.simple_base import SimpleBaseArchitecture\n",
    "import numpy as np\n",
    "\n",
    "from src.architectures.benchmarks.benchmark import Benchmark, Experiment\n",
    "from tensorflow.keras.optimizers import Adam, SGD\n",
    "from src.architectures.simple.load_model import *\n",
    "from src.architectures.benchmarks.benchmark_definitions import Chexpert_Benchmark, Chestxray14_Benchmark, simple_architecture_experiment, generate_benchmarks, METRICS, SINGLE_CLASS_METRICS, CHEXPERT_COLUMNS, CHESTXRAY14_COLUMNS\n",
    "from src.metrics.metrics import F2Score\n",
    "from src.metrics.losses import WeightedBinaryCrossentropy, BinaryCrossentropy, compute_class_weight\n",
    "from src.utils.save_model import load_model"
   ]
  },
  {
   "cell_type": "markdown",
   "metadata": {},
   "source": [
    "After manually reevaluating all previously trained models, we specify the ids of the best experiments here."
   ]
  },
  {
   "cell_type": "code",
   "execution_count": 7,
   "metadata": {},
   "outputs": [],
   "source": [
    "# color, affine + color, affine\n",
    "#model_ids = [\"c55ed5c6-e879-11ea-9a58-0242ac110005\", \"2eb47be0-e88c-11ea-9a58-0242ac110005\", \"74d8220a-e6c2-11ea-b084-0242ac110005\"]\n",
    "\n",
    "experiment_ids = [\"f5345e7e-e603-11ea-b461-0242ac110005\",\n",
    "             \"74d8220a-e6c2-11ea-b084-0242ac110005\",\n",
    "             #\"7f0b1972-e5e5-11ea-a85b-0242ac110005\",\n",
    "             #\"ba5364e6-e949-11ea-87eb-0242ac110005\",\n",
    "             \"bd5c2e9a-e9ec-11ea-ae3a-0242ac110005\"\n",
    "]\n",
    "\n",
    "experiment_ids = [\n",
    "    \"bd5c2e9a-e9ec-11ea-ae3a-0242ac110005\",\n",
    "    \"bca75ad8-e6f4-11ea-a90b-0242ac110005\",\n",
    "    \"74d8220a-e6c2-11ea-b084-0242ac110005\",\n",
    "    \"e506d8f0-ea0f-11ea-8dbb-0242ac110005\",\n",
    "    \"67131280-e7d8-11ea-b8fe-0242ac110005\",\n",
    "    \"5dcb7ecc-e4e2-11ea-96c6-0242ac110005\",\n",
    "    \"2eb47be0-e88c-11ea-9a58-0242ac110005\",\n",
    "    \"7f0b1972-e5e5-11ea-a85b-0242ac110005\",\n",
    "]\n",
    "\n",
    "experiment_ids = [\n",
    "    \"1a955742-e3ff-11ea-bd3d-0242ac110005\",\n",
    "    \"541ed996-e410-11ea-a602-0242ac110005\",\n",
    "    \"1262eecc-e490-11ea-a3de-0242ac110005\",\n",
    "    \"5663f98e-e44c-11ea-bed5-0242ac110005\",\n",
    "]\n",
    "\n",
    "\n",
    "# reevaluated valid auc: best models per class \n",
    "experiment_ids = ['b57e5750-e66a-11ea-bb5e-0242ac110005',\n",
    "  '74d8220a-e6c2-11ea-b084-0242ac110005',\n",
    "  'e506d8f0-ea0f-11ea-8dbb-0242ac110005',\n",
    "  '5dcb7ecc-e4e2-11ea-96c6-0242ac110005',\n",
    "  'bd5c2e9a-e9ec-11ea-ae3a-0242ac110005',\n",
    "  '7f0b1972-e5e5-11ea-a85b-0242ac110005',\n",
    "  'ef363064-e53c-11ea-8173-0242ac110005']\n",
    "\n",
    "# reevaluated test auc: best models per class \n",
    "experiment_ids = ['1262eecc-e490-11ea-a3de-0242ac110005',\n",
    "  '4267e786-e2dc-11ea-a072-0242ac110005',\n",
    "  'f5345e7e-e603-11ea-b461-0242ac110005',\n",
    "  'fc098932-e58f-11ea-8d19-0242ac110005',\n",
    "  'ac1da21e-e47c-11ea-ad88-0242ac110005',\n",
    "  'a99f1906-e4a3-11ea-87a3-0242ac110005',\n",
    "  'ba5364e6-e949-11ea-87eb-0242ac110005',\n",
    "  'conf-c55ed5c6-e879-11ea-9a58-0242ac110005',\n",
    "  'bd5c2e9a-e9ec-11ea-ae3a-0242ac110005']\n",
    "\n",
    "experiment_names = [\n",
    "    \"InceptionResNetV2_Chexpert_BCE_NoNorm_E5_B32_C0_N12_AugAffine_sharp21_U75_D256_DS9505_1LR4_LF1_Adam_Upsampled\",\n",
    "    \"Xception-2_Chexpert_BCE_NoNorm_E5_B32_C0_N12_AugAffine_sharp21_U75_D256_DS9505_1LR4_LF1_Adam_Upsampled\",\n",
    "    \"DenseNet121_Chexpert_BCE_NoNorm_E5_B32_C0_N12_AugAffine_sharp21_U75_D256_DS9505_1LR4_LF1_Adam_Upsampled\",\n",
    "    \"DenseNet169_Chexpert_CWBCE_L1Normed_E5_B32_C0_N12_AugAffine_sharp21_U75_D256_DS9505_1LR4_LF1_Adam_Upsampled\",\n",
    "]\n",
    "\n",
    "#ensemble auc 0.88\n",
    "experiment_ids = [\n",
    "    \"1a955742-e3ff-11ea-bd3d-0242ac110005\",\n",
    "    \"541ed996-e410-11ea-a602-0242ac110005\",\n",
    "    \"1262eecc-e490-11ea-a3de-0242ac110005\",\n",
    "    \"5663f98e-e44c-11ea-bed5-0242ac110005\",\n",
    "]\n",
    "\n",
    "experiment_ids = [\n",
    "    \"1a955742-e3ff-11ea-bd3d-0242ac110005\",\n",
    "    \"541ed996-e410-11ea-a602-0242ac110005\",\n",
    "    \"1262eecc-e490-11ea-a3de-0242ac110005\",\n",
    "    #\"5663f98e-e44c-11ea-bed5-0242ac110005\",\n",
    "    \n",
    "    #\"c2a1ebe2-e3ca-11ea-b11d-0242ac110005\",\n",
    "    #\"33836220-e216-11ea-bf5d-0242ac110005\",\n",
    "    #\"20782b86-e2c3-11ea-b42f-0242ac110005\",\n",
    "    #\"4267e786-e2dc-11ea-a072-0242ac110005\",\n",
    "]\n",
    "\n",
    "\n",
    "experiment_ids = [\n",
    "    \"1a955742-e3ff-11ea-bd3d-0242ac110005\",\n",
    "    \"03479e56-ee90-11ea-b021-0242ac110002\",\n",
    "    \"3690b8d6-eeab-11ea-8206-0242ac110002\",\n",
    "]\n",
    "experiment_names = [\n",
    "    \"DenseNet121_2_Chexpert_CWBCE_L1Normed_E5_B32_C0_N12_AugAffine_sharp21_U75_D256_DS9505_1LR4_LF1_Adam_Upsampled\",\n",
    "    \"InceptionResNetV2_Chexpert_BCE_NoNorm_E5_B32_C0_N12_AugAffine_sharp21_U75_D256_DS9505_1LR4_LF1_Adam_Upsampled\",\n",
    "    \"DenseNet121_Chexpert_WBCE_E3_B32_C0_N12_AugAffine_U75_D256_DS9505_1LR1_LF5_SGD_Upsampled\",\n",
    "]\n",
    "\n",
    "experiment_ids = [('bd5c2e9a-e9ec-11ea-ae3a-0242ac110005', 3, 0.8613448359749534),\n",
    "                 ('bd5c2e9a-e9ec-11ea-ae3a-0242ac110005', 4, 0.8604057214476846),\n",
    "                 ('bd5c2e9a-e9ec-11ea-ae3a-0242ac110005', 5, 0.8603749329393561),\n",
    "                 ('bd5c2e9a-e9ec-11ea-ae3a-0242ac110005', 2, 0.86009220643477),\n",
    "                 ('bca75ad8-e6f4-11ea-a90b-0242ac110005', 2, 0.8534599163315513),\n",
    "                 ('bca75ad8-e6f4-11ea-a90b-0242ac110005', 4, 0.8475377505475824),\n",
    "                 ('74d8220a-e6c2-11ea-b084-0242ac110005', 2, 0.8475213592702692),\n",
    "                 ('bca75ad8-e6f4-11ea-a90b-0242ac110005', 5, 0.8474861112507907),\n",
    "                 ('1262eecc-e490-11ea-a3de-0242ac110005', 3, 0.8471921357241544),\n",
    "                 ('bca75ad8-e6f4-11ea-a90b-0242ac110005', 3, 0.8467668078162454),\n",
    "                 ('74d8220a-e6c2-11ea-b084-0242ac110005', 1, 0.8463928970423612)]\n",
    "experiment_names = [\n",
    "    \"InceptionResNetV2_Chexpert_BCE_NoNorm_E5_B32_C0_N12_AugAffine_sharp21_U75_D256_DS9505_1LR4_LF1_Adam_Upsampled\",\n",
    "    \"Xception-2_Chexpert_BCE_NoNorm_E5_B32_C0_N12_AugAffine_sharp21_U75_D256_DS9505_1LR4_LF1_Adam_Upsampled\",\n",
    "    \"DenseNet121_Chexpert_BCE_NoNorm_E5_B32_C0_N12_AugAffine_sharp21_U75_D256_DS9505_1LR4_LF1_Adam_Upsampled\",\n",
    "    \"DenseNet169_Chexpert_CWBCE_L1Normed_E5_B32_C0_N12_AugAffine_sharp21_U75_D256_DS9505_1LR4_LF1_Adam_Upsampled\",\n",
    "]\n",
    "# best classbased test auc\n",
    "experiment_ids = ['1262eecc-e490-11ea-a3de-0242ac110005',\n",
    "  '4267e786-e2dc-11ea-a072-0242ac110005',\n",
    "  '03479e56-ee90-11ea-b021-0242ac110002',\n",
    "  'fc098932-e58f-11ea-8d19-0242ac110005',\n",
    "  'ac1da21e-e47c-11ea-ad88-0242ac110005',\n",
    "  'a99f1906-e4a3-11ea-87a3-0242ac110005',\n",
    "  'ba5364e6-e949-11ea-87eb-0242ac110005',\n",
    "  'conf-c55ed5c6-e879-11ea-9a58-0242ac110005',\n",
    "  'f5345e7e-e603-11ea-b461-0242ac110005',\n",
    "  '653d264a-ee44-11ea-bcb1-0242ac110002']\n",
    "\n",
    "#ensemble auc 0.88\n",
    "experiment_ids = [\n",
    "    \"1a955742-e3ff-11ea-bd3d-0242ac110005\",\n",
    "    \"541ed996-e410-11ea-a602-0242ac110005\",\n",
    "    \"1262eecc-e490-11ea-a3de-0242ac110005\",\n",
    "    \"5663f98e-e44c-11ea-bed5-0242ac110005\",\n",
    "]\n"
   ]
  },
  {
   "cell_type": "markdown",
   "metadata": {},
   "source": [
    "We load the individual experiments and reevaluate them."
   ]
  },
  {
   "cell_type": "code",
   "execution_count": null,
   "metadata": {},
   "outputs": [],
   "source": [
    "experiments = {} \n",
    "experiment_dicts = {} \n",
    "for experiment_id in experiment_ids:\n",
    "    exp_dict = get_experiment_from_logs(experiment_id=experiment_id)\n",
    "    experiment = rebuild_experiment(exp_dict)\n",
    "    exp_dict[\"test_again\"] = reevaluate(experiment, new_metrics=True)\n",
    "    exp_dict[\"test_difference\"] = sum(difference_test_results(exp_dict[\"test\"], exp_dict[\"test_again\"]).values())\n",
    "    print(\"test_difference is \", exp_dict[\"test_difference\"])\n",
    "    experiment_dicts[exp_dict[\"name\"]] = exp_dict\n",
    "    experiments[exp_dict[\"name\"]] =  experiment\n",
    "        \n",
    "experiments"
   ]
  },
  {
   "cell_type": "code",
   "execution_count": null,
   "metadata": {},
   "outputs": [],
   "source": [
    "experiments = [] \n",
    "experiment_dicts = []\n",
    "for experiment_id, epoch, _ in experiment_ids:\n",
    "    exp_dict = get_experiment_from_logs(experiment_id=experiment_id)\n",
    "    experiment = rebuild_experiment(exp_dict, epoch=epoch)\n",
    "    exp_dict[\"test_again\"] = reevaluate(experiment, new_metrics=True)\n",
    "    exp_dict[\"test_difference\"] = sum(difference_test_results(exp_dict[\"test\"], exp_dict[\"test_again\"]).values())\n",
    "    print(\"test_difference is \", exp_dict[\"test_difference\"])\n",
    "    experiment_dicts.append(exp_dict)\n",
    "    experiments.append(experiment)\n",
    "        \n",
    "experiments"
   ]
  },
  {
   "cell_type": "code",
   "execution_count": null,
   "metadata": {},
   "outputs": [],
   "source": [
    "[{\"id\":exp_dict[\"id\"], \"auc1\": exp_dict[\"test\"][\"auc\"],\"auc2\": exp_dict[\"test_again\"][\"auc\"], \"diff\": exp_dict[\"test_difference\"]} for exp_dict in experiment_dicts.values()]"
   ]
  },
  {
   "cell_type": "code",
   "execution_count": null,
   "metadata": {},
   "outputs": [],
   "source": [
    "#benchmark.valgen.classes = benchmark.valgen.get_labels()\n",
    "#benchmark.testgen.classes = benchmark.testgen.get_labels()\n",
    "#benchmark.valgen.n = len(benchmark.valgen) * benchmark.valgen.batch_size - 1\n",
    "#benchmark.testgen.n = len(benchmark.testgen) * benchmark.testgen.batch_size - 1"
   ]
  },
  {
   "cell_type": "markdown",
   "metadata": {},
   "source": [
    "Next, we work with deepstack to ensemble the chosen individual models."
   ]
  },
  {
   "cell_type": "code",
   "execution_count": 4,
   "metadata": {},
   "outputs": [],
   "source": [
    "#!pip install deepstack"
   ]
  },
  {
   "cell_type": "code",
   "execution_count": null,
   "metadata": {},
   "outputs": [],
   "source": [
    "from deepstack.base import KerasMember\n",
    "\n",
    "keras_member = []\n",
    "if isinstance(experiments, dict):\n",
    "    for name, exp in experiments.items():\n",
    "        keras_member.append(KerasMember(name=name, keras_model=exp.model, \n",
    "                                        train_batches=exp.benchmark.valgen, val_batches=exp.benchmark.testgen))\n",
    "elif isinstance(experiments, list):\n",
    "    for index, exp in enumerate(experiments):\n",
    "        keras_member.append(KerasMember(name=exp.model_name + \"_\" + str(experiment_ids[index][1]), \n",
    "                                        keras_model=exp.model, train_batches=exp.benchmark.valgen, val_batches=exp.benchmark.testgen))"
   ]
  },
  {
   "cell_type": "code",
   "execution_count": null,
   "metadata": {},
   "outputs": [],
   "source": [
    "keras_member"
   ]
  },
  {
   "cell_type": "code",
   "execution_count": 10,
   "metadata": {},
   "outputs": [],
   "source": [
    "reference_classes = keras_member[0].train_classes\n",
    "for member in keras_member:\n",
    "    if not np.array_equal(member.train_classes, reference_classes):\n",
    "        member.train_classes = reference_classes"
   ]
  },
  {
   "cell_type": "code",
   "execution_count": 3,
   "metadata": {},
   "outputs": [],
   "source": [
    "def auc_metric(y_true, y_pred):\n",
    "    m = tf.keras.metrics.AUC(multi_label = True)\n",
    "    m.reset_states()\n",
    "    m.update_state(y_true, y_pred)\n",
    "    return m.result().numpy()"
   ]
  },
  {
   "cell_type": "code",
   "execution_count": 4,
   "metadata": {},
   "outputs": [],
   "source": [
    "def get_auc_metric(exp):\n",
    "    def auc_metric(y_true, y_pred):\n",
    "        m = [m for m in exp.benchmark.metrics if m.name==\"auc\"][0]\n",
    "        m.reset_states()\n",
    "        m.update_state(tf.constant(y_true), tf.constant(y_pred))\n",
    "        return m.result().numpy()\n",
    "    return auc_metric"
   ]
  },
  {
   "cell_type": "markdown",
   "metadata": {},
   "source": [
    "First we try a weighted dirichlet ensemble."
   ]
  },
  {
   "cell_type": "code",
   "execution_count": null,
   "metadata": {},
   "outputs": [],
   "source": [
    "from deepstack.ensemble import DirichletEnsemble\n",
    "\n",
    "defaultN = 10000\n",
    "wAvgEnsemble = DirichletEnsemble(N=defaultN*1, metric=auc_metric)\n",
    "wAvgEnsemble.add_members(keras_member)\n",
    "wAvgEnsemble.fit()\n",
    "wAvgEnsemble.describe()"
   ]
  },
  {
   "cell_type": "code",
   "execution_count": null,
   "metadata": {},
   "outputs": [],
   "source": [
    "wAvgEnsemble.bestweights"
   ]
  },
  {
   "cell_type": "markdown",
   "metadata": {},
   "source": [
    "Next we try ensembling with a meta learner."
   ]
  },
  {
   "cell_type": "code",
   "execution_count": null,
   "metadata": {},
   "outputs": [],
   "source": [
    "from deepstack.ensemble import StackEnsemble\n",
    "from sklearn.ensemble import *\n",
    "\n",
    "from sklearn.neural_network import *\n",
    "from sklearn.tree import *\n",
    "\n",
    "from sklearn.metrics import accuracy_score\n",
    "\n",
    "stack = StackEnsemble()\n",
    "\n",
    "stack.model = RandomForestRegressor(verbose=1, n_estimators=2000, max_depth=10, n_jobs=20, min_samples_split=5)\n",
    "#stack.model = DecisionTreeClassifier(max_depth=100,  min_samples_split=2)\n",
    "stack.model = MLPClassifier(verbose=1,hidden_layer_sizes=(50, 20), learning_rate_init=0.001, max_iter=2000)\n",
    "\n",
    "stack.add_members(keras_member)\n",
    "stack.fit()\n",
    "stack.describe(metric=auc_metric)"
   ]
  },
  {
   "cell_type": "code",
   "execution_count": 10,
   "metadata": {},
   "outputs": [],
   "source": [
    "assert all([(np.array_equal(keras_member[i].train_classes,\n",
    "                              keras_member[i + 1].train_classes))\n",
    "              for i in range(len(keras_member) - 1)])\n",
    "\n",
    "\n",
    "training_data_x = np.concatenate(tuple([member.train_probs for member in keras_member]), axis=1)\n",
    "training_data_y = keras_member[0].train_classes\n",
    "\n",
    "validation_data_x = np.concatenate(tuple([member.val_probs for member in keras_member]), axis=1)\n",
    "validation_data_y = keras_member[0].val_classes\n"
   ]
  },
  {
   "cell_type": "code",
   "execution_count": 11,
   "metadata": {},
   "outputs": [],
   "source": [
    "assert len(training_data_x) == len(training_data_y)\n",
    "assert training_data_x.shape[1] == training_data_y.shape[1] * len(keras_member)\n",
    "input_size = training_data_x.shape[1] \n",
    "output_size = training_data_y.shape[1] #this is number of classes"
   ]
  },
  {
   "cell_type": "code",
   "execution_count": null,
   "metadata": {},
   "outputs": [],
   "source": [
    "meta_learner = tf.keras.Sequential()\n",
    "meta_learner.add(tf.keras.Input(shape=(input_size,)))\n",
    "#meta_learner.add(tf.keras.layers.Dense(36))\n",
    "meta_learner.add(tf.keras.layers.Dense(output_size,\n",
    "                                       activation='sigmoid',\n",
    "                                       #kernel_regularizer=tf.keras.regularizers.L2(0.01)\n",
    "                                      )\n",
    "                )\n",
    "meta_learner.summary()"
   ]
  },
  {
   "cell_type": "code",
   "execution_count": null,
   "metadata": {},
   "outputs": [],
   "source": [
    "lr_schedul = tf.keras.optimizers.schedules.ExponentialDecay(1e-3,\n",
    "                                                            decay_steps=1850,\n",
    "                                                            decay_rate=0.99, \n",
    "                                                            staircase=True)\n",
    "\n",
    "optim = tf.keras.optimizers.Adam(learning_rate=lr_schedul)\n",
    "\n",
    "meta_learner.compile(optimizer=optim,\n",
    "                     loss=tf.keras.losses.BinaryCrossentropy(),\n",
    "                     metrics=[tf.keras.metrics.AUC(name=\"auc\", multi_label = True)])\n",
    "\n",
    "train_results = meta_learner.fit(x=training_data_x,\n",
    "                                 y=training_data_y,\n",
    "                                 validation_data=(validation_data_x, validation_data_y),\n",
    "                                 batch_size=32,\n",
    "                                 epochs=100,\n",
    "                                 shuffle=True)"
   ]
  },
  {
   "cell_type": "code",
   "execution_count": 14,
   "metadata": {},
   "outputs": [
    {
     "data": {
      "image/png": "[encoded data removed]",
      "text/plain": [
       "<Figure size 432x288 with 1 Axes>"
      ]
     },
     "metadata": {
      "needs_background": "light"
     },
     "output_type": "display_data"
    },
    {
     "data": {
      "image/png": "[encoded data removed]",
      "text/plain": [
       "<Figure size 432x288 with 1 Axes>"
      ]
     },
     "metadata": {
      "needs_background": "light"
     },
     "output_type": "display_data"
    }
   ],
   "source": [
    "import matplotlib.pyplot as plt\n",
    "plt.plot(train_results.history['auc'])\n",
    "plt.plot(train_results.history['val_auc'])\n",
    "plt.title('model auc')\n",
    "plt.ylabel('auc')\n",
    "plt.xlabel('epoch')\n",
    "plt.legend(['train', 'test'], loc='upper left')\n",
    "plt.show()\n",
    "\n",
    "plt.plot(train_results.history['loss'])\n",
    "plt.plot(train_results.history['val_loss'])\n",
    "plt.title('model loss')\n",
    "plt.ylabel('loss')\n",
    "plt.xlabel('epoch')\n",
    "plt.legend(['train', 'test'], loc='upper left')\n",
    "plt.show()"
   ]
  },
  {
   "cell_type": "code",
   "execution_count": 15,
   "metadata": {},
   "outputs": [],
   "source": [
    "meta_predictions_test = meta_learner.predict(validation_data_x)"
   ]
  },
  {
   "cell_type": "code",
   "execution_count": null,
   "metadata": {},
   "outputs": [],
   "source": [
    "meta_test_metrics = calc_metrics(validation_data_y, meta_predictions_test, exp.benchmark.metrics)\n",
    "np.array([v for k, v in meta_test_metrics.items() if k.startswith(\"auc_\")][:-1]).mean() , meta_test_metrics"
   ]
  },
  {
   "cell_type": "code",
   "execution_count": 16,
   "metadata": {},
   "outputs": [],
   "source": [
    "for index, _ in enumerate(wAvgEnsemble.members):\n",
    "    wAvgEnsemble.members[index].submission_probs = wAvgEnsemble.members[index].val_probs "
   ]
  },
  {
   "cell_type": "code",
   "execution_count": 19,
   "metadata": {},
   "outputs": [],
   "source": [
    "enesemble_test_probs = wAvgEnsemble.predict()\n",
    "enesemble_test_truth = keras_member[0].val_classes "
   ]
  },
  {
   "cell_type": "code",
   "execution_count": null,
   "metadata": {},
   "outputs": [],
   "source": [
    "get_auc_metric(exp)(keras_member[0].val_classes  , keras_member[0].val_probs )"
   ]
  },
  {
   "cell_type": "code",
   "execution_count": null,
   "metadata": {},
   "outputs": [],
   "source": [
    "[m for m in exp.benchmark.metrics if m.name==\"auc\"][0]"
   ]
  },
  {
   "cell_type": "code",
   "execution_count": null,
   "metadata": {},
   "outputs": [],
   "source": [
    "get_auc_metric(exp)"
   ]
  },
  {
   "cell_type": "code",
   "execution_count": 5,
   "metadata": {},
   "outputs": [],
   "source": [
    "def calc_metrics(y_true, y_preds, exp_metrics):\n",
    "    metrics = []\n",
    "    for m in exp_metrics:\n",
    "        if isinstance(m, SingleClassMetric):\n",
    "            class_name = \"_\".join(m.name.split(\"_\")[1:])\n",
    "            metrics.append(SingleClassMetric(m.base_metric, m.class_id, class_name= class_name))\n",
    "        else:\n",
    "            extra_args = {}\n",
    "            if hasattr(m, \"multi_label\"):\n",
    "                extra_args[\"multi_label\"] = m.multi_label\n",
    "\n",
    "            metrics.append(m.__class__(name= m.name, **extra_args))\n",
    "    metric_results = {}\n",
    "    for metric in metrics:\n",
    "            metric.reset_states()\n",
    "            metric.update_state(tensorflow.constant(y_true), tensorflow.constant(y_preds))\n",
    "            metric_results[metric.name] = metric.result().numpy()\n",
    "    return metric_results"
   ]
  },
  {
   "cell_type": "code",
   "execution_count": null,
   "metadata": {},
   "outputs": [],
   "source": [
    "keras_member[0].val_predictions"
   ]
  },
  {
   "cell_type": "code",
   "execution_count": 6,
   "metadata": {},
   "outputs": [],
   "source": [
    "def ensemble_existing(experiments, ensemble_weights):\n",
    "    assert len(experiments) == len(ensemble_weights)\n",
    "    test_preds = []\n",
    "    val_preds = []\n",
    "    for exp in experiments:\n",
    "        testgen = exp.benchmark.testgen\n",
    "        valgen = exp.benchmark.valgen\n",
    "        testgen.on_epoch_end()\n",
    "        valgen.on_epoch_end()\n",
    "        test_preds.append(exp.model.predict(testgen,steps=len(testgen), verbose=1))\n",
    "        val_preds.append(exp.model.predict(valgen,steps=len(valgen), verbose=1))\n",
    "    \n",
    "    ensemble_test_preds = np.sum(np.array([ensemble_weights[i] * test_pred\n",
    "                                          for i, test_pred in enumerate(test_preds)]),axis=0)\n",
    "    ensemble_val_preds = np.sum(np.array([ensemble_weights[i] * val_pred\n",
    "                                          for i, val_pred in enumerate(val_preds)]),axis=0)\n",
    "    return ensemble_test_preds, ensemble_val_preds\n",
    "\n",
    "def ensemble_existing_from_member(members, ensemble_weights):\n",
    "    assert len(experiments) == len(ensemble_weights)\n",
    "    \n",
    "    ensemble_test_preds = np.sum(np.array([ensemble_weights[i] * member.val_probs  \n",
    "                                          for i, member in enumerate(members)]),axis=0)\n",
    "    ensemble_val_preds = np.sum(np.array([ensemble_weights[i] * member.train_probs \n",
    "                                          for i, member in enumerate(members)]),axis=0)\n",
    "    return ensemble_test_preds, ensemble_val_preds \n",
    "        \n",
    "    "
   ]
  },
  {
   "cell_type": "code",
   "execution_count": 8,
   "metadata": {},
   "outputs": [],
   "source": [
    "# best classbased test auc\n",
    "experiment_ids = ['1262eecc-e490-11ea-a3de-0242ac110005',\n",
    "  '4267e786-e2dc-11ea-a072-0242ac110005',\n",
    "  '03479e56-ee90-11ea-b021-0242ac110002',\n",
    "  'fc098932-e58f-11ea-8d19-0242ac110005',\n",
    "  'ac1da21e-e47c-11ea-ad88-0242ac110005',\n",
    "  'a99f1906-e4a3-11ea-87a3-0242ac110005',\n",
    "  'ba5364e6-e949-11ea-87eb-0242ac110005',\n",
    "  'conf-c55ed5c6-e879-11ea-9a58-0242ac110005',\n",
    "  'f5345e7e-e603-11ea-b461-0242ac110005',\n",
    "  '653d264a-ee44-11ea-bcb1-0242ac110002']\n",
    "weights = np.array([0.30839321, 0.17275668, 0.03818222, 0.16238883, 0.05441162,\n",
    "       0.04413576, 0.0113853 , 0.01235822, 0.00061968, 0.19536847])"
   ]
  },
  {
   "cell_type": "code",
   "execution_count": 10,
   "metadata": {},
   "outputs": [],
   "source": [
    "exp = exps[-1]"
   ]
  },
  {
   "cell_type": "code",
   "execution_count": 12,
   "metadata": {},
   "outputs": [],
   "source": [
    "\n",
    "test_propbs, val_probs = ensemble_existing_from_member(keras_member, wAvgEnsemble.bestweights)\n",
    "test_results = calc_metrics(keras_member[0].val_classes  , test_propbs, exp.benchmark.metrics)\n",
    "val_results = calc_metrics(keras_member[0].train_classes , val_probs, exp.benchmark.metrics)\n",
    "exp = list(experiments.values())[0]"
   ]
  },
  {
   "cell_type": "code",
   "execution_count": 11,
   "metadata": {},
   "outputs": [],
   "source": [
    "test_ground_truth = exp.benchmark.testgen.classes\n",
    "test_results = calc_metrics(test_ground_truth, test_propbs, exp.benchmark.metrics)\n",
    "val_ground_truth = exp.benchmark.valgen.classes\n",
    "val_results = calc_metrics(val_ground_truth, val_probs, exp.benchmark.metrics)"
   ]
  },
  {
   "cell_type": "code",
   "execution_count": null,
   "metadata": {},
   "outputs": [],
   "source": [
    "metric_auc = tf.keras.metrics.AUC(multi_label = True)\n",
    "metric_auc.reset_states()\n",
    "metric_auc.update_state(tensorflow.constant(test_ground_truth), tensorflow.constant(test_propbs))\n",
    "metric_auc.result().numpy()"
   ]
  },
  {
   "cell_type": "code",
   "execution_count": null,
   "metadata": {},
   "outputs": [],
   "source": [
    "sum(list({name:val for name, val in test_results.items() if name.startswith(\"auc_\")}.values()))/11"
   ]
  },
  {
   "cell_type": "code",
   "execution_count": null,
   "metadata": {},
   "outputs": [],
   "source": [
    "test_results"
   ]
  },
  {
   "cell_type": "code",
   "execution_count": null,
   "metadata": {},
   "outputs": [],
   "source": [
    "val_results"
   ]
  },
  {
   "cell_type": "markdown",
   "metadata": {},
   "source": [
    "Lastly, we try out different models to ensemble."
   ]
  },
  {
   "cell_type": "code",
   "execution_count": null,
   "metadata": {},
   "outputs": [],
   "source": [
    "experiment_ids = [\n",
    "    \"bd5c2e9a-e9ec-11ea-ae3a-0242ac110005\",\n",
    "    \"ba5364e6-e949-11ea-87eb-0242ac110005\",\n",
    "    \"74d8220a-e6c2-11ea-b084-0242ac110005\",\n",
    "    \"e506d8f0-ea0f-11ea-8dbb-0242ac110005\",\n",
    "    \"f5345e7e-e603-11ea-b461-0242ac110005\",\n",
    "    \"5dcb7ecc-e4e2-11ea-96c6-0242ac110005\",\n",
    "    \"2eb47be0-e88c-11ea-9a58-0242ac110005\",\n",
    "    \"7f0b1972-e5e5-11ea-a85b-0242ac110005\",\n",
    "]\n",
    "# keras auc\n",
    "enesmble_weights = np.array([0.07354451, 0.00284021, 0.03388902, 0.03087716, 0.04602146,\n",
    "       0.01864755, 0.48468848, 0.30949161])\n",
    "# experiments auc\n",
    "enesmble_weights = np.array([0.70452686, 0.03178378, 0.18225382, 0.01931887, 0.01721575,\n",
    "       0.01283551, 0.01229529, 0.01977013])"
   ]
  },
  {
   "cell_type": "code",
   "execution_count": null,
   "metadata": {},
   "outputs": [],
   "source": [
    "\n",
    "\n",
    "experiment_names = [\n",
    "    \"InceptionResNetV2_Chexpert_BCE_NoNorm_E5_B32_C0_N12_AugAffine_sharp21_U75_D256_DS9505_1LR4_LF1_Adam_Upsampled\",\n",
    "    \"Xception-2_Chexpert_BCE_NoNorm_E5_B32_C0_N12_AugAffine_sharp21_U75_D256_DS9505_1LR4_LF1_Adam_Upsampled\",\n",
    "    \"DenseNet121_Chexpert_BCE_NoNorm_E5_B32_C0_N12_AugAffine_sharp21_U75_D256_DS9505_1LR4_LF1_Adam_Upsampled\",\n",
    "    \"DenseNet169_Chexpert_CWBCE_L1Normed_E5_B32_C0_N12_AugAffine_sharp21_U75_D256_DS9505_1LR4_LF1_Adam_Upsampled\",\n",
    "]\n",
    "]\n",
    "# keras auc\n",
    "np.array([0.69495554, 0.17717023, 0.03232022, 0.09555401])\n",
    "\n",
    "# experiments auc\n",
    "np.array([0.46992972, 0.14183215, 0.38378896, 0.00444918])"
   ]
  },
  {
   "cell_type": "code",
   "execution_count": null,
   "metadata": {},
   "outputs": [],
   "source": [
    "experiment_ids = [\n",
    "    \"bd5c2e9a-e9ec-11ea-ae3a-0242ac110005\",\n",
    "    \"bca75ad8-e6f4-11ea-a90b-0242ac110005\",\n",
    "    \"74d8220a-e6c2-11ea-b084-0242ac110005\",\n",
    "    \"e506d8f0-ea0f-11ea-8dbb-0242ac110005\",\n",
    "    \"67131280-e7d8-11ea-b8fe-0242ac110005\",\n",
    "    \"5dcb7ecc-e4e2-11ea-96c6-0242ac110005\",\n",
    "    \"2eb47be0-e88c-11ea-9a58-0242ac110005\",\n",
    "    \"7f0b1972-e5e5-11ea-a85b-0242ac110005\",\n",
    "]\n",
    "# DirichletEnsemble auc_metric: 0.8175\n",
    "# keras auc\n",
    "np.array([0.02148381, 0.37465956, 0.00824013, 0.05494985, 0.03063624,\n",
    "       0.02148887, 0.37722333, 0.1113182 ])"
   ]
  },
  {
   "cell_type": "code",
   "execution_count": null,
   "metadata": {},
   "outputs": [],
   "source": [
    "\"\"\"\n",
    "DenseNet121_Chexpert_BCE_E3_B32_C0_N12_Uones_D256_DS9505_2LR1_LF5_SGD_Upsampled_1 - Weight: 0.4853 - auc_metric: 0.8727\n",
    "DenseNet121_Chexpert_BCE_E3_B32_C0_N12_AugAffine_Uones_D256_DS9505_2LR1_LF5_SGD_Upsampled_1 - Weight: 0.0595 - auc_metric: 0.8570\n",
    "DenseNet121_Chexpert_WBCE_E3_B32_C0_N12_AugAffine_U75_D256_DS9505_1LR1_LF5_SGD_Upsampled - Weight: 0.4509 - auc_metric: 0.8559\n",
    "DenseNet121_Chexpert_BCE_E3_B32_C0_N12_AugAffine_U66_D256_DS9505_2LR1_LF5_SGD_Upsampled_1 - Weight: 0.0043 - auc_metric: 0.8473\n",
    "DirichletEnsemble auc_metric: 0.8801\n",
    "\"\"\"\n",
    "experiment_ids = [\n",
    "    \"1a955742-e3ff-11ea-bd3d-0242ac110005\",\n",
    "    \"541ed996-e410-11ea-a602-0242ac110005\",\n",
    "    \"1262eecc-e490-11ea-a3de-0242ac110005\",\n",
    "    \"5663f98e-e44c-11ea-bed5-0242ac110005\",\n",
    "]\n",
    "# keras auc\n",
    "np.array([0.48527582, 0.05951586, 0.45086663, 0.00434169])"
   ]
  },
  {
   "cell_type": "code",
   "execution_count": null,
   "metadata": {},
   "outputs": [],
   "source": [
    "\"\"\"\n",
    "DenseNet121_Chexpert_WBCE_E3_B32_C0_N12_AugAffine_U75_D256_DS9505_1LR1_LF5_SGD_Upsampled - Weight: 0.4449 - auc_metric: 0.8559\n",
    "DenseNet121_Chexpert_BCE_E3_B32_C0_N12_D256_DS9505_1LR1_SGD_NoCustomMetrics - Weight: 0.3642 - auc_metric: 0.8311\n",
    "DenseNet121_Chexpert_CWBCE_L1Normed_E3_B32_C0_N12_AugAffine_sharp21_U75_D256_DS9505_5LR1_LF1_SGD_Upsampled - Weight: 0.0053 - auc_metric: 0.7984\n",
    "DenseNet121_Chexpert_CWBCE_L1Normed_E3_B32_C0_N12_AugAffine_hist_gb_U75_D256_DS9505_2LR4_LF5_Adam_Upsampled - Weight: 0.0468 - auc_metric: 0.7069\n",
    "DenseNet121_Chexpert_BCE_E3_B32_C0_N12_AugAffine_U75_D256_DS9505_2LR1_LF5_SGD_Upsampled - Weight: 0.0118 - auc_metric: 0.8218\n",
    "DenseNet121_Chexpert_CWBCE_E3_B32_C0_N12_AugAffine_U75_D256_DS9505_1LR1_LF5_SGD_Upsampled - Weight: 0.0277 - auc_metric: 0.8092\n",
    "DenseNet121_Chexpert_CWBCE_L1Normed_E5_B32_C0_N12_AugAffine_sharp21_U75_D256_DS9505_1LR4_LF1_Adam_Upsampled - Weight: 0.0172 - auc_metric: 0.7425\n",
    "DenseNet121_Chexpert_CWBCE_L1Normed_E3_B32_C0_N12_AugColor_sharp21_U75_D256_DS9505_5LR1_LF1_SGD_Upsampled - Weight: 0.0485 - auc_metric: 0.8156\n",
    "DenseNet121_2_Chexpert_CWBCE_L1Normed_E5_B32_C0_N12_AugAffine_sharp21_U75_D256_DS9505_1LR4_LF1_Adam_Upsampled - Weight: 0.0336 - auc_metric: 0.8022\n",
    "DirichletEnsemble auc_metric: 0.8591\n",
    "\"\"\"\n",
    "\n",
    "# reevaluated test auc: best models per class \n",
    "experiment_ids = ['1262eecc-e490-11ea-a3de-0242ac110005',\n",
    "  '4267e786-e2dc-11ea-a072-0242ac110005',\n",
    "  'f5345e7e-e603-11ea-b461-0242ac110005',\n",
    "  'fc098932-e58f-11ea-8d19-0242ac110005',\n",
    "  'ac1da21e-e47c-11ea-ad88-0242ac110005',\n",
    "  'a99f1906-e4a3-11ea-87a3-0242ac110005',\n",
    "  'ba5364e6-e949-11ea-87eb-0242ac110005',\n",
    "  'conf-c55ed5c6-e879-11ea-9a58-0242ac110005',\n",
    "  'bd5c2e9a-e9ec-11ea-ae3a-0242ac110005']\n",
    "\n",
    "\n"
   ]
  },
  {
   "cell_type": "code",
   "execution_count": null,
   "metadata": {},
   "outputs": [],
   "source": [
    "experiment_ids = [\n",
    "    \"1a955742-e3ff-11ea-bd3d-0242ac110005\",\n",
    "    \"03479e56-ee90-11ea-b021-0242ac110002\",\n",
    "    \"3690b8d6-eeab-11ea-8206-0242ac110002\",\n",
    "]\n",
    "weights = np.array([0.28095386, 0.4677459 , 0.25130024])\n",
    "\n",
    "\"\"\"\n",
    "DenseNet121_Chexpert_BCE_E3_B32_C0_N12_Uones_D256_DS9505_2LR1_LF5_SGD_Upsampled_1 - Weight: 0.2810 - auc_metric: 0.8727\n",
    "DenseNet121_Chexpert_BCE_E3_B32_C0_N12_AugAffine_Uones_D256_DS9505_2LR1_LF5_SGD_Upsampled - Weight: 0.4677 - auc_metric: 0.8765\n",
    "DenseNet121_2_Chexpert_BCE_E3_B32_C0_N12_NoAug_UONES_D256_DS9505_2LR1_LF5_SGD_Upsampled - Weight: 0.2513 - auc_metric: 0.8724\n",
    "DirichletEnsemble auc_metric: 0.8847\n",
    "\"\"\"\n",
    "weights = np.array([0.28095386, 0.4677459 , 0.25130024])"
   ]
  },
  {
   "cell_type": "code",
   "execution_count": null,
   "metadata": {},
   "outputs": [],
   "source": [
    "\n",
    "# best classbased test auc\n",
    "experiment_ids = ['1262eecc-e490-11ea-a3de-0242ac110005',\n",
    "  '4267e786-e2dc-11ea-a072-0242ac110005',\n",
    "  '03479e56-ee90-11ea-b021-0242ac110002',\n",
    "  'fc098932-e58f-11ea-8d19-0242ac110005',\n",
    "  'ac1da21e-e47c-11ea-ad88-0242ac110005',\n",
    "  'a99f1906-e4a3-11ea-87a3-0242ac110005',\n",
    "  'ba5364e6-e949-11ea-87eb-0242ac110005',\n",
    "  'conf-c55ed5c6-e879-11ea-9a58-0242ac110005',\n",
    "  'f5345e7e-e603-11ea-b461-0242ac110005',\n",
    "  '653d264a-ee44-11ea-bcb1-0242ac110002']\n",
    "weights = np.array([0.30839321, 0.17275668, 0.03818222, 0.16238883, 0.05441162,\n",
    "       0.04413576, 0.0113853 , 0.01235822, 0.00061968, 0.19536847])\n",
    "\"\"\"\n",
    "DenseNet121_Chexpert_WBCE_E3_B32_C0_N12_AugAffine_U75_D256_DS9505_1LR1_LF5_SGD_Upsampled - Weight: 0.3084 - auc_metric: 0.7766\n",
    "DenseNet121_Chexpert_BCE_E3_B32_C0_N12_D256_DS9505_1LR1_SGD_NoCustomMetrics - Weight: 0.1728 - auc_metric: 0.7219\n",
    "DenseNet121_Chexpert_BCE_E3_B32_C0_N12_AugAffine_Uones_D256_DS9505_2LR1_LF5_SGD_Upsampled - Weight: 0.0382 - auc_metric: 0.7735\n",
    "DenseNet121_Chexpert_CWBCE_L1Normed_E3_B32_C0_N12_AugAffine_hist_gb_U75_D256_DS9505_2LR4_LF5_Adam_Upsampled - Weight: 0.1624 - auc_metric: 0.7202\n",
    "DenseNet121_Chexpert_BCE_E3_B32_C0_N12_AugAffine_U75_D256_DS9505_2LR1_LF5_SGD_Upsampled - Weight: 0.0544 - auc_metric: 0.7554\n",
    "DenseNet121_Chexpert_CWBCE_E3_B32_C0_N12_AugAffine_U75_D256_DS9505_1LR1_LF5_SGD_Upsampled - Weight: 0.0441 - auc_metric: 0.7267\n",
    "DenseNet121_Chexpert_CWBCE_L1Normed_E5_B32_C0_N12_AugAffine_sharp21_U75_D256_DS9505_1LR4_LF1_Adam_Upsampled - Weight: 0.0114 - auc_metric: 0.6737\n",
    "DenseNet121_Chexpert_CWBCE_L1Normed_E3_B32_C0_N12_AugColor_sharp21_U75_D256_DS9505_5LR1_LF1_SGD_Upsampled - Weight: 0.0124 - auc_metric: 0.7176\n",
    "DenseNet121_Chexpert_CWBCE_L1Normed_E3_B32_C0_N12_AugAffine_sharp21_U75_D256_DS9505_5LR1_LF1_SGD_Upsampled - Weight: 0.0006 - auc_metric: 0.7438\n",
    "DenseNet121_Chexpert_BCE_E3_B32_C0_N12_AugAffine_UZEROES_D256_DS9505_2LR1_LF5_SGD_Upsampled - Weight: 0.1954 - auc_metric: 0.7530\n",
    "DirichletEnsemble auc_metric: 0.7981\n",
    "\"\"\"\n",
    "weights = np.array([0.30839321, 0.17275668, 0.03818222, 0.16238883, 0.05441162,\n",
    "       0.04413576, 0.0113853 , 0.01235822, 0.00061968, 0.19536847])"
   ]
  },
  {
   "cell_type": "code",
   "execution_count": null,
   "metadata": {},
   "outputs": [],
   "source": [
    "sum(list({ 'auc_enlarged_cardiomediastinum': 0.6719556,\n",
    " 'auc_cardiomegaly': 0.8778016,\n",
    " 'auc_lung_opacity': 0.75001043,\n",
    " 'auc_lung_lesion': 0.79566306,\n",
    " 'auc_edema': 0.85045487,\n",
    " 'auc_consolidation': 0.76943874,\n",
    " 'auc_pneumonia': 0.74846464,\n",
    " 'auc_atelectasis': 0.6919586,\n",
    " 'auc_pneumothorax': 0.86989075,\n",
    " 'auc_pleural_effusion': 0.87782013,\n",
    " 'auc_pleural_other': 0.82181436}.values()))/11"
   ]
  }
 ],
 "metadata": {
  "kernelspec": {
   "display_name": "Python 3",
   "language": "python",
   "name": "python3"
  },
  "language_info": {
   "codemirror_mode": {
    "name": "ipython",
    "version": 3
   },
   "file_extension": ".py",
   "mimetype": "text/x-python",
   "name": "python",
   "nbconvert_exporter": "python",
   "pygments_lexer": "ipython3",
   "version": "3.6.9"
  }
 },
 "nbformat": 4,
 "nbformat_minor": 4
}
