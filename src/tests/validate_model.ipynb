{
 "cells": [
  {
   "cell_type": "code",
   "execution_count": 1,
   "metadata": {},
   "outputs": [
    {
     "name": "stdout",
     "output_type": "stream",
     "text": [
      "/srv/idp-radio-1\n"
     ]
    }
   ],
   "source": [
    "from pathlib import Path\n",
    "from dotenv import load_dotenv, find_dotenv\n",
    "import pandas as pd\n",
    "import matplotlib.pyplot as plt\n",
    "from matplotlib.pyplot import figure\n",
    "import json\n",
    "import os\n",
    "import re\n",
    "import pprint\n",
    "\n",
    "basepath = Path(os.getcwd())\n",
    "if basepath.name != \"idp-radio-1\":\n",
    "    os.chdir(basepath.parent.parent)\n",
    "    print(os.getcwd())\n",
    "load_dotenv(find_dotenv())\n",
    "\n",
    "%load_ext autoreload\n",
    "%autoreload 2"
   ]
  },
  {
   "cell_type": "code",
   "execution_count": null,
   "metadata": {},
   "outputs": [],
   "source": [
    "data = json.loads(os.environ['EXP_DATA'])\n",
    "history = data['history']"
   ]
  },
  {
   "cell_type": "markdown",
   "metadata": {},
   "source": [
    "# Model and Benchmark Summary"
   ]
  },
  {
   "cell_type": "code",
   "execution_count": null,
   "metadata": {},
   "outputs": [],
   "source": [
    "for s in data[\"description\"].split(\".\")[:-1]:\n",
    "    print(s + \".\\n\")"
   ]
  },
  {
   "cell_type": "markdown",
   "metadata": {},
   "source": [
    "## Extract and format metrics to be plotted"
   ]
  },
  {
   "cell_type": "code",
   "execution_count": null,
   "metadata": {},
   "outputs": [],
   "source": [
    "# if there are any metrics that were renamed, add this new name here as (\"default_name\":\"new_name\")\n",
    "metric_custom_names={\"auc\":\"AUC_ROC\"}\n",
    "\n",
    "metric_names = [re.sub(\"([a-z0-9])([A-Z])\",\"\\g<1> \\g<2>\",name) for name in data[\"benchmark\"][\"metrics\"]]\n",
    "metric_keys = [re.sub(\"([a-z0-9])([A-Z])\",\"\\g<1>_\\g<2>\",name).lower() for name in data[\"benchmark\"][\"metrics\"]]\n",
    "\n",
    "for default_name, custom_name in metric_custom_names.items():\n",
    "    if not default_name in history.keys() and default_name in metric_keys:\n",
    "        #replace default name with custom name\n",
    "        metric_keys[metric_keys.index(default_name)]=custom_name\n"
   ]
  },
  {
   "cell_type": "code",
   "execution_count": null,
   "metadata": {},
   "outputs": [],
   "source": [
    "def print_or_plot_metric(metric_key, metric_name, figure_name):\n",
    "    if len(history[metric_key]) == 1:\n",
    "        print(\"Data for {m_name} only available for a single epoch. \\nSkipping plot and printing data...\".format(m_name=metric_name))\n",
    "        print('Train {}: '.format(metric_name), history[metric_key])\n",
    "        print('Validation {}: '.format(metric_name), history['val_'+metric_key])\n",
    "        print()        \n",
    "    else:\n",
    "        plot_epoch_metric(metric_key, metric_name, figure_name)\n",
    "        \n",
    "def plot_epoch_metric(metric_key, metric_name, figure_name):\n",
    "    figure(num=None, figsize=(10, 6))\n",
    "    plt.plot(history[metric_key])\n",
    "    if 'val_'+metric_key in history.keys():\n",
    "        plt.plot(history['val_'+metric_key])\n",
    "    plt.title(figure_name)\n",
    "    plt.ylabel(metric_name)\n",
    "    plt.xlabel('Epoch')\n",
    "    if 'val_'+metric_key in history.keys():\n",
    "        plt.legend(['Train', 'Validation'], loc='upper left')\n",
    "    plt.show()\n"
   ]
  },
  {
   "cell_type": "markdown",
   "metadata": {},
   "source": [
    "## Plot training & validation loss values"
   ]
  },
  {
   "cell_type": "code",
   "execution_count": null,
   "metadata": {},
   "outputs": [],
   "source": [
    "print_or_plot_metric(\"loss\", \"Loss\", \"Model loss\")"
   ]
  },
  {
   "cell_type": "code",
   "execution_count": null,
   "metadata": {},
   "outputs": [],
   "source": [
    "if \"lr\" in history.keys():\n",
    "    plot_epoch_metric(\"lr\", \"Learning Rate\", \"Learning Rate\")"
   ]
  },
  {
   "cell_type": "markdown",
   "metadata": {},
   "source": [
    "## Validation Scores"
   ]
  },
  {
   "cell_type": "code",
   "execution_count": null,
   "metadata": {},
   "outputs": [],
   "source": [
    "for name, scores in history.items():\n",
    "    if \"val_\" in name:\n",
    "        print('Valid {}: '.format(name.replace(\"val_\", \"\")), scores[-1])"
   ]
  },
  {
   "cell_type": "markdown",
   "metadata": {},
   "source": [
    "## Test Scores"
   ]
  },
  {
   "cell_type": "code",
   "execution_count": null,
   "metadata": {
    "tags": [
     "outputPrepend"
    ]
   },
   "outputs": [],
   "source": [
    "if 'test' in data.keys() and data['test']:\n",
    "    for score_name, score in data[\"test\"].items():\n",
    "        print('Test {}: '.format(score_name), score)\n"
   ]
  },
  {
   "cell_type": "markdown",
   "metadata": {},
   "source": [
    "## Classification Report"
   ]
  },
  {
   "cell_type": "code",
   "execution_count": null,
   "metadata": {},
   "outputs": [],
   "source": [
    "if 'classification_report' in data.keys() and data['classification_report']:\n",
    "    print(data['classification_report'])"
   ]
  },
  {
   "cell_type": "markdown",
   "metadata": {},
   "source": [
    "## Benchmark Details"
   ]
  },
  {
   "cell_type": "code",
   "execution_count": null,
   "metadata": {},
   "outputs": [],
   "source": [
    "pp = pprint.PrettyPrinter(indent=4)\n",
    "if \"benchmark\" in data.keys():\n",
    "    pp.pprint(data[\"benchmark\"])"
   ]
  },
  {
   "cell_type": "markdown",
   "metadata": {},
   "source": [
    "# Data Distribution"
   ]
  },
  {
   "cell_type": "code",
   "execution_count": 9,
   "metadata": {},
   "outputs": [],
   "source": [
    "from src.architectures.benchmarks.benchmark_definitions import benchmark_from_logs\n",
    "\n",
    "def get_distribution(labels):\n",
    "    labels_df = pd.DataFrame(labels, columns=benchmark.label_columns)\n",
    "\n",
    "\n",
    "    d = {'Pathology': [], 'Positive': [], 'Positive %': [], 'Negative': [], 'Negative %': [],}\n",
    "    for label in labels_df.columns:\n",
    "        values = labels_df.groupby(label)\n",
    "        d['Pathology'].append(label)\n",
    "\n",
    "        positive = values.size()[1.0] if 1.0 in values.size() else 0\n",
    "        positive_percent = positive / labels_df.shape[0] * 100\n",
    "        d['Positive'].append(positive)\n",
    "        d['Positive %'].append(round(positive_percent, 2))\n",
    "\n",
    "        negative = values.size()[-0.0] if -0.0 in values.size() else 0\n",
    "        negative_percent = negative / labels_df.shape[0] * 100\n",
    "        d['Negative'].append(negative)\n",
    "        d['Negative %'].append(round(negative_percent, 2))\n",
    "    \n",
    "    df = pd.DataFrame(d)\n",
    "    df = df.set_index('Pathology')\n",
    "\n",
    "    return df"
   ]
  },
  {
   "cell_type": "code",
   "execution_count": 10,
   "metadata": {},
   "outputs": [
    {
     "name": "stdout",
     "output_type": "stream",
     "text": [
      "Initialzed custom_binary_crossentropy with epsilon 1e-05\n",
      "Number train samples: 211818\n",
      "Number valid samples: 11596\n",
      "Number test samples: 234\n"
     ]
    }
   ],
   "source": [
    "if 'benchmark' in data.keys() and 'split_seed' in data['benchmark']:\n",
    "    benchmark = benchmark_from_logs(data[\"benchmark\"])\n",
    "\n",
    "    train_labels = benchmark.traingen.get_labels()\n",
    "    valid_labels = benchmark.valgen.get_labels()\n",
    "    test_labels = benchmark.testgen.get_labels()\n",
    "\n",
    "    print(\"Number train samples:\", len(train_labels))\n",
    "    print(\"Number valid samples:\", len(valid_labels))\n",
    "    print(\"Number test samples:\", len(test_labels))"
   ]
  },
  {
   "cell_type": "code",
   "execution_count": 11,
   "metadata": {},
   "outputs": [
    {
     "data": {
      "image/png": "[encoded data removed]",
      "text/plain": [
       "<Figure size 720x504 with 1 Axes>"
      ]
     },
     "metadata": {
      "needs_background": "light"
     },
     "output_type": "display_data"
    },
    {
     "data": {
      "image/png": "[encoded data removed]",
      "text/plain": [
       "<Figure size 720x504 with 1 Axes>"
      ]
     },
     "metadata": {
      "needs_background": "light"
     },
     "output_type": "display_data"
    },
    {
     "data": {
      "image/png": "[encoded data removed]",
      "text/plain": [
       "<Figure size 720x504 with 1 Axes>"
      ]
     },
     "metadata": {
      "needs_background": "light"
     },
     "output_type": "display_data"
    },
    {
     "data": {
      "image/png": "[encoded data removed]",
      "text/plain": [
       "<Figure size 720x504 with 1 Axes>"
      ]
     },
     "metadata": {
      "needs_background": "light"
     },
     "output_type": "display_data"
    },
    {
     "data": {
      "image/png": "[encoded data removed]",
      "text/plain": [
       "<Figure size 720x504 with 1 Axes>"
      ]
     },
     "metadata": {
      "needs_background": "light"
     },
     "output_type": "display_data"
    }
   ],
   "source": [
    "if 'benchmark' in data.keys() and 'split_seed' in data['benchmark']:\n",
    "    train = get_distribution(train_labels)\n",
    "    val = get_distribution(valid_labels)\n",
    "    test = get_distribution(test_labels)\n",
    "\n",
    "    positives = train[['Positive %']].merge(val[['Positive %']], left_index=True, right_index=True).merge(test[['Positive %']], left_index=True,  right_index=True).rename(columns={\"Positive %_x\": \"Positives Train\", \"Positive %_y\": \"Positives Validation\", \"Positive %\": \"Positives Test\", })\n",
    "    positives.copy().plot(kind='bar', figsize=(10,7), title=\"Positive Labels Distribution\")\n",
    "\n",
    "    negatives = train[['Negative %']].merge(val[['Negative %']], left_index=True, right_index=True).merge(test[['Negative %']], left_index=True,  right_index=True).rename(columns={\"Negative %_x\": \"Negative Train\", \"Negative %_y\": \"Negative Validation\", \"Negative %\": \"Negative Test\", })\n",
    "    negatives.copy().plot(kind='bar', figsize=(10,7), title=\"Negative Labels Distribution\")\n",
    "\n",
    "    train[['Positive %', 'Negative %']].copy().plot(kind='bar', figsize=(10,7), title=\"Training set\")\n",
    "    val[['Positive %', 'Negative %']].copy().plot(kind='bar', figsize=(10,7), title=\"Validation set\")\n",
    "    test[['Positive %', 'Negative %']].copy().plot(kind='bar', figsize=(10,7), title=\"Test set\")"
   ]
  },
  {
   "cell_type": "code",
   "execution_count": 13,
   "metadata": {},
   "outputs": [
    {
     "data": {
      "text/html": [
       "<div>\n",
       "<style scoped>\n",
       "    .dataframe tbody tr th:only-of-type {\n",
       "        vertical-align: middle;\n",
       "    }\n",
       "\n",
       "    .dataframe tbody tr th {\n",
       "        vertical-align: top;\n",
       "    }\n",
       "\n",
       "    .dataframe thead th {\n",
       "        text-align: right;\n",
       "    }\n",
       "</style>\n",
       "<table border=\"1\" class=\"dataframe\">\n",
       "  <thead>\n",
       "    <tr style=\"text-align: right;\">\n",
       "      <th></th>\n",
       "      <th>Positive</th>\n",
       "      <th>Positive %</th>\n",
       "      <th>Negative</th>\n",
       "      <th>Negative %</th>\n",
       "    </tr>\n",
       "    <tr>\n",
       "      <th>Pathology</th>\n",
       "      <th></th>\n",
       "      <th></th>\n",
       "      <th></th>\n",
       "      <th></th>\n",
       "    </tr>\n",
       "  </thead>\n",
       "  <tbody>\n",
       "    <tr>\n",
       "      <th>Enlarged Cardiomediastinum</th>\n",
       "      <td>21990</td>\n",
       "      <td>10.38</td>\n",
       "      <td>189828</td>\n",
       "      <td>89.62</td>\n",
       "    </tr>\n",
       "    <tr>\n",
       "      <th>Cardiomegaly</th>\n",
       "      <td>33127</td>\n",
       "      <td>15.64</td>\n",
       "      <td>178691</td>\n",
       "      <td>84.36</td>\n",
       "    </tr>\n",
       "    <tr>\n",
       "      <th>Lung Opacity</th>\n",
       "      <td>105503</td>\n",
       "      <td>49.81</td>\n",
       "      <td>106315</td>\n",
       "      <td>50.19</td>\n",
       "    </tr>\n",
       "    <tr>\n",
       "      <th>Lung Lesion</th>\n",
       "      <td>10113</td>\n",
       "      <td>4.77</td>\n",
       "      <td>201705</td>\n",
       "      <td>95.23</td>\n",
       "    </tr>\n",
       "    <tr>\n",
       "      <th>Edema</th>\n",
       "      <td>61886</td>\n",
       "      <td>29.22</td>\n",
       "      <td>149932</td>\n",
       "      <td>70.78</td>\n",
       "    </tr>\n",
       "    <tr>\n",
       "      <th>Consolidation</th>\n",
       "      <td>40347</td>\n",
       "      <td>19.05</td>\n",
       "      <td>171471</td>\n",
       "      <td>80.95</td>\n",
       "    </tr>\n",
       "    <tr>\n",
       "      <th>Pneumonia</th>\n",
       "      <td>23594</td>\n",
       "      <td>11.14</td>\n",
       "      <td>188224</td>\n",
       "      <td>88.86</td>\n",
       "    </tr>\n",
       "    <tr>\n",
       "      <th>Atelectasis</th>\n",
       "      <td>63670</td>\n",
       "      <td>30.06</td>\n",
       "      <td>148148</td>\n",
       "      <td>69.94</td>\n",
       "    </tr>\n",
       "    <tr>\n",
       "      <th>Pneumothorax</th>\n",
       "      <td>21475</td>\n",
       "      <td>10.14</td>\n",
       "      <td>190343</td>\n",
       "      <td>89.86</td>\n",
       "    </tr>\n",
       "    <tr>\n",
       "      <th>Pleural Effusion</th>\n",
       "      <td>92705</td>\n",
       "      <td>43.77</td>\n",
       "      <td>119113</td>\n",
       "      <td>56.23</td>\n",
       "    </tr>\n",
       "    <tr>\n",
       "      <th>Pleural Other</th>\n",
       "      <td>5861</td>\n",
       "      <td>2.77</td>\n",
       "      <td>205957</td>\n",
       "      <td>97.23</td>\n",
       "    </tr>\n",
       "    <tr>\n",
       "      <th>Fracture</th>\n",
       "      <td>9148</td>\n",
       "      <td>4.32</td>\n",
       "      <td>202670</td>\n",
       "      <td>95.68</td>\n",
       "    </tr>\n",
       "  </tbody>\n",
       "</table>\n",
       "</div>"
      ],
      "text/plain": [
       "                            Positive  Positive %  Negative  Negative %\n",
       "Pathology                                                             \n",
       "Enlarged Cardiomediastinum     21990       10.38    189828       89.62\n",
       "Cardiomegaly                   33127       15.64    178691       84.36\n",
       "Lung Opacity                  105503       49.81    106315       50.19\n",
       "Lung Lesion                    10113        4.77    201705       95.23\n",
       "Edema                          61886       29.22    149932       70.78\n",
       "Consolidation                  40347       19.05    171471       80.95\n",
       "Pneumonia                      23594       11.14    188224       88.86\n",
       "Atelectasis                    63670       30.06    148148       69.94\n",
       "Pneumothorax                   21475       10.14    190343       89.86\n",
       "Pleural Effusion               92705       43.77    119113       56.23\n",
       "Pleural Other                   5861        2.77    205957       97.23\n",
       "Fracture                        9148        4.32    202670       95.68"
      ]
     },
     "execution_count": 13,
     "metadata": {},
     "output_type": "execute_result"
    }
   ],
   "source": [
    "train"
   ]
  },
  {
   "cell_type": "code",
   "execution_count": 14,
   "metadata": {},
   "outputs": [
    {
     "data": {
      "text/html": [
       "<div>\n",
       "<style scoped>\n",
       "    .dataframe tbody tr th:only-of-type {\n",
       "        vertical-align: middle;\n",
       "    }\n",
       "\n",
       "    .dataframe tbody tr th {\n",
       "        vertical-align: top;\n",
       "    }\n",
       "\n",
       "    .dataframe thead th {\n",
       "        text-align: right;\n",
       "    }\n",
       "</style>\n",
       "<table border=\"1\" class=\"dataframe\">\n",
       "  <thead>\n",
       "    <tr style=\"text-align: right;\">\n",
       "      <th></th>\n",
       "      <th>Positive</th>\n",
       "      <th>Positive %</th>\n",
       "      <th>Negative</th>\n",
       "      <th>Negative %</th>\n",
       "    </tr>\n",
       "    <tr>\n",
       "      <th>Pathology</th>\n",
       "      <th></th>\n",
       "      <th></th>\n",
       "      <th></th>\n",
       "      <th></th>\n",
       "    </tr>\n",
       "  </thead>\n",
       "  <tbody>\n",
       "    <tr>\n",
       "      <th>Enlarged Cardiomediastinum</th>\n",
       "      <td>1211</td>\n",
       "      <td>10.44</td>\n",
       "      <td>10385</td>\n",
       "      <td>89.56</td>\n",
       "    </tr>\n",
       "    <tr>\n",
       "      <th>Cardiomegaly</th>\n",
       "      <td>1960</td>\n",
       "      <td>16.90</td>\n",
       "      <td>9636</td>\n",
       "      <td>83.10</td>\n",
       "    </tr>\n",
       "    <tr>\n",
       "      <th>Lung Opacity</th>\n",
       "      <td>5676</td>\n",
       "      <td>48.95</td>\n",
       "      <td>5920</td>\n",
       "      <td>51.05</td>\n",
       "    </tr>\n",
       "    <tr>\n",
       "      <th>Lung Lesion</th>\n",
       "      <td>561</td>\n",
       "      <td>4.84</td>\n",
       "      <td>11035</td>\n",
       "      <td>95.16</td>\n",
       "    </tr>\n",
       "    <tr>\n",
       "      <th>Edema</th>\n",
       "      <td>3344</td>\n",
       "      <td>28.84</td>\n",
       "      <td>8252</td>\n",
       "      <td>71.16</td>\n",
       "    </tr>\n",
       "    <tr>\n",
       "      <th>Consolidation</th>\n",
       "      <td>2178</td>\n",
       "      <td>18.78</td>\n",
       "      <td>9418</td>\n",
       "      <td>81.22</td>\n",
       "    </tr>\n",
       "    <tr>\n",
       "      <th>Pneumonia</th>\n",
       "      <td>1215</td>\n",
       "      <td>10.48</td>\n",
       "      <td>10381</td>\n",
       "      <td>89.52</td>\n",
       "    </tr>\n",
       "    <tr>\n",
       "      <th>Atelectasis</th>\n",
       "      <td>3445</td>\n",
       "      <td>29.71</td>\n",
       "      <td>8151</td>\n",
       "      <td>70.29</td>\n",
       "    </tr>\n",
       "    <tr>\n",
       "      <th>Pneumothorax</th>\n",
       "      <td>1118</td>\n",
       "      <td>9.64</td>\n",
       "      <td>10478</td>\n",
       "      <td>90.36</td>\n",
       "    </tr>\n",
       "    <tr>\n",
       "      <th>Pleural Effusion</th>\n",
       "      <td>5110</td>\n",
       "      <td>44.07</td>\n",
       "      <td>6486</td>\n",
       "      <td>55.93</td>\n",
       "    </tr>\n",
       "    <tr>\n",
       "      <th>Pleural Other</th>\n",
       "      <td>315</td>\n",
       "      <td>2.72</td>\n",
       "      <td>11281</td>\n",
       "      <td>97.28</td>\n",
       "    </tr>\n",
       "    <tr>\n",
       "      <th>Fracture</th>\n",
       "      <td>534</td>\n",
       "      <td>4.61</td>\n",
       "      <td>11062</td>\n",
       "      <td>95.39</td>\n",
       "    </tr>\n",
       "  </tbody>\n",
       "</table>\n",
       "</div>"
      ],
      "text/plain": [
       "                            Positive  Positive %  Negative  Negative %\n",
       "Pathology                                                             \n",
       "Enlarged Cardiomediastinum      1211       10.44     10385       89.56\n",
       "Cardiomegaly                    1960       16.90      9636       83.10\n",
       "Lung Opacity                    5676       48.95      5920       51.05\n",
       "Lung Lesion                      561        4.84     11035       95.16\n",
       "Edema                           3344       28.84      8252       71.16\n",
       "Consolidation                   2178       18.78      9418       81.22\n",
       "Pneumonia                       1215       10.48     10381       89.52\n",
       "Atelectasis                     3445       29.71      8151       70.29\n",
       "Pneumothorax                    1118        9.64     10478       90.36\n",
       "Pleural Effusion                5110       44.07      6486       55.93\n",
       "Pleural Other                    315        2.72     11281       97.28\n",
       "Fracture                         534        4.61     11062       95.39"
      ]
     },
     "execution_count": 14,
     "metadata": {},
     "output_type": "execute_result"
    }
   ],
   "source": [
    "val"
   ]
  },
  {
   "cell_type": "code",
   "execution_count": 15,
   "metadata": {},
   "outputs": [
    {
     "data": {
      "text/html": [
       "<div>\n",
       "<style scoped>\n",
       "    .dataframe tbody tr th:only-of-type {\n",
       "        vertical-align: middle;\n",
       "    }\n",
       "\n",
       "    .dataframe tbody tr th {\n",
       "        vertical-align: top;\n",
       "    }\n",
       "\n",
       "    .dataframe thead th {\n",
       "        text-align: right;\n",
       "    }\n",
       "</style>\n",
       "<table border=\"1\" class=\"dataframe\">\n",
       "  <thead>\n",
       "    <tr style=\"text-align: right;\">\n",
       "      <th></th>\n",
       "      <th>Positive</th>\n",
       "      <th>Positive %</th>\n",
       "      <th>Negative</th>\n",
       "      <th>Negative %</th>\n",
       "    </tr>\n",
       "    <tr>\n",
       "      <th>Pathology</th>\n",
       "      <th></th>\n",
       "      <th></th>\n",
       "      <th></th>\n",
       "      <th></th>\n",
       "    </tr>\n",
       "  </thead>\n",
       "  <tbody>\n",
       "    <tr>\n",
       "      <th>Enlarged Cardiomediastinum</th>\n",
       "      <td>109</td>\n",
       "      <td>46.58</td>\n",
       "      <td>125</td>\n",
       "      <td>53.42</td>\n",
       "    </tr>\n",
       "    <tr>\n",
       "      <th>Cardiomegaly</th>\n",
       "      <td>68</td>\n",
       "      <td>29.06</td>\n",
       "      <td>166</td>\n",
       "      <td>70.94</td>\n",
       "    </tr>\n",
       "    <tr>\n",
       "      <th>Lung Opacity</th>\n",
       "      <td>126</td>\n",
       "      <td>53.85</td>\n",
       "      <td>108</td>\n",
       "      <td>46.15</td>\n",
       "    </tr>\n",
       "    <tr>\n",
       "      <th>Lung Lesion</th>\n",
       "      <td>1</td>\n",
       "      <td>0.43</td>\n",
       "      <td>233</td>\n",
       "      <td>99.57</td>\n",
       "    </tr>\n",
       "    <tr>\n",
       "      <th>Edema</th>\n",
       "      <td>45</td>\n",
       "      <td>19.23</td>\n",
       "      <td>189</td>\n",
       "      <td>80.77</td>\n",
       "    </tr>\n",
       "    <tr>\n",
       "      <th>Consolidation</th>\n",
       "      <td>33</td>\n",
       "      <td>14.10</td>\n",
       "      <td>201</td>\n",
       "      <td>85.90</td>\n",
       "    </tr>\n",
       "    <tr>\n",
       "      <th>Pneumonia</th>\n",
       "      <td>8</td>\n",
       "      <td>3.42</td>\n",
       "      <td>226</td>\n",
       "      <td>96.58</td>\n",
       "    </tr>\n",
       "    <tr>\n",
       "      <th>Atelectasis</th>\n",
       "      <td>80</td>\n",
       "      <td>34.19</td>\n",
       "      <td>154</td>\n",
       "      <td>65.81</td>\n",
       "    </tr>\n",
       "    <tr>\n",
       "      <th>Pneumothorax</th>\n",
       "      <td>8</td>\n",
       "      <td>3.42</td>\n",
       "      <td>226</td>\n",
       "      <td>96.58</td>\n",
       "    </tr>\n",
       "    <tr>\n",
       "      <th>Pleural Effusion</th>\n",
       "      <td>67</td>\n",
       "      <td>28.63</td>\n",
       "      <td>167</td>\n",
       "      <td>71.37</td>\n",
       "    </tr>\n",
       "    <tr>\n",
       "      <th>Pleural Other</th>\n",
       "      <td>1</td>\n",
       "      <td>0.43</td>\n",
       "      <td>233</td>\n",
       "      <td>99.57</td>\n",
       "    </tr>\n",
       "    <tr>\n",
       "      <th>Fracture</th>\n",
       "      <td>0</td>\n",
       "      <td>0.00</td>\n",
       "      <td>234</td>\n",
       "      <td>100.00</td>\n",
       "    </tr>\n",
       "  </tbody>\n",
       "</table>\n",
       "</div>"
      ],
      "text/plain": [
       "                            Positive  Positive %  Negative  Negative %\n",
       "Pathology                                                             \n",
       "Enlarged Cardiomediastinum       109       46.58       125       53.42\n",
       "Cardiomegaly                      68       29.06       166       70.94\n",
       "Lung Opacity                     126       53.85       108       46.15\n",
       "Lung Lesion                        1        0.43       233       99.57\n",
       "Edema                             45       19.23       189       80.77\n",
       "Consolidation                     33       14.10       201       85.90\n",
       "Pneumonia                          8        3.42       226       96.58\n",
       "Atelectasis                       80       34.19       154       65.81\n",
       "Pneumothorax                       8        3.42       226       96.58\n",
       "Pleural Effusion                  67       28.63       167       71.37\n",
       "Pleural Other                      1        0.43       233       99.57\n",
       "Fracture                           0        0.00       234      100.00"
      ]
     },
     "execution_count": 15,
     "metadata": {},
     "output_type": "execute_result"
    }
   ],
   "source": [
    "test"
   ]
  },
  {
   "cell_type": "markdown",
   "metadata": {},
   "source": [
    "## Plot training & validation accuracy values"
   ]
  },
  {
   "cell_type": "code",
   "execution_count": null,
   "metadata": {},
   "outputs": [],
   "source": [
    "for i, metric_key in enumerate(metric_keys):\n",
    "    print_or_plot_metric(metric_key, metric_names[i], \"Model \"+metric_names[i])"
   ]
  },
  {
   "cell_type": "code",
   "execution_count": null,
   "metadata": {},
   "outputs": [],
   "source": []
  }
 ],
 "metadata": {
  "kernelspec": {
   "display_name": "Python 3",
   "language": "python",
   "name": "python3"
  },
  "language_info": {
   "codemirror_mode": {
    "name": "ipython",
    "version": 3
   },
   "file_extension": ".py",
   "mimetype": "text/x-python",
   "name": "python",
   "nbconvert_exporter": "python",
   "pygments_lexer": "ipython3",
   "version": "3.6.9"
  }
 },
 "nbformat": 4,
 "nbformat_minor": 4
}
