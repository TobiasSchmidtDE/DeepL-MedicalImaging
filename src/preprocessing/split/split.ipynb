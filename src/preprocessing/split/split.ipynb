{
 "cells": [
  {
   "cell_type": "code",
   "execution_count": 1,
   "metadata": {},
   "outputs": [],
   "source": [
    "import os \n",
    "import datetime\n",
    "from pathlib import Path, PurePath, PosixPath\n",
    "from dotenv import load_dotenv, find_dotenv\n",
    "\n",
    "import tensorflow as tf\n",
    "import tensorflow.keras as keras\n",
    "import pandas as pd\n",
    "import numpy as np\n",
    "from skimage.transform import resize\n",
    "\n",
    "import os \n",
    "from pathlib import Path\n",
    "from dotenv import load_dotenv, find_dotenv\n",
    "\n",
    "basepath = Path(os.getcwd())\n",
    "# make sure your working directory is the repository root.\n",
    "if basepath.name != \"idp-radio-1\":\n",
    "    os.chdir(basepath.parent.parent.parent)\n",
    "sys.path.append(os.getcwd())\n",
    "load_dotenv(find_dotenv())\n",
    "\n",
    "%load_ext autoreload\n",
    "%autoreload 2\n",
    "\n",
    "from src.preprocessing.split.train_test_split import train_test_split\n",
    "from sklearn.model_selection import GroupShuffleSplit, StratifiedKFold"
   ]
  },
  {
   "cell_type": "code",
   "execution_count": 2,
   "metadata": {},
   "outputs": [],
   "source": [
    "# Load labels\n",
    "DATASET_FOLDER = Path(os.environ.get('CHEXPERT_DEV_DATASET_DIRECTORY'))\n",
    "data = pd.read_csv(DATASET_FOLDER / 'train.csv', index_col=[0])\n",
    "data = data.fillna(0.0)\n",
    "data = data"
   ]
  },
  {
   "cell_type": "code",
   "execution_count": 12,
   "metadata": {},
   "outputs": [],
   "source": [
    "labels = data.columns[5:19].to_list()"
   ]
  },
  {
   "cell_type": "code",
   "execution_count": 16,
   "metadata": {},
   "outputs": [],
   "source": [
    "train, test = train_test_split(data, test_size=0.2, labels=labels)"
   ]
  },
  {
   "cell_type": "code",
   "execution_count": 17,
   "metadata": {},
   "outputs": [
    {
     "output_type": "stream",
     "name": "stdout",
     "text": "Train split size:  0.8251569104649673\nTest split size:  0.17484308953503266\n(12884, 20)\n(2730, 20)\n"
    }
   ],
   "source": [
    "train_size = train.size / data.size\n",
    "test_size = test.size / data.size\n",
    "print('Train split size: ', train_size)\n",
    "print('Test split size: ', test_size)\n",
    "print(train.shape)\n",
    "print(test.shape)"
   ]
  },
  {
   "cell_type": "code",
   "execution_count": 28,
   "metadata": {},
   "outputs": [],
   "source": [
    "\n",
    "d = {'Pathology': [], 'Positive %': [], 'Uncertain %': [], 'Negative %': []}\n",
    "for label in labels:\n",
    "    values = train.groupby(label)\n",
    "    d['Pathology'].append(label)\n",
    "\n",
    "    positive = values.size()[1.0] if 1.0 in values.size() else 0\n",
    "    positive_percent = positive / train.shape[0] * 100\n",
    "    d['Positive %'].append(round(positive_percent))\n",
    "\n",
    "    uncertain = values.size()[-1.0] if -1.0 in values.size() else 0\n",
    "    uncertain_percent = uncertain / train.shape[0] * 100\n",
    "    d['Uncertain %'].append(round(uncertain_percent))\n",
    "\n",
    "    negative = values.size()[-0.0] if -0.0 in values.size() else 0\n",
    "    negative_percent = negative / train.shape[0] * 100\n",
    "    d['Negative %'].append(round(negative_percent))\n",
    "\n",
    "d_val = {'Pathology': [], 'Positive %': [], 'Uncertain %': [], 'Negative %': []}\n",
    "for label in labels:\n",
    "    values = test.groupby(label)\n",
    "    d_val['Pathology'].append(label)\n",
    "\n",
    "    positive = values.size()[1.0] if 1.0 in values.size() else 0\n",
    "    positive_percent = positive / test.shape[0] * 100\n",
    "    d_val['Positive %'].append(round(positive_percent))\n",
    "\n",
    "    uncertain = values.size()[-1.0] if -1.0 in values.size() else 0\n",
    "    uncertain_percent = uncertain / test.shape[0] * 100\n",
    "    d_val['Uncertain %'].append(round(uncertain_percent))\n",
    "\n",
    "    negative = values.size()[-0.0] if -0.0 in values.size() else 0\n",
    "    negative_percent = negative / test.shape[0] * 100\n",
    "    d_val['Negative %'].append(round(negative_percent))"
   ]
  },
  {
   "cell_type": "code",
   "execution_count": 29,
   "metadata": {},
   "outputs": [
    {
     "output_type": "execute_result",
     "data": {
      "text/plain": "                            Positive %  Uncertain %  Negative %\nPathology                                                      \nNo Finding                         9.0          0.0        91.0\nEnlarged Cardiomediastinum         5.0          6.0        89.0\nCardiomegaly                      14.0          3.0        83.0\nLung Opacity                      49.0          2.0        49.0\nLung Lesion                        4.0          1.0        95.0\nEdema                             24.0          6.0        70.0\nConsolidation                      7.0         12.0        81.0\nPneumonia                          3.0          9.0        89.0\nAtelectasis                       15.0         14.0        70.0\nPneumothorax                       9.0          1.0        89.0\nPleural Effusion                  40.0          5.0        55.0\nPleural Other                      2.0          1.0        97.0\nFracture                           4.0          0.0        96.0\nSupport Devices                   53.0          0.0        46.0",
      "text/html": "<div>\n<style scoped>\n    .dataframe tbody tr th:only-of-type {\n        vertical-align: middle;\n    }\n\n    .dataframe tbody tr th {\n        vertical-align: top;\n    }\n\n    .dataframe thead th {\n        text-align: right;\n    }\n</style>\n<table border=\"1\" class=\"dataframe\">\n  <thead>\n    <tr style=\"text-align: right;\">\n      <th></th>\n      <th>Positive %</th>\n      <th>Uncertain %</th>\n      <th>Negative %</th>\n    </tr>\n    <tr>\n      <th>Pathology</th>\n      <th></th>\n      <th></th>\n      <th></th>\n    </tr>\n  </thead>\n  <tbody>\n    <tr>\n      <th>No Finding</th>\n      <td>9.0</td>\n      <td>0.0</td>\n      <td>91.0</td>\n    </tr>\n    <tr>\n      <th>Enlarged Cardiomediastinum</th>\n      <td>5.0</td>\n      <td>6.0</td>\n      <td>89.0</td>\n    </tr>\n    <tr>\n      <th>Cardiomegaly</th>\n      <td>14.0</td>\n      <td>3.0</td>\n      <td>83.0</td>\n    </tr>\n    <tr>\n      <th>Lung Opacity</th>\n      <td>49.0</td>\n      <td>2.0</td>\n      <td>49.0</td>\n    </tr>\n    <tr>\n      <th>Lung Lesion</th>\n      <td>4.0</td>\n      <td>1.0</td>\n      <td>95.0</td>\n    </tr>\n    <tr>\n      <th>Edema</th>\n      <td>24.0</td>\n      <td>6.0</td>\n      <td>70.0</td>\n    </tr>\n    <tr>\n      <th>Consolidation</th>\n      <td>7.0</td>\n      <td>12.0</td>\n      <td>81.0</td>\n    </tr>\n    <tr>\n      <th>Pneumonia</th>\n      <td>3.0</td>\n      <td>9.0</td>\n      <td>89.0</td>\n    </tr>\n    <tr>\n      <th>Atelectasis</th>\n      <td>15.0</td>\n      <td>14.0</td>\n      <td>70.0</td>\n    </tr>\n    <tr>\n      <th>Pneumothorax</th>\n      <td>9.0</td>\n      <td>1.0</td>\n      <td>89.0</td>\n    </tr>\n    <tr>\n      <th>Pleural Effusion</th>\n      <td>40.0</td>\n      <td>5.0</td>\n      <td>55.0</td>\n    </tr>\n    <tr>\n      <th>Pleural Other</th>\n      <td>2.0</td>\n      <td>1.0</td>\n      <td>97.0</td>\n    </tr>\n    <tr>\n      <th>Fracture</th>\n      <td>4.0</td>\n      <td>0.0</td>\n      <td>96.0</td>\n    </tr>\n    <tr>\n      <th>Support Devices</th>\n      <td>53.0</td>\n      <td>0.0</td>\n      <td>46.0</td>\n    </tr>\n  </tbody>\n</table>\n</div>"
     },
     "metadata": {},
     "execution_count": 29
    }
   ],
   "source": [
    "df = pd.DataFrame(d)\n",
    "df = df.set_index('Pathology')\n",
    "\n",
    "df_val = pd.DataFrame(d_val)\n",
    "df"
   ]
  },
  {
   "cell_type": "code",
   "execution_count": 30,
   "metadata": {},
   "outputs": [
    {
     "output_type": "execute_result",
     "data": {
      "text/plain": "                     Pathology  Positive %  Uncertain %  Negative %\n0                   No Finding        15.0          0.0        85.0\n1   Enlarged Cardiomediastinum         5.0          6.0        89.0\n2                 Cardiomegaly        11.0          4.0        85.0\n3                 Lung Opacity        44.0          3.0        53.0\n4                  Lung Lesion         4.0          1.0        95.0\n5                        Edema        22.0          6.0        72.0\n6                Consolidation         6.0         12.0        81.0\n7                    Pneumonia         3.0          9.0        88.0\n8                  Atelectasis        16.0         17.0        68.0\n9                 Pneumothorax         7.0          2.0        91.0\n10            Pleural Effusion        33.0          6.0        61.0\n11               Pleural Other         2.0          1.0        97.0\n12                    Fracture         4.0          0.0        96.0\n13             Support Devices        47.0          1.0        52.0",
      "text/html": "<div>\n<style scoped>\n    .dataframe tbody tr th:only-of-type {\n        vertical-align: middle;\n    }\n\n    .dataframe tbody tr th {\n        vertical-align: top;\n    }\n\n    .dataframe thead th {\n        text-align: right;\n    }\n</style>\n<table border=\"1\" class=\"dataframe\">\n  <thead>\n    <tr style=\"text-align: right;\">\n      <th></th>\n      <th>Pathology</th>\n      <th>Positive %</th>\n      <th>Uncertain %</th>\n      <th>Negative %</th>\n    </tr>\n  </thead>\n  <tbody>\n    <tr>\n      <th>0</th>\n      <td>No Finding</td>\n      <td>15.0</td>\n      <td>0.0</td>\n      <td>85.0</td>\n    </tr>\n    <tr>\n      <th>1</th>\n      <td>Enlarged Cardiomediastinum</td>\n      <td>5.0</td>\n      <td>6.0</td>\n      <td>89.0</td>\n    </tr>\n    <tr>\n      <th>2</th>\n      <td>Cardiomegaly</td>\n      <td>11.0</td>\n      <td>4.0</td>\n      <td>85.0</td>\n    </tr>\n    <tr>\n      <th>3</th>\n      <td>Lung Opacity</td>\n      <td>44.0</td>\n      <td>3.0</td>\n      <td>53.0</td>\n    </tr>\n    <tr>\n      <th>4</th>\n      <td>Lung Lesion</td>\n      <td>4.0</td>\n      <td>1.0</td>\n      <td>95.0</td>\n    </tr>\n    <tr>\n      <th>5</th>\n      <td>Edema</td>\n      <td>22.0</td>\n      <td>6.0</td>\n      <td>72.0</td>\n    </tr>\n    <tr>\n      <th>6</th>\n      <td>Consolidation</td>\n      <td>6.0</td>\n      <td>12.0</td>\n      <td>81.0</td>\n    </tr>\n    <tr>\n      <th>7</th>\n      <td>Pneumonia</td>\n      <td>3.0</td>\n      <td>9.0</td>\n      <td>88.0</td>\n    </tr>\n    <tr>\n      <th>8</th>\n      <td>Atelectasis</td>\n      <td>16.0</td>\n      <td>17.0</td>\n      <td>68.0</td>\n    </tr>\n    <tr>\n      <th>9</th>\n      <td>Pneumothorax</td>\n      <td>7.0</td>\n      <td>2.0</td>\n      <td>91.0</td>\n    </tr>\n    <tr>\n      <th>10</th>\n      <td>Pleural Effusion</td>\n      <td>33.0</td>\n      <td>6.0</td>\n      <td>61.0</td>\n    </tr>\n    <tr>\n      <th>11</th>\n      <td>Pleural Other</td>\n      <td>2.0</td>\n      <td>1.0</td>\n      <td>97.0</td>\n    </tr>\n    <tr>\n      <th>12</th>\n      <td>Fracture</td>\n      <td>4.0</td>\n      <td>0.0</td>\n      <td>96.0</td>\n    </tr>\n    <tr>\n      <th>13</th>\n      <td>Support Devices</td>\n      <td>47.0</td>\n      <td>1.0</td>\n      <td>52.0</td>\n    </tr>\n  </tbody>\n</table>\n</div>"
     },
     "metadata": {},
     "execution_count": 30
    }
   ],
   "source": [
    "df_val"
   ]
  },
  {
   "cell_type": "code",
   "execution_count": null,
   "metadata": {},
   "outputs": [],
   "source": []
  }
 ],
 "metadata": {
  "language_info": {
   "codemirror_mode": {
    "name": "ipython",
    "version": 3
   },
   "file_extension": ".py",
   "mimetype": "text/x-python",
   "name": "python",
   "nbconvert_exporter": "python",
   "pygments_lexer": "ipython3",
   "version": "3.7.7-final"
  },
  "orig_nbformat": 2,
  "kernelspec": {
   "name": "python37464bitbaseconda4533311b680c493785422518a33a923d",
   "display_name": "Python 3.7.4 64-bit ('base': conda)"
  }
 },
 "nbformat": 4,
 "nbformat_minor": 2
}