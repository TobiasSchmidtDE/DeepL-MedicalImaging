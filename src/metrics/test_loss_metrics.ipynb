{
 "cells": [
  {
   "cell_type": "markdown",
   "metadata": {},
   "source": [
    "# Author: Tobias"
   ]
  },
  {
   "cell_type": "code",
   "execution_count": 1,
   "metadata": {},
   "outputs": [
    {
     "data": {
      "text/plain": [
       "'/srv/idp-radio-1'"
      ]
     },
     "execution_count": 1,
     "metadata": {},
     "output_type": "execute_result"
    }
   ],
   "source": [
    "import os \n",
    "import datetime\n",
    "from pathlib import Path\n",
    "from dotenv import load_dotenv, find_dotenv\n",
    "\n",
    "basepath = Path(os.getcwd())\n",
    "# make sure your working directory is the repository root.\n",
    "if basepath.name != \"idp-radio-1\":\n",
    "    os.chdir(basepath.parent.parent)\n",
    "load_dotenv(find_dotenv())\n",
    "\n",
    "%load_ext autoreload\n",
    "%autoreload 2\n",
    "os.getcwd()"
   ]
  },
  {
   "cell_type": "code",
   "execution_count": 3,
   "metadata": {},
   "outputs": [
    {
     "name": "stdout",
     "output_type": "stream",
     "text": [
      "Device mapping:\n",
      "/job:localhost/replica:0/task:0/device:XLA_CPU:0 -> device: XLA_CPU device\n",
      "/job:localhost/replica:0/task:0/device:XLA_GPU:0 -> device: XLA_GPU device\n",
      "/job:localhost/replica:0/task:0/device:GPU:0 -> device: 0, name: GeForce RTX 2080 Ti, pci bus id: 0000:42:00.0, compute capability: 7.5\n",
      "\n"
     ]
    },
    {
     "data": {
      "text/plain": [
       "<tensorflow.python.client.session.Session at 0x7f210d1ea0f0>"
      ]
     },
     "execution_count": 3,
     "metadata": {},
     "output_type": "execute_result"
    }
   ],
   "source": [
    "\n",
    "import tensorflow as tf\n",
    "# Specify which GPU(s) to use\n",
    "os.environ[\"CUDA_VISIBLE_DEVICES\"] = \"1\"  # Or 2, 3, etc. other than 0\n",
    "\n",
    "config = tf.compat.v1.ConfigProto(allow_soft_placement=True, log_device_placement=True)\n",
    "config.gpu_options.allow_growth = True\n",
    "tf.compat.v1.Session(config=config)\n"
   ]
  },
  {
   "cell_type": "code",
   "execution_count": 165,
   "metadata": {},
   "outputs": [],
   "source": [
    "import os \n",
    "import math\n",
    "from pathlib import Path\n",
    "from src.metrics.losses import WeightedBinaryCrossentropy,compute_class_weight\n",
    "from src.metrics.metrics import F2Score, SingleClassMetric, NaNWrapper\n",
    "import keras.backend.tensorflow_backend as K\n",
    "from src.architectures.benchmarks.benchmark import Benchmark, Experiment\n",
    "from src.architectures.benchmarks.benchmark_definitions import Chexpert_Benchmark, Chestxray14_Benchmark, simple_architecture_experiment\n",
    "from tensorflow.keras.applications.resnet_v2 import ResNet152V2\n",
    "from src.architectures.simple.simple_base import SimpleBaseArchitecture\n"
   ]
  },
  {
   "cell_type": "code",
   "execution_count": 5,
   "metadata": {},
   "outputs": [
    {
     "name": "stdout",
     "output_type": "stream",
     "text": [
      "tf.Tensor(\n",
      "[[0.   1.   0.  ]\n",
      " [0.   0.25 1.  ]\n",
      " [1.   0.   0.75]], shape=(3, 3), dtype=float32)\n",
      "tf.Tensor(\n",
      "[[0. 1. 1.]\n",
      " [1. 0. 1.]\n",
      " [1. 1. 0.]], shape=(3, 3), dtype=float32)\n",
      "tf.Tensor([ 2.   0.5 10. ], shape=(3,), dtype=float32)\n"
     ]
    }
   ],
   "source": [
    "y_pred = tf.constant([[0.,1.,0.], [0.,0.25,1.], [1.,0.,0.75]])\n",
    "y_true = tf.constant([[0,1.0,1.0], [1.0,0,1.0], [1.,1.,0]])\n",
    "weights = tf.constant([2, 0.5, 10.])\n",
    "print(y_pred)\n",
    "print(y_true)\n",
    "print(weights)"
   ]
  },
  {
   "cell_type": "code",
   "execution_count": 6,
   "metadata": {},
   "outputs": [
    {
     "name": "stdout",
     "output_type": "stream",
     "text": [
      "All classes in backend cross_entropy\n",
      "tf.Tensor(\n",
      "[[-0.        -0.        15.424949 ]\n",
      " [15.424949   0.2876819 -0.       ]\n",
      " [-0.        15.424949   1.386294 ]], shape=(3, 3), dtype=float32)\n",
      "tf.Tensor(5.3276467, shape=(), dtype=float32)\n",
      "\n",
      "All classes in keras loss cross_entropy\n",
      "tf.Tensor(5.3276467, shape=(), dtype=float32)\n",
      "\n",
      "custom weighted cross entrop\n",
      "tf.Tensor(5.3276467, shape=(), dtype=float32)\n",
      "\n",
      "backend cross entropy for each class seperately:\n",
      "tf.Tensor([5.1416497 5.2375436 5.603748 ], shape=(3,), dtype=float32)\n",
      "\n",
      "cross_entropy for class  0\n",
      "tf.Tensor(5.1416497, shape=(), dtype=float32)\n",
      "\n",
      "cross_entropy for class  1\n",
      "tf.Tensor(5.2375436, shape=(), dtype=float32)\n",
      "\n",
      "cross_entropy for class  2\n",
      "tf.Tensor(5.603748, shape=(), dtype=float32)\n",
      "\n"
     ]
    }
   ],
   "source": [
    "# sanity checks\n",
    "# 1. pass all classes at the same time to backend cross_entropy\n",
    "print(\"All classes in backend cross_entropy\")\n",
    "print(K.binary_crossentropy(y_true, y_pred))\n",
    "print(K.mean(K.binary_crossentropy(y_true, y_pred)))\n",
    "print()\n",
    "\n",
    "# 2. pass all classes at the same time to keras loss cross_entropy\n",
    "print(\"All classes in keras loss cross_entropy\")\n",
    "print(tf.keras.losses.BinaryCrossentropy()(y_true, y_pred))\n",
    "print()\n",
    "\n",
    "\n",
    "# 3. check custom weighted cross entropy with pos and negative weights set to 1\n",
    "print(\"custom weighted cross entrop\")\n",
    "weighted_bce_fn = WeightedBinaryCrossentropy(tf.constant([1., 1., 1.]),  tf.constant([1., 1., 1.]))\n",
    "print(weighted_bce_fn(y_true, y_pred))\n",
    "print()\n",
    "\n",
    "# 4. apply backend cross entropy for each class seperately:\n",
    "print(\"backend cross entropy for each class seperately:\")\n",
    "print(K.mean(K.binary_crossentropy(y_true, y_pred), axis=1))\n",
    "print()\n",
    "\n",
    "for i in range(len(y_pred)):\n",
    "    #print(\"y_pred\", y_pred[:, i])\n",
    "    #print(\"y_true\", y_true[:, i])\n",
    "    print(\"cross_entropy for class \", i)\n",
    "    print(tf.keras.losses.BinaryCrossentropy()(y_true[:, i], y_pred[:, i]))\n",
    "    print()\n",
    "\n"
   ]
  },
  {
   "cell_type": "code",
   "execution_count": 155,
   "metadata": {},
   "outputs": [
    {
     "data": {
      "text/plain": [
       "(<tf.Tensor: shape=(4, 3), dtype=float32, numpy=\n",
       " array([[1.  , 1.  , 0.  ],\n",
       "        [0.  , 0.75, 1.  ],\n",
       "        [0.  , 1.  , 0.2 ],\n",
       "        [1.  , 0.  , 0.75]], dtype=float32)>,\n",
       " <tf.Tensor: shape=(4, 3), dtype=float32, numpy=\n",
       " array([[0., 1., 1.],\n",
       "        [1., 0., 1.],\n",
       "        [1., 1., 0.],\n",
       "        [1., 1., 0.]], dtype=float32)>)"
      ]
     },
     "execution_count": 155,
     "metadata": {},
     "output_type": "execute_result"
    }
   ],
   "source": [
    "y_pred = tf.constant([[1.,1.,0.], [0.,0.75,1.], [0.,1.,0.2], [1.,0.,0.75]])\n",
    "y_true = tf.constant([[0,1.0,1.0], [1.0,0,1.0], [1.,1.,0], [1.,1.,0]])\n",
    "y_pred, y_true"
   ]
  },
  {
   "cell_type": "code",
   "execution_count": 156,
   "metadata": {},
   "outputs": [
    {
     "data": {
      "text/plain": [
       "(<tf.Tensor: shape=(4, 3), dtype=float32, numpy=\n",
       " array([[1.  , 1.  , 0.  ],\n",
       "        [0.  , 0.75, 1.  ],\n",
       "        [0.  , 1.  , 0.2 ],\n",
       "        [1.  , 0.  , 0.75]], dtype=float32)>,\n",
       " <tf.Tensor: shape=(4, 3), dtype=float32, numpy=\n",
       " array([[-1.,  1.,  1.],\n",
       "        [ 1., -1.,  1.],\n",
       "        [ 1.,  1., -1.],\n",
       "        [ 1.,  1., -1.]], dtype=float32)>)"
      ]
     },
     "execution_count": 156,
     "metadata": {},
     "output_type": "execute_result"
    }
   ],
   "source": [
    "y_true = tf.constant([[-1,1.0,1.0], [1.0,-1,1.0], [1.,1.,-1], [1.,1.,-1]])\n",
    "y_pred, y_true"
   ]
  },
  {
   "cell_type": "code",
   "execution_count": 157,
   "metadata": {},
   "outputs": [
    {
     "data": {
      "text/plain": [
       "<tf.Tensor: shape=(4, 3), dtype=float32, numpy=\n",
       "array([[-0.,  1.,  1.],\n",
       "       [ 1., -0.,  1.],\n",
       "       [ 1.,  1., -0.],\n",
       "       [ 1.,  1., -0.]], dtype=float32)>"
      ]
     },
     "execution_count": 157,
     "metadata": {},
     "output_type": "execute_result"
    }
   ],
   "source": [
    "y_true_nonan = y_true * tf.cast(tf.math.greater_equal(y_true, 0), y_true.dtype.base_dtype)\n",
    "y_true_nonan"
   ]
  },
  {
   "cell_type": "code",
   "execution_count": 174,
   "metadata": {},
   "outputs": [],
   "source": [
    "acc = tf.keras.metrics.AUC(name=\"accuracy\")\n",
    "dev_acc = NaNWrapper(SingleClassMetric(tf.keras.metrics.AUC(name=\"accuracy\"), 0,  class_name=\"device\"))\n",
    "pleu_acc = NaNWrapper(SingleClassMetric(tf.keras.metrics.AUC(name=\"accuracy\"), 1,  class_name=\"pleura\"))\n",
    "card_acc = NaNWrapper(SingleClassMetric(tf.keras.metrics.AUC(name=\"accuracy\"), 2, class_name=\"cardiomegaly\"))\n"
   ]
  },
  {
   "cell_type": "code",
   "execution_count": 175,
   "metadata": {},
   "outputs": [
    {
     "name": "stdout",
     "output_type": "stream",
     "text": [
      "y_pred tf.Tensor([1. 0. 0. 1.], shape=(4,), dtype=float32)\n",
      "y_true tf.Tensor([-1.  1.  1.  1.], shape=(4,), dtype=float32)\n",
      "accuracy for class  0\n",
      "tf.Tensor(0.16666667, shape=(), dtype=float32)\n",
      "\n",
      "y_pred tf.Tensor([1.   0.75 1.   0.  ], shape=(4,), dtype=float32)\n",
      "y_true tf.Tensor([ 1. -1.  1.  1.], shape=(4,), dtype=float32)\n",
      "accuracy for class  1\n",
      "tf.Tensor(0.6666667, shape=(), dtype=float32)\n",
      "\n",
      "y_pred tf.Tensor([0.   1.   0.2  0.75], shape=(4,), dtype=float32)\n",
      "y_true tf.Tensor([ 1.  1. -1. -1.], shape=(4,), dtype=float32)\n",
      "accuracy for class  2\n",
      "tf.Tensor(0.5, shape=(), dtype=float32)\n",
      "\n"
     ]
    }
   ],
   "source": [
    "\n",
    "for i in range(y_pred.shape[-1]):\n",
    "    print(\"y_pred\", y_pred[:, i])\n",
    "    print(\"y_true\", y_true[:, i])\n",
    "    print(\"accuracy for class \", i)\n",
    "    acc.reset_states()\n",
    "    acc.update_state(y_true_nonan[:, i], y_pred[:, i])\n",
    "    print(acc.result())\n",
    "    print()"
   ]
  },
  {
   "cell_type": "code",
   "execution_count": null,
   "metadata": {},
   "outputs": [],
   "source": []
  },
  {
   "cell_type": "code",
   "execution_count": null,
   "metadata": {},
   "outputs": [],
   "source": [
    "\n",
    "#dev_acc.reset_states()\n",
    "dev_acc.update_state(y_true, y_pred)\n",
    "dev_acc.result()"
   ]
  },
  {
   "cell_type": "code",
   "execution_count": null,
   "metadata": {},
   "outputs": [],
   "source": [
    "\n",
    "#pleu_acc.reset_states()\n",
    "pleu_acc.update_state(y_true, y_pred)\n",
    "pleu_acc.result()"
   ]
  },
  {
   "cell_type": "code",
   "execution_count": null,
   "metadata": {},
   "outputs": [],
   "source": [
    "\n",
    "#card_acc.reset_states()\n",
    "card_acc.update_state(y_true, y_pred)\n",
    "card_acc.result()"
   ]
  },
  {
   "cell_type": "code",
   "execution_count": null,
   "metadata": {},
   "outputs": [],
   "source": []
  },
  {
   "cell_type": "code",
   "execution_count": 15,
   "metadata": {},
   "outputs": [
    {
     "data": {
      "text/plain": [
       "\"The benchmark was initialized for the chexpert_dev dataset with batch size of 16, shuffle set to True and images rescaled to dimension (256, 256).\\nThe training was done for 10 epochs using the Adam optimizer and binary_crossentropy loss.\\nA total of 14 labels/pathologies were included in the training and encoded using the 'uzeroes' method.\\nThe traing set included 9827 number of sample, the validation set 2473, and the test set 3314. \""
      ]
     },
     "execution_count": 15,
     "metadata": {},
     "output_type": "execute_result"
    }
   ],
   "source": []
  },
  {
   "cell_type": "code",
   "execution_count": null,
   "metadata": {},
   "outputs": [],
   "source": []
  },
  {
   "cell_type": "code",
   "execution_count": null,
   "metadata": {},
   "outputs": [],
   "source": []
  },
  {
   "cell_type": "code",
   "execution_count": null,
   "metadata": {},
   "outputs": [],
   "source": []
  },
  {
   "cell_type": "code",
   "execution_count": 18,
   "metadata": {},
   "outputs": [],
   "source": []
  },
  {
   "cell_type": "code",
   "execution_count": 66,
   "metadata": {},
   "outputs": [
    {
     "data": {
      "text/plain": [
       "<tf.Tensor: shape=(3,), dtype=float32, numpy=array([0., 0., 1.], dtype=float32)>"
      ]
     },
     "execution_count": 66,
     "metadata": {},
     "output_type": "execute_result"
    }
   ],
   "source": []
  },
  {
   "cell_type": "code",
   "execution_count": 63,
   "metadata": {},
   "outputs": [
    {
     "data": {
      "text/plain": [
       "<tf.Tensor: shape=(3, 3), dtype=float32, numpy=\n",
       "array([[0., 1., 0.],\n",
       "       [0., 1., 0.],\n",
       "       [0., 1., 0.]], dtype=float32)>"
      ]
     },
     "execution_count": 63,
     "metadata": {},
     "output_type": "execute_result"
    }
   ],
   "source": [
    "weights = tf.repeat(tf.expand_dims(tf.one_hot(1, class_num),axis=0), sample_num, axis=0)\n",
    "weights"
   ]
  },
  {
   "cell_type": "code",
   "execution_count": 65,
   "metadata": {},
   "outputs": [
    {
     "data": {
      "text/plain": [
       "(2, 2)"
      ]
     },
     "execution_count": 65,
     "metadata": {},
     "output_type": "execute_result"
    }
   ],
   "source": [
    "weights.shape.ndims,  y_pred.shape.ndims"
   ]
  },
  {
   "cell_type": "code",
   "execution_count": 23,
   "metadata": {},
   "outputs": [
    {
     "data": {
      "text/plain": [
       "(<tf.Tensor: shape=(14,), dtype=float32, numpy=\n",
       " array([ 9.85356  , 18.535849 ,  7.5279694,  2.108607 , 21.782705 ,\n",
       "         4.3106627, 14.839879 , 32.966442 ,  6.4377456, 11.850422 ,\n",
       "         2.625334 , 56.137142 , 26.768393 ,  1.9738798], dtype=float32)>,\n",
       " <tf.Tensor: shape=(14,), dtype=float32, numpy=\n",
       " array([1.1129489, 1.057026 , 1.153187 , 1.902033 , 1.0481169, 1.3020543,\n",
       "        1.072255 , 1.0312828, 1.1838998, 1.0921624, 1.6152581, 1.0181366,\n",
       "        1.0388073, 2.0268207], dtype=float32)>)"
      ]
     },
     "execution_count": 23,
     "metadata": {},
     "output_type": "execute_result"
    }
   ],
   "source": [
    "compute_class_weight(chexpert_benchmark.traingen)"
   ]
  },
  {
   "cell_type": "code",
   "execution_count": 74,
   "metadata": {},
   "outputs": [],
   "source": [
    "from tensorflow.python.ops.losses import util as tf_losses_utils\n",
    "\n",
    "from tensorflow.python.keras.utils import metrics_utils"
   ]
  },
  {
   "cell_type": "code",
   "execution_count": 68,
   "metadata": {},
   "outputs": [
    {
     "data": {
      "text/plain": [
       "(<tf.Tensor: shape=(3, 3), dtype=float32, numpy=\n",
       " array([[0.  , 1.  , 0.  ],\n",
       "        [0.  , 0.25, 1.  ],\n",
       "        [1.  , 0.  , 0.75]], dtype=float32)>,\n",
       " None,\n",
       " <tf.Tensor: shape=(3, 3), dtype=float32, numpy=\n",
       " array([[0., 1., 0.],\n",
       "        [0., 1., 0.],\n",
       "        [0., 1., 0.]], dtype=float32)>)"
      ]
     },
     "execution_count": 68,
     "metadata": {},
     "output_type": "execute_result"
    }
   ],
   "source": [
    "tf_losses_utils.squeeze_or_expand_dimensions(y_pred, sample_weight=weights)"
   ]
  },
  {
   "cell_type": "code",
   "execution_count": 49,
   "metadata": {},
   "outputs": [
    {
     "data": {
      "text/plain": [
       "<tf.Tensor: shape=(3, 3), dtype=float32, numpy=\n",
       "array([[0.  , 1.  , 0.  ],\n",
       "       [0.  , 0.25, 1.  ],\n",
       "       [1.  , 0.  , 0.75]], dtype=float32)>"
      ]
     },
     "execution_count": 49,
     "metadata": {},
     "output_type": "execute_result"
    }
   ],
   "source": [
    "y_pred"
   ]
  },
  {
   "cell_type": "code",
   "execution_count": null,
   "metadata": {},
   "outputs": [],
   "source": []
  },
  {
   "cell_type": "code",
   "execution_count": 52,
   "metadata": {},
   "outputs": [
    {
     "data": {
      "text/plain": [
       "<tf.Tensor: shape=(3, 3), dtype=float32, numpy=\n",
       "array([[0., 1., 0.],\n",
       "       [0., 1., 0.],\n",
       "       [0., 1., 0.]], dtype=float32)>"
      ]
     },
     "execution_count": 52,
     "metadata": {},
     "output_type": "execute_result"
    }
   ],
   "source": []
  },
  {
   "cell_type": "code",
   "execution_count": null,
   "metadata": {},
   "outputs": [],
   "source": []
  },
  {
   "cell_type": "code",
   "execution_count": null,
   "metadata": {},
   "outputs": [],
   "source": []
  },
  {
   "cell_type": "code",
   "execution_count": null,
   "metadata": {},
   "outputs": [],
   "source": []
  },
  {
   "cell_type": "code",
   "execution_count": null,
   "metadata": {},
   "outputs": [],
   "source": []
  },
  {
   "cell_type": "code",
   "execution_count": null,
   "metadata": {},
   "outputs": [],
   "source": []
  }
 ],
 "metadata": {
  "kernelspec": {
   "display_name": "Python 3",
   "language": "python",
   "name": "python3"
  },
  "language_info": {
   "codemirror_mode": {
    "name": "ipython",
    "version": 3
   },
   "file_extension": ".py",
   "mimetype": "text/x-python",
   "name": "python",
   "nbconvert_exporter": "python",
   "pygments_lexer": "ipython3",
   "version": "3.7.4"
  }
 },
 "nbformat": 4,
 "nbformat_minor": 4
}
