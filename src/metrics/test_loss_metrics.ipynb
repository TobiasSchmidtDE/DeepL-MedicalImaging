{
 "cells": [
  {
   "cell_type": "code",
   "execution_count": 1,
   "metadata": {},
   "outputs": [
    {
     "data": {
      "text/plain": [
       "'/srv/idp-radio-1'"
      ]
     },
     "execution_count": 1,
     "metadata": {},
     "output_type": "execute_result"
    }
   ],
   "source": [
    "import os \n",
    "import datetime\n",
    "from pathlib import Path\n",
    "from dotenv import load_dotenv, find_dotenv\n",
    "\n",
    "basepath = Path(os.getcwd())\n",
    "# make sure your working directory is the repository root.\n",
    "if basepath.name != \"idp-radio-1\":\n",
    "    os.chdir(basepath.parent.parent)\n",
    "load_dotenv(find_dotenv())\n",
    "\n",
    "%load_ext autoreload\n",
    "%autoreload 2\n",
    "os.getcwd()"
   ]
  },
  {
   "cell_type": "code",
   "execution_count": 2,
   "metadata": {},
   "outputs": [
    {
     "name": "stderr",
     "output_type": "stream",
     "text": [
      "Using TensorFlow backend.\n"
     ]
    }
   ],
   "source": [
    "import os \n",
    "import math\n",
    "import tensorflow as tf\n",
    "from pathlib import Path\n",
    "from src.metrics.losses import WeightedBinaryCrossentropy, SimpleWeightedBinaryCrossentropy\n",
    "from src.metrics.metrics import F2Score, SingleClassMetric\n",
    "import keras.backend.tensorflow_backend as K\n",
    "from src.architectures.benchmarks.benchmark import Benchmark, Experiment\n",
    "from tensorflow.keras.applications.resnet_v2 import ResNet152V2\n",
    "from src.architectures.simple.simple_base import SimpleBaseArchitecture\n"
   ]
  },
  {
   "cell_type": "code",
   "execution_count": 3,
   "metadata": {},
   "outputs": [
    {
     "name": "stdout",
     "output_type": "stream",
     "text": [
      "Device mapping:\n",
      "/job:localhost/replica:0/task:0/device:XLA_CPU:0 -> device: XLA_CPU device\n",
      "/job:localhost/replica:0/task:0/device:XLA_GPU:0 -> device: XLA_GPU device\n",
      "/job:localhost/replica:0/task:0/device:GPU:0 -> device: 0, name: GeForce RTX 2080 Ti, pci bus id: 0000:42:00.0, compute capability: 7.5\n",
      "\n"
     ]
    },
    {
     "data": {
      "text/plain": [
       "<tensorflow.python.client.session.Session at 0x7fe79c348278>"
      ]
     },
     "execution_count": 3,
     "metadata": {},
     "output_type": "execute_result"
    }
   ],
   "source": [
    "# Specify which GPU(s) to use\n",
    "os.environ[\"CUDA_VISIBLE_DEVICES\"] = \"1\"  # Or 2, 3, etc. other than 0\n",
    "\n",
    "config = tf.compat.v1.ConfigProto(allow_soft_placement=True, log_device_placement=True)\n",
    "config.gpu_options.allow_growth = True\n",
    "tf.compat.v1.Session(config=config)\n"
   ]
  },
  {
   "cell_type": "code",
   "execution_count": 4,
   "metadata": {},
   "outputs": [
    {
     "name": "stdout",
     "output_type": "stream",
     "text": [
      "tf.Tensor(\n",
      "[[0.   1.   0.  ]\n",
      " [0.   0.25 1.  ]\n",
      " [1.   0.   0.75]], shape=(3, 3), dtype=float32)\n",
      "tf.Tensor(\n",
      "[[0. 1. 1.]\n",
      " [1. 0. 1.]\n",
      " [1. 1. 0.]], shape=(3, 3), dtype=float32)\n",
      "tf.Tensor([ 2.   0.5 10. ], shape=(3,), dtype=float32)\n"
     ]
    }
   ],
   "source": [
    "y_pred = tf.constant([[0.,1.,0.], [0.,0.25,1.], [1.,0.,0.75]])\n",
    "y_true = tf.constant([[0,1.0,1.0], [1.0,0,1.0], [1.,1.,0]])\n",
    "weights = tf.constant([2, 0.5, 10.])\n",
    "print(y_pred)\n",
    "print(y_true)\n",
    "print(weights)"
   ]
  },
  {
   "cell_type": "code",
   "execution_count": 5,
   "metadata": {},
   "outputs": [
    {
     "name": "stdout",
     "output_type": "stream",
     "text": [
      "All classes in backend cross_entropy\n",
      "tf.Tensor(\n",
      "[[-0.        -0.        15.424949 ]\n",
      " [15.424949   0.2876819 -0.       ]\n",
      " [-0.        15.424949   1.386294 ]], shape=(3, 3), dtype=float32)\n",
      "tf.Tensor(5.3276467, shape=(), dtype=float32)\n",
      "\n",
      "All classes in keras loss cross_entropy\n",
      "tf.Tensor(5.3276467, shape=(), dtype=float32)\n",
      "\n",
      "backend cross entropy for each class seperately:\n",
      "tf.Tensor([5.1416497 5.2375436 5.603748 ], shape=(3,), dtype=float32)\n",
      "\n",
      "cross_entropy for class  0\n",
      "tf.Tensor(5.1416497, shape=(), dtype=float32)\n",
      "\n",
      "cross_entropy for class  1\n",
      "tf.Tensor(5.2375436, shape=(), dtype=float32)\n",
      "\n",
      "cross_entropy for class  2\n",
      "tf.Tensor(5.603748, shape=(), dtype=float32)\n",
      "\n",
      "simple custom weighted cross entrop\n",
      "tf.Tensor(5.3276467, shape=(), dtype=float32)\n",
      "\n",
      "custom weighted cross entrop\n",
      "tf.Tensor(5.3276467, shape=(), dtype=float32)\n",
      "\n"
     ]
    }
   ],
   "source": [
    "# sanity checks\n",
    "# 1. throw all classes at the same time in backend cross_entropy\n",
    "print(\"All classes in backend cross_entropy\")\n",
    "print(K.binary_crossentropy(y_true, y_pred))\n",
    "print(K.mean(K.binary_crossentropy(y_true, y_pred)))\n",
    "print()\n",
    "\n",
    "# 2. throw all classes at the same time in keras loss cross_entropy\n",
    "print(\"All classes in keras loss cross_entropy\")\n",
    "print(tf.keras.losses.BinaryCrossentropy()(y_true, y_pred))\n",
    "print()\n",
    "\n",
    "# 3. apply backend cross entropy for each class seperately:\n",
    "print(\"backend cross entropy for each class seperately:\")\n",
    "print(K.mean(K.binary_crossentropy(y_true, y_pred), axis=1))\n",
    "print()\n",
    "\n",
    "for i in range(len(y_pred)):\n",
    "    #print(\"y_pred\", y_pred[:, i])\n",
    "    #print(\"y_true\", y_true[:, i])\n",
    "    print(\"cross_entropy for class \", i)\n",
    "    print(tf.keras.losses.BinaryCrossentropy()(y_true[:, i], y_pred[:, i]))\n",
    "    print()\n",
    "    \n",
    "# 4. check simple custom weighted cross entropy with weights set to 1\n",
    "print(\"simple custom weighted cross entrop\")\n",
    "simple_weighted_bce_fn = SimpleWeightedBinaryCrossentropy(tf.constant([1., 1., 1.]))\n",
    "print(simple_weighted_bce_fn(y_true, y_pred))\n",
    "print()\n",
    "\n",
    "# 5. check custom weighted cross entropy with pos and negative weights set to 1\n",
    "print(\"custom weighted cross entrop\")\n",
    "weighted_bce_fn = WeightedBinaryCrossentropy(tf.constant([1., 1., 1.]),  tf.constant([1., 1., 1.]))\n",
    "print(weighted_bce_fn(y_true, y_pred))\n",
    "print()\n"
   ]
  },
  {
   "cell_type": "code",
   "execution_count": 6,
   "metadata": {},
   "outputs": [],
   "source": [
    "card_acc = SingleClassMetric(tf.keras.metrics.BinaryAccuracy(name=\"accuracy\"), 2, class_name=\"cardiomegaly\")\n",
    "dev_acc = SingleClassMetric(tf.keras.metrics.BinaryAccuracy(name=\"accuracy\"), 0, class_name=\"device\")\n"
   ]
  },
  {
   "cell_type": "code",
   "execution_count": 7,
   "metadata": {},
   "outputs": [
    {
     "name": "stdout",
     "output_type": "stream",
     "text": [
      "3\n",
      "3\n"
     ]
    },
    {
     "data": {
      "text/plain": [
       "<tf.Tensor: shape=(3, 3), dtype=float32, numpy=\n",
       "array([[0., 1., 0.],\n",
       "       [0., 1., 0.],\n",
       "       [0., 1., 0.]], dtype=float32)>"
      ]
     },
     "execution_count": 7,
     "metadata": {},
     "output_type": "execute_result"
    }
   ],
   "source": [
    "\n",
    "class_num = y_pred.shape[-1]\n",
    "sample_num = y_pred.shape[-2]\n",
    "print(class_num)\n",
    "print(sample_num)\n",
    "sample_weight = tf.repeat(tf.expand_dims(tf.one_hot(1, class_num),axis=0), sample_num, axis=0)\n",
    "#sample_weight = tf.expand_dims(tf.one_hot(2, class_num),axis=0)\n",
    "sample_weight"
   ]
  },
  {
   "cell_type": "code",
   "execution_count": 11,
   "metadata": {},
   "outputs": [
    {
     "name": "stdout",
     "output_type": "stream",
     "text": [
      "sample_weight tf.Tensor([0. 0. 1.], shape=(3,), dtype=float32)\n"
     ]
    },
    {
     "data": {
      "text/plain": [
       "0.33333334"
      ]
     },
     "execution_count": 11,
     "metadata": {},
     "output_type": "execute_result"
    }
   ],
   "source": [
    "\n",
    "card_acc.update_state(y_true, y_pred)\n",
    "card_acc.result()"
   ]
  },
  {
   "cell_type": "code",
   "execution_count": 15,
   "metadata": {},
   "outputs": [
    {
     "data": {
      "text/plain": [
       "<tf.Tensor: shape=(), dtype=float32, numpy=0.6666667>"
      ]
     },
     "execution_count": 15,
     "metadata": {},
     "output_type": "execute_result"
    }
   ],
   "source": [
    "\n",
    "dev_acc.update_state(y_true, y_pred)\n",
    "dev_acc.result()"
   ]
  },
  {
   "cell_type": "code",
   "execution_count": 16,
   "metadata": {},
   "outputs": [
    {
     "ename": "TypeError",
     "evalue": "__init__() missing 1 required positional argument: 'negative_class_weights'",
     "output_type": "error",
     "traceback": [
      "\u001b[0;31m---------------------------------------------------------------------------\u001b[0m",
      "\u001b[0;31mTypeError\u001b[0m                                 Traceback (most recent call last)",
      "\u001b[0;32m<ipython-input-16-c8b8761d15e6>\u001b[0m in \u001b[0;36m<module>\u001b[0;34m\u001b[0m\n\u001b[1;32m     19\u001b[0m                                   \u001b[0mbatch_size\u001b[0m\u001b[0;34m=\u001b[0m\u001b[0;36m16\u001b[0m\u001b[0;34m,\u001b[0m\u001b[0;34m\u001b[0m\u001b[0;34m\u001b[0m\u001b[0m\n\u001b[1;32m     20\u001b[0m                                   \u001b[0mmetrics\u001b[0m \u001b[0;34m=\u001b[0m \u001b[0mmetrics\u001b[0m\u001b[0;34m,\u001b[0m\u001b[0;34m\u001b[0m\u001b[0;34m\u001b[0m\u001b[0m\n\u001b[0;32m---> 21\u001b[0;31m                                   \u001b[0mloss\u001b[0m \u001b[0;34m=\u001b[0m \u001b[0mWeightedBinaryCrossentropy\u001b[0m\u001b[0;34m(\u001b[0m\u001b[0mtf\u001b[0m\u001b[0;34m.\u001b[0m\u001b[0mconstant\u001b[0m\u001b[0;34m(\u001b[0m\u001b[0;34m[\u001b[0m\u001b[0;36m1.\u001b[0m\u001b[0;34m,\u001b[0m\u001b[0;34m]\u001b[0m\u001b[0;34m*\u001b[0m\u001b[0mlen\u001b[0m\u001b[0;34m(\u001b[0m\u001b[0mchexpert_columns\u001b[0m\u001b[0;34m)\u001b[0m\u001b[0;34m)\u001b[0m\u001b[0;34m)\u001b[0m\u001b[0;34m\u001b[0m\u001b[0;34m\u001b[0m\u001b[0m\n\u001b[0m\u001b[1;32m     22\u001b[0m                                   \u001b[0;31m#loss = weighted_binary_cross_entropy(tf.constant([1., 1., 1.]))\u001b[0m\u001b[0;34m\u001b[0m\u001b[0;34m\u001b[0m\u001b[0;34m\u001b[0m\u001b[0m\n\u001b[1;32m     23\u001b[0m                               )\n",
      "\u001b[0;31mTypeError\u001b[0m: __init__() missing 1 required positional argument: 'negative_class_weights'"
     ]
    }
   ],
   "source": [
    "metrics = [tf.keras.metrics.AUC(multi_label=True, name=\"auc\"),\n",
    "           tf.keras.metrics.Precision(name=\"precision\"),\n",
    "           tf.keras.metrics.Recall(name=\"recall\"),\n",
    "           F2Score(name=\"f2_score\"),\n",
    "           tf.keras.metrics.BinaryAccuracy(name=\"binary_accuracy\")\n",
    "          ]\n",
    "\n",
    "chexpert_columns = ['No Finding', 'Enlarged Cardiomediastinum', 'Cardiomegaly', 'Lung Opacity', 'Lung Lesion',\n",
    "                       'Edema', 'Consolidation', 'Pneumonia', 'Atelectasis', 'Pneumothorax',\n",
    "                       'Pleural Effusion', 'Pleural Other', 'Fracture', 'Support Devices']\n",
    "\n",
    "chexpert_benchmark = Benchmark(Path(os.environ.get(\"CHEXPERT_DEV_DATASET_DIRECTORY\")),\n",
    "                                  chexpert_columns,\n",
    "                                  \"Chexpert dev small batches\",\n",
    "                                  epochs=10,\n",
    "                                  train_labels=\"train.csv\",\n",
    "                                  path_column=\"Path\",\n",
    "                                  split_group='patient_id',\n",
    "                                  batch_size=16,\n",
    "                                  metrics = metrics,\n",
    "                                  loss = WeightedBinaryCrossentropy(tf.constant([1.,]*len(chexpert_columns)))\n",
    "                                  #loss = weighted_binary_cross_entropy(tf.constant([1., 1., 1.]))\n",
    "                              )\n",
    "chexpert_benchmark.summary()"
   ]
  },
  {
   "cell_type": "code",
   "execution_count": null,
   "metadata": {},
   "outputs": [],
   "source": []
  },
  {
   "cell_type": "code",
   "execution_count": null,
   "metadata": {},
   "outputs": [],
   "source": []
  },
  {
   "cell_type": "code",
   "execution_count": null,
   "metadata": {},
   "outputs": [],
   "source": []
  },
  {
   "cell_type": "code",
   "execution_count": null,
   "metadata": {},
   "outputs": [],
   "source": [
    "import numpy as np\n",
    "np.unique()[1:]"
   ]
  },
  {
   "cell_type": "code",
   "execution_count": null,
   "metadata": {},
   "outputs": [],
   "source": [
    "sparse = chexpert_benchmark.traingen.get_labels() * (np.array(range(14)) + 1)"
   ]
  },
  {
   "cell_type": "code",
   "execution_count": null,
   "metadata": {},
   "outputs": [],
   "source": []
  },
  {
   "cell_type": "code",
   "execution_count": null,
   "metadata": {},
   "outputs": [],
   "source": []
  },
  {
   "cell_type": "code",
   "execution_count": null,
   "metadata": {},
   "outputs": [],
   "source": [
    "compute_class_weight(chexpert_benchmark.traingen)"
   ]
  },
  {
   "cell_type": "code",
   "execution_count": null,
   "metadata": {},
   "outputs": [],
   "source": [
    "compute_class_weight(chexpert_benchmark.traingen)"
   ]
  },
  {
   "cell_type": "code",
   "execution_count": null,
   "metadata": {},
   "outputs": [],
   "source": [
    "sparse_negativ_labels = (1 - chexpert_benchmark.traingen.get_labels()) * (np.array(range(14)) + 1)"
   ]
  },
  {
   "cell_type": "code",
   "execution_count": null,
   "metadata": {},
   "outputs": [],
   "source": [
    " (chexpert_benchmark.traingen.get_labels().shape[0]) /  len(sparse_negativ_labels[sparse_negativ_labels == 1])"
   ]
  },
  {
   "cell_type": "code",
   "execution_count": null,
   "metadata": {},
   "outputs": [],
   "source": [
    "np.array([np.float(\"nan\"),2,3]) * np.array(range(3)) + 1"
   ]
  },
  {
   "cell_type": "code",
   "execution_count": null,
   "metadata": {},
   "outputs": [],
   "source": []
  },
  {
   "cell_type": "code",
   "execution_count": null,
   "metadata": {},
   "outputs": [],
   "source": []
  },
  {
   "cell_type": "code",
   "execution_count": null,
   "metadata": {},
   "outputs": [],
   "source": []
  },
  {
   "cell_type": "code",
   "execution_count": null,
   "metadata": {},
   "outputs": [],
   "source": []
  },
  {
   "cell_type": "code",
   "execution_count": null,
   "metadata": {},
   "outputs": [],
   "source": []
  },
  {
   "cell_type": "code",
   "execution_count": null,
   "metadata": {},
   "outputs": [],
   "source": []
  }
 ],
 "metadata": {
  "kernelspec": {
   "display_name": "Python 3",
   "language": "python",
   "name": "python3"
  },
  "language_info": {
   "codemirror_mode": {
    "name": "ipython",
    "version": 3
   },
   "file_extension": ".py",
   "mimetype": "text/x-python",
   "name": "python",
   "nbconvert_exporter": "python",
   "pygments_lexer": "ipython3",
   "version": "3.6.9"
  }
 },
 "nbformat": 4,
 "nbformat_minor": 4
}
