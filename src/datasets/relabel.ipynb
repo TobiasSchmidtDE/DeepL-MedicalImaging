{
 "cells": [
  {
   "cell_type": "markdown",
   "metadata": {
    "colab_type": "text",
    "id": "zkL_ywpepfwI",
    "pycharm": {
     "name": "#%% md\n"
    }
   },
   "source": [
    "## Dataset Split"
   ]
  },
  {
   "cell_type": "code",
   "execution_count": 28,
   "metadata": {
    "colab": {},
    "colab_type": "code",
    "id": "Zx4hZoJNHUyA"
   },
   "outputs": [
    {
     "name": "stdout",
     "output_type": "stream",
     "text": [
      "The autoreload extension is already loaded. To reload it, use:\n",
      "  %reload_ext autoreload\n"
     ]
    },
    {
     "data": {
      "text/plain": [
       "'/srv/idp-radio-1'"
      ]
     },
     "execution_count": 28,
     "metadata": {},
     "output_type": "execute_result"
    }
   ],
   "source": [
    "import os \n",
    "import datetime\n",
    "from pathlib import Path\n",
    "from dotenv import load_dotenv, find_dotenv\n",
    "import pandas as pd\n",
    "import re\n",
    "\n",
    "basepath = Path(os.getcwd())\n",
    "# make sure your working directory is the repository root.\n",
    "if basepath.name != \"idp-radio-1\":\n",
    "    os.chdir(basepath.parent.parent)\n",
    "load_dotenv(find_dotenv())\n",
    "\n",
    "%load_ext autoreload\n",
    "%autoreload 2\n",
    "os.getcwd()"
   ]
  },
  {
   "cell_type": "code",
   "execution_count": null,
   "metadata": {
    "colab": {},
    "colab_type": "code",
    "id": "GulsNV0epp8H"
   },
   "outputs": [],
   "source": [
    "#!wget http://download.cs.stanford.edu/deep/CheXpert-v1.0-small.zip\n"
   ]
  },
  {
   "cell_type": "code",
   "execution_count": 47,
   "metadata": {
    "colab": {},
    "colab_type": "code",
    "id": "IUY2Onnbq-tZ"
   },
   "outputs": [
    {
     "name": "stdout",
     "output_type": "stream",
     "text": [
      "data/chestxray14/scale_256\n",
      "data/chexpert/preprocessed-256-crop\n"
     ]
    }
   ],
   "source": [
    "load_dotenv(find_dotenv())\n",
    "chestxray14_folder = Path(os.environ.get(\"CHESTXRAY14_DATASET_DIRECTORY\"))\n",
    "chexpert_folder = Path(os.environ.get(\"CHEXPERT_FULL_PREPROCESSED_DATASET_DIRECTORY\"))\n",
    "print(chestxray14_folder)\n",
    "print(chexpert_folder)"
   ]
  },
  {
   "cell_type": "code",
   "execution_count": 51,
   "metadata": {},
   "outputs": [],
   "source": [
    "chestxray14_labels = pd.read_csv(chestxray14_folder / \"meta/data/labels.csv\")\n",
    "chexpert_train_labels = pd.read_csv(chexpert_folder / \"train.csv\")\n",
    "#chexpert_test_labels = pd.read_csv(chexpert_folder / \"test.csv\")"
   ]
  },
  {
   "cell_type": "code",
   "execution_count": null,
   "metadata": {
    "colab": {
     "base_uri": "https://localhost:8080/",
     "height": 606
    },
    "colab_type": "code",
    "executionInfo": {
     "elapsed": 1186,
     "status": "ok",
     "timestamp": 1585501217237,
     "user": {
      "displayName": "Johanna Sommer",
      "photoUrl": "https://lh3.googleusercontent.com/a-/AOh14GjGfqtyC2W0nOhMFT358Gs-LFNNeH3Kbsy-7WLA=s64",
      "userId": "02135907678704961186"
     },
     "user_tz": -120
    },
    "id": "hBZc2lD7BMfB",
    "outputId": "0e6f7cb0-2b21-4f82-8764-31d3e4f9a0df"
   },
   "outputs": [],
   "source": [
    "chestxray14_labels.head()"
   ]
  },
  {
   "cell_type": "code",
   "execution_count": 4,
   "metadata": {},
   "outputs": [
    {
     "data": {
      "text/html": [
       "<div>\n",
       "<style scoped>\n",
       "    .dataframe tbody tr th:only-of-type {\n",
       "        vertical-align: middle;\n",
       "    }\n",
       "\n",
       "    .dataframe tbody tr th {\n",
       "        vertical-align: top;\n",
       "    }\n",
       "\n",
       "    .dataframe thead th {\n",
       "        text-align: right;\n",
       "    }\n",
       "</style>\n",
       "<table border=\"1\" class=\"dataframe\">\n",
       "  <thead>\n",
       "    <tr style=\"text-align: right;\">\n",
       "      <th></th>\n",
       "      <th>Unnamed: 0</th>\n",
       "      <th>Path</th>\n",
       "      <th>Sex</th>\n",
       "      <th>Age</th>\n",
       "      <th>Frontal/Lateral</th>\n",
       "      <th>AP/PA</th>\n",
       "      <th>No Finding</th>\n",
       "      <th>Enlarged Cardiomediastinum</th>\n",
       "      <th>Cardiomegaly</th>\n",
       "      <th>Lung Opacity</th>\n",
       "      <th>...</th>\n",
       "      <th>Edema</th>\n",
       "      <th>Consolidation</th>\n",
       "      <th>Pneumonia</th>\n",
       "      <th>Atelectasis</th>\n",
       "      <th>Pneumothorax</th>\n",
       "      <th>Pleural Effusion</th>\n",
       "      <th>Pleural Other</th>\n",
       "      <th>Fracture</th>\n",
       "      <th>Support Devices</th>\n",
       "      <th>patient_id</th>\n",
       "    </tr>\n",
       "  </thead>\n",
       "  <tbody>\n",
       "    <tr>\n",
       "      <th>0</th>\n",
       "      <td>0</td>\n",
       "      <td>CheXpert-v1.0-small/train/patient00001/study1/...</td>\n",
       "      <td>Female</td>\n",
       "      <td>68</td>\n",
       "      <td>Frontal</td>\n",
       "      <td>AP</td>\n",
       "      <td>1.0</td>\n",
       "      <td>NaN</td>\n",
       "      <td>NaN</td>\n",
       "      <td>NaN</td>\n",
       "      <td>...</td>\n",
       "      <td>NaN</td>\n",
       "      <td>NaN</td>\n",
       "      <td>NaN</td>\n",
       "      <td>NaN</td>\n",
       "      <td>0.0</td>\n",
       "      <td>NaN</td>\n",
       "      <td>NaN</td>\n",
       "      <td>NaN</td>\n",
       "      <td>1.0</td>\n",
       "      <td>1</td>\n",
       "    </tr>\n",
       "    <tr>\n",
       "      <th>1</th>\n",
       "      <td>1</td>\n",
       "      <td>CheXpert-v1.0-small/train/patient00002/study2/...</td>\n",
       "      <td>Female</td>\n",
       "      <td>87</td>\n",
       "      <td>Frontal</td>\n",
       "      <td>AP</td>\n",
       "      <td>NaN</td>\n",
       "      <td>NaN</td>\n",
       "      <td>-1.0</td>\n",
       "      <td>1.0</td>\n",
       "      <td>...</td>\n",
       "      <td>-1.0</td>\n",
       "      <td>-1.0</td>\n",
       "      <td>NaN</td>\n",
       "      <td>-1.0</td>\n",
       "      <td>NaN</td>\n",
       "      <td>-1.0</td>\n",
       "      <td>NaN</td>\n",
       "      <td>1.0</td>\n",
       "      <td>NaN</td>\n",
       "      <td>2</td>\n",
       "    </tr>\n",
       "    <tr>\n",
       "      <th>2</th>\n",
       "      <td>2</td>\n",
       "      <td>CheXpert-v1.0-small/train/patient00002/study1/...</td>\n",
       "      <td>Female</td>\n",
       "      <td>83</td>\n",
       "      <td>Frontal</td>\n",
       "      <td>AP</td>\n",
       "      <td>NaN</td>\n",
       "      <td>NaN</td>\n",
       "      <td>NaN</td>\n",
       "      <td>1.0</td>\n",
       "      <td>...</td>\n",
       "      <td>NaN</td>\n",
       "      <td>-1.0</td>\n",
       "      <td>NaN</td>\n",
       "      <td>NaN</td>\n",
       "      <td>NaN</td>\n",
       "      <td>NaN</td>\n",
       "      <td>NaN</td>\n",
       "      <td>1.0</td>\n",
       "      <td>NaN</td>\n",
       "      <td>2</td>\n",
       "    </tr>\n",
       "    <tr>\n",
       "      <th>3</th>\n",
       "      <td>3</td>\n",
       "      <td>CheXpert-v1.0-small/train/patient00002/study1/...</td>\n",
       "      <td>Female</td>\n",
       "      <td>83</td>\n",
       "      <td>Lateral</td>\n",
       "      <td>NaN</td>\n",
       "      <td>NaN</td>\n",
       "      <td>NaN</td>\n",
       "      <td>NaN</td>\n",
       "      <td>1.0</td>\n",
       "      <td>...</td>\n",
       "      <td>NaN</td>\n",
       "      <td>-1.0</td>\n",
       "      <td>NaN</td>\n",
       "      <td>NaN</td>\n",
       "      <td>NaN</td>\n",
       "      <td>NaN</td>\n",
       "      <td>NaN</td>\n",
       "      <td>1.0</td>\n",
       "      <td>NaN</td>\n",
       "      <td>2</td>\n",
       "    </tr>\n",
       "    <tr>\n",
       "      <th>4</th>\n",
       "      <td>4</td>\n",
       "      <td>CheXpert-v1.0-small/train/patient00003/study1/...</td>\n",
       "      <td>Male</td>\n",
       "      <td>41</td>\n",
       "      <td>Frontal</td>\n",
       "      <td>AP</td>\n",
       "      <td>NaN</td>\n",
       "      <td>NaN</td>\n",
       "      <td>NaN</td>\n",
       "      <td>NaN</td>\n",
       "      <td>...</td>\n",
       "      <td>1.0</td>\n",
       "      <td>NaN</td>\n",
       "      <td>NaN</td>\n",
       "      <td>NaN</td>\n",
       "      <td>0.0</td>\n",
       "      <td>NaN</td>\n",
       "      <td>NaN</td>\n",
       "      <td>NaN</td>\n",
       "      <td>NaN</td>\n",
       "      <td>3</td>\n",
       "    </tr>\n",
       "  </tbody>\n",
       "</table>\n",
       "<p>5 rows × 21 columns</p>\n",
       "</div>"
      ],
      "text/plain": [
       "   Unnamed: 0                                               Path     Sex  Age  \\\n",
       "0           0  CheXpert-v1.0-small/train/patient00001/study1/...  Female   68   \n",
       "1           1  CheXpert-v1.0-small/train/patient00002/study2/...  Female   87   \n",
       "2           2  CheXpert-v1.0-small/train/patient00002/study1/...  Female   83   \n",
       "3           3  CheXpert-v1.0-small/train/patient00002/study1/...  Female   83   \n",
       "4           4  CheXpert-v1.0-small/train/patient00003/study1/...    Male   41   \n",
       "\n",
       "  Frontal/Lateral AP/PA  No Finding  Enlarged Cardiomediastinum  Cardiomegaly  \\\n",
       "0         Frontal    AP         1.0                         NaN           NaN   \n",
       "1         Frontal    AP         NaN                         NaN          -1.0   \n",
       "2         Frontal    AP         NaN                         NaN           NaN   \n",
       "3         Lateral   NaN         NaN                         NaN           NaN   \n",
       "4         Frontal    AP         NaN                         NaN           NaN   \n",
       "\n",
       "   Lung Opacity  ...  Edema  Consolidation  Pneumonia  Atelectasis  \\\n",
       "0           NaN  ...    NaN            NaN        NaN          NaN   \n",
       "1           1.0  ...   -1.0           -1.0        NaN         -1.0   \n",
       "2           1.0  ...    NaN           -1.0        NaN          NaN   \n",
       "3           1.0  ...    NaN           -1.0        NaN          NaN   \n",
       "4           NaN  ...    1.0            NaN        NaN          NaN   \n",
       "\n",
       "   Pneumothorax  Pleural Effusion  Pleural Other  Fracture  Support Devices  \\\n",
       "0           0.0               NaN            NaN       NaN              1.0   \n",
       "1           NaN              -1.0            NaN       1.0              NaN   \n",
       "2           NaN               NaN            NaN       1.0              NaN   \n",
       "3           NaN               NaN            NaN       1.0              NaN   \n",
       "4           0.0               NaN            NaN       NaN              NaN   \n",
       "\n",
       "   patient_id  \n",
       "0           1  \n",
       "1           2  \n",
       "2           2  \n",
       "3           2  \n",
       "4           3  \n",
       "\n",
       "[5 rows x 21 columns]"
      ]
     },
     "execution_count": 4,
     "metadata": {},
     "output_type": "execute_result"
    }
   ],
   "source": [
    "chexpert_train_labels.head()"
   ]
  },
  {
   "cell_type": "code",
   "execution_count": null,
   "metadata": {},
   "outputs": [],
   "source": [
    "chexpert_test_labels.head()"
   ]
  },
  {
   "cell_type": "code",
   "execution_count": null,
   "metadata": {
    "colab": {
     "base_uri": "https://localhost:8080/",
     "height": 626
    },
    "colab_type": "code",
    "executionInfo": {
     "elapsed": 943,
     "status": "ok",
     "timestamp": 1585501217239,
     "user": {
      "displayName": "Johanna Sommer",
      "photoUrl": "https://lh3.googleusercontent.com/a-/AOh14GjGfqtyC2W0nOhMFT358Gs-LFNNeH3Kbsy-7WLA=s64",
      "userId": "02135907678704961186"
     },
     "user_tz": -120
    },
    "id": "-LG4B0YmCNmn",
    "outputId": "6cdf94dc-c746-4731-f793-6d103746e299"
   },
   "outputs": [],
   "source": [
    "!ls data/chexpert/full/CheXpert-v1.0-small/train/patient28746/"
   ]
  },
  {
   "cell_type": "code",
   "execution_count": null,
   "metadata": {
    "colab": {},
    "colab_type": "code",
    "id": "XUVE8pFJD-Wf"
   },
   "outputs": [],
   "source": [
    "def get_patient_id (row):\n",
    "    patient_folder = re.findall(r\"patient[0-9]+\", row[\"Path\"])\n",
    "    if len(patient_folder) > 0:\n",
    "        patient_number = re.findall(r\"[0-9]+\", patient_folder[0])\n",
    "    if len(patient_number) > 0:\n",
    "        return (patient_number[0])"
   ]
  },
  {
   "cell_type": "code",
   "execution_count": null,
   "metadata": {
    "colab": {},
    "colab_type": "code",
    "id": "UOFeRmqcFmdZ"
   },
   "outputs": [],
   "source": [
    "chexpert_train_labels[\"patient_id\"] = chexpert_train_labels.apply(get_patient_id, axis = 1)\n",
    "chexpert_test_labels[\"patient_id\"] = chexpert_test_labels.apply(get_patient_id, axis = 1)\n"
   ]
  },
  {
   "cell_type": "code",
   "execution_count": 54,
   "metadata": {
    "colab": {},
    "colab_type": "code",
    "id": "gHwek0X0HRlv"
   },
   "outputs": [
    {
     "name": "stdout",
     "output_type": "stream",
     "text": [
      "223414\n",
      "95418\n"
     ]
    }
   ],
   "source": [
    "# remove all samples where the parent label is negative\n",
    "print(len(chexpert_train_labels))\n",
    "filterp = chexpert_train_labels[['Lung Opacity', 'Consolidation']].sum(axis=1) > 0 \n",
    "filtered = chexpert_train_labels[filterp]\n",
    "print(len(filtered))\n",
    "filtered.to_csv(chexpert_folder / \"filtered_dependencies.csv\")"
   ]
  },
  {
   "cell_type": "code",
   "execution_count": null,
   "metadata": {},
   "outputs": [],
   "source": [
    "chexpert_train_labels[\"patient_id\"].value_counts()"
   ]
  },
  {
   "cell_type": "code",
   "execution_count": null,
   "metadata": {
    "colab": {
     "base_uri": "https://localhost:8080/",
     "height": 68
    },
    "colab_type": "code",
    "executionInfo": {
     "elapsed": 539,
     "status": "ok",
     "timestamp": 1585501372690,
     "user": {
      "displayName": "Johanna Sommer",
      "photoUrl": "https://lh3.googleusercontent.com/a-/AOh14GjGfqtyC2W0nOhMFT358Gs-LFNNeH3Kbsy-7WLA=s64",
      "userId": "02135907678704961186"
     },
     "user_tz": -120
    },
    "id": "WOZFGM6NIG7w",
    "outputId": "1a050d05-1054-4ae0-e787-2dfa5fc126cf"
   },
   "outputs": [],
   "source": [
    "chexpert_test_labels[\"patient_id\"].value_counts()"
   ]
  },
  {
   "cell_type": "code",
   "execution_count": null,
   "metadata": {
    "colab": {
     "base_uri": "https://localhost:8080/",
     "height": 626
    },
    "colab_type": "code",
    "executionInfo": {
     "elapsed": 537,
     "status": "ok",
     "timestamp": 1585501238566,
     "user": {
      "displayName": "Johanna Sommer",
      "photoUrl": "https://lh3.googleusercontent.com/a-/AOh14GjGfqtyC2W0nOhMFT358Gs-LFNNeH3Kbsy-7WLA=s64",
      "userId": "02135907678704961186"
     },
     "user_tz": -120
    },
    "id": "nhg0COy-Jzza",
    "outputId": "820f263b-3ee6-49c1-82c0-84b04b98a257"
   },
   "outputs": [],
   "source": [
    "#!mkdir ~/idp-radio-1/data/dev_dataset\n",
    "#!mkdir ~/idp-radio-1/data/dev_dataset/CheXpert-v1.0-small\n",
    "#!mkdir ~/idp-radio-1/data/dev_dataset/CheXpert-v1.0-small/train\n",
    "!ls ~/idp-radio-1/data/dev_dataset/CheXpert-v1.0-small/train"
   ]
  },
  {
   "cell_type": "code",
   "execution_count": null,
   "metadata": {
    "colab": {},
    "colab_type": "code",
    "id": "ylSzi8v-LxIr"
   },
   "outputs": [],
   "source": [
    "#chexpert_train_labels.to_csv(chexpert_folder / \"train.csv\")\n",
    "#chexpert_test_labels.to_csv(chexpert_folder / \"test.csv\")"
   ]
  },
  {
   "cell_type": "code",
   "execution_count": null,
   "metadata": {
    "colab": {},
    "colab_type": "code",
    "id": "KMWGEFbjL2u4"
   },
   "outputs": [],
   "source": [
    "chexpert_train_labels.columns"
   ]
  },
  {
   "cell_type": "code",
   "execution_count": null,
   "metadata": {},
   "outputs": [],
   "source": [
    "no_finding_mask_train = chexpert_train_labels[\"No Finding\"] == 1.0\n",
    "#no_finding_mask_test = chexpert_test_labels[\"No Finding\"] == 1.0"
   ]
  },
  {
   "cell_type": "code",
   "execution_count": null,
   "metadata": {},
   "outputs": [],
   "source": [
    "finding_columns = ['Enlarged Cardiomediastinum', 'Cardiomegaly',\n",
    "       'Lung Opacity', 'Lung Lesion', 'Edema', 'Consolidation', 'Pneumonia',\n",
    "       'Atelectasis', 'Pneumothorax', 'Pleural Effusion', 'Pleural Other',\n",
    "       'Fracture']\n",
    "replacement_values = {finding: 0.0 for finding in finding_columns}\n",
    "\n",
    "chexpert_train_labels[no_finding_mask_train] = chexpert_train_labels[no_finding_mask_train].fillna(value=replacement_values)\n",
    "#chexpert_test_labels[no_finding_mask_test] = chexpert_test_labels[no_finding_mask_test].fillna(value=replacement_values)"
   ]
  },
  {
   "cell_type": "code",
   "execution_count": null,
   "metadata": {},
   "outputs": [],
   "source": [
    "chexpert_train_labels[\"No Finding\"].value_counts()"
   ]
  },
  {
   "cell_type": "code",
   "execution_count": null,
   "metadata": {},
   "outputs": [],
   "source": [
    "no_finding_mask_train.value_counts()"
   ]
  },
  {
   "cell_type": "code",
   "execution_count": null,
   "metadata": {},
   "outputs": [],
   "source": [
    "chexpert_train_labels[no_finding_mask_train]"
   ]
  },
  {
   "cell_type": "code",
   "execution_count": null,
   "metadata": {},
   "outputs": [],
   "source": [
    "chexpert_train_labels.to_csv(chexpert_folder / \"nofinding_train.csv\")\n",
    "#chexpert_test_labels.to_csv(chexpert_folder / \"nofinding_test.csv\")"
   ]
  },
  {
   "cell_type": "code",
   "execution_count": null,
   "metadata": {},
   "outputs": [],
   "source": []
  },
  {
   "cell_type": "code",
   "execution_count": null,
   "metadata": {},
   "outputs": [],
   "source": []
  }
 ],
 "metadata": {
  "colab": {
   "name": "Copy of resnet152.ipynb",
   "provenance": [
    {
     "file_id": "1uaxdISvuaRqIqa4OEwDLGt_v51JVgaNB",
     "timestamp": 1585501750661
    }
   ]
  },
  "kernelspec": {
   "display_name": "Python 3",
   "language": "python",
   "name": "python3"
  },
  "language_info": {
   "codemirror_mode": {
    "name": "ipython",
    "version": 3
   },
   "file_extension": ".py",
   "mimetype": "text/x-python",
   "name": "python",
   "nbconvert_exporter": "python",
   "pygments_lexer": "ipython3",
   "version": "3.6.9"
  },
  "pycharm": {
   "stem_cell": {
    "cell_type": "raw",
    "metadata": {
     "collapsed": false
    },
    "source": []
   }
  }
 },
 "nbformat": 4,
 "nbformat_minor": 4
}
